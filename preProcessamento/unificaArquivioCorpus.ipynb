{
 "cells": [
  {
   "cell_type": "markdown",
   "metadata": {},
   "source": [
    "# Realiza o merge de um conjunto de arquivos texto de uma pasta para um único arquivo"
   ]
  },
  {
   "cell_type": "code",
   "execution_count": 2,
   "metadata": {
    "collapsed": true
   },
   "outputs": [],
   "source": [
    "import numpy as np\n",
    "import re\n",
    "import nltk\n",
    "from collections import Counter\n",
    "import os\n",
    "from pathlib import Path\n",
    "import datetime\n",
    "from string import ascii_lowercase\n",
    "import pandas as pd"
   ]
  },
  {
   "cell_type": "code",
   "execution_count": 3,
   "metadata": {},
   "outputs": [
    {
     "name": "stdout",
     "output_type": "stream",
     "text": [
      "Pasta de entrada:  ..\\_corpus\n"
     ]
    }
   ],
   "source": [
    "# Iterando os arquivos da pasta atual\n",
    "import os\n",
    "from pathlib import Path\n",
    "import datetime\n",
    "\n",
    "extensao = \"*.txt\"\n",
    "pastaentrada =  os.path.join(\"..\", \"_corpus\")\n",
    "pastaSaida = os.path.join(\"..\", \"corpus_unificado\")\n",
    "arquivoSaida = os.path.join(pastaSaida, 'corpus_unificado.txt')\n",
    "print(\"Pasta de entrada: \", pastaentrada)\n",
    "\n",
    "tokens = 0\n",
    "sentencas_totais = 0\n",
    "\n",
    "# cria a pasta de saida, se nao existir\n",
    "if not os.path.exists(pastaSaida):\n",
    "    os.makedirs(pastaSaida)"
   ]
  },
  {
   "cell_type": "code",
   "execution_count": 4,
   "metadata": {},
   "outputs": [
    {
     "name": "stdout",
     "output_type": "stream",
     "text": [
      "Lendo o arquivo  ..\\_corpus\\anp_glossarios_final.txt\n",
      "Lendo o arquivo  ..\\_corpus\\anp_notas_estudos_final.txt\n",
      "Lendo o arquivo  ..\\_corpus\\anp_prh_final.txt\n",
      "Lendo o arquivo  ..\\_corpus\\anp_publicacoes_final.txt\n",
      "Lendo o arquivo  ..\\_corpus\\Petrobras-BoletinsTecnicos-Final.txt\n",
      "Tempo total decorrido:  0:00:01.345026\n"
     ]
    }
   ],
   "source": [
    "momentoInicial = datetime.datetime.now()\n",
    "\n",
    "pastaArquivosCorpus = Path(pastaentrada).glob(extensao)\n",
    "\n",
    "for path in pastaArquivosCorpus:\n",
    "    path_arquivo = str(path) # because path is object not string\n",
    "    print(\"Lendo o arquivo \", path_arquivo)\n",
    "    \n",
    "    texto = ''\n",
    "    with open(path_arquivo, 'r', encoding=\"UTF-8\") as f:\n",
    "        texto = f.read()\n",
    "    \n",
    "    with open(arquivoSaida, 'a', encoding='utf8') as fp:\n",
    "        fp.write('%s' % texto)\n",
    "        \n",
    "momentoFinal = datetime.datetime.now()\n",
    "print(\"Tempo total decorrido: \", momentoFinal - momentoInicial)"
   ]
  }
 ],
 "metadata": {
  "kernelspec": {
   "display_name": "Python 3",
   "language": "python",
   "name": "python3"
  },
  "language_info": {
   "codemirror_mode": {
    "name": "ipython",
    "version": 3
   },
   "file_extension": ".py",
   "mimetype": "text/x-python",
   "name": "python",
   "nbconvert_exporter": "python",
   "pygments_lexer": "ipython3",
   "version": "3.6.3"
  }
 },
 "nbformat": 4,
 "nbformat_minor": 2
}
