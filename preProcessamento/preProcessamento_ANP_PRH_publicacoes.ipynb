{
 "cells": [
  {
   "cell_type": "markdown",
   "metadata": {},
   "source": [
    "# Realiza o merge de um conjunto de arquivos texto de uma pasta para um único arquivo, depois aplica as técnicas de pré-processamento e filtros"
   ]
  },
  {
   "cell_type": "code",
   "execution_count": 1,
   "metadata": {
    "collapsed": true
   },
   "outputs": [],
   "source": [
    "import numpy as np\n",
    "import re\n",
    "import nltk\n",
    "from collections import Counter\n",
    "import os\n",
    "from pathlib import Path\n",
    "import datetime\n",
    "from string import ascii_lowercase\n",
    "import pandas as pd"
   ]
  },
  {
   "cell_type": "code",
   "execution_count": 2,
   "metadata": {},
   "outputs": [
    {
     "data": {
      "text/html": [
       "\n",
       "    <div class=\"bk-root\">\n",
       "        <a href=\"https://bokeh.pydata.org\" target=\"_blank\" class=\"bk-logo bk-logo-small bk-logo-notebook\"></a>\n",
       "        <span id=\"7732ab76-5193-4155-929c-c43cfcdcddc8\">Loading BokehJS ...</span>\n",
       "    </div>"
      ]
     },
     "metadata": {},
     "output_type": "display_data"
    },
    {
     "data": {
      "application/javascript": [
       "\n",
       "(function(root) {\n",
       "  function now() {\n",
       "    return new Date();\n",
       "  }\n",
       "\n",
       "  var force = true;\n",
       "\n",
       "  if (typeof (root._bokeh_onload_callbacks) === \"undefined\" || force === true) {\n",
       "    root._bokeh_onload_callbacks = [];\n",
       "    root._bokeh_is_loading = undefined;\n",
       "  }\n",
       "\n",
       "  var JS_MIME_TYPE = 'application/javascript';\n",
       "  var HTML_MIME_TYPE = 'text/html';\n",
       "  var EXEC_MIME_TYPE = 'application/vnd.bokehjs_exec.v0+json';\n",
       "  var CLASS_NAME = 'output_bokeh rendered_html';\n",
       "\n",
       "  /**\n",
       "   * Render data to the DOM node\n",
       "   */\n",
       "  function render(props, node) {\n",
       "    var script = document.createElement(\"script\");\n",
       "    node.appendChild(script);\n",
       "  }\n",
       "\n",
       "  /**\n",
       "   * Handle when an output is cleared or removed\n",
       "   */\n",
       "  function handleClearOutput(event, handle) {\n",
       "    var cell = handle.cell;\n",
       "\n",
       "    var id = cell.output_area._bokeh_element_id;\n",
       "    var server_id = cell.output_area._bokeh_server_id;\n",
       "    // Clean up Bokeh references\n",
       "    if (id !== undefined) {\n",
       "      Bokeh.index[id].model.document.clear();\n",
       "      delete Bokeh.index[id];\n",
       "    }\n",
       "\n",
       "    if (server_id !== undefined) {\n",
       "      // Clean up Bokeh references\n",
       "      var cmd = \"from bokeh.io.state import curstate; print(curstate().uuid_to_server['\" + server_id + \"'].get_sessions()[0].document.roots[0]._id)\";\n",
       "      cell.notebook.kernel.execute(cmd, {\n",
       "        iopub: {\n",
       "          output: function(msg) {\n",
       "            var element_id = msg.content.text.trim();\n",
       "            Bokeh.index[element_id].model.document.clear();\n",
       "            delete Bokeh.index[element_id];\n",
       "          }\n",
       "        }\n",
       "      });\n",
       "      // Destroy server and session\n",
       "      var cmd = \"import bokeh.io.notebook as ion; ion.destroy_server('\" + server_id + \"')\";\n",
       "      cell.notebook.kernel.execute(cmd);\n",
       "    }\n",
       "  }\n",
       "\n",
       "  /**\n",
       "   * Handle when a new output is added\n",
       "   */\n",
       "  function handleAddOutput(event, handle) {\n",
       "    var output_area = handle.output_area;\n",
       "    var output = handle.output;\n",
       "\n",
       "    // limit handleAddOutput to display_data with EXEC_MIME_TYPE content only\n",
       "    if ((output.output_type != \"display_data\") || (!output.data.hasOwnProperty(EXEC_MIME_TYPE))) {\n",
       "      return\n",
       "    }\n",
       "\n",
       "    var toinsert = output_area.element.find(`.${CLASS_NAME.split(' ')[0]}`);\n",
       "\n",
       "    if (output.metadata[EXEC_MIME_TYPE][\"id\"] !== undefined) {\n",
       "      toinsert[0].firstChild.textContent = output.data[JS_MIME_TYPE];\n",
       "      // store reference to embed id on output_area\n",
       "      output_area._bokeh_element_id = output.metadata[EXEC_MIME_TYPE][\"id\"];\n",
       "    }\n",
       "    if (output.metadata[EXEC_MIME_TYPE][\"server_id\"] !== undefined) {\n",
       "      var bk_div = document.createElement(\"div\");\n",
       "      bk_div.innerHTML = output.data[HTML_MIME_TYPE];\n",
       "      var script_attrs = bk_div.children[0].attributes;\n",
       "      for (var i = 0; i < script_attrs.length; i++) {\n",
       "        toinsert[0].firstChild.setAttribute(script_attrs[i].name, script_attrs[i].value);\n",
       "      }\n",
       "      // store reference to server id on output_area\n",
       "      output_area._bokeh_server_id = output.metadata[EXEC_MIME_TYPE][\"server_id\"];\n",
       "    }\n",
       "  }\n",
       "\n",
       "  function register_renderer(events, OutputArea) {\n",
       "\n",
       "    function append_mime(data, metadata, element) {\n",
       "      // create a DOM node to render to\n",
       "      var toinsert = this.create_output_subarea(\n",
       "        metadata,\n",
       "        CLASS_NAME,\n",
       "        EXEC_MIME_TYPE\n",
       "      );\n",
       "      this.keyboard_manager.register_events(toinsert);\n",
       "      // Render to node\n",
       "      var props = {data: data, metadata: metadata[EXEC_MIME_TYPE]};\n",
       "      render(props, toinsert[0]);\n",
       "      element.append(toinsert);\n",
       "      return toinsert\n",
       "    }\n",
       "\n",
       "    /* Handle when an output is cleared or removed */\n",
       "    events.on('clear_output.CodeCell', handleClearOutput);\n",
       "    events.on('delete.Cell', handleClearOutput);\n",
       "\n",
       "    /* Handle when a new output is added */\n",
       "    events.on('output_added.OutputArea', handleAddOutput);\n",
       "\n",
       "    /**\n",
       "     * Register the mime type and append_mime function with output_area\n",
       "     */\n",
       "    OutputArea.prototype.register_mime_type(EXEC_MIME_TYPE, append_mime, {\n",
       "      /* Is output safe? */\n",
       "      safe: true,\n",
       "      /* Index of renderer in `output_area.display_order` */\n",
       "      index: 0\n",
       "    });\n",
       "  }\n",
       "\n",
       "  // register the mime type if in Jupyter Notebook environment and previously unregistered\n",
       "  if (root.Jupyter !== undefined) {\n",
       "    var events = require('base/js/events');\n",
       "    var OutputArea = require('notebook/js/outputarea').OutputArea;\n",
       "\n",
       "    if (OutputArea.prototype.mime_types().indexOf(EXEC_MIME_TYPE) == -1) {\n",
       "      register_renderer(events, OutputArea);\n",
       "    }\n",
       "  }\n",
       "\n",
       "  \n",
       "  if (typeof (root._bokeh_timeout) === \"undefined\" || force === true) {\n",
       "    root._bokeh_timeout = Date.now() + 5000;\n",
       "    root._bokeh_failed_load = false;\n",
       "  }\n",
       "\n",
       "  var NB_LOAD_WARNING = {'data': {'text/html':\n",
       "     \"<div style='background-color: #fdd'>\\n\"+\n",
       "     \"<p>\\n\"+\n",
       "     \"BokehJS does not appear to have successfully loaded. If loading BokehJS from CDN, this \\n\"+\n",
       "     \"may be due to a slow or bad network connection. Possible fixes:\\n\"+\n",
       "     \"</p>\\n\"+\n",
       "     \"<ul>\\n\"+\n",
       "     \"<li>re-rerun `output_notebook()` to attempt to load from CDN again, or</li>\\n\"+\n",
       "     \"<li>use INLINE resources instead, as so:</li>\\n\"+\n",
       "     \"</ul>\\n\"+\n",
       "     \"<code>\\n\"+\n",
       "     \"from bokeh.resources import INLINE\\n\"+\n",
       "     \"output_notebook(resources=INLINE)\\n\"+\n",
       "     \"</code>\\n\"+\n",
       "     \"</div>\"}};\n",
       "\n",
       "  function display_loaded() {\n",
       "    var el = document.getElementById(\"7732ab76-5193-4155-929c-c43cfcdcddc8\");\n",
       "    if (el != null) {\n",
       "      el.textContent = \"BokehJS is loading...\";\n",
       "    }\n",
       "    if (root.Bokeh !== undefined) {\n",
       "      if (el != null) {\n",
       "        el.textContent = \"BokehJS \" + root.Bokeh.version + \" successfully loaded.\";\n",
       "      }\n",
       "    } else if (Date.now() < root._bokeh_timeout) {\n",
       "      setTimeout(display_loaded, 100)\n",
       "    }\n",
       "  }\n",
       "\n",
       "\n",
       "  function run_callbacks() {\n",
       "    try {\n",
       "      root._bokeh_onload_callbacks.forEach(function(callback) { callback() });\n",
       "    }\n",
       "    finally {\n",
       "      delete root._bokeh_onload_callbacks\n",
       "    }\n",
       "    console.info(\"Bokeh: all callbacks have finished\");\n",
       "  }\n",
       "\n",
       "  function load_libs(js_urls, callback) {\n",
       "    root._bokeh_onload_callbacks.push(callback);\n",
       "    if (root._bokeh_is_loading > 0) {\n",
       "      console.log(\"Bokeh: BokehJS is being loaded, scheduling callback at\", now());\n",
       "      return null;\n",
       "    }\n",
       "    if (js_urls == null || js_urls.length === 0) {\n",
       "      run_callbacks();\n",
       "      return null;\n",
       "    }\n",
       "    console.log(\"Bokeh: BokehJS not loaded, scheduling load and callback at\", now());\n",
       "    root._bokeh_is_loading = js_urls.length;\n",
       "    for (var i = 0; i < js_urls.length; i++) {\n",
       "      var url = js_urls[i];\n",
       "      var s = document.createElement('script');\n",
       "      s.src = url;\n",
       "      s.async = false;\n",
       "      s.onreadystatechange = s.onload = function() {\n",
       "        root._bokeh_is_loading--;\n",
       "        if (root._bokeh_is_loading === 0) {\n",
       "          console.log(\"Bokeh: all BokehJS libraries loaded\");\n",
       "          run_callbacks()\n",
       "        }\n",
       "      };\n",
       "      s.onerror = function() {\n",
       "        console.warn(\"failed to load library \" + url);\n",
       "      };\n",
       "      console.log(\"Bokeh: injecting script tag for BokehJS library: \", url);\n",
       "      document.getElementsByTagName(\"head\")[0].appendChild(s);\n",
       "    }\n",
       "  };var element = document.getElementById(\"7732ab76-5193-4155-929c-c43cfcdcddc8\");\n",
       "  if (element == null) {\n",
       "    console.log(\"Bokeh: ERROR: autoload.js configured with elementid '7732ab76-5193-4155-929c-c43cfcdcddc8' but no matching script tag was found. \")\n",
       "    return false;\n",
       "  }\n",
       "\n",
       "  var js_urls = [\"https://cdn.pydata.org/bokeh/release/bokeh-0.12.10.min.js\", \"https://cdn.pydata.org/bokeh/release/bokeh-widgets-0.12.10.min.js\", \"https://cdn.pydata.org/bokeh/release/bokeh-tables-0.12.10.min.js\", \"https://cdn.pydata.org/bokeh/release/bokeh-gl-0.12.10.min.js\"];\n",
       "\n",
       "  var inline_js = [\n",
       "    function(Bokeh) {\n",
       "      Bokeh.set_log_level(\"info\");\n",
       "    },\n",
       "    \n",
       "    function(Bokeh) {\n",
       "      \n",
       "    },\n",
       "    function(Bokeh) {\n",
       "      console.log(\"Bokeh: injecting CSS: https://cdn.pydata.org/bokeh/release/bokeh-0.12.10.min.css\");\n",
       "      Bokeh.embed.inject_css(\"https://cdn.pydata.org/bokeh/release/bokeh-0.12.10.min.css\");\n",
       "      console.log(\"Bokeh: injecting CSS: https://cdn.pydata.org/bokeh/release/bokeh-widgets-0.12.10.min.css\");\n",
       "      Bokeh.embed.inject_css(\"https://cdn.pydata.org/bokeh/release/bokeh-widgets-0.12.10.min.css\");\n",
       "      console.log(\"Bokeh: injecting CSS: https://cdn.pydata.org/bokeh/release/bokeh-tables-0.12.10.min.css\");\n",
       "      Bokeh.embed.inject_css(\"https://cdn.pydata.org/bokeh/release/bokeh-tables-0.12.10.min.css\");\n",
       "    }\n",
       "  ];\n",
       "\n",
       "  function run_inline_js() {\n",
       "    \n",
       "    if ((root.Bokeh !== undefined) || (force === true)) {\n",
       "      for (var i = 0; i < inline_js.length; i++) {\n",
       "        inline_js[i].call(root, root.Bokeh);\n",
       "      }if (force === true) {\n",
       "        display_loaded();\n",
       "      }} else if (Date.now() < root._bokeh_timeout) {\n",
       "      setTimeout(run_inline_js, 100);\n",
       "    } else if (!root._bokeh_failed_load) {\n",
       "      console.log(\"Bokeh: BokehJS failed to load within specified timeout.\");\n",
       "      root._bokeh_failed_load = true;\n",
       "    } else if (force !== true) {\n",
       "      var cell = $(document.getElementById(\"7732ab76-5193-4155-929c-c43cfcdcddc8\")).parents('.cell').data().cell;\n",
       "      cell.output_area.append_execute_result(NB_LOAD_WARNING)\n",
       "    }\n",
       "\n",
       "  }\n",
       "\n",
       "  if (root._bokeh_is_loading === 0) {\n",
       "    console.log(\"Bokeh: BokehJS loaded, going straight to plotting\");\n",
       "    run_inline_js();\n",
       "  } else {\n",
       "    load_libs(js_urls, function() {\n",
       "      console.log(\"Bokeh: BokehJS plotting callback run at\", now());\n",
       "      run_inline_js();\n",
       "    });\n",
       "  }\n",
       "}(window));"
      ],
      "application/vnd.bokehjs_load.v0+json": "\n(function(root) {\n  function now() {\n    return new Date();\n  }\n\n  var force = true;\n\n  if (typeof (root._bokeh_onload_callbacks) === \"undefined\" || force === true) {\n    root._bokeh_onload_callbacks = [];\n    root._bokeh_is_loading = undefined;\n  }\n\n  \n\n  \n  if (typeof (root._bokeh_timeout) === \"undefined\" || force === true) {\n    root._bokeh_timeout = Date.now() + 5000;\n    root._bokeh_failed_load = false;\n  }\n\n  var NB_LOAD_WARNING = {'data': {'text/html':\n     \"<div style='background-color: #fdd'>\\n\"+\n     \"<p>\\n\"+\n     \"BokehJS does not appear to have successfully loaded. If loading BokehJS from CDN, this \\n\"+\n     \"may be due to a slow or bad network connection. Possible fixes:\\n\"+\n     \"</p>\\n\"+\n     \"<ul>\\n\"+\n     \"<li>re-rerun `output_notebook()` to attempt to load from CDN again, or</li>\\n\"+\n     \"<li>use INLINE resources instead, as so:</li>\\n\"+\n     \"</ul>\\n\"+\n     \"<code>\\n\"+\n     \"from bokeh.resources import INLINE\\n\"+\n     \"output_notebook(resources=INLINE)\\n\"+\n     \"</code>\\n\"+\n     \"</div>\"}};\n\n  function display_loaded() {\n    var el = document.getElementById(\"7732ab76-5193-4155-929c-c43cfcdcddc8\");\n    if (el != null) {\n      el.textContent = \"BokehJS is loading...\";\n    }\n    if (root.Bokeh !== undefined) {\n      if (el != null) {\n        el.textContent = \"BokehJS \" + root.Bokeh.version + \" successfully loaded.\";\n      }\n    } else if (Date.now() < root._bokeh_timeout) {\n      setTimeout(display_loaded, 100)\n    }\n  }\n\n\n  function run_callbacks() {\n    try {\n      root._bokeh_onload_callbacks.forEach(function(callback) { callback() });\n    }\n    finally {\n      delete root._bokeh_onload_callbacks\n    }\n    console.info(\"Bokeh: all callbacks have finished\");\n  }\n\n  function load_libs(js_urls, callback) {\n    root._bokeh_onload_callbacks.push(callback);\n    if (root._bokeh_is_loading > 0) {\n      console.log(\"Bokeh: BokehJS is being loaded, scheduling callback at\", now());\n      return null;\n    }\n    if (js_urls == null || js_urls.length === 0) {\n      run_callbacks();\n      return null;\n    }\n    console.log(\"Bokeh: BokehJS not loaded, scheduling load and callback at\", now());\n    root._bokeh_is_loading = js_urls.length;\n    for (var i = 0; i < js_urls.length; i++) {\n      var url = js_urls[i];\n      var s = document.createElement('script');\n      s.src = url;\n      s.async = false;\n      s.onreadystatechange = s.onload = function() {\n        root._bokeh_is_loading--;\n        if (root._bokeh_is_loading === 0) {\n          console.log(\"Bokeh: all BokehJS libraries loaded\");\n          run_callbacks()\n        }\n      };\n      s.onerror = function() {\n        console.warn(\"failed to load library \" + url);\n      };\n      console.log(\"Bokeh: injecting script tag for BokehJS library: \", url);\n      document.getElementsByTagName(\"head\")[0].appendChild(s);\n    }\n  };var element = document.getElementById(\"7732ab76-5193-4155-929c-c43cfcdcddc8\");\n  if (element == null) {\n    console.log(\"Bokeh: ERROR: autoload.js configured with elementid '7732ab76-5193-4155-929c-c43cfcdcddc8' but no matching script tag was found. \")\n    return false;\n  }\n\n  var js_urls = [\"https://cdn.pydata.org/bokeh/release/bokeh-0.12.10.min.js\", \"https://cdn.pydata.org/bokeh/release/bokeh-widgets-0.12.10.min.js\", \"https://cdn.pydata.org/bokeh/release/bokeh-tables-0.12.10.min.js\", \"https://cdn.pydata.org/bokeh/release/bokeh-gl-0.12.10.min.js\"];\n\n  var inline_js = [\n    function(Bokeh) {\n      Bokeh.set_log_level(\"info\");\n    },\n    \n    function(Bokeh) {\n      \n    },\n    function(Bokeh) {\n      console.log(\"Bokeh: injecting CSS: https://cdn.pydata.org/bokeh/release/bokeh-0.12.10.min.css\");\n      Bokeh.embed.inject_css(\"https://cdn.pydata.org/bokeh/release/bokeh-0.12.10.min.css\");\n      console.log(\"Bokeh: injecting CSS: https://cdn.pydata.org/bokeh/release/bokeh-widgets-0.12.10.min.css\");\n      Bokeh.embed.inject_css(\"https://cdn.pydata.org/bokeh/release/bokeh-widgets-0.12.10.min.css\");\n      console.log(\"Bokeh: injecting CSS: https://cdn.pydata.org/bokeh/release/bokeh-tables-0.12.10.min.css\");\n      Bokeh.embed.inject_css(\"https://cdn.pydata.org/bokeh/release/bokeh-tables-0.12.10.min.css\");\n    }\n  ];\n\n  function run_inline_js() {\n    \n    if ((root.Bokeh !== undefined) || (force === true)) {\n      for (var i = 0; i < inline_js.length; i++) {\n        inline_js[i].call(root, root.Bokeh);\n      }if (force === true) {\n        display_loaded();\n      }} else if (Date.now() < root._bokeh_timeout) {\n      setTimeout(run_inline_js, 100);\n    } else if (!root._bokeh_failed_load) {\n      console.log(\"Bokeh: BokehJS failed to load within specified timeout.\");\n      root._bokeh_failed_load = true;\n    } else if (force !== true) {\n      var cell = $(document.getElementById(\"7732ab76-5193-4155-929c-c43cfcdcddc8\")).parents('.cell').data().cell;\n      cell.output_area.append_execute_result(NB_LOAD_WARNING)\n    }\n\n  }\n\n  if (root._bokeh_is_loading === 0) {\n    console.log(\"Bokeh: BokehJS loaded, going straight to plotting\");\n    run_inline_js();\n  } else {\n    load_libs(js_urls, function() {\n      console.log(\"Bokeh: BokehJS plotting callback run at\", now());\n      run_inline_js();\n    });\n  }\n}(window));"
     },
     "metadata": {},
     "output_type": "display_data"
    }
   ],
   "source": [
    "from bokeh.models import ColumnDataSource, LabelSet\n",
    "from bokeh.plotting import figure, show, output_file\n",
    "from bokeh.io import output_notebook\n",
    "output_notebook()"
   ]
  },
  {
   "cell_type": "code",
   "execution_count": 3,
   "metadata": {},
   "outputs": [
    {
     "name": "stdout",
     "output_type": "stream",
     "text": [
      "Pasta de entrada:  ..\\..\\_Corpora\\ANP\\Publicacoes\n"
     ]
    }
   ],
   "source": [
    "# Iterando os arquivos da pasta atual\n",
    "import os\n",
    "from pathlib import Path\n",
    "import datetime\n",
    "\n",
    "extensao = \"*.txt\"\n",
    "pastaentrada =  os.path.join(\"..\", \"..\", \"_Corpora\", \"ANP\", \"Publicacoes\")\n",
    "pastaSaida = \"ANP\"\n",
    "arquivoSaida = os.path.join(pastaSaida, 'anp_publicacoes.txt')\n",
    "arquivoCorpusFinal = os.path.join(pastaSaida, 'anp_publicacoes_final.txt')\n",
    "print(\"Pasta de entrada: \", pastaentrada)\n",
    "\n",
    "tokens = 0\n",
    "sentencas_totais = 0\n",
    "\n",
    "# cria a pasta de saida, se nao existir\n",
    "if not os.path.exists(pastaSaida):\n",
    "    os.makedirs(pastaSaida)"
   ]
  },
  {
   "cell_type": "code",
   "execution_count": 5,
   "metadata": {},
   "outputs": [
    {
     "name": "stdout",
     "output_type": "stream",
     "text": [
      "Lendo o arquivo  ..\\..\\_Corpora\\ANP\\Publicacoes\\200912_BQ_Completo (1).txt\n",
      "Lendo o arquivo  ..\\..\\_Corpora\\ANP\\Publicacoes\\200912_BQ_Completo.txt\n",
      "Lendo o arquivo  ..\\..\\_Corpora\\ANP\\Publicacoes\\2436.txt\n",
      "Lendo o arquivo  ..\\..\\_Corpora\\ANP\\Publicacoes\\33213.txt\n",
      "Lendo o arquivo  ..\\..\\_Corpora\\ANP\\Publicacoes\\36796.txt\n",
      "Lendo o arquivo  ..\\..\\_Corpora\\ANP\\Publicacoes\\38107.txt\n",
      "Lendo o arquivo  ..\\..\\_Corpora\\ANP\\Publicacoes\\38108.txt\n",
      "Lendo o arquivo  ..\\..\\_Corpora\\ANP\\Publicacoes\\39135 (1).txt\n",
      "Lendo o arquivo  ..\\..\\_Corpora\\ANP\\Publicacoes\\39135.txt\n",
      "Lendo o arquivo  ..\\..\\_Corpora\\ANP\\Publicacoes\\40146.txt\n",
      "Lendo o arquivo  ..\\..\\_Corpora\\ANP\\Publicacoes\\41751.txt\n",
      "Lendo o arquivo  ..\\..\\_Corpora\\ANP\\Publicacoes\\43087.txt\n",
      "Lendo o arquivo  ..\\..\\_Corpora\\ANP\\Publicacoes\\57887.txt\n",
      "Lendo o arquivo  ..\\..\\_Corpora\\ANP\\Publicacoes\\58093.txt\n",
      "Lendo o arquivo  ..\\..\\_Corpora\\ANP\\Publicacoes\\59164.txt\n",
      "Lendo o arquivo  ..\\..\\_Corpora\\ANP\\Publicacoes\\59298 (1).txt\n",
      "Lendo o arquivo  ..\\..\\_Corpora\\ANP\\Publicacoes\\59298.txt\n",
      "Lendo o arquivo  ..\\..\\_Corpora\\ANP\\Publicacoes\\59452.txt\n",
      "Lendo o arquivo  ..\\..\\_Corpora\\ANP\\Publicacoes\\62398.txt\n",
      "Lendo o arquivo  ..\\..\\_Corpora\\ANP\\Publicacoes\\63025(0).txt\n",
      "Lendo o arquivo  ..\\..\\_Corpora\\ANP\\Publicacoes\\63027.txt\n",
      "Lendo o arquivo  ..\\..\\_Corpora\\ANP\\Publicacoes\\63073.txt\n",
      "Lendo o arquivo  ..\\..\\_Corpora\\ANP\\Publicacoes\\63245 (1).txt\n",
      "Lendo o arquivo  ..\\..\\_Corpora\\ANP\\Publicacoes\\63245.txt\n",
      "Lendo o arquivo  ..\\..\\_Corpora\\ANP\\Publicacoes\\64193.txt\n",
      "Lendo o arquivo  ..\\..\\_Corpora\\ANP\\Publicacoes\\65297.txt\n",
      "Lendo o arquivo  ..\\..\\_Corpora\\ANP\\Publicacoes\\67471.txt\n",
      "Lendo o arquivo  ..\\..\\_Corpora\\ANP\\Publicacoes\\68463.txt\n",
      "Lendo o arquivo  ..\\..\\_Corpora\\ANP\\Publicacoes\\68644.txt\n",
      "Lendo o arquivo  ..\\..\\_Corpora\\ANP\\Publicacoes\\68904.txt\n",
      "Lendo o arquivo  ..\\..\\_Corpora\\ANP\\Publicacoes\\69225.txt\n",
      "Lendo o arquivo  ..\\..\\_Corpora\\ANP\\Publicacoes\\69498 (1).txt\n",
      "Lendo o arquivo  ..\\..\\_Corpora\\ANP\\Publicacoes\\69498.txt\n",
      "Lendo o arquivo  ..\\..\\_Corpora\\ANP\\Publicacoes\\69597.txt\n",
      "Lendo o arquivo  ..\\..\\_Corpora\\ANP\\Publicacoes\\69915.txt\n",
      "Lendo o arquivo  ..\\..\\_Corpora\\ANP\\Publicacoes\\69966.txt\n",
      "Lendo o arquivo  ..\\..\\_Corpora\\ANP\\Publicacoes\\70240.txt\n",
      "Lendo o arquivo  ..\\..\\_Corpora\\ANP\\Publicacoes\\70549.txt\n",
      "Lendo o arquivo  ..\\..\\_Corpora\\ANP\\Publicacoes\\70932.txt\n",
      "Lendo o arquivo  ..\\..\\_Corpora\\ANP\\Publicacoes\\71236.txt\n",
      "Lendo o arquivo  ..\\..\\_Corpora\\ANP\\Publicacoes\\71780.txt\n",
      "Lendo o arquivo  ..\\..\\_Corpora\\ANP\\Publicacoes\\72104.txt\n",
      "Lendo o arquivo  ..\\..\\_Corpora\\ANP\\Publicacoes\\72544.txt\n",
      "Lendo o arquivo  ..\\..\\_Corpora\\ANP\\Publicacoes\\72587.txt\n",
      "Lendo o arquivo  ..\\..\\_Corpora\\ANP\\Publicacoes\\72878.txt\n",
      "Lendo o arquivo  ..\\..\\_Corpora\\ANP\\Publicacoes\\73180.txt\n",
      "Lendo o arquivo  ..\\..\\_Corpora\\ANP\\Publicacoes\\73191.txt\n",
      "Lendo o arquivo  ..\\..\\_Corpora\\ANP\\Publicacoes\\73195.txt\n",
      "Lendo o arquivo  ..\\..\\_Corpora\\ANP\\Publicacoes\\73441.txt\n",
      "Lendo o arquivo  ..\\..\\_Corpora\\ANP\\Publicacoes\\73460.txt\n",
      "Lendo o arquivo  ..\\..\\_Corpora\\ANP\\Publicacoes\\73774 (1).txt\n",
      "Lendo o arquivo  ..\\..\\_Corpora\\ANP\\Publicacoes\\73774.txt\n",
      "Lendo o arquivo  ..\\..\\_Corpora\\ANP\\Publicacoes\\73903.txt\n",
      "Lendo o arquivo  ..\\..\\_Corpora\\ANP\\Publicacoes\\73920.txt\n",
      "Lendo o arquivo  ..\\..\\_Corpora\\ANP\\Publicacoes\\73964.txt\n",
      "Lendo o arquivo  ..\\..\\_Corpora\\ANP\\Publicacoes\\73978.txt\n",
      "Lendo o arquivo  ..\\..\\_Corpora\\ANP\\Publicacoes\\74324.txt\n",
      "Lendo o arquivo  ..\\..\\_Corpora\\ANP\\Publicacoes\\74901.txt\n",
      "Lendo o arquivo  ..\\..\\_Corpora\\ANP\\Publicacoes\\75421.txt\n",
      "Lendo o arquivo  ..\\..\\_Corpora\\ANP\\Publicacoes\\75885.txt\n",
      "Lendo o arquivo  ..\\..\\_Corpora\\ANP\\Publicacoes\\76152.txt\n",
      "Lendo o arquivo  ..\\..\\_Corpora\\ANP\\Publicacoes\\76354.txt\n",
      "Lendo o arquivo  ..\\..\\_Corpora\\ANP\\Publicacoes\\76980.txt\n",
      "Lendo o arquivo  ..\\..\\_Corpora\\ANP\\Publicacoes\\77409.txt\n",
      "Lendo o arquivo  ..\\..\\_Corpora\\ANP\\Publicacoes\\77816.txt\n",
      "Lendo o arquivo  ..\\..\\_Corpora\\ANP\\Publicacoes\\78135.txt\n",
      "Lendo o arquivo  ..\\..\\_Corpora\\ANP\\Publicacoes\\78223.txt\n",
      "Lendo o arquivo  ..\\..\\_Corpora\\ANP\\Publicacoes\\78564.txt\n",
      "Lendo o arquivo  ..\\..\\_Corpora\\ANP\\Publicacoes\\78851.txt\n",
      "Lendo o arquivo  ..\\..\\_Corpora\\ANP\\Publicacoes\\79266.txt\n",
      "Lendo o arquivo  ..\\..\\_Corpora\\ANP\\Publicacoes\\79387.txt\n",
      "Lendo o arquivo  ..\\..\\_Corpora\\ANP\\Publicacoes\\79667.txt\n",
      "Lendo o arquivo  ..\\..\\_Corpora\\ANP\\Publicacoes\\79841 (1).txt\n",
      "Lendo o arquivo  ..\\..\\_Corpora\\ANP\\Publicacoes\\79841.txt\n",
      "Lendo o arquivo  ..\\..\\_Corpora\\ANP\\Publicacoes\\80129.txt\n",
      "Lendo o arquivo  ..\\..\\_Corpora\\ANP\\Publicacoes\\80621.txt\n",
      "Lendo o arquivo  ..\\..\\_Corpora\\ANP\\Publicacoes\\80939.txt\n",
      "Lendo o arquivo  ..\\..\\_Corpora\\ANP\\Publicacoes\\81021.txt\n",
      "Lendo o arquivo  ..\\..\\_Corpora\\ANP\\Publicacoes\\81522.txt\n",
      "Lendo o arquivo  ..\\..\\_Corpora\\ANP\\Publicacoes\\82395.txt\n",
      "Lendo o arquivo  ..\\..\\_Corpora\\ANP\\Publicacoes\\82605.txt\n",
      "Lendo o arquivo  ..\\..\\_Corpora\\ANP\\Publicacoes\\82993.txt\n",
      "Lendo o arquivo  ..\\..\\_Corpora\\ANP\\Publicacoes\\83247.txt\n",
      "Lendo o arquivo  ..\\..\\_Corpora\\ANP\\Publicacoes\\anuario_2017.txt\n",
      "Lendo o arquivo  ..\\..\\_Corpora\\ANP\\Publicacoes\\anuario_anp_2008.txt\n",
      "Lendo o arquivo  ..\\..\\_Corpora\\ANP\\Publicacoes\\anuario_anp_2009.txt\n",
      "Lendo o arquivo  ..\\..\\_Corpora\\ANP\\Publicacoes\\Anuario_Estatistico_ANP_2016.txt\n",
      "Lendo o arquivo  ..\\..\\_Corpora\\ANP\\Publicacoes\\Boletim de Biodiesel_SRP_janeiro2010.txt\n",
      "Lendo o arquivo  ..\\..\\_Corpora\\ANP\\Publicacoes\\Boletim-2012.txt\n",
      "Lendo o arquivo  ..\\..\\_Corpora\\ANP\\Publicacoes\\Boletim-2013.txt\n",
      "Lendo o arquivo  ..\\..\\_Corpora\\ANP\\Publicacoes\\Boletim-2014.txt\n",
      "Lendo o arquivo  ..\\..\\_Corpora\\ANP\\Publicacoes\\Boletim-2015.txt\n",
      "Lendo o arquivo  ..\\..\\_Corpora\\ANP\\Publicacoes\\Boletim-2016.txt\n",
      "Lendo o arquivo  ..\\..\\_Corpora\\ANP\\Publicacoes\\Boletim-de-Lubrificantes_Dezembro2017.txt\n",
      "Lendo o arquivo  ..\\..\\_Corpora\\ANP\\Publicacoes\\Boletim-de-Lubrificantes_Fevereiro2018.txt\n",
      "Lendo o arquivo  ..\\..\\_Corpora\\ANP\\Publicacoes\\Boletim-Lubrificantes_dezembro2016_24-04-2017.txt\n",
      "Lendo o arquivo  ..\\..\\_Corpora\\ANP\\Publicacoes\\Boletim-Lubrificantes_maio2017_25-05-2017.txt\n",
      "Lendo o arquivo  ..\\..\\_Corpora\\ANP\\Publicacoes\\Boletim-Lubrificantes_marco2017_25-04-2017.txt\n",
      "Lendo o arquivo  ..\\..\\_Corpora\\ANP\\Publicacoes\\Boletim-Producao_Dezembro_2017.txt\n",
      "Lendo o arquivo  ..\\..\\_Corpora\\ANP\\Publicacoes\\Boletim_Biodiesel_DEZEMBRO_2008.txt\n",
      "Lendo o arquivo  ..\\..\\_Corpora\\ANP\\Publicacoes\\Boletim_Biodiesel_Janeiro_2016.txt\n",
      "Lendo o arquivo  ..\\..\\_Corpora\\ANP\\Publicacoes\\Boletim_Biodiesel_JANEIRO_2017.txt\n",
      "Lendo o arquivo  ..\\..\\_Corpora\\ANP\\Publicacoes\\boletim_de_dezembro-2016.txt\n",
      "Lendo o arquivo  ..\\..\\_Corpora\\ANP\\Publicacoes\\Boletim_do_Etanol_No05_OUTUBRO_2015.txt\n",
      "Lendo o arquivo  ..\\..\\_Corpora\\ANP\\Publicacoes\\Boletim_do_Etanol_No09_FEVEREIRO_2017.txt\n",
      "Lendo o arquivo  ..\\..\\_Corpora\\ANP\\Publicacoes\\Boletim_eletronico_n113-2017.txt\n",
      "Lendo o arquivo  ..\\..\\_Corpora\\ANP\\Publicacoes\\Boletim_Fiscalizacao_do_Abastecimento_em_Noticias_No03-2012.txt\n",
      "Lendo o arquivo  ..\\..\\_Corpora\\ANP\\Publicacoes\\Boletim_Fiscalizacao_do_Abastecimento_em_Noticias_No05-2013.txt\n",
      "Lendo o arquivo  ..\\..\\_Corpora\\ANP\\Publicacoes\\Boletim_Fiscalizacao_do_Abastecimento_em_Noticias_No07-2014.txt\n",
      "Lendo o arquivo  ..\\..\\_Corpora\\ANP\\Publicacoes\\Boletim_Fiscalizacao_do_Abastecimento_em_Noticias_No09-2015.txt\n",
      "Lendo o arquivo  ..\\..\\_Corpora\\ANP\\Publicacoes\\Boletim_Fiscalizacao_do_Abastecimento_em_Noticias_No11-2016.txt\n",
      "Lendo o arquivo  ..\\..\\_Corpora\\ANP\\Publicacoes\\Boletim_Fiscalizacao_do_Abastecimento_em_Noticias_No12-2017.txt\n",
      "Lendo o arquivo  ..\\..\\_Corpora\\ANP\\Publicacoes\\Boletim_Mensal_de_Biodiesel_jan09.txt\n",
      "Lendo o arquivo  ..\\..\\_Corpora\\ANP\\Publicacoes\\Boletim_n52.txt\n",
      "Lendo o arquivo  ..\\..\\_Corpora\\ANP\\Publicacoes\\Boletim_n53.txt\n",
      "Lendo o arquivo  ..\\..\\_Corpora\\ANP\\Publicacoes\\Boletim_n54.txt\n",
      "Lendo o arquivo  ..\\..\\_Corpora\\ANP\\Publicacoes\\Boletim_n55.txt\n",
      "Lendo o arquivo  ..\\..\\_Corpora\\ANP\\Publicacoes\\Boletim_n56.txt\n",
      "Lendo o arquivo  ..\\..\\_Corpora\\ANP\\Publicacoes\\Boletim_PD-e-I_Ed41_1trimestre2017.txt\n",
      "Lendo o arquivo  ..\\..\\_Corpora\\ANP\\Publicacoes\\Boletim_PD-e-I_Ed42_2trimestre2017.txt\n",
      "Lendo o arquivo  ..\\..\\_Corpora\\ANP\\Publicacoes\\Boletim_PD-e-I_Ed43_3trimestre2017.txt\n",
      "Lendo o arquivo  ..\\..\\_Corpora\\ANP\\Publicacoes\\Boletim_PD-e-I_Ed44_4trimestre2017.txt\n",
      "Lendo o arquivo  ..\\..\\_Corpora\\ANP\\Publicacoes\\boletim_petroleo_e_pd39.txt\n",
      "Lendo o arquivo  ..\\..\\_Corpora\\ANP\\Publicacoes\\Boletim_Petroleo_e_PD40-LM_D.txt\n",
      "Lendo o arquivo  ..\\..\\_Corpora\\ANP\\Publicacoes\\Boletim_PML_ANP_2007_08_Dez.txt\n",
      "Lendo o arquivo  ..\\..\\_Corpora\\ANP\\Publicacoes\\Boletim_PML_ANP_2008_12_Dez.txt\n",
      "Lendo o arquivo  ..\\..\\_Corpora\\ANP\\Publicacoes\\Boletim_PML_ANP_2009_12_Dez.txt\n",
      "Lendo o arquivo  ..\\..\\_Corpora\\ANP\\Publicacoes\\Boletim_PML_ANP_2010_12_Dez.txt\n",
      "Lendo o arquivo  ..\\..\\_Corpora\\ANP\\Publicacoes\\Boletim_PML_ANP_2011_09_Nov_Dez.txt\n",
      "Lendo o arquivo  ..\\..\\_Corpora\\ANP\\Publicacoes\\Boletim_PML_ANP_2012_06_Nov_Dez.txt\n",
      "Lendo o arquivo  ..\\..\\_Corpora\\ANP\\Publicacoes\\Boletim_PML_ANP_2013_06_Nov_Dez.txt\n",
      "Lendo o arquivo  ..\\..\\_Corpora\\ANP\\Publicacoes\\Boletim_PML_ANP_2014_04_Jul_Ago.txt\n",
      "Lendo o arquivo  ..\\..\\_Corpora\\ANP\\Publicacoes\\Boletim_PML_ANP_2016_01_Nov.txt\n",
      "Lendo o arquivo  ..\\..\\_Corpora\\ANP\\Publicacoes\\Boletim_PML_ANP_2017_05_Dez.txt\n",
      "Lendo o arquivo  ..\\..\\_Corpora\\ANP\\Publicacoes\\Boletim_Reservas_2015.txt\n",
      "Lendo o arquivo  ..\\..\\_Corpora\\ANP\\Publicacoes\\Boletim_Reservas_2016.txt\n",
      "Lendo o arquivo  ..\\..\\_Corpora\\ANP\\Publicacoes\\BQ_12_08 (1).txt\n",
      "Lendo o arquivo  ..\\..\\_Corpora\\ANP\\Publicacoes\\BQ_12_08.txt\n",
      "Lendo o arquivo  ..\\..\\_Corpora\\ANP\\Publicacoes\\BQ_COMBUSTIVEIS_012018.txt\n",
      "Lendo o arquivo  ..\\..\\_Corpora\\ANP\\Publicacoes\\BQ_COMBUSTIVEIS_122017.txt\n",
      "Lendo o arquivo  ..\\..\\_Corpora\\ANP\\Publicacoes\\BQ_COMBUSTIVEIS_201612_rev (1).txt\n",
      "Lendo o arquivo  ..\\..\\_Corpora\\ANP\\Publicacoes\\BQ_COMBUSTIVEIS_201612_rev.txt\n",
      "Lendo o arquivo  ..\\..\\_Corpora\\ANP\\Publicacoes\\Cartilha_Posto_Revendedor_de_Combustiveis_6a_ed.txt\n",
      "Lendo o arquivo  ..\\..\\_Corpora\\ANP\\Publicacoes\\CI_n_1.txt\n",
      "Lendo o arquivo  ..\\..\\_Corpora\\ANP\\Publicacoes\\CI_n_16.txt\n",
      "Lendo o arquivo  ..\\..\\_Corpora\\ANP\\Publicacoes\\CI_n_19.txt\n",
      "Lendo o arquivo  ..\\..\\_Corpora\\ANP\\Publicacoes\\CI_n_23.txt\n",
      "Lendo o arquivo  ..\\..\\_Corpora\\ANP\\Publicacoes\\CI_n_27.txt\n",
      "Lendo o arquivo  ..\\..\\_Corpora\\ANP\\Publicacoes\\CI_n_31.txt\n",
      "Lendo o arquivo  ..\\..\\_Corpora\\ANP\\Publicacoes\\CI_n_35.txt\n",
      "Lendo o arquivo  ..\\..\\_Corpora\\ANP\\Publicacoes\\CI_n_39.txt\n",
      "Lendo o arquivo  ..\\..\\_Corpora\\ANP\\Publicacoes\\CI_n_41.txt\n",
      "Lendo o arquivo  ..\\..\\_Corpora\\ANP\\Publicacoes\\CI_n_42.txt\n",
      "Lendo o arquivo  ..\\..\\_Corpora\\ANP\\Publicacoes\\CI_n_7.txt\n",
      "Lendo o arquivo  ..\\..\\_Corpora\\ANP\\Publicacoes\\Dados-Reservas_2008.txt\n",
      "Lendo o arquivo  ..\\..\\_Corpora\\ANP\\Publicacoes\\Dados-Reservas_2009.txt\n",
      "Lendo o arquivo  ..\\..\\_Corpora\\ANP\\Publicacoes\\Dados-Reservas_2010.txt\n",
      "Lendo o arquivo  ..\\..\\_Corpora\\ANP\\Publicacoes\\Dados-Reservas_2011.txt\n",
      "Lendo o arquivo  ..\\..\\_Corpora\\ANP\\Publicacoes\\Dados-Reservas_2012.txt\n",
      "Lendo o arquivo  ..\\..\\_Corpora\\ANP\\Publicacoes\\Dados-Reservas_2013.txt\n"
     ]
    },
    {
     "name": "stdout",
     "output_type": "stream",
     "text": [
      "Lendo o arquivo  ..\\..\\_Corpora\\ANP\\Publicacoes\\Dados-Reservas_2014.txt\n",
      "Lendo o arquivo  ..\\..\\_Corpora\\ANP\\Publicacoes\\industria_gas_2001.txt\n",
      "Lendo o arquivo  ..\\..\\_Corpora\\ANP\\Publicacoes\\Livreto_Oportunidades_na_Producao_e_no_Abastecimento_v3.txt\n",
      "Lendo o arquivo  ..\\..\\_Corpora\\ANP\\Publicacoes\\Livreto_Upstream_2018-P.txt\n",
      "Lendo o arquivo  ..\\..\\_Corpora\\ANP\\Publicacoes\\livro-petroleo-e-estado-ANP.txt\n",
      "Lendo o arquivo  ..\\..\\_Corpora\\ANP\\Publicacoes\\Oportunidades-no-Setor-de-Petroleo-e-Gas-Natural-no-Brasil_v3.txt\n",
      "Lendo o arquivo  ..\\..\\_Corpora\\ANP\\Publicacoes\\Panorama_do_Abastecimento2016.txt\n",
      "Lendo o arquivo  ..\\..\\_Corpora\\ANP\\Publicacoes\\Panorama_do_Abastecimento2017.txt\n",
      "Lendo o arquivo  ..\\..\\_Corpora\\ANP\\Publicacoes\\publicacoesperspectivas_refino_2002.txt\n",
      "Tempo total decorrido:  0:00:00.437000\n"
     ]
    }
   ],
   "source": [
    "momentoInicial = datetime.datetime.now()\n",
    "\n",
    "pastaArquivosCorpus = Path(pastaentrada).glob(extensao)\n",
    "\n",
    "for path in pastaArquivosCorpus:\n",
    "    path_arquivo = str(path) # because path is object not string\n",
    "    print(\"Lendo o arquivo \", path_arquivo)\n",
    "    \n",
    "    texto = ''\n",
    "    with open(path_arquivo, 'r', encoding=\"UTF-8\") as f:\n",
    "        texto = f.read()\n",
    "    \n",
    "    with open(arquivoSaida, 'a', encoding='utf8') as fp:\n",
    "        fp.write('%s' % texto)\n",
    "        \n",
    "momentoFinal = datetime.datetime.now()\n",
    "print(\"Tempo total decorrido: \", momentoFinal - momentoInicial)"
   ]
  },
  {
   "cell_type": "code",
   "execution_count": 6,
   "metadata": {
    "collapsed": true
   },
   "outputs": [],
   "source": [
    "def leTextoDeArquivo(arquivoEntrada):\n",
    "    with open(arquivoEntrada, 'r', encoding=\"UTF-8\") as f:\n",
    "        texto = f.read()\n",
    "        \n",
    "    #print(texto[:200])\n",
    "    return texto"
   ]
  },
  {
   "cell_type": "code",
   "execution_count": 7,
   "metadata": {
    "collapsed": true
   },
   "outputs": [],
   "source": [
    "def gravaArquivo(fileName, texto):\n",
    "    with open(fileName, 'w', encoding='utf8') as fp:\n",
    "        fp.write('%s\\n' % texto)"
   ]
  },
  {
   "cell_type": "code",
   "execution_count": 8,
   "metadata": {
    "collapsed": true
   },
   "outputs": [],
   "source": [
    "def imprime_info_corpus(texto, plot=False):\n",
    "    word_counts = Counter()\n",
    "    tokens_totais = 0\n",
    "    # Tokenize and remove short and malformed sentences.\n",
    "    for sent in texto.split():\n",
    "        #print(sent)\n",
    "        tokens_totais += sent.count(' ') + 1\n",
    "        word_counts[sent] += 1\n",
    "        \n",
    "    print('Total de tokens analisados: ', \"{:,}\".format(tokens_totais))\n",
    "    print('Tamanho do Vocabulário: ', \"{:,}\".format(len(word_counts)))\n",
    "    print(\"\\n\")\n",
    "    print(word_counts.most_common(300))\n",
    "    \n",
    "    most_common = []\n",
    "    for common_word in word_counts.most_common(1000):\n",
    "        most_common.append(common_word[1])\n",
    "\n",
    "    if plot:\n",
    "        hist, edges = np.histogram(most_common, density=True, bins=100, normed=True)\n",
    "\n",
    "        p = figure(tools=\"pan,wheel_zoom,reset,save\",\n",
    "                   toolbar_location=\"above\",\n",
    "                   title=\"Top-1000 words distribution\")\n",
    "        p.quad(top=hist, bottom=0, left=edges[:-1], right=edges[1:], line_color=\"#555555\")\n",
    "        show(p)  "
   ]
  },
  {
   "cell_type": "code",
   "execution_count": 9,
   "metadata": {
    "collapsed": true
   },
   "outputs": [],
   "source": [
    "texto = leTextoDeArquivo(arquivoSaida)"
   ]
  },
  {
   "cell_type": "code",
   "execution_count": 10,
   "metadata": {},
   "outputs": [
    {
     "name": "stdout",
     "output_type": "stream",
     "text": [
      "Total de tokens analisados:  2,415,849\n",
      "Tamanho do Vocabulário:  155,345\n",
      "\n",
      "\n",
      "[('de', 128511), ('e', 51596), ('-', 42417), ('a', 39909), ('do', 33261), ('o', 25416), ('da', 23788), ('em', 21571), ('0', 14656), ('para', 14336), ('–', 14268), ('no', 13740), ('que', 13171), ('dos', 11310), ('com', 10259), ('1', 10042), ('por', 8666), ('os', 8657), ('na', 8420), ('2', 8278), ('ANP', 7983), ('A', 7894), ('as', 7869), ('das', 7482), ('gás', 6587), ('ao', 6349), ('Rio', 6205), ('3', 5822), ('0,0', 5698), ('DE', 5693), ('produção', 5614), ('O', 5585), ('não', 5583), ('petróleo', 5509), ('E', 5502), ('Terra', 5321), ('(100)', 5316), ('à', 5197), ('Petróleo', 5101), ('NT', 4713), ('um', 4557), ('é', 4551), ('ou', 4539), ('4', 4289), ('Mar', 4208), ('Brasil', 4155), ('pela', 4152), ('preços', 4137), ('Ltda.', 4112), ('NC', 4090), ('5', 4069), ('nº', 4043), ('i', 3966), ('como', 3948), ('uma', 3948), ('6', 3918), (',', 3880), ('óleo', 3840), ('7', 3814), ('r', 3702), ('Rodada', 3598), ('9', 3583), ('DO', 3571), ('Gás', 3529), ('foi', 3418), ('nos', 3376), ('natural', 3286), ('Petrobras1', 3211), ('se', 3100), ('São', 2989), ('8', 2893), ('mercado', 2857), ('mais', 2827), ('Região', 2747), ('s', 2739), ('Norte', 2697), ('GÁS', 2643), ('Óleo', 2637), ('entre', 2631), ('ser', 2592), ('d', 2567), ('Janeiro', 2514), ('2010', 2514), ('Sul', 2489), ('Nº', 2480), ('NATURAL', 2455), ('l', 2453), ('%', 2452), ('DOU', 2436), ('Grande', 2388), ('2013', 2365), ('etanol', 2357), ('Em', 2354), ('SP', 2342), ('t', 2342), ('nas', 2324), ('n', 2314), ('Petrobras', 2311), ('2011', 2311), ('total', 2300), ('Distribuidora', 2243), ('Fonte:', 2237), ('segundo', 2235), ('2014', 2228), ('gasolina', 2219), ('2008', 2212), ('pelo', 2205), ('amostras', 2201), ('milhões', 2149), ('Resolução', 2142), ('10', 2115), ('2012', 2111), ('são', 2101), ('combustíveis', 2090), ('2009', 2070), ('Natural', 2068), ('Produção', 2041), ('n°', 2021), ('diesel', 1997), ('foram', 1994), ('Etanol', 1978), ('maior', 1966), ('sua', 1954), ('Gasolina', 1901), ('2007', 1898), ('Combustíveis', 1880), ('m', 1875), ('Boletim', 1857), ('BIOCOMBUSTÍVEIS', 1818), ('PETRÓLEO,', 1800), ('11', 1765), ('conforme', 1763), ('petróleo,', 1761), ('sobre', 1760), ('derivados', 1757), ('Outros', 1740), ('relação', 1732), ('Os', 1715), ('Diesel', 1715), ('/', 1698), ('Bahia', 1697), ('partir', 1696), ('u', 1692), ('12', 1682), ('combustível', 1649), ('2015', 1648), ('...', 1620), ('Total', 1579), ('Santo', 1577), ('2006', 1576), ('S', 1562), ('ano', 1552), ('Gráfico', 1530), ('aos', 1529), ('dados', 1525), ('Espírito', 1518), ('Petrobras¹', 1477), ('mil', 1475), ('Nacional', 1472), ('consumo', 1458), ('No', 1451), ('volume', 1451), ('Paulo', 1410), ('às', 1408), ('15', 1402), ('P', 1394), ('Qualidade', 1391), ('capacidade', 1388), ('20', 1375), ('..', 1368), ('S.A.', 1367), ('em:', 1367), ('Dezembro', 1361), ('natural,', 1359), ('As', 1346), ('aumento', 1345), ('até', 1314), ('C', 1307), ('c', 1292), ('DA', 1289), ('preço', 1285), ('empresas', 1285), ('I', 1284), ('Tabela', 1279), ('2016', 1277), ('RJ', 1272), ('vendas', 1260), ('13', 1248), ('BRASILEIRO', 1247), ('14', 1246), ('também', 1243), ('Portaria', 1237), ('ESTATÍSTICO', 1229), ('ANUÁRIO', 1226), ('TOTAL', 1212), ('Número', 1210), ('b', 1207), ('2005', 1206), ('regiões', 1205), ('nacional', 1201), ('desenvolvimento', 1152), ('40', 1150), ('unidades', 1146), ('região', 1136), ('PETRÓLEO', 1129), ('parte', 1117), ('B', 1100), ('países', 1089), ('Campos', 1083), ('pode', 1083), ('indústria', 1082), ('US$', 1082), ('pelos', 1078), ('atividades', 1075), ('R', 1073), ('16', 1072), ('cada', 1071), ('Destilação', 1062), ('30', 1060), ('18', 1059), ('conformidade', 1052), ('17', 1050), ('ANP,', 1040), ('R$', 1039), ('m3', 1036), ('Lei', 1035), ('Produtos', 1022), ('distribuição', 1018), ('bilhões', 1011), ('Preços', 998), ('(', 992), ('reservas', 983), ('pelas', 978), ('Não', 977), ('NACIONAL', 977), ('outros', 971), ('2004', 969), ('participação', 965), ('biodiesel', 965), ('Regiões', 964), ('Estado', 963), ('exploração', 948), ('19', 941), ('tipo', 940), ('PRODUÇÃO', 940), ('Sergipe', 939), ('GLP', 936), ('período', 930), ('Federação', 930), ('áreas', 929), ('demanda', 929), ('já', 919), ('sendo', 917), ('seus', 914), ('Federal', 910), ('meio', 909), ('2.', 908), ('acordo', 904), ('Agência', 899), ('campos', 897), ('qualidade', 894), ('crescimento', 893), ('seu', 892), ('.', 892), ('Santos', 892), ('M', 889), ('0,6', 878), ('médio', 875), ('D', 870), ('21', 865), ('22', 864), ('recursos', 863), ('mês', 862), ('25', 860), ('Dados', 859), ('valor', 856), ('24', 851), ('apenas', 845), ('produtores', 839), ('p', 835), ('número', 833), ('(de', 833), ('que,', 829), ('100.0', 828), ('PR', 824), ('1,1', 822), ('Resultados', 815), ('projetos', 815), ('estão', 811), ('FONTE:', 810), ('transporte', 808), ('AC', 807), ('produto', 805), ('Biocombustíveis', 804), ('Alagoas', 803), ('Santa', 803), ('pesquisa', 803), ('Programa', 802), ('setor', 801), ('coletadas', 801)]\n"
     ]
    }
   ],
   "source": [
    "imprime_info_corpus(texto)"
   ]
  },
  {
   "cell_type": "markdown",
   "metadata": {},
   "source": [
    "## Eliminando caracteres acentuados\n",
    "\n",
    "Observou-se a ocorrência de muitas palavras com divergência de acentuação (a mesma palavra ocorria escrita com e sem acentos). O agrupamento ajudou a identificar corretamente a grafia de uma mesma palavra."
   ]
  },
  {
   "cell_type": "code",
   "execution_count": 11,
   "metadata": {
    "collapsed": true
   },
   "outputs": [],
   "source": [
    "texto = str(texto.lower())\n",
    "import unicodedata\n",
    "nfkd_form = unicodedata.normalize('NFKD', texto)\n",
    "texto= u\"\".join([c for c in nfkd_form if not unicodedata.combining(c)])\n",
    "#print(\"\\nDepois: \", texto[15000:17000])"
   ]
  },
  {
   "cell_type": "code",
   "execution_count": 12,
   "metadata": {},
   "outputs": [
    {
     "name": "stdout",
     "output_type": "stream",
     "text": [
      "Total de tokens analisados:  2,415,896\n",
      "Tamanho do Vocabulário:  143,390\n",
      "\n",
      "\n",
      "[('de', 134750), ('e', 62213), ('a', 53614), ('-', 42417), ('do', 37019), ('o', 31588), ('da', 25217), ('em', 24390), ('no', 21974), ('para', 15605), ('0', 14656), ('–', 14268), ('gas', 13220), ('que', 13190), ('petroleo', 11851), ('dos', 11717), ('com', 11044), ('as', 10662), ('os', 10388), ('1', 10101), ('por', 9675), ('na', 9328), ('producao', 8597), ('2', 8298), ('anp', 8056), ('natural', 7812), ('das', 7758), ('nao', 6802), ('ao', 6766), ('oleo', 6754), ('rio', 6441), ('3', 6013), ('0,0', 5698), ('terra', 5540), ('i', 5521), ('(100)', 5316), ('sao', 5287), ('precos', 5283), ('total', 5091), ('brasil', 4817), ('r', 4775), ('um', 4735), ('etanol', 4718), ('nt', 4718), ('petrobras1', 4688), ('ou', 4671), ('ltda.', 4547), ('mar', 4505), ('como', 4401), ('s', 4333), ('petroleo,', 4314), ('4', 4289), ('pela', 4286), ('gasolina', 4282), ('uma', 4244), ('combustiveis', 4224), ('regiao', 4178), ('nc', 4090), ('5', 4069), ('6', 3918), (',', 3881), ('diesel', 3874), ('7', 3814), ('rodada', 3701), ('nacional', 3651), ('nos', 3615), ('9', 3583), ('foi', 3554), ('se', 3482), ('d', 3449), ('janeiro', 3269), ('t', 3065), ('fonte:', 3059), ('segundo', 3058), ('n', 3054), ('mercado', 3033), ('grande', 2992), ('resolucao', 2958), ('l', 2952), ('mais', 2932), ('norte', 2907), ('entre', 2898), ('8', 2893), ('biocombustiveis', 2866), ('c', 2859), ('derivados', 2786), ('sul', 2771), ('m', 2764), ('outros', 2751), ('regioes', 2730), ('ser', 2594), ('n°', 2526), ('2010', 2514), ('nas', 2506), ('petrobras', 2483), ('dou', 2456), ('%', 2452), ('qualidade', 2432), ('unidades', 2413), ('industria', 2409), ('dados', 2406), ('2013', 2365), ('distribuidora', 2364), ('amostras', 2348), ('sp', 2346), ('boletim', 2313), ('2011', 2311), ('b', 2307), ('u', 2266), ('milhoes', 2258), ('dezembro', 2237), ('pelo', 2234), ('p', 2229), ('2014', 2228), ('2008', 2212), ('campos', 2198), ('foram', 2160), ('volume', 2156), ('ano', 2143), ('tabela', 2132), ('10', 2115), ('2012', 2111), ('numero', 2106), ('grafico', 2093), ('capacidade', 2090), ('2009', 2070), ('vendas', 2053), ('preco', 2007), ('sua', 2001), ('maior', 1993), ('produtos', 1961), ('combustivel', 1958), ('consumo', 1954), ('distribuicao', 1935), ('biodiesel', 1919), ('relacao', 1898), ('2007', 1898), ('desenvolvimento', 1894), ('conforme', 1887), ('sobre', 1832), ('11', 1765), ('bahia', 1739), ('participacao', 1731), ('partir', 1717), ('/', 1698), ('brasileiro', 1688), ('12', 1682), ('santo', 1663), ('recursos', 1656), ('2015', 1648), ('m3', 1630), ('...', 1621), ('exploracao', 1603), ('lubrificantes', 1600), ('reservas', 1594), ('estado', 1583), ('espirito', 1583), ('2006', 1576), ('ate', 1557), ('aos', 1551), ('natural,', 1550), ('grandes', 1493), ('mil', 1483), ('paulo', 1468), ('empresas', 1468), ('medio', 1438), ('tipo', 1430), ('periodo', 1417), ('anuario', 1414), ('15', 1402), ('secao', 1402), ('paises', 1399), ('aumento', 1391), ('federacao', 1391), ('disponivel', 1386), ('20', 1375), ('em:', 1370), ('..', 1368), ('s.a.', 1367), ('estatistico', 1365), ('tambem', 1362), ('ja', 1356), ('evolucao', 1319), ('importacao', 1291), ('agencia', 1286), ('2016', 1277), ('monitoramento', 1273), ('rj', 1273), ('portaria', 1269), ('blocos', 1260), ('destilacao', 1260), ('esta', 1258), ('inclui', 1250), ('13', 1248), ('14', 1246), ('pesquisa', 1228), ('estados', 1222), ('comercio', 1212), ('2005', 1206), ('programa', 1191), ('parte', 1188), ('resultados', 1173), ('distribuidoras', 1169), ('pode', 1166), ('40', 1150), ('produtores', 1145), ('conformidade', 1140), ('municipios', 1136), ('alem', 1125), ('cada', 1123), ('energia', 1118), ('lei', 1111), ('atividades', 1097), ('pelos', 1096), ('setor', 1095), ('projetos', 1090), ('tem', 1082), ('us$', 1082), ('pelas', 1080), ('16', 1072), ('trimestre', 1066), ('meio', 1064), ('demanda', 1061), ('30', 1060), ('18', 1059), ('17', 1050), ('anp,', 1043), ('r$', 1039), ('oil', 1038), ('valor', 1036), ('bilhoes', 1028), ('(de', 1026), ('hidratado', 1012), ('comercializacao', 1002), ('g', 1001), ('santa', 1000), ('transporte', 993), ('federal', 992), ('(', 992), ('sergipe', 981), ('seus', 978), ('area', 975), ('produto', 973), ('alcool', 969), ('2004', 969), ('areas', 965), ('empresa', 953), ('mensal', 944), ('19', 941), ('sendo', 938), ('seu', 938), ('glp', 936), ('liquidos', 935), ('investimentos', 934), ('acordo', 922), ('unidade', 920), ('estao', 920), ('outras', 913), ('crescimento', 913), ('mes', 912), ('medios', 909), ('2.', 908), ('santos', 906), ('postos', 902), ('dez', 902), ('figura', 900), ('acesso', 893), ('.', 892), ('apenas', 891), ('nordeste', 888), ('agentes', 886), ('0,6', 878), ('oleos', 874), ('principais', 869), ('instituicoes', 868), ('21', 865), ('22', 864), ('teor', 864), ('sudeste', 862), ('campo', 861), ('25', 860), ('autorizacao', 858), ('quando', 857), ('internacional', 854), ('24', 851), ('energy', 849), ('sem', 846), ('nova', 845), ('automotivos', 837), ('pr', 836), ('minas', 834), ('out', 832), ('alagoas', 830), ('ainda', 830), ('que,', 830), ('100.0', 828), ('coletadas', 823), ('mato', 822), ('1,1', 822), ('anos', 820)]\n"
     ]
    }
   ],
   "source": [
    "imprime_info_corpus(texto)"
   ]
  },
  {
   "cell_type": "code",
   "execution_count": 13,
   "metadata": {
    "collapsed": true
   },
   "outputs": [],
   "source": [
    "#texto_sem_pontuacao = texto_sem_acentos.replace('[\"#%\\'()*+,-/:;<=>?@\\[\\]^_`{|}~1234567890’”“′‘\\\\\\]', ' ')\n",
    "\n",
    "# primeiro, adicionando espaços aos caracteres de pontuacao\n",
    "import re\n",
    "texto = re.sub('([.,!?()/])', r' \\1 ', texto)\n",
    "texto = re.sub('\\s{2,}', ' ', texto)"
   ]
  },
  {
   "cell_type": "code",
   "execution_count": 14,
   "metadata": {
    "collapsed": true
   },
   "outputs": [],
   "source": [
    "#retirando os caracteres de pontuação e numeros (mantendo apenas os caracteres de ponto, final de sentença)\n",
    "pontuacao = '[\"#%\\'()*+,-/:;<=>?@\\[\\]^_`{|}~1234567890’”“′‘\\\\\\•]'\n",
    "texto = ''.join([c for c in texto if c not in pontuacao])"
   ]
  },
  {
   "cell_type": "code",
   "execution_count": 15,
   "metadata": {},
   "outputs": [
    {
     "name": "stdout",
     "output_type": "stream",
     "text": [
      "Total de tokens analisados:  2,300,977\n",
      "Tamanho do Vocabulário:  37,767\n",
      "\n",
      "\n",
      "[('.', 438045), ('de', 136134), ('e', 63703), ('a', 57987), ('do', 37080), ('o', 33558), ('em', 26088), ('da', 25547), ('no', 22235), ('petroleo', 17325), ('para', 15744), ('–', 14461), ('que', 14145), ('gas', 14033), ('anp', 13414), ('dos', 11743), ('com', 11722), ('as', 10828), ('natural', 10498), ('os', 10452), ('por', 9739), ('producao', 9730), ('na', 9445), ('m', 8928), ('petrobras', 8590), ('r', 8567), ('s', 7917), ('das', 7772), ('brasil', 7649), ('nao', 7021), ('oleo', 6953), ('ao', 6801), ('rio', 6531), ('total', 6220), ('terra', 6101), ('i', 6032), ('precos', 5592), ('sao', 5399), ('etanol', 5359), ('nt', 5225), ('mar', 5206), ('ltda', 5135), ('d', 5133), ('ou', 5061), ('combustiveis', 5058), ('gasolina', 4866), ('nc', 4845), ('um', 4778), ('diesel', 4771), ('nacional', 4725), ('como', 4543), ('regiao', 4496), ('janeiro', 4307), ('pela', 4287), ('uma', 4261), ('c', 4054), ('p', 4053), ('rodada', 3817), ('se', 3742), ('t', 3681), ('nos', 3631), ('foi', 3584), ('b', 3584), ('mercado', 3537), ('n', 3520), ('l', 3494), ('fonte', 3422), ('norte', 3356), ('sp', 3349), ('biocombustiveis', 3335), ('outros', 3319), ('derivados', 3316), ('sul', 3274), ('segundo', 3102), ('resolucao', 3072), ('grande', 3054), ('mais', 2962), ('entre', 2925), ('regioes', 2896), ('milhoes', 2867), ('combustivel', 2806), ('ano', 2743), ('tabela', 2679), ('industria', 2663), ('ser', 2626), ('qualidade', 2572), ('r$', 2566), ('dezembro', 2551), ('dados', 2549), ('dou', 2541), ('n°', 2535), ('nas', 2531), ('u', 2529), ('distribuidora', 2486), ('biodiesel', 2457), ('unidades', 2447), ('amostras', 2441), ('boletim', 2434), ('campos', 2409), ('volume', 2399), ('vendas', 2373), ('produtos', 2246), ('pelo', 2239), ('foram', 2226), ('capacidade', 2225), ('estado', 2218), ('mil', 2217), ('inclui', 2163), ('distribuicao', 2156), ('grafico', 2153), ('desenvolvimento', 2147), ('numero', 2115), ('maior', 2094), ('preco', 2086), ('consumo', 2085), ('sua', 2001), ('rj', 1982), ('brasileiro', 1934), ('paulo', 1920), ('conforme', 1917), ('exploracao', 1914), ('relacao', 1901), ('bahia', 1890), ('br', 1867), ('sobre', 1836), ('distribuidoras', 1836), ('participacao', 1797), ('reservas', 1775), ('santo', 1766), ('dia', 1766), ('energia', 1740), ('recursos', 1730), ('lubrificantes', 1729), ('www', 1728), ('partir', 1718), ('empresas', 1700), ('periodo', 1666), ('glp', 1639), ('pais', 1632), ('cid', 1615), ('medio', 1601), ('espirito', 1599), ('ate', 1588), ('pesquisa', 1571), ('federacao', 1569), ('aos', 1556), ('paises', 1552), ('barris', 1509), ('secao', 1504), ('grandes', 1498), ('anuario', 1478), ('tipo', 1470), ('importacao', 1467), ('monitoramento', 1466), ('agencia', 1450), ('hidratado', 1442), ('tambem', 1432), ('disponivel', 1418), ('aumento', 1415), ('us$', 1410), ('produtores', 1408), ('estados', 1386), ('estatistico', 1370), ('ja', 1367), ('blocos', 1365), ('setor', 1356), ('evolucao', 1349), ('anos', 1349), ('aspecto', 1343), ('dez', 1337), ('!', 1331), ('portaria', 1324), ('produto', 1313), ('gov', 1310), ('destilacao', 1306), ('comercio', 1303), ('esta', 1300), ('bilhoes', 1296), ('conformidade', 1293), ('transporte', 1269), ('projetos', 1267), ('programa', 1264), ('parte', 1254), ('principais', 1250), ('municipios', 1239), ('lei', 1224), ('resultados', 1210), ('demanda', 1206), ('internacional', 1201), ('pode', 1188), ('g', 1188), ('cor', 1182), ('atividades', 1164), ('cada', 1159), ('comercializacao', 1149), ('oil', 1144), ('area', 1142), ('alem', 1142), ('empresa', 1115), ('federal', 1113), ('trimestre', 1106), ('v', 1106), ('mes', 1104), ('tem', 1104), ('nordeste', 1102), ('pelos', 1100), ('valor', 1097), ('mundial', 1092), ('sudeste', 1084), ('pelas', 1080), ('http', 1078), ('unidade', 1073), ('meio', 1071), ('consumidor', 1071), ('liquidos', 1058), ('santos', 1056), ('pr', 1053), ('sergipe', 1045), ('ac', 1041), ('alcool', 1041), ('areas', 1021), ('investimentos', 1021), ('outras', 1019), ('energy', 1018), ('abastecimento', 1017), ('mg', 1016), ('refino', 1015), ('santa', 1002), ('campo', 1002), ('automotivos', 1000), ('forma', 992), ('out', 992), ('j', 989), ('sendo', 982), ('seus', 978), ('ainda', 976), ('agentes', 973), ('postos', 972), ('mensal', 963), ('crescimento', 962), ('acesso', 952), ('mt', 941), ('medios', 940), ('seu', 939), ('notas', 938), ('projeto', 937), ('acordo', 936), ('figura', 933), ('estao', 925), ('exportacao', 918), ('especificacoes', 917), ('autorizacao', 916), ('f', 916), ('instituicoes', 909), ('teor', 904), ('apenas', 901), ('fiscalizacao', 900), ('quando', 899), ('nacionais', 898), ('alagoas', 896), ('sem', 892), ('oleos', 892), ('ver', 889), ('nova', 885), ('economicos', 884), ('ba', 878), ('processo', 877), ('informacoes', 876), ('centrooeste', 875), ('refinarias', 869), ('anidro', 868), ('minas', 864), ('coletadas', 861), ('operacao', 860), ('sistema', 854), ('rs', 853), ('energeticos', 853), ('percentual', 850), ('processamento', 846), ('ii', 842), ('amazonas', 838), ('parana', 837), ('anual', 832), ('gerais', 828), ('nota', 827), ('mato', 824), ('w', 824), ('unidos', 818), ('gnl', 816), ('grosso', 811), ('analise', 806), ('ceara', 803), ('referencia', 801), ('fontes', 800), ('apos', 796), ('contratos', 791), ('revenda', 788), ('desde', 786), ('fase', 782), ('reducao', 779)]\n"
     ]
    }
   ],
   "source": [
    "imprime_info_corpus(texto)"
   ]
  },
  {
   "cell_type": "markdown",
   "metadata": {},
   "source": [
    "# retirar caracteres unicos e stopwords\n",
    "\n",
    "### Eliminação de stopwords e palavras incorretas do vocabulário\n",
    "\n",
    "Em estudos anteriores, observou-se a presença preponderante de um conjunto de palavras incorretas no vocabulário mais comum, potencialmente resultantes de incorreções no processo de extração de PDF para texto.\n",
    "Neste trecho, define-se uma lista contendo todas essas palavras incorretas, palavras de um único caractere, e stopwords dos idiomas português, inglês e espanhol. Observou-se que o histograma de distribuição do vocabulário comportou-se melhor após este processamento."
   ]
  },
  {
   "cell_type": "code",
   "execution_count": 16,
   "metadata": {},
   "outputs": [
    {
     "name": "stdout",
     "output_type": "stream",
     "text": [
      "Palavras a serem ignoradas do vocabulario {\"aren't\", 'estaba', 'num', 'tuviese', 'hubimos', 'sejam', 'habré', 'tenía', 'm', 'depois', 'sua', 'its', 'fomos', 'so', 'hubisteis', 'tiene', 'ni', 'with', 'estivera', \"doesn't\", 'unos', 'tenha', 'por', 'uma', 'dos', 'tuas', 'tened', '°', 'houveria', 'mesmo', 'seréis', 'todo', 'qué', 'theirs', 'estivermos', 'estuviesen', 'some', 'being', 'nuestro', 'sobre', 'such', 'where', 'há', 'tenidas', 'houverão', 'estuvieran', 'estos', 'tuyas', 'fuéramos', 'tém', 'q', 'estamos', 'muito', 'were', 'à', 'doing', \"couldn't\", 'estejamos', 'estuviésemos', 'tuvieseis', 'teníamos', 'ele', 'haja', 'los', 'mí', 'tenemos', 'couldn', 'tuve', 'fôssemos', 'fuimos', 'tuviesen', \"haven't\", 'algunos', 'eso', 'quien', 'any', 'into', \"won't\", 'hasta', 'pelas', 'essa', 'needn', 'ch', 'estés', 'our', 'hubierais', 'estiver', \"that'll\", 'ellas', 'hubieran', 'until', 'tuvierais', 'nas', 'estaban', 'b', 'meus', 'estéis', 'houvéssemos', 'teria', 'nossas', 'for', 'weren', 'have', 'estada', 'hayamos', 'às', 'aquela', 'tivéssemos', 'qual', 'more', 'es', 'são', 'estaríais', 'p', 'de', 'teu', 'soy', 'serán', 'k', 'aren', 'do', 'tuvisteis', 'terá', 'está', 'themselves', 'aquelas', 'porque', 'e', 'both', 'sou', 'be', 's', 'sin', 'estabas', 'few', 'ya', 'hubieses', 'tuvo', 'seré', 'estuvimos', 'hajam', 'temos', 'isn', 'h', 'nuestra', 'won', 'there', 'suya', 'estuvo', 'vos', 'habido', 'teníais', 'estuvieses', 'esse', 'tenéis', 'em', 'estávamos', 'most', 'teríamos', 'tenido', 'or', 'a', \"mustn't\", 'vosostros', 'he', 'tienen', 'estarás', \"didn't\", 'en', \"you'll\", 'más', 'foi', 'elas', 'n', 'ese', 'am', 'os', 'aqueles', 'mais', 'x', 'once', 'don', 'su', 'tuviéramos', 'isto', 'eram', 'cual', 'houvermos', 'above', 'habrán', 'ourselves', 'estejam', 'estarán', 'fueseis', 'tú', 'as', 'só', 'hay', 'la', 'eles', 'ain', 'doesn', 'vosostras', 'hemos', 'sí', 'suyo', 'shouldn', 'un', 'tu', 'había', 'tenham', \"she's\", 'against', 'sentid', 'habiendo', 'estemos', 'nos', 'seria', 'whom', 'cuando', \"hasn't\", 'tivermos', 'nossos', 'sentida', 'era', 'w', 'estado', \"mightn't\", 'minha', 'sentidas', 'their', 'vuestras', 'tuyos', 'should', 'them', 'quienes', 'it', 'vuestra', 'estão', 'houveriam', 'vocês', 'ao', 'somos', 'at', 'terei', 'estuvisteis', 'fuerais', 'nós', 'durante', 'estivéssemos', 'habían', 'nosso', 'sentido', 'very', 'nor', 'tínhamos', 'teus', 'nem', 'fueron', 'habidos', 'mío', \"you've\", 'eran', 'son', 'tuyo', 'mightn', 'seáis', 'seus', 'my', 'estou', 'você', 'habremos', 'también', 'nuestras', 'other', 'houverá', 'estaría', 'tengamos', 'g', 'deles', 'mustn', 'tendrían', 'of', 'estaríamos', 'ella', 'pela', 'aos', 'hajamos', 'havemos', 'ours', 'fôramos', 'how', 'tenhamos', 'off', 'fuera', 'fuese', 'hei', 'esteja', 'not', 'habríais', 'her', 'haya', 'las', 'seu', 'hube', 'hadn', 'habréis', 'those', 'further', '\\x05', 'fossem', 'donde', 'tiver', 'suyas', 'ii', 'otro', 'sea', 'you', 'r', 'tendríais', 'houvera', 'fuesen', 'lhes', 'mía', 'quando', 'estivesse', 'mías', \"you're\", '&', 'by', 'hubiese', 'had', 'otras', 'hers', 'about', 'siente', 'j', 'estuvieras', 'too', 'which', 'para', 'this', 'hayas', 'fueses', 'tinha', 'esta', 'estive', 'what', 'serás', 'eu', 'tenho', 'terão', 'todos', 'el', 'tengáis', 'tuya', 'habida', 'sois', 'on', 'pelo', 'estivemos', 'wouldn', 'seríamos', 'al', 'fueras', 'wasn', 'him', 'del', 'when', 'didn', 'otros', 'um', 'habidas', 'll', 'están', 'itself', 'tuviera', 'tendré', 'forem', 'estes', 'con', 'u', 'out', 'then', 'mas', 'hayan', 'fosse', 'houveríamos', 'pero', 'pelos', 'estaréis', 'hubiste', 'tivesse', 'himself', 'algo', 'éramos', 'até', 'poco', 'hubieseis', 'teve', 'tivessem', 'estáis', 'can', 'tengo', 'estas', \"weren't\", \"it's\", 'ela', 'na', 'sejamos', \"needn't\", 'estivessem', 'uno', 'estarías', 'esas', 'tendrá', 'seriam', 'tenga', 'nuestros', 'who', 'estivéramos', 'sean', 'tendremos', 'estuviste', 'muy', \"wasn't\", 'sentidos', 'while', 'are', 'nosotras', 'habríamos', 'houveremos', 'suyos', 'será', 'tendríamos', 'myself', 'sería', 'habéis', 'tuvieras', 'tiverem', 'entre', 'serías', 'we', 'serían', 'desde', 'yo', 'down', 'because', 'tiveram', 'fueran', 'tivera', 'algunas', 'tendrías', 'from', 'houverei', 'before', 'seas', 'da', 'não', 'quem', 'through', 'habíamos', \"you'd\", 'contra', 'estuvieron', 'during', 'esteve', 'eras', 'esté', 'tinham', 'to', 'estaré', 'tivéramos', 'd', 'tive', 'meu', 'fuiste', \"should've\", 'também', 'did', 'does', '–', 'que', 'delas', 'eres', 'hasn', 'has', 'ellos', 'minhas', 'houver', 'these', 'if', 'una', 'all', 'seja', 'estando', 'formos', 'estaremos', 'own', 'in', 'hubieras', 'erais', 'tenían', 'houvéramos', 'z', 'why', 'dele', 'hubiera', 'hão', 'vuestro', 'nada', 'habrían', 'the', 'but', 'esos', 'tuvieron', 'hayáis', \"shan't\", 'over', 'was', 'here', 'hubiéramos', 'te', 'nosotros', 'estadas', 'seríais', 'estoy', 'houve', 'having', 'tuviste', 'will', 'estuvieseis', \"don't\", 'estar', \"isn't\", 'esto', 'estuviéramos', 'habrías', 'estuve', 'tengas', 'estiveram', 'aquilo', 'sem', 'between', 'serão', 'tendría', 'tuvieran', 'l', 'muchos', 'now', 'com', 'y', 'tivemos', 'than', 'estiverem', 'houvemos', 'tendrán', 'yourself', 'teniendo', 'sus', 'fora', 'estava', 'estábamos', 'mi', 'and', 'c', 'fue', 'tenida', 'been', 'suas', 'up', 'they', 'tienes', 'habrá', 'como', 'essas', 'vuestros', 'habíais', 'esses', 'tendrás', 'fuésemos', 're', 'lhe', 'f', 'same', 've', 'dela', 'estarían', 'estén', 'yourselves', 'et', 'haven', 'ou', 'houvessem', 'his', 'foram', 'teremos', 'under', 'tuvieses', 'tus', 'tuvimos', 'él', 'tenidos', 'houvesse', 'fuisteis', 'houverem', 'serei', 'just', 'tua', 'after', 'tendréis', 'míos', 'each', 'tem', 'seremos', 'hubo', 'nossa', 'numa', 'fui', 'les', 'habría', '•', 'ti', 'teriam', 'that', 'estuvierais', 'herself', 'is', 'ma', 'o', 'le', 'i', 'houveram', 'ha', 'hubiesen', 'yours', 'v', 'estará', 'estabais', 'isso', 'estuviera', 'no', 'below', \"wouldn't\", 'lo', 'já', 'mis', 'estás', 'seamos', 'shan', 'again', 'habías', 'antes', 't', 'otra', 'iii', 'me', \"hadn't\", 'tenías', 'ante', 'estados', \"shouldn't\", 'se', 'tengan', 'han', 'esa', 'aquele', 'estad', 'habrás', 'estuviese', 'estavam', 'mucho', 'she', 'hubieron', 'hubiésemos', 'tuviésemos', 'das', 'este', 'only', 'your', 'sintiendo', 'tanto', 'an'}\n"
     ]
    }
   ],
   "source": [
    "from nltk.corpus import stopwords # Import the stop word list\n",
    "from string import ascii_lowercase\n",
    "#nltk.download('stopwords')\n",
    "\n",
    "# Mapeando stopwords com NLTK\n",
    "stopwordsPortugues = stopwords.words(\"portuguese\")\n",
    "stopwordsIngles = stopwords.words(\"english\")\n",
    "stopwordsEspanhol = stopwords.words(\"spanish\")\n",
    "caracteres_unicos = [c for c in ascii_lowercase ]\n",
    "\n",
    "# em estudo anterior, obtivemos o conjunto das palavras mais comuns, onde se observam algumas palavras incorretas\n",
    "# resultantes do processo de extração do arquivo PDF. Estas palavras serão incluídas no vocabulário a ser ignorado\n",
    "# no corpus final.\n",
    "# Objetiva-se incrementar esta lista conforme novas palavras são observadas, à medida em que novos arquivos são\n",
    "# acrescentados ao corpus\n",
    "palavrasIncorretasComuns = ['&', 'ch', 'et', 'at', 'ii','iii', '\\x05', '•', '–', '°']\n",
    "\n",
    "# mais rapido buscar set do que list\n",
    "vocabulario_palavras_ignoradas = set(stopwordsPortugues + \n",
    "                                     stopwordsIngles + \n",
    "                                     stopwordsEspanhol + \n",
    "                                     caracteres_unicos + \n",
    "                                     palavrasIncorretasComuns)\n",
    "\n",
    "print(\"Palavras a serem ignoradas do vocabulario\", vocabulario_palavras_ignoradas)"
   ]
  },
  {
   "cell_type": "code",
   "execution_count": 17,
   "metadata": {
    "collapsed": true
   },
   "outputs": [],
   "source": [
    "sentenca_sem_stopwords = [w for w in texto.split() if not w in vocabulario_palavras_ignoradas]\n",
    "texto = \" \".join( sentenca_sem_stopwords ) "
   ]
  },
  {
   "cell_type": "code",
   "execution_count": 18,
   "metadata": {},
   "outputs": [
    {
     "name": "stdout",
     "output_type": "stream",
     "text": [
      "Total de tokens analisados:  1,615,228\n",
      "Tamanho do Vocabulário:  37,449\n",
      "\n",
      "\n",
      "[('.', 438045), ('petroleo', 17325), ('gas', 14033), ('anp', 13414), ('natural', 10498), ('producao', 9730), ('petrobras', 8590), ('brasil', 7649), ('nao', 7021), ('oleo', 6953), ('rio', 6531), ('total', 6220), ('terra', 6101), ('precos', 5592), ('sao', 5399), ('etanol', 5359), ('nt', 5225), ('mar', 5206), ('ltda', 5135), ('combustiveis', 5058), ('gasolina', 4866), ('nc', 4845), ('diesel', 4771), ('nacional', 4725), ('regiao', 4496), ('janeiro', 4307), ('rodada', 3817), ('mercado', 3537), ('fonte', 3422), ('norte', 3356), ('sp', 3349), ('biocombustiveis', 3335), ('outros', 3319), ('derivados', 3316), ('sul', 3274), ('segundo', 3102), ('resolucao', 3072), ('grande', 3054), ('regioes', 2896), ('milhoes', 2867), ('combustivel', 2806), ('ano', 2743), ('tabela', 2679), ('industria', 2663), ('ser', 2626), ('qualidade', 2572), ('r$', 2566), ('dezembro', 2551), ('dados', 2549), ('dou', 2541), ('n°', 2535), ('distribuidora', 2486), ('biodiesel', 2457), ('unidades', 2447), ('amostras', 2441), ('boletim', 2434), ('campos', 2409), ('volume', 2399), ('vendas', 2373), ('produtos', 2246), ('capacidade', 2225), ('mil', 2217), ('inclui', 2163), ('distribuicao', 2156), ('grafico', 2153), ('desenvolvimento', 2147), ('numero', 2115), ('maior', 2094), ('preco', 2086), ('consumo', 2085), ('rj', 1982), ('brasileiro', 1934), ('paulo', 1920), ('conforme', 1917), ('exploracao', 1914), ('relacao', 1901), ('bahia', 1890), ('br', 1867), ('distribuidoras', 1836), ('participacao', 1797), ('reservas', 1775), ('santo', 1766), ('dia', 1766), ('energia', 1740), ('recursos', 1730), ('lubrificantes', 1729), ('www', 1728), ('partir', 1718), ('empresas', 1700), ('periodo', 1666), ('glp', 1639), ('pais', 1632), ('cid', 1615), ('medio', 1601), ('espirito', 1599), ('ate', 1588), ('pesquisa', 1571), ('federacao', 1569), ('paises', 1552), ('barris', 1509), ('secao', 1504), ('grandes', 1498), ('anuario', 1478), ('tipo', 1470), ('importacao', 1467), ('monitoramento', 1466), ('agencia', 1450), ('hidratado', 1442), ('tambem', 1432), ('disponivel', 1418), ('aumento', 1415), ('us$', 1410), ('produtores', 1408), ('estatistico', 1370), ('ja', 1367), ('blocos', 1365), ('setor', 1356), ('evolucao', 1349), ('anos', 1349), ('aspecto', 1343), ('dez', 1337), ('!', 1331), ('portaria', 1324), ('produto', 1313), ('gov', 1310), ('destilacao', 1306), ('comercio', 1303), ('bilhoes', 1296), ('conformidade', 1293), ('transporte', 1269), ('projetos', 1267), ('programa', 1264), ('parte', 1254), ('principais', 1250), ('municipios', 1239), ('lei', 1224), ('resultados', 1210), ('demanda', 1206), ('internacional', 1201), ('pode', 1188), ('cor', 1182), ('atividades', 1164), ('cada', 1159), ('comercializacao', 1149), ('oil', 1144), ('area', 1142), ('alem', 1142), ('empresa', 1115), ('federal', 1113), ('trimestre', 1106), ('mes', 1104), ('nordeste', 1102), ('valor', 1097), ('mundial', 1092), ('sudeste', 1084), ('http', 1078), ('unidade', 1073), ('meio', 1071), ('consumidor', 1071), ('liquidos', 1058), ('santos', 1056), ('pr', 1053), ('sergipe', 1045), ('ac', 1041), ('alcool', 1041), ('areas', 1021), ('investimentos', 1021), ('outras', 1019), ('energy', 1018), ('abastecimento', 1017), ('mg', 1016), ('refino', 1015), ('santa', 1002), ('campo', 1002), ('automotivos', 1000), ('forma', 992), ('sendo', 982), ('ainda', 976), ('agentes', 973), ('postos', 972), ('mensal', 963), ('crescimento', 962), ('acesso', 952), ('mt', 941), ('medios', 940), ('notas', 938), ('projeto', 937), ('acordo', 936), ('figura', 933), ('estao', 925), ('exportacao', 918), ('especificacoes', 917), ('autorizacao', 916), ('instituicoes', 909), ('teor', 904), ('apenas', 901), ('fiscalizacao', 900), ('nacionais', 898), ('alagoas', 896), ('oleos', 892), ('ver', 889), ('nova', 885), ('economicos', 884), ('ba', 878), ('processo', 877), ('informacoes', 876), ('centrooeste', 875), ('refinarias', 869), ('anidro', 868), ('minas', 864), ('coletadas', 861), ('operacao', 860), ('sistema', 854), ('rs', 853), ('energeticos', 853), ('percentual', 850), ('processamento', 846), ('amazonas', 838), ('parana', 837), ('anual', 832), ('gerais', 828), ('nota', 827), ('mato', 824), ('unidos', 818), ('gnl', 816), ('grosso', 811), ('analise', 806), ('ceara', 803), ('referencia', 801), ('fontes', 800), ('apos', 796), ('contratos', 791), ('revenda', 788), ('fase', 782), ('reducao', 779), ('quanto', 776), ('oferta', 774), ('media', 769), ('novembro', 766), ('valores', 758), ('base', 757), ('caso', 757), ('infraestrutura', 757), ('bp', 757), ('vez', 753), ('shell', 747), ('assim', 742), ('uso', 733), ('pagina', 731), ('bacia', 731), ('demais', 728), ('mistura', 723), ('atividade', 718), ('pocos', 717), ('central', 717), ('esp', 716), ('tres', 711), ('queda', 704), ('bem', 691), ('longo', 684), ('movimentacao', 680), ('universidade', 679), ('podem', 678), ('revendedores', 677), ('tecnologia', 670), ('refinaria', 668), ('brasileira', 652), ('lista', 650), ('importado', 648), ('inovacao', 647), ('edicao', 646), ('america', 642), ('conformes', 638), ('eua', 638), ('querosene', 635), ('centro', 634), ('formacao', 633), ('brasilia', 633), ('sdp', 633), ('alta', 633), ('dois', 632), ('enxofre', 632), ('co', 626), ('pe', 624), ('ipiranga', 623), ('aviacao', 617), ('estabelece', 616), ('volumes', 615), ('cerca', 614), ('engenharia', 613), ('produzido', 612), ('registro', 612), ('condicoes', 611), ('brasileiros', 609), ('brent', 609), ('proprio', 606), ('participacoes', 605), ('go', 603), ('anterior', 603), ('deste', 602)]\n"
     ]
    }
   ],
   "source": [
    "imprime_info_corpus(texto)"
   ]
  },
  {
   "cell_type": "markdown",
   "metadata": {},
   "source": [
    "## Existe a preponderância de muitas palavras raras no vocabulário, dominando a distribuição\n",
    "\n",
    "Eliminando a ocorrência de palavras raras, que ocorram com menor frequência, reduzindo assim o vocabulário apenas às palaras mais relevantes. Normalmente estas palavras se referem a erros de grafia ou da extração dos PDFs para texto."
   ]
  },
  {
   "cell_type": "code",
   "execution_count": 20,
   "metadata": {
    "collapsed": true
   },
   "outputs": [],
   "source": [
    "word_counts = Counter(texto.split())"
   ]
  },
  {
   "cell_type": "code",
   "execution_count": 21,
   "metadata": {
    "collapsed": true
   },
   "outputs": [],
   "source": [
    "threshold_palavras_raras = 2 # palavras que ocorram 2 ou menos vezes serão eliminadas\n",
    "\n",
    "sentenca_sem_palavras_raras = [w for w in texto.split() if word_counts[w] > threshold_palavras_raras]\n",
    "texto = \" \".join( sentenca_sem_palavras_raras ) "
   ]
  },
  {
   "cell_type": "code",
   "execution_count": 22,
   "metadata": {},
   "outputs": [
    {
     "name": "stdout",
     "output_type": "stream",
     "text": [
      "Total de tokens analisados:  1,591,034\n",
      "Tamanho do Vocabulário:  18,282\n",
      "\n",
      "\n",
      "[('.', 438045), ('petroleo', 17325), ('gas', 14033), ('anp', 13414), ('natural', 10498), ('producao', 9730), ('petrobras', 8590), ('brasil', 7649), ('nao', 7021), ('oleo', 6953), ('rio', 6531), ('total', 6220), ('terra', 6101), ('precos', 5592), ('sao', 5399), ('etanol', 5359), ('nt', 5225), ('mar', 5206), ('ltda', 5135), ('combustiveis', 5058), ('gasolina', 4866), ('nc', 4845), ('diesel', 4771), ('nacional', 4725), ('regiao', 4496), ('janeiro', 4307), ('rodada', 3817), ('mercado', 3537), ('fonte', 3422), ('norte', 3356), ('sp', 3349), ('biocombustiveis', 3335), ('outros', 3319), ('derivados', 3316), ('sul', 3274), ('segundo', 3102), ('resolucao', 3072), ('grande', 3054), ('regioes', 2896), ('milhoes', 2867), ('combustivel', 2806), ('ano', 2743), ('tabela', 2679), ('industria', 2663), ('ser', 2626), ('qualidade', 2572), ('r$', 2566), ('dezembro', 2551), ('dados', 2549), ('dou', 2541), ('n°', 2535), ('distribuidora', 2486), ('biodiesel', 2457), ('unidades', 2447), ('amostras', 2441), ('boletim', 2434), ('campos', 2409), ('volume', 2399), ('vendas', 2373), ('produtos', 2246), ('capacidade', 2225), ('mil', 2217), ('inclui', 2163), ('distribuicao', 2156), ('grafico', 2153), ('desenvolvimento', 2147), ('numero', 2115), ('maior', 2094), ('preco', 2086), ('consumo', 2085), ('rj', 1982), ('brasileiro', 1934), ('paulo', 1920), ('conforme', 1917), ('exploracao', 1914), ('relacao', 1901), ('bahia', 1890), ('br', 1867), ('distribuidoras', 1836), ('participacao', 1797), ('reservas', 1775), ('santo', 1766), ('dia', 1766), ('energia', 1740), ('recursos', 1730), ('lubrificantes', 1729), ('www', 1728), ('partir', 1718), ('empresas', 1700), ('periodo', 1666), ('glp', 1639), ('pais', 1632), ('cid', 1615), ('medio', 1601), ('espirito', 1599), ('ate', 1588), ('pesquisa', 1571), ('federacao', 1569), ('paises', 1552), ('barris', 1509), ('secao', 1504), ('grandes', 1498), ('anuario', 1478), ('tipo', 1470), ('importacao', 1467), ('monitoramento', 1466), ('agencia', 1450), ('hidratado', 1442), ('tambem', 1432), ('disponivel', 1418), ('aumento', 1415), ('us$', 1410), ('produtores', 1408), ('estatistico', 1370), ('ja', 1367), ('blocos', 1365), ('setor', 1356), ('evolucao', 1349), ('anos', 1349), ('aspecto', 1343), ('dez', 1337), ('!', 1331), ('portaria', 1324), ('produto', 1313), ('gov', 1310), ('destilacao', 1306), ('comercio', 1303), ('bilhoes', 1296), ('conformidade', 1293), ('transporte', 1269), ('projetos', 1267), ('programa', 1264), ('parte', 1254), ('principais', 1250), ('municipios', 1239), ('lei', 1224), ('resultados', 1210), ('demanda', 1206), ('internacional', 1201), ('pode', 1188), ('cor', 1182), ('atividades', 1164), ('cada', 1159), ('comercializacao', 1149), ('oil', 1144), ('area', 1142), ('alem', 1142), ('empresa', 1115), ('federal', 1113), ('trimestre', 1106), ('mes', 1104), ('nordeste', 1102), ('valor', 1097), ('mundial', 1092), ('sudeste', 1084), ('http', 1078), ('unidade', 1073), ('meio', 1071), ('consumidor', 1071), ('liquidos', 1058), ('santos', 1056), ('pr', 1053), ('sergipe', 1045), ('ac', 1041), ('alcool', 1041), ('areas', 1021), ('investimentos', 1021), ('outras', 1019), ('energy', 1018), ('abastecimento', 1017), ('mg', 1016), ('refino', 1015), ('santa', 1002), ('campo', 1002), ('automotivos', 1000), ('forma', 992), ('sendo', 982), ('ainda', 976), ('agentes', 973), ('postos', 972), ('mensal', 963), ('crescimento', 962), ('acesso', 952), ('mt', 941), ('medios', 940), ('notas', 938), ('projeto', 937), ('acordo', 936), ('figura', 933), ('estao', 925), ('exportacao', 918), ('especificacoes', 917), ('autorizacao', 916), ('instituicoes', 909), ('teor', 904), ('apenas', 901), ('fiscalizacao', 900), ('nacionais', 898), ('alagoas', 896), ('oleos', 892), ('ver', 889), ('nova', 885), ('economicos', 884), ('ba', 878), ('processo', 877), ('informacoes', 876), ('centrooeste', 875), ('refinarias', 869), ('anidro', 868), ('minas', 864), ('coletadas', 861), ('operacao', 860), ('sistema', 854), ('rs', 853), ('energeticos', 853), ('percentual', 850), ('processamento', 846), ('amazonas', 838), ('parana', 837), ('anual', 832), ('gerais', 828), ('nota', 827), ('mato', 824), ('unidos', 818), ('gnl', 816), ('grosso', 811), ('analise', 806), ('ceara', 803), ('referencia', 801), ('fontes', 800), ('apos', 796), ('contratos', 791), ('revenda', 788), ('fase', 782), ('reducao', 779), ('quanto', 776), ('oferta', 774), ('media', 769), ('novembro', 766), ('valores', 758), ('base', 757), ('caso', 757), ('infraestrutura', 757), ('bp', 757), ('vez', 753), ('shell', 747), ('assim', 742), ('uso', 733), ('pagina', 731), ('bacia', 731), ('demais', 728), ('mistura', 723), ('atividade', 718), ('pocos', 717), ('central', 717), ('esp', 716), ('tres', 711), ('queda', 704), ('bem', 691), ('longo', 684), ('movimentacao', 680), ('universidade', 679), ('podem', 678), ('revendedores', 677), ('tecnologia', 670), ('refinaria', 668), ('brasileira', 652), ('lista', 650), ('importado', 648), ('inovacao', 647), ('edicao', 646), ('america', 642), ('conformes', 638), ('eua', 638), ('querosene', 635), ('centro', 634), ('formacao', 633), ('brasilia', 633), ('sdp', 633), ('alta', 633), ('dois', 632), ('enxofre', 632), ('co', 626), ('pe', 624), ('ipiranga', 623), ('aviacao', 617), ('estabelece', 616), ('volumes', 615), ('cerca', 614), ('engenharia', 613), ('produzido', 612), ('registro', 612), ('condicoes', 611), ('brasileiros', 609), ('brent', 609), ('proprio', 606), ('participacoes', 605), ('go', 603), ('anterior', 603), ('deste', 602)]\n"
     ]
    }
   ],
   "source": [
    "imprime_info_corpus(texto)"
   ]
  },
  {
   "cell_type": "markdown",
   "metadata": {},
   "source": [
    "## Unificando as quebras de linhas, refazendo as sentenças.\n",
    "Obervou-se a ocorrencia de muitas quebras de linhas desnecessárias, produto de erros na extração do PDF. As quebras de linha serão todas eliminadas, e posteriormente refeitas considerando o caractere de ponto como final de sentença e quebra de linha."
   ]
  },
  {
   "cell_type": "code",
   "execution_count": 23,
   "metadata": {
    "collapsed": true
   },
   "outputs": [],
   "source": [
    "texto = texto.replace('\\n', ' ').replace('\\r', '').replace('?','.').replace('!','.')"
   ]
  },
  {
   "cell_type": "code",
   "execution_count": 24,
   "metadata": {
    "collapsed": true
   },
   "outputs": [],
   "source": [
    "lista_com_quebra_de_linha = texto.split('.')\n",
    "texto = \"\\n\".join( lista_com_quebra_de_linha ) "
   ]
  },
  {
   "cell_type": "code",
   "execution_count": 25,
   "metadata": {},
   "outputs": [
    {
     "name": "stdout",
     "output_type": "stream",
     "text": [
      "Total de tokens analisados:  1,151,658\n",
      "Tamanho do Vocabulário:  18,280\n",
      "\n",
      "\n",
      "[('petroleo', 17325), ('gas', 14033), ('anp', 13414), ('natural', 10498), ('producao', 9730), ('petrobras', 8590), ('brasil', 7649), ('nao', 7021), ('oleo', 6953), ('rio', 6531), ('total', 6220), ('terra', 6101), ('precos', 5592), ('sao', 5399), ('etanol', 5359), ('nt', 5225), ('mar', 5206), ('ltda', 5135), ('combustiveis', 5058), ('gasolina', 4866), ('nc', 4845), ('diesel', 4771), ('nacional', 4725), ('regiao', 4496), ('janeiro', 4307), ('rodada', 3817), ('mercado', 3537), ('fonte', 3422), ('norte', 3356), ('sp', 3349), ('biocombustiveis', 3335), ('outros', 3319), ('derivados', 3316), ('sul', 3274), ('segundo', 3102), ('resolucao', 3072), ('grande', 3054), ('regioes', 2896), ('milhoes', 2867), ('combustivel', 2806), ('ano', 2743), ('tabela', 2679), ('industria', 2663), ('ser', 2626), ('qualidade', 2572), ('r$', 2566), ('dezembro', 2551), ('dados', 2549), ('dou', 2541), ('n°', 2535), ('distribuidora', 2486), ('biodiesel', 2457), ('unidades', 2447), ('amostras', 2441), ('boletim', 2434), ('campos', 2409), ('volume', 2399), ('vendas', 2373), ('produtos', 2246), ('capacidade', 2225), ('mil', 2217), ('inclui', 2163), ('distribuicao', 2156), ('grafico', 2153), ('desenvolvimento', 2147), ('numero', 2115), ('maior', 2094), ('preco', 2086), ('consumo', 2085), ('rj', 1982), ('brasileiro', 1934), ('paulo', 1920), ('conforme', 1917), ('exploracao', 1914), ('relacao', 1901), ('bahia', 1890), ('br', 1867), ('distribuidoras', 1836), ('participacao', 1797), ('reservas', 1775), ('santo', 1766), ('dia', 1766), ('energia', 1740), ('recursos', 1730), ('lubrificantes', 1729), ('www', 1728), ('partir', 1718), ('empresas', 1700), ('periodo', 1666), ('glp', 1639), ('pais', 1632), ('cid', 1615), ('medio', 1601), ('espirito', 1599), ('ate', 1588), ('pesquisa', 1571), ('federacao', 1569), ('paises', 1552), ('barris', 1509), ('secao', 1504), ('grandes', 1498), ('anuario', 1478), ('tipo', 1470), ('importacao', 1467), ('monitoramento', 1466), ('agencia', 1450), ('hidratado', 1442), ('tambem', 1432), ('disponivel', 1418), ('aumento', 1415), ('us$', 1410), ('produtores', 1408), ('estatistico', 1370), ('ja', 1367), ('blocos', 1365), ('setor', 1356), ('evolucao', 1349), ('anos', 1349), ('aspecto', 1343), ('dez', 1337), ('portaria', 1324), ('produto', 1313), ('gov', 1310), ('destilacao', 1306), ('comercio', 1303), ('bilhoes', 1296), ('conformidade', 1293), ('transporte', 1269), ('projetos', 1267), ('programa', 1264), ('parte', 1254), ('principais', 1250), ('municipios', 1239), ('lei', 1224), ('resultados', 1210), ('demanda', 1206), ('internacional', 1201), ('pode', 1188), ('cor', 1182), ('atividades', 1164), ('cada', 1159), ('comercializacao', 1149), ('oil', 1144), ('area', 1142), ('alem', 1142), ('empresa', 1115), ('federal', 1113), ('trimestre', 1106), ('mes', 1104), ('nordeste', 1102), ('valor', 1097), ('mundial', 1092), ('sudeste', 1084), ('http', 1078), ('unidade', 1073), ('meio', 1071), ('consumidor', 1071), ('liquidos', 1058), ('santos', 1056), ('pr', 1053), ('sergipe', 1045), ('ac', 1041), ('alcool', 1041), ('areas', 1021), ('investimentos', 1021), ('outras', 1019), ('energy', 1018), ('abastecimento', 1017), ('mg', 1016), ('refino', 1015), ('santa', 1002), ('campo', 1002), ('automotivos', 1000), ('forma', 992), ('sendo', 982), ('ainda', 976), ('agentes', 973), ('postos', 972), ('mensal', 963), ('crescimento', 962), ('acesso', 952), ('mt', 941), ('medios', 940), ('notas', 938), ('projeto', 937), ('acordo', 936), ('figura', 933), ('estao', 925), ('exportacao', 918), ('especificacoes', 917), ('autorizacao', 916), ('instituicoes', 909), ('teor', 904), ('apenas', 901), ('fiscalizacao', 900), ('nacionais', 898), ('alagoas', 896), ('oleos', 892), ('ver', 889), ('nova', 885), ('economicos', 884), ('ba', 878), ('processo', 877), ('informacoes', 876), ('centrooeste', 875), ('refinarias', 869), ('anidro', 868), ('minas', 864), ('coletadas', 861), ('operacao', 860), ('sistema', 854), ('rs', 853), ('energeticos', 853), ('percentual', 850), ('processamento', 846), ('amazonas', 838), ('parana', 837), ('anual', 832), ('gerais', 828), ('nota', 827), ('mato', 824), ('unidos', 818), ('gnl', 816), ('grosso', 811), ('analise', 806), ('ceara', 803), ('referencia', 801), ('fontes', 800), ('apos', 796), ('contratos', 791), ('revenda', 788), ('fase', 782), ('reducao', 779), ('quanto', 776), ('oferta', 774), ('media', 769), ('novembro', 766), ('valores', 758), ('base', 757), ('caso', 757), ('infraestrutura', 757), ('bp', 757), ('vez', 753), ('shell', 747), ('assim', 742), ('uso', 733), ('pagina', 731), ('bacia', 731), ('demais', 728), ('mistura', 723), ('atividade', 718), ('pocos', 717), ('central', 717), ('esp', 716), ('tres', 711), ('queda', 704), ('bem', 691), ('longo', 684), ('movimentacao', 680), ('universidade', 679), ('podem', 678), ('revendedores', 677), ('tecnologia', 670), ('refinaria', 668), ('brasileira', 652), ('lista', 650), ('importado', 648), ('inovacao', 647), ('edicao', 646), ('america', 642), ('conformes', 638), ('eua', 638), ('querosene', 635), ('centro', 634), ('formacao', 633), ('brasilia', 633), ('sdp', 633), ('alta', 633), ('dois', 632), ('enxofre', 632), ('co', 626), ('pe', 624), ('ipiranga', 623), ('aviacao', 617), ('estabelece', 616), ('volumes', 615), ('cerca', 614), ('engenharia', 613), ('produzido', 612), ('registro', 612), ('condicoes', 611), ('brasileiros', 609), ('brent', 609), ('proprio', 606), ('participacoes', 605), ('go', 603), ('anterior', 603), ('deste', 602), ('maranhao', 600), ('concessao', 596)]\n"
     ]
    }
   ],
   "source": [
    "imprime_info_corpus(texto)"
   ]
  },
  {
   "cell_type": "markdown",
   "metadata": {},
   "source": [
    "### Eliminando sentenças com menos de 3 palavras, inclusive vazias"
   ]
  },
  {
   "cell_type": "code",
   "execution_count": 26,
   "metadata": {
    "collapsed": true
   },
   "outputs": [],
   "source": [
    "lista_com_quebra_de_linha = texto.split('\\n')\n",
    "texto = '\\n'.join([sentenca for sentenca in lista_com_quebra_de_linha if len(sentenca.split(' ')) > 3])"
   ]
  },
  {
   "cell_type": "code",
   "execution_count": 27,
   "metadata": {},
   "outputs": [
    {
     "name": "stdout",
     "output_type": "stream",
     "text": [
      "Total de tokens analisados:  1,138,685\n",
      "Tamanho do Vocabulário:  18,236\n",
      "\n",
      "\n",
      "[('petroleo', 17298), ('gas', 14032), ('anp', 12481), ('natural', 10498), ('producao', 9636), ('petrobras', 8509), ('brasil', 7390), ('nao', 7021), ('oleo', 6952), ('rio', 6531), ('total', 6100), ('terra', 6099), ('precos', 5587), ('sao', 5397), ('etanol', 5337), ('mar', 5177), ('nt', 5148), ('ltda', 5134), ('combustiveis', 5055), ('gasolina', 4849), ('diesel', 4771), ('nc', 4769), ('nacional', 4724), ('regiao', 4496), ('janeiro', 4263), ('rodada', 3817), ('mercado', 3537), ('fonte', 3420), ('norte', 3351), ('sp', 3345), ('biocombustiveis', 3331), ('outros', 3314), ('derivados', 3308), ('sul', 3265), ('segundo', 3102), ('resolucao', 3051), ('grande', 3042), ('regioes', 2895), ('milhoes', 2866), ('combustivel', 2806), ('ano', 2738), ('industria', 2662), ('ser', 2626), ('qualidade', 2572), ('dados', 2549), ('dou', 2535), ('n°', 2524), ('dezembro', 2523), ('r$', 2492), ('distribuidora', 2486), ('unidades', 2447), ('biodiesel', 2440), ('amostras', 2434), ('boletim', 2431), ('campos', 2408), ('volume', 2398), ('vendas', 2373), ('produtos', 2246), ('capacidade', 2225), ('mil', 2205), ('inclui', 2163), ('distribuicao', 2138), ('desenvolvimento', 2121), ('numero', 2112), ('maior', 2093), ('preco', 2086), ('consumo', 2062), ('rj', 1980), ('brasileiro', 1934), ('conforme', 1917), ('exploracao', 1913), ('paulo', 1909), ('relacao', 1901), ('bahia', 1876), ('tabela', 1838), ('distribuidoras', 1836), ('participacao', 1794), ('santo', 1766), ('dia', 1752), ('energia', 1739), ('lubrificantes', 1729), ('reservas', 1723), ('partir', 1713), ('www', 1705), ('recursos', 1700), ('empresas', 1699), ('periodo', 1666), ('br', 1648), ('pais', 1632), ('grafico', 1629), ('glp', 1619), ('cid', 1607), ('medio', 1600), ('espirito', 1599), ('ate', 1582), ('pesquisa', 1571), ('federacao', 1569), ('paises', 1552), ('barris', 1501), ('grandes', 1498), ('anuario', 1478), ('tipo', 1470), ('importacao', 1467), ('monitoramento', 1466), ('agencia', 1449), ('hidratado', 1442), ('tambem', 1431), ('disponivel', 1416), ('aumento', 1414), ('produtores', 1408), ('us$', 1407), ('estatistico', 1370), ('ja', 1367), ('blocos', 1365), ('setor', 1356), ('evolucao', 1349), ('anos', 1348), ('aspecto', 1342), ('dez', 1317), ('produto', 1313), ('portaria', 1309), ('destilacao', 1304), ('comercio', 1303), ('bilhoes', 1294), ('conformidade', 1293), ('transporte', 1269), ('secao', 1267), ('programa', 1264), ('parte', 1254), ('projetos', 1251), ('principais', 1250), ('municipios', 1227), ('demanda', 1205), ('internacional', 1201), ('resultados', 1198), ('pode', 1188), ('cor', 1182), ('atividades', 1163), ('cada', 1159), ('comercializacao', 1149), ('area', 1141), ('alem', 1140), ('oil', 1140), ('empresa', 1115), ('federal', 1113), ('mes', 1104), ('valor', 1096), ('nordeste', 1096), ('trimestre', 1094), ('mundial', 1092), ('sudeste', 1076), ('http', 1076), ('unidade', 1073), ('meio', 1071), ('consumidor', 1071), ('liquidos', 1058), ('pr', 1047), ('santos', 1047), ('alcool', 1040), ('sergipe', 1033), ('ac', 1030), ('areas', 1021), ('investimentos', 1020), ('abastecimento', 1016), ('mg', 1009), ('outras', 1007), ('energy', 1006), ('santa', 1001), ('campo', 1001), ('automotivos', 1000), ('refino', 998), ('forma', 989), ('sendo', 981), ('ainda', 976), ('agentes', 972), ('mensal', 963), ('crescimento', 962), ('postos', 952), ('lei', 950), ('medios', 940), ('projeto', 937), ('acordo', 935), ('mt', 929), ('estao', 925), ('especificacoes', 917), ('exportacao', 911), ('instituicoes', 909), ('teor', 904), ('apenas', 901), ('fiscalizacao', 900), ('nacionais', 897), ('oleos', 890), ('ver', 889), ('nova', 885), ('acesso', 885), ('economicos', 884), ('alagoas', 883), ('processo', 877), ('informacoes', 876), ('ba', 874), ('centrooeste', 873), ('autorizacao', 872), ('refinarias', 869), ('anidro', 868), ('minas', 864), ('figura', 864), ('operacao', 860), ('coletadas', 855), ('sistema', 854), ('energeticos', 851), ('percentual', 849), ('rs', 848), ('processamento', 845), ('gerais', 828), ('mato', 824), ('parana', 824), ('amazonas', 819), ('anual', 817), ('nota', 816), ('gnl', 815), ('grosso', 811), ('unidos', 810), ('analise', 806), ('referencia', 801), ('fontes', 800), ('apos', 796), ('contratos', 791), ('ceara', 790), ('revenda', 787), ('fase', 782), ('reducao', 779), ('quanto', 776), ('oferta', 770), ('media', 769), ('valores', 758), ('base', 757), ('caso', 757), ('infraestrutura', 757), ('novembro', 756), ('vez', 752), ('assim', 739), ('shell', 739), ('uso', 733), ('bp', 732), ('pagina', 731), ('bacia', 731), ('demais', 728), ('mistura', 723), ('atividade', 718), ('central', 717), ('pocos', 712), ('tres', 711), ('queda', 704), ('bem', 691), ('longo', 684), ('movimentacao', 680), ('universidade', 679), ('podem', 678), ('revendedores', 677), ('tecnologia', 670), ('refinaria', 668), ('brasileira', 652), ('lista', 650), ('inovacao', 647), ('edicao', 645), ('importado', 645), ('america', 642), ('conformes', 638), ('querosene', 635), ('eua', 635), ('centro', 634), ('formacao', 633), ('sdp', 633), ('alta', 633), ('dois', 632), ('enxofre', 632), ('ipiranga', 620), ('pe', 619), ('aviacao', 617), ('estabelece', 616), ('co', 616), ('volumes', 615), ('cerca', 614), ('engenharia', 613), ('produzido', 612), ('registro', 612), ('condicoes', 611), ('brasileiros', 609), ('brent', 609), ('proprio', 606), ('participacoes', 605), ('anterior', 603), ('deste', 602), ('concessao', 596), ('go', 595), ('xisto', 595), ('importacoes', 595), ('d&i', 594), ('contrato', 592), ('resolucoes', 592)]\n"
     ]
    }
   ],
   "source": [
    "imprime_info_corpus(texto)"
   ]
  },
  {
   "cell_type": "code",
   "execution_count": 28,
   "metadata": {
    "collapsed": true
   },
   "outputs": [],
   "source": [
    "#Checkpoint\n",
    "\n",
    "gravaArquivo(arquivoCorpusFinal, texto)"
   ]
  },
  {
   "cell_type": "code",
   "execution_count": null,
   "metadata": {
    "collapsed": true
   },
   "outputs": [],
   "source": []
  }
 ],
 "metadata": {
  "kernelspec": {
   "display_name": "Python 3",
   "language": "python",
   "name": "python3"
  },
  "language_info": {
   "codemirror_mode": {
    "name": "ipython",
    "version": 3
   },
   "file_extension": ".py",
   "mimetype": "text/x-python",
   "name": "python",
   "nbconvert_exporter": "python",
   "pygments_lexer": "ipython3",
   "version": "3.6.3"
  }
 },
 "nbformat": 4,
 "nbformat_minor": 2
}
