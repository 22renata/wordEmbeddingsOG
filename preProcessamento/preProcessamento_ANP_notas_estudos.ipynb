{
 "cells": [
  {
   "cell_type": "markdown",
   "metadata": {},
   "source": [
    "# Realiza o merge de um conjunto de arquivos texto de uma pasta para um único arquivo, depois aplica as técnicas de pré-processamento e filtros"
   ]
  },
  {
   "cell_type": "code",
   "execution_count": 48,
   "metadata": {
    "collapsed": true
   },
   "outputs": [],
   "source": [
    "import numpy as np\n",
    "import re\n",
    "import nltk\n",
    "from collections import Counter\n",
    "import os\n",
    "from pathlib import Path\n",
    "import datetime\n",
    "from string import ascii_lowercase\n",
    "import pandas as pd"
   ]
  },
  {
   "cell_type": "code",
   "execution_count": 46,
   "metadata": {},
   "outputs": [
    {
     "data": {
      "text/html": [
       "\n",
       "    <div class=\"bk-root\">\n",
       "        <a href=\"https://bokeh.pydata.org\" target=\"_blank\" class=\"bk-logo bk-logo-small bk-logo-notebook\"></a>\n",
       "        <span id=\"7b3bb3ac-9476-4786-9509-d146ef9d7350\">Loading BokehJS ...</span>\n",
       "    </div>"
      ]
     },
     "metadata": {},
     "output_type": "display_data"
    },
    {
     "data": {
      "application/javascript": [
       "\n",
       "(function(root) {\n",
       "  function now() {\n",
       "    return new Date();\n",
       "  }\n",
       "\n",
       "  var force = true;\n",
       "\n",
       "  if (typeof (root._bokeh_onload_callbacks) === \"undefined\" || force === true) {\n",
       "    root._bokeh_onload_callbacks = [];\n",
       "    root._bokeh_is_loading = undefined;\n",
       "  }\n",
       "\n",
       "  var JS_MIME_TYPE = 'application/javascript';\n",
       "  var HTML_MIME_TYPE = 'text/html';\n",
       "  var EXEC_MIME_TYPE = 'application/vnd.bokehjs_exec.v0+json';\n",
       "  var CLASS_NAME = 'output_bokeh rendered_html';\n",
       "\n",
       "  /**\n",
       "   * Render data to the DOM node\n",
       "   */\n",
       "  function render(props, node) {\n",
       "    var script = document.createElement(\"script\");\n",
       "    node.appendChild(script);\n",
       "  }\n",
       "\n",
       "  /**\n",
       "   * Handle when an output is cleared or removed\n",
       "   */\n",
       "  function handleClearOutput(event, handle) {\n",
       "    var cell = handle.cell;\n",
       "\n",
       "    var id = cell.output_area._bokeh_element_id;\n",
       "    var server_id = cell.output_area._bokeh_server_id;\n",
       "    // Clean up Bokeh references\n",
       "    if (id !== undefined) {\n",
       "      Bokeh.index[id].model.document.clear();\n",
       "      delete Bokeh.index[id];\n",
       "    }\n",
       "\n",
       "    if (server_id !== undefined) {\n",
       "      // Clean up Bokeh references\n",
       "      var cmd = \"from bokeh.io.state import curstate; print(curstate().uuid_to_server['\" + server_id + \"'].get_sessions()[0].document.roots[0]._id)\";\n",
       "      cell.notebook.kernel.execute(cmd, {\n",
       "        iopub: {\n",
       "          output: function(msg) {\n",
       "            var element_id = msg.content.text.trim();\n",
       "            Bokeh.index[element_id].model.document.clear();\n",
       "            delete Bokeh.index[element_id];\n",
       "          }\n",
       "        }\n",
       "      });\n",
       "      // Destroy server and session\n",
       "      var cmd = \"import bokeh.io.notebook as ion; ion.destroy_server('\" + server_id + \"')\";\n",
       "      cell.notebook.kernel.execute(cmd);\n",
       "    }\n",
       "  }\n",
       "\n",
       "  /**\n",
       "   * Handle when a new output is added\n",
       "   */\n",
       "  function handleAddOutput(event, handle) {\n",
       "    var output_area = handle.output_area;\n",
       "    var output = handle.output;\n",
       "\n",
       "    // limit handleAddOutput to display_data with EXEC_MIME_TYPE content only\n",
       "    if ((output.output_type != \"display_data\") || (!output.data.hasOwnProperty(EXEC_MIME_TYPE))) {\n",
       "      return\n",
       "    }\n",
       "\n",
       "    var toinsert = output_area.element.find(`.${CLASS_NAME.split(' ')[0]}`);\n",
       "\n",
       "    if (output.metadata[EXEC_MIME_TYPE][\"id\"] !== undefined) {\n",
       "      toinsert[0].firstChild.textContent = output.data[JS_MIME_TYPE];\n",
       "      // store reference to embed id on output_area\n",
       "      output_area._bokeh_element_id = output.metadata[EXEC_MIME_TYPE][\"id\"];\n",
       "    }\n",
       "    if (output.metadata[EXEC_MIME_TYPE][\"server_id\"] !== undefined) {\n",
       "      var bk_div = document.createElement(\"div\");\n",
       "      bk_div.innerHTML = output.data[HTML_MIME_TYPE];\n",
       "      var script_attrs = bk_div.children[0].attributes;\n",
       "      for (var i = 0; i < script_attrs.length; i++) {\n",
       "        toinsert[0].firstChild.setAttribute(script_attrs[i].name, script_attrs[i].value);\n",
       "      }\n",
       "      // store reference to server id on output_area\n",
       "      output_area._bokeh_server_id = output.metadata[EXEC_MIME_TYPE][\"server_id\"];\n",
       "    }\n",
       "  }\n",
       "\n",
       "  function register_renderer(events, OutputArea) {\n",
       "\n",
       "    function append_mime(data, metadata, element) {\n",
       "      // create a DOM node to render to\n",
       "      var toinsert = this.create_output_subarea(\n",
       "        metadata,\n",
       "        CLASS_NAME,\n",
       "        EXEC_MIME_TYPE\n",
       "      );\n",
       "      this.keyboard_manager.register_events(toinsert);\n",
       "      // Render to node\n",
       "      var props = {data: data, metadata: metadata[EXEC_MIME_TYPE]};\n",
       "      render(props, toinsert[0]);\n",
       "      element.append(toinsert);\n",
       "      return toinsert\n",
       "    }\n",
       "\n",
       "    /* Handle when an output is cleared or removed */\n",
       "    events.on('clear_output.CodeCell', handleClearOutput);\n",
       "    events.on('delete.Cell', handleClearOutput);\n",
       "\n",
       "    /* Handle when a new output is added */\n",
       "    events.on('output_added.OutputArea', handleAddOutput);\n",
       "\n",
       "    /**\n",
       "     * Register the mime type and append_mime function with output_area\n",
       "     */\n",
       "    OutputArea.prototype.register_mime_type(EXEC_MIME_TYPE, append_mime, {\n",
       "      /* Is output safe? */\n",
       "      safe: true,\n",
       "      /* Index of renderer in `output_area.display_order` */\n",
       "      index: 0\n",
       "    });\n",
       "  }\n",
       "\n",
       "  // register the mime type if in Jupyter Notebook environment and previously unregistered\n",
       "  if (root.Jupyter !== undefined) {\n",
       "    var events = require('base/js/events');\n",
       "    var OutputArea = require('notebook/js/outputarea').OutputArea;\n",
       "\n",
       "    if (OutputArea.prototype.mime_types().indexOf(EXEC_MIME_TYPE) == -1) {\n",
       "      register_renderer(events, OutputArea);\n",
       "    }\n",
       "  }\n",
       "\n",
       "  \n",
       "  if (typeof (root._bokeh_timeout) === \"undefined\" || force === true) {\n",
       "    root._bokeh_timeout = Date.now() + 5000;\n",
       "    root._bokeh_failed_load = false;\n",
       "  }\n",
       "\n",
       "  var NB_LOAD_WARNING = {'data': {'text/html':\n",
       "     \"<div style='background-color: #fdd'>\\n\"+\n",
       "     \"<p>\\n\"+\n",
       "     \"BokehJS does not appear to have successfully loaded. If loading BokehJS from CDN, this \\n\"+\n",
       "     \"may be due to a slow or bad network connection. Possible fixes:\\n\"+\n",
       "     \"</p>\\n\"+\n",
       "     \"<ul>\\n\"+\n",
       "     \"<li>re-rerun `output_notebook()` to attempt to load from CDN again, or</li>\\n\"+\n",
       "     \"<li>use INLINE resources instead, as so:</li>\\n\"+\n",
       "     \"</ul>\\n\"+\n",
       "     \"<code>\\n\"+\n",
       "     \"from bokeh.resources import INLINE\\n\"+\n",
       "     \"output_notebook(resources=INLINE)\\n\"+\n",
       "     \"</code>\\n\"+\n",
       "     \"</div>\"}};\n",
       "\n",
       "  function display_loaded() {\n",
       "    var el = document.getElementById(\"7b3bb3ac-9476-4786-9509-d146ef9d7350\");\n",
       "    if (el != null) {\n",
       "      el.textContent = \"BokehJS is loading...\";\n",
       "    }\n",
       "    if (root.Bokeh !== undefined) {\n",
       "      if (el != null) {\n",
       "        el.textContent = \"BokehJS \" + root.Bokeh.version + \" successfully loaded.\";\n",
       "      }\n",
       "    } else if (Date.now() < root._bokeh_timeout) {\n",
       "      setTimeout(display_loaded, 100)\n",
       "    }\n",
       "  }\n",
       "\n",
       "\n",
       "  function run_callbacks() {\n",
       "    try {\n",
       "      root._bokeh_onload_callbacks.forEach(function(callback) { callback() });\n",
       "    }\n",
       "    finally {\n",
       "      delete root._bokeh_onload_callbacks\n",
       "    }\n",
       "    console.info(\"Bokeh: all callbacks have finished\");\n",
       "  }\n",
       "\n",
       "  function load_libs(js_urls, callback) {\n",
       "    root._bokeh_onload_callbacks.push(callback);\n",
       "    if (root._bokeh_is_loading > 0) {\n",
       "      console.log(\"Bokeh: BokehJS is being loaded, scheduling callback at\", now());\n",
       "      return null;\n",
       "    }\n",
       "    if (js_urls == null || js_urls.length === 0) {\n",
       "      run_callbacks();\n",
       "      return null;\n",
       "    }\n",
       "    console.log(\"Bokeh: BokehJS not loaded, scheduling load and callback at\", now());\n",
       "    root._bokeh_is_loading = js_urls.length;\n",
       "    for (var i = 0; i < js_urls.length; i++) {\n",
       "      var url = js_urls[i];\n",
       "      var s = document.createElement('script');\n",
       "      s.src = url;\n",
       "      s.async = false;\n",
       "      s.onreadystatechange = s.onload = function() {\n",
       "        root._bokeh_is_loading--;\n",
       "        if (root._bokeh_is_loading === 0) {\n",
       "          console.log(\"Bokeh: all BokehJS libraries loaded\");\n",
       "          run_callbacks()\n",
       "        }\n",
       "      };\n",
       "      s.onerror = function() {\n",
       "        console.warn(\"failed to load library \" + url);\n",
       "      };\n",
       "      console.log(\"Bokeh: injecting script tag for BokehJS library: \", url);\n",
       "      document.getElementsByTagName(\"head\")[0].appendChild(s);\n",
       "    }\n",
       "  };var element = document.getElementById(\"7b3bb3ac-9476-4786-9509-d146ef9d7350\");\n",
       "  if (element == null) {\n",
       "    console.log(\"Bokeh: ERROR: autoload.js configured with elementid '7b3bb3ac-9476-4786-9509-d146ef9d7350' but no matching script tag was found. \")\n",
       "    return false;\n",
       "  }\n",
       "\n",
       "  var js_urls = [\"https://cdn.pydata.org/bokeh/release/bokeh-0.12.10.min.js\", \"https://cdn.pydata.org/bokeh/release/bokeh-widgets-0.12.10.min.js\", \"https://cdn.pydata.org/bokeh/release/bokeh-tables-0.12.10.min.js\", \"https://cdn.pydata.org/bokeh/release/bokeh-gl-0.12.10.min.js\"];\n",
       "\n",
       "  var inline_js = [\n",
       "    function(Bokeh) {\n",
       "      Bokeh.set_log_level(\"info\");\n",
       "    },\n",
       "    \n",
       "    function(Bokeh) {\n",
       "      \n",
       "    },\n",
       "    function(Bokeh) {\n",
       "      console.log(\"Bokeh: injecting CSS: https://cdn.pydata.org/bokeh/release/bokeh-0.12.10.min.css\");\n",
       "      Bokeh.embed.inject_css(\"https://cdn.pydata.org/bokeh/release/bokeh-0.12.10.min.css\");\n",
       "      console.log(\"Bokeh: injecting CSS: https://cdn.pydata.org/bokeh/release/bokeh-widgets-0.12.10.min.css\");\n",
       "      Bokeh.embed.inject_css(\"https://cdn.pydata.org/bokeh/release/bokeh-widgets-0.12.10.min.css\");\n",
       "      console.log(\"Bokeh: injecting CSS: https://cdn.pydata.org/bokeh/release/bokeh-tables-0.12.10.min.css\");\n",
       "      Bokeh.embed.inject_css(\"https://cdn.pydata.org/bokeh/release/bokeh-tables-0.12.10.min.css\");\n",
       "    }\n",
       "  ];\n",
       "\n",
       "  function run_inline_js() {\n",
       "    \n",
       "    if ((root.Bokeh !== undefined) || (force === true)) {\n",
       "      for (var i = 0; i < inline_js.length; i++) {\n",
       "        inline_js[i].call(root, root.Bokeh);\n",
       "      }if (force === true) {\n",
       "        display_loaded();\n",
       "      }} else if (Date.now() < root._bokeh_timeout) {\n",
       "      setTimeout(run_inline_js, 100);\n",
       "    } else if (!root._bokeh_failed_load) {\n",
       "      console.log(\"Bokeh: BokehJS failed to load within specified timeout.\");\n",
       "      root._bokeh_failed_load = true;\n",
       "    } else if (force !== true) {\n",
       "      var cell = $(document.getElementById(\"7b3bb3ac-9476-4786-9509-d146ef9d7350\")).parents('.cell').data().cell;\n",
       "      cell.output_area.append_execute_result(NB_LOAD_WARNING)\n",
       "    }\n",
       "\n",
       "  }\n",
       "\n",
       "  if (root._bokeh_is_loading === 0) {\n",
       "    console.log(\"Bokeh: BokehJS loaded, going straight to plotting\");\n",
       "    run_inline_js();\n",
       "  } else {\n",
       "    load_libs(js_urls, function() {\n",
       "      console.log(\"Bokeh: BokehJS plotting callback run at\", now());\n",
       "      run_inline_js();\n",
       "    });\n",
       "  }\n",
       "}(window));"
      ],
      "application/vnd.bokehjs_load.v0+json": "\n(function(root) {\n  function now() {\n    return new Date();\n  }\n\n  var force = true;\n\n  if (typeof (root._bokeh_onload_callbacks) === \"undefined\" || force === true) {\n    root._bokeh_onload_callbacks = [];\n    root._bokeh_is_loading = undefined;\n  }\n\n  \n\n  \n  if (typeof (root._bokeh_timeout) === \"undefined\" || force === true) {\n    root._bokeh_timeout = Date.now() + 5000;\n    root._bokeh_failed_load = false;\n  }\n\n  var NB_LOAD_WARNING = {'data': {'text/html':\n     \"<div style='background-color: #fdd'>\\n\"+\n     \"<p>\\n\"+\n     \"BokehJS does not appear to have successfully loaded. If loading BokehJS from CDN, this \\n\"+\n     \"may be due to a slow or bad network connection. Possible fixes:\\n\"+\n     \"</p>\\n\"+\n     \"<ul>\\n\"+\n     \"<li>re-rerun `output_notebook()` to attempt to load from CDN again, or</li>\\n\"+\n     \"<li>use INLINE resources instead, as so:</li>\\n\"+\n     \"</ul>\\n\"+\n     \"<code>\\n\"+\n     \"from bokeh.resources import INLINE\\n\"+\n     \"output_notebook(resources=INLINE)\\n\"+\n     \"</code>\\n\"+\n     \"</div>\"}};\n\n  function display_loaded() {\n    var el = document.getElementById(\"7b3bb3ac-9476-4786-9509-d146ef9d7350\");\n    if (el != null) {\n      el.textContent = \"BokehJS is loading...\";\n    }\n    if (root.Bokeh !== undefined) {\n      if (el != null) {\n        el.textContent = \"BokehJS \" + root.Bokeh.version + \" successfully loaded.\";\n      }\n    } else if (Date.now() < root._bokeh_timeout) {\n      setTimeout(display_loaded, 100)\n    }\n  }\n\n\n  function run_callbacks() {\n    try {\n      root._bokeh_onload_callbacks.forEach(function(callback) { callback() });\n    }\n    finally {\n      delete root._bokeh_onload_callbacks\n    }\n    console.info(\"Bokeh: all callbacks have finished\");\n  }\n\n  function load_libs(js_urls, callback) {\n    root._bokeh_onload_callbacks.push(callback);\n    if (root._bokeh_is_loading > 0) {\n      console.log(\"Bokeh: BokehJS is being loaded, scheduling callback at\", now());\n      return null;\n    }\n    if (js_urls == null || js_urls.length === 0) {\n      run_callbacks();\n      return null;\n    }\n    console.log(\"Bokeh: BokehJS not loaded, scheduling load and callback at\", now());\n    root._bokeh_is_loading = js_urls.length;\n    for (var i = 0; i < js_urls.length; i++) {\n      var url = js_urls[i];\n      var s = document.createElement('script');\n      s.src = url;\n      s.async = false;\n      s.onreadystatechange = s.onload = function() {\n        root._bokeh_is_loading--;\n        if (root._bokeh_is_loading === 0) {\n          console.log(\"Bokeh: all BokehJS libraries loaded\");\n          run_callbacks()\n        }\n      };\n      s.onerror = function() {\n        console.warn(\"failed to load library \" + url);\n      };\n      console.log(\"Bokeh: injecting script tag for BokehJS library: \", url);\n      document.getElementsByTagName(\"head\")[0].appendChild(s);\n    }\n  };var element = document.getElementById(\"7b3bb3ac-9476-4786-9509-d146ef9d7350\");\n  if (element == null) {\n    console.log(\"Bokeh: ERROR: autoload.js configured with elementid '7b3bb3ac-9476-4786-9509-d146ef9d7350' but no matching script tag was found. \")\n    return false;\n  }\n\n  var js_urls = [\"https://cdn.pydata.org/bokeh/release/bokeh-0.12.10.min.js\", \"https://cdn.pydata.org/bokeh/release/bokeh-widgets-0.12.10.min.js\", \"https://cdn.pydata.org/bokeh/release/bokeh-tables-0.12.10.min.js\", \"https://cdn.pydata.org/bokeh/release/bokeh-gl-0.12.10.min.js\"];\n\n  var inline_js = [\n    function(Bokeh) {\n      Bokeh.set_log_level(\"info\");\n    },\n    \n    function(Bokeh) {\n      \n    },\n    function(Bokeh) {\n      console.log(\"Bokeh: injecting CSS: https://cdn.pydata.org/bokeh/release/bokeh-0.12.10.min.css\");\n      Bokeh.embed.inject_css(\"https://cdn.pydata.org/bokeh/release/bokeh-0.12.10.min.css\");\n      console.log(\"Bokeh: injecting CSS: https://cdn.pydata.org/bokeh/release/bokeh-widgets-0.12.10.min.css\");\n      Bokeh.embed.inject_css(\"https://cdn.pydata.org/bokeh/release/bokeh-widgets-0.12.10.min.css\");\n      console.log(\"Bokeh: injecting CSS: https://cdn.pydata.org/bokeh/release/bokeh-tables-0.12.10.min.css\");\n      Bokeh.embed.inject_css(\"https://cdn.pydata.org/bokeh/release/bokeh-tables-0.12.10.min.css\");\n    }\n  ];\n\n  function run_inline_js() {\n    \n    if ((root.Bokeh !== undefined) || (force === true)) {\n      for (var i = 0; i < inline_js.length; i++) {\n        inline_js[i].call(root, root.Bokeh);\n      }if (force === true) {\n        display_loaded();\n      }} else if (Date.now() < root._bokeh_timeout) {\n      setTimeout(run_inline_js, 100);\n    } else if (!root._bokeh_failed_load) {\n      console.log(\"Bokeh: BokehJS failed to load within specified timeout.\");\n      root._bokeh_failed_load = true;\n    } else if (force !== true) {\n      var cell = $(document.getElementById(\"7b3bb3ac-9476-4786-9509-d146ef9d7350\")).parents('.cell').data().cell;\n      cell.output_area.append_execute_result(NB_LOAD_WARNING)\n    }\n\n  }\n\n  if (root._bokeh_is_loading === 0) {\n    console.log(\"Bokeh: BokehJS loaded, going straight to plotting\");\n    run_inline_js();\n  } else {\n    load_libs(js_urls, function() {\n      console.log(\"Bokeh: BokehJS plotting callback run at\", now());\n      run_inline_js();\n    });\n  }\n}(window));"
     },
     "metadata": {},
     "output_type": "display_data"
    }
   ],
   "source": [
    "from bokeh.models import ColumnDataSource, LabelSet\n",
    "from bokeh.plotting import figure, show, output_file\n",
    "from bokeh.io import output_notebook\n",
    "output_notebook()"
   ]
  },
  {
   "cell_type": "code",
   "execution_count": 47,
   "metadata": {},
   "outputs": [
    {
     "name": "stdout",
     "output_type": "stream",
     "text": [
      "Pasta de entrada:  ..\\..\\_Corpora\\ANP\\PRH\n"
     ]
    }
   ],
   "source": [
    "# Iterando os arquivos da pasta atual\n",
    "import os\n",
    "from pathlib import Path\n",
    "import datetime\n",
    "\n",
    "extensao = \"*.txt\"\n",
    "pastaentrada =  os.path.join(\"..\", \"..\", \"_Corpora\", \"ANP\", \"Notas e Estudos Tecnicos\")\n",
    "pastaSaida = \"ANP\"\n",
    "arquivoSaida = os.path.join(pastaSaida, 'anp_notas_estudos.txt')\n",
    "arquivoCorpusFinal = os.path.join(pastaSaida, 'anp_notas_estudos_final.txt')\n",
    "print(\"Pasta de entrada: \", pastaentrada)\n",
    "\n",
    "tokens = 0\n",
    "sentencas_totais = 0\n",
    "\n",
    "# cria a pasta de saida, se nao existir\n",
    "if not os.path.exists(pastaSaida):\n",
    "    os.makedirs(pastaSaida)"
   ]
  },
  {
   "cell_type": "code",
   "execution_count": 7,
   "metadata": {},
   "outputs": [
    {
     "name": "stdout",
     "output_type": "stream",
     "text": [
      "Lendo o arquivo  ..\\..\\_Corpora\\ANP\\Notas e Estudos Tecnicos\\1978.txt\n",
      "Lendo o arquivo  ..\\..\\_Corpora\\ANP\\Notas e Estudos Tecnicos\\27267.txt\n",
      "Lendo o arquivo  ..\\..\\_Corpora\\ANP\\Notas e Estudos Tecnicos\\29067.txt\n",
      "Lendo o arquivo  ..\\..\\_Corpora\\ANP\\Notas e Estudos Tecnicos\\31206.txt\n",
      "Lendo o arquivo  ..\\..\\_Corpora\\ANP\\Notas e Estudos Tecnicos\\32427.txt\n",
      "Lendo o arquivo  ..\\..\\_Corpora\\ANP\\Notas e Estudos Tecnicos\\44669.txt\n",
      "Lendo o arquivo  ..\\..\\_Corpora\\ANP\\Notas e Estudos Tecnicos\\57214.txt\n",
      "Lendo o arquivo  ..\\..\\_Corpora\\ANP\\Notas e Estudos Tecnicos\\58850.txt\n",
      "Lendo o arquivo  ..\\..\\_Corpora\\ANP\\Notas e Estudos Tecnicos\\58909.txt\n",
      "Lendo o arquivo  ..\\..\\_Corpora\\ANP\\Notas e Estudos Tecnicos\\58910.txt\n",
      "Lendo o arquivo  ..\\..\\_Corpora\\ANP\\Notas e Estudos Tecnicos\\58911.txt\n",
      "Lendo o arquivo  ..\\..\\_Corpora\\ANP\\Notas e Estudos Tecnicos\\58912.txt\n",
      "Lendo o arquivo  ..\\..\\_Corpora\\ANP\\Notas e Estudos Tecnicos\\58914.txt\n",
      "Lendo o arquivo  ..\\..\\_Corpora\\ANP\\Notas e Estudos Tecnicos\\58916.txt\n",
      "Lendo o arquivo  ..\\..\\_Corpora\\ANP\\Notas e Estudos Tecnicos\\58920.txt\n",
      "Lendo o arquivo  ..\\..\\_Corpora\\ANP\\Notas e Estudos Tecnicos\\59054.txt\n",
      "Lendo o arquivo  ..\\..\\_Corpora\\ANP\\Notas e Estudos Tecnicos\\59994.txt\n",
      "Lendo o arquivo  ..\\..\\_Corpora\\ANP\\Notas e Estudos Tecnicos\\60032.txt\n",
      "Lendo o arquivo  ..\\..\\_Corpora\\ANP\\Notas e Estudos Tecnicos\\61828.txt\n",
      "Lendo o arquivo  ..\\..\\_Corpora\\ANP\\Notas e Estudos Tecnicos\\61829.txt\n",
      "Lendo o arquivo  ..\\..\\_Corpora\\ANP\\Notas e Estudos Tecnicos\\63614.txt\n",
      "Lendo o arquivo  ..\\..\\_Corpora\\ANP\\Notas e Estudos Tecnicos\\65303.txt\n",
      "Lendo o arquivo  ..\\..\\_Corpora\\ANP\\Notas e Estudos Tecnicos\\65304.txt\n",
      "Lendo o arquivo  ..\\..\\_Corpora\\ANP\\Notas e Estudos Tecnicos\\65305.txt\n",
      "Lendo o arquivo  ..\\..\\_Corpora\\ANP\\Notas e Estudos Tecnicos\\65638.txt\n",
      "Lendo o arquivo  ..\\..\\_Corpora\\ANP\\Notas e Estudos Tecnicos\\65942.txt\n",
      "Lendo o arquivo  ..\\..\\_Corpora\\ANP\\Notas e Estudos Tecnicos\\66226.txt\n",
      "Lendo o arquivo  ..\\..\\_Corpora\\ANP\\Notas e Estudos Tecnicos\\66228.txt\n",
      "Lendo o arquivo  ..\\..\\_Corpora\\ANP\\Notas e Estudos Tecnicos\\66229.txt\n",
      "Lendo o arquivo  ..\\..\\_Corpora\\ANP\\Notas e Estudos Tecnicos\\66669.txt\n",
      "Lendo o arquivo  ..\\..\\_Corpora\\ANP\\Notas e Estudos Tecnicos\\68116.txt\n",
      "Lendo o arquivo  ..\\..\\_Corpora\\ANP\\Notas e Estudos Tecnicos\\68117.txt\n",
      "Lendo o arquivo  ..\\..\\_Corpora\\ANP\\Notas e Estudos Tecnicos\\68118.txt\n",
      "Lendo o arquivo  ..\\..\\_Corpora\\ANP\\Notas e Estudos Tecnicos\\68119.txt\n",
      "Lendo o arquivo  ..\\..\\_Corpora\\ANP\\Notas e Estudos Tecnicos\\68120.txt\n",
      "Lendo o arquivo  ..\\..\\_Corpora\\ANP\\Notas e Estudos Tecnicos\\68121.txt\n",
      "Lendo o arquivo  ..\\..\\_Corpora\\ANP\\Notas e Estudos Tecnicos\\68266.txt\n",
      "Lendo o arquivo  ..\\..\\_Corpora\\ANP\\Notas e Estudos Tecnicos\\68756.txt\n",
      "Lendo o arquivo  ..\\..\\_Corpora\\ANP\\Notas e Estudos Tecnicos\\69953.txt\n",
      "Lendo o arquivo  ..\\..\\_Corpora\\ANP\\Notas e Estudos Tecnicos\\69954.txt\n",
      "Lendo o arquivo  ..\\..\\_Corpora\\ANP\\Notas e Estudos Tecnicos\\69955.txt\n",
      "Lendo o arquivo  ..\\..\\_Corpora\\ANP\\Notas e Estudos Tecnicos\\69992.txt\n",
      "Lendo o arquivo  ..\\..\\_Corpora\\ANP\\Notas e Estudos Tecnicos\\70599.txt\n",
      "Lendo o arquivo  ..\\..\\_Corpora\\ANP\\Notas e Estudos Tecnicos\\71559.txt\n",
      "Lendo o arquivo  ..\\..\\_Corpora\\ANP\\Notas e Estudos Tecnicos\\72342.txt\n",
      "Lendo o arquivo  ..\\..\\_Corpora\\ANP\\Notas e Estudos Tecnicos\\73841.txt\n",
      "Lendo o arquivo  ..\\..\\_Corpora\\ANP\\Notas e Estudos Tecnicos\\74379.txt\n",
      "Lendo o arquivo  ..\\..\\_Corpora\\ANP\\Notas e Estudos Tecnicos\\74380.txt\n",
      "Lendo o arquivo  ..\\..\\_Corpora\\ANP\\Notas e Estudos Tecnicos\\74381.txt\n",
      "Lendo o arquivo  ..\\..\\_Corpora\\ANP\\Notas e Estudos Tecnicos\\74382.txt\n",
      "Lendo o arquivo  ..\\..\\_Corpora\\ANP\\Notas e Estudos Tecnicos\\74383.txt\n",
      "Lendo o arquivo  ..\\..\\_Corpora\\ANP\\Notas e Estudos Tecnicos\\74384.txt\n",
      "Lendo o arquivo  ..\\..\\_Corpora\\ANP\\Notas e Estudos Tecnicos\\74385.txt\n",
      "Lendo o arquivo  ..\\..\\_Corpora\\ANP\\Notas e Estudos Tecnicos\\74386.txt\n",
      "Lendo o arquivo  ..\\..\\_Corpora\\ANP\\Notas e Estudos Tecnicos\\74387.txt\n",
      "Lendo o arquivo  ..\\..\\_Corpora\\ANP\\Notas e Estudos Tecnicos\\74388.txt\n",
      "Lendo o arquivo  ..\\..\\_Corpora\\ANP\\Notas e Estudos Tecnicos\\74389.txt\n",
      "Lendo o arquivo  ..\\..\\_Corpora\\ANP\\Notas e Estudos Tecnicos\\77529.txt\n",
      "Lendo o arquivo  ..\\..\\_Corpora\\ANP\\Notas e Estudos Tecnicos\\77624.txt\n",
      "Lendo o arquivo  ..\\..\\_Corpora\\ANP\\Notas e Estudos Tecnicos\\79828 (1).txt\n",
      "Lendo o arquivo  ..\\..\\_Corpora\\ANP\\Notas e Estudos Tecnicos\\79828.txt\n",
      "Lendo o arquivo  ..\\..\\_Corpora\\ANP\\Notas e Estudos Tecnicos\\79830.txt\n",
      "Lendo o arquivo  ..\\..\\_Corpora\\ANP\\Notas e Estudos Tecnicos\\80711.txt\n",
      "Lendo o arquivo  ..\\..\\_Corpora\\ANP\\Notas e Estudos Tecnicos\\82612.txt\n",
      "Lendo o arquivo  ..\\..\\_Corpora\\ANP\\Notas e Estudos Tecnicos\\82613.txt\n",
      "Lendo o arquivo  ..\\..\\_Corpora\\ANP\\Notas e Estudos Tecnicos\\Contratos_Distribuidoras.txt\n",
      "Lendo o arquivo  ..\\..\\_Corpora\\ANP\\Notas e Estudos Tecnicos\\Contrato_de_Transporte.txt\n",
      "Lendo o arquivo  ..\\..\\_Corpora\\ANP\\Notas e Estudos Tecnicos\\Estimativa da contribuicao tributaria do setor de petroleo e gas_2008_versÃ£o corrigida.txt\n",
      "Lendo o arquivo  ..\\..\\_Corpora\\ANP\\Notas e Estudos Tecnicos\\Formacao_do_Preco.txt\n",
      "Lendo o arquivo  ..\\..\\_Corpora\\ANP\\Notas e Estudos Tecnicos\\livro_ANP_SCG.txt\n",
      "Lendo o arquivo  ..\\..\\_Corpora\\ANP\\Notas e Estudos Tecnicos\\Nota-Tecnica_Gasolina-Formulada_2018fev.txt\n",
      "Lendo o arquivo  ..\\..\\_Corpora\\ANP\\Notas e Estudos Tecnicos\\NotaTecnicaConjunta002_SDR_MME-TCU.txt\n",
      "Lendo o arquivo  ..\\..\\_Corpora\\ANP\\Notas e Estudos Tecnicos\\NotaTecnicaSDR088.txt\n",
      "Lendo o arquivo  ..\\..\\_Corpora\\ANP\\Notas e Estudos Tecnicos\\Nota_04_2017.txt\n",
      "Lendo o arquivo  ..\\..\\_Corpora\\ANP\\Notas e Estudos Tecnicos\\Nota_06_2007.txt\n",
      "Lendo o arquivo  ..\\..\\_Corpora\\ANP\\Notas e Estudos Tecnicos\\Nota_09_2006.txt\n",
      "Lendo o arquivo  ..\\..\\_Corpora\\ANP\\Notas e Estudos Tecnicos\\Nota_12_2006.txt\n",
      "Lendo o arquivo  ..\\..\\_Corpora\\ANP\\Notas e Estudos Tecnicos\\Nota_13_2016.txt\n",
      "Lendo o arquivo  ..\\..\\_Corpora\\ANP\\Notas e Estudos Tecnicos\\Nota_15_2006.txt\n",
      "Lendo o arquivo  ..\\..\\_Corpora\\ANP\\Notas e Estudos Tecnicos\\Nota_19_2015.txt\n",
      "Lendo o arquivo  ..\\..\\_Corpora\\ANP\\Notas e Estudos Tecnicos\\Nota_20_2006.txt\n",
      "Lendo o arquivo  ..\\..\\_Corpora\\ANP\\Notas e Estudos Tecnicos\\Nota_21_2006.txt\n",
      "Lendo o arquivo  ..\\..\\_Corpora\\ANP\\Notas e Estudos Tecnicos\\Nota_22_2006.txt\n",
      "Lendo o arquivo  ..\\..\\_Corpora\\ANP\\Notas e Estudos Tecnicos\\Nota_36_2002.txt\n",
      "Lendo o arquivo  ..\\..\\_Corpora\\ANP\\Notas e Estudos Tecnicos\\Nota_Experiencias_Internacionais.txt\n",
      "Lendo o arquivo  ..\\..\\_Corpora\\ANP\\Notas e Estudos Tecnicos\\Nota_Tecnica_ANP 023_2009.txt\n",
      "Lendo o arquivo  ..\\..\\_Corpora\\ANP\\Notas e Estudos Tecnicos\\Nota_Tecnica_ANP_001_1998.txt\n",
      "Lendo o arquivo  ..\\..\\_Corpora\\ANP\\Notas e Estudos Tecnicos\\Nota_Tecnica_ANP_002_1998.txt\n",
      "Lendo o arquivo  ..\\..\\_Corpora\\ANP\\Notas e Estudos Tecnicos\\Nota_Tecnica_ANP_003_1998.txt\n",
      "Lendo o arquivo  ..\\..\\_Corpora\\ANP\\Notas e Estudos Tecnicos\\Nota_Tecnica_ANP_004_1998.txt\n",
      "Lendo o arquivo  ..\\..\\_Corpora\\ANP\\Notas e Estudos Tecnicos\\Nota_Tecnica_ANP_005_1999.txt\n",
      "Lendo o arquivo  ..\\..\\_Corpora\\ANP\\Notas e Estudos Tecnicos\\Nota_Tecnica_ANP_006_1999.txt\n",
      "Lendo o arquivo  ..\\..\\_Corpora\\ANP\\Notas e Estudos Tecnicos\\Nota_Tecnica_ANP_007_1999.txt\n",
      "Lendo o arquivo  ..\\..\\_Corpora\\ANP\\Notas e Estudos Tecnicos\\Nota_Tecnica_ANP_008_1999.txt\n",
      "Lendo o arquivo  ..\\..\\_Corpora\\ANP\\Notas e Estudos Tecnicos\\Nota_Tecnica_ANP_009_2000.txt\n",
      "Lendo o arquivo  ..\\..\\_Corpora\\ANP\\Notas e Estudos Tecnicos\\Nota_Tecnica_ANP_010_2000.txt\n",
      "Lendo o arquivo  ..\\..\\_Corpora\\ANP\\Notas e Estudos Tecnicos\\Nota_Tecnica_ANP_011_2001.txt\n",
      "Lendo o arquivo  ..\\..\\_Corpora\\ANP\\Notas e Estudos Tecnicos\\Nota_Tecnica_ANP_012_2001.txt\n",
      "Lendo o arquivo  ..\\..\\_Corpora\\ANP\\Notas e Estudos Tecnicos\\Nota_Tecnica_ANP_013_2002.txt\n",
      "Lendo o arquivo  ..\\..\\_Corpora\\ANP\\Notas e Estudos Tecnicos\\Nota_Tecnica_ANP_014_2002.txt\n",
      "Lendo o arquivo  ..\\..\\_Corpora\\ANP\\Notas e Estudos Tecnicos\\Nota_Tecnica_ANP_016_2002.txt\n",
      "Lendo o arquivo  ..\\..\\_Corpora\\ANP\\Notas e Estudos Tecnicos\\Nota_Tecnica_ANP_017_2003.txt\n",
      "Lendo o arquivo  ..\\..\\_Corpora\\ANP\\Notas e Estudos Tecnicos\\Nota_Tecnica_ANP_018_2003.txt\n",
      "Lendo o arquivo  ..\\..\\_Corpora\\ANP\\Notas e Estudos Tecnicos\\Nota_Tecnica_ANP_019_2004.txt\n",
      "Lendo o arquivo  ..\\..\\_Corpora\\ANP\\Notas e Estudos Tecnicos\\Nota_Tecnica_ANP_020_2005.txt\n",
      "Lendo o arquivo  ..\\..\\_Corpora\\ANP\\Notas e Estudos Tecnicos\\Nota_Tecnica_ANP_021_2005.txt\n",
      "Lendo o arquivo  ..\\..\\_Corpora\\ANP\\Notas e Estudos Tecnicos\\NT011SRP2016.txt\n",
      "Lendo o arquivo  ..\\..\\_Corpora\\ANP\\Notas e Estudos Tecnicos\\Panorama_industria_gas_natural_Brasil_Julho_2002.txt\n",
      "Lendo o arquivo  ..\\..\\_Corpora\\ANP\\Notas e Estudos Tecnicos\\Participacoes_Cruzadas.txt\n",
      "Lendo o arquivo  ..\\..\\_Corpora\\ANP\\Notas e Estudos Tecnicos\\Primeiro_Relatorio-Versao_Final.txt\n",
      "Lendo o arquivo  ..\\..\\_Corpora\\ANP\\Notas e Estudos Tecnicos\\Regulatorio_versao_final.txt\n",
      "Lendo o arquivo  ..\\..\\_Corpora\\ANP\\Notas e Estudos Tecnicos\\RL-ANP-FPL-016_RC_F1-42.txt\n",
      "Lendo o arquivo  ..\\..\\_Corpora\\ANP\\Notas e Estudos Tecnicos\\RL-ANP-FPL-017_RC_F1-23.txt\n",
      "Lendo o arquivo  ..\\..\\_Corpora\\ANP\\Notas e Estudos Tecnicos\\RL-ANP-FPL-018_RC_F1-13 .txt\n",
      "Lendo o arquivo  ..\\..\\_Corpora\\ANP\\Notas e Estudos Tecnicos\\RL-ANP-FPL-019_RC_F1-6.txt\n",
      "Lendo o arquivo  ..\\..\\_Corpora\\ANP\\Notas e Estudos Tecnicos\\RL-ANP-FPL-020_RB_F1-13 .txt\n",
      "Lendo o arquivo  ..\\..\\_Corpora\\ANP\\Notas e Estudos Tecnicos\\RL-ANP-FPL-021_RC_F1-6.txt\n",
      "Lendo o arquivo  ..\\..\\_Corpora\\ANP\\Notas e Estudos Tecnicos\\RL-ANP-FPL-022_RC_F1-26.txt\n",
      "Lendo o arquivo  ..\\..\\_Corpora\\ANP\\Notas e Estudos Tecnicos\\RL-ANP-FPL-023_RC_F1-08.txt\n"
     ]
    },
    {
     "name": "stdout",
     "output_type": "stream",
     "text": [
      "Lendo o arquivo  ..\\..\\_Corpora\\ANP\\Notas e Estudos Tecnicos\\RL-ANP-FPL-024_RB_F1-11 .txt\n",
      "Lendo o arquivo  ..\\..\\_Corpora\\ANP\\Notas e Estudos Tecnicos\\RL-ANP-FPL-025_RC_F1-5.txt\n",
      "Lendo o arquivo  ..\\..\\_Corpora\\ANP\\Notas e Estudos Tecnicos\\RL-ANP-FPL-026_RA_F1-25.txt\n",
      "Lendo o arquivo  ..\\..\\_Corpora\\ANP\\Notas e Estudos Tecnicos\\RL-ANP-FPL-027_RB_F01-12.txt\n",
      "Lendo o arquivo  ..\\..\\_Corpora\\ANP\\Notas e Estudos Tecnicos\\RL-ANP-FPL-028_RA_F1-12.txt\n",
      "Lendo o arquivo  ..\\..\\_Corpora\\ANP\\Notas e Estudos Tecnicos\\RL-ANP-FPL-029_RA_F1-5.txt\n",
      "Lendo o arquivo  ..\\..\\_Corpora\\ANP\\Notas e Estudos Tecnicos\\RL-ANP-FPL-030_RC_F1-22.txt\n",
      "Lendo o arquivo  ..\\..\\_Corpora\\ANP\\Notas e Estudos Tecnicos\\RL-ANP-FPL-031_RB_F1-09.txt\n",
      "Lendo o arquivo  ..\\..\\_Corpora\\ANP\\Notas e Estudos Tecnicos\\RL-ANP-FPL-032_RB _F1-56.txt\n",
      "Lendo o arquivo  ..\\..\\_Corpora\\ANP\\Notas e Estudos Tecnicos\\RL-ANP-FPL-033_RA_F1-18.txt\n",
      "Lendo o arquivo  ..\\..\\_Corpora\\ANP\\Notas e Estudos Tecnicos\\RL-ANP-FPL-034_RB_F1-25.txt\n",
      "Lendo o arquivo  ..\\..\\_Corpora\\ANP\\Notas e Estudos Tecnicos\\RL-ANP-FPL-035_RA_F1-10.txt\n",
      "Lendo o arquivo  ..\\..\\_Corpora\\ANP\\Notas e Estudos Tecnicos\\RL-ANP-FPL-036_RA_F1-13.txt\n",
      "Lendo o arquivo  ..\\..\\_Corpora\\ANP\\Notas e Estudos Tecnicos\\RL-ANP-FPL-037_RA_F1-7.txt\n",
      "Lendo o arquivo  ..\\..\\_Corpora\\ANP\\Notas e Estudos Tecnicos\\RL-ANP-FPL-038_RA_F1-31.txt\n",
      "Lendo o arquivo  ..\\..\\_Corpora\\ANP\\Notas e Estudos Tecnicos\\RL-ANP-FPL-039_RA_F1-11.txt\n",
      "Lendo o arquivo  ..\\..\\_Corpora\\ANP\\Notas e Estudos Tecnicos\\RL-ANP-FPL-040_RA_F1-15.txt\n",
      "Lendo o arquivo  ..\\..\\_Corpora\\ANP\\Notas e Estudos Tecnicos\\RL-ANP-FPL-041_RA_F1-21.txt\n",
      "Lendo o arquivo  ..\\..\\_Corpora\\ANP\\Notas e Estudos Tecnicos\\RL-ANP-FPL-042_RA_F1-11.txt\n",
      "Lendo o arquivo  ..\\..\\_Corpora\\ANP\\Notas e Estudos Tecnicos\\RL-ANP-FPL-043_RA_F1-13.txt\n",
      "Lendo o arquivo  ..\\..\\_Corpora\\ANP\\Notas e Estudos Tecnicos\\RL-ANP-FPL-044_RA_F1-6.txt\n",
      "Lendo o arquivo  ..\\..\\_Corpora\\ANP\\Notas e Estudos Tecnicos\\Segundo_Relatorio-Versao_Final.txt\n",
      "Tempo total decorrido:  0:00:00.466046\n"
     ]
    }
   ],
   "source": [
    "momentoInicial = datetime.datetime.now()\n",
    "\n",
    "pastaArquivosCorpus = Path(pastaentrada).glob(extensao)\n",
    "\n",
    "for path in pastaArquivosCorpus:\n",
    "    path_arquivo = str(path) # because path is object not string\n",
    "    print(\"Lendo o arquivo \", path_arquivo)\n",
    "    \n",
    "    texto = ''\n",
    "    with open(path_arquivo, 'r', encoding=\"UTF-8\") as f:\n",
    "        texto = f.read()\n",
    "    \n",
    "    with open(arquivoSaida, 'a', encoding='utf8') as fp:\n",
    "        fp.write('%s' % texto)\n",
    "        \n",
    "momentoFinal = datetime.datetime.now()\n",
    "print(\"Tempo total decorrido: \", momentoFinal - momentoInicial)"
   ]
  },
  {
   "cell_type": "code",
   "execution_count": 10,
   "metadata": {
    "collapsed": true
   },
   "outputs": [],
   "source": [
    "def leTextoDeArquivo(arquivoEntrada):\n",
    "    with open(arquivoEntrada, 'r', encoding=\"UTF-8\") as f:\n",
    "        texto = f.read()\n",
    "        \n",
    "    #print(texto[:200])\n",
    "    return texto"
   ]
  },
  {
   "cell_type": "code",
   "execution_count": 11,
   "metadata": {
    "collapsed": true
   },
   "outputs": [],
   "source": [
    "def gravaArquivo(fileName, texto):\n",
    "    with open(arquivoSaida, 'w', encoding='utf8') as fp:\n",
    "        fp.write('%s\\n' % texto)"
   ]
  },
  {
   "cell_type": "code",
   "execution_count": 23,
   "metadata": {},
   "outputs": [],
   "source": [
    "def imprime_info_corpus(texto):\n",
    "    word_counts = Counter()\n",
    "    tokens_totais = 0\n",
    "    # Tokenize and remove short and malformed sentences.\n",
    "    for sent in texto.split():\n",
    "        #print(sent)\n",
    "        tokens_totais += sent.count(' ') + 1\n",
    "        word_counts[sent] += 1\n",
    "        \n",
    "    print('Total de tokens analisados: ', \"{:,}\".format(tokens_totais))\n",
    "    print('Tamanho do Vocabulário: ', \"{:,}\".format(len(word_counts)))\n",
    "    print(\"\\n\")\n",
    "    print(word_counts.most_common(300))\n",
    "    \n",
    "    most_common = []\n",
    "    for common_word in word_counts.most_common(1000):\n",
    "        most_common.append(common_word[1])\n",
    "\n",
    "#    hist, edges = np.histogram(most_common, density=True, bins=100, normed=True)\n",
    "\n",
    "#    p = figure(tools=\"pan,wheel_zoom,reset,save\",\n",
    "#               toolbar_location=\"above\",\n",
    "#               title=\"Top-1000 words distribution\")\n",
    "#    p.quad(top=hist, bottom=0, left=edges[:-1], right=edges[1:], line_color=\"#555555\")\n",
    "#    show(p)  "
   ]
  },
  {
   "cell_type": "code",
   "execution_count": 16,
   "metadata": {},
   "outputs": [],
   "source": [
    "texto = leTextoDeArquivo(arquivoSaida)"
   ]
  },
  {
   "cell_type": "code",
   "execution_count": 17,
   "metadata": {},
   "outputs": [
    {
     "name": "stdout",
     "output_type": "stream",
     "text": [
      "Total de tokens analisados:  1,238,429\n",
      "Tamanho do Vocabulário:  91,391\n",
      "\n",
      "\n",
      "[('de', 73125), ('a', 30581), ('e', 24495), ('do', 20213), ('da', 17526), ('o', 16679), ('que', 12216), ('em', 11339), ('para', 9674), ('the', 8971), ('no', 8515), ('of', 7520), ('os', 7388), ('and', 7047), ('as', 6883), ('dos', 6731), ('gás', 6145), ('na', 5948), ('_', 5600), ('com', 5325), ('-', 5125), ('A', 5040), ('por', 4910), ('das', 4902), ('à', 4868), ('ao', 4726), ('to', 4406), ('um', 4402), ('é', 4250), ('não', 4056), ('uma', 4045), ('–', 3960), ('*', 3686), ('como', 3595), ('ou', 3352), ('natural', 3121), ('in', 3104), ('pela', 2945), ('se', 2870), ('ser', 2843), ('O', 2759), ('entre', 2674), ('DE', 2637), ('transporte', 2465), ('nos', 2256), ('preços', 2170), ('for', 2083), ('ANP', 2047), ('mais', 2010), ('mercado', 2007), ('pelo', 1871), ('be', 1808), ('produção', 1698), ('nº', 1664), ('são', 1627), ('foi', 1599), ('petróleo', 1578), ('aos', 1536), ('sua', 1530), ('Lei', 1486), ('E', 1474), ('Gás', 1465), ('1', 1330), ('is', 1284), ('0', 1280), ('sobre', 1275), ('atividades', 1262), ('that', 1256), ('on', 1254), ('capacidade', 1242), ('às', 1237), ('No', 1232), ('from', 1229), ('nas', 1222), ('0.000', 1219), ('preço', 1184), ('\\uf084', 1180), ('partir', 1153), ('Capacidade', 1143), ('The', 1134), ('empresas', 1133), ('maior', 1077), ('até', 1062), ('pode', 1052), ('indústria', 1035), ('setor', 1034), ('2', 1018), ('caso', 1000), ('or', 987), ('Tabela', 984), ('custos', 981), ('3', 978), ('Em', 967), ('contratos', 966), ('distribuição', 945), ('também', 941), ('gas', 931), ('•', 927), ('cada', 926), ('Natural', 921), ('processo', 920), ('forma', 919), ('seu', 918), ('atividade', 916), ('As', 896), ('relação', 889), ('Os', 888), ('agentes', 875), ('seus', 873), ('with', 872), ('5', 867), ('natural,', 866), ('que,', 866), ('valor', 845), ('parte', 841), ('foram', 815), ('9', 807), ('GLP', 798), ('demanda', 789), ('SE', 789), ('4', 785), ('by', 779), ('water', 779), ('sendo', 776), ('consumo', 773), ('well', 772), ('6', 758), ('are', 747), ('acesso', 742), ('/', 739), ('meio', 735), ('energia', 735), ('REV.', 733), ('qual', 725), ('acordo', 725), ('Gas', 720), ('quando', 714), ('modelo', 711), ('participação', 709), ('mesmo', 706), ('já', 699), ('Figura', 684), ('apenas', 675), ('longo', 666), ('aumento', 665), ('comercialização', 664), ('PARA', 660), ('ainda', 650), ('ponto', 645), ('MODELO', 643), ('tem', 638), ('bem', 636), ('podem', 632), ('suas', 631), ('e,', 629), ('Flow', 629), ('quanto', 626), ('8', 625), ('Gasoduto', 622), ('Nº', 621), ('condições', 619), ('base', 619), ('operação', 612), ('deve', 612), ('gasodutos', 608), ('would', 608), ('pelos', 605), ('este', 602), ('regulação', 602), ('cálculo', 602), ('desenvolvimento', 601), ('Max', 599), ('custo', 596), ('mercados', 593), ('Fonte:', 588), ('fracturing', 588), ('países', 586), ('período', 585), ('combustíveis', 584), ('Rio', 583), ('empresa', 580), ('DO', 576), ('esta', 575), ('=', 573), ('valores', 573), ('informações', 572), ('seja', 565), ('quais', 563), ('Brasil', 562), ('conforme', 561), ('total', 560), ('@A\\x14', 560), ('7', 557), ('Petrobras', 552), ('outros', 550), ('ANP,', 550), ('gasoduto', 549), ('Para', 548), ('transporte,', 548), ('objetivo', 547), ('CAPACIDADE', 545), ('será', 544), ('vez', 543), ('Transporte', 542), ('10', 540), ('está', 536), ('termos', 536), ('serviço', 530), ('investimentos', 527), ('tarifas', 525), ('redução', 524), ('volume', 521), ('oferta', 518), ('gasolina', 518), ('13', 515), ('instalações', 515), ('crescimento', 514), ('&', 514), ('Resolução', 511), ('GASODUTOS', 509), ('12', 507), ('Petróleo', 505), ('natural.', 503), ('exploração', 500), ('sistema', 495), ('novos', 494), ('De', 494), ('mas', 488), ('UK', 488), ('RELATÓRIO', 488), ('tais', 487), ('anos', 487), ('Nota', 487), ('tal', 486), ('Na', 484), ('qualquer', 484), ('São', 483), ('C', 483), ('AVALIAÇÃO', 482), ('should', 481), ('análise', 480), ('I', 478), ('PROGRAMA:', 478), ('TÍTULO:', 478), ('D', 477), ('prazo', 475), ('TEÓRICO', 475), ('COMPUTACIONAL', 475), ('DA', 474), ('uso', 473), ('which', 473), ('consumidores', 468), (')', 466), ('Estado', 465), ('II', 465), ('referência', 461), ('Técnica', 458), ('\\uf0b7', 454), ('deste', 452), ('entrada', 452), ('serem', 452), ('this', 452), ('hydraulic', 450), ('recursos', 449), ('FOLHA', 449), ('serviços', 448), ('Agência', 447), ('at', 446), ('estão', 445), ('dados', 445), ('através', 444), ('Nacional', 443), ('may', 442), ('estrutura', 441), ('Por', 440), ('concorrência', 439), ('devem', 437), ('Portaria', 437), ('not', 435), ('April', 433), ('an', 432), ('(', 428), ('função', 427), ('há', 427), ('cadeia', 424), ('além', 423), ('principais', 422), ('Energy', 422), ('oil', 422), ('10³m³/dia', 422), ('nacional', 421), ('venda', 421), ('100', 420), ('final', 420), ('modo', 416), ('dois', 416), ('veículos', 416), ('apresenta', 415), ('site', 415), ('política', 414)]\n"
     ]
    },
    {
     "data": {
      "text/html": [
       "\n",
       "<div class=\"bk-root\">\n",
       "    <div class=\"bk-plotdiv\" id=\"d67ed854-e2ec-40d5-8bde-efd221ae1f69\"></div>\n",
       "</div>"
      ]
     },
     "metadata": {},
     "output_type": "display_data"
    },
    {
     "data": {
      "application/javascript": [
       "(function(root) {\n",
       "  function embed_document(root) {\n",
       "    var docs_json = {\"aa0930c8-9b7d-4f70-9074-8ac764efafc2\":{\"roots\":{\"references\":[{\"attributes\":{\"bottom\":{\"value\":0},\"fill_alpha\":{\"value\":0.1},\"fill_color\":{\"value\":\"#1f77b4\"},\"left\":{\"field\":\"left\"},\"line_alpha\":{\"value\":0.1},\"line_color\":{\"value\":\"#1f77b4\"},\"right\":{\"field\":\"right\"},\"top\":{\"field\":\"top\"}},\"id\":\"6827ae01-c2b2-46b6-ab4c-ccabed234b4c\",\"type\":\"Quad\"},{\"attributes\":{\"formatter\":{\"id\":\"2d338920-c7c2-4ae0-942c-58bc3c010d4d\",\"type\":\"BasicTickFormatter\"},\"plot\":{\"id\":\"1b9cb89f-618b-4752-9595-04dcfc9b8436\",\"subtype\":\"Figure\",\"type\":\"Plot\"},\"ticker\":{\"id\":\"065efccd-db2d-4ced-a7ff-4807d008ba80\",\"type\":\"BasicTicker\"}},\"id\":\"7aeb768b-c388-41bf-8d36-3312fd360f95\",\"type\":\"LinearAxis\"},{\"attributes\":{\"active_drag\":\"auto\",\"active_inspect\":\"auto\",\"active_scroll\":\"auto\",\"active_tap\":\"auto\",\"tools\":[{\"id\":\"b2d070d8-db0d-4449-9130-f81d1bfb4005\",\"type\":\"PanTool\"},{\"id\":\"c52510bb-6d19-460d-afe1-2afcf95bc327\",\"type\":\"WheelZoomTool\"},{\"id\":\"3a91f543-92b4-4179-a733-9dac53617149\",\"type\":\"ResetTool\"},{\"id\":\"46ac73a7-fa38-401f-a4b8-0a4aa46e6284\",\"type\":\"SaveTool\"}]},\"id\":\"f0ecb510-9861-4314-8fc9-6216332b3ba5\",\"type\":\"Toolbar\"},{\"attributes\":{},\"id\":\"2d338920-c7c2-4ae0-942c-58bc3c010d4d\",\"type\":\"BasicTickFormatter\"},{\"attributes\":{},\"id\":\"065efccd-db2d-4ced-a7ff-4807d008ba80\",\"type\":\"BasicTicker\"},{\"attributes\":{\"callback\":null},\"id\":\"cc1db77f-cda5-4cdf-8d61-3b67f2e1e80a\",\"type\":\"DataRange1d\"},{\"attributes\":{},\"id\":\"3a91f543-92b4-4179-a733-9dac53617149\",\"type\":\"ResetTool\"},{\"attributes\":{\"below\":[{\"id\":\"66288d00-f0f2-4acc-8b00-8816ffe2e1f2\",\"type\":\"LinearAxis\"}],\"left\":[{\"id\":\"7aeb768b-c388-41bf-8d36-3312fd360f95\",\"type\":\"LinearAxis\"}],\"renderers\":[{\"id\":\"66288d00-f0f2-4acc-8b00-8816ffe2e1f2\",\"type\":\"LinearAxis\"},{\"id\":\"301c2173-85cb-4b4e-b35e-272a583d2495\",\"type\":\"Grid\"},{\"id\":\"7aeb768b-c388-41bf-8d36-3312fd360f95\",\"type\":\"LinearAxis\"},{\"id\":\"37944a10-f66f-444f-9596-088b88f35098\",\"type\":\"Grid\"},{\"id\":\"4c9264bb-0ab7-41c4-ab70-4430ec8eb009\",\"type\":\"GlyphRenderer\"}],\"title\":{\"id\":\"0d12c7d2-2221-4f81-87e9-5bbf930d1ea3\",\"type\":\"Title\"},\"toolbar\":{\"id\":\"f0ecb510-9861-4314-8fc9-6216332b3ba5\",\"type\":\"Toolbar\"},\"toolbar_location\":\"above\",\"x_range\":{\"id\":\"cc1db77f-cda5-4cdf-8d61-3b67f2e1e80a\",\"type\":\"DataRange1d\"},\"x_scale\":{\"id\":\"aabd8c94-c6bc-4dd2-8c6b-5c9f103ae8cf\",\"type\":\"LinearScale\"},\"y_range\":{\"id\":\"e9c10bd3-505b-4329-b828-4bbdde79b336\",\"type\":\"DataRange1d\"},\"y_scale\":{\"id\":\"f289758d-bdd2-45cc-a636-2e8c74ad7de8\",\"type\":\"LinearScale\"}},\"id\":\"1b9cb89f-618b-4752-9595-04dcfc9b8436\",\"subtype\":\"Figure\",\"type\":\"Plot\"},{\"attributes\":{\"dimension\":1,\"plot\":{\"id\":\"1b9cb89f-618b-4752-9595-04dcfc9b8436\",\"subtype\":\"Figure\",\"type\":\"Plot\"},\"ticker\":{\"id\":\"065efccd-db2d-4ced-a7ff-4807d008ba80\",\"type\":\"BasicTicker\"}},\"id\":\"37944a10-f66f-444f-9596-088b88f35098\",\"type\":\"Grid\"},{\"attributes\":{},\"id\":\"46ac73a7-fa38-401f-a4b8-0a4aa46e6284\",\"type\":\"SaveTool\"},{\"attributes\":{},\"id\":\"aabd8c94-c6bc-4dd2-8c6b-5c9f103ae8cf\",\"type\":\"LinearScale\"},{\"attributes\":{\"callback\":null},\"id\":\"e9c10bd3-505b-4329-b828-4bbdde79b336\",\"type\":\"DataRange1d\"},{\"attributes\":{\"bottom\":{\"value\":0},\"fill_color\":{\"value\":\"#1f77b4\"},\"left\":{\"field\":\"left\"},\"line_color\":{\"value\":\"#555555\"},\"right\":{\"field\":\"right\"},\"top\":{\"field\":\"top\"}},\"id\":\"75981d70-de76-492b-88ee-26ce03bc0410\",\"type\":\"Quad\"},{\"attributes\":{},\"id\":\"b2d070d8-db0d-4449-9130-f81d1bfb4005\",\"type\":\"PanTool\"},{\"attributes\":{},\"id\":\"77661d71-4943-4dd4-ab89-fd883de3b879\",\"type\":\"BasicTickFormatter\"},{\"attributes\":{\"callback\":null,\"column_names\":[\"left\",\"right\",\"top\"],\"data\":{\"left\":{\"__ndarray__\":\"AAAAAACgYUAfhetRuDaLQB+F61G4AplA16NwPQo1okAfhetRuOinQGdmZmZmnK1A16NwPQqosUB7FK5H4YG0QB+F61G4W7dAw/UoXI81ukBnZmZmZg+9QAvXo3A96b9A16NwPYphwUApXI/Cdc7CQHsUrkdhO8RAzczMzEyoxUAfhetROBXHQHE9CtcjgshAw/UoXA/vyUAVrkfh+lvLQGdmZmbmyMxAuR6F69E1zkAL16NwvaLPQK5H4XrUh9BA16NwPUo+0UAAAAAAwPTRQClcj8I1q9JAUrgehath00B7FK5HIRjUQKRwPQqXztRAzczMzAyF1UD2KFyPgjvWQB+F61H48dZASOF6FG6o10BxPQrX417YQJqZmZlZFdlAw/UoXM/L2UDsUbgeRYLaQBWuR+G6ONtAPgrXozDv20BnZmZmpqXcQJDC9SgcXN1AuR6F65ES3kDiehSuB8neQAvXo3B9f99AmpmZmfka4ECuR+F6NHbgQMP1KFxv0eBA16NwPaos4UDsUbge5YfhQAAAAAAg4+FAFa5H4Vo+4kApXI/ClZniQD4K16PQ9OJAUrgehQtQ40BnZmZmRqvjQHsUrkeBBuRAkML1KLxh5ECkcD0K97zkQLkehesxGOVAzczMzGxz5UDiehSup87lQPYoXI/iKeZAC9ejcB2F5kAfhetRWODmQDMzMzOTO+dASOF6FM6W50Bcj8L1CPLnQHE9CtdDTehAhetRuH6o6ECamZmZuQPpQK5H4Xr0XulAw/UoXC+66UDXo3A9ahXqQOxRuB6lcOpAAAAAAODL6kAVrkfhGifrQClcj8JVgutAPgrXo5Dd60BSuB6FyzjsQGdmZmYGlOxAexSuR0Hv7ECQwvUofErtQKRwPQq3pe1AuR6F6/EA7kDNzMzMLFzuQOJ6FK5nt+5A9ihcj6IS70AL16Nw3W3vQB+F61EYye9AmpmZmSkS8ECkcD0Kxz/wQK5H4XpkbfBAuR6F6wGb8EDD9Shcn8jwQM3MzMw89vBA16NwPdoj8UDhehSud1HxQOxRuB4Vf/FA9ihcj7Ks8UA=\",\"dtype\":\"float64\",\"shape\":[100]},\"right\":{\"__ndarray__\":\"H4XrUbg2i0AfhetRuAKZQNejcD0KNaJAH4XrUbjop0BnZmZmZpytQNejcD0KqLFAexSuR+GBtEAfhetRuFu3QMP1KFyPNbpAZ2ZmZmYPvUAL16NwPem/QNejcD2KYcFAKVyPwnXOwkB7FK5HYTvEQM3MzMxMqMVAH4XrUTgVx0BxPQrXI4LIQMP1KFwP78lAFa5H4fpby0BnZmZm5sjMQLkehevRNc5AC9ejcL2iz0CuR+F61IfQQNejcD1KPtFAAAAAAMD00UApXI/CNavSQFK4HoWrYdNAexSuRyEY1ECkcD0Kl87UQM3MzMwMhdVA9ihcj4I71kAfhetR+PHWQEjhehRuqNdAcT0K1+Ne2ECamZmZWRXZQMP1KFzPy9lA7FG4HkWC2kAVrkfhujjbQD4K16Mw79tAZ2ZmZqal3ECQwvUoHFzdQLkeheuREt5A4noUrgfJ3kAL16NwfX/fQJqZmZn5GuBArkfhejR24EDD9Shcb9HgQNejcD2qLOFA7FG4HuWH4UAAAAAAIOPhQBWuR+FaPuJAKVyPwpWZ4kA+Ctej0PTiQFK4HoULUONAZ2ZmZkar40B7FK5HgQbkQJDC9Si8YeRApHA9Cve85EC5HoXrMRjlQM3MzMxsc+VA4noUrqfO5UD2KFyP4inmQAvXo3AdheZAH4XrUVjg5kAzMzMzkzvnQEjhehTOludAXI/C9Qjy50BxPQrXQ03oQIXrUbh+qOhAmpmZmbkD6UCuR+F69F7pQMP1KFwvuulA16NwPWoV6kDsUbgepXDqQAAAAADgy+pAFa5H4Ron60ApXI/CVYLrQD4K16OQ3etAUrgehcs47EBnZmZmBpTsQHsUrkdB7+xAkML1KHxK7UCkcD0Kt6XtQLkehevxAO5AzczMzCxc7kDiehSuZ7fuQPYoXI+iEu9AC9ejcN1t70AfhetRGMnvQJqZmZkpEvBApHA9Csc/8ECuR+F6ZG3wQLkehesBm/BAw/UoXJ/I8EDNzMzMPPbwQNejcD3aI/FA4XoUrndR8UDsUbgeFX/xQPYoXI+yrPFAAAAAAFDa8UA=\",\"dtype\":\"float64\",\"shape\":[100]},\"top\":{\"__ndarray__\":\"LMSbe7n6Uz/b21d3QcETP5MsJvKbm+8+XBxesTQd5D6DKPQhArzcPlIYLOGaPeE+Txgs4Zo94T5PGCzhmj3RPmkgkIHO/LY+aSCQgc781j5pIJCBzvy2PnIgkIHO/LY+aSCQgc78tj5pIJCBzvy2PgAAAAAAAAAAaSCQgc78tj5pIJCBzvy2PgAAAAAAAAAAAAAAAAAAAAAAAAAAAAAAAAAAAAAAAAAAAAAAAAAAAAB5IJCBzvy2PmkgkIHO/LY+AAAAAAAAAAAAAAAAAAAAAAAAAAAAAAAAaSCQgc78tj4AAAAAAAAAAAAAAAAAAAAAAAAAAAAAAAAAAAAAAAAAAAAAAAAAAAAAaSCQgc78tj4AAAAAAAAAAAAAAAAAAAAAAAAAAAAAAAAAAAAAAAAAAAAAAAAAAAAAAAAAAAAAAAAAAAAAAAAAAGkgkIHO/LY+AAAAAAAAAAAAAAAAAAAAAAAAAAAAAAAAAAAAAAAAAAAAAAAAAAAAAAAAAAAAAAAAAAAAAAAAAAAAAAAAAAAAAAAAAAAAAAAAAAAAAAAAAAAAAAAAAAAAAAAAAAAAAAAAAAAAAAAAAAAAAAAAAAAAAAAAAAAAAAAAAAAAAAAAAAAAAAAAAAAAAAAAAAAAAAAAAAAAAAAAAAAAAAAAAAAAAAAAAAAAAAAAAAAAAAAAAAAAAAAAAAAAAAAAAAAAAAAAAAAAAAAAAAAAAAAAAAAAAAAAAAAAAAAAAAAAAAAAAAAAAAAAAAAAAAAAAAAAAAAAAAAAAAAAAAAAAAAAAAAAAAAAAAAAAAAAAAAAAAAAAAAAAAAAAAAAAAAAAAAAAAAAAAAAAAAAAAAAAAAAAAAAAAAAAAAAAAAAAAAAAAAAAAAAAAAAAAAAAAAAAAAAAAAAAAAAAAAAAAAAAAAAAAAAAAAAAAAAAAAAAAAAAAAAAAAAAAAAAAAAAAAAAAAAAAAAAAAAAAAAAAAAAAAAAAAAAAAAAAAAAAAAAAAAAAAAAAAAAAAAAAAAAAAAAAAAAAAAAAAAAAAAAAAAAAAAAAAAAAAAAAAAAAAAiSCQgc78tj4=\",\"dtype\":\"float64\",\"shape\":[100]}}},\"id\":\"cdc0261d-a2f9-4c9c-bd52-2c124c6d576b\",\"type\":\"ColumnDataSource\"},{\"attributes\":{},\"id\":\"f289758d-bdd2-45cc-a636-2e8c74ad7de8\",\"type\":\"LinearScale\"},{\"attributes\":{\"plot\":{\"id\":\"1b9cb89f-618b-4752-9595-04dcfc9b8436\",\"subtype\":\"Figure\",\"type\":\"Plot\"},\"ticker\":{\"id\":\"a94a74c4-ea61-41bd-a386-c6dfc6d8ff4e\",\"type\":\"BasicTicker\"}},\"id\":\"301c2173-85cb-4b4e-b35e-272a583d2495\",\"type\":\"Grid\"},{\"attributes\":{\"plot\":null,\"text\":\"Top-1000 words distribution\"},\"id\":\"0d12c7d2-2221-4f81-87e9-5bbf930d1ea3\",\"type\":\"Title\"},{\"attributes\":{\"formatter\":{\"id\":\"77661d71-4943-4dd4-ab89-fd883de3b879\",\"type\":\"BasicTickFormatter\"},\"plot\":{\"id\":\"1b9cb89f-618b-4752-9595-04dcfc9b8436\",\"subtype\":\"Figure\",\"type\":\"Plot\"},\"ticker\":{\"id\":\"a94a74c4-ea61-41bd-a386-c6dfc6d8ff4e\",\"type\":\"BasicTicker\"}},\"id\":\"66288d00-f0f2-4acc-8b00-8816ffe2e1f2\",\"type\":\"LinearAxis\"},{\"attributes\":{},\"id\":\"a94a74c4-ea61-41bd-a386-c6dfc6d8ff4e\",\"type\":\"BasicTicker\"},{\"attributes\":{\"data_source\":{\"id\":\"cdc0261d-a2f9-4c9c-bd52-2c124c6d576b\",\"type\":\"ColumnDataSource\"},\"glyph\":{\"id\":\"75981d70-de76-492b-88ee-26ce03bc0410\",\"type\":\"Quad\"},\"hover_glyph\":null,\"muted_glyph\":null,\"nonselection_glyph\":{\"id\":\"6827ae01-c2b2-46b6-ab4c-ccabed234b4c\",\"type\":\"Quad\"},\"selection_glyph\":null,\"view\":{\"id\":\"8e6adabc-806b-4491-a748-84ac02e368ce\",\"type\":\"CDSView\"}},\"id\":\"4c9264bb-0ab7-41c4-ab70-4430ec8eb009\",\"type\":\"GlyphRenderer\"},{\"attributes\":{\"source\":{\"id\":\"cdc0261d-a2f9-4c9c-bd52-2c124c6d576b\",\"type\":\"ColumnDataSource\"}},\"id\":\"8e6adabc-806b-4491-a748-84ac02e368ce\",\"type\":\"CDSView\"},{\"attributes\":{},\"id\":\"c52510bb-6d19-460d-afe1-2afcf95bc327\",\"type\":\"WheelZoomTool\"}],\"root_ids\":[\"1b9cb89f-618b-4752-9595-04dcfc9b8436\"]},\"title\":\"Bokeh Application\",\"version\":\"0.12.10\"}};\n",
       "    var render_items = [{\"docid\":\"aa0930c8-9b7d-4f70-9074-8ac764efafc2\",\"elementid\":\"d67ed854-e2ec-40d5-8bde-efd221ae1f69\",\"modelid\":\"1b9cb89f-618b-4752-9595-04dcfc9b8436\"}];\n",
       "\n",
       "    root.Bokeh.embed.embed_items(docs_json, render_items);\n",
       "  }\n",
       "\n",
       "  if (root.Bokeh !== undefined) {\n",
       "    embed_document(root);\n",
       "  } else {\n",
       "    var attempts = 0;\n",
       "    var timer = setInterval(function(root) {\n",
       "      if (root.Bokeh !== undefined) {\n",
       "        embed_document(root);\n",
       "        clearInterval(timer);\n",
       "      }\n",
       "      attempts++;\n",
       "      if (attempts > 100) {\n",
       "        console.log(\"Bokeh: ERROR: Unable to embed document because BokehJS library is missing\")\n",
       "        clearInterval(timer);\n",
       "      }\n",
       "    }, 10, root)\n",
       "  }\n",
       "})(window);"
      ],
      "application/vnd.bokehjs_exec.v0+json": ""
     },
     "metadata": {
      "application/vnd.bokehjs_exec.v0+json": {
       "id": "1b9cb89f-618b-4752-9595-04dcfc9b8436"
      }
     },
     "output_type": "display_data"
    }
   ],
   "source": [
    "imprime_info_corpus(texto)"
   ]
  },
  {
   "cell_type": "markdown",
   "metadata": {},
   "source": [
    "## Eliminando caracteres acentuados\n",
    "\n",
    "Observou-se a ocorrência de muitas palavras com divergência de acentuação (a mesma palavra ocorria escrita com e sem acentos). O agrupamento ajudou a identificar corretamente a grafia de uma mesma palavra."
   ]
  },
  {
   "cell_type": "code",
   "execution_count": 20,
   "metadata": {},
   "outputs": [
    {
     "name": "stdout",
     "output_type": "stream",
     "text": [
      "\n",
      "Depois:  a  bolivia  chega  ao  brasil  atraves  do  gasoduto  bolivia-brasil \n",
      "(gasbol),  que  corta  cinco  estados  brasileiros:  mato  grosso  do  sul,  sao  paulo,  parana,  santa \n",
      "catarina  e  rio  grande  do  sul.    atualmente,  sao  transportados  cerca  de  12 milhoes  de  m3/dia de gas \n",
      "por este gasoduto, e os principais consumidores sao grandes industrias e utes.  o gasbol e operado \n",
      "pela  tbg  (transportadora  brasileira  do  gasoduto  bolivia-brasil),  que  possui  a  gaspetro  como \n",
      "acionista majoritario, com 51% das acoes.  \n",
      "\n",
      "e  importante  observar  que,  apesar  da  existencia  de  duas  empresas  juridicamente  distintas \n",
      "(tbg  e  petrobras)  nao  foi  possivel  evitar  o  tratamento  discriminatorio  no  que  diz  respeito  ao  acesso \n",
      "ao  duto  da  tbg,  favorecendo  a  petrobras,  seu  acionista  controlador.    a  disputa  relacionada  ao \n",
      "\n",
      "                                                                 \n",
      "9 a partir de 1988, quando a constituicao atribuiu aos estados da uniao o monopolio da distribuicao de gas canalizado, \n",
      "diversos estados criaram suas proprias empresas distribuidoras.  a fim de manter seus mercados a petrobras iniciou um \n",
      "processo de acordos com estas companhias atraves da aquisicao de participacoes acionarias no capital das mesmas.  na \n",
      "maior  parte  das  distribuidoras  a  comp osicao  acionaria  segue  um  modelo  tripartite  no  qual  o  governo  estadual  e  o \n",
      "controlador  com  51%  das  acoes,  a  br  distribuidora  participa  com  24,5%  e  os  24,5%  restantes  pertencem  ao  capital \n",
      "privado. \n",
      "\n",
      "\f",
      "participacoes cruzadas no setor de gas natural \n",
      "6 \n",
      "___________________________________________________________________________________________________________________________________________________________________________________________________________________________________________________________________________________________________________________________________________________________________________________________________\n"
     ]
    }
   ],
   "source": [
    "texto = str(texto.lower())\n",
    "import unicodedata\n",
    "nfkd_form = unicodedata.normalize('NFKD', texto)\n",
    "texto= u\"\".join([c for c in nfkd_form if not unicodedata.combining(c)])\n",
    "#print(\"\\nDepois: \", texto[15000:17000])"
   ]
  },
  {
   "cell_type": "code",
   "execution_count": 24,
   "metadata": {},
   "outputs": [
    {
     "name": "stdout",
     "output_type": "stream",
     "text": [
      "Total de tokens analisados:  1,238,452\n",
      "Tamanho do Vocabulário:  81,538\n",
      "\n",
      "\n",
      "[('de', 76265), ('a', 40657), ('e', 30505), ('do', 20876), ('o', 19497), ('da', 18133), ('em', 12364), ('que', 12272), ('no', 12158), ('para', 10890), ('the', 10123), ('gas', 9636), ('as', 9119), ('os', 8316), ('of', 7567), ('and', 7073), ('dos', 6837), ('na', 6495), ('com', 5723), ('_', 5600), ('por', 5384), ('-', 5125), ('das', 4955), ('ao', 4884), ('um', 4547), ('to', 4453), ('nao', 4414), ('natural', 4291), ('uma', 4262), ('como', 3986), ('–', 3960), ('se', 3739), ('*', 3686), ('in', 3457), ('ou', 3433), ('transporte', 3113), ('pela', 2996), ('capacidade', 2930), ('ser', 2860), ('entre', 2760), ('nos', 2420), ('precos', 2369), ('mercado', 2196), ('for', 2173), ('sao', 2156), ('petroleo', 2150), ('mais', 2060), ('anp', 2047), ('producao', 1971), ('pelo', 1912), ('be', 1816), ('modelo', 1768), ('foi', 1650), ('lei', 1643), ('sua', 1592), ('aos', 1570), ('sobre', 1421), ('esta', 1351), ('atividades', 1337), ('1', 1332), ('preco', 1332), ('contratos', 1331), ('is', 1289), ('on', 1288), ('nas', 1284), ('0', 1280), ('that', 1267), ('industria', 1257), ('from', 1249), ('setor', 1237), ('0.000', 1219), ('gasoduto', 1217), ('gasodutos', 1207), ('\\uf084', 1180), ('empresas', 1174), ('partir', 1154), ('ate', 1153), ('distribuicao', 1148), ('tabela', 1130), ('caso', 1105), ('maior', 1088), ('pode', 1081), ('energia', 1063), ('custos', 1038), ('2', 1020), ('tambem', 997), ('or', 988), ('processo', 985), ('3', 981), ('atividade', 956), ('cada', 942), ('consumo', 939), ('nacional', 937), ('seu', 934), ('valor', 930), ('regulacao', 928), ('•', 927), ('with', 926), ('natural,', 924), ('forma', 924), ('calculo', 924), ('well', 922), ('agentes', 920), ('ja', 912), ('relacao', 904), ('demanda', 903), ('water', 891), ('seus', 883), ('acesso', 883), ('tem', 879), ('foram', 876), ('5', 867), ('que,', 866), ('parte', 862), ('comercializacao', 861), ('este', 859), ('sendo', 840), ('ponto', 817), ('9', 807), ('total', 804), ('participacao', 802), ('glp', 800), ('operacao', 798), ('by', 791), ('4', 785), ('tecnica', 779), ('figura', 778), ('quando', 773), ('acordo', 770), ('meio', 769), ('e,', 769), ('6', 758), ('are', 747), ('alem', 742), ('avaliacao', 742), ('/', 739), ('combustiveis', 738), ('rev.', 736), ('qual', 734), ('mesmo', 733), ('quanto', 732), ('desenvolvimento', 730), ('condicoes', 730), ('petrobras', 724), ('flow', 719), ('ainda', 716), ('sistema', 714), ('i', 713), ('conforme', 710), ('petroleo,', 709), ('hydraulic', 697), ('apenas', 696), ('custo', 695), ('longo', 695), ('tal', 685), ('relatorio', 685), ('aumento', 678), ('fracturing', 676), ('d', 659), ('servico', 657), ('informacoes', 652), ('brasil', 651), ('empresa', 650), ('outros', 646), ('this', 645), ('base', 644), ('oil', 643), ('bem', 642), ('nota', 641), ('podem', 641), ('suas', 639), ('paises', 639), ('estado', 637), ('resolucao', 630), ('deve', 630), ('8', 625), ('transporte,', 624), ('periodo', 621), ('mercados', 618), ('concorrencia', 618), ('pelos', 615), ('shale', 614), ('volume', 613), ('objetivo', 612), ('referencia', 610), ('rio', 608), ('would', 608), ('tais', 604), ('tarifas', 603), ('max', 602), ('tarifa', 600), ('c', 599), ('energy', 598), ('pressao', 598), ('entrega', 596), ('artigo', 592), ('analise', 589), ('fonte:', 589), ('valores', 589), ('oferta', 588), ('contrato', 584), ('pontos', 580), ('termos', 576), ('agencia', 574), ('=', 573), ('exploracao', 571), ('seja', 571), ('quais', 570), ('reducao', 570), ('simulacao', 570), ('sera', 563), ('natural.', 562), ('politica', 561), ('gasolina', 561), ('@a\\x14', 560), ('investimentos', 559), ('7', 557), ('desta', 552), ('deste', 551), ('servicos', 550), ('anp,', 550), ('energetica', 549), ('estrutura', 546), ('vez', 546), ('site', 544), ('dados', 541), ('10', 540), ('instalacoes', 537), ('neste', 534), ('crescimento', 531), ('titulo:', 529), ('prazo', 527), ('novos', 524), ('production', 516), ('13', 515), ('n.o', 514), ('uso', 514), ('&', 514), ('art.', 512), ('it', 509), ('environment', 509), ('12', 507), ('areas', 506), ('estados', 504), ('disponivel', 503), ('computacional', 503), ('derivados', 501), ('mas', 499), ('consumidores', 496), ('ha', 495), ('qualquer', 494), ('environmental', 493), ('venda', 492), ('an', 491), ('assim,', 490), ('uk', 490), ('anos', 489), ('grande', 488), ('recursos', 488), ('should', 485), ('veiculos', 482), ('principais', 480), ('concessao', 480), ('teorico', 479), ('programa:', 478), ('which', 474), ('may', 471), ('entrada', 470), ('portaria', 470), ('ii', 470), (')', 466), ('projeto', 466), ('segundo', 464), ('final', 463), ('at', 460), ('construcao', 459), ('eficiencia', 458), ('atraves', 458), ('area', 458), ('\\uf0b7', 454), ('folha', 453), ('cadeia', 452), ('serem', 452), ('not', 448), ('estao', 447), ('apos', 446), ('sem', 443), ('regime', 443), ('devem', 441), ('pais', 433), ('april', 433), ('funcao', 432), ('risco', 432), ('livre', 431), ('ano', 430), ('effects', 430), ('(', 428), ('dois', 428), ('sob', 427), ('utilizacao', 427)]\n"
     ]
    }
   ],
   "source": [
    "imprime_info_corpus(texto)"
   ]
  },
  {
   "cell_type": "code",
   "execution_count": 25,
   "metadata": {
    "collapsed": true
   },
   "outputs": [],
   "source": [
    "#texto_sem_pontuacao = texto_sem_acentos.replace('[\"#%\\'()*+,-/:;<=>?@\\[\\]^_`{|}~1234567890’”“′‘\\\\\\]', ' ')\n",
    "\n",
    "# primeiro, adicionando espaços aos caracteres de pontuacao\n",
    "import re\n",
    "texto = re.sub('([.,!?()/])', r' \\1 ', texto)\n",
    "texto = re.sub('\\s{2,}', ' ', texto)"
   ]
  },
  {
   "cell_type": "code",
   "execution_count": 28,
   "metadata": {},
   "outputs": [],
   "source": [
    "#retirando os caracteres de pontuação e numeros (mantendo apenas os caracteres de ponto, final de sentença)\n",
    "pontuacao = '[\"#%\\'()*+,-/:;<=>?@\\[\\]^_`{|}~1234567890’”“′‘\\\\\\•]'\n",
    "texto = ''.join([c for c in texto if c not in pontuacao])"
   ]
  },
  {
   "cell_type": "code",
   "execution_count": 29,
   "metadata": {},
   "outputs": [
    {
     "name": "stdout",
     "output_type": "stream",
     "text": [
      "Total de tokens analisados:  1,271,572\n",
      "Tamanho do Vocabulário:  35,476\n",
      "\n",
      "\n",
      "[('.', 113635), ('de', 76496), ('a', 42156), ('e', 32169), ('o', 21155), ('do', 20900), ('da', 18151), ('que', 13239), ('em', 12776), ('no', 12378), ('para', 10948), ('gas', 10633), ('the', 10217), ('as', 9185), ('os', 8357), ('of', 7586), ('and', 7221), ('dos', 6841), ('na', 6535), ('natural', 6140), ('com', 6051), ('por', 5469), ('das', 4960), ('ao', 4900), ('nao', 4897), ('um', 4608), ('to', 4571), ('transporte', 4420), ('uma', 4289), ('como', 4114), ('–', 4075), ('ou', 3855), ('se', 3832), ('in', 3569), ('anp', 3548), ('petroleo', 3176), ('capacidade', 3081), ('pela', 2999), ('ser', 2883), ('mercado', 2829), ('entre', 2783), ('precos', 2673), ('m', 2572), ('producao', 2499), ('nos', 2432), ('sao', 2293), ('for', 2212), ('mais', 2075), ('lei', 1948), ('pelo', 1923), ('modelo', 1892), ('d', 1892), ('be', 1824), ('foi', 1673), ('sua', 1592), ('aos', 1570), ('i', 1518), ('industria', 1516), ('setor', 1489), ('preco', 1487), ('brasil', 1477), ('atividades', 1464), ('distribuicao', 1464), ('contratos', 1433), ('sobre', 1433), ('energia', 1419), ('gasoduto', 1395), ('esta', 1371), ('gasodutos', 1358), ('from', 1358), ('caso', 1357), ('empresas', 1355), ('nacional', 1343), ('that', 1321), ('is', 1314), ('forma', 1309), ('on', 1304), ('nas', 1303), ('dia', 1259), ('\\uf084', 1180), ('ii', 1179), ('tabela', 1178), ('ate', 1177), ('petrobras', 1171), ('n', 1157), ('partir', 1155), ('b', 1151), ('tambem', 1144), ('custos', 1142), ('agentes', 1127), ('maior', 1124), ('regulacao', 1103), ('pode', 1102), ('or', 1092), ('atividade', 1084), ('c', 1080), ('glp', 1078), ('processo', 1073), ('combustiveis', 1047), ('water', 1041), ('s', 1039), ('consumo', 1037), ('demanda', 1022), ('comercializacao', 1019), ('well', 1015), ('valor', 995), ('acesso', 994), ('pais', 984), ('ainda', 980), ('calculo', 963), ('p', 954), ('cada', 949), ('seu', 937), ('sendo', 936), ('total', 933), ('with', 932), ('operacao', 931), ('ja', 927), ('tecnica', 915), ('concorrencia', 913), ('relacao', 912), ('foram', 905), ('parte', 901), ('ponto', 900), ('tem', 895), ('assim', 886), ('seus', 886), ('este', 871), ('seja', 870), ('servico', 841), ('sistema', 839), ('acordo', 833), ('participacao', 828), ('paises', 824), ('anos', 823), ('figura', 820), ('fracturing', 820), ('referencia', 819), ('desenvolvimento', 817), ('programa', 812), ('mesmo', 808), ('by', 801), ('quando', 798), ('estado', 791), ('concessao', 784), ('entrega', 784), ('periodo', 777), ('condicoes', 776), ('meio', 775), ('outros', 774), ('empresa', 772), ('derivados', 766), ('qual', 764), ('fonte', 763), ('are', 763), ('avaliacao', 760), ('custo', 759), ('prazo', 750), ('mercados', 746), ('alem', 745), ('rev', 743), ('disponivel', 741), ('quanto', 739), ('uk', 735), ('conforme', 734), ('flow', 734), ('art', 729), ('nota', 728), ('oil', 728), ('vez', 719), ('informacoes', 716), ('apenas', 715), ('hydraulic', 712), ('iii', 711), ('resolucao', 711), ('tal', 710), ('agencia', 708), ('longo', 701), ('relatorio', 701), ('energy', 697), ('exploracao', 695), ('janeiro', 690), ('aumento', 690), ('gasolina', 688), ('ano', 687), ('artigo', 683), ('a\\x14', 682), ('http', 681), ('pressao', 681), ('energetica', 680), ('servicos', 679), ('production', 679), ('base', 678), ('contrato', 678), ('r$', 674), ('analise', 664), ('tarifas', 660), ('shale', 660), ('oferta', 659), ('this', 657), ('podem', 655), ('bem', 652), ('volume', 651), ('areas', 651), ('projeto', 649), ('site', 648), ('deve', 646), ('consumidores', 643), ('objetivo', 641), ('suas', 640), ('investimentos', 638), ('tarifa', 638), ('rio', 634), ('www', 633), ('instalacoes', 633), ('km', 619), ('pelos', 617), ('valores', 616), ('would', 611), ('environment', 609), ('tais', 608), ('l', 607), ('pontos', 606), ('max', 604), ('quais', 603), ('titulo', 603), ('ha', 600), ('final', 593), ('simulacao', 593), ('politica', 592), ('produto', 591), ('entrada', 589), ('termos', 585), ('crescimento', 580), ('reducao', 577), ('cadeia', 575), ('dados', 574), ('sera', 571), ('estrutura', 569), ('duto', 564), ('desta', 560), ('area', 560), ('combustivel', 559), ('estados', 558), ('deste', 556), ('publica', 556), ('modo', 551), ('economica', 547), ('venda', 547), ('capital', 547), ('construcao', 546), ('neste', 545), ('novos', 544), ('mas', 540), ('comercial', 538), ('uso', 535), ('\\x14', 533), ('portaria', 531), ('recursos', 528), ('it', 526), ('brasileiro', 521), ('diesel', 519), ('rede', 518), ('veiculos', 518), ('&', 518), ('produtos', 512), ('which', 507), ('principais', 505), ('r', 505), ('eficiencia', 504), ('environmental', 504), ('computacional', 504), ('infraestrutura', 502), ('grande', 500), ('segundo', 498), ('consumidor', 498), ('an', 498), ('qualquer', 496), ('j', 493), ('should', 493), ('tanto', 492), ('g', 489), ('may', 485), ('risco', 484), ('folha', 484), ('energetico', 483), ('rlanpfpl', 480), ('geral', 479), ('teorico', 479), ('etanol', 478), ('at', 475), ('emissions', 475), ('exploration', 474), ('atraves', 471), ('regulador', 469), ('federal', 468), ('sem', 467), ('v', 464), ('livre', 462), ('regime', 462)]\n"
     ]
    }
   ],
   "source": [
    "imprime_info_corpus(texto)"
   ]
  },
  {
   "cell_type": "markdown",
   "metadata": {},
   "source": [
    "# retirar caracteres unicos e stopwords\n",
    "\n",
    "### Eliminação de stopwords e palavras incorretas do vocabulário\n",
    "\n",
    "Em estudos anteriores, observou-se a presença preponderante de um conjunto de palavras incorretas no vocabulário mais comum, potencialmente resultantes de incorreções no processo de extração de PDF para texto.\n",
    "Neste trecho, define-se uma lista contendo todas essas palavras incorretas, palavras de um único caractere, e stopwords dos idiomas português, inglês e espanhol. Observou-se que o histograma de distribuição do vocabulário comportou-se melhor após este processamento."
   ]
  },
  {
   "cell_type": "code",
   "execution_count": 30,
   "metadata": {},
   "outputs": [
    {
     "name": "stdout",
     "output_type": "stream",
     "text": [
      "Palavras a serem ignoradas do vocabulario {'there', \"shan't\", 'habrás', 'poco', 'à', 'sus', 'her', 'hayamos', 'estuviste', \"she's\", 'then', 'muchos', 'here', 've', 'can', 'by', 'shouldn', 'fosse', 'erais', 'não', 'teriam', 'some', '&', 'fueses', 'houveríamos', 'doesn', 'tinham', 'between', 'só', 'ou', 'hayas', 'nuestra', 'seu', 'estuviésemos', \"won't\", 'delas', 'todos', 'wouldn', 'como', 'nada', 'esa', 'tuya', 'tendríamos', 'fueras', 'entre', 'estabais', 'una', 'houver', 'habría', 'houveremos', 'hão', 's', 'p', 'eras', \"weren't\", 'ao', 'yourself', 'seremos', 'until', \"wasn't\", 'otro', 'fueran', 'fuiste', 'también', 'hasn', 'r', \"that'll\", 'ellos', 're', 'habremos', 'houveriam', 'ese', 'so', 'tuvieras', 'os', 'ourselves', 'ch', 'algunos', 'houve', 'habréis', 'habrías', 'c', 'which', 'with', 'te', 'hubieras', 'was', 'sentido', 'uno', 'había', 'elas', 'estivemos', 'such', 'cuando', 'tuviésemos', 'hajamos', 'mía', 'quem', 'nossa', 'él', 'soy', 'his', 'hei', 'haya', 'por', 'meu', 'my', 'um', 'if', 'fui', 'eres', 'esos', 'un', 'este', 'tenhamos', 'esse', 'when', 'temos', 'era', 'or', 'sejam', 'estive', 'esto', 'tenéis', 'houvéramos', 'la', 'tuyos', 'tiverem', 'há', 'otras', 'out', 'habíais', 'hube', 'sentidos', 'estarían', 'yo', 'estuvierais', 'estuvieras', 'estivera', 'houverão', 'hubiera', 'tivessem', 'doing', 'n', \"you'll\", 'tus', 'nossos', 'estaban', 'hay', 'houvesse', 'tuvieses', 'ya', 'above', 'para', 'hubieses', 'terá', 'fuera', 'themselves', 'mightn', 'quienes', 'tenido', 'suyos', 'são', 'haja', 'tendría', 'às', 'pela', 'tenha', 'aos', 'how', 'hubieron', 'k', 'seriam', 'estiverem', 'teve', 'tive', 'same', 'lo', \"needn't\", 'tínhamos', 'z', 'each', 'você', 'sería', 'habéis', 'tiene', 'estiveram', 'terei', 'éramos', 'am', 'ellas', 'será', 'estaríais', 'tuviesen', 'esteja', 'habiendo', 'nem', 'deles', 'estar', 'further', 'lhes', 'all', 'das', 'y', 'own', 'tendrás', 'fueseis', 'eran', 'el', 'vuestras', 'estaríamos', 'tivera', 'houvemos', 'this', 'fuesen', 'aqueles', 'com', 'those', 'she', 'up', 'nor', 'other', 'b', 'tuvisteis', 'estaba', 'les', 'estiver', 'the', 'contra', 'sejamos', 'estuvieran', 'hubieseis', 'he', 'do', 'ma', 'pelo', 'han', 'fuese', 'tendrá', 'tengan', 'ela', 'hubiesen', 'estando', 'had', '–', 'antes', 'estemos', 'tendrán', 'da', 'pero', 'serás', 'estavam', 'fôramos', \"haven't\", \"shouldn't\", 'vosostras', 'estaréis', 'at', 'been', 'tivéramos', 'estejam', 'suya', 'fueron', 'estivéssemos', 'que', 'seja', 'did', 'estuvieseis', 'havemos', 'están', 'vuestro', 'ele', 'their', 'esteve', 'theirs', 'mis', 'mustn', 'al', 'estuve', \"don't\", 'few', 'essa', 'seas', 'estuvimos', \"you'd\", 'tendrías', 'it', 'vuestra', 'q', 'as', \"you've\", 'any', 'your', 'into', \"isn't\", 'didn', 'habré', 'teníais', 'will', 'tendrían', 'tenho', 'too', 'estuvieron', 'estarías', 'ii', 'houverei', 'hubiésemos', 'e', 'somos', 'we', 'tuvieron', 'otros', 'estén', 'houvessem', 'over', 'm', 'sois', 'estuviese', 'habrán', 'estivermos', 'estaré', 'aquela', 'con', 'sou', 'hubiste', 'houveria', 'lhe', 'esas', 'habríais', 'tivesse', 'fora', 't', 'a', \"didn't\", 'estés', 'habíamos', 'hasta', 'sea', 'minhas', 'estas', 'you', 'nuestros', 'habido', 'estuviéramos', 'seáis', 'mías', 'tenías', 'esses', 'tendremos', 'yourselves', 'está', 'nosotras', 'ante', 'na', 'serían', 'estados', 'both', 'serías', 'em', 'x', 'porque', 'couldn', 'very', 'algo', 'o', 'hemos', 'but', 'tenga', 'hajam', \"mightn't\", 'teu', 'suas', 'needn', 'sin', \"you're\", 'pelas', 'that', 'habías', 'esta', 'tém', 'tuyo', 'foram', 'estad', 'u', 'teus', 'estão', 'having', 'were', 'tened', 'pelos', 'hubo', 'algunas', 'me', 'tenidas', 'estadas', 'seus', 'sem', 'g', 'seria', 'serei', 'to', 'more', 'estéis', 'tinha', 'eram', \"aren't\", 'sintiendo', 'estivéramos', 'mas', 'about', 'seré', 'aquilo', 'h', 'houvermos', 'serán', 'isso', \"should've\", 'not', 'míos', 'teria', 'tenía', 'fuimos', '\\x05', 'tuviste', 'estoy', '°', 'tua', \"couldn't\", 'aquelas', 'is', 'estuviera', 'tengas', 'hubiese', 'até', 'durante', 'muy', 'tienes', 'against', 'estou', 'estivessem', 'hubierais', 'nos', 'más', 'tenham', 'su', 'hadn', 'tuvimos', 'most', 'haven', 'just', 'vosostros', 'nós', 'mi', 'myself', 'houveram', 'after', 'estuviesen', 'estivesse', 'before', 'hubiéramos', 'houverá', 'houvera', 'de', 'in', 'tuas', \"it's\", 'himself', 'ha', 'isn', 'estarás', 'habrá', 'mí', 'num', \"mustn't\", 'him', 'than', 'teríamos', 'habidos', 'ours', 'our', 'tenidos', 'los', 'tuvo', 'eles', 'todo', 'também', 'ni', 'fuésemos', 'cual', 'habían', 'tanto', 'while', 'during', 'tuviese', 'aquele', 'formos', 'estaremos', 'fuerais', 'v', 'vocês', 'd', 'serão', 'forem', 'teremos', 'tenemos', 'be', 'minha', 'tenida', 'seríamos', 'tiveram', 'what', 'hubimos', 'en', 'tenían', 'tiver', 'l', 'fomos', 'tengáis', 'tienen', 'w', 'já', 'herself', 'who', 'donde', 'tengo', 'nuestro', 'now', \"hadn't\", 'esté', 'et', 'wasn', 'have', 'whom', 'qual', 'only', 'estaría', 'estada', 'yours', 'tuviera', 'dos', 'quien', 'teniendo', 'estuvisteis', 'tuyas', 'tem', 'these', 'nosso', 'foi', 'its', 'estarán', 'ain', 'del', 'sean', 'tivéssemos', 'mío', 'tivermos', 'an', 'tuviéramos', 'mucho', 'don', 'eso', 'estava', 'hayan', 'tú', 'estabas', 'i', 'sentid', 'eu', 'estávamos', 'for', 'uma', 'quando', 'they', 'dela', 'no', 'dele', 'qué', 'why', 'seamos', 'tendré', \"hasn't\", 'hubisteis', 'tendréis', 'itself', 'isto', 'f', 'down', 'le', 'estuvieses', 'again', 'them', 'should', 'seríais', 'fue', 'tuve', 'estuvo', 'tivemos', 'vuestros', 'below', 'estáis', 'seréis', 'once', 'ella', 'nuestras', 'being', 'tuvierais', 'desde', 'and', 'tendríais', 'because', 'under', 'are', 'estes', 'otra', 'houverem', 'tengamos', 'suyo', 'estos', 'tuvieseis', 'does', 'hayáis', 'mesmo', 'aren', 'shan', 'depois', 'suyas', 'nossas', 'tuvieran', 'fossem', 'sobre', 'habrían', 'has', 'of', 'on', 'las', 'habidas', 'habida', 'es', 'won', 'vos', 'll', 'sua', 'estamos', 'hubieran', 'estará', 'habríamos', 'fuéramos', 'weren', 'sentidas', 'teníamos', 'hers', 'terão', 'unos', 'tu', 'j', 'through', \"wouldn't\", 'sí', 'estábamos', 'nas', 'from', 'sentida', 'mais', 'estás', 'estejamos', 'off', 'fuisteis', 'houvéssemos', 'se', 'essas', 'numa', 'muito', 'iii', 'nosotros', \"doesn't\", 'fôssemos', 'siente', 'son', 'ti', '•', 'meus', 'where', 'estado'}\n"
     ]
    }
   ],
   "source": [
    "from nltk.corpus import stopwords # Import the stop word list\n",
    "from string import ascii_lowercase\n",
    "#nltk.download('stopwords')\n",
    "\n",
    "# Mapeando stopwords com NLTK\n",
    "stopwordsPortugues = stopwords.words(\"portuguese\")\n",
    "stopwordsIngles = stopwords.words(\"english\")\n",
    "stopwordsEspanhol = stopwords.words(\"spanish\")\n",
    "caracteres_unicos = [c for c in ascii_lowercase ]\n",
    "\n",
    "# em estudo anterior, obtivemos o conjunto das palavras mais comuns, onde se observam algumas palavras incorretas\n",
    "# resultantes do processo de extração do arquivo PDF. Estas palavras serão incluídas no vocabulário a ser ignorado\n",
    "# no corpus final.\n",
    "# Objetiva-se incrementar esta lista conforme novas palavras são observadas, à medida em que novos arquivos são\n",
    "# acrescentados ao corpus\n",
    "palavrasIncorretasComuns = ['&', 'ch', 'et', 'at', 'ii','iii', '\\x05', '•', '–', '°']\n",
    "\n",
    "# mais rapido buscar set do que list\n",
    "vocabulario_palavras_ignoradas = set(stopwordsPortugues + \n",
    "                                     stopwordsIngles + \n",
    "                                     stopwordsEspanhol + \n",
    "                                     caracteres_unicos + \n",
    "                                     palavrasIncorretasComuns)\n",
    "\n",
    "print(\"Palavras a serem ignoradas do vocabulario\", vocabulario_palavras_ignoradas)"
   ]
  },
  {
   "cell_type": "code",
   "execution_count": 31,
   "metadata": {
    "collapsed": true
   },
   "outputs": [],
   "source": [
    "sentenca_sem_stopwords = [w for w in texto.split() if not w in vocabulario_palavras_ignoradas]\n",
    "texto = \" \".join( sentenca_sem_stopwords ) "
   ]
  },
  {
   "cell_type": "code",
   "execution_count": 32,
   "metadata": {},
   "outputs": [
    {
     "name": "stdout",
     "output_type": "stream",
     "text": [
      "Total de tokens analisados:  812,569\n",
      "Tamanho do Vocabulário:  35,163\n",
      "\n",
      "\n",
      "[('.', 113635), ('gas', 10633), ('natural', 6140), ('nao', 4897), ('transporte', 4420), ('anp', 3548), ('petroleo', 3176), ('capacidade', 3081), ('ser', 2883), ('mercado', 2829), ('precos', 2673), ('producao', 2499), ('sao', 2293), ('lei', 1948), ('modelo', 1892), ('industria', 1516), ('setor', 1489), ('preco', 1487), ('brasil', 1477), ('atividades', 1464), ('distribuicao', 1464), ('contratos', 1433), ('energia', 1419), ('gasoduto', 1395), ('gasodutos', 1358), ('caso', 1357), ('empresas', 1355), ('nacional', 1343), ('forma', 1309), ('dia', 1259), ('\\uf084', 1180), ('tabela', 1178), ('ate', 1177), ('petrobras', 1171), ('partir', 1155), ('tambem', 1144), ('custos', 1142), ('agentes', 1127), ('maior', 1124), ('regulacao', 1103), ('pode', 1102), ('atividade', 1084), ('glp', 1078), ('processo', 1073), ('combustiveis', 1047), ('water', 1041), ('consumo', 1037), ('demanda', 1022), ('comercializacao', 1019), ('well', 1015), ('valor', 995), ('acesso', 994), ('pais', 984), ('ainda', 980), ('calculo', 963), ('cada', 949), ('sendo', 936), ('total', 933), ('operacao', 931), ('ja', 927), ('tecnica', 915), ('concorrencia', 913), ('relacao', 912), ('parte', 901), ('ponto', 900), ('assim', 886), ('servico', 841), ('sistema', 839), ('acordo', 833), ('participacao', 828), ('paises', 824), ('anos', 823), ('figura', 820), ('fracturing', 820), ('referencia', 819), ('desenvolvimento', 817), ('programa', 812), ('concessao', 784), ('entrega', 784), ('periodo', 777), ('condicoes', 776), ('meio', 775), ('outros', 774), ('empresa', 772), ('derivados', 766), ('fonte', 763), ('avaliacao', 760), ('custo', 759), ('prazo', 750), ('mercados', 746), ('alem', 745), ('rev', 743), ('disponivel', 741), ('quanto', 739), ('uk', 735), ('conforme', 734), ('flow', 734), ('art', 729), ('nota', 728), ('oil', 728), ('vez', 719), ('informacoes', 716), ('apenas', 715), ('hydraulic', 712), ('resolucao', 711), ('tal', 710), ('agencia', 708), ('longo', 701), ('relatorio', 701), ('energy', 697), ('exploracao', 695), ('janeiro', 690), ('aumento', 690), ('gasolina', 688), ('ano', 687), ('artigo', 683), ('a\\x14', 682), ('http', 681), ('pressao', 681), ('energetica', 680), ('servicos', 679), ('production', 679), ('base', 678), ('contrato', 678), ('r$', 674), ('analise', 664), ('tarifas', 660), ('shale', 660), ('oferta', 659), ('podem', 655), ('bem', 652), ('volume', 651), ('areas', 651), ('projeto', 649), ('site', 648), ('deve', 646), ('consumidores', 643), ('objetivo', 641), ('investimentos', 638), ('tarifa', 638), ('rio', 634), ('www', 633), ('instalacoes', 633), ('km', 619), ('valores', 616), ('would', 611), ('environment', 609), ('tais', 608), ('pontos', 606), ('max', 604), ('quais', 603), ('titulo', 603), ('final', 593), ('simulacao', 593), ('politica', 592), ('produto', 591), ('entrada', 589), ('termos', 585), ('crescimento', 580), ('reducao', 577), ('cadeia', 575), ('dados', 574), ('sera', 571), ('estrutura', 569), ('duto', 564), ('desta', 560), ('area', 560), ('combustivel', 559), ('deste', 556), ('publica', 556), ('modo', 551), ('economica', 547), ('venda', 547), ('capital', 547), ('construcao', 546), ('neste', 545), ('novos', 544), ('comercial', 538), ('uso', 535), ('\\x14', 533), ('portaria', 531), ('recursos', 528), ('brasileiro', 521), ('diesel', 519), ('rede', 518), ('veiculos', 518), ('produtos', 512), ('principais', 505), ('eficiencia', 504), ('environmental', 504), ('computacional', 504), ('infraestrutura', 502), ('grande', 500), ('segundo', 498), ('consumidor', 498), ('qualquer', 496), ('may', 485), ('risco', 484), ('folha', 484), ('energetico', 483), ('rlanpfpl', 480), ('geral', 479), ('teorico', 479), ('etanol', 478), ('emissions', 475), ('exploration', 474), ('atraves', 471), ('regulador', 469), ('federal', 468), ('livre', 462), ('regime', 462), ('effects', 461), ('maxima', 458), ('estao', 456), ('devem', 455), ('apos', 455), ('marco', 455), ('gnl', 454), ('utilizacao', 454), ('\\uf0b7', 454), ('possivel', 452), ('serem', 452), ('outras', 451), ('uniao', 451), ('funcao', 450), ('distribuidoras', 450), ('importante', 445), ('importacao', 444), ('exemplo', 443), ('april', 443), ('diferentes', 442), ('dois', 441), ('milhoes', 440), ('tipo', 438), ('defesa', 432), ('operacional', 431), ('use', 431), ('poder', 430), ('drilling', 429), ('sob', 428), ('apresenta', 428), ('regras', 426), ('secao', 426), ('fato', 423), ('nova', 421), ('agente', 420), ('oleo', 419), ('iv', 417), ('onde', 417), ('potential', 417), ('transportador', 415), ('malha', 415), ('infrastructure', 415), ('documentacao', 414), ('internacional', 408), ('segmento', 406), ('waste', 405), ('caracteristicas', 403), ('fim', 401), ('us$', 400), ('controle', 399), ('regulamentacao', 398), ('tempo', 398), ('resultados', 398), ('reservas', 398), ('local', 398), ('brasileira', 394), ('entretanto', 394), ('novas', 394), ('report', 392), ('qualidade', 389), ('demais', 388), ('associated', 384), ('fraturamento', 384), ('governo', 382), ('br', 381), ('dutos', 379), ('necessidade', 378), ('vista', 378), ('novo', 378), ('autorizacao', 377), ('outro', 376), ('grafico', 376), ('introducao', 375), ('blocos', 374), ('industrial', 372), ('segmentos', 371), ('agua', 371), ('medida', 370), ('medidas', 370), ('impacts', 370), ('economia', 369), ('criterios', 369), ('scm', 369), ('compra', 368), ('activities', 367), ('nesse', 366), ('medio', 366), ('licitacao', 366), ('formacao', 363)]\n"
     ]
    }
   ],
   "source": [
    "imprime_info_corpus(texto)"
   ]
  },
  {
   "cell_type": "markdown",
   "metadata": {},
   "source": [
    "## Existe a preponderância de muitas palavras raras no vocabulário, dominando a distribuição\n",
    "\n",
    "Eliminando a ocorrência de palavras raras, que ocorram com menor frequência, reduzindo assim o vocabulário apenas às palaras mais relevantes. Normalmente estas palavras se referem a erros de grafia ou da extração dos PDFs para texto."
   ]
  },
  {
   "cell_type": "code",
   "execution_count": 33,
   "metadata": {
    "collapsed": true
   },
   "outputs": [],
   "source": [
    "word_counts = Counter(texto.split())"
   ]
  },
  {
   "cell_type": "code",
   "execution_count": 34,
   "metadata": {
    "collapsed": true
   },
   "outputs": [],
   "source": [
    "threshold_palavras_raras = 2 # palavras que ocorram 2 ou menos vezes serão eliminadas\n",
    "\n",
    "sentenca_sem_palavras_raras = [w for w in texto.split() if word_counts[w] > threshold_palavras_raras]\n",
    "texto = \" \".join( sentenca_sem_palavras_raras ) "
   ]
  },
  {
   "cell_type": "code",
   "execution_count": 35,
   "metadata": {},
   "outputs": [
    {
     "name": "stdout",
     "output_type": "stream",
     "text": [
      "Total de tokens analisados:  789,325\n",
      "Tamanho do Vocabulário:  16,988\n",
      "\n",
      "\n",
      "[('.', 113635), ('gas', 10633), ('natural', 6140), ('nao', 4897), ('transporte', 4420), ('anp', 3548), ('petroleo', 3176), ('capacidade', 3081), ('ser', 2883), ('mercado', 2829), ('precos', 2673), ('producao', 2499), ('sao', 2293), ('lei', 1948), ('modelo', 1892), ('industria', 1516), ('setor', 1489), ('preco', 1487), ('brasil', 1477), ('atividades', 1464), ('distribuicao', 1464), ('contratos', 1433), ('energia', 1419), ('gasoduto', 1395), ('gasodutos', 1358), ('caso', 1357), ('empresas', 1355), ('nacional', 1343), ('forma', 1309), ('dia', 1259), ('\\uf084', 1180), ('tabela', 1178), ('ate', 1177), ('petrobras', 1171), ('partir', 1155), ('tambem', 1144), ('custos', 1142), ('agentes', 1127), ('maior', 1124), ('regulacao', 1103), ('pode', 1102), ('atividade', 1084), ('glp', 1078), ('processo', 1073), ('combustiveis', 1047), ('water', 1041), ('consumo', 1037), ('demanda', 1022), ('comercializacao', 1019), ('well', 1015), ('valor', 995), ('acesso', 994), ('pais', 984), ('ainda', 980), ('calculo', 963), ('cada', 949), ('sendo', 936), ('total', 933), ('operacao', 931), ('ja', 927), ('tecnica', 915), ('concorrencia', 913), ('relacao', 912), ('parte', 901), ('ponto', 900), ('assim', 886), ('servico', 841), ('sistema', 839), ('acordo', 833), ('participacao', 828), ('paises', 824), ('anos', 823), ('figura', 820), ('fracturing', 820), ('referencia', 819), ('desenvolvimento', 817), ('programa', 812), ('concessao', 784), ('entrega', 784), ('periodo', 777), ('condicoes', 776), ('meio', 775), ('outros', 774), ('empresa', 772), ('derivados', 766), ('fonte', 763), ('avaliacao', 760), ('custo', 759), ('prazo', 750), ('mercados', 746), ('alem', 745), ('rev', 743), ('disponivel', 741), ('quanto', 739), ('uk', 735), ('conforme', 734), ('flow', 734), ('art', 729), ('nota', 728), ('oil', 728), ('vez', 719), ('informacoes', 716), ('apenas', 715), ('hydraulic', 712), ('resolucao', 711), ('tal', 710), ('agencia', 708), ('longo', 701), ('relatorio', 701), ('energy', 697), ('exploracao', 695), ('janeiro', 690), ('aumento', 690), ('gasolina', 688), ('ano', 687), ('artigo', 683), ('a\\x14', 682), ('http', 681), ('pressao', 681), ('energetica', 680), ('servicos', 679), ('production', 679), ('base', 678), ('contrato', 678), ('r$', 674), ('analise', 664), ('tarifas', 660), ('shale', 660), ('oferta', 659), ('podem', 655), ('bem', 652), ('volume', 651), ('areas', 651), ('projeto', 649), ('site', 648), ('deve', 646), ('consumidores', 643), ('objetivo', 641), ('investimentos', 638), ('tarifa', 638), ('rio', 634), ('www', 633), ('instalacoes', 633), ('km', 619), ('valores', 616), ('would', 611), ('environment', 609), ('tais', 608), ('pontos', 606), ('max', 604), ('quais', 603), ('titulo', 603), ('final', 593), ('simulacao', 593), ('politica', 592), ('produto', 591), ('entrada', 589), ('termos', 585), ('crescimento', 580), ('reducao', 577), ('cadeia', 575), ('dados', 574), ('sera', 571), ('estrutura', 569), ('duto', 564), ('desta', 560), ('area', 560), ('combustivel', 559), ('deste', 556), ('publica', 556), ('modo', 551), ('economica', 547), ('venda', 547), ('capital', 547), ('construcao', 546), ('neste', 545), ('novos', 544), ('comercial', 538), ('uso', 535), ('\\x14', 533), ('portaria', 531), ('recursos', 528), ('brasileiro', 521), ('diesel', 519), ('rede', 518), ('veiculos', 518), ('produtos', 512), ('principais', 505), ('eficiencia', 504), ('environmental', 504), ('computacional', 504), ('infraestrutura', 502), ('grande', 500), ('segundo', 498), ('consumidor', 498), ('qualquer', 496), ('may', 485), ('risco', 484), ('folha', 484), ('energetico', 483), ('rlanpfpl', 480), ('geral', 479), ('teorico', 479), ('etanol', 478), ('emissions', 475), ('exploration', 474), ('atraves', 471), ('regulador', 469), ('federal', 468), ('livre', 462), ('regime', 462), ('effects', 461), ('maxima', 458), ('estao', 456), ('devem', 455), ('apos', 455), ('marco', 455), ('gnl', 454), ('utilizacao', 454), ('\\uf0b7', 454), ('possivel', 452), ('serem', 452), ('outras', 451), ('uniao', 451), ('funcao', 450), ('distribuidoras', 450), ('importante', 445), ('importacao', 444), ('exemplo', 443), ('april', 443), ('diferentes', 442), ('dois', 441), ('milhoes', 440), ('tipo', 438), ('defesa', 432), ('operacional', 431), ('use', 431), ('poder', 430), ('drilling', 429), ('sob', 428), ('apresenta', 428), ('regras', 426), ('secao', 426), ('fato', 423), ('nova', 421), ('agente', 420), ('oleo', 419), ('iv', 417), ('onde', 417), ('potential', 417), ('transportador', 415), ('malha', 415), ('infrastructure', 415), ('documentacao', 414), ('internacional', 408), ('segmento', 406), ('waste', 405), ('caracteristicas', 403), ('fim', 401), ('us$', 400), ('controle', 399), ('regulamentacao', 398), ('tempo', 398), ('resultados', 398), ('reservas', 398), ('local', 398), ('brasileira', 394), ('entretanto', 394), ('novas', 394), ('report', 392), ('qualidade', 389), ('demais', 388), ('associated', 384), ('fraturamento', 384), ('governo', 382), ('br', 381), ('dutos', 379), ('necessidade', 378), ('vista', 378), ('novo', 378), ('autorizacao', 377), ('outro', 376), ('grafico', 376), ('introducao', 375), ('blocos', 374), ('industrial', 372), ('segmentos', 371), ('agua', 371), ('medida', 370), ('medidas', 370), ('impacts', 370), ('economia', 369), ('criterios', 369), ('scm', 369), ('compra', 368), ('activities', 367), ('nesse', 366), ('medio', 366), ('licitacao', 366), ('formacao', 363)]\n"
     ]
    }
   ],
   "source": [
    "imprime_info_corpus(texto)"
   ]
  },
  {
   "cell_type": "markdown",
   "metadata": {},
   "source": [
    "## Unificando as quebras de linhas, refazendo as sentenças.\n",
    "Obervou-se a ocorrencia de muitas quebras de linhas desnecessárias, produto de erros na extração do PDF. As quebras de linha serão todas eliminadas, e posteriormente refeitas considerando o caractere de ponto como final de sentença e quebra de linha."
   ]
  },
  {
   "cell_type": "code",
   "execution_count": 36,
   "metadata": {
    "collapsed": true
   },
   "outputs": [],
   "source": [
    "texto = texto.replace('\\n', ' ').replace('\\r', '').replace('?','.').replace('!','.')"
   ]
  },
  {
   "cell_type": "code",
   "execution_count": 37,
   "metadata": {
    "collapsed": true
   },
   "outputs": [],
   "source": [
    "lista_com_quebra_de_linha = texto.split('.')\n",
    "texto = \"\\n\".join( lista_com_quebra_de_linha ) "
   ]
  },
  {
   "cell_type": "code",
   "execution_count": 38,
   "metadata": {},
   "outputs": [
    {
     "name": "stdout",
     "output_type": "stream",
     "text": [
      "Total de tokens analisados:  675,577\n",
      "Tamanho do Vocabulário:  16,986\n",
      "\n",
      "\n",
      "[('gas', 10633), ('natural', 6140), ('nao', 4897), ('transporte', 4420), ('anp', 3548), ('petroleo', 3176), ('capacidade', 3081), ('ser', 2883), ('mercado', 2829), ('precos', 2673), ('producao', 2499), ('sao', 2293), ('lei', 1948), ('modelo', 1892), ('industria', 1516), ('setor', 1489), ('preco', 1487), ('brasil', 1477), ('atividades', 1464), ('distribuicao', 1464), ('contratos', 1433), ('energia', 1419), ('gasoduto', 1395), ('gasodutos', 1358), ('caso', 1357), ('empresas', 1355), ('nacional', 1343), ('forma', 1309), ('dia', 1259), ('\\uf084', 1180), ('tabela', 1178), ('ate', 1177), ('petrobras', 1171), ('partir', 1155), ('tambem', 1144), ('custos', 1142), ('agentes', 1127), ('maior', 1124), ('regulacao', 1103), ('pode', 1102), ('atividade', 1084), ('glp', 1078), ('processo', 1073), ('combustiveis', 1047), ('water', 1041), ('consumo', 1037), ('demanda', 1022), ('comercializacao', 1019), ('well', 1015), ('valor', 995), ('acesso', 994), ('pais', 984), ('ainda', 980), ('calculo', 963), ('cada', 949), ('sendo', 936), ('total', 933), ('operacao', 931), ('ja', 927), ('tecnica', 915), ('concorrencia', 913), ('relacao', 912), ('parte', 901), ('ponto', 900), ('assim', 886), ('servico', 841), ('sistema', 839), ('acordo', 833), ('participacao', 828), ('paises', 824), ('anos', 823), ('figura', 820), ('fracturing', 820), ('referencia', 819), ('desenvolvimento', 817), ('programa', 812), ('concessao', 784), ('entrega', 784), ('periodo', 777), ('condicoes', 776), ('meio', 775), ('outros', 774), ('empresa', 772), ('derivados', 766), ('fonte', 763), ('avaliacao', 760), ('custo', 759), ('prazo', 750), ('mercados', 746), ('alem', 745), ('rev', 743), ('disponivel', 741), ('quanto', 739), ('uk', 735), ('conforme', 734), ('flow', 734), ('art', 729), ('nota', 728), ('oil', 728), ('vez', 719), ('informacoes', 716), ('apenas', 715), ('hydraulic', 712), ('resolucao', 711), ('tal', 710), ('agencia', 708), ('longo', 701), ('relatorio', 701), ('energy', 697), ('exploracao', 695), ('janeiro', 690), ('aumento', 690), ('gasolina', 688), ('ano', 687), ('artigo', 683), ('a\\x14', 682), ('http', 681), ('pressao', 681), ('energetica', 680), ('servicos', 679), ('production', 679), ('base', 678), ('contrato', 678), ('r$', 674), ('analise', 664), ('tarifas', 660), ('shale', 660), ('oferta', 659), ('podem', 655), ('bem', 652), ('volume', 651), ('areas', 651), ('projeto', 649), ('site', 648), ('deve', 646), ('consumidores', 643), ('objetivo', 641), ('investimentos', 638), ('tarifa', 638), ('rio', 634), ('www', 633), ('instalacoes', 633), ('km', 619), ('valores', 616), ('would', 611), ('environment', 609), ('tais', 608), ('pontos', 606), ('max', 604), ('quais', 603), ('titulo', 603), ('final', 593), ('simulacao', 593), ('politica', 592), ('produto', 591), ('entrada', 589), ('termos', 585), ('crescimento', 580), ('reducao', 577), ('cadeia', 575), ('dados', 574), ('sera', 571), ('estrutura', 569), ('duto', 564), ('desta', 560), ('area', 560), ('combustivel', 559), ('deste', 556), ('publica', 556), ('modo', 551), ('economica', 547), ('venda', 547), ('capital', 547), ('construcao', 546), ('neste', 545), ('novos', 544), ('comercial', 538), ('uso', 535), ('\\x14', 533), ('portaria', 531), ('recursos', 528), ('brasileiro', 521), ('diesel', 519), ('rede', 518), ('veiculos', 518), ('produtos', 512), ('principais', 505), ('eficiencia', 504), ('environmental', 504), ('computacional', 504), ('infraestrutura', 502), ('grande', 500), ('segundo', 498), ('consumidor', 498), ('qualquer', 496), ('may', 485), ('risco', 484), ('folha', 484), ('energetico', 483), ('rlanpfpl', 480), ('geral', 479), ('teorico', 479), ('etanol', 478), ('emissions', 475), ('exploration', 474), ('atraves', 471), ('regulador', 469), ('federal', 468), ('livre', 462), ('regime', 462), ('effects', 461), ('maxima', 458), ('estao', 456), ('devem', 455), ('apos', 455), ('marco', 455), ('gnl', 454), ('utilizacao', 454), ('\\uf0b7', 454), ('possivel', 452), ('serem', 452), ('outras', 451), ('uniao', 451), ('funcao', 450), ('distribuidoras', 450), ('importante', 445), ('importacao', 444), ('exemplo', 443), ('april', 443), ('diferentes', 442), ('dois', 441), ('milhoes', 440), ('tipo', 438), ('defesa', 432), ('operacional', 431), ('use', 431), ('poder', 430), ('drilling', 429), ('sob', 428), ('apresenta', 428), ('regras', 426), ('secao', 426), ('fato', 423), ('nova', 421), ('agente', 420), ('oleo', 419), ('iv', 417), ('onde', 417), ('potential', 417), ('transportador', 415), ('malha', 415), ('infrastructure', 415), ('documentacao', 414), ('internacional', 408), ('segmento', 406), ('waste', 405), ('caracteristicas', 403), ('fim', 401), ('us$', 400), ('controle', 399), ('regulamentacao', 398), ('tempo', 398), ('resultados', 398), ('reservas', 398), ('local', 398), ('brasileira', 394), ('entretanto', 394), ('novas', 394), ('report', 392), ('qualidade', 389), ('demais', 388), ('associated', 384), ('fraturamento', 384), ('governo', 382), ('br', 381), ('dutos', 379), ('necessidade', 378), ('vista', 378), ('novo', 378), ('autorizacao', 377), ('outro', 376), ('grafico', 376), ('introducao', 375), ('blocos', 374), ('industrial', 372), ('segmentos', 371), ('agua', 371), ('medida', 370), ('medidas', 370), ('impacts', 370), ('economia', 369), ('criterios', 369), ('scm', 369), ('compra', 368), ('activities', 367), ('nesse', 366), ('medio', 366), ('licitacao', 366), ('formacao', 363), ('contratada', 363)]\n"
     ]
    }
   ],
   "source": [
    "imprime_info_corpus(texto)"
   ]
  },
  {
   "cell_type": "markdown",
   "metadata": {},
   "source": [
    "### Eliminando sentenças com menos de 3 palavras, inclusive vazias"
   ]
  },
  {
   "cell_type": "code",
   "execution_count": 39,
   "metadata": {
    "collapsed": true
   },
   "outputs": [],
   "source": [
    "lista_com_quebra_de_linha = texto.split('\\n')\n",
    "texto = '\\n'.join([sentenca for sentenca in lista_com_quebra_de_linha if len(sentenca.split(' ')) > 3])"
   ]
  },
  {
   "cell_type": "code",
   "execution_count": 40,
   "metadata": {},
   "outputs": [
    {
     "name": "stdout",
     "output_type": "stream",
     "text": [
      "Total de tokens analisados:  669,356\n",
      "Tamanho do Vocabulário:  16,922\n",
      "\n",
      "\n",
      "[('gas', 10630), ('natural', 6140), ('nao', 4897), ('transporte', 4414), ('anp', 3439), ('petroleo', 3170), ('capacidade', 3079), ('ser', 2883), ('mercado', 2829), ('precos', 2673), ('producao', 2499), ('sao', 2292), ('modelo', 1892), ('lei', 1730), ('industria', 1515), ('setor', 1489), ('preco', 1486), ('atividades', 1464), ('distribuicao', 1464), ('brasil', 1462), ('contratos', 1433), ('energia', 1417), ('gasoduto', 1394), ('gasodutos', 1358), ('caso', 1357), ('empresas', 1355), ('nacional', 1342), ('forma', 1309), ('dia', 1234), ('\\uf084', 1179), ('ate', 1175), ('partir', 1155), ('tabela', 1151), ('tambem', 1144), ('custos', 1142), ('agentes', 1127), ('maior', 1124), ('petrobras', 1105), ('pode', 1102), ('regulacao', 1101), ('atividade', 1084), ('processo', 1073), ('glp', 1073), ('combustiveis', 1047), ('water', 1039), ('consumo', 1037), ('demanda', 1022), ('comercializacao', 1019), ('well', 1015), ('valor', 994), ('acesso', 987), ('pais', 984), ('ainda', 980), ('calculo', 963), ('cada', 949), ('sendo', 936), ('operacao', 931), ('total', 927), ('ja', 925), ('tecnica', 915), ('relacao', 912), ('concorrencia', 912), ('parte', 901), ('ponto', 900), ('assim', 885), ('servico', 841), ('sistema', 839), ('acordo', 833), ('participacao', 828), ('paises', 824), ('anos', 822), ('fracturing', 820), ('desenvolvimento', 817), ('referencia', 817), ('programa', 812), ('concessao', 784), ('entrega', 784), ('meio', 775), ('condicoes', 775), ('periodo', 775), ('outros', 774), ('empresa', 772), ('derivados', 766), ('fonte', 762), ('avaliacao', 760), ('custo', 759), ('figura', 759), ('prazo', 750), ('mercados', 746), ('alem', 745), ('quanto', 739), ('disponivel', 735), ('conforme', 734), ('nota', 728), ('oil', 727), ('uk', 726), ('vez', 719), ('flow', 719), ('informacoes', 716), ('apenas', 715), ('hydraulic', 712), ('tal', 710), ('agencia', 708), ('resolucao', 708), ('longo', 701), ('relatorio', 701), ('exploracao', 695), ('aumento', 690), ('energy', 688), ('janeiro', 686), ('gasolina', 686), ('a\\x14', 682), ('pressao', 681), ('energetica', 680), ('production', 679), ('servicos', 678), ('contrato', 678), ('base', 677), ('ano', 672), ('http', 671), ('r$', 670), ('analise', 664), ('artigo', 661), ('tarifas', 660), ('shale', 660), ('podem', 655), ('oferta', 654), ('bem', 652), ('volume', 651), ('areas', 651), ('projeto', 649), ('site', 648), ('deve', 646), ('consumidores', 643), ('objetivo', 641), ('tarifa', 638), ('investimentos', 634), ('rio', 634), ('instalacoes', 633), ('www', 624), ('valores', 616), ('km', 613), ('would', 611), ('environment', 609), ('tais', 608), ('pontos', 606), ('quais', 602), ('max', 602), ('titulo', 600), ('final', 593), ('politica', 592), ('simulacao', 592), ('produto', 591), ('entrada', 589), ('termos', 585), ('crescimento', 580), ('reducao', 577), ('cadeia', 575), ('dados', 573), ('sera', 571), ('estrutura', 569), ('desta', 560), ('area', 560), ('combustivel', 559), ('deste', 556), ('publica', 556), ('modo', 551), ('capital', 547), ('construcao', 546), ('economica', 546), ('venda', 546), ('neste', 545), ('novos', 544), ('art', 540), ('comercial', 538), ('uso', 535), ('\\x14', 533), ('portaria', 529), ('recursos', 528), ('brasileiro', 521), ('rede', 518), ('diesel', 518), ('veiculos', 514), ('produtos', 512), ('principais', 505), ('eficiencia', 504), ('environmental', 504), ('computacional', 504), ('duto', 503), ('infraestrutura', 502), ('grande', 500), ('segundo', 498), ('consumidor', 498), ('rev', 498), ('qualquer', 496), ('risco', 484), ('may', 483), ('energetico', 482), ('folha', 482), ('rlanpfpl', 480), ('geral', 479), ('teorico', 479), ('etanol', 477), ('emissions', 475), ('exploration', 474), ('atraves', 471), ('regulador', 469), ('federal', 468), ('livre', 462), ('regime', 462), ('effects', 461), ('estao', 456), ('maxima', 456), ('devem', 455), ('apos', 455), ('gnl', 454), ('utilizacao', 454), ('\\uf0b7', 454), ('possivel', 452), ('serem', 452), ('outras', 451), ('uniao', 451), ('funcao', 450), ('distribuidoras', 450), ('importante', 445), ('importacao', 444), ('exemplo', 442), ('diferentes', 442), ('dois', 441), ('tipo', 438), ('marco', 438), ('milhoes', 437), ('defesa', 432), ('operacional', 431), ('use', 431), ('poder', 430), ('drilling', 429), ('sob', 428), ('apresenta', 428), ('regras', 426), ('secao', 424), ('fato', 423), ('nova', 421), ('agente', 420), ('oleo', 419), ('onde', 417), ('potential', 417), ('transportador', 415), ('malha', 415), ('infrastructure', 415), ('documentacao', 414), ('internacional', 408), ('segmento', 406), ('waste', 404), ('caracteristicas', 403), ('fim', 401), ('controle', 399), ('regulamentacao', 398), ('tempo', 398), ('resultados', 398), ('reservas', 398), ('local', 398), ('us$', 395), ('brasileira', 394), ('entretanto', 394), ('novas', 394), ('report', 392), ('qualidade', 389), ('demais', 388), ('associated', 384), ('fraturamento', 384), ('governo', 382), ('necessidade', 378), ('dutos', 378), ('vista', 378), ('novo', 378), ('autorizacao', 377), ('outro', 376), ('blocos', 374), ('industrial', 372), ('segmentos', 371), ('medida', 370), ('medidas', 370), ('agua', 370), ('impacts', 370), ('economia', 369), ('criterios', 369), ('scm', 369), ('compra', 367), ('grafico', 367), ('nesse', 366), ('licitacao', 366), ('activities', 366), ('medio', 365), ('formacao', 363), ('contratada', 363), ('monopolio', 361), ('regiao', 360), ('revenda', 359), ('trecho', 358)]\n"
     ]
    }
   ],
   "source": [
    "imprime_info_corpus(texto)"
   ]
  },
  {
   "cell_type": "code",
   "execution_count": 43,
   "metadata": {},
   "outputs": [],
   "source": [
    "#Checkpoint\n",
    "\n",
    "gravaArquivo(arquivoCorpusFinal, texto)"
   ]
  },
  {
   "cell_type": "code",
   "execution_count": null,
   "metadata": {
    "collapsed": true
   },
   "outputs": [],
   "source": []
  }
 ],
 "metadata": {
  "kernelspec": {
   "display_name": "Python 3",
   "language": "python",
   "name": "python3"
  },
  "language_info": {
   "codemirror_mode": {
    "name": "ipython",
    "version": 3
   },
   "file_extension": ".py",
   "mimetype": "text/x-python",
   "name": "python",
   "nbconvert_exporter": "python",
   "pygments_lexer": "ipython3",
   "version": "3.6.3"
  }
 },
 "nbformat": 4,
 "nbformat_minor": 2
}
