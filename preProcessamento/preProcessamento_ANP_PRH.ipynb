{
 "cells": [
  {
   "cell_type": "markdown",
   "metadata": {},
   "source": [
    "# Realiza o merge de um conjunto de arquivos texto de uma pasta para um único arquivo, depois aplica as técnicas de pré-processamento e filtros"
   ]
  },
  {
   "cell_type": "code",
   "execution_count": 1,
   "metadata": {
    "collapsed": true
   },
   "outputs": [],
   "source": [
    "import numpy as np\n",
    "import re\n",
    "import nltk\n",
    "from collections import Counter\n",
    "import os\n",
    "from pathlib import Path\n",
    "import datetime\n",
    "from string import ascii_lowercase\n",
    "import pandas as pd"
   ]
  },
  {
   "cell_type": "code",
   "execution_count": 2,
   "metadata": {},
   "outputs": [
    {
     "data": {
      "text/html": [
       "\n",
       "    <div class=\"bk-root\">\n",
       "        <a href=\"https://bokeh.pydata.org\" target=\"_blank\" class=\"bk-logo bk-logo-small bk-logo-notebook\"></a>\n",
       "        <span id=\"4e9720f5-7bbc-474f-a83b-735e07143649\">Loading BokehJS ...</span>\n",
       "    </div>"
      ]
     },
     "metadata": {},
     "output_type": "display_data"
    },
    {
     "data": {
      "application/javascript": [
       "\n",
       "(function(root) {\n",
       "  function now() {\n",
       "    return new Date();\n",
       "  }\n",
       "\n",
       "  var force = true;\n",
       "\n",
       "  if (typeof (root._bokeh_onload_callbacks) === \"undefined\" || force === true) {\n",
       "    root._bokeh_onload_callbacks = [];\n",
       "    root._bokeh_is_loading = undefined;\n",
       "  }\n",
       "\n",
       "  var JS_MIME_TYPE = 'application/javascript';\n",
       "  var HTML_MIME_TYPE = 'text/html';\n",
       "  var EXEC_MIME_TYPE = 'application/vnd.bokehjs_exec.v0+json';\n",
       "  var CLASS_NAME = 'output_bokeh rendered_html';\n",
       "\n",
       "  /**\n",
       "   * Render data to the DOM node\n",
       "   */\n",
       "  function render(props, node) {\n",
       "    var script = document.createElement(\"script\");\n",
       "    node.appendChild(script);\n",
       "  }\n",
       "\n",
       "  /**\n",
       "   * Handle when an output is cleared or removed\n",
       "   */\n",
       "  function handleClearOutput(event, handle) {\n",
       "    var cell = handle.cell;\n",
       "\n",
       "    var id = cell.output_area._bokeh_element_id;\n",
       "    var server_id = cell.output_area._bokeh_server_id;\n",
       "    // Clean up Bokeh references\n",
       "    if (id !== undefined) {\n",
       "      Bokeh.index[id].model.document.clear();\n",
       "      delete Bokeh.index[id];\n",
       "    }\n",
       "\n",
       "    if (server_id !== undefined) {\n",
       "      // Clean up Bokeh references\n",
       "      var cmd = \"from bokeh.io.state import curstate; print(curstate().uuid_to_server['\" + server_id + \"'].get_sessions()[0].document.roots[0]._id)\";\n",
       "      cell.notebook.kernel.execute(cmd, {\n",
       "        iopub: {\n",
       "          output: function(msg) {\n",
       "            var element_id = msg.content.text.trim();\n",
       "            Bokeh.index[element_id].model.document.clear();\n",
       "            delete Bokeh.index[element_id];\n",
       "          }\n",
       "        }\n",
       "      });\n",
       "      // Destroy server and session\n",
       "      var cmd = \"import bokeh.io.notebook as ion; ion.destroy_server('\" + server_id + \"')\";\n",
       "      cell.notebook.kernel.execute(cmd);\n",
       "    }\n",
       "  }\n",
       "\n",
       "  /**\n",
       "   * Handle when a new output is added\n",
       "   */\n",
       "  function handleAddOutput(event, handle) {\n",
       "    var output_area = handle.output_area;\n",
       "    var output = handle.output;\n",
       "\n",
       "    // limit handleAddOutput to display_data with EXEC_MIME_TYPE content only\n",
       "    if ((output.output_type != \"display_data\") || (!output.data.hasOwnProperty(EXEC_MIME_TYPE))) {\n",
       "      return\n",
       "    }\n",
       "\n",
       "    var toinsert = output_area.element.find(`.${CLASS_NAME.split(' ')[0]}`);\n",
       "\n",
       "    if (output.metadata[EXEC_MIME_TYPE][\"id\"] !== undefined) {\n",
       "      toinsert[0].firstChild.textContent = output.data[JS_MIME_TYPE];\n",
       "      // store reference to embed id on output_area\n",
       "      output_area._bokeh_element_id = output.metadata[EXEC_MIME_TYPE][\"id\"];\n",
       "    }\n",
       "    if (output.metadata[EXEC_MIME_TYPE][\"server_id\"] !== undefined) {\n",
       "      var bk_div = document.createElement(\"div\");\n",
       "      bk_div.innerHTML = output.data[HTML_MIME_TYPE];\n",
       "      var script_attrs = bk_div.children[0].attributes;\n",
       "      for (var i = 0; i < script_attrs.length; i++) {\n",
       "        toinsert[0].firstChild.setAttribute(script_attrs[i].name, script_attrs[i].value);\n",
       "      }\n",
       "      // store reference to server id on output_area\n",
       "      output_area._bokeh_server_id = output.metadata[EXEC_MIME_TYPE][\"server_id\"];\n",
       "    }\n",
       "  }\n",
       "\n",
       "  function register_renderer(events, OutputArea) {\n",
       "\n",
       "    function append_mime(data, metadata, element) {\n",
       "      // create a DOM node to render to\n",
       "      var toinsert = this.create_output_subarea(\n",
       "        metadata,\n",
       "        CLASS_NAME,\n",
       "        EXEC_MIME_TYPE\n",
       "      );\n",
       "      this.keyboard_manager.register_events(toinsert);\n",
       "      // Render to node\n",
       "      var props = {data: data, metadata: metadata[EXEC_MIME_TYPE]};\n",
       "      render(props, toinsert[0]);\n",
       "      element.append(toinsert);\n",
       "      return toinsert\n",
       "    }\n",
       "\n",
       "    /* Handle when an output is cleared or removed */\n",
       "    events.on('clear_output.CodeCell', handleClearOutput);\n",
       "    events.on('delete.Cell', handleClearOutput);\n",
       "\n",
       "    /* Handle when a new output is added */\n",
       "    events.on('output_added.OutputArea', handleAddOutput);\n",
       "\n",
       "    /**\n",
       "     * Register the mime type and append_mime function with output_area\n",
       "     */\n",
       "    OutputArea.prototype.register_mime_type(EXEC_MIME_TYPE, append_mime, {\n",
       "      /* Is output safe? */\n",
       "      safe: true,\n",
       "      /* Index of renderer in `output_area.display_order` */\n",
       "      index: 0\n",
       "    });\n",
       "  }\n",
       "\n",
       "  // register the mime type if in Jupyter Notebook environment and previously unregistered\n",
       "  if (root.Jupyter !== undefined) {\n",
       "    var events = require('base/js/events');\n",
       "    var OutputArea = require('notebook/js/outputarea').OutputArea;\n",
       "\n",
       "    if (OutputArea.prototype.mime_types().indexOf(EXEC_MIME_TYPE) == -1) {\n",
       "      register_renderer(events, OutputArea);\n",
       "    }\n",
       "  }\n",
       "\n",
       "  \n",
       "  if (typeof (root._bokeh_timeout) === \"undefined\" || force === true) {\n",
       "    root._bokeh_timeout = Date.now() + 5000;\n",
       "    root._bokeh_failed_load = false;\n",
       "  }\n",
       "\n",
       "  var NB_LOAD_WARNING = {'data': {'text/html':\n",
       "     \"<div style='background-color: #fdd'>\\n\"+\n",
       "     \"<p>\\n\"+\n",
       "     \"BokehJS does not appear to have successfully loaded. If loading BokehJS from CDN, this \\n\"+\n",
       "     \"may be due to a slow or bad network connection. Possible fixes:\\n\"+\n",
       "     \"</p>\\n\"+\n",
       "     \"<ul>\\n\"+\n",
       "     \"<li>re-rerun `output_notebook()` to attempt to load from CDN again, or</li>\\n\"+\n",
       "     \"<li>use INLINE resources instead, as so:</li>\\n\"+\n",
       "     \"</ul>\\n\"+\n",
       "     \"<code>\\n\"+\n",
       "     \"from bokeh.resources import INLINE\\n\"+\n",
       "     \"output_notebook(resources=INLINE)\\n\"+\n",
       "     \"</code>\\n\"+\n",
       "     \"</div>\"}};\n",
       "\n",
       "  function display_loaded() {\n",
       "    var el = document.getElementById(\"4e9720f5-7bbc-474f-a83b-735e07143649\");\n",
       "    if (el != null) {\n",
       "      el.textContent = \"BokehJS is loading...\";\n",
       "    }\n",
       "    if (root.Bokeh !== undefined) {\n",
       "      if (el != null) {\n",
       "        el.textContent = \"BokehJS \" + root.Bokeh.version + \" successfully loaded.\";\n",
       "      }\n",
       "    } else if (Date.now() < root._bokeh_timeout) {\n",
       "      setTimeout(display_loaded, 100)\n",
       "    }\n",
       "  }\n",
       "\n",
       "\n",
       "  function run_callbacks() {\n",
       "    try {\n",
       "      root._bokeh_onload_callbacks.forEach(function(callback) { callback() });\n",
       "    }\n",
       "    finally {\n",
       "      delete root._bokeh_onload_callbacks\n",
       "    }\n",
       "    console.info(\"Bokeh: all callbacks have finished\");\n",
       "  }\n",
       "\n",
       "  function load_libs(js_urls, callback) {\n",
       "    root._bokeh_onload_callbacks.push(callback);\n",
       "    if (root._bokeh_is_loading > 0) {\n",
       "      console.log(\"Bokeh: BokehJS is being loaded, scheduling callback at\", now());\n",
       "      return null;\n",
       "    }\n",
       "    if (js_urls == null || js_urls.length === 0) {\n",
       "      run_callbacks();\n",
       "      return null;\n",
       "    }\n",
       "    console.log(\"Bokeh: BokehJS not loaded, scheduling load and callback at\", now());\n",
       "    root._bokeh_is_loading = js_urls.length;\n",
       "    for (var i = 0; i < js_urls.length; i++) {\n",
       "      var url = js_urls[i];\n",
       "      var s = document.createElement('script');\n",
       "      s.src = url;\n",
       "      s.async = false;\n",
       "      s.onreadystatechange = s.onload = function() {\n",
       "        root._bokeh_is_loading--;\n",
       "        if (root._bokeh_is_loading === 0) {\n",
       "          console.log(\"Bokeh: all BokehJS libraries loaded\");\n",
       "          run_callbacks()\n",
       "        }\n",
       "      };\n",
       "      s.onerror = function() {\n",
       "        console.warn(\"failed to load library \" + url);\n",
       "      };\n",
       "      console.log(\"Bokeh: injecting script tag for BokehJS library: \", url);\n",
       "      document.getElementsByTagName(\"head\")[0].appendChild(s);\n",
       "    }\n",
       "  };var element = document.getElementById(\"4e9720f5-7bbc-474f-a83b-735e07143649\");\n",
       "  if (element == null) {\n",
       "    console.log(\"Bokeh: ERROR: autoload.js configured with elementid '4e9720f5-7bbc-474f-a83b-735e07143649' but no matching script tag was found. \")\n",
       "    return false;\n",
       "  }\n",
       "\n",
       "  var js_urls = [\"https://cdn.pydata.org/bokeh/release/bokeh-0.12.10.min.js\", \"https://cdn.pydata.org/bokeh/release/bokeh-widgets-0.12.10.min.js\", \"https://cdn.pydata.org/bokeh/release/bokeh-tables-0.12.10.min.js\", \"https://cdn.pydata.org/bokeh/release/bokeh-gl-0.12.10.min.js\"];\n",
       "\n",
       "  var inline_js = [\n",
       "    function(Bokeh) {\n",
       "      Bokeh.set_log_level(\"info\");\n",
       "    },\n",
       "    \n",
       "    function(Bokeh) {\n",
       "      \n",
       "    },\n",
       "    function(Bokeh) {\n",
       "      console.log(\"Bokeh: injecting CSS: https://cdn.pydata.org/bokeh/release/bokeh-0.12.10.min.css\");\n",
       "      Bokeh.embed.inject_css(\"https://cdn.pydata.org/bokeh/release/bokeh-0.12.10.min.css\");\n",
       "      console.log(\"Bokeh: injecting CSS: https://cdn.pydata.org/bokeh/release/bokeh-widgets-0.12.10.min.css\");\n",
       "      Bokeh.embed.inject_css(\"https://cdn.pydata.org/bokeh/release/bokeh-widgets-0.12.10.min.css\");\n",
       "      console.log(\"Bokeh: injecting CSS: https://cdn.pydata.org/bokeh/release/bokeh-tables-0.12.10.min.css\");\n",
       "      Bokeh.embed.inject_css(\"https://cdn.pydata.org/bokeh/release/bokeh-tables-0.12.10.min.css\");\n",
       "    }\n",
       "  ];\n",
       "\n",
       "  function run_inline_js() {\n",
       "    \n",
       "    if ((root.Bokeh !== undefined) || (force === true)) {\n",
       "      for (var i = 0; i < inline_js.length; i++) {\n",
       "        inline_js[i].call(root, root.Bokeh);\n",
       "      }if (force === true) {\n",
       "        display_loaded();\n",
       "      }} else if (Date.now() < root._bokeh_timeout) {\n",
       "      setTimeout(run_inline_js, 100);\n",
       "    } else if (!root._bokeh_failed_load) {\n",
       "      console.log(\"Bokeh: BokehJS failed to load within specified timeout.\");\n",
       "      root._bokeh_failed_load = true;\n",
       "    } else if (force !== true) {\n",
       "      var cell = $(document.getElementById(\"4e9720f5-7bbc-474f-a83b-735e07143649\")).parents('.cell').data().cell;\n",
       "      cell.output_area.append_execute_result(NB_LOAD_WARNING)\n",
       "    }\n",
       "\n",
       "  }\n",
       "\n",
       "  if (root._bokeh_is_loading === 0) {\n",
       "    console.log(\"Bokeh: BokehJS loaded, going straight to plotting\");\n",
       "    run_inline_js();\n",
       "  } else {\n",
       "    load_libs(js_urls, function() {\n",
       "      console.log(\"Bokeh: BokehJS plotting callback run at\", now());\n",
       "      run_inline_js();\n",
       "    });\n",
       "  }\n",
       "}(window));"
      ],
      "application/vnd.bokehjs_load.v0+json": "\n(function(root) {\n  function now() {\n    return new Date();\n  }\n\n  var force = true;\n\n  if (typeof (root._bokeh_onload_callbacks) === \"undefined\" || force === true) {\n    root._bokeh_onload_callbacks = [];\n    root._bokeh_is_loading = undefined;\n  }\n\n  \n\n  \n  if (typeof (root._bokeh_timeout) === \"undefined\" || force === true) {\n    root._bokeh_timeout = Date.now() + 5000;\n    root._bokeh_failed_load = false;\n  }\n\n  var NB_LOAD_WARNING = {'data': {'text/html':\n     \"<div style='background-color: #fdd'>\\n\"+\n     \"<p>\\n\"+\n     \"BokehJS does not appear to have successfully loaded. If loading BokehJS from CDN, this \\n\"+\n     \"may be due to a slow or bad network connection. Possible fixes:\\n\"+\n     \"</p>\\n\"+\n     \"<ul>\\n\"+\n     \"<li>re-rerun `output_notebook()` to attempt to load from CDN again, or</li>\\n\"+\n     \"<li>use INLINE resources instead, as so:</li>\\n\"+\n     \"</ul>\\n\"+\n     \"<code>\\n\"+\n     \"from bokeh.resources import INLINE\\n\"+\n     \"output_notebook(resources=INLINE)\\n\"+\n     \"</code>\\n\"+\n     \"</div>\"}};\n\n  function display_loaded() {\n    var el = document.getElementById(\"4e9720f5-7bbc-474f-a83b-735e07143649\");\n    if (el != null) {\n      el.textContent = \"BokehJS is loading...\";\n    }\n    if (root.Bokeh !== undefined) {\n      if (el != null) {\n        el.textContent = \"BokehJS \" + root.Bokeh.version + \" successfully loaded.\";\n      }\n    } else if (Date.now() < root._bokeh_timeout) {\n      setTimeout(display_loaded, 100)\n    }\n  }\n\n\n  function run_callbacks() {\n    try {\n      root._bokeh_onload_callbacks.forEach(function(callback) { callback() });\n    }\n    finally {\n      delete root._bokeh_onload_callbacks\n    }\n    console.info(\"Bokeh: all callbacks have finished\");\n  }\n\n  function load_libs(js_urls, callback) {\n    root._bokeh_onload_callbacks.push(callback);\n    if (root._bokeh_is_loading > 0) {\n      console.log(\"Bokeh: BokehJS is being loaded, scheduling callback at\", now());\n      return null;\n    }\n    if (js_urls == null || js_urls.length === 0) {\n      run_callbacks();\n      return null;\n    }\n    console.log(\"Bokeh: BokehJS not loaded, scheduling load and callback at\", now());\n    root._bokeh_is_loading = js_urls.length;\n    for (var i = 0; i < js_urls.length; i++) {\n      var url = js_urls[i];\n      var s = document.createElement('script');\n      s.src = url;\n      s.async = false;\n      s.onreadystatechange = s.onload = function() {\n        root._bokeh_is_loading--;\n        if (root._bokeh_is_loading === 0) {\n          console.log(\"Bokeh: all BokehJS libraries loaded\");\n          run_callbacks()\n        }\n      };\n      s.onerror = function() {\n        console.warn(\"failed to load library \" + url);\n      };\n      console.log(\"Bokeh: injecting script tag for BokehJS library: \", url);\n      document.getElementsByTagName(\"head\")[0].appendChild(s);\n    }\n  };var element = document.getElementById(\"4e9720f5-7bbc-474f-a83b-735e07143649\");\n  if (element == null) {\n    console.log(\"Bokeh: ERROR: autoload.js configured with elementid '4e9720f5-7bbc-474f-a83b-735e07143649' but no matching script tag was found. \")\n    return false;\n  }\n\n  var js_urls = [\"https://cdn.pydata.org/bokeh/release/bokeh-0.12.10.min.js\", \"https://cdn.pydata.org/bokeh/release/bokeh-widgets-0.12.10.min.js\", \"https://cdn.pydata.org/bokeh/release/bokeh-tables-0.12.10.min.js\", \"https://cdn.pydata.org/bokeh/release/bokeh-gl-0.12.10.min.js\"];\n\n  var inline_js = [\n    function(Bokeh) {\n      Bokeh.set_log_level(\"info\");\n    },\n    \n    function(Bokeh) {\n      \n    },\n    function(Bokeh) {\n      console.log(\"Bokeh: injecting CSS: https://cdn.pydata.org/bokeh/release/bokeh-0.12.10.min.css\");\n      Bokeh.embed.inject_css(\"https://cdn.pydata.org/bokeh/release/bokeh-0.12.10.min.css\");\n      console.log(\"Bokeh: injecting CSS: https://cdn.pydata.org/bokeh/release/bokeh-widgets-0.12.10.min.css\");\n      Bokeh.embed.inject_css(\"https://cdn.pydata.org/bokeh/release/bokeh-widgets-0.12.10.min.css\");\n      console.log(\"Bokeh: injecting CSS: https://cdn.pydata.org/bokeh/release/bokeh-tables-0.12.10.min.css\");\n      Bokeh.embed.inject_css(\"https://cdn.pydata.org/bokeh/release/bokeh-tables-0.12.10.min.css\");\n    }\n  ];\n\n  function run_inline_js() {\n    \n    if ((root.Bokeh !== undefined) || (force === true)) {\n      for (var i = 0; i < inline_js.length; i++) {\n        inline_js[i].call(root, root.Bokeh);\n      }if (force === true) {\n        display_loaded();\n      }} else if (Date.now() < root._bokeh_timeout) {\n      setTimeout(run_inline_js, 100);\n    } else if (!root._bokeh_failed_load) {\n      console.log(\"Bokeh: BokehJS failed to load within specified timeout.\");\n      root._bokeh_failed_load = true;\n    } else if (force !== true) {\n      var cell = $(document.getElementById(\"4e9720f5-7bbc-474f-a83b-735e07143649\")).parents('.cell').data().cell;\n      cell.output_area.append_execute_result(NB_LOAD_WARNING)\n    }\n\n  }\n\n  if (root._bokeh_is_loading === 0) {\n    console.log(\"Bokeh: BokehJS loaded, going straight to plotting\");\n    run_inline_js();\n  } else {\n    load_libs(js_urls, function() {\n      console.log(\"Bokeh: BokehJS plotting callback run at\", now());\n      run_inline_js();\n    });\n  }\n}(window));"
     },
     "metadata": {},
     "output_type": "display_data"
    }
   ],
   "source": [
    "from bokeh.models import ColumnDataSource, LabelSet\n",
    "from bokeh.plotting import figure, show, output_file\n",
    "from bokeh.io import output_notebook\n",
    "output_notebook()"
   ]
  },
  {
   "cell_type": "code",
   "execution_count": 3,
   "metadata": {},
   "outputs": [
    {
     "name": "stdout",
     "output_type": "stream",
     "text": [
      "Pasta de entrada:  ..\\..\\_Corpora\\ANP\\PRH\n"
     ]
    }
   ],
   "source": [
    "# Iterando os arquivos da pasta atual\n",
    "import os\n",
    "from pathlib import Path\n",
    "import datetime\n",
    "\n",
    "extensao = \"*.txt\"\n",
    "pastaentrada =  os.path.join(\"..\", \"..\", \"_Corpora\", \"ANP\", \"PRH\")\n",
    "pastaSaida = \"ANP\"\n",
    "arquivoSaida = os.path.join(pastaSaida, 'anp_prh.txt')\n",
    "arquivoCorpusFinal = os.path.join(pastaSaida, 'anp_prh_final.txt')\n",
    "print(\"Pasta de entrada: \", pastaentrada)\n",
    "\n",
    "tokens = 0\n",
    "sentencas_totais = 0\n",
    "\n",
    "# cria a pasta de saida, se nao existir\n",
    "if not os.path.exists(pastaSaida):\n",
    "    os.makedirs(pastaSaida)"
   ]
  },
  {
   "cell_type": "code",
   "execution_count": 4,
   "metadata": {},
   "outputs": [
    {
     "name": "stdout",
     "output_type": "stream",
     "text": [
      "Lendo o arquivo  ..\\..\\_Corpora\\ANP\\PRH\\20120904-MONOGRAFIA_0.txt\n",
      "Lendo o arquivo  ..\\..\\_Corpora\\ANP\\PRH\\20121011-MONOGRAFIA_0 (1).txt\n",
      "Lendo o arquivo  ..\\..\\_Corpora\\ANP\\PRH\\20121011-MONOGRAFIA_0 (2).txt\n",
      "Lendo o arquivo  ..\\..\\_Corpora\\ANP\\PRH\\20121011-MONOGRAFIA_0.txt\n",
      "Lendo o arquivo  ..\\..\\_Corpora\\ANP\\PRH\\20121011-TESEMSC_0 (1).txt\n",
      "Lendo o arquivo  ..\\..\\_Corpora\\ANP\\PRH\\20121011-TESEMSC_0 (2).txt\n",
      "Lendo o arquivo  ..\\..\\_Corpora\\ANP\\PRH\\20121011-TESEMSC_0.txt\n",
      "Lendo o arquivo  ..\\..\\_Corpora\\ANP\\PRH\\20121015-TESEMSC_0.txt\n",
      "Lendo o arquivo  ..\\..\\_Corpora\\ANP\\PRH\\20121105-MONOGRAFIA_0.txt\n",
      "Lendo o arquivo  ..\\..\\_Corpora\\ANP\\PRH\\20121105-TESEMSC_0 (1).txt\n",
      "Lendo o arquivo  ..\\..\\_Corpora\\ANP\\PRH\\20121105-TESEMSC_0.txt\n",
      "Lendo o arquivo  ..\\..\\_Corpora\\ANP\\PRH\\20121107-TESEMSC_0.txt\n",
      "Lendo o arquivo  ..\\..\\_Corpora\\ANP\\PRH\\20121113-TESEMSC_0.txt\n",
      "Lendo o arquivo  ..\\..\\_Corpora\\ANP\\PRH\\20121119-TESEMSC_0.txt\n",
      "Lendo o arquivo  ..\\..\\_Corpora\\ANP\\PRH\\20121130-MONOGRAFIA_0.txt\n",
      "Lendo o arquivo  ..\\..\\_Corpora\\ANP\\PRH\\20121206-TESEDSC_1.txt\n",
      "Lendo o arquivo  ..\\..\\_Corpora\\ANP\\PRH\\20121217-MONOGRAFIA_0.txt\n",
      "Lendo o arquivo  ..\\..\\_Corpora\\ANP\\PRH\\20121220-MONOGRAFIA_0.txt\n",
      "Lendo o arquivo  ..\\..\\_Corpora\\ANP\\PRH\\20130226-TESEMSC_0.txt\n",
      "Lendo o arquivo  ..\\..\\_Corpora\\ANP\\PRH\\20130317-TESEDSC_0.txt\n",
      "Lendo o arquivo  ..\\..\\_Corpora\\ANP\\PRH\\20130320-TESEMSC_0.txt\n",
      "Lendo o arquivo  ..\\..\\_Corpora\\ANP\\PRH\\20130513-TESEMSC_0.txt\n",
      "Lendo o arquivo  ..\\..\\_Corpora\\ANP\\PRH\\20130607-TESEMSC_0 (1).txt\n",
      "Lendo o arquivo  ..\\..\\_Corpora\\ANP\\PRH\\20130607-TESEMSC_0.txt\n",
      "Lendo o arquivo  ..\\..\\_Corpora\\ANP\\PRH\\20131018-MONOGRAFIA_0 (1).txt\n",
      "Lendo o arquivo  ..\\..\\_Corpora\\ANP\\PRH\\20131018-MONOGRAFIA_0 (2).txt\n",
      "Lendo o arquivo  ..\\..\\_Corpora\\ANP\\PRH\\20131018-MONOGRAFIA_0.txt\n",
      "Lendo o arquivo  ..\\..\\_Corpora\\ANP\\PRH\\20131018-TESEMSC_0.txt\n",
      "Lendo o arquivo  ..\\..\\_Corpora\\ANP\\PRH\\20131205-TESEMSC_0.txt\n",
      "Lendo o arquivo  ..\\..\\_Corpora\\ANP\\PRH\\20131211-MONOGRAFIA_0.txt\n",
      "Lendo o arquivo  ..\\..\\_Corpora\\ANP\\PRH\\20140128-TESEMSC_0.txt\n",
      "Lendo o arquivo  ..\\..\\_Corpora\\ANP\\PRH\\20140218-MONOGRAFIA_0.txt\n",
      "Lendo o arquivo  ..\\..\\_Corpora\\ANP\\PRH\\20140218-TESEMSC_0.txt\n",
      "Lendo o arquivo  ..\\..\\_Corpora\\ANP\\PRH\\20140220-MONOGRAFIA_0.txt\n",
      "Lendo o arquivo  ..\\..\\_Corpora\\ANP\\PRH\\20140227-MONOGRAFIA_0.txt\n",
      "Lendo o arquivo  ..\\..\\_Corpora\\ANP\\PRH\\20140327-TESEMSC_0 (1).txt\n",
      "Lendo o arquivo  ..\\..\\_Corpora\\ANP\\PRH\\20140327-TESEMSC_0 (2).txt\n",
      "Lendo o arquivo  ..\\..\\_Corpora\\ANP\\PRH\\20140327-TESEMSC_0.txt\n",
      "Lendo o arquivo  ..\\..\\_Corpora\\ANP\\PRH\\20140331-TESEDSC_0.txt\n",
      "Lendo o arquivo  ..\\..\\_Corpora\\ANP\\PRH\\20140404-MONOGRAFIA_0.txt\n",
      "Lendo o arquivo  ..\\..\\_Corpora\\ANP\\PRH\\20140404-TESEMSC_0.txt\n",
      "Lendo o arquivo  ..\\..\\_Corpora\\ANP\\PRH\\20140530-MONOGRAFIA_0.txt\n",
      "Lendo o arquivo  ..\\..\\_Corpora\\ANP\\PRH\\20140530-TESEMSC_0.txt\n",
      "Lendo o arquivo  ..\\..\\_Corpora\\ANP\\PRH\\20140609-MONOGRAFIA_0.txt\n",
      "Lendo o arquivo  ..\\..\\_Corpora\\ANP\\PRH\\20140804-MONOGRAFIA_0 (1).txt\n",
      "Lendo o arquivo  ..\\..\\_Corpora\\ANP\\PRH\\20140804-MONOGRAFIA_0 (2).txt\n",
      "Lendo o arquivo  ..\\..\\_Corpora\\ANP\\PRH\\20140804-MONOGRAFIA_0 (3).txt\n",
      "Lendo o arquivo  ..\\..\\_Corpora\\ANP\\PRH\\20140804-MONOGRAFIA_0.txt\n",
      "Lendo o arquivo  ..\\..\\_Corpora\\ANP\\PRH\\20140811-MONOGRAFIA_0.txt\n",
      "Lendo o arquivo  ..\\..\\_Corpora\\ANP\\PRH\\20140827-MONOGRAFIA_0.txt\n",
      "Lendo o arquivo  ..\\..\\_Corpora\\ANP\\PRH\\20140904-TESEDSC_0.txt\n",
      "Lendo o arquivo  ..\\..\\_Corpora\\ANP\\PRH\\20140905-MONOGRAFIA_0 (1).txt\n",
      "Lendo o arquivo  ..\\..\\_Corpora\\ANP\\PRH\\20140905-MONOGRAFIA_0.txt\n",
      "Lendo o arquivo  ..\\..\\_Corpora\\ANP\\PRH\\20140905-TESEMSC_0.txt\n",
      "Lendo o arquivo  ..\\..\\_Corpora\\ANP\\PRH\\20140908-MONOGRAFIA_0.txt\n",
      "Lendo o arquivo  ..\\..\\_Corpora\\ANP\\PRH\\20140908-TESEMSC_0 (1).txt\n",
      "Lendo o arquivo  ..\\..\\_Corpora\\ANP\\PRH\\20140908-TESEMSC_0.txt\n",
      "Lendo o arquivo  ..\\..\\_Corpora\\ANP\\PRH\\20140910-MONOGRAFIA_0 (1).txt\n",
      "Lendo o arquivo  ..\\..\\_Corpora\\ANP\\PRH\\20140910-MONOGRAFIA_0 (2).txt\n",
      "Lendo o arquivo  ..\\..\\_Corpora\\ANP\\PRH\\20140910-MONOGRAFIA_0 (3).txt\n",
      "Lendo o arquivo  ..\\..\\_Corpora\\ANP\\PRH\\20140910-MONOGRAFIA_0 (4).txt\n",
      "Lendo o arquivo  ..\\..\\_Corpora\\ANP\\PRH\\20140910-MONOGRAFIA_0 (5).txt\n",
      "Lendo o arquivo  ..\\..\\_Corpora\\ANP\\PRH\\20140910-MONOGRAFIA_0 (6).txt\n",
      "Lendo o arquivo  ..\\..\\_Corpora\\ANP\\PRH\\20140910-MONOGRAFIA_0 (7).txt\n",
      "Lendo o arquivo  ..\\..\\_Corpora\\ANP\\PRH\\20140910-MONOGRAFIA_0.txt\n",
      "Lendo o arquivo  ..\\..\\_Corpora\\ANP\\PRH\\20140910-TESEMSC_0 (1).txt\n",
      "Lendo o arquivo  ..\\..\\_Corpora\\ANP\\PRH\\20140910-TESEMSC_0.txt\n",
      "Lendo o arquivo  ..\\..\\_Corpora\\ANP\\PRH\\20140911-MONOGRAFIA_0.txt\n",
      "Lendo o arquivo  ..\\..\\_Corpora\\ANP\\PRH\\20140911-MONOGRAFIA_1.txt\n",
      "Lendo o arquivo  ..\\..\\_Corpora\\ANP\\PRH\\20140912-MONOGRAFIA_1.txt\n",
      "Lendo o arquivo  ..\\..\\_Corpora\\ANP\\PRH\\20140915-MONOGRAFIA_0 (1).txt\n",
      "Lendo o arquivo  ..\\..\\_Corpora\\ANP\\PRH\\20140915-MONOGRAFIA_0 (2).txt\n",
      "Lendo o arquivo  ..\\..\\_Corpora\\ANP\\PRH\\20140915-MONOGRAFIA_0 (3).txt\n",
      "Lendo o arquivo  ..\\..\\_Corpora\\ANP\\PRH\\20140915-MONOGRAFIA_0.txt\n",
      "Lendo o arquivo  ..\\..\\_Corpora\\ANP\\PRH\\20140915-TESEDSC_0 (1).txt\n",
      "Lendo o arquivo  ..\\..\\_Corpora\\ANP\\PRH\\20140915-TESEDSC_0 (2).txt\n",
      "Lendo o arquivo  ..\\..\\_Corpora\\ANP\\PRH\\20140915-TESEDSC_0.txt\n",
      "Lendo o arquivo  ..\\..\\_Corpora\\ANP\\PRH\\20140915-TESEMSC_0 (1).txt\n",
      "Lendo o arquivo  ..\\..\\_Corpora\\ANP\\PRH\\20140915-TESEMSC_0.txt\n",
      "Lendo o arquivo  ..\\..\\_Corpora\\ANP\\PRH\\20140916-MONOGRAFIA_0 (1).txt\n",
      "Lendo o arquivo  ..\\..\\_Corpora\\ANP\\PRH\\20140916-MONOGRAFIA_0 (2).txt\n",
      "Lendo o arquivo  ..\\..\\_Corpora\\ANP\\PRH\\20140916-MONOGRAFIA_0 (3).txt\n",
      "Lendo o arquivo  ..\\..\\_Corpora\\ANP\\PRH\\20140916-MONOGRAFIA_0.txt\n",
      "Lendo o arquivo  ..\\..\\_Corpora\\ANP\\PRH\\20140916-MONOGRAFIA_1.txt\n",
      "Lendo o arquivo  ..\\..\\_Corpora\\ANP\\PRH\\20140916-TESEDSC_0.txt\n",
      "Lendo o arquivo  ..\\..\\_Corpora\\ANP\\PRH\\20140916-TESEMSC_0.txt\n",
      "Lendo o arquivo  ..\\..\\_Corpora\\ANP\\PRH\\20140916-TESEMSC_1.txt\n",
      "Lendo o arquivo  ..\\..\\_Corpora\\ANP\\PRH\\20140917-MONOGRAFIA_0 (1).txt\n",
      "Lendo o arquivo  ..\\..\\_Corpora\\ANP\\PRH\\20140917-MONOGRAFIA_0 (2).txt\n",
      "Lendo o arquivo  ..\\..\\_Corpora\\ANP\\PRH\\20140917-MONOGRAFIA_0 (3).txt\n",
      "Lendo o arquivo  ..\\..\\_Corpora\\ANP\\PRH\\20140917-MONOGRAFIA_0 (4).txt\n",
      "Lendo o arquivo  ..\\..\\_Corpora\\ANP\\PRH\\20140917-MONOGRAFIA_0 (5).txt\n",
      "Lendo o arquivo  ..\\..\\_Corpora\\ANP\\PRH\\20140917-MONOGRAFIA_0 (6).txt\n",
      "Lendo o arquivo  ..\\..\\_Corpora\\ANP\\PRH\\20140917-MONOGRAFIA_0.txt\n",
      "Lendo o arquivo  ..\\..\\_Corpora\\ANP\\PRH\\20140922-MONOGRAFIA_0 (1).txt\n",
      "Lendo o arquivo  ..\\..\\_Corpora\\ANP\\PRH\\20140922-MONOGRAFIA_0 (2).txt\n",
      "Lendo o arquivo  ..\\..\\_Corpora\\ANP\\PRH\\20140922-MONOGRAFIA_0 (3).txt\n",
      "Lendo o arquivo  ..\\..\\_Corpora\\ANP\\PRH\\20140922-MONOGRAFIA_0 (4).txt\n",
      "Lendo o arquivo  ..\\..\\_Corpora\\ANP\\PRH\\20140922-MONOGRAFIA_0 (5).txt\n",
      "Lendo o arquivo  ..\\..\\_Corpora\\ANP\\PRH\\20140922-MONOGRAFIA_0 (6).txt\n",
      "Lendo o arquivo  ..\\..\\_Corpora\\ANP\\PRH\\20140922-MONOGRAFIA_0.txt\n",
      "Lendo o arquivo  ..\\..\\_Corpora\\ANP\\PRH\\20140922-TESEMSC_0 (1).txt\n",
      "Lendo o arquivo  ..\\..\\_Corpora\\ANP\\PRH\\20140922-TESEMSC_0 (2).txt\n",
      "Lendo o arquivo  ..\\..\\_Corpora\\ANP\\PRH\\20140922-TESEMSC_0.txt\n",
      "Lendo o arquivo  ..\\..\\_Corpora\\ANP\\PRH\\20140923-MONOGRAFIA_0.txt\n",
      "Lendo o arquivo  ..\\..\\_Corpora\\ANP\\PRH\\20140923-TESEDSC_0.txt\n",
      "Lendo o arquivo  ..\\..\\_Corpora\\ANP\\PRH\\20140924-MONOGRAFIA_0 (1).txt\n",
      "Lendo o arquivo  ..\\..\\_Corpora\\ANP\\PRH\\20140924-MONOGRAFIA_0 (2).txt\n",
      "Lendo o arquivo  ..\\..\\_Corpora\\ANP\\PRH\\20140924-MONOGRAFIA_0.txt\n",
      "Lendo o arquivo  ..\\..\\_Corpora\\ANP\\PRH\\20140924-TESEMSC_0.txt\n",
      "Lendo o arquivo  ..\\..\\_Corpora\\ANP\\PRH\\20140925-MONOGRAFIA_0 (1).txt\n",
      "Lendo o arquivo  ..\\..\\_Corpora\\ANP\\PRH\\20140925-MONOGRAFIA_0 (2).txt\n",
      "Lendo o arquivo  ..\\..\\_Corpora\\ANP\\PRH\\20140925-MONOGRAFIA_0.txt\n",
      "Lendo o arquivo  ..\\..\\_Corpora\\ANP\\PRH\\20140929-MONOGRAFIA_0.txt\n",
      "Lendo o arquivo  ..\\..\\_Corpora\\ANP\\PRH\\20140930-MONOGRAFIA_0.txt\n",
      "Lendo o arquivo  ..\\..\\_Corpora\\ANP\\PRH\\20140930-TESEMSC_0.txt\n",
      "Lendo o arquivo  ..\\..\\_Corpora\\ANP\\PRH\\20141001-MONOGRAFIA_0.txt\n",
      "Lendo o arquivo  ..\\..\\_Corpora\\ANP\\PRH\\20141003-MONOGRAFIA_0.txt\n",
      "Lendo o arquivo  ..\\..\\_Corpora\\ANP\\PRH\\20141015-MONOGRAFIA_0.txt\n",
      "Lendo o arquivo  ..\\..\\_Corpora\\ANP\\PRH\\20141015-MONOGRAFIA_1 (1).txt\n",
      "Lendo o arquivo  ..\\..\\_Corpora\\ANP\\PRH\\20141015-MONOGRAFIA_1 (2).txt\n",
      "Lendo o arquivo  ..\\..\\_Corpora\\ANP\\PRH\\20141015-MONOGRAFIA_1 (3).txt\n",
      "Lendo o arquivo  ..\\..\\_Corpora\\ANP\\PRH\\20141015-MONOGRAFIA_1 (4).txt\n",
      "Lendo o arquivo  ..\\..\\_Corpora\\ANP\\PRH\\20141015-MONOGRAFIA_1 (5).txt\n",
      "Lendo o arquivo  ..\\..\\_Corpora\\ANP\\PRH\\20141015-MONOGRAFIA_1 (6).txt\n",
      "Lendo o arquivo  ..\\..\\_Corpora\\ANP\\PRH\\20141015-MONOGRAFIA_1 (7).txt\n",
      "Lendo o arquivo  ..\\..\\_Corpora\\ANP\\PRH\\20141015-MONOGRAFIA_1 (8).txt\n",
      "Lendo o arquivo  ..\\..\\_Corpora\\ANP\\PRH\\20141015-MONOGRAFIA_1 (9).txt\n",
      "Lendo o arquivo  ..\\..\\_Corpora\\ANP\\PRH\\20141015-MONOGRAFIA_1.txt\n",
      "Lendo o arquivo  ..\\..\\_Corpora\\ANP\\PRH\\20141015-TESEMSC_1 (1).txt\n",
      "Lendo o arquivo  ..\\..\\_Corpora\\ANP\\PRH\\20141015-TESEMSC_1.txt\n",
      "Lendo o arquivo  ..\\..\\_Corpora\\ANP\\PRH\\20141016-MONOGRAFIA_0.txt\n",
      "Lendo o arquivo  ..\\..\\_Corpora\\ANP\\PRH\\20141017-TESEMSC_0.txt\n",
      "Lendo o arquivo  ..\\..\\_Corpora\\ANP\\PRH\\20141023-MONOGRAFIA_0.txt\n",
      "Lendo o arquivo  ..\\..\\_Corpora\\ANP\\PRH\\20141024-MONOGRAFIA_0.txt\n",
      "Lendo o arquivo  ..\\..\\_Corpora\\ANP\\PRH\\20141027-MONOGRAFIA_0.txt\n",
      "Lendo o arquivo  ..\\..\\_Corpora\\ANP\\PRH\\20141031-MONOGRAFIA_0 (1).txt\n",
      "Lendo o arquivo  ..\\..\\_Corpora\\ANP\\PRH\\20141031-MONOGRAFIA_0 (2).txt\n",
      "Lendo o arquivo  ..\\..\\_Corpora\\ANP\\PRH\\20141031-MONOGRAFIA_0.txt\n",
      "Lendo o arquivo  ..\\..\\_Corpora\\ANP\\PRH\\20141110-MONOGRAFIA_0.txt\n",
      "Lendo o arquivo  ..\\..\\_Corpora\\ANP\\PRH\\20141113-TESEMSC_0 (1).txt\n",
      "Lendo o arquivo  ..\\..\\_Corpora\\ANP\\PRH\\20141113-TESEMSC_0.txt\n",
      "Lendo o arquivo  ..\\..\\_Corpora\\ANP\\PRH\\20141119-TESEDSC_1.txt\n",
      "Lendo o arquivo  ..\\..\\_Corpora\\ANP\\PRH\\20141125-MONOGRAFIA_0.txt\n",
      "Lendo o arquivo  ..\\..\\_Corpora\\ANP\\PRH\\20141125-TESEMSC_0.txt\n",
      "Lendo o arquivo  ..\\..\\_Corpora\\ANP\\PRH\\20141126-TESEMSC_1.txt\n",
      "Lendo o arquivo  ..\\..\\_Corpora\\ANP\\PRH\\20141201-TESEDSC_0.txt\n",
      "Lendo o arquivo  ..\\..\\_Corpora\\ANP\\PRH\\20141205-TESEDSC_1.txt\n",
      "Lendo o arquivo  ..\\..\\_Corpora\\ANP\\PRH\\20141209-TESEDSC_0.txt\n",
      "Lendo o arquivo  ..\\..\\_Corpora\\ANP\\PRH\\20141209-TESEMSC_0 (1).txt\n",
      "Lendo o arquivo  ..\\..\\_Corpora\\ANP\\PRH\\20141209-TESEMSC_0 (2).txt\n",
      "Lendo o arquivo  ..\\..\\_Corpora\\ANP\\PRH\\20141209-TESEMSC_0 (3).txt\n",
      "Lendo o arquivo  ..\\..\\_Corpora\\ANP\\PRH\\20141209-TESEMSC_0 (4).txt\n",
      "Lendo o arquivo  ..\\..\\_Corpora\\ANP\\PRH\\20141209-TESEMSC_0.txt\n",
      "Lendo o arquivo  ..\\..\\_Corpora\\ANP\\PRH\\20141210-MONOGRAFIA_0 (1).txt\n",
      "Lendo o arquivo  ..\\..\\_Corpora\\ANP\\PRH\\20141210-MONOGRAFIA_0 (2).txt\n",
      "Lendo o arquivo  ..\\..\\_Corpora\\ANP\\PRH\\20141210-MONOGRAFIA_0 (3).txt\n",
      "Lendo o arquivo  ..\\..\\_Corpora\\ANP\\PRH\\20141210-MONOGRAFIA_0.txt\n"
     ]
    },
    {
     "name": "stdout",
     "output_type": "stream",
     "text": [
      "Lendo o arquivo  ..\\..\\_Corpora\\ANP\\PRH\\20141210-TESEMSC_0 (1).txt\n",
      "Lendo o arquivo  ..\\..\\_Corpora\\ANP\\PRH\\20141210-TESEMSC_0 (2).txt\n",
      "Lendo o arquivo  ..\\..\\_Corpora\\ANP\\PRH\\20141210-TESEMSC_0.txt\n",
      "Lendo o arquivo  ..\\..\\_Corpora\\ANP\\PRH\\20141222-TESEDSC_0.txt\n",
      "Lendo o arquivo  ..\\..\\_Corpora\\ANP\\PRH\\20150115-MONOGRAFIA_0.txt\n",
      "Lendo o arquivo  ..\\..\\_Corpora\\ANP\\PRH\\20150121-MONOGRAFIA_0 (1).txt\n",
      "Lendo o arquivo  ..\\..\\_Corpora\\ANP\\PRH\\20150121-MONOGRAFIA_0.txt\n",
      "Lendo o arquivo  ..\\..\\_Corpora\\ANP\\PRH\\20150121-TESEMSC_0 (1).txt\n",
      "Lendo o arquivo  ..\\..\\_Corpora\\ANP\\PRH\\20150121-TESEMSC_0 (2).txt\n",
      "Lendo o arquivo  ..\\..\\_Corpora\\ANP\\PRH\\20150121-TESEMSC_0.txt\n",
      "Lendo o arquivo  ..\\..\\_Corpora\\ANP\\PRH\\20150122-MONOGRAFIA_0 (1).txt\n",
      "Lendo o arquivo  ..\\..\\_Corpora\\ANP\\PRH\\20150122-MONOGRAFIA_0 (2).txt\n",
      "Lendo o arquivo  ..\\..\\_Corpora\\ANP\\PRH\\20150122-MONOGRAFIA_0 (3).txt\n",
      "Lendo o arquivo  ..\\..\\_Corpora\\ANP\\PRH\\20150122-MONOGRAFIA_0 (4).txt\n",
      "Lendo o arquivo  ..\\..\\_Corpora\\ANP\\PRH\\20150122-MONOGRAFIA_0.txt\n",
      "Lendo o arquivo  ..\\..\\_Corpora\\ANP\\PRH\\20150123-MONOGRAFIA_0 (1).txt\n",
      "Lendo o arquivo  ..\\..\\_Corpora\\ANP\\PRH\\20150123-MONOGRAFIA_0.txt\n",
      "Lendo o arquivo  ..\\..\\_Corpora\\ANP\\PRH\\20150126-MONOGRAFIA_0 (1).txt\n",
      "Lendo o arquivo  ..\\..\\_Corpora\\ANP\\PRH\\20150126-MONOGRAFIA_0 (2).txt\n",
      "Lendo o arquivo  ..\\..\\_Corpora\\ANP\\PRH\\20150126-MONOGRAFIA_0 (3).txt\n",
      "Lendo o arquivo  ..\\..\\_Corpora\\ANP\\PRH\\20150126-MONOGRAFIA_0 (4).txt\n",
      "Lendo o arquivo  ..\\..\\_Corpora\\ANP\\PRH\\20150126-MONOGRAFIA_0.txt\n",
      "Lendo o arquivo  ..\\..\\_Corpora\\ANP\\PRH\\20150126-TESEDSC_0.txt\n",
      "Lendo o arquivo  ..\\..\\_Corpora\\ANP\\PRH\\20150127-TESEMSC_1.txt\n",
      "Lendo o arquivo  ..\\..\\_Corpora\\ANP\\PRH\\20150210-TESEDSC_0.txt\n",
      "Lendo o arquivo  ..\\..\\_Corpora\\ANP\\PRH\\20150225-TESEMSC_1.txt\n",
      "Lendo o arquivo  ..\\..\\_Corpora\\ANP\\PRH\\20150226-TESEDSC_0.txt\n",
      "Lendo o arquivo  ..\\..\\_Corpora\\ANP\\PRH\\20150303-TESEDSC_0.txt\n",
      "Lendo o arquivo  ..\\..\\_Corpora\\ANP\\PRH\\20150313-TESEDSC_0.txt\n",
      "Lendo o arquivo  ..\\..\\_Corpora\\ANP\\PRH\\20150325-MONOGRAFIA_0.txt\n",
      "Lendo o arquivo  ..\\..\\_Corpora\\ANP\\PRH\\20150326-MONOGRAFIA_0 (1).txt\n",
      "Lendo o arquivo  ..\\..\\_Corpora\\ANP\\PRH\\20150326-MONOGRAFIA_0 (2).txt\n",
      "Lendo o arquivo  ..\\..\\_Corpora\\ANP\\PRH\\20150326-MONOGRAFIA_0 (3).txt\n",
      "Lendo o arquivo  ..\\..\\_Corpora\\ANP\\PRH\\20150326-MONOGRAFIA_0.txt\n",
      "Lendo o arquivo  ..\\..\\_Corpora\\ANP\\PRH\\20150326-MONOGRAFIA_1.txt\n",
      "Lendo o arquivo  ..\\..\\_Corpora\\ANP\\PRH\\20150331-MONOGRAFIA_0 (1).txt\n",
      "Lendo o arquivo  ..\\..\\_Corpora\\ANP\\PRH\\20150331-MONOGRAFIA_0.txt\n",
      "Lendo o arquivo  ..\\..\\_Corpora\\ANP\\PRH\\20150331-TESEMSC_0.txt\n",
      "Lendo o arquivo  ..\\..\\_Corpora\\ANP\\PRH\\20150401-TESEMSC_0 (1).txt\n",
      "Lendo o arquivo  ..\\..\\_Corpora\\ANP\\PRH\\20150401-TESEMSC_0.txt\n",
      "Lendo o arquivo  ..\\..\\_Corpora\\ANP\\PRH\\20150408-MONOGRAFIA_0.txt\n",
      "Lendo o arquivo  ..\\..\\_Corpora\\ANP\\PRH\\20150409-MONOGRAFIA_0 (1).txt\n",
      "Lendo o arquivo  ..\\..\\_Corpora\\ANP\\PRH\\20150409-MONOGRAFIA_0.txt\n",
      "Lendo o arquivo  ..\\..\\_Corpora\\ANP\\PRH\\20150409-TESEMSC_0 (1).txt\n",
      "Lendo o arquivo  ..\\..\\_Corpora\\ANP\\PRH\\20150409-TESEMSC_0 (2).txt\n",
      "Lendo o arquivo  ..\\..\\_Corpora\\ANP\\PRH\\20150409-TESEMSC_0.txt\n",
      "Lendo o arquivo  ..\\..\\_Corpora\\ANP\\PRH\\20150410-TESEMSC_0.txt\n",
      "Lendo o arquivo  ..\\..\\_Corpora\\ANP\\PRH\\20150413-MONOGRAFIA_0 (1).txt\n",
      "Lendo o arquivo  ..\\..\\_Corpora\\ANP\\PRH\\20150413-MONOGRAFIA_0 (2).txt\n",
      "Lendo o arquivo  ..\\..\\_Corpora\\ANP\\PRH\\20150413-MONOGRAFIA_0 (3).txt\n",
      "Lendo o arquivo  ..\\..\\_Corpora\\ANP\\PRH\\20150413-MONOGRAFIA_0 (4).txt\n",
      "Lendo o arquivo  ..\\..\\_Corpora\\ANP\\PRH\\20150413-MONOGRAFIA_0.txt\n",
      "Lendo o arquivo  ..\\..\\_Corpora\\ANP\\PRH\\20150430-MONOGRAFIA_0 (1).txt\n",
      "Lendo o arquivo  ..\\..\\_Corpora\\ANP\\PRH\\20150430-MONOGRAFIA_0 (2).txt\n",
      "Lendo o arquivo  ..\\..\\_Corpora\\ANP\\PRH\\20150430-MONOGRAFIA_0.txt\n",
      "Lendo o arquivo  ..\\..\\_Corpora\\ANP\\PRH\\20150504-TESEMSC_0.txt\n",
      "Lendo o arquivo  ..\\..\\_Corpora\\ANP\\PRH\\20150505-MONOGRAFIA_0.txt\n",
      "Lendo o arquivo  ..\\..\\_Corpora\\ANP\\PRH\\20150506-MONOGRAFIA_0.txt\n",
      "Lendo o arquivo  ..\\..\\_Corpora\\ANP\\PRH\\20150507-TESEDSC_0.txt\n",
      "Lendo o arquivo  ..\\..\\_Corpora\\ANP\\PRH\\20150521-TESEMSC_1.txt\n",
      "Lendo o arquivo  ..\\..\\_Corpora\\ANP\\PRH\\20150811-TESEMSC_0 (1).txt\n",
      "Lendo o arquivo  ..\\..\\_Corpora\\ANP\\PRH\\20150811-TESEMSC_0.txt\n",
      "Lendo o arquivo  ..\\..\\_Corpora\\ANP\\PRH\\20150812-TESEMSC_0.txt\n",
      "Lendo o arquivo  ..\\..\\_Corpora\\ANP\\PRH\\20150819-MONOGRAFIA_0.txt\n",
      "Lendo o arquivo  ..\\..\\_Corpora\\ANP\\PRH\\20150827-MONOGRAFIA_0 (1).txt\n",
      "Lendo o arquivo  ..\\..\\_Corpora\\ANP\\PRH\\20150827-MONOGRAFIA_0 (2).txt\n",
      "Lendo o arquivo  ..\\..\\_Corpora\\ANP\\PRH\\20150827-MONOGRAFIA_0.txt\n",
      "Lendo o arquivo  ..\\..\\_Corpora\\ANP\\PRH\\20150902-MONOGRAFIA_0.txt\n",
      "Lendo o arquivo  ..\\..\\_Corpora\\ANP\\PRH\\20150902-TESEMSC_0 (1).txt\n",
      "Lendo o arquivo  ..\\..\\_Corpora\\ANP\\PRH\\20150902-TESEMSC_0.txt\n",
      "Lendo o arquivo  ..\\..\\_Corpora\\ANP\\PRH\\20150903-TESEMSC_0.txt\n",
      "Lendo o arquivo  ..\\..\\_Corpora\\ANP\\PRH\\20150904-TESEMSC_0.txt\n",
      "Lendo o arquivo  ..\\..\\_Corpora\\ANP\\PRH\\20150909-MONOGRAFIA_0.txt\n",
      "Lendo o arquivo  ..\\..\\_Corpora\\ANP\\PRH\\20150909-TESEMSC_0.txt\n",
      "Lendo o arquivo  ..\\..\\_Corpora\\ANP\\PRH\\20150911-MONOGRAFIA_0.txt\n",
      "Lendo o arquivo  ..\\..\\_Corpora\\ANP\\PRH\\20150914-MONOGRAFIA_0.txt\n",
      "Lendo o arquivo  ..\\..\\_Corpora\\ANP\\PRH\\20150914-TESEMSC_0.txt\n",
      "Lendo o arquivo  ..\\..\\_Corpora\\ANP\\PRH\\20150917-MONOGRAFIA_0 (1).txt\n",
      "Lendo o arquivo  ..\\..\\_Corpora\\ANP\\PRH\\20150917-MONOGRAFIA_0 (2).txt\n",
      "Lendo o arquivo  ..\\..\\_Corpora\\ANP\\PRH\\20150917-MONOGRAFIA_0.txt\n",
      "Lendo o arquivo  ..\\..\\_Corpora\\ANP\\PRH\\20150917-TESEMSC_0 (1).txt\n",
      "Lendo o arquivo  ..\\..\\_Corpora\\ANP\\PRH\\20150917-TESEMSC_0 (2).txt\n",
      "Lendo o arquivo  ..\\..\\_Corpora\\ANP\\PRH\\20150917-TESEMSC_0.txt\n",
      "Lendo o arquivo  ..\\..\\_Corpora\\ANP\\PRH\\20150918-MONOGRAFIA_1 (1).txt\n",
      "Lendo o arquivo  ..\\..\\_Corpora\\ANP\\PRH\\20150918-MONOGRAFIA_1.txt\n",
      "Lendo o arquivo  ..\\..\\_Corpora\\ANP\\PRH\\20150922-TESEMSC_0 (1).txt\n",
      "Lendo o arquivo  ..\\..\\_Corpora\\ANP\\PRH\\20150922-TESEMSC_0.txt\n",
      "Lendo o arquivo  ..\\..\\_Corpora\\ANP\\PRH\\20150923-TESEMSC_0.txt\n",
      "Lendo o arquivo  ..\\..\\_Corpora\\ANP\\PRH\\20151112-TESEDSC_0 (1).txt\n",
      "Lendo o arquivo  ..\\..\\_Corpora\\ANP\\PRH\\20151112-TESEDSC_0.txt\n",
      "Lendo o arquivo  ..\\..\\_Corpora\\ANP\\PRH\\20151203-TESEDSC_0.txt\n",
      "Lendo o arquivo  ..\\..\\_Corpora\\ANP\\PRH\\20151204-TESEMSC_0.txt\n",
      "Lendo o arquivo  ..\\..\\_Corpora\\ANP\\PRH\\20151209-TESEDSC_0.txt\n",
      "Lendo o arquivo  ..\\..\\_Corpora\\ANP\\PRH\\20151214-TESEMSC_0.txt\n",
      "Lendo o arquivo  ..\\..\\_Corpora\\ANP\\PRH\\20151215-MONOGRAFIA_0 (1).txt\n",
      "Lendo o arquivo  ..\\..\\_Corpora\\ANP\\PRH\\20151215-MONOGRAFIA_0 (2).txt\n",
      "Lendo o arquivo  ..\\..\\_Corpora\\ANP\\PRH\\20151215-MONOGRAFIA_0 (3).txt\n",
      "Lendo o arquivo  ..\\..\\_Corpora\\ANP\\PRH\\20151215-MONOGRAFIA_0 (4).txt\n",
      "Lendo o arquivo  ..\\..\\_Corpora\\ANP\\PRH\\20151215-MONOGRAFIA_0 (5).txt\n",
      "Lendo o arquivo  ..\\..\\_Corpora\\ANP\\PRH\\20151215-MONOGRAFIA_0.txt\n",
      "Lendo o arquivo  ..\\..\\_Corpora\\ANP\\PRH\\20151222-TESEMSC_0 (1).txt\n",
      "Lendo o arquivo  ..\\..\\_Corpora\\ANP\\PRH\\20151222-TESEMSC_0.txt\n",
      "Lendo o arquivo  ..\\..\\_Corpora\\ANP\\PRH\\20160229-MONOGRAFIA_0.txt\n",
      "Lendo o arquivo  ..\\..\\_Corpora\\ANP\\PRH\\20160602-MONOGRAFIA_0 (1).txt\n",
      "Lendo o arquivo  ..\\..\\_Corpora\\ANP\\PRH\\20160602-MONOGRAFIA_0 (2).txt\n",
      "Lendo o arquivo  ..\\..\\_Corpora\\ANP\\PRH\\20160602-MONOGRAFIA_0 (3).txt\n",
      "Lendo o arquivo  ..\\..\\_Corpora\\ANP\\PRH\\20160602-MONOGRAFIA_0 (4).txt\n",
      "Lendo o arquivo  ..\\..\\_Corpora\\ANP\\PRH\\20160602-MONOGRAFIA_0 (5).txt\n",
      "Lendo o arquivo  ..\\..\\_Corpora\\ANP\\PRH\\20160602-MONOGRAFIA_0 (6).txt\n",
      "Lendo o arquivo  ..\\..\\_Corpora\\ANP\\PRH\\20160602-MONOGRAFIA_0 (7).txt\n",
      "Lendo o arquivo  ..\\..\\_Corpora\\ANP\\PRH\\20160602-MONOGRAFIA_0 (8).txt\n",
      "Lendo o arquivo  ..\\..\\_Corpora\\ANP\\PRH\\20160602-MONOGRAFIA_0.txt\n",
      "Lendo o arquivo  ..\\..\\_Corpora\\ANP\\PRH\\20160602-TESEDSC_0.txt\n",
      "Lendo o arquivo  ..\\..\\_Corpora\\ANP\\PRH\\20160602-TESEMSC_0 (1).txt\n",
      "Lendo o arquivo  ..\\..\\_Corpora\\ANP\\PRH\\20160602-TESEMSC_0 (2).txt\n",
      "Lendo o arquivo  ..\\..\\_Corpora\\ANP\\PRH\\20160602-TESEMSC_0.txt\n",
      "Lendo o arquivo  ..\\..\\_Corpora\\ANP\\PRH\\20160606-TESEMSC_0.txt\n",
      "Lendo o arquivo  ..\\..\\_Corpora\\ANP\\PRH\\20160608-TESEMSC_0.txt\n",
      "Lendo o arquivo  ..\\..\\_Corpora\\ANP\\PRH\\20160614-MONOGRAFIA_0 (1).txt\n",
      "Lendo o arquivo  ..\\..\\_Corpora\\ANP\\PRH\\20160614-MONOGRAFIA_0 (2).txt\n",
      "Lendo o arquivo  ..\\..\\_Corpora\\ANP\\PRH\\20160614-MONOGRAFIA_0.txt\n",
      "Lendo o arquivo  ..\\..\\_Corpora\\ANP\\PRH\\20160614-TESEDSC_0.txt\n",
      "Lendo o arquivo  ..\\..\\_Corpora\\ANP\\PRH\\20160623-TESEDSC_0 (1).txt\n",
      "Lendo o arquivo  ..\\..\\_Corpora\\ANP\\PRH\\20160623-TESEDSC_0.txt\n",
      "Lendo o arquivo  ..\\..\\_Corpora\\ANP\\PRH\\20160623-TESEMSC_0.txt\n",
      "Lendo o arquivo  ..\\..\\_Corpora\\ANP\\PRH\\20160628-TESEMSC_1.txt\n",
      "Lendo o arquivo  ..\\..\\_Corpora\\ANP\\PRH\\20160701-TESEMSC_0.txt\n",
      "Lendo o arquivo  ..\\..\\_Corpora\\ANP\\PRH\\20160704-MONOGRAFIA_0.txt\n"
     ]
    },
    {
     "name": "stdout",
     "output_type": "stream",
     "text": [
      "Lendo o arquivo  ..\\..\\_Corpora\\ANP\\PRH\\20160713-MONOGRAFIA_0.txt\n",
      "Lendo o arquivo  ..\\..\\_Corpora\\ANP\\PRH\\20160721-MONOGRAFIA_0 (1).txt\n",
      "Lendo o arquivo  ..\\..\\_Corpora\\ANP\\PRH\\20160721-MONOGRAFIA_0 (2).txt\n",
      "Lendo o arquivo  ..\\..\\_Corpora\\ANP\\PRH\\20160721-MONOGRAFIA_0 (3).txt\n",
      "Lendo o arquivo  ..\\..\\_Corpora\\ANP\\PRH\\20160721-MONOGRAFIA_0.txt\n",
      "Lendo o arquivo  ..\\..\\_Corpora\\ANP\\PRH\\20160722-MONOGRAFIA_0 (1).txt\n",
      "Lendo o arquivo  ..\\..\\_Corpora\\ANP\\PRH\\20160722-MONOGRAFIA_0 (2).txt\n",
      "Lendo o arquivo  ..\\..\\_Corpora\\ANP\\PRH\\20160722-MONOGRAFIA_0 (3).txt\n",
      "Lendo o arquivo  ..\\..\\_Corpora\\ANP\\PRH\\20160722-MONOGRAFIA_0.txt\n",
      "Lendo o arquivo  ..\\..\\_Corpora\\ANP\\PRH\\20160725-MONOGRAFIA_0 (1).txt\n",
      "Lendo o arquivo  ..\\..\\_Corpora\\ANP\\PRH\\20160725-MONOGRAFIA_0 (2).txt\n",
      "Lendo o arquivo  ..\\..\\_Corpora\\ANP\\PRH\\20160725-MONOGRAFIA_0 (3).txt\n",
      "Lendo o arquivo  ..\\..\\_Corpora\\ANP\\PRH\\20160725-MONOGRAFIA_0 (4).txt\n",
      "Lendo o arquivo  ..\\..\\_Corpora\\ANP\\PRH\\20160725-MONOGRAFIA_0 (5).txt\n",
      "Lendo o arquivo  ..\\..\\_Corpora\\ANP\\PRH\\20160725-MONOGRAFIA_0 (6).txt\n",
      "Lendo o arquivo  ..\\..\\_Corpora\\ANP\\PRH\\20160725-MONOGRAFIA_0 (7).txt\n",
      "Lendo o arquivo  ..\\..\\_Corpora\\ANP\\PRH\\20160725-MONOGRAFIA_0.txt\n",
      "Lendo o arquivo  ..\\..\\_Corpora\\ANP\\PRH\\20160808-TESEDSC_0.txt\n",
      "Lendo o arquivo  ..\\..\\_Corpora\\ANP\\PRH\\20160809-TESEMSC_0.txt\n",
      "Lendo o arquivo  ..\\..\\_Corpora\\ANP\\PRH\\20160914-MONOGRAFIA_0 (1).txt\n",
      "Lendo o arquivo  ..\\..\\_Corpora\\ANP\\PRH\\20160914-MONOGRAFIA_0 (2).txt\n",
      "Lendo o arquivo  ..\\..\\_Corpora\\ANP\\PRH\\20160914-MONOGRAFIA_0.txt\n",
      "Lendo o arquivo  ..\\..\\_Corpora\\ANP\\PRH\\20160914-TESEMSC_0 (1).txt\n",
      "Lendo o arquivo  ..\\..\\_Corpora\\ANP\\PRH\\20160914-TESEMSC_0.txt\n",
      "Lendo o arquivo  ..\\..\\_Corpora\\ANP\\PRH\\20160915-MONOGRAFIA_1.txt\n",
      "Lendo o arquivo  ..\\..\\_Corpora\\ANP\\PRH\\20160920-MONOGRAFIA_0.txt\n",
      "Lendo o arquivo  ..\\..\\_Corpora\\ANP\\PRH\\20160921-TESEMSC_0.txt\n",
      "Lendo o arquivo  ..\\..\\_Corpora\\ANP\\PRH\\20160923-TESEMSC_0.txt\n",
      "Lendo o arquivo  ..\\..\\_Corpora\\ANP\\PRH\\20160926-TESEMSC_0.txt\n",
      "Lendo o arquivo  ..\\..\\_Corpora\\ANP\\PRH\\20160928-MONOGRAFIA_0.txt\n",
      "Tempo total decorrido:  0:00:01.568157\n"
     ]
    }
   ],
   "source": [
    "momentoInicial = datetime.datetime.now()\n",
    "\n",
    "pastaArquivosCorpus = Path(pastaentrada).glob(extensao)\n",
    "\n",
    "for path in pastaArquivosCorpus:\n",
    "    path_arquivo = str(path) # because path is object not string\n",
    "    print(\"Lendo o arquivo \", path_arquivo)\n",
    "    \n",
    "    texto = ''\n",
    "    with open(path_arquivo, 'r', encoding=\"UTF-8\") as f:\n",
    "        texto = f.read()\n",
    "    \n",
    "    with open(arquivoSaida, 'a', encoding='utf8') as fp:\n",
    "        fp.write('%s' % texto)\n",
    "        \n",
    "momentoFinal = datetime.datetime.now()\n",
    "print(\"Tempo total decorrido: \", momentoFinal - momentoInicial)"
   ]
  },
  {
   "cell_type": "code",
   "execution_count": 5,
   "metadata": {
    "collapsed": true
   },
   "outputs": [],
   "source": [
    "def leTextoDeArquivo(arquivoEntrada):\n",
    "    with open(arquivoEntrada, 'r', encoding=\"UTF-8\") as f:\n",
    "        texto = f.read()\n",
    "        \n",
    "    #print(texto[:200])\n",
    "    return texto"
   ]
  },
  {
   "cell_type": "code",
   "execution_count": 28,
   "metadata": {
    "collapsed": true
   },
   "outputs": [],
   "source": [
    "def gravaArquivo(fileName, texto):\n",
    "    with open(fileName, 'w', encoding='utf8') as fp:\n",
    "        fp.write('%s\\n' % texto)"
   ]
  },
  {
   "cell_type": "code",
   "execution_count": 7,
   "metadata": {
    "collapsed": true
   },
   "outputs": [],
   "source": [
    "def imprime_info_corpus(texto, plot=False):\n",
    "    word_counts = Counter()\n",
    "    tokens_totais = 0\n",
    "    # Tokenize and remove short and malformed sentences.\n",
    "    for sent in texto.split():\n",
    "        #print(sent)\n",
    "        tokens_totais += sent.count(' ') + 1\n",
    "        word_counts[sent] += 1\n",
    "        \n",
    "    print('Total de tokens analisados: ', \"{:,}\".format(tokens_totais))\n",
    "    print('Tamanho do Vocabulário: ', \"{:,}\".format(len(word_counts)))\n",
    "    print(\"\\n\")\n",
    "    print(word_counts.most_common(300))\n",
    "    \n",
    "    most_common = []\n",
    "    for common_word in word_counts.most_common(1000):\n",
    "        most_common.append(common_word[1])\n",
    "\n",
    "    if plot:\n",
    "        hist, edges = np.histogram(most_common, density=True, bins=100, normed=True)\n",
    "\n",
    "        p = figure(tools=\"pan,wheel_zoom,reset,save\",\n",
    "                   toolbar_location=\"above\",\n",
    "                   title=\"Top-1000 words distribution\")\n",
    "        p.quad(top=hist, bottom=0, left=edges[:-1], right=edges[1:], line_color=\"#555555\")\n",
    "        show(p)  "
   ]
  },
  {
   "cell_type": "code",
   "execution_count": 8,
   "metadata": {
    "collapsed": true
   },
   "outputs": [],
   "source": [
    "texto = leTextoDeArquivo(arquivoSaida)"
   ]
  },
  {
   "cell_type": "code",
   "execution_count": 9,
   "metadata": {},
   "outputs": [
    {
     "name": "stdout",
     "output_type": "stream",
     "text": [
      "Total de tokens analisados:  6,288,925\n",
      "Tamanho do Vocabulário:  394,771\n",
      "\n",
      "\n",
      "[('de', 363065), ('a', 147436), ('e', 138604), ('do', 97383), ('o', 90559), ('da', 84658), ('em', 61518), ('que', 60135), ('para', 58060), ('.', 49795), ('com', 45964), ('na', 39971), ('é', 39012), ('os', 34201), ('um', 32211), ('no', 31798), ('uma', 31304), ('dos', 29916), ('as', 28688), ('A', 27290), ('por', 26526), ('Figura', 25591), ('das', 21995), ('como', 21389), ('-', 21006), ('–', 19970), ('ao', 17966), ('0', 17567), ('of', 17330), ('O', 17236), ('foi', 16602), ('são', 15787), ('se', 15649), ('à', 15169), ('ser', 15138), ('=', 14823), ('mais', 13185), ('não', 13057), ('1', 13029), ('ou', 12797), ('and', 12323), ('et', 11933), ('the', 11765), ('entre', 11451), ('foram', 10487), ('Tabela', 10108), ('pela', 9698), ('2', 9514), ('Os', 8674), ('pode', 8378), ('óleo', 8368), ('pelo', 7949), ('água', 7569), ('processo', 7410), ('3', 7188), ('nas', 7183), ('produção', 7140), ('modelo', 7061), ('in', 6953), ('+', 6947), ('maior', 6840), ('nos', 6812), ('4', 6780), (',', 6777), ('dados', 6764), ('sua', 6396), ('sistema', 6291), ('DE', 6226), ('As', 6209), ('também', 6132), ('al.,', 6080), ('cada', 5991), ('5', 5894), ('temperatura', 5771), ('resultados', 5769), ('Para', 5658), ('partir', 5376), ('valores', 5335), ('forma', 5205), ('tempo', 5140), ('sendo', 4939), ('através', 4836), ('sobre', 4836), ('p.', 4782), ('al.', 4757), ('for', 4740), ('onde', 4726), ('E', 4700), ('podem', 4667), ('valor', 4537), ('análise', 4528), ('6', 4488), ('Rio', 4431), ('(', 4364), ('meio', 4363), (')', 4354), ('pressão', 4304), ('relação', 4287), ('gás', 4231), ('quando', 4225), ('0,0000', 4172), ('&', 4144), ('to', 4080), ('diferentes', 4076), ('até', 4039), ('concentração', 4016), ('No', 4005), ('aos', 3963), ('função', 3962), ('energia', 3856), ('método', 3812), ('\\uf0b7', 3800), ('região', 3781), ('tem', 3731), ('Em', 3729), ('8', 3724), ('fase', 3721), ('10', 3707), ('trabalho', 3665), ('devido', 3659), ('formação', 3621), ('7', 3606), ('aumento', 3588), ('caso', 3511), ('m', 3498), ('durante', 3462), ('área', 3395), ('apresenta', 3382), ('tipo', 3370), ('está', 3362), ('Fonte:', 3353), ('obtidos', 3260), ('condições', 3259), ('possível', 3241), ('A.', 3221), ('amostras', 3215), ('d', 3179), ('Na', 3176), ('este', 3170), ('petróleo', 3168), ('v.', 3168), ('mesmo', 3151), ('muito', 3140), ('seu', 3118), ('grande', 3101), ('20', 3059), ('massa', 3059), ('estudo', 3049), ('quantidade', 3047), ('base', 3046), ('9', 3035), ('i', 3005), ('parâmetros', 3001), ('C.', 2986), ('às', 2953), ('solução', 2948), ('J.', 2947), ('%', 2937), ('estão', 2932), ('30', 2932), ('acordo', 2929), ('modelos', 2921), ('processos', 2888), ('parte', 2829), ('volume', 2827), ('biodiesel', 2819), ('dois', 2818), ('M.', 2818), ('uso', 2811), ('utilizado', 2786), ('comportamento', 2778), ('reação', 2775), ('velocidade', 2763), ('menor', 2756), ('qual', 2728), ('número', 2716), ('50', 2685), ('r', 2667), ('presença', 2663), ('t', 2648), ('fluido', 2641), ('já', 2624), ('deste', 2622), ('após', 2622), ('apenas', 2581), ('/', 2567), ('utilizados', 2555), ('ácido', 2525), ('x', 2520), ('−', 2520), ('São', 2507), ('duas', 2503), ('total', 2468), ('The', 2465), ('todos', 2451), ('pois', 2432), ('taxa', 2422), ('longo', 2412), ('sem', 2398), ('utilizando', 2394), ('s', 2394), ('bem', 2385), ('material', 2373), ('100', 2356), ('equação', 2354), ('Por', 2349), ('mistura', 2334), ('controle', 2323), ('ainda', 2322), ('três', 2293), ('propriedades', 2283), ('sistemas', 2282), ('quanto', 2274), ('Com', 2268), ('superfície', 2268), ('e,', 2251), ('ponto', 2232), ('Universidade', 2223), ('amostra', 2218), ('partículas', 2215), ('conforme', 2208), ('n', 2200), ('Além', 2197), ('desenvolvimento', 2179), ('tensão', 2179), ('Como', 2176), ('mostra', 2172), ('outros', 2167), ('presente', 2164), ('principais', 2150), ('vez', 2150), ('esta', 2149), ('Este', 2125), ('redução', 2125), ('R.', 2114), ('15', 2083), ('estrutura', 2079), ('Engenharia', 2059), ('De', 2055), ('neste', 2055), ('C', 2035), ('assim', 2029), ('40', 2029), ('utilização', 2025), ('características', 2023), ('esse', 2011), ('p', 2009), ('compostos', 2006), ('suas', 2004), ('S.', 1997), ('25', 1995), ('fluidos', 1990), ('será', 1987), ('além', 1985), ('alta', 1968), ('utilizada', 1965), ('tratamento', 1957), ('mas', 1945), ('seja,', 1943), ('capacidade', 1942), ('Capítulo', 1942), ('deve', 1940), ('on', 1938), ('ocorre', 1938), ('Equação', 1938), ('(Figura', 1936), ('variação', 1927), ('(a)', 1926), ('escoamento', 1922), ('objetivo', 1914), ('há', 1873), ('disso,', 1870), ('mesma', 1864), ('variáveis', 1859), ('produtos', 1858), ('efeito', 1853), ('by', 1844), ('que,', 1839), ('métodos', 1822), ('em:', 1819), ('(b)', 1816), ('etapa', 1811), ('pelos', 1807), ('with', 1800), ('média', 1797), ('vazão', 1795), ('segundo', 1792), ('melhor', 1788), ('±', 1788), ('essa', 1783), ('12', 1780), ('•', 1777), ('Bacia', 1775), ('Análise', 1767), ('elementos', 1760), ('60', 1756), ('distribuição', 1743), ('seus', 1742), ('atividade', 1735), ('campo', 1731)]\n"
     ]
    }
   ],
   "source": [
    "imprime_info_corpus(texto)"
   ]
  },
  {
   "cell_type": "markdown",
   "metadata": {},
   "source": [
    "## Eliminando caracteres acentuados\n",
    "\n",
    "Observou-se a ocorrência de muitas palavras com divergência de acentuação (a mesma palavra ocorria escrita com e sem acentos). O agrupamento ajudou a identificar corretamente a grafia de uma mesma palavra."
   ]
  },
  {
   "cell_type": "code",
   "execution_count": 10,
   "metadata": {},
   "outputs": [],
   "source": [
    "texto = str(texto.lower())\n",
    "import unicodedata\n",
    "nfkd_form = unicodedata.normalize('NFKD', texto)\n",
    "texto= u\"\".join([c for c in nfkd_form if not unicodedata.combining(c)])\n",
    "#print(\"\\nDepois: \", texto[15000:17000])"
   ]
  },
  {
   "cell_type": "code",
   "execution_count": 11,
   "metadata": {},
   "outputs": [
    {
     "name": "stdout",
     "output_type": "stream",
     "text": [
      "Total de tokens analisados:  6,317,461\n",
      "Tamanho do Vocabulário:  349,848\n",
      "\n",
      "\n",
      "[('de', 371412), ('a', 192257), ('e', 185822), ('o', 108194), ('do', 99101), ('da', 86661), ('em', 66355), ('para', 64422), ('que', 60195), ('.', 49797), ('com', 48485), ('na', 43455), ('os', 43109), ('as', 38150), ('no', 36757), ('um', 33525), ('uma', 32907), ('dos', 30594), ('por', 29204), ('figura', 27838), ('ao', 27835), ('como', 23660), ('das', 22281), ('-', 21006), ('–', 19970), ('sao', 18468), ('0', 17567), ('of', 17546), ('foi', 17351), ('se', 16568), ('ser', 15310), ('=', 14864), ('the', 14278), ('nao', 13750), ('mais', 13355), ('1', 13088), ('ou', 13047), ('and', 12541), ('et', 12026), ('entre', 11887), ('foram', 11195), ('tabela', 11151), ('c', 10446), ('pela', 9843), ('oleo', 9597), ('2', 9584), ('agua', 8888), ('modelo', 8618), ('pode', 8576), ('producao', 8206), ('pelo', 8062), ('processo', 7975), ('resultados', 7965), ('dados', 7722), ('nas', 7707), ('nos', 7673), ('in', 7450), ('sistema', 7293), ('3', 7285), ('esta', 7064), ('+', 6963), ('temperatura', 6952), ('maior', 6942), (',', 6788), ('4', 6782), ('sua', 6679), ('tambem', 6612), ('analise', 6603), ('gas', 6560), ('p.', 6435), ('tempo', 6415), ('cada', 6345), ('al.,', 6095), ('m', 5955), ('5', 5895), ('valores', 5883), ('sendo', 5608), ('partir', 5432), ('forma', 5355), ('atraves', 5352), ('pressao', 5351), ('este', 5301), ('quando', 5106), ('onde', 5031), ('sobre', 5000), ('for', 4966), ('meio', 4888), ('tem', 4881), ('valor', 4863), ('rio', 4806), ('al.', 4788), ('podem', 4745), ('d', 4721), ('formacao', 4703), ('aos', 4620), ('relacao', 4565), ('caso', 4542), ('s', 4540), ('petroleo', 4533), ('concentracao', 4524), ('n', 4513), ('6', 4488), ('metodo', 4443), ('i', 4441), ('energia', 4426), ('area', 4398), ('grande', 4397), ('(', 4396), ('t', 4392), (')', 4361), ('equacao', 4347), ('trabalho', 4330), ('diferentes', 4230), ('to', 4227), ('devido', 4197), ('alem', 4191), ('regiao', 4183), ('0,0000', 4172), ('funcao', 4168), ('ate', 4152), ('&', 4144), ('v.', 4068), ('fase', 3977), ('massa', 3929), ('estudo', 3923), ('durante', 3840), ('apos', 3821), ('ja', 3819), ('parametros', 3808), ('x', 3804), ('\\uf0b7', 3800), ('p', 3784), ('r', 3780), ('neste', 3757), ('8', 3724), ('biodiesel', 3713), ('10', 3707), ('aumento', 3688), ('tipo', 3631), ('condicoes', 3626), ('7', 3610), ('fonte:', 3541), ('volume', 3469), ('apresenta', 3447), ('amostras', 3422), ('capitulo', 3374), ('segundo', 3335), ('obtidos', 3316), ('muito', 3311), ('esse', 3311), ('base', 3305), ('mesmo', 3296), ('a.', 3284), ('velocidade', 3273), ('possivel', 3266), ('quantidade', 3264), ('seu', 3262), ('modelos', 3259), ('processos', 3255), ('total', 3248), ('numero', 3248), ('solucao', 3200), ('e,', 3088), ('vazao', 3085), ('comportamento', 3075), ('20', 3063), ('reacao', 3058), ('acido', 3053), ('uso', 3050), ('m.', 3039), ('9', 3036), ('c.', 3026), ('fluido', 2986), ('parte', 2980), ('j.', 2975), ('estao', 2960), ('acordo', 2946), ('essa', 2937), ('%', 2937), ('30', 2934), ('dois', 2928), ('propriedades', 2870), ('menor', 2847), ('tensao', 2827), ('utilizado', 2812), ('controle', 2774), ('qual', 2767), ('todos', 2742), ('sistemas', 2737), ('quanto', 2735), ('deste', 2729), ('taxa', 2729), ('presenca', 2715), ('desenvolvimento', 2712), ('engenharia', 2689), ('50', 2685), ('ponto', 2683), ('apenas', 2651), ('conforme', 2650), ('utilizando', 2648), ('utilizados', 2635), ('ainda', 2632), ('material', 2629), ('sem', 2582), ('assim,', 2580), ('/', 2567), ('duas', 2562), ('programa', 2553), ('amostra', 2544), ('universidade', 2540), ('−', 2524), ('mistura', 2493), ('superficie', 2484), ('estrutura', 2480), ('longo', 2474), ('assim', 2471), ('pois', 2454), ('tres', 2449), ('l', 2445), ('metodos', 2433), ('principais', 2419), ('bem', 2401), ('efeito', 2385), ('variacao', 2385), ('outros', 2378), ('f', 2362), ('100', 2356), ('bacia', 2339), ('tratamento', 2338), ('media', 2335), ('caracteristicas', 2334), ('particulas', 2301), ('fluidos', 2294), ('reducao', 2283), ('b', 2266), ('nivel', 2265), ('v', 2264), ('(figura', 2232), ('simulacao', 2227), ('(a)', 2223), ('presente', 2218), ('projeto', 2201), ('alta', 2195), ('estado', 2186), ('ha', 2184), ('mostra', 2181), ('objetivo', 2168), ('utilizacao', 2167), ('materiais', 2160), ('compostos', 2159), ('vez', 2150), ('etanol', 2150), ('capacidade', 2137), ('g', 2136), ('campo', 2134), ('mas', 2133), ('escoamento', 2126), ('oes', 2126), ('r.', 2125), ('n.', 2108), ('distribuicao', 2102), ('suas', 2095), ('desta', 2093), ('quimica', 2090), ('on', 2085), ('15', 2085), ('natural', 2074), ('(b)', 2072), ('elementos', 2070), ('s.', 2058), ('influencia', 2055), ('razao', 2043), ('diesel', 2033), ('40', 2030), ('sera', 2024), ('produtos', 2020), ('fator', 2014), ('inicial', 2012), ('fracao', 2004), ('recuperacao', 2001), ('variaveis', 1996), ('25', 1995), ('utilizada', 1986), ('deve', 1984), ('ocorre', 1982), ('industria', 1970), ('comparacao', 1968), ('etapa', 1964), ('fluxo', 1958), ('seja,', 1945), ('obtencao', 1943), ('isso', 1941), ('composicao', 1940), ('estes', 1922), ('aplicacao', 1921), ('u', 1920), ('dessa', 1904), ('custo', 1901), ('federal', 1900), ('atividade', 1887)]\n"
     ]
    }
   ],
   "source": [
    "imprime_info_corpus(texto)"
   ]
  },
  {
   "cell_type": "code",
   "execution_count": 12,
   "metadata": {
    "collapsed": true
   },
   "outputs": [],
   "source": [
    "#texto_sem_pontuacao = texto_sem_acentos.replace('[\"#%\\'()*+,-/:;<=>?@\\[\\]^_`{|}~1234567890’”“′‘\\\\\\]', ' ')\n",
    "\n",
    "# primeiro, adicionando espaços aos caracteres de pontuacao\n",
    "import re\n",
    "texto = re.sub('([.,!?()/])', r' \\1 ', texto)\n",
    "texto = re.sub('\\s{2,}', ' ', texto)"
   ]
  },
  {
   "cell_type": "code",
   "execution_count": 13,
   "metadata": {
    "collapsed": true
   },
   "outputs": [],
   "source": [
    "#retirando os caracteres de pontuação e numeros (mantendo apenas os caracteres de ponto, final de sentença)\n",
    "pontuacao = '[\"#%\\'()*+,-/:;<=>?@\\[\\]^_`{|}~1234567890’”“′‘\\\\\\•]'\n",
    "texto = ''.join([c for c in texto if c not in pontuacao])"
   ]
  },
  {
   "cell_type": "code",
   "execution_count": 15,
   "metadata": {},
   "outputs": [
    {
     "name": "stdout",
     "output_type": "stream",
     "text": [
      "Total de tokens analisados:  7,830,071\n",
      "Tamanho do Vocabulário:  123,919\n",
      "\n",
      "\n",
      "[('.', 2048978), ('de', 372036), ('a', 209864), ('e', 196927), ('o', 111715), ('do', 99301), ('da', 86820), ('em', 68859), ('para', 64690), ('que', 62414), ('com', 49679), ('cid', 47116), ('na', 43659), ('os', 43378), ('as', 38455), ('no', 37467), ('um', 33707), ('uma', 33013), ('dos', 30626), ('figura', 30273), ('por', 30101), ('ao', 28635), ('como', 24936), ('das', 22295), ('–', 22267), ('m', 21717), ('c', 21684), ('sao', 19272), ('of', 17563), ('foi', 17440), ('p', 16852), ('se', 16817), ('ser', 15400), ('the', 14356), ('ou', 14165), ('nao', 14105), ('s', 13790), ('mais', 13513), ('al', 12929), ('and', 12616), ('et', 12594), ('oleo', 12088), ('entre', 11982), ('d', 11860), ('v', 11693), ('tabela', 11672), ('agua', 11452), ('b', 11429), ('foram', 11408), ('l', 10850), ('n', 10676), ('pela', 9856), ('r', 9567), ('t', 9510), ('g', 9505), ('modelo', 9415), ('producao', 9248), ('processo', 9120), ('x', 9023), ('h', 8898), ('in', 8797), ('pode', 8672), ('dados', 8598), ('resultados', 8477), ('sistema', 8399), ('i', 8182), ('tempo', 8173), ('temperatura', 8165), ('gas', 8089), ('pelo', 8075), ('j', 8060), ('nos', 7774), ('nas', 7731), ('petroleo', 7295), ('maior', 7289), ('forma', 7160), ('esta', 7137), ('f', 7100), ('analise', 7080), ('tambem', 7041), ('sua', 6684), ('trabalho', 6595), ('cada', 6410), ('pressao', 6132), ('valores', 6027), ('sendo', 5933), ('onde', 5853), ('caso', 5492), ('partir', 5432), ('k', 5431), ('fonte', 5403), ('este', 5380), ('atraves', 5362), ('meio', 5257), ('energia', 5234), ('quando', 5156), ('assim', 5145), ('formacao', 5135), ('biodiesel', 5073), ('valor', 5059), ('sobre', 5013), ('for', 5003), ('area', 4978), ('tem', 4962), ('rio', 4941), ('grande', 4920), ('estudo', 4897), ('equacao', 4859), ('concentracao', 4837), ('&', 4813), ('podem', 4780), ('regiao', 4714), ('metodo', 4659), ('relacao', 4634), ('aos', 4623), ('massa', 4587), ('diferentes', 4564), ('°c', 4436), ('fase', 4305), ('to', 4281), ('funcao', 4261), ('devido', 4244), ('alem', 4217), ('ate', 4208), ('parametros', 4139), ('!', 4110), ('condicoes', 4034), ('co', 3995), ('brasil', 3940), ('apos', 3905), ('ja', 3860), ('durante', 3852), ('volume', 3818), ('amostras', 3818), ('neste', 3815), ('\\uf0b7', 3802), ('aumento', 3743), ('seja', 3732), ('tipo', 3723), ('reacao', 3714), ('total', 3704), ('mesmo', 3662), ('base', 3633), ('solucao', 3608), ('obtidos', 3592), ('capitulo', 3588), ('processos', 3573), ('fluido', 3569), ('velocidade', 3551), ('possivel', 3505), ('apresenta', 3498), ('modelos', 3487), ('segundo', 3437), ('y', 3386), ('muito', 3377), ('−', 3363), ('esse', 3330), ('numero', 3330), ('quantidade', 3322), ('acido', 3272), ('seu', 3263), ('vazao', 3256), ('controle', 3212), ('amostra', 3182), ('material', 3179), ('comportamento', 3168), ('uso', 3157), ('tensao', 3145), ('utilizado', 3130), ('menor', 3128), ('parte', 3115), ('isso', 3094), ('etanol', 3068), ('u', 3063), ('ainda', 3043), ('superficie', 3039), ('dois', 3019), ('quimica', 3010), ('w', 3008), ('estao', 3005), ('propriedades', 2997), ('essa', 2959), ('acordo', 2958), ('mistura', 2931), ('utilizados', 2928), ('ponto', 2915), ('desenvolvimento', 2911), ('sistemas', 2908), ('engenharia', 2881), ('qual', 2873), ('taxa', 2840), ('projeto', 2826), ('outros', 2813), ('todos', 2805), ('deste', 2784), ('mm', 2778), ('estrutura', 2777), ('programa', 2769), ('quanto', 2748), ('natural', 2741), ('media', 2741), ('presenca', 2736), ('diesel', 2729), ('particulas', 2715), ('metodos', 2699), ('apenas', 2697), ('sem', 2689), ('utilizando', 2685), ('conforme', 2681), ('fluidos', 2679), ('ii', 2673), ('pois', 2657), ('bacia', 2641), ('janeiro', 2632), ('simulacao', 2629), ('ambiente', 2625), ('universidade', 2598), ('principais', 2597), ('duas', 2593), ('oc', 2587), ('escoamento', 2562), ('vez', 2553), ('iv', 2539), ('tratamento', 2527), ('variacao', 2524), ('longo', 2505), ('tres', 2494), ('kg', 2493), ('efeito', 2489), ('materiais', 2485), ('caracteristicas', 2479), ('campo', 2457), ('±', 2450), ('combustivel', 2436), ('bem', 2434), ('inicial', 2432), ('liquido', 2418), ('estado', 2401), ('nivel', 2394), ('reducao', 2394), ('min', 2369), ('alta', 2354), ('ha', 2351), ('presente', 2331), ('mg', 2328), ('oes', 2323), ('exemplo', 2317), ('z', 2317), ('produtos', 2297), ('mas', 2288), ('objetivo', 2285), ('compostos', 2285), ('elementos', 2273), ('ml', 2272), ('etapa', 2259), ('recuperacao', 2245), ('variaveis', 2244), ('distribuicao', 2232), ('utilizacao', 2230), ('utilizada', 2220), ('mostra', 2205), ('iii', 2200), ('capacidade', 2192), ('poco', 2169), ('cm', 2165), ('fluxo', 2165), ('custo', 2157), ('on', 2151), ('composicao', 2150), ('razao', 2148), ('desta', 2147), ('industria', 2145), ('influencia', 2109), ('ocorre', 2109), ('pontos', 2108), ('viscosidade', 2106), ('carbono', 2105), ('suas', 2097), ('coluna', 2092), ('fracao', 2090), ('fator', 2086), ('ar', 2084), ('dissertacao', 2081), ('corrente', 2079), ('aplicacao', 2077), ('comparacao', 2077), ('componentes', 2072), ('sera', 2072), ('operacao', 2069), ('final', 2065), ('secao', 2064), ('atividade', 2063), ('calor', 2062), ('catalisador', 2062), ('fim', 2056), ('ensaio', 2056), ('pocos', 2050), ('mesma', 2040), ('reservatorio', 2039), ('respectivamente', 2034)]\n"
     ]
    }
   ],
   "source": [
    "imprime_info_corpus(texto)"
   ]
  },
  {
   "cell_type": "markdown",
   "metadata": {},
   "source": [
    "# retirar caracteres unicos e stopwords\n",
    "\n",
    "### Eliminação de stopwords e palavras incorretas do vocabulário\n",
    "\n",
    "Em estudos anteriores, observou-se a presença preponderante de um conjunto de palavras incorretas no vocabulário mais comum, potencialmente resultantes de incorreções no processo de extração de PDF para texto.\n",
    "Neste trecho, define-se uma lista contendo todas essas palavras incorretas, palavras de um único caractere, e stopwords dos idiomas português, inglês e espanhol. Observou-se que o histograma de distribuição do vocabulário comportou-se melhor após este processamento."
   ]
  },
  {
   "cell_type": "code",
   "execution_count": 16,
   "metadata": {},
   "outputs": [
    {
     "name": "stdout",
     "output_type": "stream",
     "text": [
      "Palavras a serem ignoradas do vocabulario {'estuviésemos', 'terá', 'tinha', 'nossos', 'nuestras', 'tuvieran', 'these', 'hubiese', 'be', 'sem', 'só', 'over', 'sois', 'houverei', 'hadn', 'un', 'mí', 'habrían', \"shan't\", 'tém', 'tenido', 'sus', 'seamos', 'l', 'each', 'nuestro', 'hubieras', 'estuvieses', 'uma', 'eu', 'muy', 'needn', 'tenemos', 'aquelas', 'she', 'les', 'until', 'tiveram', 'we', 'fuerais', 'contra', 'vuestras', 'yourselves', 'esté', 'which', 'your', 'porque', \"you'd\", 'of', 'estando', 'am', 'estarás', 'suyos', 'sea', 'nossa', 'houverem', 'eras', 'teníamos', 'aren', 'was', \"hasn't\", 'habido', 'k', 'ou', 'ti', 'and', 'habrás', 'estados', 'aos', 'for', 'too', 'seas', 'teniendo', 'vosostros', 'aquele', 'houverão', 'tuya', 'estuvisteis', 'quienes', 'houver', 'tenida', 'una', 'estejamos', 'theirs', 'tivéssemos', 'estaréis', 'being', 'donde', 'estuvierais', 'habríais', 'd', 'hubieron', 'estad', 'estuvieseis', 'seja', 'has', 'tivera', 'fuesen', 'habiendo', \"mightn't\", 'having', 'with', 'e', 'did', 'tenían', 'ii', 'hers', 'unos', 'habida', 'estuve', 'hubieran', 'tendrás', 'qual', 'ellas', 'habrán', 'at', 'haven', 'houveríamos', 'le', 'tuvisteis', 'my', 'fue', 'wouldn', 'seremos', 'mas', 'estos', 'muchos', 'just', 'nos', 'isto', 'tivemos', 'ha', 'tenham', 'don', 'them', 'tuvieras', 'habría', 'houveremos', 'sentido', 'aquela', 'his', 'delas', 'g', 'suyas', 'numa', 'or', 'num', 'también', 'off', 'estadas', 'los', 'con', 'how', 'todo', 'suyo', 'teníais', 'eres', 'hei', 'suas', 'algunos', 'tinham', 'himself', 'do', 'this', 'estar', 'durante', 'somos', 'only', 'houveram', 'foram', 'por', 'houverá', 'hubiste', 'estiveram', 'when', 'fora', 'estuviese', 'sentidos', 'elas', 'habré', 'will', 'in', \"you're\", 'pela', 'vuestros', 'w', 'isn', 'ni', 'sobre', 'sean', 'depois', '°', 'éramos', 'foi', 'not', 'fui', 'iii', 'habíais', 'otras', 'estou', 'once', 'desde', 'hubo', 'te', 'same', 'tenía', 'vos', 'tuviesen', 'our', 'habréis', 'some', 'further', 'down', 'fuera', 'ya', 'tínhamos', 'vuestro', 'tuvieses', 'ele', 'fôramos', 'formos', 'wasn', 'tendrán', 'here', 'mi', 'hubiésemos', 'han', 'este', 'hubierais', 'estés', 'seríamos', 'haya', 'their', 'such', 'antes', 'seáis', 'nosotras', \"that'll\", 'teve', 'tuviese', 'j', 'qué', 'estaré', 'tua', 'estivera', 'q', 'estábamos', 'tendríais', 'c', 'não', 'tivessem', 'if', 'estuviste', 'estuvimos', 'him', 'didn', 'hão', 'estivermos', 'lo', 'estaban', 'couldn', 'tengo', 'seréis', 'tu', 'hubiéramos', 'tus', 'tuviera', 'mais', 'muito', 'tivéramos', 'mías', 'estemos', 'nuestra', 'seríais', 'more', 'between', 'vosostras', 'estuvieron', 'tengas', 'se', \"mustn't\", 'hemos', 'habías', 'estéis', 'tem', 'minha', \"wouldn't\", 'del', 'habíamos', 'estaremos', 'they', 'themselves', 'até', 'tuvimos', 's', 'fueron', 'estivéssemos', 'yours', 'tuyos', 'de', \"didn't\", 'are', 'estáis', 'seus', 'cual', 'fuisteis', \"needn't\", 'nada', \"it's\", 'houvéssemos', 'tú', 'da', 'estará', 'eles', 'after', 'tuviésemos', 'estabais', 'pelo', 'other', 'esto', 'hayas', 'sintiendo', 'más', 'on', 'para', 'through', 'serían', 'under', 'that', 'nosso', 'out', 'esses', 'estivemos', 'pero', 'estuvieras', 'tiverem', 'tivermos', 'fueses', 'h', 'estivesse', 'há', 'no', 'tienes', 'houvemos', 'habríamos', 'hubimos', 'na', 'been', 'mía', 'otro', 'tuve', 'tive', 'él', 'is', 'habidas', 'estava', 'hajam', '&', 'quando', 'estaríais', 'estávamos', 'v', 'myself', 'ain', 'to', 'ese', 'tendré', 'fueras', 'tiene', \"isn't\", 'teriam', 'lhe', 'aqueles', 'hay', 'doing', 'hayáis', \"doesn't\", 've', 'so', 'já', 'es', 'her', 'fuimos', 'sou', 'i', 'estén', 'tendremos', 'hajamos', '–', 'than', 'there', 'siente', 'those', 'aquilo', 'tenéis', 'estavam', 'estivéramos', 'teu', 'su', 'fosse', 'forem', 'dele', 'ao', 'houvéramos', 'hayan', 'before', 'against', 'all', \"wasn't\", 'tuas', 'que', 'será', 'houvessem', 'isso', 'esa', 'nosotros', 'estaría', 'hubisteis', 'seu', 'about', 'das', 'dela', 'as', 'hayamos', 'fueran', 'the', 'very', 'estão', 'hubieseis', 'mightn', 't', 'sentida', 'lhes', 'houveria', 'míos', 'ela', 'u', 'tengáis', \"she's\", 'também', 'estaba', 'does', 'seré', 'estoy', 'r', 'herself', 'b', 'both', 'yourself', 'poco', 'n', 'serías', 'esteja', 'houvermos', 'whom', 'algo', 'mucho', 'entre', 'estiverem', 'won', 'ch', 'deles', 'nossas', 'essas', 'fueseis', 'estado', 'ma', 'tendréis', 'eram', 'while', 'estuviera', 'hubiesen', 'essa', 'sejam', 'estuvieran', 'había', 'm', 'o', 'estaríamos', 'temos', '\\x05', 'mis', 'erais', 'seria', 'habidos', 'suya', 'eran', 'algunas', 'tenías', \"hadn't\", 'estuviesen', 'estes', 'fomos', 'soy', 'houveriam', 'll', 'mesmo', 'have', \"shouldn't\", 'serão', 'ella', 'tened', 'tuvo', 'esas', 'tienen', 'weren', \"you've\", 'tuvieron', 'com', 'z', \"couldn't\", 'pelas', 'tenhamos', 'ellos', 'tuyo', 'a', 'serei', 'up', 'quien', 'tengan', 'havemos', 'habrías', 'à', 'sejamos', 'above', 'hubieses', '•', 'pelos', 'it', 'tiver', \"don't\", 'tanto', 'tenho', 'should', 'fuiste', 'al', 'tenidos', 'minhas', 'tendrías', 'cuando', 'esos', 'otros', 'who', 'where', 'la', 'estive', 'me', 'era', 'but', 'hubiera', 'em', 'um', 'tendría', 'tivesse', 'estuviéramos', \"you'll\", 'now', 'doesn', 'estás', 'mío', 'tengamos', 'fôssemos', 're', \"aren't\", 'haja', 'ourselves', 'shouldn', 'habéis', 'tenga', 'às', 'shan', 'from', 'fuéramos', 'can', 'estada', 'habían', 'during', 'el', 'estarán', 'sentid', 'vuestra', 'tuvierais', 'itself', 'meus', 'had', 'tuviste', 'f', 'nem', 'nós', 'ours', 'you', 'sua', 'habremos', 'eso', 'then', 'habrá', 'esse', 'sin', 'estas', 'estamos', 'você', 'again', 'houvesse', 'any', 'its', 'las', \"won't\", 'p', 'few', 'estarías', 'sentidas', 'estejam', 'tuyas', 'houvera', 'teríamos', 'hasta', 'estarían', 'são', 'mustn', 'son', 'terei', 'tendrían', 'están', \"should've\", 'tendrá', 'fuese', 'serán', 'como', 'why', 'tuviéramos', 'serás', 'what', 'seriam', 'tuvieseis', 'y', 'vocês', 'tenha', 'et', \"weren't\", 'esta', 'by', 'tenidas', 'nuestros', 'teria', 'quem', 'sería', 'hube', 'estivessem', 'nor', 'sí', 'esteve', 'into', \"haven't\", 'otra', 'está', 'an', 'most', 'houve', 'en', 'yo', 'meu', 'fossem', 'because', 'todos', 'own', 'dos', 'terão', 'teus', 'ante', 'tendríamos', 'x', 'were', 'estiver', 'estabas', 'uno', 'nas', 'he', 'teremos', 'os', 'fuésemos', 'below', 'hasn', 'estuvo'}\n"
     ]
    }
   ],
   "source": [
    "from nltk.corpus import stopwords # Import the stop word list\n",
    "from string import ascii_lowercase\n",
    "#nltk.download('stopwords')\n",
    "\n",
    "# Mapeando stopwords com NLTK\n",
    "stopwordsPortugues = stopwords.words(\"portuguese\")\n",
    "stopwordsIngles = stopwords.words(\"english\")\n",
    "stopwordsEspanhol = stopwords.words(\"spanish\")\n",
    "caracteres_unicos = [c for c in ascii_lowercase ]\n",
    "\n",
    "# em estudo anterior, obtivemos o conjunto das palavras mais comuns, onde se observam algumas palavras incorretas\n",
    "# resultantes do processo de extração do arquivo PDF. Estas palavras serão incluídas no vocabulário a ser ignorado\n",
    "# no corpus final.\n",
    "# Objetiva-se incrementar esta lista conforme novas palavras são observadas, à medida em que novos arquivos são\n",
    "# acrescentados ao corpus\n",
    "palavrasIncorretasComuns = ['&', 'ch', 'et', 'at', 'ii','iii', '\\x05', '•', '–', '°']\n",
    "\n",
    "# mais rapido buscar set do que list\n",
    "vocabulario_palavras_ignoradas = set(stopwordsPortugues + \n",
    "                                     stopwordsIngles + \n",
    "                                     stopwordsEspanhol + \n",
    "                                     caracteres_unicos + \n",
    "                                     palavrasIncorretasComuns)\n",
    "\n",
    "print(\"Palavras a serem ignoradas do vocabulario\", vocabulario_palavras_ignoradas)"
   ]
  },
  {
   "cell_type": "code",
   "execution_count": 17,
   "metadata": {
    "collapsed": true
   },
   "outputs": [],
   "source": [
    "sentenca_sem_stopwords = [w for w in texto.split() if not w in vocabulario_palavras_ignoradas]\n",
    "texto = \" \".join( sentenca_sem_stopwords ) "
   ]
  },
  {
   "cell_type": "code",
   "execution_count": 18,
   "metadata": {},
   "outputs": [
    {
     "name": "stdout",
     "output_type": "stream",
     "text": [
      "Total de tokens analisados:  5,516,360\n",
      "Tamanho do Vocabulário:  123,557\n",
      "\n",
      "\n",
      "[('.', 2048978), ('cid', 47116), ('figura', 30273), ('sao', 19272), ('ser', 15400), ('nao', 14105), ('oleo', 12088), ('tabela', 11672), ('agua', 11452), ('modelo', 9415), ('producao', 9248), ('processo', 9120), ('pode', 8672), ('dados', 8598), ('resultados', 8477), ('sistema', 8399), ('tempo', 8173), ('temperatura', 8165), ('gas', 8089), ('petroleo', 7295), ('maior', 7289), ('forma', 7160), ('analise', 7080), ('tambem', 7041), ('trabalho', 6595), ('cada', 6410), ('pressao', 6132), ('valores', 6027), ('sendo', 5933), ('onde', 5853), ('caso', 5492), ('partir', 5432), ('fonte', 5403), ('atraves', 5362), ('meio', 5257), ('energia', 5234), ('assim', 5145), ('formacao', 5135), ('biodiesel', 5073), ('valor', 5059), ('area', 4978), ('rio', 4941), ('grande', 4920), ('estudo', 4897), ('equacao', 4859), ('concentracao', 4837), ('podem', 4780), ('regiao', 4714), ('metodo', 4659), ('relacao', 4634), ('massa', 4587), ('diferentes', 4564), ('°c', 4436), ('fase', 4305), ('funcao', 4261), ('devido', 4244), ('alem', 4217), ('ate', 4208), ('parametros', 4139), ('!', 4110), ('condicoes', 4034), ('co', 3995), ('brasil', 3940), ('apos', 3905), ('ja', 3860), ('volume', 3818), ('amostras', 3818), ('neste', 3815), ('\\uf0b7', 3802), ('aumento', 3743), ('tipo', 3723), ('reacao', 3714), ('total', 3704), ('base', 3633), ('solucao', 3608), ('obtidos', 3592), ('capitulo', 3588), ('processos', 3573), ('fluido', 3569), ('velocidade', 3551), ('possivel', 3505), ('apresenta', 3498), ('modelos', 3487), ('segundo', 3437), ('−', 3363), ('numero', 3330), ('quantidade', 3322), ('acido', 3272), ('vazao', 3256), ('controle', 3212), ('amostra', 3182), ('material', 3179), ('comportamento', 3168), ('uso', 3157), ('tensao', 3145), ('utilizado', 3130), ('menor', 3128), ('parte', 3115), ('etanol', 3068), ('ainda', 3043), ('superficie', 3039), ('dois', 3019), ('quimica', 3010), ('estao', 3005), ('propriedades', 2997), ('acordo', 2958), ('mistura', 2931), ('utilizados', 2928), ('ponto', 2915), ('desenvolvimento', 2911), ('sistemas', 2908), ('engenharia', 2881), ('taxa', 2840), ('projeto', 2826), ('outros', 2813), ('deste', 2784), ('mm', 2778), ('estrutura', 2777), ('programa', 2769), ('quanto', 2748), ('natural', 2741), ('media', 2741), ('presenca', 2736), ('diesel', 2729), ('particulas', 2715), ('metodos', 2699), ('apenas', 2697), ('utilizando', 2685), ('conforme', 2681), ('fluidos', 2679), ('pois', 2657), ('bacia', 2641), ('janeiro', 2632), ('simulacao', 2629), ('ambiente', 2625), ('universidade', 2598), ('principais', 2597), ('duas', 2593), ('oc', 2587), ('escoamento', 2562), ('vez', 2553), ('iv', 2539), ('tratamento', 2527), ('variacao', 2524), ('longo', 2505), ('tres', 2494), ('kg', 2493), ('efeito', 2489), ('materiais', 2485), ('caracteristicas', 2479), ('campo', 2457), ('±', 2450), ('combustivel', 2436), ('bem', 2434), ('inicial', 2432), ('liquido', 2418), ('nivel', 2394), ('reducao', 2394), ('min', 2369), ('alta', 2354), ('presente', 2331), ('mg', 2328), ('oes', 2323), ('exemplo', 2317), ('produtos', 2297), ('objetivo', 2285), ('compostos', 2285), ('elementos', 2273), ('ml', 2272), ('etapa', 2259), ('recuperacao', 2245), ('variaveis', 2244), ('distribuicao', 2232), ('utilizacao', 2230), ('utilizada', 2220), ('mostra', 2205), ('capacidade', 2192), ('cm', 2165), ('fluxo', 2165), ('custo', 2157), ('composicao', 2150), ('razao', 2148), ('desta', 2147), ('industria', 2145), ('influencia', 2109), ('ocorre', 2109), ('pontos', 2108), ('viscosidade', 2106), ('carbono', 2105), ('coluna', 2092), ('fracao', 2090), ('fator', 2086), ('ar', 2084), ('dissertacao', 2081), ('corrente', 2079), ('aplicacao', 2077), ('comparacao', 2077), ('componentes', 2072), ('sera', 2072), ('operacao', 2069), ('final', 2065), ('secao', 2064), ('atividade', 2063), ('calor', 2062), ('catalisador', 2062), ('fim', 2056), ('ensaio', 2056), ('pocos', 2050), ('mesma', 2040), ('reservatorio', 2039), ('respectivamente', 2034), ('deve', 2029), ('ensaios', 2029), ('carga', 2027), ('equacoes', 2013), ('padrao', 1994), ('obtencao', 1982), ('disso', 1979), ('deformacao', 1967), ('sul', 1954), ('adsorcao', 1953), ('federal', 1952), ('porem', 1952), ('estudos', 1944), ('avaliacao', 1943), ('injecao', 1937), ('entrada', 1919), ('determinacao', 1919), ('periodo', 1918), ('dessa', 1912), ('perfuracao', 1905), ('curvas', 1904), ('ambiental', 1899), ('metodologia', 1898), ('resposta', 1889), ('curva', 1885), ('maiores', 1877), ('combustao', 1874), ('calculo', 1871), ('areas', 1868), ('geral', 1866), ('alguns', 1865), ('vapor', 1862), ('faixa', 1860), ('catalisadores', 1859), ('eficiencia', 1859), ('melhor', 1855), ('geracao', 1854), ('constante', 1850), ('concentracoes', 1846), ('ph', 1825), ('anp', 1822), ('modo', 1821), ('fato', 1820), ('grafico', 1819), ('entao', 1810), ('resultado', 1802), ('importante', 1799), ('perfil', 1791), ('densidade', 1786), ('apresentam', 1786), ('experimentais', 1784), ('glicerol', 1772), ('paulo', 1771), ('malha', 1764), ('todas', 1764), ('journal', 1764), ('mestrado', 1753), ('podese', 1751), ('quais', 1751), ('temperaturas', 1750), ('nacional', 1748), ('modelagem', 1739), ('forca', 1736), ('principalmente', 1726), ('apresentados', 1725), ('portanto', 1724), ('outras', 1723), ('potencial', 1721), ('experimental', 1720), ('necessario', 1719), ('baixa', 1717), ('resistencia', 1711), ('ter', 1709), ('tais', 1698), ('escala', 1698), ('problema', 1696), ('acidos', 1696), ('tecnica', 1687), ('fatores', 1685), ('perda', 1680), ('consumo', 1679), ('outro', 1676), ('produto', 1675), ('diametro', 1675), ('teor', 1674), ('fases', 1672), ('hidrocarbonetos', 1672), ('possui', 1669), ('oil', 1660)]\n"
     ]
    }
   ],
   "source": [
    "imprime_info_corpus(texto)"
   ]
  },
  {
   "cell_type": "markdown",
   "metadata": {},
   "source": [
    "## Existe a preponderância de muitas palavras raras no vocabulário, dominando a distribuição\n",
    "\n",
    "Eliminando a ocorrência de palavras raras, que ocorram com menor frequência, reduzindo assim o vocabulário apenas às palaras mais relevantes. Normalmente estas palavras se referem a erros de grafia ou da extração dos PDFs para texto."
   ]
  },
  {
   "cell_type": "code",
   "execution_count": 19,
   "metadata": {
    "collapsed": true
   },
   "outputs": [],
   "source": [
    "word_counts = Counter(texto.split())"
   ]
  },
  {
   "cell_type": "code",
   "execution_count": 20,
   "metadata": {
    "collapsed": true
   },
   "outputs": [],
   "source": [
    "threshold_palavras_raras = 2 # palavras que ocorram 2 ou menos vezes serão eliminadas\n",
    "\n",
    "sentenca_sem_palavras_raras = [w for w in texto.split() if word_counts[w] > threshold_palavras_raras]\n",
    "texto = \" \".join( sentenca_sem_palavras_raras ) "
   ]
  },
  {
   "cell_type": "code",
   "execution_count": 21,
   "metadata": {},
   "outputs": [
    {
     "name": "stdout",
     "output_type": "stream",
     "text": [
      "Total de tokens analisados:  5,426,622\n",
      "Tamanho do Vocabulário:  53,326\n",
      "\n",
      "\n",
      "[('.', 2048978), ('cid', 47116), ('figura', 30273), ('sao', 19272), ('ser', 15400), ('nao', 14105), ('oleo', 12088), ('tabela', 11672), ('agua', 11452), ('modelo', 9415), ('producao', 9248), ('processo', 9120), ('pode', 8672), ('dados', 8598), ('resultados', 8477), ('sistema', 8399), ('tempo', 8173), ('temperatura', 8165), ('gas', 8089), ('petroleo', 7295), ('maior', 7289), ('forma', 7160), ('analise', 7080), ('tambem', 7041), ('trabalho', 6595), ('cada', 6410), ('pressao', 6132), ('valores', 6027), ('sendo', 5933), ('onde', 5853), ('caso', 5492), ('partir', 5432), ('fonte', 5403), ('atraves', 5362), ('meio', 5257), ('energia', 5234), ('assim', 5145), ('formacao', 5135), ('biodiesel', 5073), ('valor', 5059), ('area', 4978), ('rio', 4941), ('grande', 4920), ('estudo', 4897), ('equacao', 4859), ('concentracao', 4837), ('podem', 4780), ('regiao', 4714), ('metodo', 4659), ('relacao', 4634), ('massa', 4587), ('diferentes', 4564), ('°c', 4436), ('fase', 4305), ('funcao', 4261), ('devido', 4244), ('alem', 4217), ('ate', 4208), ('parametros', 4139), ('!', 4110), ('condicoes', 4034), ('co', 3995), ('brasil', 3940), ('apos', 3905), ('ja', 3860), ('volume', 3818), ('amostras', 3818), ('neste', 3815), ('\\uf0b7', 3802), ('aumento', 3743), ('tipo', 3723), ('reacao', 3714), ('total', 3704), ('base', 3633), ('solucao', 3608), ('obtidos', 3592), ('capitulo', 3588), ('processos', 3573), ('fluido', 3569), ('velocidade', 3551), ('possivel', 3505), ('apresenta', 3498), ('modelos', 3487), ('segundo', 3437), ('−', 3363), ('numero', 3330), ('quantidade', 3322), ('acido', 3272), ('vazao', 3256), ('controle', 3212), ('amostra', 3182), ('material', 3179), ('comportamento', 3168), ('uso', 3157), ('tensao', 3145), ('utilizado', 3130), ('menor', 3128), ('parte', 3115), ('etanol', 3068), ('ainda', 3043), ('superficie', 3039), ('dois', 3019), ('quimica', 3010), ('estao', 3005), ('propriedades', 2997), ('acordo', 2958), ('mistura', 2931), ('utilizados', 2928), ('ponto', 2915), ('desenvolvimento', 2911), ('sistemas', 2908), ('engenharia', 2881), ('taxa', 2840), ('projeto', 2826), ('outros', 2813), ('deste', 2784), ('mm', 2778), ('estrutura', 2777), ('programa', 2769), ('quanto', 2748), ('natural', 2741), ('media', 2741), ('presenca', 2736), ('diesel', 2729), ('particulas', 2715), ('metodos', 2699), ('apenas', 2697), ('utilizando', 2685), ('conforme', 2681), ('fluidos', 2679), ('pois', 2657), ('bacia', 2641), ('janeiro', 2632), ('simulacao', 2629), ('ambiente', 2625), ('universidade', 2598), ('principais', 2597), ('duas', 2593), ('oc', 2587), ('escoamento', 2562), ('vez', 2553), ('iv', 2539), ('tratamento', 2527), ('variacao', 2524), ('longo', 2505), ('tres', 2494), ('kg', 2493), ('efeito', 2489), ('materiais', 2485), ('caracteristicas', 2479), ('campo', 2457), ('±', 2450), ('combustivel', 2436), ('bem', 2434), ('inicial', 2432), ('liquido', 2418), ('nivel', 2394), ('reducao', 2394), ('min', 2369), ('alta', 2354), ('presente', 2331), ('mg', 2328), ('oes', 2323), ('exemplo', 2317), ('produtos', 2297), ('objetivo', 2285), ('compostos', 2285), ('elementos', 2273), ('ml', 2272), ('etapa', 2259), ('recuperacao', 2245), ('variaveis', 2244), ('distribuicao', 2232), ('utilizacao', 2230), ('utilizada', 2220), ('mostra', 2205), ('capacidade', 2192), ('cm', 2165), ('fluxo', 2165), ('custo', 2157), ('composicao', 2150), ('razao', 2148), ('desta', 2147), ('industria', 2145), ('influencia', 2109), ('ocorre', 2109), ('pontos', 2108), ('viscosidade', 2106), ('carbono', 2105), ('coluna', 2092), ('fracao', 2090), ('fator', 2086), ('ar', 2084), ('dissertacao', 2081), ('corrente', 2079), ('aplicacao', 2077), ('comparacao', 2077), ('componentes', 2072), ('sera', 2072), ('operacao', 2069), ('final', 2065), ('secao', 2064), ('atividade', 2063), ('calor', 2062), ('catalisador', 2062), ('fim', 2056), ('ensaio', 2056), ('pocos', 2050), ('mesma', 2040), ('reservatorio', 2039), ('respectivamente', 2034), ('deve', 2029), ('ensaios', 2029), ('carga', 2027), ('equacoes', 2013), ('padrao', 1994), ('obtencao', 1982), ('disso', 1979), ('deformacao', 1967), ('sul', 1954), ('adsorcao', 1953), ('federal', 1952), ('porem', 1952), ('estudos', 1944), ('avaliacao', 1943), ('injecao', 1937), ('entrada', 1919), ('determinacao', 1919), ('periodo', 1918), ('dessa', 1912), ('perfuracao', 1905), ('curvas', 1904), ('ambiental', 1899), ('metodologia', 1898), ('resposta', 1889), ('curva', 1885), ('maiores', 1877), ('combustao', 1874), ('calculo', 1871), ('areas', 1868), ('geral', 1866), ('alguns', 1865), ('vapor', 1862), ('faixa', 1860), ('catalisadores', 1859), ('eficiencia', 1859), ('melhor', 1855), ('geracao', 1854), ('constante', 1850), ('concentracoes', 1846), ('ph', 1825), ('anp', 1822), ('modo', 1821), ('fato', 1820), ('grafico', 1819), ('entao', 1810), ('resultado', 1802), ('importante', 1799), ('perfil', 1791), ('densidade', 1786), ('apresentam', 1786), ('experimentais', 1784), ('glicerol', 1772), ('paulo', 1771), ('malha', 1764), ('todas', 1764), ('journal', 1764), ('mestrado', 1753), ('podese', 1751), ('quais', 1751), ('temperaturas', 1750), ('nacional', 1748), ('modelagem', 1739), ('forca', 1736), ('principalmente', 1726), ('apresentados', 1725), ('portanto', 1724), ('outras', 1723), ('potencial', 1721), ('experimental', 1720), ('necessario', 1719), ('baixa', 1717), ('resistencia', 1711), ('ter', 1709), ('tais', 1698), ('escala', 1698), ('problema', 1696), ('acidos', 1696), ('tecnica', 1687), ('fatores', 1685), ('perda', 1680), ('consumo', 1679), ('outro', 1676), ('produto', 1675), ('diametro', 1675), ('teor', 1674), ('fases', 1672), ('hidrocarbonetos', 1672), ('possui', 1669), ('oil', 1660)]\n"
     ]
    }
   ],
   "source": [
    "imprime_info_corpus(texto)"
   ]
  },
  {
   "cell_type": "markdown",
   "metadata": {},
   "source": [
    "## Unificando as quebras de linhas, refazendo as sentenças.\n",
    "Obervou-se a ocorrencia de muitas quebras de linhas desnecessárias, produto de erros na extração do PDF. As quebras de linha serão todas eliminadas, e posteriormente refeitas considerando o caractere de ponto como final de sentença e quebra de linha."
   ]
  },
  {
   "cell_type": "code",
   "execution_count": 22,
   "metadata": {
    "collapsed": true
   },
   "outputs": [],
   "source": [
    "texto = texto.replace('\\n', ' ').replace('\\r', '').replace('?','.').replace('!','.')"
   ]
  },
  {
   "cell_type": "code",
   "execution_count": 23,
   "metadata": {
    "collapsed": true
   },
   "outputs": [],
   "source": [
    "lista_com_quebra_de_linha = texto.split('.')\n",
    "texto = \"\\n\".join( lista_com_quebra_de_linha ) "
   ]
  },
  {
   "cell_type": "code",
   "execution_count": 24,
   "metadata": {},
   "outputs": [
    {
     "name": "stdout",
     "output_type": "stream",
     "text": [
      "Total de tokens analisados:  3,373,534\n",
      "Tamanho do Vocabulário:  53,324\n",
      "\n",
      "\n",
      "[('cid', 47116), ('figura', 30273), ('sao', 19272), ('ser', 15400), ('nao', 14105), ('oleo', 12088), ('tabela', 11672), ('agua', 11452), ('modelo', 9415), ('producao', 9248), ('processo', 9120), ('pode', 8672), ('dados', 8598), ('resultados', 8477), ('sistema', 8399), ('tempo', 8173), ('temperatura', 8165), ('gas', 8089), ('petroleo', 7295), ('maior', 7289), ('forma', 7160), ('analise', 7080), ('tambem', 7041), ('trabalho', 6595), ('cada', 6410), ('pressao', 6132), ('valores', 6027), ('sendo', 5933), ('onde', 5853), ('caso', 5492), ('partir', 5432), ('fonte', 5403), ('atraves', 5362), ('meio', 5257), ('energia', 5234), ('assim', 5145), ('formacao', 5135), ('biodiesel', 5073), ('valor', 5059), ('area', 4978), ('rio', 4941), ('grande', 4920), ('estudo', 4897), ('equacao', 4859), ('concentracao', 4837), ('podem', 4780), ('regiao', 4714), ('metodo', 4659), ('relacao', 4634), ('massa', 4587), ('diferentes', 4564), ('°c', 4436), ('fase', 4305), ('funcao', 4261), ('devido', 4244), ('alem', 4217), ('ate', 4208), ('parametros', 4139), ('condicoes', 4034), ('co', 3995), ('brasil', 3940), ('apos', 3905), ('ja', 3860), ('volume', 3818), ('amostras', 3818), ('neste', 3815), ('\\uf0b7', 3802), ('aumento', 3743), ('tipo', 3723), ('reacao', 3714), ('total', 3704), ('base', 3633), ('solucao', 3608), ('obtidos', 3592), ('capitulo', 3588), ('processos', 3573), ('fluido', 3569), ('velocidade', 3551), ('possivel', 3505), ('apresenta', 3498), ('modelos', 3487), ('segundo', 3437), ('−', 3363), ('numero', 3330), ('quantidade', 3322), ('acido', 3272), ('vazao', 3256), ('controle', 3212), ('amostra', 3182), ('material', 3179), ('comportamento', 3168), ('uso', 3157), ('tensao', 3145), ('utilizado', 3130), ('menor', 3128), ('parte', 3115), ('etanol', 3068), ('ainda', 3043), ('superficie', 3039), ('dois', 3019), ('quimica', 3010), ('estao', 3005), ('propriedades', 2997), ('acordo', 2958), ('mistura', 2931), ('utilizados', 2928), ('ponto', 2915), ('desenvolvimento', 2911), ('sistemas', 2908), ('engenharia', 2881), ('taxa', 2840), ('projeto', 2826), ('outros', 2813), ('deste', 2784), ('mm', 2778), ('estrutura', 2777), ('programa', 2769), ('quanto', 2748), ('natural', 2741), ('media', 2741), ('presenca', 2736), ('diesel', 2729), ('particulas', 2715), ('metodos', 2699), ('apenas', 2697), ('utilizando', 2685), ('conforme', 2681), ('fluidos', 2679), ('pois', 2657), ('bacia', 2641), ('janeiro', 2632), ('simulacao', 2629), ('ambiente', 2625), ('universidade', 2598), ('principais', 2597), ('duas', 2593), ('oc', 2587), ('escoamento', 2562), ('vez', 2553), ('iv', 2539), ('tratamento', 2527), ('variacao', 2524), ('longo', 2505), ('tres', 2494), ('kg', 2493), ('efeito', 2489), ('materiais', 2485), ('caracteristicas', 2479), ('campo', 2457), ('±', 2450), ('combustivel', 2436), ('bem', 2434), ('inicial', 2432), ('liquido', 2418), ('nivel', 2394), ('reducao', 2394), ('min', 2369), ('alta', 2354), ('presente', 2331), ('mg', 2328), ('oes', 2323), ('exemplo', 2317), ('produtos', 2297), ('objetivo', 2285), ('compostos', 2285), ('elementos', 2273), ('ml', 2272), ('etapa', 2259), ('recuperacao', 2245), ('variaveis', 2244), ('distribuicao', 2232), ('utilizacao', 2230), ('utilizada', 2220), ('mostra', 2205), ('capacidade', 2192), ('cm', 2165), ('fluxo', 2165), ('custo', 2157), ('composicao', 2150), ('razao', 2148), ('desta', 2147), ('industria', 2145), ('influencia', 2109), ('ocorre', 2109), ('pontos', 2108), ('viscosidade', 2106), ('carbono', 2105), ('coluna', 2092), ('fracao', 2090), ('fator', 2086), ('ar', 2084), ('dissertacao', 2081), ('corrente', 2079), ('aplicacao', 2077), ('comparacao', 2077), ('componentes', 2072), ('sera', 2072), ('operacao', 2069), ('final', 2065), ('secao', 2064), ('atividade', 2063), ('calor', 2062), ('catalisador', 2062), ('fim', 2056), ('ensaio', 2056), ('pocos', 2050), ('mesma', 2040), ('reservatorio', 2039), ('respectivamente', 2034), ('deve', 2029), ('ensaios', 2029), ('carga', 2027), ('equacoes', 2013), ('padrao', 1994), ('obtencao', 1982), ('disso', 1979), ('deformacao', 1967), ('sul', 1954), ('adsorcao', 1953), ('federal', 1952), ('porem', 1952), ('estudos', 1944), ('avaliacao', 1943), ('injecao', 1937), ('entrada', 1919), ('determinacao', 1919), ('periodo', 1918), ('dessa', 1912), ('perfuracao', 1905), ('curvas', 1904), ('ambiental', 1899), ('metodologia', 1898), ('resposta', 1889), ('curva', 1885), ('maiores', 1877), ('combustao', 1874), ('calculo', 1871), ('areas', 1868), ('geral', 1866), ('alguns', 1865), ('vapor', 1862), ('faixa', 1860), ('catalisadores', 1859), ('eficiencia', 1859), ('melhor', 1855), ('geracao', 1854), ('constante', 1850), ('concentracoes', 1846), ('ph', 1825), ('anp', 1822), ('modo', 1821), ('fato', 1820), ('grafico', 1819), ('entao', 1810), ('resultado', 1802), ('importante', 1799), ('perfil', 1791), ('densidade', 1786), ('apresentam', 1786), ('experimentais', 1784), ('glicerol', 1772), ('paulo', 1771), ('malha', 1764), ('todas', 1764), ('journal', 1764), ('mestrado', 1753), ('podese', 1751), ('quais', 1751), ('temperaturas', 1750), ('nacional', 1748), ('modelagem', 1739), ('forca', 1736), ('principalmente', 1726), ('apresentados', 1725), ('portanto', 1724), ('outras', 1723), ('potencial', 1721), ('experimental', 1720), ('necessario', 1719), ('baixa', 1717), ('resistencia', 1711), ('ter', 1709), ('tais', 1698), ('escala', 1698), ('problema', 1696), ('acidos', 1696), ('tecnica', 1687), ('fatores', 1685), ('perda', 1680), ('consumo', 1679), ('outro', 1676), ('produto', 1675), ('diametro', 1675), ('teor', 1674), ('fases', 1672), ('hidrocarbonetos', 1672), ('possui', 1669), ('oil', 1660), ('soja', 1637), ('anos', 1635)]\n"
     ]
    }
   ],
   "source": [
    "imprime_info_corpus(texto)"
   ]
  },
  {
   "cell_type": "markdown",
   "metadata": {},
   "source": [
    "### Eliminando sentenças com menos de 3 palavras, inclusive vazias"
   ]
  },
  {
   "cell_type": "code",
   "execution_count": 25,
   "metadata": {
    "collapsed": true
   },
   "outputs": [],
   "source": [
    "lista_com_quebra_de_linha = texto.split('\\n')\n",
    "texto = '\\n'.join([sentenca for sentenca in lista_com_quebra_de_linha if len(sentenca.split(' ')) > 3])"
   ]
  },
  {
   "cell_type": "code",
   "execution_count": 26,
   "metadata": {},
   "outputs": [
    {
     "name": "stdout",
     "output_type": "stream",
     "text": [
      "Total de tokens analisados:  3,308,466\n",
      "Tamanho do Vocabulário:  52,880\n",
      "\n",
      "\n",
      "[('cid', 46896), ('figura', 21960), ('sao', 19263), ('ser', 15393), ('nao', 14103), ('oleo', 12083), ('agua', 11452), ('modelo', 9405), ('producao', 9248), ('processo', 9116), ('tabela', 8703), ('pode', 8672), ('dados', 8595), ('resultados', 8415), ('sistema', 8397), ('tempo', 8160), ('temperatura', 8155), ('gas', 8087), ('maior', 7288), ('petroleo', 7256), ('forma', 7159), ('analise', 7078), ('tambem', 7040), ('trabalho', 6585), ('cada', 6410), ('pressao', 6130), ('valores', 6021), ('sendo', 5924), ('onde', 5809), ('caso', 5469), ('partir', 5432), ('fonte', 5383), ('atraves', 5362), ('meio', 5256), ('energia', 5231), ('assim', 5140), ('formacao', 5135), ('valor', 5056), ('biodiesel', 5030), ('area', 4935), ('rio', 4935), ('grande', 4916), ('estudo', 4895), ('concentracao', 4834), ('podem', 4780), ('regiao', 4713), ('metodo', 4650), ('relacao', 4631), ('equacao', 4621), ('massa', 4584), ('diferentes', 4564), ('°c', 4402), ('fase', 4304), ('funcao', 4260), ('devido', 4244), ('alem', 4217), ('ate', 4189), ('parametros', 4133), ('condicoes', 4016), ('co', 3959), ('apos', 3905), ('ja', 3854), ('brasil', 3829), ('amostras', 3815), ('neste', 3803), ('\\uf0b7', 3798), ('volume', 3766), ('aumento', 3743), ('tipo', 3722), ('reacao', 3695), ('total', 3692), ('base', 3630), ('solucao', 3608), ('obtidos', 3592), ('processos', 3572), ('fluido', 3568), ('velocidade', 3549), ('possivel', 3504), ('apresenta', 3498), ('modelos', 3483), ('capitulo', 3441), ('segundo', 3413), ('numero', 3325), ('quantidade', 3322), ('acido', 3272), ('vazao', 3254), ('−', 3241), ('controle', 3210), ('amostra', 3181), ('comportamento', 3168), ('material', 3164), ('uso', 3157), ('tensao', 3145), ('utilizado', 3130), ('menor', 3125), ('parte', 3097), ('etanol', 3064), ('ainda', 3043), ('superficie', 3039), ('dois', 3018), ('quimica', 3008), ('estao', 3005), ('propriedades', 2992), ('acordo', 2945), ('mistura', 2931), ('utilizados', 2925), ('sistemas', 2907), ('desenvolvimento', 2904), ('ponto', 2903), ('engenharia', 2880), ('taxa', 2840), ('projeto', 2823), ('outros', 2810), ('deste', 2784), ('estrutura', 2771), ('programa', 2769), ('quanto', 2748), ('natural', 2741), ('presenca', 2736), ('media', 2727), ('diesel', 2726), ('particulas', 2715), ('mm', 2711), ('apenas', 2697), ('utilizando', 2684), ('conforme', 2680), ('fluidos', 2675), ('metodos', 2666), ('pois', 2657), ('bacia', 2640), ('ambiente', 2625), ('simulacao', 2625), ('janeiro', 2620), ('universidade', 2597), ('principais', 2596), ('duas', 2593), ('escoamento', 2560), ('vez', 2550), ('tratamento', 2524), ('variacao', 2524), ('oc', 2516), ('longo', 2499), ('tres', 2494), ('efeito', 2489), ('caracteristicas', 2478), ('campo', 2453), ('materiais', 2437), ('combustivel', 2435), ('bem', 2434), ('inicial', 2432), ('kg', 2426), ('liquido', 2417), ('reducao', 2394), ('nivel', 2393), ('alta', 2354), ('presente', 2331), ('oes', 2323), ('exemplo', 2312), ('produtos', 2295), ('compostos', 2285), ('min', 2272), ('elementos', 2268), ('etapa', 2250), ('ml', 2250), ('±', 2246), ('recuperacao', 2244), ('variaveis', 2243), ('objetivo', 2233), ('distribuicao', 2231), ('utilizacao', 2230), ('utilizada', 2217), ('mostra', 2205), ('mg', 2203), ('capacidade', 2190), ('fluxo', 2165), ('custo', 2157), ('desta', 2147), ('razao', 2147), ('composicao', 2146), ('industria', 2145), ('iv', 2110), ('influencia', 2109), ('ocorre', 2109), ('pontos', 2108), ('carbono', 2104), ('viscosidade', 2098), ('coluna', 2092), ('fracao', 2090), ('fator', 2086), ('ar', 2082), ('corrente', 2078), ('cm', 2078), ('comparacao', 2074), ('aplicacao', 2073), ('sera', 2072), ('componentes', 2071), ('operacao', 2066), ('final', 2062), ('atividade', 2062), ('calor', 2061), ('catalisador', 2061), ('ensaio', 2055), ('fim', 2051), ('pocos', 2049), ('mesma', 2040), ('reservatorio', 2037), ('deve', 2029), ('ensaios', 2027), ('secao', 2024), ('carga', 2023), ('dissertacao', 2021), ('padrao', 1993), ('equacoes', 1988), ('obtencao', 1981), ('disso', 1979), ('deformacao', 1967), ('respectivamente', 1956), ('federal', 1952), ('sul', 1952), ('porem', 1952), ('estudos', 1943), ('avaliacao', 1943), ('adsorcao', 1941), ('injecao', 1937), ('entrada', 1919), ('determinacao', 1919), ('periodo', 1915), ('dessa', 1912), ('curvas', 1904), ('perfuracao', 1902), ('ambiental', 1899), ('resposta', 1889), ('curva', 1882), ('maiores', 1876), ('combustao', 1870), ('areas', 1868), ('calculo', 1866), ('alguns', 1865), ('geral', 1861), ('vapor', 1860), ('faixa', 1859), ('eficiencia', 1858), ('catalisadores', 1856), ('geracao', 1854), ('melhor', 1853), ('constante', 1850), ('concentracoes', 1845), ('modo', 1819), ('fato', 1817), ('ph', 1807), ('entao', 1803), ('resultado', 1801), ('importante', 1799), ('perfil', 1789), ('apresentam', 1786), ('experimentais', 1784), ('densidade', 1781), ('metodologia', 1773), ('todas', 1764), ('malha', 1762), ('glicerol', 1760), ('journal', 1752), ('podese', 1751), ('quais', 1751), ('mestrado', 1751), ('temperaturas', 1750), ('nacional', 1748), ('forca', 1736), ('modelagem', 1732), ('principalmente', 1726), ('grafico', 1726), ('apresentados', 1725), ('portanto', 1724), ('outras', 1721), ('potencial', 1720), ('necessario', 1719), ('baixa', 1717), ('experimental', 1717), ('anp', 1714), ('resistencia', 1711), ('ter', 1709), ('tais', 1698), ('escala', 1698), ('problema', 1696), ('acidos', 1696), ('tecnica', 1687), ('fatores', 1684), ('perda', 1680), ('consumo', 1677), ('outro', 1676), ('paulo', 1676), ('produto', 1674), ('diametro', 1673), ('fases', 1672), ('teor', 1672), ('hidrocarbonetos', 1669), ('possui', 1667), ('oil', 1656), ('soja', 1635), ('coeficiente', 1632)]\n"
     ]
    }
   ],
   "source": [
    "imprime_info_corpus(texto)"
   ]
  },
  {
   "cell_type": "code",
   "execution_count": 27,
   "metadata": {
    "collapsed": true
   },
   "outputs": [],
   "source": [
    "#Checkpoint\n",
    "\n",
    "gravaArquivo(arquivoCorpusFinal, texto)"
   ]
  },
  {
   "cell_type": "code",
   "execution_count": null,
   "metadata": {
    "collapsed": true
   },
   "outputs": [],
   "source": []
  }
 ],
 "metadata": {
  "kernelspec": {
   "display_name": "Python 3",
   "language": "python",
   "name": "python3"
  },
  "language_info": {
   "codemirror_mode": {
    "name": "ipython",
    "version": 3
   },
   "file_extension": ".py",
   "mimetype": "text/x-python",
   "name": "python",
   "nbconvert_exporter": "python",
   "pygments_lexer": "ipython3",
   "version": "3.6.3"
  }
 },
 "nbformat": 4,
 "nbformat_minor": 2
}
