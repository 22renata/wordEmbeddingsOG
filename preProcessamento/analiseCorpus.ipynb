{
 "cells": [
  {
   "cell_type": "code",
   "execution_count": 1,
   "metadata": {
    "collapsed": true
   },
   "outputs": [],
   "source": [
    "from collections import Counter\n",
    "import os\n",
    "from pathlib import Path"
   ]
  },
  {
   "cell_type": "code",
   "execution_count": 2,
   "metadata": {
    "collapsed": true
   },
   "outputs": [],
   "source": [
    "def leTextoDeArquivo(arquivoEntrada):\n",
    "    with open(arquivoEntrada, 'r', encoding=\"UTF-8\") as f:\n",
    "        texto = f.read()\n",
    "        \n",
    "    #print(texto[:200])\n",
    "    return texto"
   ]
  },
  {
   "cell_type": "code",
   "execution_count": 3,
   "metadata": {
    "collapsed": true
   },
   "outputs": [],
   "source": [
    "def imprime_info_corpus(texto):\n",
    "    word_counts = Counter()\n",
    "    tokens_totais = 0\n",
    "    # Tokenize and remove short and malformed sentences.\n",
    "    for sent in texto.split():\n",
    "        #print(sent)\n",
    "        tokens_totais += sent.count(' ') + 1\n",
    "        word_counts[sent] += 1\n",
    "        \n",
    "    print('Total de tokens analisados: ', \"{:,}\".format(tokens_totais))\n",
    "    print('Tamanho do Vocabulário: ', \"{:,}\".format(len(word_counts)))\n",
    "    print(\"\\n\")\n",
    "    print(word_counts.most_common(100))"
   ]
  },
  {
   "cell_type": "code",
   "execution_count": 5,
   "metadata": {},
   "outputs": [],
   "source": [
    "corpus =  os.path.join(\"..\", \"corpus_unificado\", \"corpus.txt\")\n",
    "texto = leTextoDeArquivo(corpus)"
   ]
  },
  {
   "cell_type": "code",
   "execution_count": 6,
   "metadata": {},
   "outputs": [
    {
     "name": "stdout",
     "output_type": "stream",
     "text": [
      "Total de tokens analisados:  10,109,655\n",
      "Tamanho do Vocabulário:  113,934\n",
      "\n",
      "\n",
      "[('cid', 183689), ('sao', 50752), ('nao', 46215), ('gas', 43329), ('petroleo', 40068), ('ser', 39461), ('rio', 38209), ('petrobras', 37023), ('figura', 34569), ('producao', 32634), ('oleo', 29006), ('janeiro', 28408), ('natural', 22059), ('agua', 21293), ('dados', 19839), ('formacao', 19439), ('sistema', 19330), ('bacia', 19293), ('pode', 18875), ('anp', 18327), ('tambem', 17855), ('brasil', 17742), ('processo', 17669), ('maior', 17307), ('tabela', 17096), ('modelo', 16820), ('tempo', 16618), ('forma', 16589), ('resultados', 16362), ('area', 16040), ('total', 15738), ('cada', 15245), ('analise', 14947), ('grande', 14578), ('pressao', 14512), ('ate', 14370), ('temperatura', 14323), ('regiao', 14131), ('onde', 14110), ('caso', 13849), ('partir', 13357), ('valores', 13259), ('trabalho', 13221), ('sendo', 13210), ('fig', 11996), ('relacao', 11929), ('ja', 11878), ('valor', 11670), ('fonte', 11503), ('assim', 11478), ('tipo', 11287), ('parte', 11279), ('volume', 11237), ('meio', 11233), ('base', 11194), ('atraves', 11159), ('energia', 11124), ('desenvolvimento', 10901), ('condicoes', 10650), ('outros', 10598), ('segundo', 10457), ('podem', 10412), ('fase', 10293), ('estudo', 10201), ('mar', 10178), ('alem', 10155), ('nacional', 10071), ('numero', 10027), ('diesel', 9995), ('co', 9887), ('etanol', 9796), ('sul', 9778), ('pocos', 9762), ('amostras', 9740), ('ainda', 9583), ('campo', 9561), ('metodo', 9445), ('capacidade', 9399), ('campos', 9357), ('apos', 9320), ('distribuicao', 9158), ('precos', 9031), ('transporte', 9002), ('projeto', 8937), ('dois', 8935), ('bem', 8877), ('funcao', 8837), ('aumento', 8797), ('equacao', 8795), ('mercado', 8772), ('ponto', 8764), ('unidade', 8745), ('neste', 8694), ('industria', 8348), ('diferentes', 8287), ('gasolina', 8222), ('combustiveis', 8104), ('operacao', 8096), ('secao', 8038), ('produtos', 7951)]\n"
     ]
    }
   ],
   "source": [
    "imprime_info_corpus(texto)"
   ]
  },
  {
   "cell_type": "code",
   "execution_count": null,
   "metadata": {
    "collapsed": true
   },
   "outputs": [],
   "source": []
  }
 ],
 "metadata": {
  "kernelspec": {
   "display_name": "Python 3",
   "language": "python",
   "name": "python3"
  },
  "language_info": {
   "codemirror_mode": {
    "name": "ipython",
    "version": 3
   },
   "file_extension": ".py",
   "mimetype": "text/x-python",
   "name": "python",
   "nbconvert_exporter": "python",
   "pygments_lexer": "ipython3",
   "version": "3.6.3"
  }
 },
 "nbformat": 4,
 "nbformat_minor": 2
}
