{
 "cells": [
  {
   "cell_type": "markdown",
   "metadata": {},
   "source": [
    "# Realiza o merge de um conjunto de arquivos texto de uma pasta para um único arquivo, depois aplica as técnicas de pré-processamento e filtros"
   ]
  },
  {
   "cell_type": "code",
   "execution_count": 41,
   "metadata": {
    "collapsed": true
   },
   "outputs": [],
   "source": [
    "import numpy as np\n",
    "import re\n",
    "import nltk\n",
    "from collections import Counter\n",
    "import os\n",
    "from pathlib import Path\n",
    "import datetime\n",
    "from string import ascii_lowercase\n",
    "import pandas as pd"
   ]
  },
  {
   "cell_type": "code",
   "execution_count": 4,
   "metadata": {},
   "outputs": [
    {
     "data": {
      "text/html": [
       "\n",
       "    <div class=\"bk-root\">\n",
       "        <a href=\"https://bokeh.pydata.org\" target=\"_blank\" class=\"bk-logo bk-logo-small bk-logo-notebook\"></a>\n",
       "        <span id=\"6c4e41dc-34f7-4fb0-bd27-ebcfd865cc8f\">Loading BokehJS ...</span>\n",
       "    </div>"
      ]
     },
     "metadata": {},
     "output_type": "display_data"
    },
    {
     "data": {
      "application/javascript": [
       "\n",
       "(function(root) {\n",
       "  function now() {\n",
       "    return new Date();\n",
       "  }\n",
       "\n",
       "  var force = true;\n",
       "\n",
       "  if (typeof (root._bokeh_onload_callbacks) === \"undefined\" || force === true) {\n",
       "    root._bokeh_onload_callbacks = [];\n",
       "    root._bokeh_is_loading = undefined;\n",
       "  }\n",
       "\n",
       "  var JS_MIME_TYPE = 'application/javascript';\n",
       "  var HTML_MIME_TYPE = 'text/html';\n",
       "  var EXEC_MIME_TYPE = 'application/vnd.bokehjs_exec.v0+json';\n",
       "  var CLASS_NAME = 'output_bokeh rendered_html';\n",
       "\n",
       "  /**\n",
       "   * Render data to the DOM node\n",
       "   */\n",
       "  function render(props, node) {\n",
       "    var script = document.createElement(\"script\");\n",
       "    node.appendChild(script);\n",
       "  }\n",
       "\n",
       "  /**\n",
       "   * Handle when an output is cleared or removed\n",
       "   */\n",
       "  function handleClearOutput(event, handle) {\n",
       "    var cell = handle.cell;\n",
       "\n",
       "    var id = cell.output_area._bokeh_element_id;\n",
       "    var server_id = cell.output_area._bokeh_server_id;\n",
       "    // Clean up Bokeh references\n",
       "    if (id !== undefined) {\n",
       "      Bokeh.index[id].model.document.clear();\n",
       "      delete Bokeh.index[id];\n",
       "    }\n",
       "\n",
       "    if (server_id !== undefined) {\n",
       "      // Clean up Bokeh references\n",
       "      var cmd = \"from bokeh.io.state import curstate; print(curstate().uuid_to_server['\" + server_id + \"'].get_sessions()[0].document.roots[0]._id)\";\n",
       "      cell.notebook.kernel.execute(cmd, {\n",
       "        iopub: {\n",
       "          output: function(msg) {\n",
       "            var element_id = msg.content.text.trim();\n",
       "            Bokeh.index[element_id].model.document.clear();\n",
       "            delete Bokeh.index[element_id];\n",
       "          }\n",
       "        }\n",
       "      });\n",
       "      // Destroy server and session\n",
       "      var cmd = \"import bokeh.io.notebook as ion; ion.destroy_server('\" + server_id + \"')\";\n",
       "      cell.notebook.kernel.execute(cmd);\n",
       "    }\n",
       "  }\n",
       "\n",
       "  /**\n",
       "   * Handle when a new output is added\n",
       "   */\n",
       "  function handleAddOutput(event, handle) {\n",
       "    var output_area = handle.output_area;\n",
       "    var output = handle.output;\n",
       "\n",
       "    // limit handleAddOutput to display_data with EXEC_MIME_TYPE content only\n",
       "    if ((output.output_type != \"display_data\") || (!output.data.hasOwnProperty(EXEC_MIME_TYPE))) {\n",
       "      return\n",
       "    }\n",
       "\n",
       "    var toinsert = output_area.element.find(`.${CLASS_NAME.split(' ')[0]}`);\n",
       "\n",
       "    if (output.metadata[EXEC_MIME_TYPE][\"id\"] !== undefined) {\n",
       "      toinsert[0].firstChild.textContent = output.data[JS_MIME_TYPE];\n",
       "      // store reference to embed id on output_area\n",
       "      output_area._bokeh_element_id = output.metadata[EXEC_MIME_TYPE][\"id\"];\n",
       "    }\n",
       "    if (output.metadata[EXEC_MIME_TYPE][\"server_id\"] !== undefined) {\n",
       "      var bk_div = document.createElement(\"div\");\n",
       "      bk_div.innerHTML = output.data[HTML_MIME_TYPE];\n",
       "      var script_attrs = bk_div.children[0].attributes;\n",
       "      for (var i = 0; i < script_attrs.length; i++) {\n",
       "        toinsert[0].firstChild.setAttribute(script_attrs[i].name, script_attrs[i].value);\n",
       "      }\n",
       "      // store reference to server id on output_area\n",
       "      output_area._bokeh_server_id = output.metadata[EXEC_MIME_TYPE][\"server_id\"];\n",
       "    }\n",
       "  }\n",
       "\n",
       "  function register_renderer(events, OutputArea) {\n",
       "\n",
       "    function append_mime(data, metadata, element) {\n",
       "      // create a DOM node to render to\n",
       "      var toinsert = this.create_output_subarea(\n",
       "        metadata,\n",
       "        CLASS_NAME,\n",
       "        EXEC_MIME_TYPE\n",
       "      );\n",
       "      this.keyboard_manager.register_events(toinsert);\n",
       "      // Render to node\n",
       "      var props = {data: data, metadata: metadata[EXEC_MIME_TYPE]};\n",
       "      render(props, toinsert[0]);\n",
       "      element.append(toinsert);\n",
       "      return toinsert\n",
       "    }\n",
       "\n",
       "    /* Handle when an output is cleared or removed */\n",
       "    events.on('clear_output.CodeCell', handleClearOutput);\n",
       "    events.on('delete.Cell', handleClearOutput);\n",
       "\n",
       "    /* Handle when a new output is added */\n",
       "    events.on('output_added.OutputArea', handleAddOutput);\n",
       "\n",
       "    /**\n",
       "     * Register the mime type and append_mime function with output_area\n",
       "     */\n",
       "    OutputArea.prototype.register_mime_type(EXEC_MIME_TYPE, append_mime, {\n",
       "      /* Is output safe? */\n",
       "      safe: true,\n",
       "      /* Index of renderer in `output_area.display_order` */\n",
       "      index: 0\n",
       "    });\n",
       "  }\n",
       "\n",
       "  // register the mime type if in Jupyter Notebook environment and previously unregistered\n",
       "  if (root.Jupyter !== undefined) {\n",
       "    var events = require('base/js/events');\n",
       "    var OutputArea = require('notebook/js/outputarea').OutputArea;\n",
       "\n",
       "    if (OutputArea.prototype.mime_types().indexOf(EXEC_MIME_TYPE) == -1) {\n",
       "      register_renderer(events, OutputArea);\n",
       "    }\n",
       "  }\n",
       "\n",
       "  \n",
       "  if (typeof (root._bokeh_timeout) === \"undefined\" || force === true) {\n",
       "    root._bokeh_timeout = Date.now() + 5000;\n",
       "    root._bokeh_failed_load = false;\n",
       "  }\n",
       "\n",
       "  var NB_LOAD_WARNING = {'data': {'text/html':\n",
       "     \"<div style='background-color: #fdd'>\\n\"+\n",
       "     \"<p>\\n\"+\n",
       "     \"BokehJS does not appear to have successfully loaded. If loading BokehJS from CDN, this \\n\"+\n",
       "     \"may be due to a slow or bad network connection. Possible fixes:\\n\"+\n",
       "     \"</p>\\n\"+\n",
       "     \"<ul>\\n\"+\n",
       "     \"<li>re-rerun `output_notebook()` to attempt to load from CDN again, or</li>\\n\"+\n",
       "     \"<li>use INLINE resources instead, as so:</li>\\n\"+\n",
       "     \"</ul>\\n\"+\n",
       "     \"<code>\\n\"+\n",
       "     \"from bokeh.resources import INLINE\\n\"+\n",
       "     \"output_notebook(resources=INLINE)\\n\"+\n",
       "     \"</code>\\n\"+\n",
       "     \"</div>\"}};\n",
       "\n",
       "  function display_loaded() {\n",
       "    var el = document.getElementById(\"6c4e41dc-34f7-4fb0-bd27-ebcfd865cc8f\");\n",
       "    if (el != null) {\n",
       "      el.textContent = \"BokehJS is loading...\";\n",
       "    }\n",
       "    if (root.Bokeh !== undefined) {\n",
       "      if (el != null) {\n",
       "        el.textContent = \"BokehJS \" + root.Bokeh.version + \" successfully loaded.\";\n",
       "      }\n",
       "    } else if (Date.now() < root._bokeh_timeout) {\n",
       "      setTimeout(display_loaded, 100)\n",
       "    }\n",
       "  }\n",
       "\n",
       "\n",
       "  function run_callbacks() {\n",
       "    try {\n",
       "      root._bokeh_onload_callbacks.forEach(function(callback) { callback() });\n",
       "    }\n",
       "    finally {\n",
       "      delete root._bokeh_onload_callbacks\n",
       "    }\n",
       "    console.info(\"Bokeh: all callbacks have finished\");\n",
       "  }\n",
       "\n",
       "  function load_libs(js_urls, callback) {\n",
       "    root._bokeh_onload_callbacks.push(callback);\n",
       "    if (root._bokeh_is_loading > 0) {\n",
       "      console.log(\"Bokeh: BokehJS is being loaded, scheduling callback at\", now());\n",
       "      return null;\n",
       "    }\n",
       "    if (js_urls == null || js_urls.length === 0) {\n",
       "      run_callbacks();\n",
       "      return null;\n",
       "    }\n",
       "    console.log(\"Bokeh: BokehJS not loaded, scheduling load and callback at\", now());\n",
       "    root._bokeh_is_loading = js_urls.length;\n",
       "    for (var i = 0; i < js_urls.length; i++) {\n",
       "      var url = js_urls[i];\n",
       "      var s = document.createElement('script');\n",
       "      s.src = url;\n",
       "      s.async = false;\n",
       "      s.onreadystatechange = s.onload = function() {\n",
       "        root._bokeh_is_loading--;\n",
       "        if (root._bokeh_is_loading === 0) {\n",
       "          console.log(\"Bokeh: all BokehJS libraries loaded\");\n",
       "          run_callbacks()\n",
       "        }\n",
       "      };\n",
       "      s.onerror = function() {\n",
       "        console.warn(\"failed to load library \" + url);\n",
       "      };\n",
       "      console.log(\"Bokeh: injecting script tag for BokehJS library: \", url);\n",
       "      document.getElementsByTagName(\"head\")[0].appendChild(s);\n",
       "    }\n",
       "  };var element = document.getElementById(\"6c4e41dc-34f7-4fb0-bd27-ebcfd865cc8f\");\n",
       "  if (element == null) {\n",
       "    console.log(\"Bokeh: ERROR: autoload.js configured with elementid '6c4e41dc-34f7-4fb0-bd27-ebcfd865cc8f' but no matching script tag was found. \")\n",
       "    return false;\n",
       "  }\n",
       "\n",
       "  var js_urls = [\"https://cdn.pydata.org/bokeh/release/bokeh-0.12.10.min.js\", \"https://cdn.pydata.org/bokeh/release/bokeh-widgets-0.12.10.min.js\", \"https://cdn.pydata.org/bokeh/release/bokeh-tables-0.12.10.min.js\", \"https://cdn.pydata.org/bokeh/release/bokeh-gl-0.12.10.min.js\"];\n",
       "\n",
       "  var inline_js = [\n",
       "    function(Bokeh) {\n",
       "      Bokeh.set_log_level(\"info\");\n",
       "    },\n",
       "    \n",
       "    function(Bokeh) {\n",
       "      \n",
       "    },\n",
       "    function(Bokeh) {\n",
       "      console.log(\"Bokeh: injecting CSS: https://cdn.pydata.org/bokeh/release/bokeh-0.12.10.min.css\");\n",
       "      Bokeh.embed.inject_css(\"https://cdn.pydata.org/bokeh/release/bokeh-0.12.10.min.css\");\n",
       "      console.log(\"Bokeh: injecting CSS: https://cdn.pydata.org/bokeh/release/bokeh-widgets-0.12.10.min.css\");\n",
       "      Bokeh.embed.inject_css(\"https://cdn.pydata.org/bokeh/release/bokeh-widgets-0.12.10.min.css\");\n",
       "      console.log(\"Bokeh: injecting CSS: https://cdn.pydata.org/bokeh/release/bokeh-tables-0.12.10.min.css\");\n",
       "      Bokeh.embed.inject_css(\"https://cdn.pydata.org/bokeh/release/bokeh-tables-0.12.10.min.css\");\n",
       "    }\n",
       "  ];\n",
       "\n",
       "  function run_inline_js() {\n",
       "    \n",
       "    if ((root.Bokeh !== undefined) || (force === true)) {\n",
       "      for (var i = 0; i < inline_js.length; i++) {\n",
       "        inline_js[i].call(root, root.Bokeh);\n",
       "      }if (force === true) {\n",
       "        display_loaded();\n",
       "      }} else if (Date.now() < root._bokeh_timeout) {\n",
       "      setTimeout(run_inline_js, 100);\n",
       "    } else if (!root._bokeh_failed_load) {\n",
       "      console.log(\"Bokeh: BokehJS failed to load within specified timeout.\");\n",
       "      root._bokeh_failed_load = true;\n",
       "    } else if (force !== true) {\n",
       "      var cell = $(document.getElementById(\"6c4e41dc-34f7-4fb0-bd27-ebcfd865cc8f\")).parents('.cell').data().cell;\n",
       "      cell.output_area.append_execute_result(NB_LOAD_WARNING)\n",
       "    }\n",
       "\n",
       "  }\n",
       "\n",
       "  if (root._bokeh_is_loading === 0) {\n",
       "    console.log(\"Bokeh: BokehJS loaded, going straight to plotting\");\n",
       "    run_inline_js();\n",
       "  } else {\n",
       "    load_libs(js_urls, function() {\n",
       "      console.log(\"Bokeh: BokehJS plotting callback run at\", now());\n",
       "      run_inline_js();\n",
       "    });\n",
       "  }\n",
       "}(window));"
      ],
      "application/vnd.bokehjs_load.v0+json": "\n(function(root) {\n  function now() {\n    return new Date();\n  }\n\n  var force = true;\n\n  if (typeof (root._bokeh_onload_callbacks) === \"undefined\" || force === true) {\n    root._bokeh_onload_callbacks = [];\n    root._bokeh_is_loading = undefined;\n  }\n\n  \n\n  \n  if (typeof (root._bokeh_timeout) === \"undefined\" || force === true) {\n    root._bokeh_timeout = Date.now() + 5000;\n    root._bokeh_failed_load = false;\n  }\n\n  var NB_LOAD_WARNING = {'data': {'text/html':\n     \"<div style='background-color: #fdd'>\\n\"+\n     \"<p>\\n\"+\n     \"BokehJS does not appear to have successfully loaded. If loading BokehJS from CDN, this \\n\"+\n     \"may be due to a slow or bad network connection. Possible fixes:\\n\"+\n     \"</p>\\n\"+\n     \"<ul>\\n\"+\n     \"<li>re-rerun `output_notebook()` to attempt to load from CDN again, or</li>\\n\"+\n     \"<li>use INLINE resources instead, as so:</li>\\n\"+\n     \"</ul>\\n\"+\n     \"<code>\\n\"+\n     \"from bokeh.resources import INLINE\\n\"+\n     \"output_notebook(resources=INLINE)\\n\"+\n     \"</code>\\n\"+\n     \"</div>\"}};\n\n  function display_loaded() {\n    var el = document.getElementById(\"6c4e41dc-34f7-4fb0-bd27-ebcfd865cc8f\");\n    if (el != null) {\n      el.textContent = \"BokehJS is loading...\";\n    }\n    if (root.Bokeh !== undefined) {\n      if (el != null) {\n        el.textContent = \"BokehJS \" + root.Bokeh.version + \" successfully loaded.\";\n      }\n    } else if (Date.now() < root._bokeh_timeout) {\n      setTimeout(display_loaded, 100)\n    }\n  }\n\n\n  function run_callbacks() {\n    try {\n      root._bokeh_onload_callbacks.forEach(function(callback) { callback() });\n    }\n    finally {\n      delete root._bokeh_onload_callbacks\n    }\n    console.info(\"Bokeh: all callbacks have finished\");\n  }\n\n  function load_libs(js_urls, callback) {\n    root._bokeh_onload_callbacks.push(callback);\n    if (root._bokeh_is_loading > 0) {\n      console.log(\"Bokeh: BokehJS is being loaded, scheduling callback at\", now());\n      return null;\n    }\n    if (js_urls == null || js_urls.length === 0) {\n      run_callbacks();\n      return null;\n    }\n    console.log(\"Bokeh: BokehJS not loaded, scheduling load and callback at\", now());\n    root._bokeh_is_loading = js_urls.length;\n    for (var i = 0; i < js_urls.length; i++) {\n      var url = js_urls[i];\n      var s = document.createElement('script');\n      s.src = url;\n      s.async = false;\n      s.onreadystatechange = s.onload = function() {\n        root._bokeh_is_loading--;\n        if (root._bokeh_is_loading === 0) {\n          console.log(\"Bokeh: all BokehJS libraries loaded\");\n          run_callbacks()\n        }\n      };\n      s.onerror = function() {\n        console.warn(\"failed to load library \" + url);\n      };\n      console.log(\"Bokeh: injecting script tag for BokehJS library: \", url);\n      document.getElementsByTagName(\"head\")[0].appendChild(s);\n    }\n  };var element = document.getElementById(\"6c4e41dc-34f7-4fb0-bd27-ebcfd865cc8f\");\n  if (element == null) {\n    console.log(\"Bokeh: ERROR: autoload.js configured with elementid '6c4e41dc-34f7-4fb0-bd27-ebcfd865cc8f' but no matching script tag was found. \")\n    return false;\n  }\n\n  var js_urls = [\"https://cdn.pydata.org/bokeh/release/bokeh-0.12.10.min.js\", \"https://cdn.pydata.org/bokeh/release/bokeh-widgets-0.12.10.min.js\", \"https://cdn.pydata.org/bokeh/release/bokeh-tables-0.12.10.min.js\", \"https://cdn.pydata.org/bokeh/release/bokeh-gl-0.12.10.min.js\"];\n\n  var inline_js = [\n    function(Bokeh) {\n      Bokeh.set_log_level(\"info\");\n    },\n    \n    function(Bokeh) {\n      \n    },\n    function(Bokeh) {\n      console.log(\"Bokeh: injecting CSS: https://cdn.pydata.org/bokeh/release/bokeh-0.12.10.min.css\");\n      Bokeh.embed.inject_css(\"https://cdn.pydata.org/bokeh/release/bokeh-0.12.10.min.css\");\n      console.log(\"Bokeh: injecting CSS: https://cdn.pydata.org/bokeh/release/bokeh-widgets-0.12.10.min.css\");\n      Bokeh.embed.inject_css(\"https://cdn.pydata.org/bokeh/release/bokeh-widgets-0.12.10.min.css\");\n      console.log(\"Bokeh: injecting CSS: https://cdn.pydata.org/bokeh/release/bokeh-tables-0.12.10.min.css\");\n      Bokeh.embed.inject_css(\"https://cdn.pydata.org/bokeh/release/bokeh-tables-0.12.10.min.css\");\n    }\n  ];\n\n  function run_inline_js() {\n    \n    if ((root.Bokeh !== undefined) || (force === true)) {\n      for (var i = 0; i < inline_js.length; i++) {\n        inline_js[i].call(root, root.Bokeh);\n      }if (force === true) {\n        display_loaded();\n      }} else if (Date.now() < root._bokeh_timeout) {\n      setTimeout(run_inline_js, 100);\n    } else if (!root._bokeh_failed_load) {\n      console.log(\"Bokeh: BokehJS failed to load within specified timeout.\");\n      root._bokeh_failed_load = true;\n    } else if (force !== true) {\n      var cell = $(document.getElementById(\"6c4e41dc-34f7-4fb0-bd27-ebcfd865cc8f\")).parents('.cell').data().cell;\n      cell.output_area.append_execute_result(NB_LOAD_WARNING)\n    }\n\n  }\n\n  if (root._bokeh_is_loading === 0) {\n    console.log(\"Bokeh: BokehJS loaded, going straight to plotting\");\n    run_inline_js();\n  } else {\n    load_libs(js_urls, function() {\n      console.log(\"Bokeh: BokehJS plotting callback run at\", now());\n      run_inline_js();\n    });\n  }\n}(window));"
     },
     "metadata": {},
     "output_type": "display_data"
    }
   ],
   "source": [
    "from bokeh.models import ColumnDataSource, LabelSet\n",
    "from bokeh.plotting import figure, show, output_file\n",
    "from bokeh.io import output_notebook\n",
    "output_notebook()"
   ]
  },
  {
   "cell_type": "code",
   "execution_count": 6,
   "metadata": {},
   "outputs": [
    {
     "name": "stdout",
     "output_type": "stream",
     "text": [
      "Pasta de entrada:  ..\\..\\_Corpora\\Glossarios_siglarios\n"
     ]
    }
   ],
   "source": [
    "# Iterando os arquivos da pasta atual\n",
    "import os\n",
    "from pathlib import Path\n",
    "import datetime\n",
    "\n",
    "extensao = \"*.txt\"\n",
    "pastaentrada =  os.path.join(\"..\", \"..\", \"_Corpora\", \"Glossarios_siglarios\")\n",
    "pastaSaida = \"ANP\"\n",
    "arquivoSaida = os.path.join(pastaSaida, 'anp_glossarios.txt')\n",
    "arquivoCorpusFinal = os.path.join(pastaSaida, 'anp_glossarios_final.txt')\n",
    "print(\"Pasta de entrada: \", pastaentrada)\n",
    "\n",
    "tokens = 0\n",
    "sentencas_totais = 0\n",
    "\n",
    "# cria a pasta de saida, se nao existir\n",
    "if not os.path.exists(pastaSaida):\n",
    "    os.makedirs(pastaSaida)"
   ]
  },
  {
   "cell_type": "code",
   "execution_count": 7,
   "metadata": {},
   "outputs": [
    {
     "name": "stdout",
     "output_type": "stream",
     "text": [
      "Lendo o arquivo  ..\\..\\_Corpora\\Glossarios_siglarios\\glossario Petrobras.txt\n",
      "Lendo o arquivo  ..\\..\\_Corpora\\Glossarios_siglarios\\glossarioANP.txt\n",
      "Lendo o arquivo  ..\\..\\_Corpora\\Glossarios_siglarios\\siglario.txt\n",
      "Tempo total decorrido:  0:00:00.047000\n"
     ]
    }
   ],
   "source": [
    "momentoInicial = datetime.datetime.now()\n",
    "\n",
    "pastaArquivosCorpus = Path(pastaentrada).glob(extensao)\n",
    "\n",
    "for path in pastaArquivosCorpus:\n",
    "    path_arquivo = str(path) # because path is object not string\n",
    "    print(\"Lendo o arquivo \", path_arquivo)\n",
    "    \n",
    "    texto = ''\n",
    "    with open(path_arquivo, 'r', encoding=\"UTF-8\") as f:\n",
    "        texto = f.read()\n",
    "    \n",
    "    with open(arquivoSaida, 'a', encoding='utf8') as fp:\n",
    "        fp.write('%s' % texto)\n",
    "        \n",
    "momentoFinal = datetime.datetime.now()\n",
    "print(\"Tempo total decorrido: \", momentoFinal - momentoInicial)"
   ]
  },
  {
   "cell_type": "code",
   "execution_count": 8,
   "metadata": {
    "collapsed": true
   },
   "outputs": [],
   "source": [
    "def leTextoDeArquivo(arquivoEntrada):\n",
    "    with open(arquivoEntrada, 'r', encoding=\"UTF-8\") as f:\n",
    "        texto = f.read()\n",
    "        \n",
    "    #print(texto[:200])\n",
    "    return texto"
   ]
  },
  {
   "cell_type": "code",
   "execution_count": 9,
   "metadata": {
    "collapsed": true
   },
   "outputs": [],
   "source": [
    "def gravaArquivo(fileName, texto):\n",
    "    with open(fileName, 'w', encoding='utf8') as fp:\n",
    "        fp.write('%s\\n' % texto)"
   ]
  },
  {
   "cell_type": "code",
   "execution_count": 10,
   "metadata": {
    "collapsed": true
   },
   "outputs": [],
   "source": [
    "def imprime_info_corpus(texto, plot=False):\n",
    "    word_counts = Counter()\n",
    "    tokens_totais = 0\n",
    "    # Tokenize and remove short and malformed sentences.\n",
    "    for sent in texto.split():\n",
    "        #print(sent)\n",
    "        tokens_totais += sent.count(' ') + 1\n",
    "        word_counts[sent] += 1\n",
    "        \n",
    "    print('Total de tokens analisados: ', \"{:,}\".format(tokens_totais))\n",
    "    print('Tamanho do Vocabulário: ', \"{:,}\".format(len(word_counts)))\n",
    "    print(\"\\n\")\n",
    "    print(word_counts.most_common(300))\n",
    "    \n",
    "    most_common = []\n",
    "    for common_word in word_counts.most_common(1000):\n",
    "        most_common.append(common_word[1])\n",
    "\n",
    "    if plot:\n",
    "        hist, edges = np.histogram(most_common, density=True, bins=100, normed=True)\n",
    "\n",
    "        p = figure(tools=\"pan,wheel_zoom,reset,save\",\n",
    "                   toolbar_location=\"above\",\n",
    "                   title=\"Top-1000 words distribution\")\n",
    "        p.quad(top=hist, bottom=0, left=edges[:-1], right=edges[1:], line_color=\"#555555\")\n",
    "        show(p)  "
   ]
  },
  {
   "cell_type": "code",
   "execution_count": 42,
   "metadata": {
    "collapsed": true
   },
   "outputs": [],
   "source": [
    "texto = leTextoDeArquivo(arquivoSaida)"
   ]
  },
  {
   "cell_type": "code",
   "execution_count": 43,
   "metadata": {},
   "outputs": [
    {
     "name": "stdout",
     "output_type": "stream",
     "text": [
      "Total de tokens analisados:  47,470\n",
      "Tamanho do Vocabulário:  12,215\n",
      "\n",
      "\n",
      "[('de', 4660), ('e', 1203), ('a', 754), ('do', 692), ('ou', 602), ('em', 522), ('o', 470), ('(Fonte:', 468), ('que', 465), ('nº', 444), ('da', 443), ('para', 366), ('ANP', 317), ('gás', 293), ('petróleo', 286), ('com', 274), ('Resolução', 265), ('no', 250), ('por', 236), ('na', 206), ('um', 199), ('uma', 166), ('como', 151), ('natural', 148), ('dos', 140), ('é', 138), ('Gás', 138), ('à', 136), ('as', 135), ('ao', 131), ('produção', 131), ('and', 126), ('das', 122), ('of', 119), ('os', 116), ('pela', 112), ('pelo', 104), ('ser', 100), ('não', 99), ('Portaria', 97), ('Ver', 96), ('entre', 88), ('-', 82), ('1,', 82), ('Petróleo', 81), ('se', 78), ('volume', 78), ('Conjunta', 77), ('ANP/Inmetro', 75), ('mais', 72), ('Natural', 70), ('Lei', 70), ('Volume', 65), ('óleo', 63), ('Dicionário', 63), ('poço', 62), ('nas', 62), ('10/6/2013).', 62), ('Poço', 60), ('petróleo,', 58), ('Produção', 56), ('são', 55), ('transporte', 55), ('condições', 54), ('Sistema', 54), ('Pressure', 54), ('O', 53), ('Nacional', 52), ('qual', 51), ('nos', 51), ('natural,', 49), ('Unidade', 49), ('A', 48), ('Óleo', 48), ('língua', 48), ('utilizado', 47), ('Conjunto', 47), ('sua', 45), ('Oil', 45), ('É', 44), ('energia', 44), ('água', 44), ('pressão', 43), ('atividades', 43), ('Brasil', 42), ('derivados', 42), ('combustíveis', 41), ('Port.).', 40), ('combustível', 39), ('medição', 39), ('forma', 38), ('partir', 38), ('Gas', 38), ('(Pressão', 37), ('Associação', 36), ('for', 36), ('portuguesa).', 36), ('área', 35), ('quando', 35), ('também', 35), ('operações', 34), ('11,', 34), ('meio', 33), ('hidrocarbonetos', 33), ('(Brazilian', 33), ('processo', 32), ('outros', 32), ('exploração', 32), ('Safety', 32), ('Brasileira', 31), ('produzido', 31), ('dados', 31), ('Combustível', 31), ('até', 31), ('(Válvula', 31), ('e/ou', 30), ('aos', 30), ('desenvolvimento', 30), ('Ambiental', 30), ('qualquer', 29), ('Dados', 29), ('Área', 29), ('sistema', 29), ('onde', 29), ('sob', 29), ('Brazil).', 29), ('Poço).', 29), ('per', 29), ('System', 29), ('pode', 28), ('cada', 28), ('produtos', 28), ('9.478,', 28), ('Valve', 28), ('instalações', 27), ('sobre', 27), ('seu', 27), ('Controle', 27), ('óleos', 27), ('às', 27), ('Segurança', 27), ('maior', 26), ('seus', 26), ('Ponto', 26), ('durante', 26), ('poços', 25), ('fluidos', 25), ('capacidade', 25), ('destinado', 25), ('processamento', 25), ('jurídica', 25), ('Instalação', 25), ('que,', 25), ('ANP,', 25), ('Drilling', 25), ('American', 24), ('controle', 24), ('valor', 24), ('temperatura', 24), ('uso', 23), ('cuja', 23), ('Reservas', 23), ('the', 23), ('(Port.)', 23), ('(National', 23), ('Control', 23), ('Production', 23), ('perfuração', 22), ('produto', 22), ('Pessoa', 22), ('utilizada', 22), ('Base', 22), ('contrato', 22), ('autorizada', 22), ('sem', 22), ('Decreto', 22), ('natural.', 22), ('atividade', 22), ('padrão', 22), ('17,', 22), ('mistura', 21), ('unidade', 21), ('equipamentos', 21), ('suas', 21), ('in', 21), ('grau', 21), ('empresas', 21), ('Capacidade', 21), ('Transporte', 21), ('Petroleum', 21), ('.', 21), ('Medição', 21), ('Water', 21), ('(Sistema', 21), ('Pressão', 21), ('Produção).', 21), ('Processo', 20), ('recuperação', 20), ('indústria', 20), ('unidades', 20), ('caso', 20), ('pelos', 20), ('produção.', 20), ('Empresa', 20), ('preços', 20), ('termos', 20), ('líquido', 20), ('–', 20), ('6/8/1997).', 20), ('Institute', 19), ('Agência', 19), ('Petróleo,', 19), ('concessão', 19), ('sistemas', 19), ('teor', 19), ('total', 19), ('determinado', 19), ('fase', 19), ('preço', 19), ('Plano', 19), ('Temperature', 19), ('campo', 18), ('quantidade', 18), ('através', 18), ('produção,', 18), ('petróleo.', 18), ('enxofre', 18), ('superior', 18), ('Álcool', 18), ('álcool', 18), ('gasolina', 18), ('base', 18), ('serem', 18), ('podendo', 18), ('referência', 18), ('Desenvolvimento', 18), ('líquida', 18), ('mercado', 18), ('acordo', 18), ('17/2/2011).', 18), ('medição.', 18), ('Pés', 18), ('High', 18), ('Operação', 17), ('ações', 17), ('tem', 17), ('reservatório', 17), ('Líquido', 17), ('contendo', 17), ('jazida', 17), ('bem', 17), ('Society', 17), ('estado', 17), ('Documento', 17), ('parte', 17), ('liquefeito', 17), ('movimentação', 17), ('Etanol', 17), ('Preço', 17), ('Navio', 17), ('Revendedor', 17), ('Art.', 17), ('Serviço', 17), ('Teste', 17), ('Data', 17), ('art.', 17), ('resultado', 16), ('mediante', 16), ('mesmo', 16), ('Instituto', 16), ('superfície', 16), ('Mistura', 16), ('processos', 16), ('diesel', 16), ('menos', 16), ('recursos', 16), ('quantidades', 16), ('campo,', 16), ('outras', 16), ('seja', 16), ('descoberta', 16), ('comercial', 16), ('Índice', 16), ('on', 16), ('conforme', 16), ('condição', 16), ('data', 16), ('Formação', 16), ('Point', 16), ('Association', 16), ('Association).', 16), ('(Environmental', 16), ('Cubic', 16), ('Óleo).', 16), ('Tubing', 16), ('informações', 15), ('natural..', 15), ('navio', 15), ('to', 15), ('Total', 15)]\n"
     ]
    }
   ],
   "source": [
    "imprime_info_corpus(texto)"
   ]
  },
  {
   "cell_type": "markdown",
   "metadata": {},
   "source": [
    "## Eliminando caracteres acentuados\n",
    "\n",
    "Observou-se a ocorrência de muitas palavras com divergência de acentuação (a mesma palavra ocorria escrita com e sem acentos). O agrupamento ajudou a identificar corretamente a grafia de uma mesma palavra."
   ]
  },
  {
   "cell_type": "code",
   "execution_count": 44,
   "metadata": {
    "collapsed": true
   },
   "outputs": [],
   "source": [
    "texto = str(texto.lower())\n",
    "import unicodedata\n",
    "nfkd_form = unicodedata.normalize('NFKD', texto)\n",
    "texto= u\"\".join([c for c in nfkd_form if not unicodedata.combining(c)])\n",
    "#print(\"\\nDepois: \", texto[15000:17000])"
   ]
  },
  {
   "cell_type": "code",
   "execution_count": 45,
   "metadata": {},
   "outputs": [
    {
     "name": "stdout",
     "output_type": "stream",
     "text": [
      "Total de tokens analisados:  47,470\n",
      "Tamanho do Vocabulário:  10,914\n",
      "\n",
      "\n",
      "[('de', 4662), ('e', 1386), ('a', 939), ('no', 709), ('do', 693), ('ou', 603), ('em', 535), ('o', 523), ('gas', 470), ('(fonte:', 468), ('que', 465), ('da', 451), ('para', 374), ('petroleo', 367), ('anp', 317), ('com', 277), ('resolucao', 265), ('por', 246), ('natural', 218), ('na', 208), ('um', 203), ('producao', 187), ('as', 172), ('uma', 170), ('como', 151), ('volume', 143), ('dos', 140), ('ao', 131), ('and', 126), ('os', 123), ('das', 122), ('poco', 122), ('of', 122), ('pela', 112), ('nao', 111), ('oleo', 111), ('pelo', 104), ('ser', 100), ('portaria', 99), ('ver', 98), ('entre', 89), ('sistema', 83), ('-', 82), ('1,', 82), ('se', 80), ('conjunta', 78), ('petroleo,', 77), ('anp/inmetro', 77), ('transporte', 76), ('mais', 74), ('lei', 71), ('sao', 70), ('combustivel', 70), ('unidade', 70), ('area', 66), ('condicoes', 66), ('pressao', 64), ('dicionario', 64), ('nas', 62), ('conjunto', 62), ('10/6/2013).', 62), ('dados', 60), ('medicao', 60), ('nacional', 56), ('agua', 56), ('natural,', 56), ('nos', 55), ('derivados', 55), ('pressure', 54), ('processo', 52), ('energia', 52), ('qual', 51), ('controle', 51), ('combustiveis', 51), ('lingua', 51), ('utilizado', 49), ('desenvolvimento', 48), ('sua', 47), ('quando', 46), ('meio', 46), ('capacidade', 46), ('oil', 46), ('atividades', 45), ('exploracao', 45), ('produtos', 43), ('brasil', 42), ('tambem', 41), ('forma', 40), ('operacoes', 40), ('base', 40), ('port.).', 40), ('partir', 39), ('liquido', 38), ('temperatura', 38), ('ponto', 38), ('poco).', 38), ('portuguesa).', 38), ('qualquer', 37), ('mistura', 37), ('ambiental', 37), ('(pressao', 37), ('associacao', 36), ('produto', 36), ('pode', 36), ('alcool', 36), ('for', 36), ('seguranca', 36), ('preco', 36), ('hidrocarbonetos', 35), ('instalacao', 35), ('oleos', 35), ('industria', 34), ('total', 34), ('art.', 34), ('11,', 34), ('per', 34), ('instalacoes', 33), ('sobre', 33), ('processamento', 33), ('valor', 33), ('empresa', 33), ('data', 33), ('(brazilian', 33), ('campo', 32), ('brasileira', 32), ('navio', 32), ('outros', 32), ('ate', 32), ('safety', 32), ('perfuracao', 31), ('contrato', 31), ('produzido', 31), ('gasolina', 31), ('sob', 31), ('(valvula', 31), ('pocos', 30), ('operacao', 30), ('e/ou', 30), ('aos', 30), ('seu', 30), ('durante', 30), ('formacao', 29), ('onde', 29), ('mercado', 29), ('reservas', 29), ('padrao', 29), ('brazil).', 29), ('system', 29), ('pessoa', 28), ('empresas', 28), ('cada', 28), ('natural.', 28), ('petroleum', 28), ('9.478,', 28), ('valve', 28), ('fluidos', 27), ('quantidade', 27), ('unidades', 27), ('uso', 27), ('aquisicao', 27), ('in', 27), ('grau', 27), ('servico', 27), ('movimentacao', 27), ('juridica', 26), ('fundo', 26), ('maior', 26), ('diesel', 26), ('parte', 26), ('seus', 26), ('fase', 26), ('atividade', 26), ('destinado', 25), ('superior', 25), ('esta', 25), ('equipamentos', 25), ('liquefeito', 25), ('que,', 25), ('indice', 25), ('precos', 25), ('plano', 25), ('anp,', 25), ('drilling', 25), ('american', 24), ('producao,', 24), ('reservatorio', 24), ('recuperacao', 24), ('utilizada', 24), ('etanol', 24), ('referencia', 24), ('sem', 24), ('recursos', 24), ('medidor', 24), ('dispositivo', 23), ('cuja', 23), ('concessao', 23), ('autorizada', 23), ('decreto', 23), ('condicao', 23), ('the', 23), ('(port.)', 23), ('(national', 23), ('control', 23), ('production', 23), ('informacoes', 22), ('tem', 22), ('jazida', 22), ('posto', 22), ('producao.', 22), ('transferencia', 22), ('teste', 22), ('17,', 22), ('injecao', 21), ('petroleo.', 21), ('poder', 21), ('bem', 21), ('caso', 21), ('suas', 21), ('revendedor', 21), ('medida', 21), ('distribuicao', 21), ('pelos', 21), ('teor', 21), ('avaliacao', 21), ('descoberta', 21), ('termos', 21), ('.', 21), ('water', 21), ('(sistema', 21), ('producao).', 21), ('atraves', 20), ('derivado', 20), ('barris', 20), ('sistemas', 20), ('valores', 20), ('programa', 20), ('–', 20), ('6/8/1997).', 20), ('institute', 19), ('agencia', 19), ('enxofre', 19), ('estado', 19), ('inferior', 19), ('vertical', 19), ('determinado', 19), ('qualidade', 19), ('liquida', 19), ('on', 19), ('densidade', 19), ('acordo', 19), ('temperature', 19), ('ambiente', 18), ('normas', 18), ('acoes', 18), ('etilico', 18), ('anidro', 18), ('ciclo', 18), ('bruto', 18), ('processos', 18), ('equivalente', 18), ('documento', 18), ('serem', 18), ('podendo', 18), ('industrial', 18), ('todo', 18), ('armazenamento', 18), ('comercial', 18), ('17/2/2011).', 18), ('medicao.', 18), ('pes', 18), ('high', 18), ('ato', 17), ('instituto', 17), ('fluido', 17), ('linha', 17), ('contendo', 17), ('tanque', 17), ('fluxo', 17), ('society', 17), ('terminal', 17), ('quantidades', 17), ('campo,', 17), ('analise', 17), ('lubrificante', 17), ('(indice', 17), ('local', 17), ('arvore', 17), ('cubic', 17), ('resultado', 16), ('plataforma', 16), ('mediante', 16), ('mesmo', 16), ('natural..', 16), ('obtencao', 16), ('superficie', 16), ('destilacao', 16), ('termo', 16), ('menos', 16), ('servicos', 16), ('transportador', 16)]\n"
     ]
    }
   ],
   "source": [
    "imprime_info_corpus(texto)"
   ]
  },
  {
   "cell_type": "code",
   "execution_count": 46,
   "metadata": {
    "collapsed": true
   },
   "outputs": [],
   "source": [
    "#texto_sem_pontuacao = texto_sem_acentos.replace('[\"#%\\'()*+,-/:;<=>?@\\[\\]^_`{|}~1234567890’”“′‘\\\\\\]', ' ')\n",
    "\n",
    "# primeiro, adicionando espaços aos caracteres de pontuacao\n",
    "import re\n",
    "texto = re.sub('([.,!?()/])', r' \\1 ', texto)\n",
    "texto = re.sub('\\s{2,}', ' ', texto)"
   ]
  },
  {
   "cell_type": "code",
   "execution_count": 47,
   "metadata": {
    "collapsed": true
   },
   "outputs": [],
   "source": [
    "#retirando os caracteres de pontuação e numeros (mantendo apenas os caracteres de ponto, final de sentença)\n",
    "pontuacao = '[\"#%\\'()*+,-/:;<=>?@\\[\\]^_`{|}~1234567890’”“′‘\\\\\\•]'\n",
    "texto = ''.join([c for c in texto if c not in pontuacao])"
   ]
  },
  {
   "cell_type": "code",
   "execution_count": 48,
   "metadata": {},
   "outputs": [
    {
     "name": "stdout",
     "output_type": "stream",
     "text": [
      "Total de tokens analisados:  50,599\n",
      "Tamanho do Vocabulário:  7,534\n",
      "\n",
      "\n",
      "[('de', 4664), ('.', 4179), ('e', 1428), ('a', 961), ('no', 709), ('do', 693), ('ou', 648), ('o', 563), ('em', 542), ('gas', 541), ('petroleo', 504), ('que', 491), ('fonte', 484), ('da', 451), ('anp', 442), ('para', 377), ('natural', 330), ('producao', 283), ('com', 278), ('resolucao', 272), ('por', 248), ('na', 209), ('um', 206), ('poco', 199), ('as', 172), ('uma', 170), ('como', 156), ('volume', 155), ('oleo', 152), ('dos', 140), ('ao', 131), ('and', 126), ('os', 125), ('of', 124), ('das', 122), ('pressao', 120), ('nao', 119), ('pela', 112), ('sistema', 106), ('ver', 105), ('pelo', 104), ('ser', 101), ('transporte', 101), ('portaria', 101), ('combustivel', 100), ('medicao', 93), ('entre', 89), ('unidade', 89), ('inmetro', 89), ('agua', 85), ('se', 81), ('area', 80), ('conjunta', 78), ('lei', 77), ('mais', 74), ('combustiveis', 74), ('derivados', 74), ('port', 74), ('nacional', 71), ('sao', 70), ('dados', 70), ('condicoes', 68), ('conjunto', 68), ('exploracao', 68), ('energia', 66), ('perfuracao', 65), ('dicionario', 65), ('pressure', 63), ('processo', 62), ('nas', 62), ('oil', 61), ('temperatura', 60), ('campo', 58), ('brasil', 57), ('desenvolvimento', 57), ('nos', 55), ('controle', 55), ('produtos', 53), ('portuguesa', 53), ('quando', 52), ('liquido', 52), ('qual', 51), ('lingua', 51), ('utilizado', 50), ('reservatorio', 50), ('seguranca', 50), ('base', 49), ('sua', 49), ('ponto', 49), ('operacao', 47), ('meio', 47), ('capacidade', 47), ('concessao', 46), ('atividades', 46), ('forma', 45), ('tambem', 45), ('hidrocarbonetos', 45), ('total', 45), ('system', 44), ('ambiental', 44), ('associacao', 43), ('contrato', 43), ('produto', 43), ('diesel', 43), ('indice', 43), ('gasolina', 42), ('instalacao', 42), ('operacoes', 41), ('alcool', 41), ('navio', 41), ('formacao', 40), ('processamento', 40), ('mistura', 40), ('pocos', 39), ('partir', 39), ('mercado', 39), ('instalacoes', 38), ('qualquer', 38), ('produzido', 37), ('industria', 37), ('transferencia', 37), ('preco', 37), ('data', 37), ('padrao', 37), ('valvula', 37), ('fluidos', 36), ('fundo', 36), ('pode', 36), ('for', 36), ('superficie', 36), ('valor', 36), ('empresa', 36), ('art', 36), ('oleos', 35), ('production', 35), ('brazilian', 35), ('brasileira', 34), ('sobre', 34), ('brazil', 34), ('teste', 34), ('association', 34), ('per', 34), ('aquisicao', 33), ('outros', 33), ('safety', 33), ('equipamentos', 32), ('ate', 32), ('comercial', 32), ('reservas', 32), ('valve', 32), ('api', 31), ('empresas', 31), ('sob', 31), ('barris', 31), ('dia', 31), ('movimentacao', 31), ('petroleum', 31), ('profundidade', 30), ('etanol', 30), ('uso', 30), ('industrial', 30), ('aos', 30), ('juridica', 30), ('seu', 30), ('fluxo', 30), ('caso', 30), ('servico', 30), ('qualidade', 30), ('avaliacao', 30), ('durante', 30), ('plano', 30), ('recuperacao', 29), ('onde', 29), ('biodiesel', 29), ('atividade', 29), ('medidor', 29), ('environmental', 29), ('unidades', 28), ('pessoa', 28), ('maior', 28), ('cada', 28), ('parte', 28), ('grau', 28), ('water', 28), ('liquefeito', 28), ('densidade', 28), ('ambiente', 27), ('national', 27), ('quantidade', 27), ('enxofre', 27), ('jazida', 27), ('distribuicao', 27), ('in', 27), ('referencia', 27), ('vertical', 27), ('fase', 27), ('precos', 27), ('plataforma', 26), ('fluido', 26), ('informacoes', 26), ('biocombustiveis', 26), ('superior', 26), ('mar', 26), ('glp', 26), ('seus', 26), ('descoberta', 26), ('analise', 26), ('american', 25), ('embarcacao', 25), ('destinado', 25), ('utilizada', 25), ('esta', 25), ('tempo', 25), ('sem', 25), ('aviacao', 25), ('cubicos', 25), ('drilling', 25), ('bruto', 24), ('injecao', 24), ('dispositivo', 24), ('tanque', 24), ('sistemas', 24), ('autorizada', 24), ('decreto', 24), ('recursos', 24), ('concessionario', 24), ('liquida', 24), ('razao', 24), ('arvore', 24), ('control', 24), ('tem', 23), ('cuja', 23), ('bem', 23), ('medida', 23), ('equivalente', 23), ('programa', 23), ('condicao', 23), ('the', 23), ('local', 23), ('ratio', 23), ('agencia', 22), ('derivado', 22), ('posto', 22), ('revendedor', 22), ('terminal', 22), ('carbono', 22), ('leves', 22), ('projeto', 22), ('liquidos', 22), ('internacional', 22), ('s', 22), ('instituto', 21), ('linha', 21), ('poder', 21), ('etilico', 21), ('suas', 21), ('pelos', 21), ('teor', 21), ('relacao', 21), ('servicos', 21), ('condensado', 21), ('armazenamento', 21), ('dutos', 21), ('seja', 21), ('termos', 21), ('valores', 21), ('barrels', 21), ('pes', 21), ('institute', 20), ('atraves', 20), ('acoes', 20), ('anidro', 20), ('estado', 20), ('inferior', 20), ('determinado', 20), ('transportador', 20), ('comercializacao', 20), ('alta', 20), ('hidrocarboneto', 20), ('estocagem', 20), ('acordo', 20), ('–', 20), ('temperature', 20), ('nivel', 19), ('destilacao', 19), ('engenharia', 19), ('custos', 19), ('processos', 19), ('documento', 19), ('unit', 19), ('periodo', 19), ('nafta', 19), ('vapor', 19), ('coluna', 19), ('on', 19), ('lubrificante', 19), ('riser', 19), ('calibracao', 19), ('point', 19), ('depth', 19)]\n"
     ]
    }
   ],
   "source": [
    "imprime_info_corpus(texto)"
   ]
  },
  {
   "cell_type": "markdown",
   "metadata": {},
   "source": [
    "# retirar caracteres unicos e stopwords\n",
    "\n",
    "### Eliminação de stopwords e palavras incorretas do vocabulário\n",
    "\n",
    "Em estudos anteriores, observou-se a presença preponderante de um conjunto de palavras incorretas no vocabulário mais comum, potencialmente resultantes de incorreções no processo de extração de PDF para texto.\n",
    "Neste trecho, define-se uma lista contendo todas essas palavras incorretas, palavras de um único caractere, e stopwords dos idiomas português, inglês e espanhol. Observou-se que o histograma de distribuição do vocabulário comportou-se melhor após este processamento."
   ]
  },
  {
   "cell_type": "code",
   "execution_count": 49,
   "metadata": {},
   "outputs": [
    {
     "name": "stdout",
     "output_type": "stream",
     "text": [
      "Palavras a serem ignoradas do vocabulario {'tengan', 'estuviste', 'tendréis', 'estando', 'habíamos', 'seu', 'tuas', 'hayas', 'sem', 'what', 'él', 'terei', 'você', 'ours', 'haya', 'estabais', 'teníais', \"weren't\", 'about', 'hubieran', 'minhas', 'del', 'tinham', 'ela', 'tuvisteis', 'haja', 'itself', 'ya', 'isn', 'houvéramos', 'seremos', 'hubieses', 'houvéssemos', 'tuvieseis', 'estemos', 'p', 'or', 'pelas', 'teníamos', 'nuestras', 'hayáis', 'uma', 'seriam', \"hasn't\", 'estuviese', 'foram', \"didn't\", 'esse', 'these', 'most', 'were', 'fuera', 'not', 'tengáis', \"don't\", 'fueras', 'h', 'uno', 'a', 'sentid', 'houverei', 'depois', 'tendrías', 'todos', 'serán', \"aren't\", 'otras', 'el', 'ao', 'he', 'hay', 'which', 'hasta', 'been', 'all', 'um', 'tanto', 'mía', 'estivesse', 'will', 'mustn', 'estivermos', 'tenho', 'through', 'estava', 'tivemos', 'doing', 'lo', 'habido', 'teus', 'forem', 'estará', 'fora', 'have', 'fôramos', 'by', 'algunos', 'ourselves', 'estivemos', 'estiveram', 'l', 'why', 'sea', 'needn', 'tuvieras', 'estiver', 'por', 'ha', 'tiveram', 'essas', 'further', 'tive', 'habrá', 'estiverem', 'habríais', 'tenidos', 'myself', 'as', 's', 'wasn', 'vosostros', \"that'll\", 'aren', 'quem', 'nós', 'sin', 'once', 'fuéramos', 'tenha', 'suas', 'entre', 'já', 'le', 'serás', 'una', 'shouldn', 'this', 'soy', \"needn't\", 'hão', 'houver', 'hayamos', 'erais', 'fueron', \"you're\", 'estaréis', 'haven', 'has', 'mais', \"wouldn't\", 'sua', 'otra', 'habría', 'para', 'havemos', 'until', 'ese', 'o', 'em', 'muy', 'tus', 'nos', 'estuviesen', 'than', 'yourself', 'tenhamos', 'es', 'j', 'z', 'tenían', 'fuésemos', 'x', 'serías', 'habremos', 'those', 'hubiesen', 'habidas', 'les', 'hubiste', 'himself', 'nuestro', 'tuyas', 'll', 'tiene', 'estaríamos', 'estaré', 'muito', 'isto', \"shan't\", 'its', 'fuesen', 'hubieron', 'fueran', 'vocês', 'mucho', 'for', 'seamos', 'esteve', 'terão', 'estuviéramos', 'tenemos', 'estão', 'não', 'you', 'the', 'cuando', 'mí', 'estou', 'estive', 'sus', 'tenías', 'estejam', 'him', 'nosotras', 'houvera', 'han', 'nuestros', 'tendríais', 'teu', 'vuestros', 'algunas', 'teniendo', 'estavam', 'estuvierais', 'teríamos', 'la', 'tuyos', \"wasn't\", \"doesn't\", 'tiverem', 'siente', 'nas', 'estás', 'estarán', 'against', 'her', 'estuvieran', '\\x05', 'while', 'unos', 'estar', 'habrías', 'também', 'our', 'tengamos', 'donde', 'todo', 'now', 'estas', 'estejamos', 'yourselves', 'tinha', 'serão', 'm', 'otro', 'tuya', 'g', 'estuviésemos', 'f', 'houveriam', 'should', 'eu', 'because', 'estadas', 'tengas', 'tengo', 'do', 'fueseis', 'un', 'houvessem', 'them', 'houverá', 'habré', 'fue', 'c', 'contra', 'only', 'an', 'estábamos', 'las', 'tuvieran', 'estivéramos', 'estado', 'both', 'fueses', 'otros', 'mesmo', 'ellos', 'esses', 'esas', 'seríais', 'estuve', 'n', 'esto', 'hubisteis', 'aquela', 'estarás', 'estivera', 'iii', 'hemos', 'ch', 'sentidos', 'too', 'e', 'aquele', 'estuvo', 'herself', 'tuviésemos', 'hubiera', 'estarían', 'esos', 'themselves', 'suya', 'under', 'yours', 'ellas', 'meus', 'serei', 'tivessem', 'estaba', 'quien', 'with', 'estuvieron', 'in', 'habida', 'each', 'houveram', 'temos', 'couldn', 'qué', 'tened', 'tú', 'dos', 'she', \"mustn't\", 'estuvisteis', 'mías', 'seáis', 'suyo', 'cual', 'esa', 'hube', 'quienes', 'after', 'tuviesen', 'and', 'here', 'habrán', 'tiver', \"isn't\", 'tu', 'tem', 'be', 'às', 'aquelas', \"mightn't\", 'estaremos', 'tivéssemos', 'aquilo', 'tenham', 'they', 'ni', 'formos', 't', \"shouldn't\", 'then', \"you've\", 'off', 'tínhamos', 'mis', 'fuese', 'serían', 'didn', '&', 'ti', 'hasn', 'if', 'but', 'poco', 'estuvieseis', '•', 'q', 'minha', 'weren', 'nosotros', 'aos', 'estés', 'houverão', 'nada', 'no', 'habían', 'habiendo', 'seréis', 'como', 'tuviera', 'são', 'to', 'nosso', 'r', 'hubieras', 'tém', 'eram', 'tivermos', 'et', 'during', 'está', 'i', 'ou', 'pelos', 'habéis', 'doesn', 'estuvimos', 'su', 'estabas', 'tendrían', 'ain', 'can', 'elas', 'están', 'tendrán', 'só', 'estuviera', 'com', 'habías', 'tuvierais', 'hubiésemos', 'te', \"should've\", \"couldn't\", 'na', 'con', 'between', 'nossos', 'muchos', 'from', 'teremos', 'u', 'sois', 'tenidas', 'whom', 'tendríamos', 'al', 'hubimos', 'habidos', 'nossa', 'numa', 'houverem', 'w', 'houveria', 'seré', 'ante', 'aqueles', 've', 'being', 'teria', 'nuestra', 'tuviste', 'of', 'algo', 'tuvo', 'am', 'estivessem', 'porque', 'that', 'sentida', 'theirs', 'into', 'pelo', 'his', 'houveremos', 'fuisteis', \"won't\", 'até', 'seria', 'some', 'such', 'fomos', 'fuimos', 'fuerais', 'tivera', 'hers', 'seríamos', 'estaría', 'ii', 'tienes', 'desde', 'à', 'vosostras', 'tenida', \"you'd\", 'estaban', 'esteja', 'estaríais', 'suyos', 'tendrás', 'sobre', 'míos', 'their', 'tienen', 'hubiéramos', 'tivéramos', 'fui', 'los', 'lhe', 'estados', 'suyas', 'teriam', 'durante', 'que', 'estuvieras', 'your', 'os', 'tuyo', 'pela', 'seas', 'tivesse', 'fuiste', 'sean', 'tendré', 'era', 'tuvieron', 'other', '–', 'eras', 'tenéis', 'dele', 'more', 'few', 'my', 'nossas', 'hajamos', 'num', 'eso', 'very', 'hadn', 'tendremos', 'just', 'sejam', 'tuve', 'houvemos', 'este', 'vuestras', 'habrían', 'so', 'vuestra', 'meu', 'habríamos', 'había', 'tendrá', 'again', 'estamos', 'fossem', 'mightn', 'essa', 'are', \"hadn't\", 'tendría', \"you'll\", 'above', 'hajam', 'won', 'wouldn', 'houvesse', 'tenido', 'there', 'se', 'sejamos', 'we', 'did', 'también', 'estuvieses', 'sintiendo', 'quando', 'estada', 'habíais', 'nem', 'somos', 'tuviéramos', 'será', 'when', 'sentido', 'mas', 'y', 'how', 'it', 'me', 'fôssemos', 'houvermos', 'sí', 'vuestro', 'on', 'en', 'seja', 'yo', 'más', 'deles', 'habrás', 'das', 'having', 'tuviese', 'habréis', 'tenía', 'hubo', 'mío', 'any', 'hei', 'seus', 'terá', 'houve', 'shan', 'before', 'd', 'estarías', 'da', 'estivéssemos', 'antes', 'qual', 'sou', 'tenga', 'ma', 'vos', 'sentidas', 'tuvimos', 'éramos', 'does', 'k', 'own', 'estes', \"she's\", 'estávamos', 'is', 'houveríamos', 'estéis', 'nor', 'fosse', 'esté', \"haven't\", 'pero', 'estén', 'hayan', 'tuvieses', 'teve', 'hubiese', 'estáis', 'eres', 'foi', 'hubierais', '°', 'b', 'lhes', 'up', 'who', 'delas', 'son', 'had', 'same', 'ella', 'estad', 'estos', 'don', 'v', 'eran', 're', 'sería', 'hubieseis', 'below', 'over', 'mi', 'eles', 'estoy', 'isso', 'dela', \"it's\", 'ele', 'down', 'was', 'out', 'where', 'at', 'tua', 'esta', 'de', 'há'}\n"
     ]
    }
   ],
   "source": [
    "from nltk.corpus import stopwords # Import the stop word list\n",
    "from string import ascii_lowercase\n",
    "#nltk.download('stopwords')\n",
    "\n",
    "# Mapeando stopwords com NLTK\n",
    "stopwordsPortugues = stopwords.words(\"portuguese\")\n",
    "stopwordsIngles = stopwords.words(\"english\")\n",
    "stopwordsEspanhol = stopwords.words(\"spanish\")\n",
    "caracteres_unicos = [c for c in ascii_lowercase ]\n",
    "\n",
    "# em estudo anterior, obtivemos o conjunto das palavras mais comuns, onde se observam algumas palavras incorretas\n",
    "# resultantes do processo de extração do arquivo PDF. Estas palavras serão incluídas no vocabulário a ser ignorado\n",
    "# no corpus final.\n",
    "# Objetiva-se incrementar esta lista conforme novas palavras são observadas, à medida em que novos arquivos são\n",
    "# acrescentados ao corpus\n",
    "palavrasIncorretasComuns = ['&', 'ch', 'et', 'at', 'ii','iii', '\\x05', '•', '–', '°']\n",
    "\n",
    "# mais rapido buscar set do que list\n",
    "vocabulario_palavras_ignoradas = set(stopwordsPortugues + \n",
    "                                     stopwordsIngles + \n",
    "                                     stopwordsEspanhol + \n",
    "                                     caracteres_unicos + \n",
    "                                     palavrasIncorretasComuns)\n",
    "\n",
    "print(\"Palavras a serem ignoradas do vocabulario\", vocabulario_palavras_ignoradas)"
   ]
  },
  {
   "cell_type": "code",
   "execution_count": 50,
   "metadata": {
    "collapsed": true
   },
   "outputs": [],
   "source": [
    "sentenca_sem_stopwords = [w for w in texto.split() if not w in vocabulario_palavras_ignoradas]\n",
    "texto = \" \".join( sentenca_sem_stopwords ) "
   ]
  },
  {
   "cell_type": "code",
   "execution_count": 51,
   "metadata": {},
   "outputs": [
    {
     "name": "stdout",
     "output_type": "stream",
     "text": [
      "Total de tokens analisados:  34,935\n",
      "Tamanho do Vocabulário:  7,366\n",
      "\n",
      "\n",
      "[('.', 4179), ('gas', 541), ('petroleo', 504), ('fonte', 484), ('anp', 442), ('natural', 330), ('producao', 283), ('resolucao', 272), ('volume', 155), ('oleo', 152), ('pressao', 120), ('nao', 119), ('sistema', 106), ('ver', 105), ('ser', 101), ('transporte', 101), ('portaria', 101), ('combustivel', 100), ('medicao', 93), ('unidade', 89), ('inmetro', 89), ('agua', 85), ('area', 80), ('conjunta', 78), ('lei', 77), ('combustiveis', 74), ('derivados', 74), ('port', 74), ('nacional', 71), ('sao', 70), ('dados', 70), ('condicoes', 68), ('conjunto', 68), ('exploracao', 68), ('energia', 66), ('perfuracao', 65), ('dicionario', 65), ('pressure', 63), ('processo', 62), ('oil', 61), ('temperatura', 60), ('campo', 58), ('brasil', 57), ('desenvolvimento', 57), ('controle', 55), ('produtos', 53), ('portuguesa', 53), ('liquido', 52), ('lingua', 51), ('utilizado', 50), ('reservatorio', 50), ('seguranca', 50), ('base', 49), ('ponto', 49), ('operacao', 47), ('meio', 47), ('capacidade', 47), ('concessao', 46), ('atividades', 46), ('forma', 45), ('tambem', 45), ('hidrocarbonetos', 45), ('total', 45), ('system', 44), ('ambiental', 44), ('associacao', 43), ('contrato', 43), ('produto', 43), ('diesel', 43), ('indice', 43), ('gasolina', 42), ('instalacao', 42), ('operacoes', 41), ('alcool', 41), ('navio', 41), ('formacao', 40), ('processamento', 40), ('mistura', 40), ('pocos', 39), ('partir', 39), ('mercado', 39), ('instalacoes', 38), ('qualquer', 38), ('produzido', 37), ('industria', 37), ('transferencia', 37), ('preco', 37), ('data', 37), ('padrao', 37), ('valvula', 37), ('fluidos', 36), ('fundo', 36), ('pode', 36), ('superficie', 36), ('valor', 36), ('empresa', 36), ('art', 36), ('oleos', 35), ('production', 35), ('brazilian', 35), ('brasileira', 34), ('brazil', 34), ('teste', 34), ('association', 34), ('per', 34), ('aquisicao', 33), ('outros', 33), ('safety', 33), ('equipamentos', 32), ('ate', 32), ('comercial', 32), ('reservas', 32), ('valve', 32), ('api', 31), ('empresas', 31), ('sob', 31), ('barris', 31), ('dia', 31), ('movimentacao', 31), ('petroleum', 31), ('profundidade', 30), ('etanol', 30), ('uso', 30), ('industrial', 30), ('juridica', 30), ('fluxo', 30), ('caso', 30), ('servico', 30), ('qualidade', 30), ('avaliacao', 30), ('plano', 30), ('recuperacao', 29), ('onde', 29), ('biodiesel', 29), ('atividade', 29), ('medidor', 29), ('environmental', 29), ('unidades', 28), ('pessoa', 28), ('maior', 28), ('cada', 28), ('parte', 28), ('grau', 28), ('water', 28), ('liquefeito', 28), ('densidade', 28), ('ambiente', 27), ('national', 27), ('quantidade', 27), ('enxofre', 27), ('jazida', 27), ('distribuicao', 27), ('referencia', 27), ('vertical', 27), ('fase', 27), ('precos', 27), ('plataforma', 26), ('fluido', 26), ('informacoes', 26), ('biocombustiveis', 26), ('superior', 26), ('mar', 26), ('glp', 26), ('descoberta', 26), ('analise', 26), ('american', 25), ('embarcacao', 25), ('destinado', 25), ('utilizada', 25), ('tempo', 25), ('aviacao', 25), ('cubicos', 25), ('drilling', 25), ('bruto', 24), ('injecao', 24), ('dispositivo', 24), ('tanque', 24), ('sistemas', 24), ('autorizada', 24), ('decreto', 24), ('recursos', 24), ('concessionario', 24), ('liquida', 24), ('razao', 24), ('arvore', 24), ('control', 24), ('cuja', 23), ('bem', 23), ('medida', 23), ('equivalente', 23), ('programa', 23), ('condicao', 23), ('local', 23), ('ratio', 23), ('agencia', 22), ('derivado', 22), ('posto', 22), ('revendedor', 22), ('terminal', 22), ('carbono', 22), ('leves', 22), ('projeto', 22), ('liquidos', 22), ('internacional', 22), ('instituto', 21), ('linha', 21), ('poder', 21), ('etilico', 21), ('teor', 21), ('relacao', 21), ('servicos', 21), ('condensado', 21), ('armazenamento', 21), ('dutos', 21), ('termos', 21), ('valores', 21), ('barrels', 21), ('pes', 21), ('institute', 20), ('atraves', 20), ('acoes', 20), ('anidro', 20), ('inferior', 20), ('determinado', 20), ('transportador', 20), ('comercializacao', 20), ('alta', 20), ('hidrocarboneto', 20), ('estocagem', 20), ('acordo', 20), ('temperature', 20), ('nivel', 19), ('destilacao', 19), ('engenharia', 19), ('custos', 19), ('processos', 19), ('documento', 19), ('unit', 19), ('periodo', 19), ('nafta', 19), ('vapor', 19), ('coluna', 19), ('lubrificante', 19), ('riser', 19), ('calibracao', 19), ('point', 19), ('depth', 19), ('retorno', 18), ('normas', 18), ('pais', 18), ('eletrica', 18), ('mil', 18), ('aguas', 18), ('ciclo', 18), ('contendo', 18), ('operacional', 18), ('refino', 18), ('serem', 18), ('podendo', 18), ('outras', 18), ('venda', 18), ('separacao', 18), ('limite', 18), ('index', 18), ('vazao', 18), ('livre', 18), ('gnl', 18), ('sociedade', 18), ('tree', 18), ('day', 18), ('high', 18), ('abandono', 17), ('ato', 17), ('tecnicas', 17), ('material', 17), ('produzidos', 17), ('society', 17), ('refinarias', 17), ('tecnica', 17), ('termo', 17), ('menos', 17), ('reservatorios', 17), ('petroquimica', 17), ('construcao', 17), ('quantidades', 17), ('pesados', 17), ('viscosidade', 17), ('fator', 17), ('international', 17), ('risco', 17), ('campos', 17), ('revenda', 17), ('distribuidor', 17), ('test', 17), ('natal', 17), ('cubic', 17), ('resultado', 16), ('mediante', 16), ('utilizados', 16), ('obtencao', 16)]\n"
     ]
    }
   ],
   "source": [
    "imprime_info_corpus(texto)"
   ]
  },
  {
   "cell_type": "markdown",
   "metadata": {},
   "source": [
    "## Existe a preponderância de muitas palavras raras no vocabulário, dominando a distribuição\n",
    "\n",
    "Eliminando a ocorrência de palavras raras, que ocorram com menor frequência, reduzindo assim o vocabulário apenas às palaras mais relevantes. Normalmente estas palavras se referem a erros de grafia ou da extração dos PDFs para texto."
   ]
  },
  {
   "cell_type": "code",
   "execution_count": 52,
   "metadata": {
    "collapsed": true
   },
   "outputs": [],
   "source": [
    "word_counts = Counter(texto.split())"
   ]
  },
  {
   "cell_type": "code",
   "execution_count": 53,
   "metadata": {},
   "outputs": [
    {
     "name": "stdout",
     "output_type": "stream",
     "text": [
      "abandono area . ato retirar forma ordenada todas pessoas area interna afetada emergencia . . processo constituido abandono pocos desativacao instalacoes area concessao . . abandono campo processo compreende abandono pocos desativacao alienacao reversao todas instalacoes producao . . abandono processo resultado processo tamponado evitar migracao fluidos varias formacoes penetradas furo . ocorre considerado subcomercial seco . . abandono permanente abandono ocorre nao interesse retorno continuidade operacoes . . abandono temporario abandono interesse retorno continuidade operacoes . . abissal relativo profundidades oceanicas alem limites plataforma continental geral . metros . comumente referido ambiente fundo . . abnt associacao brasileira normas tecnicas . instituto nacional padronizacao . correspondente eua american national standards institute ansi . . acidificacao aplicacao acido paredes pocos gas oleo remover qualquer material obstrua entrada fluido . utilizado formacoes carbonatic\n"
     ]
    }
   ],
   "source": [
    "print(texto[:1000])"
   ]
  },
  {
   "cell_type": "code",
   "execution_count": 54,
   "metadata": {
    "collapsed": true
   },
   "outputs": [],
   "source": [
    "#threshold_palavras_raras = 2 # palavras que ocorram 2 ou menos vezes serão eliminadas\n",
    "\n",
    "#sentenca_sem_palavras_raras = [w for w in texto.split() if word_counts[w] > threshold_palavras_raras]\n",
    "#texto = \" \".join( sentenca_sem_palavras_raras ) "
   ]
  },
  {
   "cell_type": "code",
   "execution_count": 55,
   "metadata": {},
   "outputs": [],
   "source": [
    "#imprime_info_corpus(texto)"
   ]
  },
  {
   "cell_type": "markdown",
   "metadata": {},
   "source": [
    "## Unificando as quebras de linhas, refazendo as sentenças.\n",
    "Obervou-se a ocorrencia de muitas quebras de linhas desnecessárias, produto de erros na extração do PDF. As quebras de linha serão todas eliminadas, e posteriormente refeitas considerando o caractere de ponto como final de sentença e quebra de linha."
   ]
  },
  {
   "cell_type": "code",
   "execution_count": 56,
   "metadata": {
    "collapsed": true
   },
   "outputs": [],
   "source": [
    "texto = texto.replace('\\n', ' ').replace('\\r', '').replace('?','.').replace('!','.')"
   ]
  },
  {
   "cell_type": "code",
   "execution_count": 57,
   "metadata": {
    "collapsed": true
   },
   "outputs": [],
   "source": [
    "lista_com_quebra_de_linha = texto.split('.')\n",
    "texto = \"\\n\".join( lista_com_quebra_de_linha ) "
   ]
  },
  {
   "cell_type": "code",
   "execution_count": 58,
   "metadata": {},
   "outputs": [
    {
     "name": "stdout",
     "output_type": "stream",
     "text": [
      "Total de tokens analisados:  30,756\n",
      "Tamanho do Vocabulário:  7,365\n",
      "\n",
      "\n",
      "[('gas', 541), ('petroleo', 504), ('fonte', 484), ('anp', 442), ('natural', 330), ('producao', 283), ('resolucao', 272), ('volume', 155), ('oleo', 152), ('pressao', 120), ('nao', 119), ('sistema', 106), ('ver', 105), ('ser', 101), ('transporte', 101), ('portaria', 101), ('combustivel', 100), ('medicao', 93), ('unidade', 89), ('inmetro', 89), ('agua', 85), ('area', 80), ('conjunta', 78), ('lei', 77), ('combustiveis', 74), ('derivados', 74), ('port', 74), ('nacional', 71), ('sao', 70), ('dados', 70), ('condicoes', 68), ('conjunto', 68), ('exploracao', 68), ('energia', 66), ('perfuracao', 65), ('dicionario', 65), ('pressure', 63), ('processo', 62), ('oil', 61), ('temperatura', 60), ('campo', 58), ('brasil', 57), ('desenvolvimento', 57), ('controle', 55), ('produtos', 53), ('portuguesa', 53), ('liquido', 52), ('lingua', 51), ('utilizado', 50), ('reservatorio', 50), ('seguranca', 50), ('base', 49), ('ponto', 49), ('operacao', 47), ('meio', 47), ('capacidade', 47), ('concessao', 46), ('atividades', 46), ('forma', 45), ('tambem', 45), ('hidrocarbonetos', 45), ('total', 45), ('system', 44), ('ambiental', 44), ('associacao', 43), ('contrato', 43), ('produto', 43), ('diesel', 43), ('indice', 43), ('gasolina', 42), ('instalacao', 42), ('operacoes', 41), ('alcool', 41), ('navio', 41), ('formacao', 40), ('processamento', 40), ('mistura', 40), ('pocos', 39), ('partir', 39), ('mercado', 39), ('instalacoes', 38), ('qualquer', 38), ('produzido', 37), ('industria', 37), ('transferencia', 37), ('preco', 37), ('data', 37), ('padrao', 37), ('valvula', 37), ('fluidos', 36), ('fundo', 36), ('pode', 36), ('superficie', 36), ('valor', 36), ('empresa', 36), ('art', 36), ('oleos', 35), ('production', 35), ('brazilian', 35), ('brasileira', 34), ('brazil', 34), ('teste', 34), ('association', 34), ('per', 34), ('aquisicao', 33), ('outros', 33), ('safety', 33), ('equipamentos', 32), ('ate', 32), ('comercial', 32), ('reservas', 32), ('valve', 32), ('api', 31), ('empresas', 31), ('sob', 31), ('barris', 31), ('dia', 31), ('movimentacao', 31), ('petroleum', 31), ('profundidade', 30), ('etanol', 30), ('uso', 30), ('industrial', 30), ('juridica', 30), ('fluxo', 30), ('caso', 30), ('servico', 30), ('qualidade', 30), ('avaliacao', 30), ('plano', 30), ('recuperacao', 29), ('onde', 29), ('biodiesel', 29), ('atividade', 29), ('medidor', 29), ('environmental', 29), ('unidades', 28), ('pessoa', 28), ('maior', 28), ('cada', 28), ('parte', 28), ('grau', 28), ('water', 28), ('liquefeito', 28), ('densidade', 28), ('ambiente', 27), ('national', 27), ('quantidade', 27), ('enxofre', 27), ('jazida', 27), ('distribuicao', 27), ('referencia', 27), ('vertical', 27), ('fase', 27), ('precos', 27), ('plataforma', 26), ('fluido', 26), ('informacoes', 26), ('biocombustiveis', 26), ('superior', 26), ('mar', 26), ('glp', 26), ('descoberta', 26), ('analise', 26), ('american', 25), ('embarcacao', 25), ('destinado', 25), ('utilizada', 25), ('tempo', 25), ('aviacao', 25), ('cubicos', 25), ('drilling', 25), ('bruto', 24), ('injecao', 24), ('dispositivo', 24), ('tanque', 24), ('sistemas', 24), ('autorizada', 24), ('decreto', 24), ('recursos', 24), ('concessionario', 24), ('liquida', 24), ('razao', 24), ('arvore', 24), ('control', 24), ('cuja', 23), ('bem', 23), ('medida', 23), ('equivalente', 23), ('programa', 23), ('condicao', 23), ('local', 23), ('ratio', 23), ('agencia', 22), ('derivado', 22), ('posto', 22), ('revendedor', 22), ('terminal', 22), ('carbono', 22), ('leves', 22), ('projeto', 22), ('liquidos', 22), ('internacional', 22), ('instituto', 21), ('linha', 21), ('poder', 21), ('etilico', 21), ('teor', 21), ('relacao', 21), ('servicos', 21), ('condensado', 21), ('armazenamento', 21), ('dutos', 21), ('termos', 21), ('valores', 21), ('barrels', 21), ('pes', 21), ('institute', 20), ('atraves', 20), ('acoes', 20), ('anidro', 20), ('inferior', 20), ('determinado', 20), ('transportador', 20), ('comercializacao', 20), ('alta', 20), ('hidrocarboneto', 20), ('estocagem', 20), ('acordo', 20), ('temperature', 20), ('nivel', 19), ('destilacao', 19), ('engenharia', 19), ('custos', 19), ('processos', 19), ('documento', 19), ('unit', 19), ('periodo', 19), ('nafta', 19), ('vapor', 19), ('coluna', 19), ('lubrificante', 19), ('riser', 19), ('calibracao', 19), ('point', 19), ('depth', 19), ('retorno', 18), ('normas', 18), ('pais', 18), ('eletrica', 18), ('mil', 18), ('aguas', 18), ('ciclo', 18), ('contendo', 18), ('operacional', 18), ('refino', 18), ('serem', 18), ('podendo', 18), ('outras', 18), ('venda', 18), ('separacao', 18), ('limite', 18), ('index', 18), ('vazao', 18), ('livre', 18), ('gnl', 18), ('sociedade', 18), ('tree', 18), ('day', 18), ('high', 18), ('abandono', 17), ('ato', 17), ('tecnicas', 17), ('material', 17), ('produzidos', 17), ('society', 17), ('refinarias', 17), ('tecnica', 17), ('termo', 17), ('menos', 17), ('reservatorios', 17), ('petroquimica', 17), ('construcao', 17), ('quantidades', 17), ('pesados', 17), ('viscosidade', 17), ('fator', 17), ('international', 17), ('risco', 17), ('campos', 17), ('revenda', 17), ('distribuidor', 17), ('test', 17), ('natal', 17), ('cubic', 17), ('resultado', 16), ('mediante', 16), ('utilizados', 16), ('obtencao', 16), ('craqueamento', 16)]\n"
     ]
    }
   ],
   "source": [
    "imprime_info_corpus(texto)"
   ]
  },
  {
   "cell_type": "markdown",
   "metadata": {},
   "source": [
    "### Eliminando sentenças com menos de 3 palavras, inclusive vazias"
   ]
  },
  {
   "cell_type": "code",
   "execution_count": 62,
   "metadata": {
    "collapsed": true
   },
   "outputs": [],
   "source": [
    "lista_com_quebra_de_linha = texto.split('\\n')\n",
    "texto = '\\n'.join([sentenca for sentenca in lista_com_quebra_de_linha if len(sentenca.split(' ')) > 3])"
   ]
  },
  {
   "cell_type": "code",
   "execution_count": 63,
   "metadata": {},
   "outputs": [
    {
     "name": "stdout",
     "output_type": "stream",
     "text": [
      "Total de tokens analisados:  30,680\n",
      "Tamanho do Vocabulário:  7,334\n",
      "\n",
      "\n",
      "[('gas', 541), ('petroleo', 504), ('fonte', 484), ('anp', 441), ('natural', 330), ('producao', 283), ('resolucao', 272), ('volume', 155), ('oleo', 152), ('pressao', 120), ('nao', 119), ('sistema', 106), ('ver', 105), ('ser', 101), ('transporte', 101), ('portaria', 101), ('combustivel', 100), ('medicao', 93), ('unidade', 89), ('inmetro', 89), ('agua', 85), ('area', 79), ('conjunta', 78), ('combustiveis', 74), ('derivados', 74), ('port', 74), ('nacional', 71), ('sao', 70), ('dados', 70), ('condicoes', 68), ('conjunto', 68), ('exploracao', 68), ('lei', 68), ('energia', 66), ('perfuracao', 65), ('dicionario', 65), ('pressure', 63), ('processo', 62), ('oil', 61), ('temperatura', 60), ('campo', 58), ('brasil', 57), ('desenvolvimento', 57), ('controle', 55), ('produtos', 53), ('portuguesa', 53), ('liquido', 52), ('lingua', 51), ('utilizado', 50), ('reservatorio', 50), ('seguranca', 50), ('base', 49), ('ponto', 49), ('operacao', 47), ('meio', 47), ('capacidade', 47), ('concessao', 46), ('atividades', 46), ('forma', 45), ('tambem', 45), ('hidrocarbonetos', 45), ('total', 45), ('system', 44), ('ambiental', 44), ('associacao', 43), ('contrato', 43), ('produto', 43), ('diesel', 43), ('indice', 43), ('gasolina', 42), ('instalacao', 42), ('operacoes', 41), ('alcool', 41), ('navio', 41), ('formacao', 40), ('processamento', 40), ('mistura', 40), ('pocos', 39), ('partir', 39), ('mercado', 39), ('instalacoes', 38), ('qualquer', 38), ('produzido', 37), ('industria', 37), ('transferencia', 37), ('preco', 37), ('data', 37), ('padrao', 37), ('valvula', 37), ('fluidos', 36), ('fundo', 36), ('pode', 36), ('superficie', 36), ('valor', 36), ('empresa', 36), ('oleos', 35), ('production', 35), ('brazilian', 35), ('brasileira', 34), ('brazil', 34), ('teste', 34), ('association', 34), ('per', 34), ('aquisicao', 33), ('outros', 33), ('safety', 33), ('equipamentos', 32), ('ate', 32), ('comercial', 32), ('reservas', 32), ('valve', 32), ('api', 31), ('empresas', 31), ('sob', 31), ('barris', 31), ('dia', 31), ('movimentacao', 31), ('petroleum', 31), ('profundidade', 30), ('etanol', 30), ('uso', 30), ('industrial', 30), ('juridica', 30), ('fluxo', 30), ('caso', 30), ('servico', 30), ('qualidade', 30), ('avaliacao', 30), ('plano', 30), ('recuperacao', 29), ('onde', 29), ('biodiesel', 29), ('atividade', 29), ('art', 29), ('medidor', 29), ('environmental', 29), ('unidades', 28), ('pessoa', 28), ('maior', 28), ('cada', 28), ('parte', 28), ('grau', 28), ('water', 28), ('liquefeito', 28), ('densidade', 28), ('ambiente', 27), ('national', 27), ('quantidade', 27), ('enxofre', 27), ('jazida', 27), ('distribuicao', 27), ('referencia', 27), ('vertical', 27), ('fase', 27), ('precos', 27), ('plataforma', 26), ('fluido', 26), ('informacoes', 26), ('biocombustiveis', 26), ('superior', 26), ('mar', 26), ('glp', 26), ('descoberta', 26), ('analise', 26), ('american', 25), ('embarcacao', 25), ('destinado', 25), ('utilizada', 25), ('tempo', 25), ('aviacao', 25), ('cubicos', 25), ('drilling', 25), ('bruto', 24), ('injecao', 24), ('dispositivo', 24), ('tanque', 24), ('sistemas', 24), ('autorizada', 24), ('recursos', 24), ('concessionario', 24), ('liquida', 24), ('razao', 24), ('arvore', 24), ('control', 24), ('cuja', 23), ('bem', 23), ('medida', 23), ('equivalente', 23), ('programa', 23), ('condicao', 23), ('local', 23), ('ratio', 23), ('agencia', 22), ('derivado', 22), ('posto', 22), ('revendedor', 22), ('decreto', 22), ('terminal', 22), ('carbono', 22), ('leves', 22), ('projeto', 22), ('liquidos', 22), ('internacional', 22), ('instituto', 21), ('linha', 21), ('poder', 21), ('etilico', 21), ('teor', 21), ('relacao', 21), ('servicos', 21), ('condensado', 21), ('armazenamento', 21), ('dutos', 21), ('termos', 21), ('valores', 21), ('barrels', 21), ('pes', 21), ('institute', 20), ('atraves', 20), ('acoes', 20), ('anidro', 20), ('inferior', 20), ('determinado', 20), ('transportador', 20), ('comercializacao', 20), ('alta', 20), ('hidrocarboneto', 20), ('estocagem', 20), ('acordo', 20), ('temperature', 20), ('nivel', 19), ('destilacao', 19), ('engenharia', 19), ('custos', 19), ('processos', 19), ('documento', 19), ('unit', 19), ('periodo', 19), ('nafta', 19), ('vapor', 19), ('coluna', 19), ('lubrificante', 19), ('riser', 19), ('calibracao', 19), ('point', 19), ('depth', 19), ('retorno', 18), ('normas', 18), ('pais', 18), ('eletrica', 18), ('mil', 18), ('aguas', 18), ('ciclo', 18), ('contendo', 18), ('operacional', 18), ('refino', 18), ('serem', 18), ('podendo', 18), ('outras', 18), ('venda', 18), ('separacao', 18), ('limite', 18), ('index', 18), ('vazao', 18), ('livre', 18), ('gnl', 18), ('sociedade', 18), ('tree', 18), ('day', 18), ('high', 18), ('ato', 17), ('tecnicas', 17), ('material', 17), ('produzidos', 17), ('society', 17), ('refinarias', 17), ('tecnica', 17), ('termo', 17), ('menos', 17), ('reservatorios', 17), ('petroquimica', 17), ('construcao', 17), ('quantidades', 17), ('pesados', 17), ('viscosidade', 17), ('fator', 17), ('international', 17), ('risco', 17), ('campos', 17), ('revenda', 17), ('distribuidor', 17), ('test', 17), ('natal', 17), ('cubic', 17), ('abandono', 16), ('resultado', 16), ('mediante', 16), ('utilizados', 16), ('obtencao', 16), ('craqueamento', 16)]\n"
     ]
    }
   ],
   "source": [
    "imprime_info_corpus(texto)"
   ]
  },
  {
   "cell_type": "code",
   "execution_count": 64,
   "metadata": {
    "collapsed": true
   },
   "outputs": [],
   "source": [
    "#Checkpoint\n",
    "\n",
    "gravaArquivo(arquivoCorpusFinal, texto)"
   ]
  },
  {
   "cell_type": "code",
   "execution_count": null,
   "metadata": {
    "collapsed": true
   },
   "outputs": [],
   "source": []
  }
 ],
 "metadata": {
  "kernelspec": {
   "display_name": "Python 3",
   "language": "python",
   "name": "python3"
  },
  "language_info": {
   "codemirror_mode": {
    "name": "ipython",
    "version": 3
   },
   "file_extension": ".py",
   "mimetype": "text/x-python",
   "name": "python",
   "nbconvert_exporter": "python",
   "pygments_lexer": "ipython3",
   "version": "3.6.3"
  }
 },
 "nbformat": 4,
 "nbformat_minor": 2
}
