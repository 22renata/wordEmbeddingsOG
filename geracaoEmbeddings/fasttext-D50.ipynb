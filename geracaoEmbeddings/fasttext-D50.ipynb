{
 "cells": [
  {
   "cell_type": "code",
   "execution_count": 1,
   "metadata": {},
   "outputs": [
    {
     "name": "stderr",
     "output_type": "stream",
     "text": [
      "C:\\Users\\czl6\\AppData\\Local\\Continuum\\anaconda3\\lib\\site-packages\\gensim\\utils.py:865: UserWarning: detected Windows; aliasing chunkize to chunkize_serial\n",
      "  warnings.warn(\"detected Windows; aliasing chunkize to chunkize_serial\")\n"
     ]
    }
   ],
   "source": [
    "import fasttext\n",
    "import os\n",
    "from pathlib import Path\n",
    "from gensim.models.word2vec import PathLineSentences\n",
    "import datetime"
   ]
  },
  {
   "cell_type": "markdown",
   "metadata": {},
   "source": [
    "## Gerando modelo FastText, considerando vetor de embedding com 50 dimensões"
   ]
  },
  {
   "cell_type": "code",
   "execution_count": 2,
   "metadata": {},
   "outputs": [
    {
     "name": "stdout",
     "output_type": "stream",
     "text": [
      "Iniciando treinamento em FastText\n",
      "Tempo total decorrido:  0:01:52.549616\n",
      "<fasttext.model.WordVectorModel object at 0x0000000018191588>\n"
     ]
    }
   ],
   "source": [
    "print('Iniciando treinamento em FastText')\n",
    "momentoInicial = datetime.datetime.now()\n",
    "\n",
    "#arquivoEntrada = os.path.join('..', 'corpus_unificado', \"corpus_unificado.txt\")\n",
    "#arquivoEntrada = os.path.join('..', '_corpus', \"Petrobras-BoletinsTecnicos-Final.txt\")\n",
    "arquivoEntrada = \"corpus.txt\"\n",
    "model = fasttext.skipgram(arquivoEntrada, 'fasttext-50', dim=50)\n",
    "\n",
    "momentoFinal = datetime.datetime.now()\n",
    "print(\"Tempo total decorrido: \", momentoFinal - momentoInicial)\n",
    "\n",
    "print(model)"
   ]
  },
  {
   "cell_type": "markdown",
   "metadata": {},
   "source": [
    "## Recuperando um modelo gravado\n",
    "Para as funcionalidades em Python, foi utilizado o wrapper *Gensim* (o modelo foi treinado com a api do fasttext)"
   ]
  },
  {
   "cell_type": "code",
   "execution_count": 2,
   "metadata": {},
   "outputs": [],
   "source": [
    "from gensim.models.wrappers import FastText\n",
    "fasttext = FastText.load_fasttext_format(\"modelos/fasttext-50\")"
   ]
  },
  {
   "cell_type": "code",
   "execution_count": 8,
   "metadata": {},
   "outputs": [
    {
     "name": "stdout",
     "output_type": "stream",
     "text": [
      "FastText: [('oampo', 0.815670371055603), ('caioba', 0.7518488168716431), ('alvo', 0.7485660910606384), ('camorim', 0.7304676175117493), ('roncador', 0.7240016460418701), ('pocoreservatorio', 0.7233872413635254), ('balsamo', 0.7217187881469727), ('merluza', 0.7137084007263184), ('reservatrio', 0.6996705532073975), ('pga', 0.69951331615448)]\n"
     ]
    }
   ],
   "source": [
    "print(\"FastText:\", fasttext.most_similar(\"campo\"))"
   ]
  },
  {
   "cell_type": "code",
   "execution_count": 9,
   "metadata": {},
   "outputs": [
    {
     "name": "stdout",
     "output_type": "stream",
     "text": [
      "FastText: [('pcmarlim', 0.9281110763549805), ('albacora', 0.8798106908798218), ('jubarte', 0.8404709696769714), ('bacora', 0.8383790254592896), ('marllm', 0.834542453289032), ('marimba', 0.8276503086090088), ('garoupa', 0.8134809136390686), ('barracuda', 0.8017142415046692), ('moreia', 0.798784613609314), ('garoupinha', 0.7896287441253662)]\n"
     ]
    }
   ],
   "source": [
    "print(\"FastText:\", fasttext.most_similar(\"marlim\"))"
   ]
  },
  {
   "cell_type": "code",
   "execution_count": 10,
   "metadata": {},
   "outputs": [
    {
     "name": "stdout",
     "output_type": "stream",
     "text": [
      "FastText: [('rochamatriz', 0.8154623508453369), ('oleorocha', 0.8131650686264038), ('rochosa', 0.7762559652328491), ('laderocha', 0.758553683757782), ('ocha', 0.7539640069007874), ('roch', 0.7478681206703186), ('rochafonte', 0.7349222302436829), ('diafragma', 0.701526939868927), ('diabasio', 0.6987018585205078), ('rochareservatorio', 0.6944723725318909)]\n"
     ]
    }
   ],
   "source": [
    "print(\"FastText:\", fasttext.most_similar(\"rocha\"))"
   ]
  },
  {
   "cell_type": "code",
   "execution_count": 11,
   "metadata": {},
   "outputs": [
    {
     "name": "stdout",
     "output_type": "stream",
     "text": [
      "FastText: [('porosida', 0.9570965766906738), ('deporosidade', 0.9404776096343994), ('croporosidade', 0.937926173210144), ('permoporosidade', 0.9234445095062256), ('porosi', 0.9158645272254944), ('macroporosidade', 0.9131574034690857), ('rosidade', 0.9110915660858154), ('microporosidade', 0.8973420858383179), ('porosidades', 0.8961843252182007), ('permeabilidade', 0.8856143951416016)]\n"
     ]
    }
   ],
   "source": [
    "print(\"FastText:\", fasttext.most_similar(\"porosidade\"))"
   ]
  },
  {
   "cell_type": "code",
   "execution_count": 12,
   "metadata": {},
   "outputs": [
    {
     "name": "stdout",
     "output_type": "stream",
     "text": [
      "FastText: [('permeabilida', 0.9757923483848572), ('impermeabilidade', 0.9730181097984314), ('meabilidade', 0.9707314372062683), ('permeabilidades', 0.9415486454963684), ('permeabili', 0.9377738237380981), ('penneabilidade', 0.9200645685195923), ('permeabi', 0.8957672119140625), ('meabilidades', 0.8945979475975037), ('porosidade', 0.8856143951416016), ('permoporosidade', 0.8809937834739685)]\n"
     ]
    }
   ],
   "source": [
    "print(\"FastText:\", fasttext.most_similar(\"permeabilidade\"))"
   ]
  },
  {
   "cell_type": "code",
   "execution_count": 13,
   "metadata": {},
   "outputs": [
    {
     "name": "stdout",
     "output_type": "stream",
     "text": [
      "FastText: [('rochamatriz', 0.8154623508453369), ('oleorocha', 0.8131650686264038), ('rochosa', 0.7762559652328491), ('laderocha', 0.758553683757782), ('ocha', 0.7539640069007874), ('roch', 0.7478681206703186), ('rochafonte', 0.7349222302436829), ('diafragma', 0.701526939868927), ('diabasio', 0.6987018585205078), ('rochareservatorio', 0.6944723725318909)]\n",
      "FastText: [('roch', 0.9154305458068848), ('roche', 0.8865280151367188), ('roc', 0.8221107125282288), ('rocha', 0.7905331254005432), ('rochasre', 0.7871769070625305), ('rock', 0.7785798907279968), ('metamor', 0.7653829455375671), ('thomaz', 0.7638208270072937), ('roches', 0.7505050897598267), ('rochacampos', 0.7489043474197388)]\n",
      "FastText: [('roche', 0.8647921681404114), ('roch', 0.8587639927864075), ('rochasre', 0.8211098313331604), ('rocha', 0.7959328889846802), ('rochas', 0.762500524520874), ('rochasreser', 0.7519310712814331), ('rochasreservatorio', 0.7394018769264221), ('rochosa', 0.7346051335334778), ('rochatotal', 0.7100995779037476), ('metamor', 0.7036510705947876)]\n"
     ]
    }
   ],
   "source": [
    "print(\"FastText:\", fasttext.most_similar(\"rocha\"))\n",
    "print(\"FastText:\", fasttext.most_similar(\"rochd\"))\n",
    "print(\"FastText:\", fasttext.most_similar(\"rochá\"))"
   ]
  },
  {
   "cell_type": "code",
   "execution_count": 14,
   "metadata": {},
   "outputs": [
    {
     "name": "stdout",
     "output_type": "stream",
     "text": [
      "FastText: [('transientes', 0.8696633577346802), ('trifasico', 0.8398699760437012), ('termodinamico', 0.8232132792472839), ('monofasico', 0.8151721358299255), ('escoamento', 0.8068861365318298), ('acoplamento', 0.8043379187583923), ('estacionai', 0.8034711480140686), ('trifasica', 0.796199381351471), ('estacionario', 0.7960413098335266), ('estacionaria', 0.7941222786903381)]\n",
      "FastText: [('transiente', 0.8494701385498047), ('diente', 0.8007393479347229), ('comportamiento', 0.798244297504425), ('comportamento', 0.7949852347373962), ('naoestacionario', 0.7939063906669617), ('termostatico', 0.7865602970123291), ('monofasico', 0.7837227582931519), ('perimentalmente', 0.7816559672355652), ('infinito', 0.7792178392410278), ('confinante', 0.7789492607116699)]\n",
      "FastText: [('transiente', 0.8936669230461121), ('transientes', 0.8702367544174194), ('transient', 0.8424867391586304), ('termodinamico', 0.7732672691345215), ('qfem', 0.7597483992576599), ('naolinear', 0.7419180870056152), ('termodinamicos', 0.7414451241493225), ('simu', 0.7335100769996643), ('gaslift', 0.7301149368286133), ('trifasico', 0.7224645018577576)]\n"
     ]
    }
   ],
   "source": [
    "print(\"FastText:\", fasttext.most_similar(\"transiente\"))\n",
    "print(\"FastText:\", fasttext.most_similar(\"trasiente\"))\n",
    "print(\"FastText:\", fasttext.most_similar(\"transientt\"))"
   ]
  },
  {
   "cell_type": "code",
   "execution_count": 15,
   "metadata": {},
   "outputs": [
    {
     "name": "stdout",
     "output_type": "stream",
     "text": [
      "FastText: [('oducao', 0.8836724162101746), ('produao', 0.8812499046325684), ('roducao', 0.8800536394119263), ('produgao', 0.8747290372848511), ('poducao', 0.8504601120948792), ('produca', 0.8492404818534851), ('prodlcao', 0.8360615372657776), ('produco', 0.83199143409729), ('ducao', 0.827688992023468), ('semicomercial', 0.8034496307373047)]\n"
     ]
    }
   ],
   "source": [
    "print(\"FastText:\", fasttext.most_similar(\"producao\"))"
   ]
  },
  {
   "cell_type": "code",
   "execution_count": 16,
   "metadata": {},
   "outputs": [
    {
     "name": "stdout",
     "output_type": "stream",
     "text": [
      "FastText: [('roducao', 0.8130384087562561), ('tecnicoeconomica', 0.7954747080802917), ('produao', 0.7859495878219604), ('troducao', 0.7857425212860107), ('tecnicoeconomicos', 0.78448486328125), ('tecnicoeconomico', 0.7817341089248657), ('semicomercial', 0.7798859477043152), ('producao', 0.778913676738739), ('petloleo', 0.7779924273490906), ('residia', 0.7759062051773071)]\n"
     ]
    }
   ],
   "source": [
    "print(\"FastText:\", fasttext.most_similar(\"Produção\"))"
   ]
  },
  {
   "cell_type": "code",
   "execution_count": 17,
   "metadata": {},
   "outputs": [
    {
     "name": "stdout",
     "output_type": "stream",
     "text": [
      "FastText: [('leo', 0.8805885910987854), ('dleo', 0.8602104187011719), ('uleo', 0.8562837839126587), ('petloleo', 0.8304847478866577), ('troleo', 0.8119157552719116), ('petoleo', 0.8037800192832947), ('etroleo', 0.7981134057044983), ('cleo', 0.7976576089859009), ('petroleo', 0.7970316410064697), ('roleo', 0.7951602935791016)]\n"
     ]
    }
   ],
   "source": [
    "print(\"FastText:\", fasttext.most_similar(\"óleo\"))"
   ]
  },
  {
   "cell_type": "code",
   "execution_count": 18,
   "metadata": {},
   "outputs": [
    {
     "name": "stdout",
     "output_type": "stream",
     "text": [
      "FastText: [('balsamo', 0.7570058703422546), ('oampo', 0.7473582029342651), ('caioba', 0.7397665977478027), ('biribapoco', 0.7186915278434753), ('merluza', 0.7140586376190186), ('alvorada', 0.70992511510849), ('oba', 0.7081137895584106), ('robalo', 0.7080700397491455), ('camorim', 0.7069094181060791), ('alvo', 0.6923002600669861)]\n"
     ]
    }
   ],
   "source": [
    "print(\"FastText:\", fasttext.most_similar(positive=[\"campo\", \"albacora\"], negative=[\"marlim\"]))"
   ]
  },
  {
   "cell_type": "code",
   "execution_count": 19,
   "metadata": {
    "collapsed": true
   },
   "outputs": [],
   "source": [
    "%matplotlib inline\n",
    "%config InlineBackend.figure_format = 'retina'\n",
    "\n",
    "\n",
    "import matplotlib.pyplot as plt\n",
    "from sklearn.manifold import TSNE\n",
    "import numpy as np"
   ]
  },
  {
   "cell_type": "code",
   "execution_count": 20,
   "metadata": {},
   "outputs": [
    {
     "name": "stdout",
     "output_type": "stream",
     "text": [
      "1000\n",
      "(1000, 50)\n"
     ]
    }
   ],
   "source": [
    "vocab_init = 0\n",
    "num_palavras = 1000\n",
    "\n",
    "vocabulario = fasttext.wv.index2word\n",
    "vocabulario = vocabulario[:num_palavras]\n",
    "print(len(vocabulario))\n",
    "\n",
    "vetores = list()\n",
    "for id in range(vocab_init, num_palavras):\n",
    "    vetores.append(fasttext.wv.word_vec(vocabulario[id]));\n",
    "\n",
    "matrix = np.vstack(vetores)    \n",
    "    \n",
    "print(matrix.shape)"
   ]
  },
  {
   "cell_type": "code",
   "execution_count": 21,
   "metadata": {},
   "outputs": [
    {
     "name": "stdout",
     "output_type": "stream",
     "text": [
      "Wall time: 31.8 s\n"
     ]
    }
   ],
   "source": [
    "%%time\n",
    "tsne = TSNE(n_components=2, random_state=0)\n",
    "embed_tsne = tsne.fit_transform(vetores)"
   ]
  },
  {
   "cell_type": "code",
   "execution_count": 22,
   "metadata": {},
   "outputs": [
    {
     "data": {
      "text/html": [
       "\n",
       "    <div class=\"bk-root\">\n",
       "        <a href=\"https://bokeh.pydata.org\" target=\"_blank\" class=\"bk-logo bk-logo-small bk-logo-notebook\"></a>\n",
       "        <span id=\"62996254-d831-4463-8517-f12afaf37f30\">Loading BokehJS ...</span>\n",
       "    </div>"
      ]
     },
     "metadata": {},
     "output_type": "display_data"
    },
    {
     "data": {
      "application/javascript": [
       "\n",
       "(function(root) {\n",
       "  function now() {\n",
       "    return new Date();\n",
       "  }\n",
       "\n",
       "  var force = true;\n",
       "\n",
       "  if (typeof (root._bokeh_onload_callbacks) === \"undefined\" || force === true) {\n",
       "    root._bokeh_onload_callbacks = [];\n",
       "    root._bokeh_is_loading = undefined;\n",
       "  }\n",
       "\n",
       "  var JS_MIME_TYPE = 'application/javascript';\n",
       "  var HTML_MIME_TYPE = 'text/html';\n",
       "  var EXEC_MIME_TYPE = 'application/vnd.bokehjs_exec.v0+json';\n",
       "  var CLASS_NAME = 'output_bokeh rendered_html';\n",
       "\n",
       "  /**\n",
       "   * Render data to the DOM node\n",
       "   */\n",
       "  function render(props, node) {\n",
       "    var script = document.createElement(\"script\");\n",
       "    node.appendChild(script);\n",
       "  }\n",
       "\n",
       "  /**\n",
       "   * Handle when an output is cleared or removed\n",
       "   */\n",
       "  function handleClearOutput(event, handle) {\n",
       "    var cell = handle.cell;\n",
       "\n",
       "    var id = cell.output_area._bokeh_element_id;\n",
       "    var server_id = cell.output_area._bokeh_server_id;\n",
       "    // Clean up Bokeh references\n",
       "    if (id !== undefined) {\n",
       "      Bokeh.index[id].model.document.clear();\n",
       "      delete Bokeh.index[id];\n",
       "    }\n",
       "\n",
       "    if (server_id !== undefined) {\n",
       "      // Clean up Bokeh references\n",
       "      var cmd = \"from bokeh.io.state import curstate; print(curstate().uuid_to_server['\" + server_id + \"'].get_sessions()[0].document.roots[0]._id)\";\n",
       "      cell.notebook.kernel.execute(cmd, {\n",
       "        iopub: {\n",
       "          output: function(msg) {\n",
       "            var element_id = msg.content.text.trim();\n",
       "            Bokeh.index[element_id].model.document.clear();\n",
       "            delete Bokeh.index[element_id];\n",
       "          }\n",
       "        }\n",
       "      });\n",
       "      // Destroy server and session\n",
       "      var cmd = \"import bokeh.io.notebook as ion; ion.destroy_server('\" + server_id + \"')\";\n",
       "      cell.notebook.kernel.execute(cmd);\n",
       "    }\n",
       "  }\n",
       "\n",
       "  /**\n",
       "   * Handle when a new output is added\n",
       "   */\n",
       "  function handleAddOutput(event, handle) {\n",
       "    var output_area = handle.output_area;\n",
       "    var output = handle.output;\n",
       "\n",
       "    // limit handleAddOutput to display_data with EXEC_MIME_TYPE content only\n",
       "    if ((output.output_type != \"display_data\") || (!output.data.hasOwnProperty(EXEC_MIME_TYPE))) {\n",
       "      return\n",
       "    }\n",
       "\n",
       "    var toinsert = output_area.element.find(`.${CLASS_NAME.split(' ')[0]}`);\n",
       "\n",
       "    if (output.metadata[EXEC_MIME_TYPE][\"id\"] !== undefined) {\n",
       "      toinsert[0].firstChild.textContent = output.data[JS_MIME_TYPE];\n",
       "      // store reference to embed id on output_area\n",
       "      output_area._bokeh_element_id = output.metadata[EXEC_MIME_TYPE][\"id\"];\n",
       "    }\n",
       "    if (output.metadata[EXEC_MIME_TYPE][\"server_id\"] !== undefined) {\n",
       "      var bk_div = document.createElement(\"div\");\n",
       "      bk_div.innerHTML = output.data[HTML_MIME_TYPE];\n",
       "      var script_attrs = bk_div.children[0].attributes;\n",
       "      for (var i = 0; i < script_attrs.length; i++) {\n",
       "        toinsert[0].firstChild.setAttribute(script_attrs[i].name, script_attrs[i].value);\n",
       "      }\n",
       "      // store reference to server id on output_area\n",
       "      output_area._bokeh_server_id = output.metadata[EXEC_MIME_TYPE][\"server_id\"];\n",
       "    }\n",
       "  }\n",
       "\n",
       "  function register_renderer(events, OutputArea) {\n",
       "\n",
       "    function append_mime(data, metadata, element) {\n",
       "      // create a DOM node to render to\n",
       "      var toinsert = this.create_output_subarea(\n",
       "        metadata,\n",
       "        CLASS_NAME,\n",
       "        EXEC_MIME_TYPE\n",
       "      );\n",
       "      this.keyboard_manager.register_events(toinsert);\n",
       "      // Render to node\n",
       "      var props = {data: data, metadata: metadata[EXEC_MIME_TYPE]};\n",
       "      render(props, toinsert[0]);\n",
       "      element.append(toinsert);\n",
       "      return toinsert\n",
       "    }\n",
       "\n",
       "    /* Handle when an output is cleared or removed */\n",
       "    events.on('clear_output.CodeCell', handleClearOutput);\n",
       "    events.on('delete.Cell', handleClearOutput);\n",
       "\n",
       "    /* Handle when a new output is added */\n",
       "    events.on('output_added.OutputArea', handleAddOutput);\n",
       "\n",
       "    /**\n",
       "     * Register the mime type and append_mime function with output_area\n",
       "     */\n",
       "    OutputArea.prototype.register_mime_type(EXEC_MIME_TYPE, append_mime, {\n",
       "      /* Is output safe? */\n",
       "      safe: true,\n",
       "      /* Index of renderer in `output_area.display_order` */\n",
       "      index: 0\n",
       "    });\n",
       "  }\n",
       "\n",
       "  // register the mime type if in Jupyter Notebook environment and previously unregistered\n",
       "  if (root.Jupyter !== undefined) {\n",
       "    var events = require('base/js/events');\n",
       "    var OutputArea = require('notebook/js/outputarea').OutputArea;\n",
       "\n",
       "    if (OutputArea.prototype.mime_types().indexOf(EXEC_MIME_TYPE) == -1) {\n",
       "      register_renderer(events, OutputArea);\n",
       "    }\n",
       "  }\n",
       "\n",
       "  \n",
       "  if (typeof (root._bokeh_timeout) === \"undefined\" || force === true) {\n",
       "    root._bokeh_timeout = Date.now() + 5000;\n",
       "    root._bokeh_failed_load = false;\n",
       "  }\n",
       "\n",
       "  var NB_LOAD_WARNING = {'data': {'text/html':\n",
       "     \"<div style='background-color: #fdd'>\\n\"+\n",
       "     \"<p>\\n\"+\n",
       "     \"BokehJS does not appear to have successfully loaded. If loading BokehJS from CDN, this \\n\"+\n",
       "     \"may be due to a slow or bad network connection. Possible fixes:\\n\"+\n",
       "     \"</p>\\n\"+\n",
       "     \"<ul>\\n\"+\n",
       "     \"<li>re-rerun `output_notebook()` to attempt to load from CDN again, or</li>\\n\"+\n",
       "     \"<li>use INLINE resources instead, as so:</li>\\n\"+\n",
       "     \"</ul>\\n\"+\n",
       "     \"<code>\\n\"+\n",
       "     \"from bokeh.resources import INLINE\\n\"+\n",
       "     \"output_notebook(resources=INLINE)\\n\"+\n",
       "     \"</code>\\n\"+\n",
       "     \"</div>\"}};\n",
       "\n",
       "  function display_loaded() {\n",
       "    var el = document.getElementById(\"62996254-d831-4463-8517-f12afaf37f30\");\n",
       "    if (el != null) {\n",
       "      el.textContent = \"BokehJS is loading...\";\n",
       "    }\n",
       "    if (root.Bokeh !== undefined) {\n",
       "      if (el != null) {\n",
       "        el.textContent = \"BokehJS \" + root.Bokeh.version + \" successfully loaded.\";\n",
       "      }\n",
       "    } else if (Date.now() < root._bokeh_timeout) {\n",
       "      setTimeout(display_loaded, 100)\n",
       "    }\n",
       "  }\n",
       "\n",
       "\n",
       "  function run_callbacks() {\n",
       "    try {\n",
       "      root._bokeh_onload_callbacks.forEach(function(callback) { callback() });\n",
       "    }\n",
       "    finally {\n",
       "      delete root._bokeh_onload_callbacks\n",
       "    }\n",
       "    console.info(\"Bokeh: all callbacks have finished\");\n",
       "  }\n",
       "\n",
       "  function load_libs(js_urls, callback) {\n",
       "    root._bokeh_onload_callbacks.push(callback);\n",
       "    if (root._bokeh_is_loading > 0) {\n",
       "      console.log(\"Bokeh: BokehJS is being loaded, scheduling callback at\", now());\n",
       "      return null;\n",
       "    }\n",
       "    if (js_urls == null || js_urls.length === 0) {\n",
       "      run_callbacks();\n",
       "      return null;\n",
       "    }\n",
       "    console.log(\"Bokeh: BokehJS not loaded, scheduling load and callback at\", now());\n",
       "    root._bokeh_is_loading = js_urls.length;\n",
       "    for (var i = 0; i < js_urls.length; i++) {\n",
       "      var url = js_urls[i];\n",
       "      var s = document.createElement('script');\n",
       "      s.src = url;\n",
       "      s.async = false;\n",
       "      s.onreadystatechange = s.onload = function() {\n",
       "        root._bokeh_is_loading--;\n",
       "        if (root._bokeh_is_loading === 0) {\n",
       "          console.log(\"Bokeh: all BokehJS libraries loaded\");\n",
       "          run_callbacks()\n",
       "        }\n",
       "      };\n",
       "      s.onerror = function() {\n",
       "        console.warn(\"failed to load library \" + url);\n",
       "      };\n",
       "      console.log(\"Bokeh: injecting script tag for BokehJS library: \", url);\n",
       "      document.getElementsByTagName(\"head\")[0].appendChild(s);\n",
       "    }\n",
       "  };var element = document.getElementById(\"62996254-d831-4463-8517-f12afaf37f30\");\n",
       "  if (element == null) {\n",
       "    console.log(\"Bokeh: ERROR: autoload.js configured with elementid '62996254-d831-4463-8517-f12afaf37f30' but no matching script tag was found. \")\n",
       "    return false;\n",
       "  }\n",
       "\n",
       "  var js_urls = [\"https://cdn.pydata.org/bokeh/release/bokeh-0.12.10.min.js\", \"https://cdn.pydata.org/bokeh/release/bokeh-widgets-0.12.10.min.js\", \"https://cdn.pydata.org/bokeh/release/bokeh-tables-0.12.10.min.js\", \"https://cdn.pydata.org/bokeh/release/bokeh-gl-0.12.10.min.js\"];\n",
       "\n",
       "  var inline_js = [\n",
       "    function(Bokeh) {\n",
       "      Bokeh.set_log_level(\"info\");\n",
       "    },\n",
       "    \n",
       "    function(Bokeh) {\n",
       "      \n",
       "    },\n",
       "    function(Bokeh) {\n",
       "      console.log(\"Bokeh: injecting CSS: https://cdn.pydata.org/bokeh/release/bokeh-0.12.10.min.css\");\n",
       "      Bokeh.embed.inject_css(\"https://cdn.pydata.org/bokeh/release/bokeh-0.12.10.min.css\");\n",
       "      console.log(\"Bokeh: injecting CSS: https://cdn.pydata.org/bokeh/release/bokeh-widgets-0.12.10.min.css\");\n",
       "      Bokeh.embed.inject_css(\"https://cdn.pydata.org/bokeh/release/bokeh-widgets-0.12.10.min.css\");\n",
       "      console.log(\"Bokeh: injecting CSS: https://cdn.pydata.org/bokeh/release/bokeh-tables-0.12.10.min.css\");\n",
       "      Bokeh.embed.inject_css(\"https://cdn.pydata.org/bokeh/release/bokeh-tables-0.12.10.min.css\");\n",
       "    }\n",
       "  ];\n",
       "\n",
       "  function run_inline_js() {\n",
       "    \n",
       "    if ((root.Bokeh !== undefined) || (force === true)) {\n",
       "      for (var i = 0; i < inline_js.length; i++) {\n",
       "        inline_js[i].call(root, root.Bokeh);\n",
       "      }if (force === true) {\n",
       "        display_loaded();\n",
       "      }} else if (Date.now() < root._bokeh_timeout) {\n",
       "      setTimeout(run_inline_js, 100);\n",
       "    } else if (!root._bokeh_failed_load) {\n",
       "      console.log(\"Bokeh: BokehJS failed to load within specified timeout.\");\n",
       "      root._bokeh_failed_load = true;\n",
       "    } else if (force !== true) {\n",
       "      var cell = $(document.getElementById(\"62996254-d831-4463-8517-f12afaf37f30\")).parents('.cell').data().cell;\n",
       "      cell.output_area.append_execute_result(NB_LOAD_WARNING)\n",
       "    }\n",
       "\n",
       "  }\n",
       "\n",
       "  if (root._bokeh_is_loading === 0) {\n",
       "    console.log(\"Bokeh: BokehJS loaded, going straight to plotting\");\n",
       "    run_inline_js();\n",
       "  } else {\n",
       "    load_libs(js_urls, function() {\n",
       "      console.log(\"Bokeh: BokehJS plotting callback run at\", now());\n",
       "      run_inline_js();\n",
       "    });\n",
       "  }\n",
       "}(window));"
      ],
      "application/vnd.bokehjs_load.v0+json": "\n(function(root) {\n  function now() {\n    return new Date();\n  }\n\n  var force = true;\n\n  if (typeof (root._bokeh_onload_callbacks) === \"undefined\" || force === true) {\n    root._bokeh_onload_callbacks = [];\n    root._bokeh_is_loading = undefined;\n  }\n\n  \n\n  \n  if (typeof (root._bokeh_timeout) === \"undefined\" || force === true) {\n    root._bokeh_timeout = Date.now() + 5000;\n    root._bokeh_failed_load = false;\n  }\n\n  var NB_LOAD_WARNING = {'data': {'text/html':\n     \"<div style='background-color: #fdd'>\\n\"+\n     \"<p>\\n\"+\n     \"BokehJS does not appear to have successfully loaded. If loading BokehJS from CDN, this \\n\"+\n     \"may be due to a slow or bad network connection. Possible fixes:\\n\"+\n     \"</p>\\n\"+\n     \"<ul>\\n\"+\n     \"<li>re-rerun `output_notebook()` to attempt to load from CDN again, or</li>\\n\"+\n     \"<li>use INLINE resources instead, as so:</li>\\n\"+\n     \"</ul>\\n\"+\n     \"<code>\\n\"+\n     \"from bokeh.resources import INLINE\\n\"+\n     \"output_notebook(resources=INLINE)\\n\"+\n     \"</code>\\n\"+\n     \"</div>\"}};\n\n  function display_loaded() {\n    var el = document.getElementById(\"62996254-d831-4463-8517-f12afaf37f30\");\n    if (el != null) {\n      el.textContent = \"BokehJS is loading...\";\n    }\n    if (root.Bokeh !== undefined) {\n      if (el != null) {\n        el.textContent = \"BokehJS \" + root.Bokeh.version + \" successfully loaded.\";\n      }\n    } else if (Date.now() < root._bokeh_timeout) {\n      setTimeout(display_loaded, 100)\n    }\n  }\n\n\n  function run_callbacks() {\n    try {\n      root._bokeh_onload_callbacks.forEach(function(callback) { callback() });\n    }\n    finally {\n      delete root._bokeh_onload_callbacks\n    }\n    console.info(\"Bokeh: all callbacks have finished\");\n  }\n\n  function load_libs(js_urls, callback) {\n    root._bokeh_onload_callbacks.push(callback);\n    if (root._bokeh_is_loading > 0) {\n      console.log(\"Bokeh: BokehJS is being loaded, scheduling callback at\", now());\n      return null;\n    }\n    if (js_urls == null || js_urls.length === 0) {\n      run_callbacks();\n      return null;\n    }\n    console.log(\"Bokeh: BokehJS not loaded, scheduling load and callback at\", now());\n    root._bokeh_is_loading = js_urls.length;\n    for (var i = 0; i < js_urls.length; i++) {\n      var url = js_urls[i];\n      var s = document.createElement('script');\n      s.src = url;\n      s.async = false;\n      s.onreadystatechange = s.onload = function() {\n        root._bokeh_is_loading--;\n        if (root._bokeh_is_loading === 0) {\n          console.log(\"Bokeh: all BokehJS libraries loaded\");\n          run_callbacks()\n        }\n      };\n      s.onerror = function() {\n        console.warn(\"failed to load library \" + url);\n      };\n      console.log(\"Bokeh: injecting script tag for BokehJS library: \", url);\n      document.getElementsByTagName(\"head\")[0].appendChild(s);\n    }\n  };var element = document.getElementById(\"62996254-d831-4463-8517-f12afaf37f30\");\n  if (element == null) {\n    console.log(\"Bokeh: ERROR: autoload.js configured with elementid '62996254-d831-4463-8517-f12afaf37f30' but no matching script tag was found. \")\n    return false;\n  }\n\n  var js_urls = [\"https://cdn.pydata.org/bokeh/release/bokeh-0.12.10.min.js\", \"https://cdn.pydata.org/bokeh/release/bokeh-widgets-0.12.10.min.js\", \"https://cdn.pydata.org/bokeh/release/bokeh-tables-0.12.10.min.js\", \"https://cdn.pydata.org/bokeh/release/bokeh-gl-0.12.10.min.js\"];\n\n  var inline_js = [\n    function(Bokeh) {\n      Bokeh.set_log_level(\"info\");\n    },\n    \n    function(Bokeh) {\n      \n    },\n    function(Bokeh) {\n      console.log(\"Bokeh: injecting CSS: https://cdn.pydata.org/bokeh/release/bokeh-0.12.10.min.css\");\n      Bokeh.embed.inject_css(\"https://cdn.pydata.org/bokeh/release/bokeh-0.12.10.min.css\");\n      console.log(\"Bokeh: injecting CSS: https://cdn.pydata.org/bokeh/release/bokeh-widgets-0.12.10.min.css\");\n      Bokeh.embed.inject_css(\"https://cdn.pydata.org/bokeh/release/bokeh-widgets-0.12.10.min.css\");\n      console.log(\"Bokeh: injecting CSS: https://cdn.pydata.org/bokeh/release/bokeh-tables-0.12.10.min.css\");\n      Bokeh.embed.inject_css(\"https://cdn.pydata.org/bokeh/release/bokeh-tables-0.12.10.min.css\");\n    }\n  ];\n\n  function run_inline_js() {\n    \n    if ((root.Bokeh !== undefined) || (force === true)) {\n      for (var i = 0; i < inline_js.length; i++) {\n        inline_js[i].call(root, root.Bokeh);\n      }if (force === true) {\n        display_loaded();\n      }} else if (Date.now() < root._bokeh_timeout) {\n      setTimeout(run_inline_js, 100);\n    } else if (!root._bokeh_failed_load) {\n      console.log(\"Bokeh: BokehJS failed to load within specified timeout.\");\n      root._bokeh_failed_load = true;\n    } else if (force !== true) {\n      var cell = $(document.getElementById(\"62996254-d831-4463-8517-f12afaf37f30\")).parents('.cell').data().cell;\n      cell.output_area.append_execute_result(NB_LOAD_WARNING)\n    }\n\n  }\n\n  if (root._bokeh_is_loading === 0) {\n    console.log(\"Bokeh: BokehJS loaded, going straight to plotting\");\n    run_inline_js();\n  } else {\n    load_libs(js_urls, function() {\n      console.log(\"Bokeh: BokehJS plotting callback run at\", now());\n      run_inline_js();\n    });\n  }\n}(window));"
     },
     "metadata": {},
     "output_type": "display_data"
    }
   ],
   "source": [
    "from bokeh.models import ColumnDataSource, LabelSet\n",
    "from bokeh.plotting import figure, show, output_file\n",
    "from bokeh.io import output_notebook\n",
    "import bokeh\n",
    "output_notebook()\n"
   ]
  },
  {
   "cell_type": "code",
   "execution_count": 23,
   "metadata": {},
   "outputs": [
    {
     "data": {
      "text/html": [
       "\n",
       "<div class=\"bk-root\">\n",
       "    <div class=\"bk-plotdiv\" id=\"86ef4483-da26-4a3a-8329-621a56bea71a\"></div>\n",
       "</div>"
      ]
     },
     "metadata": {},
     "output_type": "display_data"
    },
    {
     "data": {
      "application/javascript": [
       "(function(root) {\n",
       "  function embed_document(root) {\n",
       "    var docs_json = {\"cd1d65a7-be73-45d3-8112-dc8ff634c2c9\":{\"roots\":{\"references\":[{\"attributes\":{},\"id\":\"998471bf-bc94-4f11-b806-9135c64aa7a3\",\"type\":\"BasicTickFormatter\"},{\"attributes\":{\"plot\":null,\"text\":\"fasttext T-SNE for most common words\"},\"id\":\"cad337b4-de94-49a3-a0ec-5a992f097def\",\"type\":\"Title\"},{\"attributes\":{},\"id\":\"16dfb068-58a8-4c54-819c-662491533466\",\"type\":\"BasicTickFormatter\"},{\"attributes\":{\"formatter\":{\"id\":\"998471bf-bc94-4f11-b806-9135c64aa7a3\",\"type\":\"BasicTickFormatter\"},\"plot\":{\"id\":\"0cc005cb-29cb-455b-9823-98e486a743c1\",\"subtype\":\"Figure\",\"type\":\"Plot\"},\"ticker\":{\"id\":\"f23e477c-b9f4-4467-aeba-a76386878497\",\"type\":\"BasicTicker\"}},\"id\":\"5f174a54-8550-458b-a408-7ac97990b23a\",\"type\":\"LinearAxis\"},{\"attributes\":{\"active_drag\":\"auto\",\"active_inspect\":\"auto\",\"active_scroll\":\"auto\",\"active_tap\":\"auto\",\"tools\":[{\"id\":\"f3c8c50b-32b9-407a-9083-0ad3cdbd0170\",\"type\":\"PanTool\"},{\"id\":\"2e258bbc-4e3f-4253-a8ed-692514d0464f\",\"type\":\"WheelZoomTool\"},{\"id\":\"d90a7333-f619-4012-a9d1-964e52e871df\",\"type\":\"ResetTool\"},{\"id\":\"e049a8f6-0abe-4ff8-96a1-95a182a845eb\",\"type\":\"SaveTool\"}]},\"id\":\"edf92593-9213-4ffb-a615-1e27c463aafb\",\"type\":\"Toolbar\"},{\"attributes\":{\"fill_color\":{\"value\":\"#1f77b4\"},\"line_color\":{\"value\":\"#1f77b4\"},\"size\":{\"units\":\"screen\",\"value\":8},\"x\":{\"field\":\"x1\"},\"y\":{\"field\":\"x2\"}},\"id\":\"dfda330c-45b4-4ce3-8203-e343393fa847\",\"type\":\"Circle\"},{\"attributes\":{},\"id\":\"f23e477c-b9f4-4467-aeba-a76386878497\",\"type\":\"BasicTicker\"},{\"attributes\":{},\"id\":\"b937a220-26e4-46c7-97df-771f6223b30b\",\"type\":\"LinearScale\"},{\"attributes\":{\"dimension\":1,\"plot\":{\"id\":\"0cc005cb-29cb-455b-9823-98e486a743c1\",\"subtype\":\"Figure\",\"type\":\"Plot\"},\"ticker\":{\"id\":\"f23e477c-b9f4-4467-aeba-a76386878497\",\"type\":\"BasicTicker\"}},\"id\":\"26049652-b736-4727-a65a-8f572e6486f9\",\"type\":\"Grid\"},{\"attributes\":{\"callback\":null},\"id\":\"7bd7594a-36cb-44fe-bab3-cc0d98522596\",\"type\":\"DataRange1d\"},{\"attributes\":{\"callback\":null},\"id\":\"9ada6b4b-c6b4-469d-9bc5-e075f86f6b2e\",\"type\":\"DataRange1d\"},{\"attributes\":{},\"id\":\"f3c8c50b-32b9-407a-9083-0ad3cdbd0170\",\"type\":\"PanTool\"},{\"attributes\":{\"plot\":{\"id\":\"0cc005cb-29cb-455b-9823-98e486a743c1\",\"subtype\":\"Figure\",\"type\":\"Plot\"},\"source\":{\"id\":\"6f618aca-d90e-41aa-ae76-f238897f2641\",\"type\":\"ColumnDataSource\"},\"text\":{\"field\":\"names\"},\"text_align\":\"center\",\"text_color\":{\"value\":\"#555555\"},\"text_font_size\":{\"value\":\"8pt\"},\"x\":{\"field\":\"x1\"},\"y\":{\"field\":\"x2\"},\"y_offset\":{\"value\":6}},\"id\":\"108dbb4e-fe58-4a2c-88df-0bda06a8e65f\",\"type\":\"LabelSet\"},{\"attributes\":{},\"id\":\"df476f14-4eac-45e0-8f4f-647e5c32225d\",\"type\":\"LinearScale\"},{\"attributes\":{},\"id\":\"2e258bbc-4e3f-4253-a8ed-692514d0464f\",\"type\":\"WheelZoomTool\"},{\"attributes\":{},\"id\":\"d90a7333-f619-4012-a9d1-964e52e871df\",\"type\":\"ResetTool\"},{\"attributes\":{\"formatter\":{\"id\":\"16dfb068-58a8-4c54-819c-662491533466\",\"type\":\"BasicTickFormatter\"},\"plot\":{\"id\":\"0cc005cb-29cb-455b-9823-98e486a743c1\",\"subtype\":\"Figure\",\"type\":\"Plot\"},\"ticker\":{\"id\":\"b00d5d15-448e-42fe-84ce-fdbeece89f99\",\"type\":\"BasicTicker\"}},\"id\":\"d505f9e4-0011-40db-a006-bd9db5b8acd7\",\"type\":\"LinearAxis\"},{\"attributes\":{\"below\":[{\"id\":\"d505f9e4-0011-40db-a006-bd9db5b8acd7\",\"type\":\"LinearAxis\"}],\"left\":[{\"id\":\"5f174a54-8550-458b-a408-7ac97990b23a\",\"type\":\"LinearAxis\"}],\"plot_height\":900,\"plot_width\":900,\"renderers\":[{\"id\":\"d505f9e4-0011-40db-a006-bd9db5b8acd7\",\"type\":\"LinearAxis\"},{\"id\":\"21d4dfb9-fbea-4076-b9c2-9aa10d64e711\",\"type\":\"Grid\"},{\"id\":\"5f174a54-8550-458b-a408-7ac97990b23a\",\"type\":\"LinearAxis\"},{\"id\":\"26049652-b736-4727-a65a-8f572e6486f9\",\"type\":\"Grid\"},{\"id\":\"fd1554c5-f2c4-49cb-b30a-3266fc3f232e\",\"type\":\"GlyphRenderer\"},{\"id\":\"108dbb4e-fe58-4a2c-88df-0bda06a8e65f\",\"type\":\"LabelSet\"}],\"title\":{\"id\":\"cad337b4-de94-49a3-a0ec-5a992f097def\",\"type\":\"Title\"},\"toolbar\":{\"id\":\"edf92593-9213-4ffb-a615-1e27c463aafb\",\"type\":\"Toolbar\"},\"toolbar_location\":\"above\",\"x_range\":{\"id\":\"9ada6b4b-c6b4-469d-9bc5-e075f86f6b2e\",\"type\":\"DataRange1d\"},\"x_scale\":{\"id\":\"b937a220-26e4-46c7-97df-771f6223b30b\",\"type\":\"LinearScale\"},\"y_range\":{\"id\":\"7bd7594a-36cb-44fe-bab3-cc0d98522596\",\"type\":\"DataRange1d\"},\"y_scale\":{\"id\":\"df476f14-4eac-45e0-8f4f-647e5c32225d\",\"type\":\"LinearScale\"}},\"id\":\"0cc005cb-29cb-455b-9823-98e486a743c1\",\"subtype\":\"Figure\",\"type\":\"Plot\"},{\"attributes\":{\"data_source\":{\"id\":\"6f618aca-d90e-41aa-ae76-f238897f2641\",\"type\":\"ColumnDataSource\"},\"glyph\":{\"id\":\"dfda330c-45b4-4ce3-8203-e343393fa847\",\"type\":\"Circle\"},\"hover_glyph\":null,\"muted_glyph\":null,\"nonselection_glyph\":{\"id\":\"67417465-1124-4622-83a7-c240cc5127e4\",\"type\":\"Circle\"},\"selection_glyph\":null,\"view\":{\"id\":\"3ebc1f6b-a2e7-495a-a320-065657108c42\",\"type\":\"CDSView\"}},\"id\":\"fd1554c5-f2c4-49cb-b30a-3266fc3f232e\",\"type\":\"GlyphRenderer\"},{\"attributes\":{\"source\":{\"id\":\"6f618aca-d90e-41aa-ae76-f238897f2641\",\"type\":\"ColumnDataSource\"}},\"id\":\"3ebc1f6b-a2e7-495a-a320-065657108c42\",\"type\":\"CDSView\"},{\"attributes\":{},\"id\":\"e049a8f6-0abe-4ff8-96a1-95a182a845eb\",\"type\":\"SaveTool\"},{\"attributes\":{},\"id\":\"b00d5d15-448e-42fe-84ce-fdbeece89f99\",\"type\":\"BasicTicker\"},{\"attributes\":{\"plot\":{\"id\":\"0cc005cb-29cb-455b-9823-98e486a743c1\",\"subtype\":\"Figure\",\"type\":\"Plot\"},\"ticker\":{\"id\":\"b00d5d15-448e-42fe-84ce-fdbeece89f99\",\"type\":\"BasicTicker\"}},\"id\":\"21d4dfb9-fbea-4076-b9c2-9aa10d64e711\",\"type\":\"Grid\"},{\"attributes\":{\"callback\":null,\"column_names\":[\"x1\",\"x2\",\"names\"],\"data\":{\"names\":[\"</s>\",\"cid\",\"rio\",\"petrobras\",\"sao\",\"bacia\",\"janeiro\",\"nao\",\"ser\",\"formacao\",\"fig\",\"area\",\"petroleo\",\"producao\",\"figura\",\"agua\",\"gas\",\"oleo\",\"dados\",\"tambem\",\"ate\",\"sistema\",\"pode\",\"onde\",\"cao\",\"forma\",\"maior\",\"tempo\",\"parte\",\"grande\",\"pressao\",\"analise\",\"geologia\",\"bacias\",\"facies\",\"base\",\"campo\",\"pocos\",\"ja\",\"cada\",\"unidade\",\"brasil\",\"tipo\",\"superior\",\"processo\",\"valores\",\"campos\",\"sul\",\"trabalho\",\"bem\",\"caso\",\"zona\",\"temperatura\",\"co\",\"sendo\",\"secao\",\"basin\",\"resultados\",\"fase\",\"rochas\",\"dois\",\"partir\",\"condicoes\",\"atraves\",\"\\u00b7\",\"estudo\",\"total\",\"regiao\",\"inferior\",\"ainda\",\"sequencia\",\"desenvolvimento\",\"arenitos\",\"assim\",\"tabela\",\"metodo\",\"sedimentos\",\"duas\",\"ponto\",\"relacao\",\"modelo\",\"areas\",\"pro\",\"podem\",\"continental\",\"exploracao\",\"numero\",\"mar\",\"tres\",\"alem\",\"valor\",\"neste\",\"projeto\",\"mente\",\"plataforma\",\"jan\",\"outros\",\"topo\",\"paulo\",\"universidade\",\"apos\",\"mento\",\"unidades\",\"norte\",\"pesquisa\",\"segundo\",\"falhas\",\"sistemas\",\"cenpes\",\"deste\",\"figure\",\"pesquisas\",\"nivel\",\"estudos\",\"geral\",\"grupo\",\"operacao\",\"espessura\",\"meio\",\"ca\",\"idade\",\"parana\",\"ai\",\"santos\",\"desta\",\"distribuicao\",\"amostras\",\"longo\",\"apenas\",\"anos\",\"estao\",\"carga\",\"reservatorios\",\"intervalo\",\"funcao\",\"superficie\",\"ar\",\"fluxo\",\"li\",\"km\",\"processos\",\"equacao\",\"deve\",\"material\",\"media\",\"evolucao\",\"centro\",\"volume\",\"uso\",\"medio\",\"ocorrencia\",\"\\u00b0c\",\"brasileira\",\"alguns\",\"pe\",\"presenca\",\"alta\",\"alto\",\"possivel\",\"linha\",\"new\",\"direcao\",\"vez\",\"exemplo\",\"depositos\",\"po\",\"devido\",\"apresenta\",\"engenharia\",\"cm\",\"geology\",\"trabalhos\",\"principais\",\"outro\",\"ter\",\"folhelhos\",\"boletim\",\"corrosao\",\"tal\",\"final\",\"sob\",\"velocidade\",\"quanto\",\"maio\",\"jose\",\"outras\",\"solucao\",\"sido\",\"estrutura\",\"margem\",\"tais\",\"petroleum\",\"divisao\",\"limite\",\"acima\",\"peso\",\"densidade\",\"cerca\",\"menos\",\"diferentes\",\"porcao\",\"entao\",\"caracteristicas\",\"membro\",\"energia\",\"hidrocarbonetos\",\"sp\",\"sera\",\"mesma\",\"sedimentacao\",\"controle\",\"obtidos\",\"aumento\",\"tecnico\",\"jul\",\"profundidade\",\"aguas\",\"amostra\",\"ordem\",\"quais\",\"pois\",\"geociencias\",\"ocorre\",\"reconcavo\",\"oil\",\"data\",\"departamento\",\"metodos\",\"menor\",\"sequencias\",\"sergipe\",\"ambiente\",\"estruturas\",\"perfuracao\",\"programa\",\"vazao\",\"modo\",\"falha\",\"tecnica\",\"reservatorio\",\"tecnologia\",\"aplicacao\",\"mo\",\"industrial\",\"tos\",\"faixa\",\"refinaria\",\"camadas\",\"alagoas\",\"central\",\"formation\",\"dentro\",\"mm\",\"zonas\",\"setor\",\"baixo\",\"fluido\",\"fi\",\"ano\",\"des\",\"deposicao\",\"brasileiro\",\"bahia\",\"produtos\",\"efeito\",\"sedimentares\",\"sedimentar\",\"federal\",\"lado\",\"porosidade\",\"embasamento\",\"primeiro\",\"pouco\",\"abr\",\"principal\",\"rocha\",\"avaliacao\",\"fator\",\"mapa\",\"dade\",\"brazil\",\"principalmente\",\"regional\",\"algumas\",\"qualidade\",\"seguintes\",\"importante\",\"primeira\",\"estrutural\",\"calculo\",\"vista\",\"arenito\",\"mistura\",\"inicio\",\"pontos\",\"nacional\",\"estratigrafica\",\"coes\",\"teor\",\"costa\",\"fato\",\"melhor\",\"vapor\",\"utilizacao\",\"interpretacao\",\"aqui\",\"fundo\",\"presente\",\"metros\",\"nova\",\"periodo\",\"natural\",\"teste\",\"conjunto\",\"coluna\",\"tipos\",\"baixa\",\"todas\",\"portanto\",\"leste\",\"formacoes\",\"grandes\",\"tratamento\",\"diversos\",\"laboratorio\",\"correlacao\",\"apresentam\",\"determinacao\",\"ocorrem\",\"vertical\",\"silva\",\"nesta\",\"ra\",\"atividade\",\"pa\",\"porem\",\"elementos\",\"vezes\",\"cretaceo\",\"escala\",\"problema\",\"conforme\",\"tectonica\",\"maiores\",\"contato\",\"composicao\",\"variacao\",\"embora\",\"rifte\",\"fluidos\",\"autores\",\"parametros\",\"testes\",\"informacoes\",\"analises\",\"permeabilidade\",\"qualquer\",\"problemas\",\"cos\",\"custo\",\"potencial\",\"etc\",\"razao\",\"linhas\",\"mostra\",\"comportamento\",\"entretanto\",\"casos\",\"diametro\",\"origem\",\"produto\",\"influencia\",\"bastante\",\"atividades\",\"devem\",\"secoes\",\"santo\",\"taxa\",\"concentracao\",\"propriedades\",\"cabo\",\"curso\",\"injecao\",\"relatorio\",\"acordo\",\"serra\",\"equipamentos\",\"projetos\",\"si\",\"res\",\"gases\",\"dessa\",\"perfis\",\"curva\",\"objetivo\",\"ta\",\"toda\",\"oleos\",\"materiais\",\"varios\",\"di\",\"tendo\",\"geological\",\"sismica\",\"quantidade\",\"sempre\",\"enquanto\",\"well\",\"basins\",\"tecnicas\",\"pre\",\"aco\",\"manutencao\",\"tes\",\"quatro\",\"per\",\"modelos\",\"foto\",\"padrao\",\"atual\",\"bom\",\"perfil\",\"quimica\",\"recuperacao\",\"fatores\",\"fim\",\"estratigrafia\",\"introducao\",\"seismic\",\"abstract\",\"niveis\",\"carbono\",\"cor\",\"dia\",\"tubos\",\"inicial\",\"catalisador\",\"ro\",\"nov\",\"york\",\"serem\",\"capacidade\",\"materia\",\"antonio\",\"fonte\",\"local\",\"somente\",\"serie\",\"necessario\",\"cia\",\"posicao\",\"normal\",\"viscosidade\",\"tecnicos\",\"calor\",\"fm\",\"constante\",\"pais\",\"massa\",\"grau\",\"potiguar\",\"curvas\",\"reducao\",\"desses\",\"maximo\",\"originais\",\"amazonas\",\"filho\",\"geracao\",\"analysis\",\"destes\",\"serao\",\"nordeste\",\"industria\",\"maxima\",\"boa\",\"outra\",\"research\",\"oeste\",\"vem\",\"organica\",\"podese\",\"diversas\",\"figs\",\"corrente\",\"espirito\",\"ba\",\"lama\",\"ne\",\"deformacao\",\"quase\",\"geologico\",\"comprimento\",\"importancia\",\"eventos\",\"resistencia\",\"american\",\"testemunhos\",\"tensao\",\"inspecao\",\"autor\",\"graos\",\"variacoes\",\"calcarios\",\"va\",\"sedimentary\",\"ex\",\"fases\",\"gasolina\",\"recursos\",\"original\",\"section\",\"minerais\",\"desse\",\"rift\",\"carlos\",\"iv\",\"sal\",\"abaixo\",\"empresa\",\"tamanho\",\"medida\",\"liquido\",\"componentes\",\"permite\",\"discordancia\",\"equacoes\",\"temperaturas\",\"francisco\",\"deposicional\",\"frequencia\",\"diesel\",\"acao\",\"xisto\",\"novas\",\"ver\",\"petro\",\"folhelho\",\"feita\",\"representa\",\"atualmente\",\"simples\",\"planejamento\",\"aproximadamente\",\"camada\",\"acido\",\"transporte\",\"consumo\",\"associacao\",\"resultado\",\"oi\",\"informacao\",\"registro\",\"custos\",\"separacao\",\"resolucao\",\"coordenador\",\"demais\",\"vi\",\"kg\",\"borda\",\"conhecimento\",\"indice\",\"fontes\",\"varias\",\"espaco\",\"andar\",\"sequence\",\"geologica\",\"termica\",\"perda\",\"tubo\",\"novo\",\"tulsa\",\"interno\",\"joao\",\"society\",\"horizontal\",\"seguinte\",\"neto\",\"processamento\",\"estagio\",\"cimento\",\"caracterizacao\",\"aspectos\",\"situacao\",\"plano\",\"dias\",\"descricao\",\"south\",\"natureza\",\"terra\",\"utilizado\",\"corpo\",\"coeficiente\",\"variaveis\",\"geometria\",\"importantes\",\"matriz\",\"ppm\",\"mentos\",\"seguir\",\"maneira\",\"dimensoes\",\"estruturais\",\"feicoes\",\"system\",\"souza\",\"stratigraphic\",\"finos\",\"resumo\",\"alii\",\"termos\",\"university\",\"igual\",\"extensao\",\"mg\",\"relativa\",\"regioes\",\"intervalos\",\"luiz\",\"referencia\",\"possui\",\"mapas\",\"quadro\",\"rocks\",\"transferencia\",\"brazilian\",\"comparacao\",\"apesar\",\"localizacao\",\"sa\",\"flow\",\"time\",\"journal\",\"evento\",\"utilizados\",\"argila\",\"also\",\"corresponde\",\"instituto\",\"dado\",\"pes\",\"destas\",\"oliveira\",\"testemunho\",\"cas\",\"tendencia\",\"servicos\",\"lateral\",\"construcao\",\"necessidade\",\"af\",\"sergipealagoas\",\"deposicionais\",\"recebidos\",\"seguranca\",\"diferenca\",\"respectivamente\",\"epoca\",\"marco\",\"limites\",\"companhia\",\"ci\",\"marinha\",\"existencia\",\"novos\",\"brasileiras\",\"medidas\",\"especies\",\"fracao\",\"cretaceous\",\"maioria\",\"efeitos\",\"alves\",\"grafico\",\"tucano\",\"carbonatos\",\"membrana\",\"dagua\",\"orgao\",\"compostos\",\"high\",\"especial\",\"mineral\",\"pos\",\"bloco\",\"relativamente\",\"ciclo\",\"enxofre\",\"study\",\"servico\",\"obtidas\",\"canais\",\"sismicas\",\"destilacao\",\"field\",\"carater\",\"torno\",\"profundas\",\"cuja\",\"interior\",\"combustivel\",\"salvador\",\"subsidencia\",\"areia\",\"raios\",\"entrada\",\"dessas\",\"operacoes\",\"api\",\"nesse\",\"maria\",\"obtencao\",\"correntes\",\"figuras\",\"indica\",\"two\",\"conclusoes\",\"reacao\",\"corte\",\"model\",\"tanques\",\"anterior\",\"poros\",\"geologicos\",\"disso\",\"horas\",\"pequena\",\"hoje\",\"amplitude\",\"corpos\",\"obter\",\"evolution\",\"segunda\",\"entanto\",\"albiano\",\"cursos\",\"definicao\",\"eixo\",\"marinho\",\"figo\",\"carvao\",\"presentes\",\"blocos\",\"taxas\",\"instalacao\",\"minimo\",\"vida\",\"esquema\",\"marine\",\"refinacao\",\"offshore\",\"df\",\"historia\",\"congresso\",\"obtido\",\"santa\",\"normalmente\",\"water\",\"sociedade\",\"im\",\"mestrado\",\"escola\",\"afloramentos\",\"texto\",\"cinco\",\"artigo\",\"barra\",\"geralmente\",\"objetivos\",\"tra\",\"angulo\",\"obtida\",\"mostram\",\"association\",\"existentes\",\"relacoes\",\"indicam\",\"dada\",\"first\",\"provavelmente\",\"associados\",\"revisao\",\"america\",\"reator\",\"paises\",\"alberto\",\"cal\",\"par\",\"macao\",\"ostracodes\",\"procedimento\",\"conta\",\"fino\",\"atlantico\",\"interesse\",\"inter\",\"usado\",\"aspecto\",\"torre\",\"dis\",\"alcool\",\"devera\",\"fe\",\"altos\",\"interna\",\"tion\",\"porto\",\"\\u2022\\u2022\",\"junto\",\"lower\",\"pressoes\",\"equipamento\",\"based\",\"course\",\"integracao\",\"formado\",\"argilas\",\"\\u00b1\",\"cc\",\"formas\",\"modelagem\",\"contem\",\"map\",\"pessoal\",\"menores\",\"structural\",\"nessa\",\"fazer\",\"estratigrafico\",\"proximo\",\"lamina\",\"real\",\"mb\",\"ultima\",\"tese\",\"part\",\"ph\",\"literatura\",\"pol\",\"especie\",\"identificacao\",\"tensoes\",\"tectonic\",\"ciclos\",\"sudeste\",\"mercado\",\"grupos\",\"fluxos\",\"apresentados\",\"classificacao\",\"geo\",\"referencias\",\"cf\",\"momento\",\"quartzo\",\"tanque\",\"cidade\",\"apoio\",\"possibilidade\",\"global\",\"upper\",\"apresentado\",\"one\",\"altura\",\"geologists\",\"contexto\",\"gerais\",\"cp\",\"systems\",\"item\",\"consiste\",\"candeias\",\"fo\",\"margin\",\"tracos\",\"feito\",\"observacoes\",\"escoamento\",\"sismicos\",\"derivados\",\"crescimento\",\"levantamento\",\"log\",\"regime\",\"io\",\"protecao\",\"forte\",\"tao\",\"genero\",\"nome\",\"devese\",\"ram\",\"car\",\"hidrogenio\",\"ciencias\",\"ponta\",\"preto\",\"contudo\",\"min\",\"espessuras\",\"bibliograficas\",\"versus\",\"tecnologica\",\"ia\",\"fa\",\"papel\",\"diretamente\",\"etapa\",\"ambientes\",\"experiencia\",\"racao\",\"mos\",\"revista\",\"primeiros\",\"saida\",\"chemical\",\"pratica\",\"geoquimica\",\"altas\",\"arcabouco\",\"termo\",\"reservoir\",\"coque\",\"praticamente\",\"fernando\",\"ana\",\"eo\",\"ambos\",\"psi\",\"gama\",\"eficiencia\",\"basal\",\"podera\",\"martins\",\"cinza\",\"agora\",\"deslocamento\",\"ensaios\",\"fluvial\",\"realizados\",\"associacoes\",\"earth\",\"sandstones\",\"fina\",\"ilha\",\"anexo\",\"calha\",\"programas\",\"secretariaexecutiva\",\"ceara\",\"distancia\",\"exploration\",\"tec\",\"pacote\",\"misturas\",\"seis\",\"tam\",\"sedi\",\"orgaos\",\"ri\",\"engineering\",\"oxigenio\",\"expressao\",\"existe\",\"rios\",\"du\",\"mesmos\",\"sediments\",\"permeacao\",\"observado\",\"solda\",\"existem\",\"mello\",\"posteriormente\",\"logo\",\"bras\",\"observase\",\"used\",\"dominio\",\"varia\",\"development\",\"alegre\",\"migracao\",\"diagrama\",\"particulas\",\"solucoes\",\"lima\",\"correspondente\",\"utilizada\",\"barris\",\"br\",\"partes\",\"vale\",\"locais\",\"mudanca\",\"pedro\",\"eoceno\",\"amostragem\"],\"x1\":{\"__ndarray__\":\"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\",\"dtype\":\"float32\",\"shape\":[1000]},\"x2\":{\"__ndarray__\":\"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\",\"dtype\":\"float32\",\"shape\":[1000]}}},\"id\":\"6f618aca-d90e-41aa-ae76-f238897f2641\",\"type\":\"ColumnDataSource\"},{\"attributes\":{\"fill_alpha\":{\"value\":0.1},\"fill_color\":{\"value\":\"#1f77b4\"},\"line_alpha\":{\"value\":0.1},\"line_color\":{\"value\":\"#1f77b4\"},\"size\":{\"units\":\"screen\",\"value\":8},\"x\":{\"field\":\"x1\"},\"y\":{\"field\":\"x2\"}},\"id\":\"67417465-1124-4622-83a7-c240cc5127e4\",\"type\":\"Circle\"}],\"root_ids\":[\"0cc005cb-29cb-455b-9823-98e486a743c1\"]},\"title\":\"Bokeh Application\",\"version\":\"0.12.10\"}};\n",
       "    var render_items = [{\"docid\":\"cd1d65a7-be73-45d3-8112-dc8ff634c2c9\",\"elementid\":\"86ef4483-da26-4a3a-8329-621a56bea71a\",\"modelid\":\"0cc005cb-29cb-455b-9823-98e486a743c1\"}];\n",
       "\n",
       "    root.Bokeh.embed.embed_items(docs_json, render_items);\n",
       "  }\n",
       "\n",
       "  if (root.Bokeh !== undefined) {\n",
       "    embed_document(root);\n",
       "  } else {\n",
       "    var attempts = 0;\n",
       "    var timer = setInterval(function(root) {\n",
       "      if (root.Bokeh !== undefined) {\n",
       "        embed_document(root);\n",
       "        clearInterval(timer);\n",
       "      }\n",
       "      attempts++;\n",
       "      if (attempts > 100) {\n",
       "        console.log(\"Bokeh: ERROR: Unable to embed document because BokehJS library is missing\")\n",
       "        clearInterval(timer);\n",
       "      }\n",
       "    }, 10, root)\n",
       "  }\n",
       "})(window);"
      ],
      "application/vnd.bokehjs_exec.v0+json": ""
     },
     "metadata": {
      "application/vnd.bokehjs_exec.v0+json": {
       "id": "0cc005cb-29cb-455b-9823-98e486a743c1"
      }
     },
     "output_type": "display_data"
    }
   ],
   "source": [
    "p = figure(tools=\"pan,wheel_zoom,reset,save\",\n",
    "           toolbar_location=\"above\",\n",
    "           title=\"fasttext T-SNE for most common words\",\n",
    "           plot_width=900, \n",
    "           plot_height=900)\n",
    "\n",
    "source = ColumnDataSource(data=dict(x1=embed_tsne[:,0],\n",
    "                                    x2=embed_tsne[:,1],\n",
    "                                    names=vocabulario))\n",
    "\n",
    "p.scatter(x=\"x1\", y=\"x2\", size=8, source=source)\n",
    "\n",
    "labels = LabelSet(x=\"x1\", y=\"x2\", text=\"names\", y_offset=6,\n",
    "                  text_font_size=\"8pt\", text_color=\"#555555\",\n",
    "                  source=source, text_align='center')\n",
    "p.add_layout(labels)\n",
    "\n",
    "show(p)"
   ]
  },
  {
   "cell_type": "markdown",
   "metadata": {
    "collapsed": true
   },
   "source": [
    "## Conclusões do estudo com modelo FastText\n",
    "\n",
    "- Conforme anteriormente descrito no trabalho da USP (Hartman et al), o modelo fastText, por sua premissa de utilização de n-grams, apresenta melhores resultados quando considerados os aspectos sintáticos das palavras. Nota-se que operações de similaridade foram capazes de retornar resultados mesmo quando a palavra em questão não existe no vocabulário (reservatorio reservatório, reervatorio). Porém, parte em função da qualidade do corpus, parte em função da natureza do algoritmo, diversas outras palavras com formato de grafia próximo foram retornadas (porém sem relevância no aspecto semântico).\n",
    "- \"*On average, GloVe was the best model for both Portuguese variants. The model which best performed on syntactic analogies was FastText, followed by Wang2Vec. This makes sense since FastText is a morphological model, and Wang2Vec uses word order, which provides some minimal syntactic knowledge. In semantic analogies, the model which best performed was GloVe, followed by Wang2Vec. GloVe is known for modeling semantic information well. Wang2Vec potentially captures semantics because it uses word order.\"* (Hartman et al, 2016)\n",
    "- Recomenda-se, portanto, realizar testes com a geração de embeddings usando o GloVe (Stanford)\n",
    "- Observa-se no grafico (plotado com tSNE) a ocorrência de diversos termos pouco relevantes semanticamente. Ou seja, no caso onde o aspecto semântico seja mais relevante, o fastText pode não ser o algoritmo mais indicado."
   ]
  },
  {
   "cell_type": "code",
   "execution_count": null,
   "metadata": {
    "collapsed": true
   },
   "outputs": [],
   "source": []
  }
 ],
 "metadata": {
  "kernelspec": {
   "display_name": "Python 3",
   "language": "python",
   "name": "python3"
  },
  "language_info": {
   "codemirror_mode": {
    "name": "ipython",
    "version": 3
   },
   "file_extension": ".py",
   "mimetype": "text/x-python",
   "name": "python",
   "nbconvert_exporter": "python",
   "pygments_lexer": "ipython3",
   "version": "3.6.3"
  }
 },
 "nbformat": 4,
 "nbformat_minor": 2
}
