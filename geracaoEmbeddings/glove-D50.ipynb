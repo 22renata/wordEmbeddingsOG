{
 "cells": [
  {
   "cell_type": "code",
   "execution_count": 1,
   "metadata": {},
   "outputs": [
    {
     "name": "stderr",
     "output_type": "stream",
     "text": [
      "C:\\Users\\czl6\\AppData\\Local\\Continuum\\anaconda3\\lib\\site-packages\\gensim\\utils.py:865: UserWarning: detected Windows; aliasing chunkize to chunkize_serial\n",
      "  warnings.warn(\"detected Windows; aliasing chunkize to chunkize_serial\")\n"
     ]
    }
   ],
   "source": [
    "import gensim\n",
    "from gensim.models import KeyedVectors\n",
    "import os\n",
    "from pathlib import Path\n",
    "import datetime"
   ]
  },
  {
   "cell_type": "code",
   "execution_count": 4,
   "metadata": {},
   "outputs": [],
   "source": [
    "# convert GloVe to Gensim format\n",
    "# https://radimrehurek.com/gensim/scripts/glove2word2vec.html\n",
    "#from gensim.test.utils import datapath, get_tmpfile\n",
    "#from gensim.models import KeyedVectors\n",
    "\n",
    "#glove_file = datapath('modelos/glove-50.txt')\n",
    "#tmp_file = get_tmpfile(\"modelos/glove-gensim-50.txt\")\n",
    "#from gensim.scripts.glove2word2vec import glove2word2vec\n",
    "#glove2word2vec(glove_file, tmp_file)"
   ]
  },
  {
   "cell_type": "markdown",
   "metadata": {},
   "source": [
    "## Considerando vetor de embedding com 50 dimensões"
   ]
  },
  {
   "cell_type": "code",
   "execution_count": 5,
   "metadata": {},
   "outputs": [],
   "source": [
    "# Salvando o modelo\n",
    "arquivoModelo = os.path.join(\"modelos\", 'glove-50.txt')\n",
    "model = KeyedVectors.load_word2vec_format(arquivoModelo, unicode_errors=\"ignore\")"
   ]
  },
  {
   "cell_type": "code",
   "execution_count": 6,
   "metadata": {
    "collapsed": true
   },
   "outputs": [],
   "source": [
    "vocab = model.wv.index2word"
   ]
  },
  {
   "cell_type": "code",
   "execution_count": 7,
   "metadata": {},
   "outputs": [
    {
     "name": "stdout",
     "output_type": "stream",
     "text": [
      "['cid', 'sao', 'nao', 'gas', 'petroleo', 'ser', 'rio', 'petrobras', 'figura', 'producao']\n",
      "Tamanho do Vocabulario:  77182\n"
     ]
    }
   ],
   "source": [
    "print(vocab[:10])\n",
    "print('Tamanho do Vocabulario: ', len(vocab))"
   ]
  },
  {
   "cell_type": "code",
   "execution_count": 8,
   "metadata": {},
   "outputs": [
    {
     "name": "stdout",
     "output_type": "stream",
     "text": [
      "Word2vec: [('gasmigfirmegeral', 0.9604566097259521), ('rpbajdirex', 0.7686536312103271), ('cenpes', 0.7525306344032288), ('empresa', 0.7129106521606445), ('janeiropetrobras', 0.6954078078269958), ('e&p', 0.6941690444946289), ('mercedes·benz', 0.6922552585601807), ('brasil', 0.6901854872703552), ('janeiro', 0.6744484305381775), ('ecoscientia', 0.6652963757514954)]\n"
     ]
    }
   ],
   "source": [
    "print(\"Word2vec:\", model.most_similar(\"petrobras\"))"
   ]
  },
  {
   "cell_type": "code",
   "execution_count": 9,
   "metadata": {},
   "outputs": [
    {
     "name": "stdout",
     "output_type": "stream",
     "text": [
      "Word2vec: [('covetorial', 0.8382176160812378), ('campos', 0.7075904607772827), ('pocos', 0.6742446422576904), ('reservatorios', 0.6723582744598389), ('\\x1a\\x05\\x10', 0.6675708889961243), ('reservatorio', 0.6525533199310303), ('onde', 0.6431195735931396), ('gzmax', 0.6340122222900391), ('petrolifero', 0.6324185132980347), ('gutknecht', 0.6293708086013794)]\n"
     ]
    }
   ],
   "source": [
    "print(\"Word2vec:\", model.most_similar(\"campo\"))"
   ]
  },
  {
   "cell_type": "code",
   "execution_count": 10,
   "metadata": {},
   "outputs": [
    {
     "name": "stdout",
     "output_type": "stream",
     "text": [
      "Word2vec: [('albacora', 0.8015869855880737), ('barracuda', 0.7430171966552734), ('roncador', 0.7153001427650452), ('moreia', 0.693330705165863), ('jubarte', 0.6855957508087158), ('marimba', 0.6649407744407654), ('ssao', 0.6380547285079956), ('itapu', 0.6209316849708557), ('tldbms', 0.6090062856674194), ('enchova', 0.5988696217536926)]\n"
     ]
    }
   ],
   "source": [
    "print(\"Word2vec:\", model.most_similar(\"marlim\"))"
   ]
  },
  {
   "cell_type": "code",
   "execution_count": 11,
   "metadata": {},
   "outputs": [
    {
     "name": "stdout",
     "output_type": "stream",
     "text": [
      "Word2vec: [('catole', 0.8259209990501404), ('ldalina', 0.7176993489265442), ('porosidade', 0.7160874009132385), ('parental', 0.6938738226890564), ('poroso', 0.6866670250892639), ('maronna', 0.6649055480957031), ('sedimento', 0.6521169543266296), ('encaixante', 0.6515383124351501), ('idalina', 0.6442184448242188), ('reservatorio', 0.6364302635192871)]\n"
     ]
    }
   ],
   "source": [
    "print(\"Word2vec:\", model.most_similar(\"rocha\"))"
   ]
  },
  {
   "cell_type": "code",
   "execution_count": 12,
   "metadata": {},
   "outputs": [
    {
     "name": "stdout",
     "output_type": "stream",
     "text": [
      "Word2vec: [('permeabilidade', 0.8473916053771973), ('reservatorio', 0.7233922481536865), ('rocha', 0.7160875201225281), ('rosidade', 0.6588406562805176), ('poroso', 0.6547825336456299), ('reservatorios', 0.6492296457290649), ('meabilidade', 0.6315474510192871), ('efetiva', 0.6315104961395264), ('saturacao', 0.6302693486213684), ('ntg', 0.6180530786514282)]\n"
     ]
    }
   ],
   "source": [
    "print(\"Word2vec:\", model.most_similar(\"porosidade\"))"
   ]
  },
  {
   "cell_type": "code",
   "execution_count": 13,
   "metadata": {},
   "outputs": [
    {
     "name": "stdout",
     "output_type": "stream",
     "text": [
      "Word2vec: [('porosidade', 0.847391664981842), ('meabilidade', 0.7083451151847839), ('relativa', 0.7004615068435669), ('saturacao', 0.6869730949401855), ('reservatorio', 0.6814914345741272), ('poroso', 0.6724548935890198), ('viscosidade', 0.6622287631034851), ('efetiva', 0.652356743812561), ('\\x11&\\x1a', 0.6523171663284302), ('razao', 0.6418138146400452)]\n"
     ]
    }
   ],
   "source": [
    "print(\"Word2vec:\", model.most_similar(\"permeabilidade\"))"
   ]
  },
  {
   "cell_type": "code",
   "execution_count": 14,
   "metadata": {},
   "outputs": [
    {
     "name": "stdout",
     "output_type": "stream",
     "text": [
      "Word2vec: [('petroleo', 0.784193754196167), ('fabricaquimica', 0.7730550765991211), ('refino', 0.7396332621574402), ('eternal', 0.7354158759117126), ('natural', 0.7215206623077393), ('ecoscientia', 0.7195308208465576), ('ducao', 0.7170788645744324), ('produzido', 0.7128600478172302), ('exploracao', 0.7120190858840942), ('recuperacao', 0.6966620683670044)]\n"
     ]
    }
   ],
   "source": [
    "print(\"Word2vec:\", model.most_similar(\"producao\"))"
   ]
  },
  {
   "cell_type": "code",
   "execution_count": 15,
   "metadata": {},
   "outputs": [
    {
     "name": "stdout",
     "output_type": "stream",
     "text": [
      "Word2vec: [('agua', 0.8026376366615295), ('volume', 0.7131421566009521), ('produzido', 0.6874487400054932), ('naboforrageiro', 0.6764057874679565), ('qualificacaoagentesimportadores', 0.664391815662384), ('combustivel', 0.6623352766036987), ('petroleo', 0.6617597341537476), ('oleos', 0.6575645208358765), ('pesado', 0.6574821472167969), ('sulbrasil', 0.6573157906532288)]\n"
     ]
    }
   ],
   "source": [
    "print(\"Word2vec:\", model.most_similar(\"oleo\"))"
   ]
  },
  {
   "cell_type": "code",
   "execution_count": 16,
   "metadata": {},
   "outputs": [
    {
     "name": "stdout",
     "output_type": "stream",
     "text": [
      "Word2vec: [('reservatorios', 0.7976086139678955), ('poroso', 0.7442668676376343), ('porosidade', 0.7233922481536865), ('fluxo', 0.706466794013977), ('permeabilidade', 0.6814913153648376), ('pressao', 0.6666833162307739), ('saturacao', 0.6597464680671692), ('injecao', 0.65528804063797), ('fluido', 0.6543921232223511), ('pocos', 0.6527962684631348)]\n"
     ]
    }
   ],
   "source": [
    "print(\"Word2vec:\", model.most_similar(\"reservatorio\"))"
   ]
  },
  {
   "cell_type": "code",
   "execution_count": 17,
   "metadata": {},
   "outputs": [
    {
     "name": "stdout",
     "output_type": "stream",
     "text": [
      "Word2vec: [('covetorial', 0.7418164610862732), ('profundidade', 0.6335651278495789), ('campos', 0.6305902004241943), ('onde', 0.6065067648887634), ('\\x13\\x0e\\x10', 0.604987621307373), ('\\x0e\\x1a\\x04\\x05', 0.6042649745941162), ('reservatorios', 0.592441976070404), ('imln', 0.5874015092849731), ('lumpzona', 0.5779479146003723), ('\\x16\\x15\\x12\\x18\\x19\\x1a', 0.5719559192657471)]\n"
     ]
    }
   ],
   "source": [
    "print(\"Word2vec:\", model.most_similar(positive=[\"campo\", \"albacora\"], negative=[\"marlim\"]))"
   ]
  },
  {
   "cell_type": "code",
   "execution_count": 18,
   "metadata": {
    "collapsed": true
   },
   "outputs": [],
   "source": [
    "%matplotlib inline\n",
    "%config InlineBackend.figure_format = 'retina'\n",
    "\n",
    "\n",
    "import matplotlib.pyplot as plt\n",
    "from sklearn.manifold import TSNE\n",
    "import numpy as np"
   ]
  },
  {
   "cell_type": "code",
   "execution_count": 19,
   "metadata": {},
   "outputs": [
    {
     "name": "stdout",
     "output_type": "stream",
     "text": [
      "1000\n",
      "(1000, 50)\n"
     ]
    }
   ],
   "source": [
    "vocab_init = 0\n",
    "num_palavras = 1000\n",
    "\n",
    "vocabulario = model.wv.index2word\n",
    "vocabulario = vocabulario[:num_palavras]\n",
    "print(len(vocabulario))\n",
    "\n",
    "vetores = list()\n",
    "for id in range(vocab_init, num_palavras):\n",
    "    vetores.append(model.wv.word_vec(vocabulario[id]));\n",
    "\n",
    "matrix = np.vstack(vetores)    \n",
    "    \n",
    "print(matrix.shape)"
   ]
  },
  {
   "cell_type": "code",
   "execution_count": 20,
   "metadata": {},
   "outputs": [
    {
     "name": "stdout",
     "output_type": "stream",
     "text": [
      "Wall time: 31.2 s\n"
     ]
    }
   ],
   "source": [
    "%%time\n",
    "tsne = TSNE(n_components=2, random_state=0)\n",
    "embed_tsne = tsne.fit_transform(vetores)"
   ]
  },
  {
   "cell_type": "code",
   "execution_count": 21,
   "metadata": {},
   "outputs": [
    {
     "data": {
      "text/html": [
       "\n",
       "    <div class=\"bk-root\">\n",
       "        <a href=\"https://bokeh.pydata.org\" target=\"_blank\" class=\"bk-logo bk-logo-small bk-logo-notebook\"></a>\n",
       "        <span id=\"b619adfc-da1a-4de3-b647-cc11cdc5f27f\">Loading BokehJS ...</span>\n",
       "    </div>"
      ]
     },
     "metadata": {},
     "output_type": "display_data"
    },
    {
     "data": {
      "application/javascript": [
       "\n",
       "(function(root) {\n",
       "  function now() {\n",
       "    return new Date();\n",
       "  }\n",
       "\n",
       "  var force = true;\n",
       "\n",
       "  if (typeof (root._bokeh_onload_callbacks) === \"undefined\" || force === true) {\n",
       "    root._bokeh_onload_callbacks = [];\n",
       "    root._bokeh_is_loading = undefined;\n",
       "  }\n",
       "\n",
       "  var JS_MIME_TYPE = 'application/javascript';\n",
       "  var HTML_MIME_TYPE = 'text/html';\n",
       "  var EXEC_MIME_TYPE = 'application/vnd.bokehjs_exec.v0+json';\n",
       "  var CLASS_NAME = 'output_bokeh rendered_html';\n",
       "\n",
       "  /**\n",
       "   * Render data to the DOM node\n",
       "   */\n",
       "  function render(props, node) {\n",
       "    var script = document.createElement(\"script\");\n",
       "    node.appendChild(script);\n",
       "  }\n",
       "\n",
       "  /**\n",
       "   * Handle when an output is cleared or removed\n",
       "   */\n",
       "  function handleClearOutput(event, handle) {\n",
       "    var cell = handle.cell;\n",
       "\n",
       "    var id = cell.output_area._bokeh_element_id;\n",
       "    var server_id = cell.output_area._bokeh_server_id;\n",
       "    // Clean up Bokeh references\n",
       "    if (id !== undefined) {\n",
       "      Bokeh.index[id].model.document.clear();\n",
       "      delete Bokeh.index[id];\n",
       "    }\n",
       "\n",
       "    if (server_id !== undefined) {\n",
       "      // Clean up Bokeh references\n",
       "      var cmd = \"from bokeh.io.state import curstate; print(curstate().uuid_to_server['\" + server_id + \"'].get_sessions()[0].document.roots[0]._id)\";\n",
       "      cell.notebook.kernel.execute(cmd, {\n",
       "        iopub: {\n",
       "          output: function(msg) {\n",
       "            var element_id = msg.content.text.trim();\n",
       "            Bokeh.index[element_id].model.document.clear();\n",
       "            delete Bokeh.index[element_id];\n",
       "          }\n",
       "        }\n",
       "      });\n",
       "      // Destroy server and session\n",
       "      var cmd = \"import bokeh.io.notebook as ion; ion.destroy_server('\" + server_id + \"')\";\n",
       "      cell.notebook.kernel.execute(cmd);\n",
       "    }\n",
       "  }\n",
       "\n",
       "  /**\n",
       "   * Handle when a new output is added\n",
       "   */\n",
       "  function handleAddOutput(event, handle) {\n",
       "    var output_area = handle.output_area;\n",
       "    var output = handle.output;\n",
       "\n",
       "    // limit handleAddOutput to display_data with EXEC_MIME_TYPE content only\n",
       "    if ((output.output_type != \"display_data\") || (!output.data.hasOwnProperty(EXEC_MIME_TYPE))) {\n",
       "      return\n",
       "    }\n",
       "\n",
       "    var toinsert = output_area.element.find(`.${CLASS_NAME.split(' ')[0]}`);\n",
       "\n",
       "    if (output.metadata[EXEC_MIME_TYPE][\"id\"] !== undefined) {\n",
       "      toinsert[0].firstChild.textContent = output.data[JS_MIME_TYPE];\n",
       "      // store reference to embed id on output_area\n",
       "      output_area._bokeh_element_id = output.metadata[EXEC_MIME_TYPE][\"id\"];\n",
       "    }\n",
       "    if (output.metadata[EXEC_MIME_TYPE][\"server_id\"] !== undefined) {\n",
       "      var bk_div = document.createElement(\"div\");\n",
       "      bk_div.innerHTML = output.data[HTML_MIME_TYPE];\n",
       "      var script_attrs = bk_div.children[0].attributes;\n",
       "      for (var i = 0; i < script_attrs.length; i++) {\n",
       "        toinsert[0].firstChild.setAttribute(script_attrs[i].name, script_attrs[i].value);\n",
       "      }\n",
       "      // store reference to server id on output_area\n",
       "      output_area._bokeh_server_id = output.metadata[EXEC_MIME_TYPE][\"server_id\"];\n",
       "    }\n",
       "  }\n",
       "\n",
       "  function register_renderer(events, OutputArea) {\n",
       "\n",
       "    function append_mime(data, metadata, element) {\n",
       "      // create a DOM node to render to\n",
       "      var toinsert = this.create_output_subarea(\n",
       "        metadata,\n",
       "        CLASS_NAME,\n",
       "        EXEC_MIME_TYPE\n",
       "      );\n",
       "      this.keyboard_manager.register_events(toinsert);\n",
       "      // Render to node\n",
       "      var props = {data: data, metadata: metadata[EXEC_MIME_TYPE]};\n",
       "      render(props, toinsert[0]);\n",
       "      element.append(toinsert);\n",
       "      return toinsert\n",
       "    }\n",
       "\n",
       "    /* Handle when an output is cleared or removed */\n",
       "    events.on('clear_output.CodeCell', handleClearOutput);\n",
       "    events.on('delete.Cell', handleClearOutput);\n",
       "\n",
       "    /* Handle when a new output is added */\n",
       "    events.on('output_added.OutputArea', handleAddOutput);\n",
       "\n",
       "    /**\n",
       "     * Register the mime type and append_mime function with output_area\n",
       "     */\n",
       "    OutputArea.prototype.register_mime_type(EXEC_MIME_TYPE, append_mime, {\n",
       "      /* Is output safe? */\n",
       "      safe: true,\n",
       "      /* Index of renderer in `output_area.display_order` */\n",
       "      index: 0\n",
       "    });\n",
       "  }\n",
       "\n",
       "  // register the mime type if in Jupyter Notebook environment and previously unregistered\n",
       "  if (root.Jupyter !== undefined) {\n",
       "    var events = require('base/js/events');\n",
       "    var OutputArea = require('notebook/js/outputarea').OutputArea;\n",
       "\n",
       "    if (OutputArea.prototype.mime_types().indexOf(EXEC_MIME_TYPE) == -1) {\n",
       "      register_renderer(events, OutputArea);\n",
       "    }\n",
       "  }\n",
       "\n",
       "  \n",
       "  if (typeof (root._bokeh_timeout) === \"undefined\" || force === true) {\n",
       "    root._bokeh_timeout = Date.now() + 5000;\n",
       "    root._bokeh_failed_load = false;\n",
       "  }\n",
       "\n",
       "  var NB_LOAD_WARNING = {'data': {'text/html':\n",
       "     \"<div style='background-color: #fdd'>\\n\"+\n",
       "     \"<p>\\n\"+\n",
       "     \"BokehJS does not appear to have successfully loaded. If loading BokehJS from CDN, this \\n\"+\n",
       "     \"may be due to a slow or bad network connection. Possible fixes:\\n\"+\n",
       "     \"</p>\\n\"+\n",
       "     \"<ul>\\n\"+\n",
       "     \"<li>re-rerun `output_notebook()` to attempt to load from CDN again, or</li>\\n\"+\n",
       "     \"<li>use INLINE resources instead, as so:</li>\\n\"+\n",
       "     \"</ul>\\n\"+\n",
       "     \"<code>\\n\"+\n",
       "     \"from bokeh.resources import INLINE\\n\"+\n",
       "     \"output_notebook(resources=INLINE)\\n\"+\n",
       "     \"</code>\\n\"+\n",
       "     \"</div>\"}};\n",
       "\n",
       "  function display_loaded() {\n",
       "    var el = document.getElementById(\"b619adfc-da1a-4de3-b647-cc11cdc5f27f\");\n",
       "    if (el != null) {\n",
       "      el.textContent = \"BokehJS is loading...\";\n",
       "    }\n",
       "    if (root.Bokeh !== undefined) {\n",
       "      if (el != null) {\n",
       "        el.textContent = \"BokehJS \" + root.Bokeh.version + \" successfully loaded.\";\n",
       "      }\n",
       "    } else if (Date.now() < root._bokeh_timeout) {\n",
       "      setTimeout(display_loaded, 100)\n",
       "    }\n",
       "  }\n",
       "\n",
       "\n",
       "  function run_callbacks() {\n",
       "    try {\n",
       "      root._bokeh_onload_callbacks.forEach(function(callback) { callback() });\n",
       "    }\n",
       "    finally {\n",
       "      delete root._bokeh_onload_callbacks\n",
       "    }\n",
       "    console.info(\"Bokeh: all callbacks have finished\");\n",
       "  }\n",
       "\n",
       "  function load_libs(js_urls, callback) {\n",
       "    root._bokeh_onload_callbacks.push(callback);\n",
       "    if (root._bokeh_is_loading > 0) {\n",
       "      console.log(\"Bokeh: BokehJS is being loaded, scheduling callback at\", now());\n",
       "      return null;\n",
       "    }\n",
       "    if (js_urls == null || js_urls.length === 0) {\n",
       "      run_callbacks();\n",
       "      return null;\n",
       "    }\n",
       "    console.log(\"Bokeh: BokehJS not loaded, scheduling load and callback at\", now());\n",
       "    root._bokeh_is_loading = js_urls.length;\n",
       "    for (var i = 0; i < js_urls.length; i++) {\n",
       "      var url = js_urls[i];\n",
       "      var s = document.createElement('script');\n",
       "      s.src = url;\n",
       "      s.async = false;\n",
       "      s.onreadystatechange = s.onload = function() {\n",
       "        root._bokeh_is_loading--;\n",
       "        if (root._bokeh_is_loading === 0) {\n",
       "          console.log(\"Bokeh: all BokehJS libraries loaded\");\n",
       "          run_callbacks()\n",
       "        }\n",
       "      };\n",
       "      s.onerror = function() {\n",
       "        console.warn(\"failed to load library \" + url);\n",
       "      };\n",
       "      console.log(\"Bokeh: injecting script tag for BokehJS library: \", url);\n",
       "      document.getElementsByTagName(\"head\")[0].appendChild(s);\n",
       "    }\n",
       "  };var element = document.getElementById(\"b619adfc-da1a-4de3-b647-cc11cdc5f27f\");\n",
       "  if (element == null) {\n",
       "    console.log(\"Bokeh: ERROR: autoload.js configured with elementid 'b619adfc-da1a-4de3-b647-cc11cdc5f27f' but no matching script tag was found. \")\n",
       "    return false;\n",
       "  }\n",
       "\n",
       "  var js_urls = [\"https://cdn.pydata.org/bokeh/release/bokeh-0.12.10.min.js\", \"https://cdn.pydata.org/bokeh/release/bokeh-widgets-0.12.10.min.js\", \"https://cdn.pydata.org/bokeh/release/bokeh-tables-0.12.10.min.js\", \"https://cdn.pydata.org/bokeh/release/bokeh-gl-0.12.10.min.js\"];\n",
       "\n",
       "  var inline_js = [\n",
       "    function(Bokeh) {\n",
       "      Bokeh.set_log_level(\"info\");\n",
       "    },\n",
       "    \n",
       "    function(Bokeh) {\n",
       "      \n",
       "    },\n",
       "    function(Bokeh) {\n",
       "      console.log(\"Bokeh: injecting CSS: https://cdn.pydata.org/bokeh/release/bokeh-0.12.10.min.css\");\n",
       "      Bokeh.embed.inject_css(\"https://cdn.pydata.org/bokeh/release/bokeh-0.12.10.min.css\");\n",
       "      console.log(\"Bokeh: injecting CSS: https://cdn.pydata.org/bokeh/release/bokeh-widgets-0.12.10.min.css\");\n",
       "      Bokeh.embed.inject_css(\"https://cdn.pydata.org/bokeh/release/bokeh-widgets-0.12.10.min.css\");\n",
       "      console.log(\"Bokeh: injecting CSS: https://cdn.pydata.org/bokeh/release/bokeh-tables-0.12.10.min.css\");\n",
       "      Bokeh.embed.inject_css(\"https://cdn.pydata.org/bokeh/release/bokeh-tables-0.12.10.min.css\");\n",
       "    }\n",
       "  ];\n",
       "\n",
       "  function run_inline_js() {\n",
       "    \n",
       "    if ((root.Bokeh !== undefined) || (force === true)) {\n",
       "      for (var i = 0; i < inline_js.length; i++) {\n",
       "        inline_js[i].call(root, root.Bokeh);\n",
       "      }if (force === true) {\n",
       "        display_loaded();\n",
       "      }} else if (Date.now() < root._bokeh_timeout) {\n",
       "      setTimeout(run_inline_js, 100);\n",
       "    } else if (!root._bokeh_failed_load) {\n",
       "      console.log(\"Bokeh: BokehJS failed to load within specified timeout.\");\n",
       "      root._bokeh_failed_load = true;\n",
       "    } else if (force !== true) {\n",
       "      var cell = $(document.getElementById(\"b619adfc-da1a-4de3-b647-cc11cdc5f27f\")).parents('.cell').data().cell;\n",
       "      cell.output_area.append_execute_result(NB_LOAD_WARNING)\n",
       "    }\n",
       "\n",
       "  }\n",
       "\n",
       "  if (root._bokeh_is_loading === 0) {\n",
       "    console.log(\"Bokeh: BokehJS loaded, going straight to plotting\");\n",
       "    run_inline_js();\n",
       "  } else {\n",
       "    load_libs(js_urls, function() {\n",
       "      console.log(\"Bokeh: BokehJS plotting callback run at\", now());\n",
       "      run_inline_js();\n",
       "    });\n",
       "  }\n",
       "}(window));"
      ],
      "application/vnd.bokehjs_load.v0+json": "\n(function(root) {\n  function now() {\n    return new Date();\n  }\n\n  var force = true;\n\n  if (typeof (root._bokeh_onload_callbacks) === \"undefined\" || force === true) {\n    root._bokeh_onload_callbacks = [];\n    root._bokeh_is_loading = undefined;\n  }\n\n  \n\n  \n  if (typeof (root._bokeh_timeout) === \"undefined\" || force === true) {\n    root._bokeh_timeout = Date.now() + 5000;\n    root._bokeh_failed_load = false;\n  }\n\n  var NB_LOAD_WARNING = {'data': {'text/html':\n     \"<div style='background-color: #fdd'>\\n\"+\n     \"<p>\\n\"+\n     \"BokehJS does not appear to have successfully loaded. If loading BokehJS from CDN, this \\n\"+\n     \"may be due to a slow or bad network connection. Possible fixes:\\n\"+\n     \"</p>\\n\"+\n     \"<ul>\\n\"+\n     \"<li>re-rerun `output_notebook()` to attempt to load from CDN again, or</li>\\n\"+\n     \"<li>use INLINE resources instead, as so:</li>\\n\"+\n     \"</ul>\\n\"+\n     \"<code>\\n\"+\n     \"from bokeh.resources import INLINE\\n\"+\n     \"output_notebook(resources=INLINE)\\n\"+\n     \"</code>\\n\"+\n     \"</div>\"}};\n\n  function display_loaded() {\n    var el = document.getElementById(\"b619adfc-da1a-4de3-b647-cc11cdc5f27f\");\n    if (el != null) {\n      el.textContent = \"BokehJS is loading...\";\n    }\n    if (root.Bokeh !== undefined) {\n      if (el != null) {\n        el.textContent = \"BokehJS \" + root.Bokeh.version + \" successfully loaded.\";\n      }\n    } else if (Date.now() < root._bokeh_timeout) {\n      setTimeout(display_loaded, 100)\n    }\n  }\n\n\n  function run_callbacks() {\n    try {\n      root._bokeh_onload_callbacks.forEach(function(callback) { callback() });\n    }\n    finally {\n      delete root._bokeh_onload_callbacks\n    }\n    console.info(\"Bokeh: all callbacks have finished\");\n  }\n\n  function load_libs(js_urls, callback) {\n    root._bokeh_onload_callbacks.push(callback);\n    if (root._bokeh_is_loading > 0) {\n      console.log(\"Bokeh: BokehJS is being loaded, scheduling callback at\", now());\n      return null;\n    }\n    if (js_urls == null || js_urls.length === 0) {\n      run_callbacks();\n      return null;\n    }\n    console.log(\"Bokeh: BokehJS not loaded, scheduling load and callback at\", now());\n    root._bokeh_is_loading = js_urls.length;\n    for (var i = 0; i < js_urls.length; i++) {\n      var url = js_urls[i];\n      var s = document.createElement('script');\n      s.src = url;\n      s.async = false;\n      s.onreadystatechange = s.onload = function() {\n        root._bokeh_is_loading--;\n        if (root._bokeh_is_loading === 0) {\n          console.log(\"Bokeh: all BokehJS libraries loaded\");\n          run_callbacks()\n        }\n      };\n      s.onerror = function() {\n        console.warn(\"failed to load library \" + url);\n      };\n      console.log(\"Bokeh: injecting script tag for BokehJS library: \", url);\n      document.getElementsByTagName(\"head\")[0].appendChild(s);\n    }\n  };var element = document.getElementById(\"b619adfc-da1a-4de3-b647-cc11cdc5f27f\");\n  if (element == null) {\n    console.log(\"Bokeh: ERROR: autoload.js configured with elementid 'b619adfc-da1a-4de3-b647-cc11cdc5f27f' but no matching script tag was found. \")\n    return false;\n  }\n\n  var js_urls = [\"https://cdn.pydata.org/bokeh/release/bokeh-0.12.10.min.js\", \"https://cdn.pydata.org/bokeh/release/bokeh-widgets-0.12.10.min.js\", \"https://cdn.pydata.org/bokeh/release/bokeh-tables-0.12.10.min.js\", \"https://cdn.pydata.org/bokeh/release/bokeh-gl-0.12.10.min.js\"];\n\n  var inline_js = [\n    function(Bokeh) {\n      Bokeh.set_log_level(\"info\");\n    },\n    \n    function(Bokeh) {\n      \n    },\n    function(Bokeh) {\n      console.log(\"Bokeh: injecting CSS: https://cdn.pydata.org/bokeh/release/bokeh-0.12.10.min.css\");\n      Bokeh.embed.inject_css(\"https://cdn.pydata.org/bokeh/release/bokeh-0.12.10.min.css\");\n      console.log(\"Bokeh: injecting CSS: https://cdn.pydata.org/bokeh/release/bokeh-widgets-0.12.10.min.css\");\n      Bokeh.embed.inject_css(\"https://cdn.pydata.org/bokeh/release/bokeh-widgets-0.12.10.min.css\");\n      console.log(\"Bokeh: injecting CSS: https://cdn.pydata.org/bokeh/release/bokeh-tables-0.12.10.min.css\");\n      Bokeh.embed.inject_css(\"https://cdn.pydata.org/bokeh/release/bokeh-tables-0.12.10.min.css\");\n    }\n  ];\n\n  function run_inline_js() {\n    \n    if ((root.Bokeh !== undefined) || (force === true)) {\n      for (var i = 0; i < inline_js.length; i++) {\n        inline_js[i].call(root, root.Bokeh);\n      }if (force === true) {\n        display_loaded();\n      }} else if (Date.now() < root._bokeh_timeout) {\n      setTimeout(run_inline_js, 100);\n    } else if (!root._bokeh_failed_load) {\n      console.log(\"Bokeh: BokehJS failed to load within specified timeout.\");\n      root._bokeh_failed_load = true;\n    } else if (force !== true) {\n      var cell = $(document.getElementById(\"b619adfc-da1a-4de3-b647-cc11cdc5f27f\")).parents('.cell').data().cell;\n      cell.output_area.append_execute_result(NB_LOAD_WARNING)\n    }\n\n  }\n\n  if (root._bokeh_is_loading === 0) {\n    console.log(\"Bokeh: BokehJS loaded, going straight to plotting\");\n    run_inline_js();\n  } else {\n    load_libs(js_urls, function() {\n      console.log(\"Bokeh: BokehJS plotting callback run at\", now());\n      run_inline_js();\n    });\n  }\n}(window));"
     },
     "metadata": {},
     "output_type": "display_data"
    }
   ],
   "source": [
    "from bokeh.models import ColumnDataSource, LabelSet\n",
    "from bokeh.plotting import figure, show, output_file\n",
    "from bokeh.io import output_notebook\n",
    "import bokeh\n",
    "output_notebook()\n"
   ]
  },
  {
   "cell_type": "code",
   "execution_count": 22,
   "metadata": {},
   "outputs": [
    {
     "data": {
      "text/html": [
       "\n",
       "<div class=\"bk-root\">\n",
       "    <div class=\"bk-plotdiv\" id=\"9ab57394-0caa-42b5-bea8-dea68a33f96f\"></div>\n",
       "</div>"
      ]
     },
     "metadata": {},
     "output_type": "display_data"
    },
    {
     "data": {
      "application/javascript": [
       "(function(root) {\n",
       "  function embed_document(root) {\n",
       "    var docs_json = {\"724e1dfc-e1e9-4de2-8fe3-0f3f2fc339c2\":{\"roots\":{\"references\":[{\"attributes\":{\"plot\":{\"id\":\"33e164b7-9ea7-459a-9e17-336abb741ee6\",\"subtype\":\"Figure\",\"type\":\"Plot\"},\"ticker\":{\"id\":\"4fb684bf-2e12-4907-872b-44479acaa9a8\",\"type\":\"BasicTicker\"}},\"id\":\"a3e81a02-53f6-4ca7-955d-123df3584e3e\",\"type\":\"Grid\"},{\"attributes\":{\"formatter\":{\"id\":\"17e65363-16a9-4a28-956e-9613b951bb94\",\"type\":\"BasicTickFormatter\"},\"plot\":{\"id\":\"33e164b7-9ea7-459a-9e17-336abb741ee6\",\"subtype\":\"Figure\",\"type\":\"Plot\"},\"ticker\":{\"id\":\"b3b8a3a2-4382-457c-ae03-490591e8ffa8\",\"type\":\"BasicTicker\"}},\"id\":\"17144fb1-01fc-43b6-b992-d9896befd462\",\"type\":\"LinearAxis\"},{\"attributes\":{},\"id\":\"b3b8a3a2-4382-457c-ae03-490591e8ffa8\",\"type\":\"BasicTicker\"},{\"attributes\":{\"fill_color\":{\"value\":\"#1f77b4\"},\"line_color\":{\"value\":\"#1f77b4\"},\"size\":{\"units\":\"screen\",\"value\":8},\"x\":{\"field\":\"x1\"},\"y\":{\"field\":\"x2\"}},\"id\":\"85c3689e-2412-4fd1-bb4a-1a78d52f48d0\",\"type\":\"Circle\"},{\"attributes\":{},\"id\":\"315f8ec9-7ca2-4aac-8b27-9af307eaf3af\",\"type\":\"BasicTickFormatter\"},{\"attributes\":{\"dimension\":1,\"plot\":{\"id\":\"33e164b7-9ea7-459a-9e17-336abb741ee6\",\"subtype\":\"Figure\",\"type\":\"Plot\"},\"ticker\":{\"id\":\"b3b8a3a2-4382-457c-ae03-490591e8ffa8\",\"type\":\"BasicTicker\"}},\"id\":\"1fed3e80-a46c-41ec-9100-3321f0bc9a90\",\"type\":\"Grid\"},{\"attributes\":{\"below\":[{\"id\":\"27eeca00-7a7e-41af-9005-4b7b94092648\",\"type\":\"LinearAxis\"}],\"left\":[{\"id\":\"17144fb1-01fc-43b6-b992-d9896befd462\",\"type\":\"LinearAxis\"}],\"plot_height\":900,\"plot_width\":900,\"renderers\":[{\"id\":\"27eeca00-7a7e-41af-9005-4b7b94092648\",\"type\":\"LinearAxis\"},{\"id\":\"a3e81a02-53f6-4ca7-955d-123df3584e3e\",\"type\":\"Grid\"},{\"id\":\"17144fb1-01fc-43b6-b992-d9896befd462\",\"type\":\"LinearAxis\"},{\"id\":\"1fed3e80-a46c-41ec-9100-3321f0bc9a90\",\"type\":\"Grid\"},{\"id\":\"a710b016-b2e2-4c11-9f22-11411bb37492\",\"type\":\"GlyphRenderer\"},{\"id\":\"bead7ca3-ebff-4e77-af50-96d128cd6435\",\"type\":\"LabelSet\"}],\"title\":{\"id\":\"5d546fda-6d22-4c83-bd02-99427c9467dc\",\"type\":\"Title\"},\"toolbar\":{\"id\":\"81cf2f7c-f9ad-40f0-ad6b-5a775960f879\",\"type\":\"Toolbar\"},\"toolbar_location\":\"above\",\"x_range\":{\"id\":\"510920f7-403b-41a2-9fe7-b795c1369d85\",\"type\":\"DataRange1d\"},\"x_scale\":{\"id\":\"54c880e7-a558-44a6-bcbf-15b0671d87af\",\"type\":\"LinearScale\"},\"y_range\":{\"id\":\"57eeb5d8-7bd7-4b09-b94c-a72d960d7888\",\"type\":\"DataRange1d\"},\"y_scale\":{\"id\":\"c405ddbe-18b2-44a1-a4e2-1d798b6344d7\",\"type\":\"LinearScale\"}},\"id\":\"33e164b7-9ea7-459a-9e17-336abb741ee6\",\"subtype\":\"Figure\",\"type\":\"Plot\"},{\"attributes\":{},\"id\":\"ba5549eb-f21f-4901-b261-f4dfeaa03bb3\",\"type\":\"PanTool\"},{\"attributes\":{\"callback\":null,\"column_names\":[\"x1\",\"x2\",\"names\"],\"data\":{\"names\":[\"cid\",\"sao\",\"nao\",\"gas\",\"petroleo\",\"ser\",\"rio\",\"petrobras\",\"figura\",\"producao\",\"oleo\",\"janeiro\",\"natural\",\"agua\",\"dados\",\"formacao\",\"sistema\",\"bacia\",\"pode\",\"anp\",\"tambem\",\"brasil\",\"processo\",\"maior\",\"tabela\",\"modelo\",\"tempo\",\"forma\",\"resultados\",\"area\",\"total\",\"cada\",\"analise\",\"grande\",\"pressao\",\"ate\",\"temperatura\",\"regiao\",\"onde\",\"caso\",\"partir\",\"valores\",\"trabalho\",\"sendo\",\"fig\",\"relacao\",\"ja\",\"valor\",\"fonte\",\"assim\",\"tipo\",\"parte\",\"volume\",\"meio\",\"base\",\"atraves\",\"energia\",\"desenvolvimento\",\"condicoes\",\"outros\",\"segundo\",\"podem\",\"fase\",\"estudo\",\"mar\",\"alem\",\"nacional\",\"numero\",\"diesel\",\"co\",\"etanol\",\"sul\",\"pocos\",\"amostras\",\"ainda\",\"campo\",\"metodo\",\"capacidade\",\"campos\",\"apos\",\"distribuicao\",\"precos\",\"transporte\",\"projeto\",\"dois\",\"bem\",\"funcao\",\"aumento\",\"equacao\",\"mercado\",\"ponto\",\"unidade\",\"neste\",\"industria\",\"diferentes\",\"gasolina\",\"combustiveis\",\"operacao\",\"secao\",\"produtos\",\"biodiesel\",\"devido\",\"uso\",\"terra\",\"norte\",\"estao\",\"\\u00b0c\",\"apenas\",\"engenharia\",\"programa\",\"tres\",\"duas\",\"concentracao\",\"controle\",\"deste\",\"conforme\",\"universidade\",\"possivel\",\"apresenta\",\"areas\",\"processos\",\"longo\",\"paulo\",\"unidades\",\"ano\",\"sistemas\",\"anos\",\"quanto\",\"vez\",\"combustivel\",\"media\",\"principais\",\"fluido\",\"boletim\",\"parametros\",\"cao\",\"obtidos\",\"exploracao\",\"oil\",\"massa\",\"pesquisa\",\"velocidade\",\"solucao\",\"superior\",\"vazao\",\"nivel\",\"material\",\"menor\",\"acordo\",\"qualidade\",\"medio\",\"periodo\",\"sp\",\"superficie\",\"deve\",\"resolucao\",\"desta\",\"carga\",\"consumo\",\"setor\",\"estrutura\",\"exemplo\",\"derivados\",\"federal\",\"mistura\",\"final\",\"amostra\",\"geral\",\"comportamento\",\"estudos\",\"alta\",\"presenca\",\"quantidade\",\"avaliacao\",\"outras\",\"caracteristicas\",\"atividades\",\"fluxo\",\"atividade\",\"ambiente\",\"regioes\",\"sera\",\"modelos\",\"bacias\",\"reducao\",\"tecnica\",\"pois\",\"perfuracao\",\"dia\",\"zona\",\"produto\",\"quimica\",\"calculo\",\"objetivo\",\"facies\",\"ltda\",\"nt\",\"custo\",\"cm\",\"taxa\",\"alguns\",\"inferior\",\"mm\",\"tecnico\",\"utilizacao\",\"utilizado\",\"brasileiro\",\"metodos\",\"pais\",\"nc\",\"fluidos\",\"ar\",\"efeito\",\"aplicacao\",\"geologia\",\"modo\",\"evolucao\",\"outro\",\"mesma\",\"pontos\",\"propriedades\",\"quais\",\"sob\",\"preco\",\"tais\",\"grupo\",\"tal\",\"grandes\",\"informacoes\",\"centro\",\"rochas\",\"\\u00b7\",\"figure\",\"entao\",\"reservatorio\",\"variacao\",\"ter\",\"tratamento\",\"santos\",\"km\",\"reacao\",\"recursos\",\"grafico\",\"escoamento\",\"presente\",\"milhoes\",\"biocombustiveis\",\"teor\",\"tecnologia\",\"plataforma\",\"utilizados\",\"tensao\",\"acido\",\"fator\",\"importante\",\"ocorre\",\"materiais\",\"fato\",\"liquido\",\"linha\",\"mostra\",\"brasileira\",\"\\uf0b7\",\"hidrocarbonetos\",\"conjunto\",\"menos\",\"jan\",\"razao\",\"coluna\",\"sedimentos\",\"lei\",\"fim\",\"empresas\",\"primeiro\",\"simulacao\",\"recuperacao\",\"inicial\",\"mg\",\"empresa\",\"principal\",\"todas\",\"pro\",\"disponivel\",\"viscosidade\",\"elementos\",\"kg\",\"maiores\",\"sequencia\",\"sido\",\"acima\",\"primeira\",\"dentro\",\"ca\",\"topo\",\"faixa\",\"alto\",\"determinacao\",\"industrial\",\"principalmente\",\"melhor\",\"porem\",\"nova\",\"pesquisas\",\"composicao\",\"\\u2212\",\"cerca\",\"dessa\",\"densidade\",\"injecao\",\"espessura\",\"projetos\",\"direcao\",\"portanto\",\"ordem\",\"reservatorios\",\"variaveis\",\"entrada\",\"new\",\"br\",\"testes\",\"problema\",\"teste\",\"bahia\",\"oleos\",\"rodada\",\"geracao\",\"arenitos\",\"influencia\",\"potencial\",\"basin\",\"capitulo\",\"diametro\",\"www\",\"trabalhos\",\"casos\",\"falhas\",\"paises\",\"peso\",\"oc\",\"seguintes\",\"fatores\",\"carbono\",\"padrao\",\"ocorrencia\",\"inicio\",\"referencia\",\"pe\",\"custos\",\"baixa\",\"petroleum\",\"curva\",\"iv\",\"diversos\",\"enquanto\",\"refinaria\",\"data\",\"continental\",\"equipamentos\",\"etapa\",\"fundo\",\"perfil\",\"escala\",\"parana\",\"demanda\",\"aguas\",\"tipos\",\"corrente\",\"vapor\",\"serem\",\"resultado\",\"calor\",\"catalisador\",\"respectivamente\",\"algumas\",\"apresentam\",\"processamento\",\"equacoes\",\"necessario\",\"cenpes\",\"crescimento\",\"comparacao\",\"corrosao\",\"disso\",\"entretanto\",\"componentes\",\"problemas\",\"particulas\",\"qualquer\",\"separacao\",\"profundidade\",\"n\\u00b0\",\"limite\",\"podese\",\"eficiencia\",\"acesso\",\"constante\",\"tecnicas\",\"mento\",\"jose\",\"compostos\",\"utilizando\",\"http\",\"analises\",\"intervalo\",\"water\",\"r$\",\"possui\",\"medida\",\"utilizada\",\"lado\",\"curvas\",\"mente\",\"santo\",\"perda\",\"nesta\",\"desse\",\"ensaios\",\"devem\",\"dezembro\",\"grau\",\"well\",\"participacao\",\"vista\",\"min\",\"nesse\",\"central\",\"local\",\"maxima\",\"ai\",\"baixo\",\"demais\",\"termos\",\"resistencia\",\"fracao\",\"destilacao\",\"deformacao\",\"obtencao\",\"estruturas\",\"indice\",\"\\u00b1\",\"fases\",\"camadas\",\"laboratorio\",\"production\",\"temperaturas\",\"glp\",\"us$\",\"ml\",\"serao\",\"construcao\",\"somente\",\"silva\",\"ph\",\"alcool\",\"metodologia\",\"novas\",\"bastante\",\"sempre\",\"rj\",\"mapa\",\"costa\",\"li\",\"manutencao\",\"fontes\",\"vezes\",\"apresentados\",\"reservas\",\"comprimento\",\"mil\",\"origem\",\"representa\",\"falha\",\"blocos\",\"desempenho\",\"seguir\",\"gases\",\"rocha\",\"metros\",\"introducao\",\"abaixo\",\"quatro\",\"flow\",\"maximo\",\"journal\",\"ensaio\",\"efeitos\",\"cor\",\"autores\",\"modelagem\",\"espirito\",\"embora\",\"novo\",\"toda\",\"desses\",\"pouco\",\"agentes\",\"serie\",\"contato\",\"aproximadamente\",\"nordeste\",\"sergipe\",\"jul\",\"departamento\",\"diferenca\",\"coeficiente\",\"matriz\",\"novos\",\"diversas\",\"po\",\"vertical\",\"relatorio\",\"saida\",\"outra\",\"energy\",\"niveis\",\"tendo\",\"malha\",\"realizada\",\"importancia\",\"inclui\",\"idade\",\"maio\",\"mestrado\",\"igual\",\"frequencia\",\"linhas\",\"permite\",\"posicao\",\"necessidade\",\"experimental\",\"maneira\",\"mo\",\"entanto\",\"agencia\",\"feita\",\"varios\",\"aspecto\",\"distribuidora\",\"dias\",\"obtido\",\"transferencia\",\"alagoas\",\"catalisadores\",\"ver\",\"destes\",\"margem\",\"atualmente\",\"obter\",\"aqui\",\"ambiental\",\"estrutural\",\"realizados\",\"resposta\",\"medidas\",\"apesar\",\"abr\",\"vendas\",\"experimentais\",\"seguinte\",\"fi\",\"correlacao\",\"forca\",\"dou\",\"real\",\"servicos\",\"segunda\",\"apresentado\",\"depositos\",\"termica\",\"etc\",\"tamanho\",\"curso\",\"deposicao\",\"caracterizacao\",\"permeabilidade\",\"tubo\",\"\\u0003\",\"aco\",\"rede\",\"si\",\"comercializacao\",\"figuras\",\"aspectos\",\"linear\",\"porosidade\",\"dado\",\"porcao\",\"produtores\",\"atual\",\"plano\",\"barris\",\"seguranca\",\"enxofre\",\"presentes\",\"procedimento\",\"pa\",\"vida\",\"vem\",\"observado\",\"des\",\"obtida\",\"remocao\",\"dez\",\"folhelhos\",\"utilizadas\",\"informacao\",\"combustao\",\"equipamento\",\"operacoes\",\"global\",\"perfis\",\"divisao\",\"carvao\",\"localizacao\",\"considerando\",\"comercial\",\"liquidos\",\"definicao\",\"autor\",\"camada\",\"contratos\",\"internacional\",\"sedimentares\",\"ba\",\"realizadas\",\"concentracoes\",\"dissertacao\",\"servico\",\"oes\",\"monitoramento\",\"especial\",\"anterior\",\"obtidas\",\"dutos\",\"sudeste\",\"ciclo\",\"zonas\",\"interesse\",\"analysis\",\"engineering\",\"reconcavo\",\"boa\",\"distribuidoras\",\"tecnicos\",\"acao\",\"condicao\",\"variavel\",\"interpretacao\",\"realizacao\",\"etapas\",\"regional\",\"classificacao\",\"realizado\",\"planejamento\",\"conhecimento\",\"leste\",\"adsorcao\",\"solucoes\",\"mundial\",\"tubos\",\"importacao\",\"lubrificantes\",\"acidos\",\"regime\",\"prazo\",\"economica\",\"corpo\",\"investimentos\",\"simples\",\"especifica\",\"brazil\",\"instalacao\",\"queda\",\"variacoes\",\"propria\",\"formation\",\"minimo\",\"especies\",\"reator\",\"folhelho\",\"gerais\",\"arenito\",\"extracao\",\"conversao\",\"instituto\",\"eletrica\",\"reacoes\",\"corpos\",\"motor\",\"sedimentacao\",\"distancia\",\"contendo\",\"instalacoes\",\"dentre\",\"parametro\",\"interna\",\"ocorrem\",\"literatura\",\"risco\",\"produzido\",\"interno\",\"diretamente\",\"deslocamento\",\"apresentou\",\"momento\",\"adicao\",\"duto\",\"livre\",\"geology\",\"materia\",\"horizontal\",\"observar\",\"bomba\",\"membro\",\"computacional\",\"ppm\",\"solo\",\"quase\",\"geociencias\",\"menores\",\"horas\",\"varias\",\"santa\",\"natureza\",\"situacao\",\"marco\",\"oliveira\",\"system\",\"mecanica\",\"espaco\",\"sedimentar\",\"pr\",\"visto\",\"sismica\",\"tos\",\"equilibrio\",\"objetivos\",\"possuem\",\"importantes\",\"refino\",\"ufrj\",\"hidrogenio\",\"usado\",\"potencia\",\"cabo\",\"correntes\",\"grupos\",\"portaria\",\"secoes\",\"operacional\",\"seguida\",\"ajuste\",\"consiste\",\"offshore\",\"geometria\",\"research\",\"bilhoes\",\"integracao\",\"cadeia\",\"esquema\",\"nota\",\"york\",\"percentual\",\"quadro\",\"amazonas\",\"formacoes\",\"souza\",\"mes\",\"elaboracao\",\"tendencia\",\"torno\",\"termo\",\"dada\",\"refinarias\",\"abstract\",\"carlos\",\"item\",\"artigo\",\"cos\",\"via\",\"expansao\",\"model\",\"original\",\"corresponde\",\"erro\",\"maioria\",\"relativa\",\"imagem\",\"limites\",\"onda\",\"registro\",\"componente\",\"oxidacao\",\"volumes\",\"per\",\"tese\",\"astm\",\"anteriormente\",\"minas\",\"politica\",\"contexto\",\"medios\",\"imagens\",\"\\u0006\",\"dimensoes\",\"resumo\",\"revisao\",\"embasamento\",\"dade\",\"existe\",\"considerado\",\"estabilidade\",\"normal\",\"apresentar\",\"composto\",\"possibilidade\",\"avaliar\",\"altura\",\"descricao\",\"tensoes\",\"operacionais\",\"sal\",\"api\",\"antonio\",\"sequencias\",\"ambientais\",\"observase\",\"coes\",\"apoio\",\"geralmente\",\"dessas\",\"society\",\"oxigenio\",\"apresentaram\",\"argila\",\"aquisicao\",\"prova\",\"existencia\",\"organica\",\"bom\",\"proprio\",\"existentes\",\"misturas\",\"anexo\",\"energetica\",\"hidratado\",\"oeste\",\"referencias\",\"$\",\"interior\",\"indica\",\"glicerol\",\"proposta\",\"poder\",\"apresentada\",\"ra\",\"comercio\",\"res\",\"existem\",\"feito\",\"elemento\",\"determinado\",\"oferta\",\"america\",\"fazer\",\"consumidor\",\"proximo\",\"produzida\",\"questao\",\"normalmente\",\"veiculos\",\"\\u0002\",\"extensao\",\"conta\",\"nafta\",\"vi\",\"companhia\",\"determinar\",\"international\",\"movimento\",\"cuja\",\"nov\",\"di\",\"american\",\"rendimento\",\"using\",\"nessa\",\"faz\",\"sintese\",\"metano\",\"ho\",\"used\",\"metais\",\"pre\",\"poros\",\"riser\",\"cinco\",\"economia\",\"logo\",\"mundo\",\"molar\",\"pressoes\",\"economico\",\"gasoduto\",\"encontrados\",\"study\",\"comum\",\"responsavel\",\"destas\",\"passo\",\"soja\",\"chemical\",\"papel\",\"simulacoes\",\"areia\",\"ambos\",\"unidos\",\"eventos\",\"cp\",\"pequena\",\"possiveis\",\"molecular\",\"also\",\"identificacao\",\"desenvolvido\",\"apresentadas\",\"software\",\"xisto\",\"filho\",\"infraestrutura\",\"ta\",\"movimentacao\",\"time\",\"criacao\",\"ac\",\"\\u000f\",\"contudo\",\"eixo\",\"fracoes\",\"serra\",\"elevacao\",\"petro\",\"abastecimento\",\"realizar\",\"taxas\",\"lista\",\"otimizacao\",\"estagio\",\"tecnologias\",\"cimento\",\"emissoes\",\"estratigrafica\",\"high\",\"joao\",\"estatistico\",\"respeito\",\"associado\",\"ro\",\"versus\",\"tectonica\",\"dinamica\",\"ultimos\",\"conclusoes\",\"technology\",\"padroes\",\"results\",\"aplicada\",\"maria\",\"medicao\",\"leito\",\"solidos\",\"solvente\",\"economicos\",\"gasodutos\",\"determinada\",\"aumentar\",\"doutorado\",\"federacao\",\"podendo\",\"experimento\",\"necessaria\",\"especificacoes\",\"va\",\"inspecao\",\"porto\",\"externa\",\"mudanca\",\"angulo\",\"bloco\",\"nitrogenio\",\"produtor\",\"associacao\",\"altas\",\"aplicacoes\",\"tabelas\",\"process\",\"locais\",\"impacto\",\"diagrama\",\"pratica\"],\"x1\":{\"__ndarray__\":\"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\",\"dtype\":\"float32\",\"shape\":[1000]},\"x2\":{\"__ndarray__\":\"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\",\"dtype\":\"float32\",\"shape\":[1000]}}},\"id\":\"b75e7981-2a20-4e06-9e24-764112ae2ecc\",\"type\":\"ColumnDataSource\"},{\"attributes\":{\"plot\":{\"id\":\"33e164b7-9ea7-459a-9e17-336abb741ee6\",\"subtype\":\"Figure\",\"type\":\"Plot\"},\"source\":{\"id\":\"b75e7981-2a20-4e06-9e24-764112ae2ecc\",\"type\":\"ColumnDataSource\"},\"text\":{\"field\":\"names\"},\"text_align\":\"center\",\"text_color\":{\"value\":\"#555555\"},\"text_font_size\":{\"value\":\"8pt\"},\"x\":{\"field\":\"x1\"},\"y\":{\"field\":\"x2\"},\"y_offset\":{\"value\":6}},\"id\":\"bead7ca3-ebff-4e77-af50-96d128cd6435\",\"type\":\"LabelSet\"},{\"attributes\":{\"plot\":null,\"text\":\"word2vec T-SNE for most common words\"},\"id\":\"5d546fda-6d22-4c83-bd02-99427c9467dc\",\"type\":\"Title\"},{\"attributes\":{\"source\":{\"id\":\"b75e7981-2a20-4e06-9e24-764112ae2ecc\",\"type\":\"ColumnDataSource\"}},\"id\":\"aded4456-f39a-4859-81f6-e617903ea3d6\",\"type\":\"CDSView\"},{\"attributes\":{\"callback\":null},\"id\":\"510920f7-403b-41a2-9fe7-b795c1369d85\",\"type\":\"DataRange1d\"},{\"attributes\":{\"active_drag\":\"auto\",\"active_inspect\":\"auto\",\"active_scroll\":\"auto\",\"active_tap\":\"auto\",\"tools\":[{\"id\":\"ba5549eb-f21f-4901-b261-f4dfeaa03bb3\",\"type\":\"PanTool\"},{\"id\":\"c2a27475-da88-44e7-8249-f77a6aeac2f3\",\"type\":\"WheelZoomTool\"},{\"id\":\"b926d04a-6a46-4824-b657-f5089ff46333\",\"type\":\"ResetTool\"},{\"id\":\"7a9869a3-f748-449f-a8df-068b942ac604\",\"type\":\"SaveTool\"}]},\"id\":\"81cf2f7c-f9ad-40f0-ad6b-5a775960f879\",\"type\":\"Toolbar\"},{\"attributes\":{},\"id\":\"c2a27475-da88-44e7-8249-f77a6aeac2f3\",\"type\":\"WheelZoomTool\"},{\"attributes\":{},\"id\":\"b926d04a-6a46-4824-b657-f5089ff46333\",\"type\":\"ResetTool\"},{\"attributes\":{},\"id\":\"54c880e7-a558-44a6-bcbf-15b0671d87af\",\"type\":\"LinearScale\"},{\"attributes\":{},\"id\":\"7a9869a3-f748-449f-a8df-068b942ac604\",\"type\":\"SaveTool\"},{\"attributes\":{\"callback\":null},\"id\":\"57eeb5d8-7bd7-4b09-b94c-a72d960d7888\",\"type\":\"DataRange1d\"},{\"attributes\":{},\"id\":\"c405ddbe-18b2-44a1-a4e2-1d798b6344d7\",\"type\":\"LinearScale\"},{\"attributes\":{},\"id\":\"17e65363-16a9-4a28-956e-9613b951bb94\",\"type\":\"BasicTickFormatter\"},{\"attributes\":{\"formatter\":{\"id\":\"315f8ec9-7ca2-4aac-8b27-9af307eaf3af\",\"type\":\"BasicTickFormatter\"},\"plot\":{\"id\":\"33e164b7-9ea7-459a-9e17-336abb741ee6\",\"subtype\":\"Figure\",\"type\":\"Plot\"},\"ticker\":{\"id\":\"4fb684bf-2e12-4907-872b-44479acaa9a8\",\"type\":\"BasicTicker\"}},\"id\":\"27eeca00-7a7e-41af-9005-4b7b94092648\",\"type\":\"LinearAxis\"},{\"attributes\":{},\"id\":\"4fb684bf-2e12-4907-872b-44479acaa9a8\",\"type\":\"BasicTicker\"},{\"attributes\":{\"data_source\":{\"id\":\"b75e7981-2a20-4e06-9e24-764112ae2ecc\",\"type\":\"ColumnDataSource\"},\"glyph\":{\"id\":\"85c3689e-2412-4fd1-bb4a-1a78d52f48d0\",\"type\":\"Circle\"},\"hover_glyph\":null,\"muted_glyph\":null,\"nonselection_glyph\":{\"id\":\"b80c25a9-7630-481c-a420-92902d121192\",\"type\":\"Circle\"},\"selection_glyph\":null,\"view\":{\"id\":\"aded4456-f39a-4859-81f6-e617903ea3d6\",\"type\":\"CDSView\"}},\"id\":\"a710b016-b2e2-4c11-9f22-11411bb37492\",\"type\":\"GlyphRenderer\"},{\"attributes\":{\"fill_alpha\":{\"value\":0.1},\"fill_color\":{\"value\":\"#1f77b4\"},\"line_alpha\":{\"value\":0.1},\"line_color\":{\"value\":\"#1f77b4\"},\"size\":{\"units\":\"screen\",\"value\":8},\"x\":{\"field\":\"x1\"},\"y\":{\"field\":\"x2\"}},\"id\":\"b80c25a9-7630-481c-a420-92902d121192\",\"type\":\"Circle\"}],\"root_ids\":[\"33e164b7-9ea7-459a-9e17-336abb741ee6\"]},\"title\":\"Bokeh Application\",\"version\":\"0.12.10\"}};\n",
       "    var render_items = [{\"docid\":\"724e1dfc-e1e9-4de2-8fe3-0f3f2fc339c2\",\"elementid\":\"9ab57394-0caa-42b5-bea8-dea68a33f96f\",\"modelid\":\"33e164b7-9ea7-459a-9e17-336abb741ee6\"}];\n",
       "\n",
       "    root.Bokeh.embed.embed_items(docs_json, render_items);\n",
       "  }\n",
       "\n",
       "  if (root.Bokeh !== undefined) {\n",
       "    embed_document(root);\n",
       "  } else {\n",
       "    var attempts = 0;\n",
       "    var timer = setInterval(function(root) {\n",
       "      if (root.Bokeh !== undefined) {\n",
       "        embed_document(root);\n",
       "        clearInterval(timer);\n",
       "      }\n",
       "      attempts++;\n",
       "      if (attempts > 100) {\n",
       "        console.log(\"Bokeh: ERROR: Unable to embed document because BokehJS library is missing\")\n",
       "        clearInterval(timer);\n",
       "      }\n",
       "    }, 10, root)\n",
       "  }\n",
       "})(window);"
      ],
      "application/vnd.bokehjs_exec.v0+json": ""
     },
     "metadata": {
      "application/vnd.bokehjs_exec.v0+json": {
       "id": "33e164b7-9ea7-459a-9e17-336abb741ee6"
      }
     },
     "output_type": "display_data"
    }
   ],
   "source": [
    "p = figure(tools=\"pan,wheel_zoom,reset,save\",\n",
    "           toolbar_location=\"above\",\n",
    "           title=\"word2vec T-SNE for most common words\",\n",
    "           plot_width=900, \n",
    "           plot_height=900)\n",
    "\n",
    "source = ColumnDataSource(data=dict(x1=embed_tsne[:,0],\n",
    "                                    x2=embed_tsne[:,1],\n",
    "                                    names=vocabulario))\n",
    "\n",
    "p.scatter(x=\"x1\", y=\"x2\", size=8, source=source)\n",
    "\n",
    "labels = LabelSet(x=\"x1\", y=\"x2\", text=\"names\", y_offset=6,\n",
    "                  text_font_size=\"8pt\", text_color=\"#555555\",\n",
    "                  source=source, text_align='center')\n",
    "p.add_layout(labels)\n",
    "\n",
    "show(p)"
   ]
  },
  {
   "cell_type": "markdown",
   "metadata": {
    "collapsed": true
   },
   "source": [
    "## Nova geração do TSNE, com maior volume de dados, priorizando a ordenação do vocabulário pelas palavras mais comuns\n"
   ]
  },
  {
   "cell_type": "code",
   "execution_count": 29,
   "metadata": {},
   "outputs": [],
   "source": [
    "vocabulario = os.path.join('modelos','vocab.txt')\n",
    "vocab = []\n",
    "with open(vocabulario, 'r', encoding=\"UTF-8\") as f:\n",
    "    for line in f:\n",
    "        vocab.append(line.split()[0])"
   ]
  },
  {
   "cell_type": "code",
   "execution_count": 37,
   "metadata": {},
   "outputs": [
    {
     "name": "stdout",
     "output_type": "stream",
     "text": [
      "['cid', 'sao', 'nao', 'gas', 'petroleo', 'ser', 'rio', 'petrobras', 'figura', 'producao', 'oleo', 'janeiro', 'natural', 'agua', 'dados', 'formacao', 'sistema', 'bacia', 'pode', 'anp', 'tambem', 'brasil', 'processo', 'maior', 'tabela', 'modelo', 'tempo', 'forma', 'resultados', 'area', 'total', 'cada', 'analise', 'grande', 'pressao', 'ate', 'temperatura', 'regiao', 'onde', 'caso', 'partir', 'valores', 'trabalho', 'sendo', 'fig', 'relacao', 'ja', 'valor', 'fonte', 'assim', 'tipo', 'parte', 'volume', 'meio', 'base', 'atraves', 'energia', 'desenvolvimento', 'condicoes', 'outros', 'segundo', 'podem', 'fase', 'estudo', 'mar', 'alem', 'nacional', 'numero', 'diesel', 'co', 'etanol', 'sul', 'pocos', 'amostras', 'ainda', 'campo', 'metodo', 'capacidade', 'campos', 'apos', 'distribuicao', 'precos', 'transporte', 'projeto', 'dois', 'bem', 'funcao', 'aumento', 'equacao', 'mercado', 'ponto', 'unidade', 'neste', 'industria', 'diferentes', 'gasolina', 'combustiveis', 'operacao', 'secao', 'produtos']\n",
      "77181\n"
     ]
    }
   ],
   "source": [
    "print(vocab[:100])\n",
    "print(len(vocab))"
   ]
  },
  {
   "cell_type": "code",
   "execution_count": 35,
   "metadata": {},
   "outputs": [
    {
     "name": "stdout",
     "output_type": "stream",
     "text": [
      "(3000, 50)\n"
     ]
    }
   ],
   "source": [
    "most_commom = vocab[:3000] # lista das palavras mais comuns do vocabulario\n",
    "\n",
    "### Obtendo os vetores para as paalvras mais comuns\n",
    "#2- Iterar enter as 1000 palavras mais comuns e pegar o vetor de cada uma usando: model.wv['computer']  # numpy vector of a word\n",
    "# ou testar: say_vector = model['say']  # get vector for word\n",
    "#3- empilhar os vetores apenas das palavras mais comuns do vocabulário, e rodar o TSNE\n",
    "\n",
    "vocabulario = list()\n",
    "vetores = list()\n",
    "\n",
    "\n",
    "for word in most_commom:\n",
    "    palavra = word\n",
    "    #print(palavra)\n",
    "    vocabulario.append(palavra)\n",
    "    vetores.append(model.wv.word_vec(palavra));\n",
    "matrix = np.vstack(vetores)    \n",
    "    \n",
    "print(matrix.shape)"
   ]
  },
  {
   "cell_type": "code",
   "execution_count": 36,
   "metadata": {},
   "outputs": [
    {
     "name": "stdout",
     "output_type": "stream",
     "text": [
      "Wall time: 1min 54s\n"
     ]
    }
   ],
   "source": [
    "%%time\n",
    "tsne = TSNE(n_components=2, random_state=0)\n",
    "embed_tsne = tsne.fit_transform(vetores)"
   ]
  },
  {
   "cell_type": "code",
   "execution_count": 38,
   "metadata": {},
   "outputs": [
    {
     "data": {
      "text/html": [
       "\n",
       "<div class=\"bk-root\">\n",
       "    <div class=\"bk-plotdiv\" id=\"5b20b3e2-3662-4e93-906c-d99158aecf59\"></div>\n",
       "</div>"
      ]
     },
     "metadata": {},
     "output_type": "display_data"
    },
    {
     "data": {
      "application/javascript": [
       "(function(root) {\n",
       "  function embed_document(root) {\n",
       "    var docs_json = {\"fac4c334-827c-4e8f-941f-8c6d43067f7b\":{\"roots\":{\"references\":[{\"attributes\":{\"callback\":null},\"id\":\"cda0978b-5090-4751-bc1a-2b0799d47705\",\"type\":\"DataRange1d\"},{\"attributes\":{\"active_drag\":\"auto\",\"active_inspect\":\"auto\",\"active_scroll\":\"auto\",\"active_tap\":\"auto\",\"tools\":[{\"id\":\"79567fba-f7b7-411f-bf27-c375a7edc60f\",\"type\":\"PanTool\"},{\"id\":\"786cbacd-18b7-44b9-aa8d-71bcdcd962ac\",\"type\":\"WheelZoomTool\"},{\"id\":\"73e2711e-ea01-4a75-ad9d-9af554130d7b\",\"type\":\"ResetTool\"},{\"id\":\"c81b386b-abb1-4a97-8057-8806adf87c20\",\"type\":\"SaveTool\"}]},\"id\":\"cc1a6e06-77dd-45b7-84b8-9340bc130cb5\",\"type\":\"Toolbar\"},{\"attributes\":{},\"id\":\"b6c15c91-8611-4a9e-8777-921603ce0f5e\",\"type\":\"BasicTickFormatter\"},{\"attributes\":{},\"id\":\"79567fba-f7b7-411f-bf27-c375a7edc60f\",\"type\":\"PanTool\"},{\"attributes\":{\"fill_alpha\":{\"value\":0.1},\"fill_color\":{\"value\":\"#1f77b4\"},\"line_alpha\":{\"value\":0.1},\"line_color\":{\"value\":\"#1f77b4\"},\"size\":{\"units\":\"screen\",\"value\":8},\"x\":{\"field\":\"x1\"},\"y\":{\"field\":\"x2\"}},\"id\":\"ab341c14-8e06-4853-887e-390f0f1395f3\",\"type\":\"Circle\"},{\"attributes\":{},\"id\":\"3fcf2dce-0a2e-4009-ac13-a26e65cb2f66\",\"type\":\"BasicTicker\"},{\"attributes\":{\"formatter\":{\"id\":\"5448764c-abc4-4267-9a1b-c34ad55dc802\",\"type\":\"BasicTickFormatter\"},\"plot\":{\"id\":\"c00040b1-5162-4049-9d78-17c487a74fc6\",\"subtype\":\"Figure\",\"type\":\"Plot\"},\"ticker\":{\"id\":\"3fcf2dce-0a2e-4009-ac13-a26e65cb2f66\",\"type\":\"BasicTicker\"}},\"id\":\"27f4c756-ed55-4a16-a74e-f12b1246a308\",\"type\":\"LinearAxis\"},{\"attributes\":{},\"id\":\"d50753cd-c3d2-44c3-902f-3e4f507456a6\",\"type\":\"LinearScale\"},{\"attributes\":{},\"id\":\"786cbacd-18b7-44b9-aa8d-71bcdcd962ac\",\"type\":\"WheelZoomTool\"},{\"attributes\":{\"callback\":null},\"id\":\"9aea856a-8fc3-4165-834d-15f6939ef2f5\",\"type\":\"DataRange1d\"},{\"attributes\":{},\"id\":\"73e2711e-ea01-4a75-ad9d-9af554130d7b\",\"type\":\"ResetTool\"},{\"attributes\":{},\"id\":\"bf798c84-ca5e-4126-a1e8-73d214f63b73\",\"type\":\"LinearScale\"},{\"attributes\":{},\"id\":\"c81b386b-abb1-4a97-8057-8806adf87c20\",\"type\":\"SaveTool\"},{\"attributes\":{\"formatter\":{\"id\":\"b6c15c91-8611-4a9e-8777-921603ce0f5e\",\"type\":\"BasicTickFormatter\"},\"plot\":{\"id\":\"c00040b1-5162-4049-9d78-17c487a74fc6\",\"subtype\":\"Figure\",\"type\":\"Plot\"},\"ticker\":{\"id\":\"b2277ca5-7f70-4201-8464-85135a54030a\",\"type\":\"BasicTicker\"}},\"id\":\"4e57a711-8f2b-4c73-8872-ad2b14a6b702\",\"type\":\"LinearAxis\"},{\"attributes\":{\"fill_color\":{\"value\":\"#1f77b4\"},\"line_color\":{\"value\":\"#1f77b4\"},\"size\":{\"units\":\"screen\",\"value\":8},\"x\":{\"field\":\"x1\"},\"y\":{\"field\":\"x2\"}},\"id\":\"ec7ee4c5-c7d0-4420-81e8-aa5fe91b04df\",\"type\":\"Circle\"},{\"attributes\":{\"callback\":null,\"column_names\":[\"x1\",\"x2\",\"names\"],\"data\":{\"names\":[\"cid\",\"sao\",\"nao\",\"gas\",\"petroleo\",\"ser\",\"rio\",\"petrobras\",\"figura\",\"producao\",\"oleo\",\"janeiro\",\"natural\",\"agua\",\"dados\",\"formacao\",\"sistema\",\"bacia\",\"pode\",\"anp\",\"tambem\",\"brasil\",\"processo\",\"maior\",\"tabela\",\"modelo\",\"tempo\",\"forma\",\"resultados\",\"area\",\"total\",\"cada\",\"analise\",\"grande\",\"pressao\",\"ate\",\"temperatura\",\"regiao\",\"onde\",\"caso\",\"partir\",\"valores\",\"trabalho\",\"sendo\",\"fig\",\"relacao\",\"ja\",\"valor\",\"fonte\",\"assim\",\"tipo\",\"parte\",\"volume\",\"meio\",\"base\",\"atraves\",\"energia\",\"desenvolvimento\",\"condicoes\",\"outros\",\"segundo\",\"podem\",\"fase\",\"estudo\",\"mar\",\"alem\",\"nacional\",\"numero\",\"diesel\",\"co\",\"etanol\",\"sul\",\"pocos\",\"amostras\",\"ainda\",\"campo\",\"metodo\",\"capacidade\",\"campos\",\"apos\",\"distribuicao\",\"precos\",\"transporte\",\"projeto\",\"dois\",\"bem\",\"funcao\",\"aumento\",\"equacao\",\"mercado\",\"ponto\",\"unidade\",\"neste\",\"industria\",\"diferentes\",\"gasolina\",\"combustiveis\",\"operacao\",\"secao\",\"produtos\",\"biodiesel\",\"devido\",\"uso\",\"terra\",\"norte\",\"estao\",\"\\u00b0c\",\"apenas\",\"engenharia\",\"programa\",\"tres\",\"duas\",\"concentracao\",\"controle\",\"deste\",\"conforme\",\"universidade\",\"possivel\",\"apresenta\",\"areas\",\"processos\",\"longo\",\"paulo\",\"unidades\",\"ano\",\"sistemas\",\"anos\",\"quanto\",\"vez\",\"combustivel\",\"media\",\"principais\",\"fluido\",\"boletim\",\"parametros\",\"cao\",\"obtidos\",\"exploracao\",\"oil\",\"massa\",\"pesquisa\",\"velocidade\",\"solucao\",\"superior\",\"vazao\",\"nivel\",\"material\",\"menor\",\"acordo\",\"qualidade\",\"medio\",\"periodo\",\"sp\",\"superficie\",\"deve\",\"resolucao\",\"desta\",\"carga\",\"consumo\",\"setor\",\"estrutura\",\"exemplo\",\"derivados\",\"federal\",\"mistura\",\"final\",\"amostra\",\"geral\",\"comportamento\",\"estudos\",\"alta\",\"presenca\",\"quantidade\",\"avaliacao\",\"outras\",\"caracteristicas\",\"atividades\",\"fluxo\",\"atividade\",\"ambiente\",\"regioes\",\"sera\",\"modelos\",\"bacias\",\"reducao\",\"tecnica\",\"pois\",\"perfuracao\",\"dia\",\"zona\",\"produto\",\"quimica\",\"calculo\",\"objetivo\",\"facies\",\"ltda\",\"nt\",\"custo\",\"cm\",\"taxa\",\"alguns\",\"inferior\",\"mm\",\"tecnico\",\"utilizacao\",\"utilizado\",\"brasileiro\",\"metodos\",\"pais\",\"nc\",\"fluidos\",\"ar\",\"efeito\",\"aplicacao\",\"geologia\",\"modo\",\"evolucao\",\"outro\",\"mesma\",\"pontos\",\"propriedades\",\"quais\",\"sob\",\"preco\",\"tais\",\"grupo\",\"tal\",\"grandes\",\"informacoes\",\"centro\",\"rochas\",\"\\u00b7\",\"figure\",\"entao\",\"reservatorio\",\"variacao\",\"ter\",\"tratamento\",\"santos\",\"km\",\"reacao\",\"recursos\",\"grafico\",\"escoamento\",\"presente\",\"milhoes\",\"biocombustiveis\",\"teor\",\"tecnologia\",\"plataforma\",\"utilizados\",\"tensao\",\"acido\",\"fator\",\"importante\",\"ocorre\",\"materiais\",\"fato\",\"liquido\",\"linha\",\"mostra\",\"brasileira\",\"\\uf0b7\",\"hidrocarbonetos\",\"conjunto\",\"menos\",\"jan\",\"razao\",\"coluna\",\"sedimentos\",\"lei\",\"fim\",\"empresas\",\"primeiro\",\"simulacao\",\"recuperacao\",\"inicial\",\"mg\",\"empresa\",\"principal\",\"todas\",\"pro\",\"disponivel\",\"viscosidade\",\"elementos\",\"kg\",\"maiores\",\"sequencia\",\"sido\",\"acima\",\"primeira\",\"dentro\",\"ca\",\"topo\",\"faixa\",\"alto\",\"determinacao\",\"industrial\",\"principalmente\",\"melhor\",\"porem\",\"nova\",\"pesquisas\",\"composicao\",\"\\u2212\",\"cerca\",\"dessa\",\"densidade\",\"injecao\",\"espessura\",\"projetos\",\"direcao\",\"portanto\",\"ordem\",\"reservatorios\",\"variaveis\",\"entrada\",\"new\",\"br\",\"testes\",\"problema\",\"teste\",\"bahia\",\"oleos\",\"rodada\",\"geracao\",\"arenitos\",\"influencia\",\"potencial\",\"basin\",\"capitulo\",\"diametro\",\"www\",\"trabalhos\",\"casos\",\"falhas\",\"paises\",\"peso\",\"oc\",\"seguintes\",\"fatores\",\"carbono\",\"padrao\",\"ocorrencia\",\"inicio\",\"referencia\",\"pe\",\"custos\",\"baixa\",\"petroleum\",\"curva\",\"iv\",\"diversos\",\"enquanto\",\"refinaria\",\"data\",\"continental\",\"equipamentos\",\"etapa\",\"fundo\",\"perfil\",\"escala\",\"parana\",\"demanda\",\"aguas\",\"tipos\",\"corrente\",\"vapor\",\"serem\",\"resultado\",\"calor\",\"catalisador\",\"respectivamente\",\"algumas\",\"apresentam\",\"processamento\",\"equacoes\",\"necessario\",\"cenpes\",\"crescimento\",\"comparacao\",\"corrosao\",\"disso\",\"entretanto\",\"componentes\",\"problemas\",\"particulas\",\"qualquer\",\"separacao\",\"profundidade\",\"n\\u00b0\",\"limite\",\"podese\",\"eficiencia\",\"acesso\",\"constante\",\"tecnicas\",\"mento\",\"jose\",\"compostos\",\"utilizando\",\"http\",\"analises\",\"intervalo\",\"water\",\"r$\",\"possui\",\"medida\",\"utilizada\",\"lado\",\"curvas\",\"mente\",\"santo\",\"perda\",\"nesta\",\"desse\",\"ensaios\",\"devem\",\"dezembro\",\"grau\",\"well\",\"participacao\",\"vista\",\"min\",\"nesse\",\"central\",\"local\",\"maxima\",\"ai\",\"baixo\",\"demais\",\"termos\",\"resistencia\",\"fracao\",\"destilacao\",\"deformacao\",\"obtencao\",\"estruturas\",\"indice\",\"\\u00b1\",\"fases\",\"camadas\",\"laboratorio\",\"production\",\"temperaturas\",\"glp\",\"us$\",\"ml\",\"serao\",\"construcao\",\"somente\",\"silva\",\"ph\",\"alcool\",\"metodologia\",\"novas\",\"bastante\",\"sempre\",\"rj\",\"mapa\",\"costa\",\"li\",\"manutencao\",\"fontes\",\"vezes\",\"apresentados\",\"reservas\",\"comprimento\",\"mil\",\"origem\",\"representa\",\"falha\",\"blocos\",\"desempenho\",\"seguir\",\"gases\",\"rocha\",\"metros\",\"introducao\",\"abaixo\",\"quatro\",\"flow\",\"maximo\",\"journal\",\"ensaio\",\"efeitos\",\"cor\",\"autores\",\"modelagem\",\"espirito\",\"embora\",\"novo\",\"toda\",\"desses\",\"pouco\",\"agentes\",\"serie\",\"contato\",\"aproximadamente\",\"nordeste\",\"sergipe\",\"jul\",\"departamento\",\"diferenca\",\"coeficiente\",\"matriz\",\"novos\",\"diversas\",\"po\",\"vertical\",\"relatorio\",\"saida\",\"outra\",\"energy\",\"niveis\",\"tendo\",\"malha\",\"realizada\",\"importancia\",\"inclui\",\"idade\",\"maio\",\"mestrado\",\"igual\",\"frequencia\",\"linhas\",\"permite\",\"posicao\",\"necessidade\",\"experimental\",\"maneira\",\"mo\",\"entanto\",\"agencia\",\"feita\",\"varios\",\"aspecto\",\"distribuidora\",\"dias\",\"obtido\",\"transferencia\",\"alagoas\",\"catalisadores\",\"ver\",\"destes\",\"margem\",\"atualmente\",\"obter\",\"aqui\",\"ambiental\",\"estrutural\",\"realizados\",\"resposta\",\"medidas\",\"apesar\",\"abr\",\"vendas\",\"experimentais\",\"seguinte\",\"fi\",\"correlacao\",\"forca\",\"dou\",\"real\",\"servicos\",\"segunda\",\"apresentado\",\"depositos\",\"termica\",\"etc\",\"tamanho\",\"curso\",\"deposicao\",\"caracterizacao\",\"permeabilidade\",\"tubo\",\"\\u0003\",\"aco\",\"rede\",\"si\",\"comercializacao\",\"figuras\",\"aspectos\",\"linear\",\"porosidade\",\"dado\",\"porcao\",\"produtores\",\"atual\",\"plano\",\"barris\",\"seguranca\",\"enxofre\",\"presentes\",\"procedimento\",\"pa\",\"vida\",\"vem\",\"observado\",\"des\",\"obtida\",\"remocao\",\"dez\",\"folhelhos\",\"utilizadas\",\"informacao\",\"combustao\",\"equipamento\",\"operacoes\",\"global\",\"perfis\",\"divisao\",\"carvao\",\"localizacao\",\"considerando\",\"comercial\",\"liquidos\",\"definicao\",\"autor\",\"camada\",\"contratos\",\"internacional\",\"sedimentares\",\"ba\",\"realizadas\",\"concentracoes\",\"dissertacao\",\"servico\",\"oes\",\"monitoramento\",\"especial\",\"anterior\",\"obtidas\",\"dutos\",\"sudeste\",\"ciclo\",\"zonas\",\"interesse\",\"analysis\",\"engineering\",\"reconcavo\",\"boa\",\"distribuidoras\",\"tecnicos\",\"acao\",\"condicao\",\"variavel\",\"interpretacao\",\"realizacao\",\"etapas\",\"regional\",\"classificacao\",\"realizado\",\"planejamento\",\"conhecimento\",\"leste\",\"adsorcao\",\"solucoes\",\"mundial\",\"tubos\",\"importacao\",\"lubrificantes\",\"acidos\",\"regime\",\"prazo\",\"economica\",\"corpo\",\"investimentos\",\"simples\",\"especifica\",\"brazil\",\"instalacao\",\"queda\",\"variacoes\",\"propria\",\"formation\",\"minimo\",\"especies\",\"reator\",\"folhelho\",\"gerais\",\"arenito\",\"extracao\",\"conversao\",\"instituto\",\"eletrica\",\"reacoes\",\"corpos\",\"motor\",\"sedimentacao\",\"distancia\",\"contendo\",\"instalacoes\",\"dentre\",\"parametro\",\"interna\",\"ocorrem\",\"literatura\",\"risco\",\"produzido\",\"interno\",\"diretamente\",\"deslocamento\",\"apresentou\",\"momento\",\"adicao\",\"duto\",\"livre\",\"geology\",\"materia\",\"horizontal\",\"observar\",\"bomba\",\"membro\",\"computacional\",\"ppm\",\"solo\",\"quase\",\"geociencias\",\"menores\",\"horas\",\"varias\",\"santa\",\"natureza\",\"situacao\",\"marco\",\"oliveira\",\"system\",\"mecanica\",\"espaco\",\"sedimentar\",\"pr\",\"visto\",\"sismica\",\"tos\",\"equilibrio\",\"objetivos\",\"possuem\",\"importantes\",\"refino\",\"ufrj\",\"hidrogenio\",\"usado\",\"potencia\",\"cabo\",\"correntes\",\"grupos\",\"portaria\",\"secoes\",\"operacional\",\"seguida\",\"ajuste\",\"consiste\",\"offshore\",\"geometria\",\"research\",\"bilhoes\",\"integracao\",\"cadeia\",\"esquema\",\"nota\",\"york\",\"percentual\",\"quadro\",\"amazonas\",\"formacoes\",\"souza\",\"mes\",\"elaboracao\",\"tendencia\",\"torno\",\"termo\",\"dada\",\"refinarias\",\"abstract\",\"carlos\",\"item\",\"artigo\",\"cos\",\"via\",\"expansao\",\"model\",\"original\",\"corresponde\",\"erro\",\"maioria\",\"relativa\",\"imagem\",\"limites\",\"onda\",\"registro\",\"componente\",\"oxidacao\",\"volumes\",\"per\",\"tese\",\"astm\",\"anteriormente\",\"minas\",\"politica\",\"contexto\",\"medios\",\"imagens\",\"\\u0006\",\"dimensoes\",\"resumo\",\"revisao\",\"embasamento\",\"dade\",\"existe\",\"considerado\",\"estabilidade\",\"normal\",\"apresentar\",\"composto\",\"possibilidade\",\"avaliar\",\"altura\",\"descricao\",\"tensoes\",\"operacionais\",\"sal\",\"api\",\"antonio\",\"sequencias\",\"ambientais\",\"observase\",\"coes\",\"apoio\",\"geralmente\",\"dessas\",\"society\",\"oxigenio\",\"apresentaram\",\"argila\",\"aquisicao\",\"prova\",\"existencia\",\"organica\",\"bom\",\"proprio\",\"existentes\",\"misturas\",\"anexo\",\"energetica\",\"hidratado\",\"oeste\",\"referencias\",\"$\",\"interior\",\"indica\",\"glicerol\",\"proposta\",\"poder\",\"apresentada\",\"ra\",\"comercio\",\"res\",\"existem\",\"feito\",\"elemento\",\"determinado\",\"oferta\",\"america\",\"fazer\",\"consumidor\",\"proximo\",\"produzida\",\"questao\",\"normalmente\",\"veiculos\",\"\\u0002\",\"extensao\",\"conta\",\"nafta\",\"vi\",\"companhia\",\"determinar\",\"international\",\"movimento\",\"cuja\",\"nov\",\"di\",\"american\",\"rendimento\",\"using\",\"nessa\",\"faz\",\"sintese\",\"metano\",\"ho\",\"used\",\"metais\",\"pre\",\"poros\",\"riser\",\"cinco\",\"economia\",\"logo\",\"mundo\",\"molar\",\"pressoes\",\"economico\",\"gasoduto\",\"encontrados\",\"study\",\"comum\",\"responsavel\",\"destas\",\"passo\",\"soja\",\"chemical\",\"papel\",\"simulacoes\",\"areia\",\"ambos\",\"unidos\",\"eventos\",\"cp\",\"pequena\",\"possiveis\",\"molecular\",\"also\",\"identificacao\",\"desenvolvido\",\"apresentadas\",\"software\",\"xisto\",\"filho\",\"infraestrutura\",\"ta\",\"movimentacao\",\"time\",\"criacao\",\"ac\",\"\\u000f\",\"contudo\",\"eixo\",\"fracoes\",\"serra\",\"elevacao\",\"petro\",\"abastecimento\",\"realizar\",\"taxas\",\"lista\",\"otimizacao\",\"estagio\",\"tecnologias\",\"cimento\",\"emissoes\",\"estratigrafica\",\"high\",\"joao\",\"estatistico\",\"respeito\",\"associado\",\"ro\",\"versus\",\"tectonica\",\"dinamica\",\"ultimos\",\"conclusoes\",\"technology\",\"padroes\",\"results\",\"aplicada\",\"maria\",\"medicao\",\"leito\",\"solidos\",\"solvente\",\"economicos\",\"gasodutos\",\"determinada\",\"aumentar\",\"doutorado\",\"federacao\",\"podendo\",\"experimento\",\"necessaria\",\"especificacoes\",\"va\",\"inspecao\",\"porto\",\"externa\",\"mudanca\",\"angulo\",\"bloco\",\"nitrogenio\",\"produtor\",\"associacao\",\"altas\",\"aplicacoes\",\"tabelas\",\"process\",\"locais\",\"impacto\",\"diagrama\",\"pratica\",\"relacionados\",\"cretaceo\",\"disponiveis\",\"ne\",\"pressure\",\"metal\",\"dano\",\"associados\",\"formas\",\"luiz\",\"experimentos\",\"metanol\",\"ultimo\",\"coque\",\"mesmos\",\"orgao\",\"anual\",\"continua\",\"desvio\",\"polimero\",\"visando\",\"mecanismo\",\"rs\",\"frente\",\"execucao\",\"motores\",\"cenario\",\"decada\",\"elevada\",\"concessao\",\"estruturais\",\"nacionais\",\"quimicos\",\"brasileiras\",\"inicialmente\",\"df\",\"diminuicao\",\"fenomeno\",\"fratura\",\"investimento\",\"science\",\"tes\",\"valvula\",\"abertura\",\"anuario\",\"relativamente\",\"discussao\",\"dagua\",\"muitos\",\"mostram\",\"ondas\",\"partes\",\"\\u0002\\u0005\",\"referentes\",\"mesmas\",\"saturacao\",\"mercados\",\"usando\",\"direta\",\"university\",\"mudancas\",\"diferencas\",\"governo\",\"regulacao\",\"interacao\",\"interface\",\"reduzir\",\"foto\",\"contorno\",\"liquida\",\"definida\",\"devese\",\"forte\",\"protecao\",\"configuracao\",\"efluente\",\"ultima\",\"vale\",\"dominio\",\"relacoes\",\"superficial\",\"max\",\"temse\",\"cisalhamento\",\"proposto\",\"revestimento\",\"industriais\",\"programas\",\"considerada\",\"mostrado\",\"sociedade\",\"tanques\",\"residuos\",\"alves\",\"originais\",\"\\u0001\",\"forcas\",\"levantamento\",\"procedimentos\",\"elevado\",\"verificar\",\"aumenta\",\"contribuicao\",\"devera\",\"hoje\",\"mapas\",\"potiguar\",\"section\",\"criterios\",\"celula\",\"considerados\",\"rifte\",\"lama\",\"suporte\",\"eua\",\"marinha\",\"geologico\",\"contrato\",\"minutos\",\"muitas\",\"posteriormente\",\"termico\",\"ministerio\",\"use\",\"ceara\",\"historico\",\"depende\",\"\\u000e\",\"conformidade\",\"graos\",\"necessarios\",\"estimativa\",\"passa\",\"aquecimento\",\"balanco\",\"drilling\",\"mineral\",\"rotacao\",\"definido\",\"contem\",\"\\u0014\",\"acoes\",\"tanque\",\"coeficientes\",\"exportacao\",\"pessoal\",\"tecnologico\",\"municipios\",\"usados\",\"indicam\",\"cia\",\"soldagem\",\"representacao\",\"development\",\"instituicoes\",\"ex\",\"postos\",\"systems\",\"junto\",\"ce\",\"geologica\",\"trecho\",\"minerais\",\"geological\",\"querosene\",\"caracteristica\",\"conclusao\",\"formado\",\"propriedade\",\"constantes\",\"tecnologica\",\"zero\",\"energetico\",\"unica\",\"armazenamento\",\"amplitude\",\"previsao\",\"funcoes\",\"fe\",\"environmental\",\"gnl\",\"representam\",\"\\u0010\",\"podera\",\"fm\",\"decisao\",\"method\",\"transicao\",\"escolha\",\"sinal\",\"tubulacao\",\"seismic\",\"bibliograficas\",\"conteudo\",\"orgaos\",\"escola\",\"titulo\",\"compressao\",\"fundamental\",\"lima\",\"segmento\",\"normas\",\"agente\",\"venda\",\"fluid\",\"ocorrer\",\"condutividade\",\"modulo\",\"alternativa\",\"testemunhos\",\"graficos\",\"consequentemente\",\"incluindo\",\"ausencia\",\"claro\",\"evitar\",\"teoria\",\"grosso\",\"associada\",\"pequenas\",\"experiencia\",\"feitas\",\"camara\",\"troca\",\"observada\",\"baixas\",\"francisco\",\"pt\",\"solventes\",\"residual\",\"wells\",\"evento\",\"poderia\",\"feicoes\",\"mt\",\"classe\",\"autorizacao\",\"bases\",\"fabricacao\",\"perdas\",\"petroquimica\",\"atuacao\",\"table\",\"marinho\",\"verde\",\"finos\",\"seis\",\"equivalente\",\"ufrn\",\"praticamente\",\"tao\",\"leve\",\"ocorreu\",\"indices\",\"exposicao\",\"pos\",\"brazilian\",\"correspondente\",\"carater\",\"moleculas\",\"junho\",\"tracao\",\"altos\",\"substituicao\",\"pagina\",\"calibracao\",\"revista\",\"consideracoes\",\"ciencia\",\"field\",\"ciencias\",\"consumidores\",\"polimeros\",\"profundas\",\"uniao\",\"varia\",\"busca\",\"epoca\",\"ferramenta\",\"efetiva\",\"passou\",\"control\",\"poroso\",\"raios\",\"primeiros\",\"tempos\",\"capaz\",\"intervalos\",\"aromaticos\",\"press\",\"cl\",\"anidro\",\"julho\",\"cargas\",\"cidade\",\"organizacao\",\"ambientes\",\"coordenador\",\"unico\",\"requisitos\",\"atingir\",\"neto\",\"rn\",\"concorrencia\",\"coordenacao\",\"meios\",\"referente\",\"observados\",\"vantagens\",\"encontrase\",\"criterio\",\"capital\",\"relacionadas\",\"deposicional\",\"fluxos\",\"based\",\"especie\",\"lateral\",\"vol\",\"minima\",\"residuo\",\"basins\",\"manter\",\"mensal\",\"quantidades\",\"sa\",\"biomassa\",\"cujo\",\"cf\",\"significativa\",\"transversal\",\"podemos\",\"pc\",\"gestao\",\"vazoes\",\"pi\",\"\\u0019\",\"inovacao\",\"two\",\"parcial\",\"baseado\",\"end\",\"fica\",\"funcionamento\",\"produzidos\",\"aplicado\",\"fiscalizacao\",\"surface\",\"amostragem\",\"maranhao\",\"marine\",\"mol\",\"descrito\",\"calculado\",\"cas\",\"edicao\",\"mecanismos\",\"may\",\"alegre\",\"especificacao\",\"especifico\",\"espectro\",\"coletadas\",\"estratigrafia\",\"corte\",\"novembro\",\"totalmente\",\"broca\",\"congresso\",\"one\",\"publicacao\",\"especialmente\",\"prof\",\"expressao\",\"estacao\",\"pequeno\",\"ap\",\"applied\",\"estabelece\",\"trimestre\",\"conselho\",\"produtividade\",\"formula\",\"automotivos\",\"barreiras\",\"craqueamento\",\"naturais\",\"plantas\",\"texto\",\"baixos\",\"ions\",\"membrana\",\"barra\",\"finais\",\"provavelmente\",\"atender\",\"banco\",\"planta\",\"anteriores\",\"mato\",\"norma\",\"gasosa\",\"rios\",\"sucesso\",\"publica\",\"ilha\",\"degradacao\",\"diferencial\",\"melhores\",\"basicos\",\"brasilia\",\"proximos\",\"abordagem\",\"alteracoes\",\"precisao\",\"garantir\",\"velocidades\",\"art\",\"queima\",\"formulacao\",\"martins\",\"candeias\",\"selecao\",\"conceito\",\"superficies\",\"environment\",\"celulas\",\"sim\",\"composta\",\"coleta\",\"superiores\",\"exploration\",\"figs\",\"quimicas\",\"revenda\",\"emissao\",\"gradiente\",\"completacao\",\"particular\",\"\\uf084\",\"nome\",\"gama\",\"jr\",\"emprego\",\"pereira\",\"presidente\",\"salvador\",\"utilizar\",\"gerados\",\"inclusive\",\"meses\",\"considerar\",\"carregamento\",\"usada\",\"design\",\"impactos\",\"solubilidade\",\"canais\",\"similar\",\"ciclos\",\"externo\",\"agora\",\"intensidade\",\"materiaprima\",\"regras\",\"pol\",\"convencionais\",\"energeticos\",\"vai\",\"implantacao\",\"shale\",\"existente\",\"tema\",\"calcular\",\"calculos\",\"algoritmo\",\"fazenda\",\"fuel\",\"utiliza\",\"ci\",\"\\b\",\"estadual\",\"oi\",\"petroleos\",\"teores\",\"dificil\",\"eficiente\",\"precipitacao\",\"produzir\",\"fisico\",\"volumetrica\",\"periodos\",\"terminal\",\"complexo\",\"desenvolvidos\",\"cinza\",\"ms\",\"orientacao\",\"paper\",\"shell\",\"sodio\",\"finalidade\",\"reais\",\"borda\",\"face\",\"reservoir\",\"efluentes\",\"posgraduacao\",\"probabilidade\",\"suficiente\",\"ressaltar\",\"series\",\"hidrolise\",\"mb\",\"classes\",\"hz\",\"sedimentary\",\"graduacao\",\"part\",\"seco\",\"ambas\",\"eletrico\",\"mpa\",\"superintendencia\",\"hipotese\",\"resultante\",\"calcarios\",\"humanos\",\"pes\",\"proxima\",\"outubro\",\"bagaco\",\"agosto\",\"erros\",\"iniciais\",\"responsaveis\",\"calculada\",\"falta\",\"causa\",\"convencional\",\"par\",\"sm\",\"industrias\",\"mostrando\",\"filtracao\",\"observadas\",\"prh\",\"semelhante\",\"axial\",\"equipe\",\"valvulas\",\"completa\",\"invoke\",\"set\",\"consideradas\",\"alteracao\",\"calculados\",\"circulacao\",\"consequencia\",\"identificar\",\"torna\",\"analisados\",\"organicos\",\"fisica\",\"alternativas\",\"psi\",\"quimico\",\"terminais\",\"controlador\",\"parede\",\"conference\",\"encontradas\",\"go\",\"turbina\",\"nominal\",\"relativo\",\"bp\",\"observacoes\",\"china\",\"gerado\",\"argentina\",\"entrega\",\"social\",\"elevados\",\"resulta\",\"absorcao\",\"mediante\",\"mentos\",\"numerica\",\"plataformas\",\"proporcao\",\"abril\",\"dispersao\",\"associadas\",\"util\",\"\\u03b2\",\"alimentacao\",\"historia\",\"temporal\",\"south\",\"oxido\",\"state\",\"encontra\",\"fo\",\"rodrigues\",\"testemunho\",\"redes\",\"ferreira\",\"first\",\"eq\",\"retorno\",\"raio\",\"glicerina\",\"preparacao\",\"preto\",\"review\",\"effects\",\"geologicos\",\"soma\",\"value\",\"andar\",\"ferro\",\"situacoes\",\"indicando\",\"porte\",\"parcela\",\"tulsa\",\"discordancia\",\"deteccao\",\"gerar\",\"finalmente\",\"navio\",\"argilas\",\"pm\",\"setores\",\"bbl\",\"recebidos\",\"\\u0018\",\"fins\",\"propano\",\"espacial\",\"artigos\",\"baseada\",\"pp\",\"treinamento\",\"africa\",\"alberto\",\"legislacao\",\"carbonatos\",\"centrooeste\",\"destaque\",\"esforco\",\"pb\",\"catarina\",\"cal\",\"cc\",\"notar\",\"sensibilidade\",\"filmes\",\"curto\",\"politicas\",\"representado\",\"mass\",\"pico\",\"simulador\",\"basica\",\"brasileiros\",\"national\",\"analisadas\",\"\\u03b1\",\"analisar\",\"especiais\",\"ambito\",\"possa\",\"adequada\",\"apresentando\",\"ana\",\"comunicacao\",\"duracao\",\"pesados\",\"fernando\",\"visao\",\"bar\",\"benzeno\",\"rift\",\"different\",\"adequado\",\"compra\",\"encontramse\",\"presal\",\"razoes\",\"relacionada\",\"tra\",\"sismicas\",\"riscos\",\"vacuo\",\"adaptado\",\"sis\",\"importado\",\"representada\",\"aditivos\",\"im\",\"propanodiol\",\"fadiga\",\"luz\",\"\\uf03d\",\"\\u0007\",\"segmentos\",\"cr\",\"cobertura\",\"lamina\",\"phase\",\"solda\",\"esforcos\",\"estagios\",\"solido\",\"teorico\",\"sc\",\"would\",\"erosao\",\"temp\",\"e&p\",\"estacoes\",\"sismicos\",\"sr\",\"ferramentas\",\"permitindo\",\"provenientes\",\"crescente\",\"dificuldades\",\"calcio\",\"graus\",\"necessarias\",\"pernambuco\",\"vetor\",\"ct\",\"tucano\",\"substrato\",\"permitir\",\"principio\",\"torre\",\"almeida\",\"permitem\",\"limpeza\",\"cru\",\"exterior\",\"exemplos\",\"radiacao\",\"apendice\",\"observacao\",\"reduc\",\"suspensao\",\"fina\",\"posterior\",\"log\",\"variando\",\"atmosferica\",\"substancias\",\"atlantico\",\"basicamente\",\"consideracao\",\"ia\",\"picos\",\"ilhas\",\"temperature\",\"cursos\",\"ponta\",\"utilizandose\",\"distintas\",\"junior\",\"totais\",\"desenvolvida\",\"migracao\",\"sequence\",\"studies\",\"acompanhamento\",\"conhecida\",\"elevadas\",\"especificos\",\"lugar\",\"relativos\",\"uk\",\"objeto\",\"lb\",\"parece\",\"fornecimento\",\"fosseis\",\"profundidades\",\"apresentacao\",\"catalitico\",\"estrategia\",\"fraturas\",\"incremento\",\"numerico\",\"passagem\",\"work\",\"rpm\",\"semelhantes\",\"estudados\",\"modificado\",\"ouro\",\"rapida\",\"reg\",\"correcao\",\"branco\",\"cabe\",\"leves\",\"republica\",\"associated\",\"planos\",\"dar\",\"implementacao\",\"association\",\"diferente\",\"ira\",\"determinados\",\"dis\",\"refinacao\",\"trata\",\"aviacao\",\"difusao\",\"ruptura\",\"\\u2010\",\"suprimento\",\"acos\",\"algum\",\"definidos\",\"fracturing\",\"materiasprimas\",\"nm\",\"mello\",\"racao\",\"instrumentos\",\"luis\",\"navios\",\"obtained\",\"retirada\",\"potential\",\"propagacao\",\"proveniente\",\"correlacoes\",\"setembro\",\"continuidade\",\"estabelecer\",\"cobre\",\"critica\",\"dependendo\",\"cilindro\",\"deposicionais\",\"fino\",\"verticais\",\"desenvolver\",\"report\",\"importacoes\",\"bolha\",\"horizonte\",\"diz\",\"main\",\"mostraram\",\"conhecido\",\"empregados\",\"frio\",\"normais\",\"tornase\",\"comerciais\",\"pelotas\",\"tion\",\"toxicidade\",\"acetico\",\"detalhes\",\"due\",\"manual\",\"comuns\",\"mecanico\",\"conceitos\",\"coordenadas\",\"futuro\",\"chamada\",\"descritas\",\"rocks\",\"site\",\"subsidencia\",\"chemistry\",\"pacote\",\"dependencia\",\"documentacao\",\"descritos\",\"notase\",\"spe\",\"evolution\",\"ideal\",\"p&d\",\"marca\",\"\\u03c6\",\"filtro\",\"\\u0004\",\"gomes\",\"alii\",\"coppe\",\"methods\",\"relacionado\",\"af\",\"fl\",\"lubrificante\",\"organic\",\"oxidos\",\"lower\",\"pesado\",\"possam\",\"van\",\"constituem\",\"low\",\"basico\",\"contrario\",\"eletricos\",\"conditions\",\"constituida\",\"definir\",\"deverao\",\"au\",\"cenarios\",\"franca\",\"group\",\"hs\",\"colunas\",\"fevereiro\",\"largura\",\"representar\",\"colapso\",\"\\u00bb\",\"engenheiro\",\"\\uf06f\",\"espessuras\",\"fazendo\",\"reforma\",\"constitui\",\"professor\",\"aparente\",\"geologicas\",\"pequenos\",\"materials\",\"reduzida\",\"exercicio\",\"institute\",\"agitacao\",\"empregado\",\"ft\",\"lagoa\",\"combinacao\",\"aproveitamento\",\"envolvidos\",\"hydraulic\",\"resfriamento\",\"europa\",\"\\u001b\",\"ampliacao\",\"azul\",\"carbon\",\"fisicas\",\"participacoes\",\"sergipealagoas\",\"stratigraphic\",\"torres\",\"interessante\",\"mostrou\",\"refere\",\"altamente\",\"inter\",\"world\",\"diante\",\"fa\",\"medias\",\"test\",\"danos\",\"formada\",\"gera\",\"pedro\",\"ram\",\"available\",\"formando\",\"organismos\",\"penetracao\",\"previamente\",\"juntamente\",\"modificacoes\",\"subsuperficie\",\"tec\",\"atuais\",\"resultando\",\"considera\",\"gerada\",\"io\",\"rota\",\"estabelecimento\",\"realidade\",\"codigo\",\"massas\",\"reta\",\"albiano\",\"vegetais\",\"petrolifera\",\"excesso\",\"nenhum\",\"sais\",\"kgf\",\"natal\",\"ri\",\"structural\",\"est\",\"regionais\",\"significa\",\"dei\",\"detalhe\",\"equa\",\"facil\",\"fraturamento\",\"formados\",\"opcao\",\"revendedores\",\"us\",\"disponibilidade\",\"relativas\",\"reconhecimento\",\"versao\",\"gerencia\",\"havia\",\"sitios\",\"ativos\",\"restricoes\",\"cana\",\"fermentacao\",\"information\",\"vaso\",\"leva\",\"marinhos\",\"novamente\",\"secundaria\",\"sediments\",\"selecionados\",\"\\u03bc\",\"notas\",\"operador\",\"values\",\"desenvolvidas\",\"cretaceous\",\"alguma\",\"genero\",\"maritimo\",\"present\",\"adotado\",\"filme\",\"ligacao\",\"properties\",\"afloramentos\",\"avanco\",\"\\u0011\",\"car\",\"separador\",\"araujo\",\"cunha\",\"massica\",\"arcabouco\",\"estudada\",\"aluminio\",\"economicas\",\"graxos\",\"region\",\"usina\",\"finitos\",\"simulation\",\"talude\",\"engineers\",\"minimos\",\"permitiu\",\"mos\",\"distribution\",\"membranas\",\"retencao\",\"constituido\",\"geofisica\",\"jun\",\"montagem\",\"definidas\",\"performance\",\"sensores\",\"ampla\",\"atencao\",\"continuo\",\"inferiores\",\"macao\",\"puro\",\"diminui\",\"emulsao\",\"encontrado\",\"particula\",\"caxias\",\"london\",\"aberto\",\"case\",\"celulose\",\"tarifa\",\"tarifas\",\"vantagem\",\"correspondentes\",\"nenhuma\",\"atmosfera\",\"cu\",\"decreto\",\"derivado\",\"instituicao\",\"expanded\",\"figo\",\"segue\",\"\\u03bcm\",\"arquivo\",\"fixo\",\"ideia\",\"oh\",\"requer\",\"samples\",\"fornece\",\"potenciais\",\"ed\",\"complexos\",\"facilmente\",\"numeros\",\"order\",\"proximas\",\"atrito\",\"questoes\",\"canada\",\"numericos\",\"qav\",\"quartzo\",\"uni\",\"comparado\",\"estratigrafico\",\"licitacoes\",\"project\",\"paraiba\",\"bombas\",\"ir\",\"programacao\",\"carvalho\",\"transformacao\",\"bg\",\"localizada\",\"defesa\",\"laboratorios\",\"canadeacucar\",\"ficou\",\"preciso\",\"recente\",\"tracos\",\"condensado\",\"fenomenos\",\"internacionais\",\"mexico\",\"sugere\",\"verificacao\",\"sete\",\"experiencias\",\"feitos\",\"passando\",\"comparados\",\"\\u0005\",\"membros\",\"pdf\",\"complexidade\",\"estabelecido\",\"kpa\",\"number\",\"sen\",\"tam\",\"tende\",\"descarga\",\"receita\",\"apud\",\"contaminacao\",\"diario\",\"sub\",\"esperado\",\"leitura\",\"industry\",\"metade\",\"perfurados\",\"poderao\",\"alo\",\"espectros\",\"parnaiba\",\"bruto\",\"especificas\",\"chama\",\"distintos\",\"du\",\"folha\",\"general\",\"hora\",\"geoquimica\",\"nw\",\"territorio\",\"agradecimentos\",\"estabelecidos\",\"toneladas\",\"direcoes\",\"fez\",\"gr\",\"iguais\",\"terceira\",\"frequencias\",\"line\",\"chamado\",\"cloreto\",\"fluvial\",\"amsterdam\",\"campinas\",\"dificuldade\",\"praticas\",\"presented\",\"\\u0013\",\"litros\",\"ester\",\"models\",\"\\u0017\",\"comumente\",\"effect\",\"incluem\",\"transesterificacao\",\"verificase\",\"direito\",\"excecao\",\"exposto\",\"terceiro\",\"adotada\",\"emulsoes\",\"map\",\"tecnologicas\",\"aplicados\",\"application\",\"propostas\",\"anular\",\"caixa\",\"regulamentacao\",\"conservacao\",\"levar\",\"branca\",\"vidro\",\"fortemente\",\"fulgor\",\"posto\",\"pvc\",\"atendimento\",\"reserva\",\"virtude\",\"duque\",\"extremamente\",\"ga\",\"administracao\",\"limitacoes\",\"drenagem\",\"parafinas\",\"seletividade\",\"technical\",\"estimar\",\"medicoes\",\"promover\",\"reatores\",\"assunto\",\"atua\",\"livres\",\"opera\",\"tr\",\"acucar\",\"canal\",\"citado\",\"cone\",\"descrita\",\"amonia\",\"oleoduto\",\"provavel\",\"source\",\"cnp\",\"tensoativo\",\"air\",\"barbosa\",\"doce\",\"quebra\",\"gerando\",\"soares\",\"usuario\",\"aquosa\",\"aumentando\",\"futuros\",\"estudadas\",\"haver\",\"resolucoes\",\"fibras\",\"sulfato\",\"usp\",\"volta\",\"cujos\",\"related\",\"relatorios\",\"usadas\",\"acumulada\",\"adicional\",\"dissolucao\",\"fornecer\",\"vento\",\"\\uf02d\",\"acumulacao\",\"estudar\",\"ethanol\",\"permeacao\",\"rate\",\"\\u001a\",\"civil\",\"intuito\",\"melhoria\",\"provadas\",\"umidade\",\"instrumento\",\"tudo\",\"fusao\",\"preparo\",\"geo\",\"mme\",\"faixas\",\"possible\",\"publico\",\"dizer\",\"quantificacao\",\"capazes\",\"dt\",\"mostrados\",\"ostracodes\",\"earth\",\"ilustra\",\"quer\",\"similares\",\"incerteza\",\"primeiras\",\"viabilidade\",\"roberto\",\"fluxograma\",\"regular\",\"computador\",\"sumario\",\"terrestre\",\"\\u2022\\u2022\",\"brent\",\"garantia\",\"opep\",\"certa\",\"inclinacao\",\"processes\",\"salinidade\",\"atomos\",\"delta\",\"horizontais\",\"operar\",\"rela\",\"\\u03b8\",\"correspondem\",\"estimativas\",\"estocagem\",\"enfase\",\"significativamente\",\"auxilio\",\"bulletin\",\"levando\",\"placa\",\"descoberta\",\"poucos\",\"produ\",\"respectivas\",\"asfalto\",\"calcario\",\"determinadas\",\"fabrica\",\"niquel\",\"reservoirs\",\"desafios\",\"discussoes\",\"encontrada\",\"marcos\",\"renda\",\"pinto\",\"confiabilidade\",\"liberacao\",\"piloto\",\"castro\",\"crosta\",\"monopolio\",\"vermelho\",\"considerandose\",\"cromatografia\",\"ge\",\"nd\",\"companhias\",\"lineares\",\"pessoas\",\"tensoativos\",\"transpetro\",\"catalitica\",\"estatistica\",\"usa\",\"basal\",\"distrito\",\"fazem\",\"nestes\",\"adotados\",\"bras\",\"encontram\",\"entendimento\",\"margens\",\"movimentos\",\"produced\",\"respectivos\",\"superintendente\",\"acerca\",\"course\",\"ns\",\"porcentagem\",\"usinas\",\"governamentais\",\"matematica\",\"acrescimo\",\"perspectivas\",\"washington\",\"glycerol\",\"necessidades\",\"saude\",\"sinais\",\"margin\",\"st\",\"upper\",\"analisado\",\"anomalia\",\"vieira\",\"inversao\",\"meg\",\"organico\",\"pagamento\",\"vii\",\"vs\",\"envolve\",\"kw\",\"ln\",\"significativo\",\"vegetal\",\"estudado\",\"independente\",\"ipiranga\",\"th\",\"cinetica\",\"exp\",\"liquid\",\"relevante\",\"hidraulico\",\"management\",\"poderiam\",\"principios\",\"conexao\",\"activities\",\"documentos\",\"rapidamente\",\"tarefa\",\"ts\",\"glicose\",\"analitico\",\"compoem\",\"deformacoes\",\"denominado\",\"dimensao\",\"macae\",\"momentos\",\"dai\",\"denominada\",\"eo\",\"petroliferos\",\"determina\",\"aplicadas\",\"apre\",\"associacoes\",\"unicamp\",\"define\",\"envolvendo\",\"lopes\",\"montante\",\"oficial\",\"recentes\",\"compreensao\",\"fragmentos\",\"registros\",\"cimentacao\",\"comissao\",\"completo\",\"arranjo\",\"\\u00a7\",\"a\\u0014\",\"banda\",\"barril\",\"possibilidades\",\"bandas\",\"bolhas\",\"cacao\",\"diques\",\"foco\",\"obtemse\",\"produtoras\",\"edital\",\"leopoldo\",\"market\",\"reis\",\"activity\",\"arco\",\"eletrodo\",\"malhas\",\"refi\",\"three\",\"exploratorio\",\"fluviais\",\"nesses\",\"parcialmente\",\"recovery\",\"significativas\",\"tens\",\"deep\",\"oleodutos\",\"primeiramente\",\"tacao\",\"temas\",\"intensa\",\"residuais\",\"il\",\"portugal\",\"regulamento\",\"\\u0012\",\"\\u0016\",\"corrosion\",\"maquina\",\"caracterizada\",\"encontrar\",\"esteres\",\"however\",\"primaria\",\"heat\",\"melhorar\",\"patentes\",\"rigidez\",\"sergi\",\"terrestres\",\"variam\",\"ataque\",\"depositados\",\"elaborado\",\"indicado\",\"lignina\",\"magnitude\",\"todavia\",\"digital\",\"oceano\",\"boia\",\"crude\",\"liga\",\"aproximacao\",\"fisicos\",\"history\",\"tectonic\",\"teoricos\",\"certo\",\"defeitos\",\"dp\",\"regressao\",\"venezuela\",\"anomalias\",\"atlantic\",\"calha\",\"lavagem\",\"produz\",\"xi\",\"acid\",\"interacoes\",\"veiculo\",\"carta\",\"centros\",\"important\",\"poluicao\",\"queiroz\",\"usar\",\"apresentase\",\"passos\",\"exploratorios\",\"japao\",\"structure\",\"visa\",\"\\u2202\",\"ago\",\"geologists\",\"mecanicas\",\"metodologias\",\"possivelmente\",\"preenchimento\",\"destacar\",\"iso\",\"structures\",\"basicas\",\"carbonato\",\"dimensionamento\",\"representando\",\"san\",\"waste\",\"placas\",\"radial\",\"seca\",\"conglomerados\",\"dissolvido\",\"mapeamento\",\"oriente\",\"pessoa\",\"solimoes\",\"adocao\",\"direita\",\"frequentemente\",\"modeling\",\"poluentes\",\"rock\",\"frota\",\"grossa\",\"liquefeito\",\"observouse\",\"reduzido\",\"regulador\",\"years\",\"acidez\",\"convergencia\",\"estratigraficas\",\"preliminar\",\"recentemente\",\"bombeio\",\"assinatura\",\"costeira\",\"gel\",\"parafina\",\"pass\",\"tratamentos\",\"asfaltenos\",\"completamente\",\"conhecidos\",\"cores\",\"sdp\",\"atributos\",\"recebimento\",\"resources\",\"rosa\",\"ip\",\"texas\",\"exportacoes\",\"importadores\",\"populacao\",\"vel\",\"viii\",\"risers\",\"tubulacoes\",\"ativacao\",\"nal\",\"regra\",\"conformes\",\"dades\",\"expressa\",\"geradas\",\"leo\",\"referese\",\"\\u000e\\u0005\",\"gerador\",\"rev\",\"stage\",\"treatment\",\"respostas\",\"saber\",\"unit\",\"marlim\",\"tratase\",\"filtrado\",\"ligacoes\",\"cfd\",\"nucleo\",\"despesas\",\"esquerda\",\"etano\",\"modos\",\"ras\",\"tratado\",\"deu\",\"distribuidor\",\"irati\",\"ocorrencias\",\"oito\",\"prevencao\",\"compreende\",\"formar\",\"reynolds\",\"submetido\",\"precisa\",\"tio\",\"oportunidade\",\"positivo\",\"reagentes\",\"within\",\"developed\",\"parameters\",\"rapido\",\"comparativo\",\"cons\",\"eletricidade\",\"tomada\",\"zone\",\"estoques\",\"kj\",\"pouca\",\"estimada\",\"internas\",\"tornar\",\"alumina\",\"machado\",\"stream\",\"utilizam\",\"localizado\",\"lu\",\"beneficios\",\"dioxido\",\"\\u03bb\",\"critico\",\"fechamento\",\"hydrocarbons\",\"mobilidade\",\"pib\",\"point\",\"ribeiro\",\"validacao\",\"aisi\",\"complexa\",\"petroquimicas\",\"ria\",\"seccao\",\"controlada\",\"could\",\"orientador\",\"preservacao\",\"ali\",\"decisoes\",\"posicoes\",\"relevantes\",\"tura\",\"consideravel\",\"eoceno\",\"sismico\",\"gerenciamento\",\"gra\",\"incertezas\",\"modificacao\",\"paredes\",\"tg\",\"empregada\",\"ix\",\"tolueno\",\"bonito\",\"exceto\",\"level\",\"nestas\",\"permanente\",\"seguindo\",\"dispositivo\",\"fluids\",\"milhao\",\"submarinos\",\"sugestoes\",\"dinamico\",\"id\",\"idades\",\"metalicos\",\"ora\",\"escoamentos\",\"mestre\",\"nessas\",\"capilar\",\"geofisicos\",\"hidrato\",\"parada\",\"cot\",\"particularmente\",\"resistividade\",\"andrade\",\"categoria\",\"perfurado\",\"hidrogenacao\",\"investigacao\",\"standard\",\"bibliografica\",\"quality\",\"showing\",\"conformidades\",\"fault\",\"hidratos\",\"chegar\",\"continentais\",\"fun\",\"including\",\"mostrada\",\"redor\",\"thermal\",\"diminuir\",\"legal\",\"adicionais\",\"along\",\"sedi\",\"capa\",\"causar\",\"documento\",\"sobretudo\",\"\\u03b5\",\"cb\",\"conhecimentos\",\"disposicao\",\"catalysis\",\"cujas\",\"equatorial\",\"fcc\",\"ref\",\"\\u03c3\",\"d&i\",\"decomposicao\",\"eduardo\",\"injetado\",\"trajetoria\",\"biblioteca\",\"dr\",\"estratos\",\"infravermelho\",\"petroliferas\",\"trato\",\"uniforme\",\"posicionamento\",\"possuir\",\"sandstones\",\"caracterizado\",\"program\",\"teorica\",\"ui\",\"cap\",\"deposits\",\"observed\",\"rendimentos\",\"several\",\"sitio\",\"absoluta\",\"goias\",\"transportador\",\"diretrizes\",\"dispoe\",\"\\u00ab\",\"baseados\",\"geograficas\",\"atm\",\"instalada\",\"itens\",\"limitada\",\"medidos\",\"moura\",\"verificado\",\"cias\",\"compressor\",\"formato\",\"fundamentais\",\"municipio\",\"predominantemente\",\"proporcional\",\"centrais\",\"agricultura\",\"ativo\",\"bens\",\"north\",\"submersos\",\"\\u00b0f\",\"\\uf02b\",\"depth\",\"leilao\",\"baia\",\"cations\",\"competencia\",\"estabelecidas\",\"evaluation\",\"secretariaexecutiva\",\"vistas\",\"analitica\",\"bo\",\"miguez\",\"profunda\",\"range\",\"visual\",\"caminho\",\"emissions\",\"etilico\",\"matematico\",\"percentagem\",\"restricao\",\"ufrgs\",\"alcancar\",\"sw\",\"\\u03b4\",\"angular\",\"localizados\",\"minimizar\",\"paralelo\",\"porcoes\",\"propeno\",\"criar\",\"eteno\",\"facilidade\",\"partida\",\"subbacia\",\"afloramento\",\"foraminiferos\",\"jurassico\",\"molecula\",\"concluir\",\"cultivo\",\"depositional\",\"gravidade\",\"octanagem\",\"polietileno\",\"pres\",\"publicas\",\"applications\",\"estavel\",\"mergulho\",\"calculadas\",\"comercializado\",\"computacionais\",\"cultura\",\"essencialmente\",\"grafica\",\"previa\",\"tera\",\"acida\",\"mal\",\"renovaveis\",\"decorrentes\",\"fernandes\",\"hi\",\"laminas\",\"type\",\"geologos\",\"houston\",\"litoral\",\"lote\",\"nesw\",\"estimado\",\"filtros\",\"nbr\",\"pirolise\",\"\\u25b2\",\"onshore\",\"submetidos\",\"core\",\"estrategias\",\"faults\",\"reduz\",\"resultantes\",\"ag\",\"confianca\",\"facilitar\",\"independentes\",\"current\",\"ducao\",\"entalpia\",\"gem\",\"geologo\",\"intermediario\",\"department\",\"envolvidas\",\"fracionamento\",\"indicadores\",\"licitacao\",\"siltitos\",\"since\",\"trans\",\"anel\",\"motivo\",\"obra\",\"sedimento\",\"analisada\",\"consequente\",\"escolhido\",\"submarino\",\"catalysts\",\"rica\",\"rt\",\"company\"],\"x1\":{\"__ndarray__\":\"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\",\"dtype\":\"float32\",\"shape\":[3000]},\"x2\":{\"__ndarray__\":\"ns7RwMCJPsHYEgVB2QBGQjb4PUKt8TpBUeUrwuSv8EF5TInB5As9Qo+wtEGEwivC19tFQqxgtEFQ20bBySoQwgR4K0JhBELClts7QcgUo0FugQ5B7XW2QREhgb9Dx+pAif6PwRLrCEKwU69BwwspQSisPcG6EZ1BbrPyQJP1kEBhC+lB/1gOQawAn0FTbQ3CnlZVQDaBSMKhQNJAMD4HQRkYFkEisLzBwb7SQDpF4kBhEr/BBd9iQGctAUG21mTBNzkSQaoQHEF6SvtASJG/QPEn80A3rBVB9RwQQbAxHEHxehpCJ0cAQgqh4EBDYb3ABlYEwUZMJcGauKJB1avfQH5UKcIwCRFBYG+0Qf46bUCVxSxCKWimwZhqJkKFyEPCGJQUwm2//sE8rQ1BE6m3QAeu7EGpSThC3VIlwtLVwEFQU+xBgEMCQiSUQUJtSDJCfDkcwY38uUDZmAlAQiVJQXZ7Y8HuavtBQztlwdyJM0IaRr9ACYzvQYk+iMGUUStCivZCQssuLkIOTZHBG3vyQVTtGkK6YSdBlKLjQZKiKcK7G0TCIiBAwWfIJ0Ari+NAARD0Qd54GkIMzgXCjiOywWIsFsBXaCtCMGXbQGWME8ElS/tBJIWjQQG8fsEwGZ1BIy+Nv8uS0kDd4EfC92wzQg/lGMJrYMLAKiUWwvcWAUHRSwdBGOssQlsRCcImSM3A4W+LQT5S3UEOThHBRAyvwY1EPMESIz1CsQpEwbVqR0GTSwFCgyGKQT3cmkF5bkvC+cujQfgOzEBgL4lAvmPqQGN3CsGxjg1CornlwR7iF8J1GKnAoyNvwPO7VkElL4tB3qqsQDCpPEJVCHpB6kH1QekPgECEMgZBZBc2Quga/EHc4tFB/222QRqS/MEX8rJAOMY/wXGMFsGKV+FAqV7pwEkpo0CNNuFBOF6owcZ04cGivjxCIYKOQXtoL0HXZAdBIv/twTuADkECSRnBCgtDwi5ASkHVafFBRMcaQXKyOEJ+WBTCpo/LwJIP8kGY+fJBSg6sQd5Ds0HLDizCNLgxwKnYEsKuC3xAit34wQk5EsIDXgjBziNLwvjg8ME4XN1B3MPkQa458kEk8MBBONX3wE8mskFaARPCEyWKQVzgoEFGoiZBG7noQbIvBELo7zRBEMJpQUDuz0AboopA7CRhwaJ/4cFRP+PASEPjQBIeA0ITfcrABt60wUjZMEHTyerBWFxSwdkXAEKkrkHC0+tiwe/D0MHXOR9BCZGcQZAkUkGRnj5BEE7DQZ8uTcKq3QjCPkwAQoyTSUKJCIjBwgmPQW4N2EDuBhrC6r22QVx4YUFJKQhCLOItwuke/cDVSh3CnAUUQoJyYUH4sHFBKz2uwB4YxcAkQy9B73nHQYfPicEVA37BziXVQbWqzUFw50xByVmCQEANtMD/LRbCJLBlQXqJQ0IR1TjCQDhwQZwIrUGDMBNCzYKkQOIuBkIEgLlBEMG0QcydKcF8ONZBsKfvQOsSscFsSuQ/zqsyQLR/PEEzbBBCsxz8wX3h48HSej/CsdP1QGEHgsEK/7PABNTeQPU2a8GxtkbCsfwBwmIugkAVusVBweIMQrgQnMBoi6hBieEWQfONlMBzBf1B5itDQWXGhMGRZwzC4BmqQBFTRkFSxbJBNVX5wUYROUIG4LPBcuAkQSGEzMByUp5BQdLmwWcxPUKxjGTBrQWCQaddD8HDyXFBePICwXDhOsL97BVBSG8JwixzFUIkhjPCrMEqQdKSJkHCSdzBITBnwU6g5MGAyCVAYMwWwb5AIcHmTdrB93T5QLb4GEGWNiRAZKHfwDYZzz+1NGdBtayKwTju2sAQBhPCuyt9wXthDsG7hHhAfGncQFpGMsEjJVjBV1iYwRR2A8E3nLjA9gu9QcR4zMFUjS7CepQqQkwr1kHmbkpCjqV9weXbfMC9qzbC7Z5+QQ0gF8JtIQXBH/VEQomZpkHmTj3BkZNTwd8nzUGRp+/BkaDIwbxDrMFLk1fB+HU5QpERZsGzI6RBc7D5QTIFY0GpCGTBvsuCQEj2LEHdJSRB+Ne3wHQEqsAbOj5BoFxUQWKvzEFhGv3B30sfwn/+0sDnl2lBlZyLQQrkykFfpn9BDPt3wUzpgz9qKVbCLANDQeqyBkLtpShAZK6RwU6aSMKabm/BVigmwkA6okA9VWRAhUP/QW7WK0HaVF/BGoqhQBicN8LYwZpAZvZgwEAi10AFBwDBMrw6wVcnIMKQx41A+z3DwQqMEEJ4KUNBjvKWPgK2uUDogDtANHIQwFzs6cDVypjBIQ2DQA/U5MDlfP0/oA2WQNIAt0H7wWRCaN8ewk/e1kGmJ8bBsx2LweEJAsIzKKFBb6gmwoQjHELKkoPBevUEws6/K0INDCnCnnCcPgrpQMHynC5C6UrsQJhXUMKY83u/LCEkQqk+/kFep5nBgS3ewLxbPkGY3r/AY518wehuTsIaC3TB7RshQgxDpMF42MTAa75SwU48KcIuVeTBQOMYwl4+IcDXFebA2Yrdwae0DcKyUdpBENlHwTfxmEHeJJdBsqYAwmpIUUH2eYLBFegGwryr68EDNnrBiP1RwYrx7cAIjuk/5fwsQcGxXMHOogNCO7c3wrgKGkH3IrVAOmxGwKCn6MA+bM3ALTnmQSjME8G7MY3AuKsIwssuR8JOMDnCUvQUwviQ+UG1oUM/YM+AwQGXT0FsXeHAlUSqwUumOsH6nZBBofofQpX9PELxC8i9Sa9vwAOez8E06O5ApkEOQlpHAEJxD3pB6gUnQpD6UcJN+yXCxOTkQWkmXMGZ76/BAGKMQc4drkGdSVg/ImZZQXLJAEKaVDZBu5ylwfP3JkFrZLFBBOj+QRGTBcEukCxB4tQzwC4eIcKtz1jBchLTQdoFOcIpCvDBN1dFQgO24sDakDXCf/GlQSgkrUHNjKRAnNKmQIzLH0D9GBHBQiudQUHojcE40SRBLgIVwuZJHkKloy7BGhxGwXURcMH6gXfBZROdwftuh0FZYH3AszYWQg5PssDHm1nBBGw5wvWHyEHfHkS/IZk+Qaq230FN0zTCejzgQSzjjEGFQE1C4FMXQSa+RUIxcqtBLqmhwVmcIEJYsJDBF+RAv+R9p8CbTY5Bm6pkQJ1LOsJo7VRCJitqQcV0w8HWFRnCl3UOQtGoYUF+/cjANl32QYw4E8FafXFC+AqhQTM7OsFDLS7AYbRFwdbGxkFd2RPCW2I2wlcIpcE9LTRAHB6hQRdUJ0I8HzxCauNgwP9Hi8Fd3PxBy08HQqsmlUDva9U/FhwgQi9XRkIpTs9BEzAjwaQaU8BVDBBCE8H/Qco3Q8KJH/HAVPmQwX81NsCjquJBb+gVQm9JvcE9IQ5C1JWHQfi068Bw04fBrJhRQiI9R8KOStg/dM7OwSnJg0GUdZPB27FMwbn9KsJxJSXBI7UdQhErzEEWzqZAamYCPzcIXj8djp3BpXXQQRWE1kGrHslA5v7aQT+S/kEYLRhCPZaIQd/IO8IYtwVCrRdlwGvRt0F5ZklCC0g3QvDAF0HNcQBCKNUeQQJhl0FjMuBBcwD0wTQXPULe+61B10JGQQ+n1MH2vCxCrGslQGZl+sGvZLRBUbnywXpJe8HfeJ/BO0JMQvQf7MHIWz/CtVPiwWA3zUEXPUpBE4cDQtSbGkIWq/xBL+Pswe3AJkJeBDTCSqgFwWkGzcAFfTpCkyvxwDbaXUFrB2FCT1Anwhd5RsGMF5JABgHFP/RtV0LDBVBA0mqUwcMsNsFtxRJB9XmaQefmVUJGq8VB+KWkwREhBUGat5FBtf5Cwf6dMUI5MQXCc+caQvKrssHSeK6+kNiXwCDeBkL2ZuLB46Gev5JdqcFnXkfCKZYBwI88U0FzVCvCEbFOwkAhcMHv9vNBbywfQWoKKsImPAnBqOY5wTpzncHo2va9vkifQSmwD8ApWffASsUovyejOUJnu/lBiKpwQbiS8UHq8ClC0eCawI3NosGgMdbA1WeiQfTwk8GV0RBCh6O/wHtSvUHt9PhB/MQaQXZ5wUEPVIbBMq8bwvfiykHEF2NA42xcwY7sRMEq92DBFtzHvhthfcEazDvCGh8Qwm4nU8JInCTCSbD2QZTuKMHdKATCqzxIQFbu+r8dpUBCFyrnwK+2V8J0zzHBBFpfQd57ccFrzA5C8JkQQipajcHdHvC+Kz/ywDGQ3MGnQwLBCydXQQG630Fs1HjB2MKlwQHvnsG8b5i+JccAQjR7pME0igtAJyzoQfAMN0FzLCLBB+ZAwitH1kEjqYNBbdqUwci430E9tKC+wH3gwW5cY8FWnnHBjZ86wnGjnD/DiTFBEPaLQNhdtECSoQfBW1R0QQ2SycHE8VZBosrAQWkm5cGekMxB0cIVwiZBfsBF1vTApX0eQSKqVsKFXT/Cw7yOQN7dN8FcKLDBI66RQbSt8MBY46zBNEshwURUb0Fl1kDBmmcZwSD6pkGlru3B6opJQTwfBUGwStVBXs0iQgFzLcDV5tRBXpuRwfef3UHLKSZCCVw8wlupPsIKcc3A9ipWQgKT38DywgxC06jyQT13m0HRK1DBXD4nwXTRK0Ih7Z3AI4YDwW6W/EHvSSJA67SGQG4ShEFvCKVAAUyiQYaEA0LcUfi/sa+6QS7NZEEJ8OnAGM74QQSuBUEJ933ArEYIQaVBLELyBZjB+NTUQTY3t0FozALB6lqXwaiysr9GzRPCWTxUwQZcHMHBVE1B4NeMwbGLX8D7hDJBugILQnEQekL6xL/BXzWawdn4LkHBbJTABiZAQR5BZUHhtwfCKNXjQW5ALMEGfq9B4ne6QfwoAcLvxPtBHbZQQlV7RsFPwZ7BggaUQfMeuUETla3BbcMdwXSQEEJm40HBcSqEQSqMOsGBAzlC69FAwcnM1UAH1ojADhKKwaKJgz/zyw5AllU5QUfbrcF/I9xBLPYQQibTsMEPHBFCRZhIQn0pRsL5TTJCqsQ7wYgXRkIJXK7Bo7rIQfZYEMIyWOpAVQ8vQTNXssHzEbRB619TwsQQbUDZ0J2/YQL6QbCIzUEEsBHC8Ir1wbmiAUKv9lO+HHGbwahHQkI2vopBy6XzwdobxsE69ELCC2i8QUEOa0GFv4XAFl0hwSCWnMFeVTPCMIMFwN5aFsIzdO9AyUhfwRtGdsELSMnB5xUDQuASPsK4Sh5CllNOQrZ8Y0GQM9NBqsD3P5aYTkIW5Wa/NTl5Qadl6EExAVfC+fhrQc6cIMGHUo9BY4gAwr6UMMEUKiRC93wXwkcRYUJ4ngbA42DDwSrPVr93eWNBoX0iQp3yosH8mAbCkaqXwaDMlcE99ozBQa6Qv+azzUCS6GfBTpOkQTKo87/NUVLCOiJTwSTvzMF9E+fB8cnlwcIi7kDTwQ3ACACnwf/wXMLFYhzB45YQQoXDjT+NXD1CXzJNwWR7vUEsnRfCPCGOQMvo2cH0TDZBPznFQRTINT2lwwrB0IFzQLraGEIs5SVCTzuCQS3GEMJxK9NA0QYPQjWcv8EOnRtCCROewJHHSMLKL9TAPDGIwPbgNkEg1MdAUGINQpIEPUKAq2PBJauXwPSNMULKtQtCluK7QSao+MDI91jB1cMdQJpJCcH6uFLBxDCkwUiPsMG3DgxBo+OKwRDPxcHvLIpBLnz2Qfo6BkLG8UhBscpOwWNiAcLE6/TB5CzQQRSF3UE2vttAKunBQZLcdkF66mDBF2CHP2H8zUGBmAnAB9V7QSk3FMHL4wxCMabHQcmjw0Gt/sXAanKCQfndyD8zKbXBRFZXQGtAk8HddT/BEQMgwpwdCkJbXUZC1gkAwHQ/8cBB3nO/PHJTwSQH1UHgLE1C9oBVQdiyVMJ1TqjBy3UMQEjIx0AUTApBVkPSvx2ZhkA69L1BxwEmQQPaGEEAwmhBVailQWn0o8Gh6ynCRmrXwSWs0b8h3h9Cb09Vweb0OcKz9DlC/ePowaNL3kAiek7AvhPgQLGEEUKbtZK/YKegwbHpw8BB4btBOzyrQUkKm8E7NTzCjRu3QZBAE0DaMspA/KEKwqxBQ8GCo9pBEA+xQQsghsCadrlBpZPyvt5pvMHse7Q/PPOUQVSOMUBNR9HA4XaqweEV9kGR9E1CktyAwUq2N0IBDd1BIuT8QWMb88ElveXApiGfwUrInMCW0ERC0Q6+QaAki8H48iRCRxowwY+wG0IEx3HBbAWpQeXe+sBhgwBCFO1UQu3LJMFE0c3BCrUrQrfFD8BTpcxBWxfSQVz+GUAaltrBwaoEQiXpVsG5cOlBTjOvvi/mSkLbhK/Bxj6yQcR9w8Fvf7LBld6PwY8LNUJdJaTB1ZQJQVyHaEHa9gPCLaDZQYG/h8Gpl5bBvF7LQW2hgL9yP1BCgEXawRusPsLnAURBrnLMQRph70GtDiRCFkwuQulOgEG2NknCOad4QIfGVUGyeVhBYJwZQoQRwcEkj11BHWwYvQaOIsLHL+dBni32wcLJksEiHhdBRj6Wv0JX8cB+NK/BLqh+QZfH50Hli0nC0shUwPAa78GkCaRBKBSRwXGSNUJNBNJB8ykpwedpBsKO60nCb8cVQeMB3EFkjOrAttfDwastsMA4V2BBnmTRwal4B8HTLU3AfkwKQnYnREJVXSVCwYFJQGbuLkLWs7pByrHOwUtTBsJvjrnBZcszwrSQCMJILB/BIWvfQfmVkMA0+NzAR0FOQkO44cAuIIvByFrmQVvG0kF/NNDBmzMCwX3GCUESMANB0kwowprPGsKMH9PBIEipQO3w78HidghCtz0KQr/S/UCcfQlCYFeMwRyrA0ITsPJBhm2OwPWsFsKhH6NBRlJjP+acv0GSGFJBG0oGQgNnI0DLaU9BVVtowab5mkEsG9JB59AowaO3rcEJTIxBELa0wcoPSEFpQ9jB8l6DwR55JUI7dyfCacCzweHnOsATG8hBuXVBwiaOWcLKJ4BAVq7bQf9lZ0FnfkPCFvfbwBMU4kGykZpBDJC/wJ8+AcF7tX3BnzRYwYAp78HgEuZA3uJBQFLpwcHm2yjCOuQTwCsQlcGjqaLABPmKQWrMeMENDO7AiEE+Qvid28HTnoFBfr5IQv2s78EWZiHB1b0cQm67O0BRnInBOsWeP3KDhEGzJWlBLo27wTsABELDqADCzkMdwXWPJkLChQVC4wm3wajTN0FY8QlCGamxwAYMQcDjsSZCSU3iQEgHpkDnu/ZBLD7fwQntHEJmjz3CYlX8wVDo8cHtsTHBgoFUwXR9v8HtZibC6q9AvuQmrcGreBfCkjwgQaD4XUA+PMBBA7kAwomY9sH6OE1CuN4iwgu838A+PptBiSvEQe9gsMEUWUZB1r2UQfgnpUFIAlTB3u5wQqRHmTzvdCvBG9dzwaE7hkE70hnCHLrKQX+gN0Hr81zB5GdFQqXd3cF96nNCJ5S4v+60NELteSbB8cjRwe3kBcKdPoFBWbSUwDSYCkEq7I3A4XsDQtkXqEELQyVCOVxjwfzJSMJKm0VBFHDTQdUlSMJ2zgxBchaSQQu/RcC/juhBw2K/QNwyZ8H87WjA7qOGwEDMhsHU4fBBVXoCwvOzuUEp1QlCAgb2wZqDUUHaMqBBbD37QVjuU8LtlATCN07DQcAY4kFcTbvBYOWUwZGc4L/3XP3AE+S1weyzHEKncNnBDU+hwWtuvMFx5trBCNjwQTMgkEHojLNAOgc5QldYiUGoyK/B5GSAQAMj0kHUNkrC5fLcQbR4TMKmQ7hB9Rc5wH4To0Ek+pfBi7mZQTzNHcJp/XdB/gw6Qk2W/0H5tobBLSdfQLgDGEGlSiHCcjWewQ1ksMEPnVZC1Y1eQd2XCsHJSS9CmYloQcZDPsG5aZzAFKwxQgBySkG5ATFCjc2fwSsfoEGh9GBBUzqwQexNHsE8tw1CtFhdwGjioMHPFwBCGquEwWkwwT8x9QdC5gx6wbLR9kBYWMzB01+WQfeRmUEMXVLBBCWEQdsLB0A3RLZBhZ6wwRwxXEKFEgVAdfEGwatZ5sHyswHB4X+VQaSL7sB51V9BxKkOwgqVwEEkNaLByyY6wikDNEFBEX7BgEzCQbPE6kHavhtA4P6AQb1bh0GAbg1AuiYZQtgXTME0Dk/AmP+7wd/L68G4HehBBX6Twe+nrMDPjMbBS104QmQjHcLexvhB/AKmP2vR8cAg5jvCE6ZKQuRYNsFMmh/AUjAjwsn8HkJj0STCgIqLwY52DsJQJIE9d8s+wQxrUEGjucdALmcKQtvAKcG0vq/BOn0qQkK8c8Hsp4RBYzjLwWQNTUJsVCrBk/qgwYASoEGkKzNCK54aQoMdg0G61BPCszvPwRKdCsDvnI7Br4WvQVxvokCxHLhBgZiQQTGFUcGkGkNBerb0QRIioMEhGtnBnNvRQWIMTUIY9x8+NVVRQtMHAcFN7MnBEXgEwQfqMEIZGB7BwQTdwUU9RMAS2p7BCaziQL765T+utalAFnd1Qrpm+0F5S9DB/3NEwVLpu0F13QdCzA9HP/uhAUIB+CBBu07oPmh8JsI2BbhAY0zKwUHecUIEbonB0UtEQgexYkHlmg/BSYnGwbU4DsKzPVfBvFUWwN5uLcEZklHCPuz1wZ/3skFKH1HCchOpwQY+RsFnbyzBfm/VwdofDELNNg1CVVaxQEjnLMBiirHBuxqXwfD6NcGt8HtBtutSwseOC8JgMr7BbBwJwcExoUGigB8/rPgDwdQUl8HO0thBokyQQQzn48DUXFNCD1kfwUQCosGkMxdAKBw1wqTOp8E8rElAQUl7QZdqeEIVuRy/TTqTwbfe80GCDYTBzzXdQadltkAhMlzCZk1xQck6OcIW4kjC4+NqQdLvDUGhMObA7BVHwvawE8GdEInB+UFGwVKwrEACMT/CK0qXQaDz7EEgeKvBEKhtQZJIEsGLqxFCxpgBQt+9RkJkgR/BCp3EwQV2iMFNX71BSwLBwIKjuUEY73lBQvimQcoCFcFrLTfCvvepQRrrtMGc8htBdW9dwns/sUG1ld7B0RpwQgXS5sHpqrvBuwTRQXZLGUJCZYLBtbcSwoK40MEhLFTAoUG6wEKzlMEx/YBAOSRlQjspxcArufrBk5c4QsvupMEj66rAEmdOwSdDDULcFnRCjp7aQWQLncE+Zp2/QT5bQCBascHeU8e/JjERQKHp+MEG40RCr8YPQefghsAkrkpBfVwfQnYa+MCECKvBpSGnwBj7fkHEo+1BD/ZwQo8XlMG0Dw7BeoBtwfAIrUHbN5rBFAaPQFERYMHcFxDCJjlzwR2zhsFXfz/C9qL6vx8y1cEmIC7CoWM7wgMurUGYCuBBBPRDQtQeS8IgW69Bgn0VQs5HREKJeytClnApwVKn2kHRIZHB3YNPQBuJtUEFPWRBBzkpwSNWFULeGETBBJ7rwctQZUJFMNrBA+4swqLiwMGGQghBpuJXwXy2E8Gxyd7B1o7kwQUe2kFy/sbAASAGQlvWwMHtWE7CV/SdwTcX/0FDBaTAScDqwUAHn8GjAxVCbMu0v5o4BsIFWhjA8IdeQcoji8HQH5XBSINDQVyTNcI6MVdBtIwXQgLDo8EFV/PBsBVOwdv/c0IkDPFBKyzUwaEdG0D1FhFCzrIBwaV2o8EHxIpBXtFrwXZtO8EsvcLAlmCxQGgup0EM0vrB6IWGwbk+vMF55YlBceYdQcFMFcDxiKnBpKvDwdhZlEGlCPZBOL4NwQ0CIsFeIRBB26BywUO/9T8gxjBCH01nQX3PK0IABRdBVhDnQP/lp8DR+wxC2mPCP7f0BkHdAXLBJXixwcvgL0LsP9LB+K8qwoMVlz8QmuC/zgdKwgXYU0JVJcnBkhAaQt5GscFGB97B+1NwP2WgrsEuUyTC8BeCQXYCy0GsAQnCgeX7v5xmoD+MwlhCgvY/wgb448Fj3f7BgWfAQVUw0cFA4DNC549cQglvMj5TDXRBWSm8wagfL8GKk3hAIOTQwBf7mcCiUNPBvvyPQZH9IMGlgyrCxgvLwaSLxEFqchNCTHRQwXYavcEdvRFCmNYfwbXbYUJ0JBzAWPxoQE5FgUG1jr+/a+65wQqQ7sHI7KXB0dUywv6fR8GTRqjB+yqWQABFJUIh6lrBJjM6wf0K+MC4Vd3BaYuEvqNjBkJq5vTANrCDweLEykBSUaG/drhQwiytPcI6gfRBKn2EwdUjiMA0zITBF6WJwTzkVkJ58vHBf20PwlcD/sEyrU1CouKFQS9D5cCulLrBLfzGwTBgPECvmCtBNJf0QQrgzMGoArbBFBfKQW6pikGCAt/BmYo8wbUGuUAfyK7BE9+7wYVSlUEZnCjCYF/nwd3wiUGkv9vBReD8wZ6v3kGd4xdBeiLswUVxI8ESugNCqhMdQOrMqUE4RStBwqqxwQ7bMMEwAGjBfrAUQIgVh0EFhiDBCvatQSs/8kG6lYnBuxT+wXUl6UBzdMVBaHT1vyv0sMG/fLhBqiO2QHVqiEBN5DFCzL+wwaNu7sE6kePB9rDswX5kKsKyFeDBeVxhQh7keUHT3iPBzjhuQTGVAcHYKcjBLXM4wJtwU0EAUVPBZ9fnwZqHM8Gu4/5At5GxweCODEG6FkTC3nEjwfOg0MBfAiBB19mowCHTlEBo0cLAiCgyPj+FAsKpCdrBGUoSwa/qf8AiJAtBvscvP2seMMFPID7BJ4QOQtZk8EFT61ZBq0GCQBfksECcd9zByIhTwkCHFkEMlOJBiRZ+QYc2FEFfNUNBeG7awUFbu8B3JW3BMknGwbyPq8HOl5nBYd9FQKLQL0HGGmjBicq7wdDmmkEhQj9CPuPvwOrFpkGsxBtCjduEwTa8n0GRds/BH/YEQYln4cDczftBuCk/Qd0u5D/67O4/XVZzweyqH0Jh3A1Cd3g7wYMPTULnefZAYNpAwhRz2MBMFhlCRsf/wZrfeMHxPmnBLoQIwg5YXUCvp8/B7XajwW+8/cH/cRpAldmZwX8iXEJiaKrB7B3LQHvwO8Iq/gdBjWXXwXUO5cFUoJNAsjGlQHVo/8CPH01CYVlJwiZzS8KMVLhBuIskQHdNg8Bx1wvCq7l/wcdPAEIVZLnBi5AjQhk8EEKrRILBsdErwgAzI8E5TYrBV7S1QQEks8D32crBkOiKQfF05kCyd8jBK9IDQp3wE8JNuSdChZO+wdaZZ8Ep+TLAR5OVwO24g0GzUhNBolTZwYOiCsLIY9RB/2cmQYKl50F2qoxAIXc+QSIkt0FCDFjBANExQTG0p8GfSRxCkWe6v/AowMEOIKJB29+gwdhYGEAA5YlB8mqzwQT5mEEL08298F2AQRIr5cA6cIXB9eYVwR6v0sEJU7tAEUBPQjUTgkH4x7PBy+q0QTbu2sHD1FFANKFAQO08T8FXMxTBPJ5zQaMsl8HllabB9NfOwc+Yf8EntHrBsSHCQCV9IMHRDitCJEBDwaFVlj8PQoi/CIPRQH4vCUJi25TBCfs/wuB4M0J/s2DBt1QIQoJxTcIR0/JBabNeQSxuDsCPbuJB27kcQnDbH0KPSkrAzMyBQQVqWEGF4pjBKhFBQnvaiMArYhpCdrC4QL+T7cBxTcVBQ6QJwrt0gcGSQhHB9bQHwd91ecHvGxdBE/LIwfItosEYN21BcqJSQTG1/sHnmLvBw21uwaNMVcBitllBRCc7QkZJO0Jz0k3CeJLyQE/WNsB3XTVAUKcswRd3j0ATe4LB7PyCwC81E8L/EopBeHDfwXFPv0GKySvCvJNCQiozycEs6ttBB1s9wVe/LcCZ9ydCay+CwS5U2EFV4AVCPEnNwbJWukGRnqFBZ0KAwealE8IrxdDBlE3NQeQ6EsHTl9nBXqCywHaIusETwmdB06FhQL0GDcJuzwrCASCIwdFcBkKEIJVB6oKAwW4ZnsHeyYLAwDgZwjfp7kH2K43BDwNEwK3qEMGOpdXBp76ev8cbDkLJYDbBPRDNQRTdg8BEXqvBx1NqP3y380ECyedBHfjOwTGUjMFb/+HA3V2KwShWs8G6XFFCwJcVwamgcUFivZO/9kRSQTJXGULI6vbBaDS3v8iYUEGNYh9CUnBAwvLpAkIBMKw/9yabQMSdt0F1Z/jAEnELwYI6yEFzWF/B/vl3QD2nREERr0hBlgYDwRj+skG46onBzcjGQX6wTUKHLlZBxH+NQdLI/0ETT6vBu2+IwSAOIkJ9xB/CZd45wbq2I8JCmR/BdgMbQhqzV0Jrkdq/o3fwwUDEnUESlQRCkM98we0CTML5dRXCl18GQdkJBUEV1kDCLW+/QVMwm0GjViRBjj+zQF+5wcEaIVBB2ZqPQZKpDcKPGw/CkK8AQrZxX8B04oLBpXu5wXNmc8HOnKPBIeIiwVai0UDTMlDBAYmNQTuK9MCdjZvBK4uiwNAgv0Eod6HBTB6MQSYY6MEAmBZB353sQZokvkHhVtJBGEApwuLD9j4GSCZBmD9JQY/hl0C66w1CHzg5wBuHpUHcmtfBqzerwaZnzUGcz3pBQljKQdxAiEE1RVnBLw1TwWRvSMLUQ3bBboNxwWA8lUHAc27BESClQfPIu8HftdZBFoFYwvXhWMH3RZ5BzQ8LQrRQjcHcmF5CpeN7wX9NLcKnfApC3wu/Qep3/T/eQsnBOb2PwWPFOkD+/ChBFDsqv2QW/8E5LXhB2XGywa1LasFabKTBkxG3wZB4RkLTgPNBNSiEv8vmCULHz/XAs1L/QA9jzsFe1RZBh0siwbKFOz8BbuTB7l86Qu/B1sHjjcjBw/AcQgy5CcJQiffBEpmMwJV6Y8H5a4nANz1ewnrlwkGiMFDCuzLXQRwC4UBmVCVC/TVGwqpwrsCAoZJBDWWwwUog1j6t6tRBphuBwHGbVsFrBBVCG0KuwXEYTsBCUANCjl3UwPk+BEK6BPdBF8AawRpxpMFgBEfCiC1MwFZSN8HUvefBNkD2v/B6gsF1h45BPCAlwikMmcHiHXPBhRSSwcADRcJai1xBSiimwdad18G6R2I9zAU2QiJo7MF8tABCuvMJQHeSpEEE+kbB+PwuwRWLAEK/a9hAOcPPv69m0MGjpWPBsNf9wRPFpUB6YTDBmZtLwvQZb78AnYJBRJdMQdia40AWvZbBozObwVI7tkE6riZC7D1Twa7jLkA29Js/nz6fQFacMEBzy4FBJCb4wHpn+EHxOUrBDMX3wcYigkF9kT9Cx42KwatKhEELxoRB5ZBLQmuFpsG8eWvBpYhWQQTrhkE4o7/B/RkRQjDkEUKmIb3B2BEVwmWiTUAoImRB8akEwnRxREFPCSfBsp3iv56mP8FK2JnAlxBMQWuBncHY8la9gwlIwmuDBEKx1ktBpF5AwMwEV8JDswzBG3c4wBvQdsGqkI9BMzM3wYxdf8EFk0BCHEO/QWuCu0CZVrJAMqxOQRKSqcHNCbzBFVIrwnrKq0H7fOHBWhJaQjlU5UAlGObB3SqJQcTDT8Eg8ThCe4DDwWEpJ8IQoZnBHplZwjxruMHlUtfANufNQFLcDkKifz5CJza4wRNdEEFxSTzCPIA2wcnK88DHhV7B2D77wbFhv8Hp0vvBOHRSQpWqn0EQ6ULAXEmKQRHNocD4cA1B3D19wXIMtECmHXVBgaDGvzHnmcAX7VbBqdUqQhvoncEGKYlB/eAAQtHqsMEnDRlC57PlwRSq0EEfPYLBNEoLQb8CBcJmKBnCYKXlwZyUXMGWATXCohwVQcxnOsHDYhxClHCPv/NBN0FoXRRCyucswsSmZ0EAujDBpgUGwj+BiEEJCY7AJcvawduh4MHJGFW/szACQZd1ckCtpFzBLbeAwf2VrUBaytHBlUDHwerk7sGC9xlCuW0GQUUdmsGOJ6HBoNzeQGtTOEJYKPDBp1XFPn/7sMFHjehAyJ1PwtblokGy31fBeiIbwVRzEcLryuhA0jjCwXOHyEFjp1PB3VoTwjDVBcGJp+nB27ykwa8kkcCeAp7AcouHQRDHP0EaisLBDC/Qwa70EcLcBSFCj30JwTyXG8H3KYHBNHDOwTOvpMH26qzAn9MxwirWUkFC0/VA7Vu/QAh7rb50GyzCOI3yQS+zx0BuMhPBkl+DwVHvj0GQxOnBCkr7QVivxsB5jDFCZgI3wUw6pL5ScqtBq2OswUPMsz9J46xBdI20wZVpuUGCRzxBq5VhQl3OdkEOUFTA0TIGQulMZEK7GgZCp9n4wE+zRUH/K+fAnv1TweBJqcGzxA9BireMwTdIdUKLOpnBEGJLwpjmjcEPPxPByKEzQu3yVEL+i8JBiQeCQHAYl8FtBlVBgNZJQlvV80EmtLrA+/o8v50OAMI8RdQ/tl8xwQRuqMGlQRa/jBk9vzrNEEFC/S8/DQYoQlyJn8Em3nvBDs/xwb40A8BjPY3BUAv6QDncIkCafntBue8KQQYXEEKuz2m9xZWRPxPTx0B4pHhCdBjLwbysJsGGDBzAQOdXQUD2IEKoHAfC/97awcYlCcJ+Ud1AmqC3wZqUIEEfCWzB8ZIAwqRTj0HUcQ3CEkvPQYQOb0DZN1rBCR27wf9ik8HBNcvBs6REQZelfMEBtBzAfQMmQlKb20HembrByxInwgpp9sH1Xu0/dBs1wd7DwMF1r5VBP2DnwVpdRsL7B4VBBQoSwZldq790SXTBD9QZQElkZ0G9aIrBL73DQN9sC0KpHP7B+Du1QZgSe8G+zCfB/cZHwnXDBULhnQXCmCWGQU7YREKTmBXBhUXewZCoSEC6T63BCRGmQVTLWMA5Z3LA7rHcQWbi4MEhlYC9mf0NwceJTECINlXCyLf9QK1lBEIYiafAY+qlQVhMtEGBL1NC/4SRwYA/AEJ2pJfBLhxwQi9RCMJxGYLAqQXFwVI6x8GsaB5BWHwIwR2x4ECPYL7B6uYVwrJPUkIQI9RAgXe2QDoW2sGjrLjBEi0lQfA4tMGhmlXA6v0BQp7Ex8G0lUxCYXyVwZuWXEEDRSpCJzK/wSq8kkExESZBm39Iwha2tL5S2OG/KuYHQogXtUGGGzPBCXdxwfClfcGRBtDBUSAIwuVzusG5k4dAD6iJQWW/QMJ5GbDBTImvwQn3c8EbwlVC55iSwUeqcEGBjFtB/XWWP1oDv8GieWY/q9TSPtLPAUHvAw9Be4qVQcf/cMEEhsLBZhTCQd5epkGaw3HBwczAwUJ4x8ETm3RC8M5DwZ4jcMEqvz9CEajvQSZAVcKJpatBgcgSwSHEvEG4cKVBiSapwaOxv0EH/q1BZ8iXwbFQoj0+6bRAIHp0QQZbB8JYI5vBGAiewXo/ccAqGIXBOzAuwa8UCMLJScLBYERCQf9QssFoj9dA1KxmQa70R8L9wiFC6xaLQdbgjUEPJX3BHvRbwSm2x8HyB+HBnCImQnhZYcGDvZfAhx+IwTddR8J8aTDBR2SbwLDlMUI78aZAfgL+vxqR679gbcDBYxg0QJi2Q0K4cplBBXXIPmCNG0KR9sXBjsrswTZM08EGT5zBXDLewUiJw8FGRybCIqkFwhH9n0EK4b3BxbZqwYE1xUE6EMlBQ1kDQpzcYMFrOCrCB1oRwdp63ME5fOVBNFLxQBWfncG9qSRCSkcOQkUmnj+3tL5ArlkAQjTpZ0HNXsnBCQ2HwbiQjsF/4BTCKu59QWkfCMFHMiPCtn10QkcdlUE2b3RCbTiXQU1ELEKGSTHCGqnjwbBER8Ji5FLCgX0KQZDtdkG46CVCVJrpwVIv98BErgvChjyGQYh7McGuZ+1BnBiCwZZ8fcDKusHB8vvawUtgM0GFgV/BwqYmQjkCwcEG67xBKaQJQsOHlkEifBlC92gcwc9Co8G1MiRAGElFwrw4QsGJaQXBNRbYwcaJtUHO2RPB+1odwm0jZEHYHNTBbxhUweAmOEK+sTZBXJUVQiCK5cD0qBdBWeEAwnpE28Hg++xB1bW6wWw8GEF3maXB5cqEwfFTuMEGnrNBJCCswb3v1sF261U/y9y9QW/BekApAK1By/hPQpBsPsGs8MHBvcQVQhJf7T4wiwtCYso1wuzBp8EIZyDAeK8jwf32LUE9qJNBcyXwPkhRicCJGPpA0LG5QIiTXEIZNOXBVuSuvvEKWsEM747B\",\"dtype\":\"float32\",\"shape\":[3000]}}},\"id\":\"959e7d7b-d51c-48e9-a476-9e67b05c6718\",\"type\":\"ColumnDataSource\"},{\"attributes\":{\"source\":{\"id\":\"959e7d7b-d51c-48e9-a476-9e67b05c6718\",\"type\":\"ColumnDataSource\"}},\"id\":\"3851bf7f-fe7e-4be6-a122-28ada6106db1\",\"type\":\"CDSView\"},{\"attributes\":{\"plot\":{\"id\":\"c00040b1-5162-4049-9d78-17c487a74fc6\",\"subtype\":\"Figure\",\"type\":\"Plot\"},\"ticker\":{\"id\":\"3fcf2dce-0a2e-4009-ac13-a26e65cb2f66\",\"type\":\"BasicTicker\"}},\"id\":\"b49f1a7f-4d9e-44e2-83d1-82aea943718f\",\"type\":\"Grid\"},{\"attributes\":{},\"id\":\"b2277ca5-7f70-4201-8464-85135a54030a\",\"type\":\"BasicTicker\"},{\"attributes\":{\"data_source\":{\"id\":\"959e7d7b-d51c-48e9-a476-9e67b05c6718\",\"type\":\"ColumnDataSource\"},\"glyph\":{\"id\":\"ec7ee4c5-c7d0-4420-81e8-aa5fe91b04df\",\"type\":\"Circle\"},\"hover_glyph\":null,\"muted_glyph\":null,\"nonselection_glyph\":{\"id\":\"ab341c14-8e06-4853-887e-390f0f1395f3\",\"type\":\"Circle\"},\"selection_glyph\":null,\"view\":{\"id\":\"3851bf7f-fe7e-4be6-a122-28ada6106db1\",\"type\":\"CDSView\"}},\"id\":\"7fb74b93-85af-4c18-88ac-89a4c47b46b4\",\"type\":\"GlyphRenderer\"},{\"attributes\":{\"dimension\":1,\"plot\":{\"id\":\"c00040b1-5162-4049-9d78-17c487a74fc6\",\"subtype\":\"Figure\",\"type\":\"Plot\"},\"ticker\":{\"id\":\"b2277ca5-7f70-4201-8464-85135a54030a\",\"type\":\"BasicTicker\"}},\"id\":\"c633be8e-8b2c-48f2-85ff-f0ccf85134df\",\"type\":\"Grid\"},{\"attributes\":{\"below\":[{\"id\":\"27f4c756-ed55-4a16-a74e-f12b1246a308\",\"type\":\"LinearAxis\"}],\"left\":[{\"id\":\"4e57a711-8f2b-4c73-8872-ad2b14a6b702\",\"type\":\"LinearAxis\"}],\"plot_height\":900,\"plot_width\":900,\"renderers\":[{\"id\":\"27f4c756-ed55-4a16-a74e-f12b1246a308\",\"type\":\"LinearAxis\"},{\"id\":\"b49f1a7f-4d9e-44e2-83d1-82aea943718f\",\"type\":\"Grid\"},{\"id\":\"4e57a711-8f2b-4c73-8872-ad2b14a6b702\",\"type\":\"LinearAxis\"},{\"id\":\"c633be8e-8b2c-48f2-85ff-f0ccf85134df\",\"type\":\"Grid\"},{\"id\":\"7fb74b93-85af-4c18-88ac-89a4c47b46b4\",\"type\":\"GlyphRenderer\"},{\"id\":\"0edaf8af-7694-49f8-ad69-d1cc241758ca\",\"type\":\"LabelSet\"}],\"title\":{\"id\":\"f61172d2-4e7e-4ad9-8732-aac074f0177e\",\"type\":\"Title\"},\"toolbar\":{\"id\":\"cc1a6e06-77dd-45b7-84b8-9340bc130cb5\",\"type\":\"Toolbar\"},\"toolbar_location\":\"above\",\"x_range\":{\"id\":\"cda0978b-5090-4751-bc1a-2b0799d47705\",\"type\":\"DataRange1d\"},\"x_scale\":{\"id\":\"d50753cd-c3d2-44c3-902f-3e4f507456a6\",\"type\":\"LinearScale\"},\"y_range\":{\"id\":\"9aea856a-8fc3-4165-834d-15f6939ef2f5\",\"type\":\"DataRange1d\"},\"y_scale\":{\"id\":\"bf798c84-ca5e-4126-a1e8-73d214f63b73\",\"type\":\"LinearScale\"}},\"id\":\"c00040b1-5162-4049-9d78-17c487a74fc6\",\"subtype\":\"Figure\",\"type\":\"Plot\"},{\"attributes\":{},\"id\":\"5448764c-abc4-4267-9a1b-c34ad55dc802\",\"type\":\"BasicTickFormatter\"},{\"attributes\":{\"plot\":{\"id\":\"c00040b1-5162-4049-9d78-17c487a74fc6\",\"subtype\":\"Figure\",\"type\":\"Plot\"},\"source\":{\"id\":\"959e7d7b-d51c-48e9-a476-9e67b05c6718\",\"type\":\"ColumnDataSource\"},\"text\":{\"field\":\"names\"},\"text_align\":\"center\",\"text_color\":{\"value\":\"#555555\"},\"text_font_size\":{\"value\":\"8pt\"},\"x\":{\"field\":\"x1\"},\"y\":{\"field\":\"x2\"},\"y_offset\":{\"value\":6}},\"id\":\"0edaf8af-7694-49f8-ad69-d1cc241758ca\",\"type\":\"LabelSet\"},{\"attributes\":{\"plot\":null,\"text\":\"word2vec T-SNE for most common words\"},\"id\":\"f61172d2-4e7e-4ad9-8732-aac074f0177e\",\"type\":\"Title\"}],\"root_ids\":[\"c00040b1-5162-4049-9d78-17c487a74fc6\"]},\"title\":\"Bokeh Application\",\"version\":\"0.12.10\"}};\n",
       "    var render_items = [{\"docid\":\"fac4c334-827c-4e8f-941f-8c6d43067f7b\",\"elementid\":\"5b20b3e2-3662-4e93-906c-d99158aecf59\",\"modelid\":\"c00040b1-5162-4049-9d78-17c487a74fc6\"}];\n",
       "\n",
       "    root.Bokeh.embed.embed_items(docs_json, render_items);\n",
       "  }\n",
       "\n",
       "  if (root.Bokeh !== undefined) {\n",
       "    embed_document(root);\n",
       "  } else {\n",
       "    var attempts = 0;\n",
       "    var timer = setInterval(function(root) {\n",
       "      if (root.Bokeh !== undefined) {\n",
       "        embed_document(root);\n",
       "        clearInterval(timer);\n",
       "      }\n",
       "      attempts++;\n",
       "      if (attempts > 100) {\n",
       "        console.log(\"Bokeh: ERROR: Unable to embed document because BokehJS library is missing\")\n",
       "        clearInterval(timer);\n",
       "      }\n",
       "    }, 10, root)\n",
       "  }\n",
       "})(window);"
      ],
      "application/vnd.bokehjs_exec.v0+json": ""
     },
     "metadata": {
      "application/vnd.bokehjs_exec.v0+json": {
       "id": "c00040b1-5162-4049-9d78-17c487a74fc6"
      }
     },
     "output_type": "display_data"
    }
   ],
   "source": [
    "p = figure(tools=\"pan,wheel_zoom,reset,save\",\n",
    "           toolbar_location=\"above\",\n",
    "           title=\"word2vec T-SNE for most common words\",\n",
    "           plot_width=900, \n",
    "           plot_height=900)\n",
    "\n",
    "source = ColumnDataSource(data=dict(x1=embed_tsne[:,0],\n",
    "                                    x2=embed_tsne[:,1],\n",
    "                                    names=vocabulario))\n",
    "\n",
    "p.scatter(x=\"x1\", y=\"x2\", size=8, source=source)\n",
    "\n",
    "labels = LabelSet(x=\"x1\", y=\"x2\", text=\"names\", y_offset=6,\n",
    "                  text_font_size=\"8pt\", text_color=\"#555555\",\n",
    "                  source=source, text_align='center')\n",
    "p.add_layout(labels)\n",
    "\n",
    "show(p)"
   ]
  },
  {
   "cell_type": "code",
   "execution_count": null,
   "metadata": {
    "collapsed": true
   },
   "outputs": [],
   "source": []
  }
 ],
 "metadata": {
  "kernelspec": {
   "display_name": "Python 3",
   "language": "python",
   "name": "python3"
  },
  "language_info": {
   "codemirror_mode": {
    "name": "ipython",
    "version": 3
   },
   "file_extension": ".py",
   "mimetype": "text/x-python",
   "name": "python",
   "nbconvert_exporter": "python",
   "pygments_lexer": "ipython3",
   "version": "3.6.3"
  }
 },
 "nbformat": 4,
 "nbformat_minor": 2
}
