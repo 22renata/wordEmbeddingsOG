{
 "cells": [
  {
   "cell_type": "code",
   "execution_count": 1,
   "metadata": {},
   "outputs": [
    {
     "name": "stderr",
     "output_type": "stream",
     "text": [
      "C:\\Users\\czl6\\AppData\\Local\\Continuum\\anaconda3\\lib\\site-packages\\gensim\\utils.py:865: UserWarning: detected Windows; aliasing chunkize to chunkize_serial\n",
      "  warnings.warn(\"detected Windows; aliasing chunkize to chunkize_serial\")\n"
     ]
    }
   ],
   "source": [
    "import gensim\n",
    "from gensim.models import KeyedVectors\n",
    "import os\n",
    "from pathlib import Path\n",
    "import datetime"
   ]
  },
  {
   "cell_type": "code",
   "execution_count": 2,
   "metadata": {
    "collapsed": true
   },
   "outputs": [],
   "source": [
    "# convert GloVe to Gensim format\n",
    "# https://radimrehurek.com/gensim/scripts/glove2word2vec.html\n",
    "#from gensim.test.utils import datapath, get_tmpfile\n",
    "#from gensim.models import KeyedVectors\n",
    "\n",
    "#glove_file = datapath('modelos/glove-50.txt')\n",
    "#tmp_file = get_tmpfile(\"modelos/glove-gensim-50.txt\")\n",
    "#from gensim.scripts.glove2word2vec import glove2word2vec\n",
    "#glove2word2vec(glove_file, tmp_file)"
   ]
  },
  {
   "cell_type": "markdown",
   "metadata": {},
   "source": [
    "## Considerando vetor de embedding com 100 dimensões"
   ]
  },
  {
   "cell_type": "code",
   "execution_count": 3,
   "metadata": {
    "collapsed": true
   },
   "outputs": [],
   "source": [
    "# Salvando o modelo\n",
    "arquivoModelo = os.path.join(\"modelos\", 'glove-200.txt')\n",
    "model = KeyedVectors.load_word2vec_format(arquivoModelo, unicode_errors=\"ignore\")"
   ]
  },
  {
   "cell_type": "code",
   "execution_count": 4,
   "metadata": {
    "collapsed": true
   },
   "outputs": [],
   "source": [
    "vocab = model.wv.index2word"
   ]
  },
  {
   "cell_type": "code",
   "execution_count": 5,
   "metadata": {},
   "outputs": [
    {
     "name": "stdout",
     "output_type": "stream",
     "text": [
      "['cid', 'sao', 'nao', 'gas', 'petroleo', 'ser', 'rio', 'petrobras', 'figura', 'producao']\n",
      "Tamanho do Vocabulario:  77182\n"
     ]
    }
   ],
   "source": [
    "print(vocab[:10])\n",
    "print('Tamanho do Vocabulario: ', len(vocab))"
   ]
  },
  {
   "cell_type": "code",
   "execution_count": 6,
   "metadata": {},
   "outputs": [
    {
     "name": "stdout",
     "output_type": "stream",
     "text": [
      "Word2vec: [('gasmigfirmegeral', 0.8670461177825928), ('rpbajdirex', 0.7355210781097412), ('riodejaneiro', 0.605539083480835), ('janeiropetrobras', 0.5870417952537537), ('cenpes', 0.5820456147193909), ('mercedes·benz', 0.560712993144989), ('ecoscientia', 0.5561607480049133), ('suloutrosgeral', 0.5538656711578369), ('dadosestatisticos', 0.5497871041297913), ('maurischat', 0.5492972135543823)]\n"
     ]
    }
   ],
   "source": [
    "print(\"Word2vec:\", model.most_similar(\"petrobras\"))"
   ]
  },
  {
   "cell_type": "code",
   "execution_count": 7,
   "metadata": {},
   "outputs": [
    {
     "name": "stdout",
     "output_type": "stream",
     "text": [
      "Word2vec: [('covetorial', 0.794501006603241), ('campos', 0.5267373323440552), ('ecoscientia', 0.5165934562683105), ('gzmax', 0.5016907453536987), ('lindo', 0.49360141158103943), ('t\\uf040ano\\uf044', 0.490526020526886), ('reservatorio', 0.4886411726474762), ('sm\\uf044', 0.48847317695617676), ('escalado', 0.47640517354011536), ('we\\uf040', 0.47389036417007446)]\n"
     ]
    }
   ],
   "source": [
    "print(\"Word2vec:\", model.most_similar(\"campo\"))"
   ]
  },
  {
   "cell_type": "code",
   "execution_count": 8,
   "metadata": {},
   "outputs": [
    {
     "name": "stdout",
     "output_type": "stream",
     "text": [
      "Word2vec: [('albacora', 0.6554524898529053), ('barracuda', 0.6527702808380127), ('moreia', 0.6090645790100098), ('jubarte', 0.5791864395141602), ('roncador', 0.5741503834724426), ('itapu', 0.5527694225311279), ('ssao', 0.5442008972167969), ('tldbms', 0.5177266597747803), ('caratinga', 0.5164217352867126), ('marimba', 0.513268232345581)]\n"
     ]
    }
   ],
   "source": [
    "print(\"Word2vec:\", model.most_similar(\"marlim\"))"
   ]
  },
  {
   "cell_type": "code",
   "execution_count": 9,
   "metadata": {},
   "outputs": [
    {
     "name": "stdout",
     "output_type": "stream",
     "text": [
      "Word2vec: [('catole', 0.7270851135253906), ('ldalina', 0.6254928708076477), ('idalina', 0.5998378396034241), ('maronna', 0.5989752411842346), ('ignimbritica', 0.5858974456787109), ('parental', 0.5624803304672241), ('fosfatica', 0.5509078502655029), ('encaixante', 0.5471172332763672), ('porosidade', 0.5258486270904541), ('granitica', 0.521233856678009)]\n"
     ]
    }
   ],
   "source": [
    "print(\"Word2vec:\", model.most_similar(\"rocha\"))"
   ]
  },
  {
   "cell_type": "code",
   "execution_count": 10,
   "metadata": {},
   "outputs": [
    {
     "name": "stdout",
     "output_type": "stream",
     "text": [
      "Word2vec: [('permeabilidade', 0.6937829256057739), ('moldica', 0.5323552489280701), ('saturacao', 0.5294773578643799), ('rocha', 0.5258486270904541), ('reservatorio', 0.5164873600006104), ('secundaria', 0.5121868848800659), ('poroso', 0.5099528431892395), ('efetiva', 0.5043711066246033), ('intragranular', 0.4991282522678375), ('diagenese', 0.4980507791042328)]\n"
     ]
    }
   ],
   "source": [
    "print(\"Word2vec:\", model.most_similar(\"porosidade\"))"
   ]
  },
  {
   "cell_type": "code",
   "execution_count": 11,
   "metadata": {},
   "outputs": [
    {
     "name": "stdout",
     "output_type": "stream",
     "text": [
      "Word2vec: [('porosidade', 0.6937829256057739), ('relativa', 0.5690624713897705), ('poroso', 0.5402263402938843), ('saturacao', 0.5103315114974976), ('solubilidade', 0.5095840692520142), ('naodarciana', 0.5056654214859009), ('permeabilidades', 0.49547022581100464), ('entradastotal', 0.4946255683898926), ('baixa', 0.4875878691673279), ('socialcoleta', 0.4869752526283264)]\n"
     ]
    }
   ],
   "source": [
    "print(\"Word2vec:\", model.most_similar(\"permeabilidade\"))"
   ]
  },
  {
   "cell_type": "code",
   "execution_count": 12,
   "metadata": {},
   "outputs": [
    {
     "name": "stdout",
     "output_type": "stream",
     "text": [
      "Word2vec: [('fabricaquimica', 0.6677748560905457), ('eternal', 0.6278797388076782), ('ecoscientia', 0.6216459274291992), ('\\x14\\x17\\x10\\x11\\x15', 0.6131864786148071), ('exploracao', 0.5980679988861084), ('petroleo', 0.5781609416007996), ('t\\uf040ano\\uf044', 0.577786922454834), ('moench', 0.5727155208587646), ('petrobrascegmultimodalidadegeral', 0.5712186694145203), ('petrobrasbrfirmegeral', 0.5700669884681702)]\n"
     ]
    }
   ],
   "source": [
    "print(\"Word2vec:\", model.most_similar(\"producao\"))"
   ]
  },
  {
   "cell_type": "code",
   "execution_count": 13,
   "metadata": {},
   "outputs": [
    {
     "name": "stdout",
     "output_type": "stream",
     "text": [
      "Word2vec: [('qualificacaoagentesimportadores', 0.690322995185852), ('naboforrageiro', 0.6420974731445312), ('saidastotal', 0.6198806762695312), ('acabadoprodutores', 0.5899451971054077), ('diesel', 0.5789225101470947), ('agua', 0.5720437169075012), ('contaminadocoletores', 0.5651196241378784), ('t\\uf040ano\\uf044', 0.5606033802032471), ('fabricaquimica', 0.5490860342979431), ('aplicasimsimsim', 0.5489395260810852)]\n"
     ]
    }
   ],
   "source": [
    "print(\"Word2vec:\", model.most_similar(\"oleo\"))"
   ]
  },
  {
   "cell_type": "code",
   "execution_count": 14,
   "metadata": {},
   "outputs": [
    {
     "name": "stdout",
     "output_type": "stream",
     "text": [
      "Word2vec: [('reservatorios', 0.653365969657898), ('t\\uf040ano\\uf044', 0.5636838674545288), ('\\x03\\x0e\\x02\\x02\\x05', 0.5596946477890015), ('pocos', 0.54193115234375), ('pressao', 0.5374501347541809), ('gdr', 0.5324486494064331), ('injecao', 0.5276259183883667), ('poroso', 0.526600182056427), ('porosidade', 0.5164873600006104), ('\\x18\\x02\\x02\\x05', 0.5082947611808777)]\n"
     ]
    }
   ],
   "source": [
    "print(\"Word2vec:\", model.most_similar(\"reservatorio\"))"
   ]
  },
  {
   "cell_type": "code",
   "execution_count": 15,
   "metadata": {
    "collapsed": true
   },
   "outputs": [],
   "source": [
    "%matplotlib inline\n",
    "%config InlineBackend.figure_format = 'retina'\n",
    "\n",
    "\n",
    "import matplotlib.pyplot as plt\n",
    "from sklearn.manifold import TSNE\n",
    "import numpy as np"
   ]
  },
  {
   "cell_type": "code",
   "execution_count": 16,
   "metadata": {},
   "outputs": [
    {
     "name": "stdout",
     "output_type": "stream",
     "text": [
      "1000\n",
      "(1000, 200)\n"
     ]
    }
   ],
   "source": [
    "vocab_init = 0\n",
    "num_palavras = 1000\n",
    "\n",
    "vocabulario = model.wv.index2word\n",
    "vocabulario = vocabulario[:num_palavras]\n",
    "print(len(vocabulario))\n",
    "\n",
    "vetores = list()\n",
    "for id in range(vocab_init, num_palavras):\n",
    "    vetores.append(model.wv.word_vec(vocabulario[id]));\n",
    "\n",
    "matrix = np.vstack(vetores)    \n",
    "    \n",
    "print(matrix.shape)"
   ]
  },
  {
   "cell_type": "code",
   "execution_count": 17,
   "metadata": {},
   "outputs": [
    {
     "name": "stdout",
     "output_type": "stream",
     "text": [
      "Wall time: 34 s\n"
     ]
    }
   ],
   "source": [
    "%%time\n",
    "tsne = TSNE(n_components=2, random_state=0)\n",
    "embed_tsne = tsne.fit_transform(vetores)"
   ]
  },
  {
   "cell_type": "code",
   "execution_count": 18,
   "metadata": {},
   "outputs": [
    {
     "data": {
      "text/html": [
       "\n",
       "    <div class=\"bk-root\">\n",
       "        <a href=\"https://bokeh.pydata.org\" target=\"_blank\" class=\"bk-logo bk-logo-small bk-logo-notebook\"></a>\n",
       "        <span id=\"a9510dee-9fc9-40a5-9776-ff093a727f36\">Loading BokehJS ...</span>\n",
       "    </div>"
      ]
     },
     "metadata": {},
     "output_type": "display_data"
    },
    {
     "data": {
      "application/javascript": [
       "\n",
       "(function(root) {\n",
       "  function now() {\n",
       "    return new Date();\n",
       "  }\n",
       "\n",
       "  var force = true;\n",
       "\n",
       "  if (typeof (root._bokeh_onload_callbacks) === \"undefined\" || force === true) {\n",
       "    root._bokeh_onload_callbacks = [];\n",
       "    root._bokeh_is_loading = undefined;\n",
       "  }\n",
       "\n",
       "  var JS_MIME_TYPE = 'application/javascript';\n",
       "  var HTML_MIME_TYPE = 'text/html';\n",
       "  var EXEC_MIME_TYPE = 'application/vnd.bokehjs_exec.v0+json';\n",
       "  var CLASS_NAME = 'output_bokeh rendered_html';\n",
       "\n",
       "  /**\n",
       "   * Render data to the DOM node\n",
       "   */\n",
       "  function render(props, node) {\n",
       "    var script = document.createElement(\"script\");\n",
       "    node.appendChild(script);\n",
       "  }\n",
       "\n",
       "  /**\n",
       "   * Handle when an output is cleared or removed\n",
       "   */\n",
       "  function handleClearOutput(event, handle) {\n",
       "    var cell = handle.cell;\n",
       "\n",
       "    var id = cell.output_area._bokeh_element_id;\n",
       "    var server_id = cell.output_area._bokeh_server_id;\n",
       "    // Clean up Bokeh references\n",
       "    if (id !== undefined) {\n",
       "      Bokeh.index[id].model.document.clear();\n",
       "      delete Bokeh.index[id];\n",
       "    }\n",
       "\n",
       "    if (server_id !== undefined) {\n",
       "      // Clean up Bokeh references\n",
       "      var cmd = \"from bokeh.io.state import curstate; print(curstate().uuid_to_server['\" + server_id + \"'].get_sessions()[0].document.roots[0]._id)\";\n",
       "      cell.notebook.kernel.execute(cmd, {\n",
       "        iopub: {\n",
       "          output: function(msg) {\n",
       "            var element_id = msg.content.text.trim();\n",
       "            Bokeh.index[element_id].model.document.clear();\n",
       "            delete Bokeh.index[element_id];\n",
       "          }\n",
       "        }\n",
       "      });\n",
       "      // Destroy server and session\n",
       "      var cmd = \"import bokeh.io.notebook as ion; ion.destroy_server('\" + server_id + \"')\";\n",
       "      cell.notebook.kernel.execute(cmd);\n",
       "    }\n",
       "  }\n",
       "\n",
       "  /**\n",
       "   * Handle when a new output is added\n",
       "   */\n",
       "  function handleAddOutput(event, handle) {\n",
       "    var output_area = handle.output_area;\n",
       "    var output = handle.output;\n",
       "\n",
       "    // limit handleAddOutput to display_data with EXEC_MIME_TYPE content only\n",
       "    if ((output.output_type != \"display_data\") || (!output.data.hasOwnProperty(EXEC_MIME_TYPE))) {\n",
       "      return\n",
       "    }\n",
       "\n",
       "    var toinsert = output_area.element.find(`.${CLASS_NAME.split(' ')[0]}`);\n",
       "\n",
       "    if (output.metadata[EXEC_MIME_TYPE][\"id\"] !== undefined) {\n",
       "      toinsert[0].firstChild.textContent = output.data[JS_MIME_TYPE];\n",
       "      // store reference to embed id on output_area\n",
       "      output_area._bokeh_element_id = output.metadata[EXEC_MIME_TYPE][\"id\"];\n",
       "    }\n",
       "    if (output.metadata[EXEC_MIME_TYPE][\"server_id\"] !== undefined) {\n",
       "      var bk_div = document.createElement(\"div\");\n",
       "      bk_div.innerHTML = output.data[HTML_MIME_TYPE];\n",
       "      var script_attrs = bk_div.children[0].attributes;\n",
       "      for (var i = 0; i < script_attrs.length; i++) {\n",
       "        toinsert[0].firstChild.setAttribute(script_attrs[i].name, script_attrs[i].value);\n",
       "      }\n",
       "      // store reference to server id on output_area\n",
       "      output_area._bokeh_server_id = output.metadata[EXEC_MIME_TYPE][\"server_id\"];\n",
       "    }\n",
       "  }\n",
       "\n",
       "  function register_renderer(events, OutputArea) {\n",
       "\n",
       "    function append_mime(data, metadata, element) {\n",
       "      // create a DOM node to render to\n",
       "      var toinsert = this.create_output_subarea(\n",
       "        metadata,\n",
       "        CLASS_NAME,\n",
       "        EXEC_MIME_TYPE\n",
       "      );\n",
       "      this.keyboard_manager.register_events(toinsert);\n",
       "      // Render to node\n",
       "      var props = {data: data, metadata: metadata[EXEC_MIME_TYPE]};\n",
       "      render(props, toinsert[0]);\n",
       "      element.append(toinsert);\n",
       "      return toinsert\n",
       "    }\n",
       "\n",
       "    /* Handle when an output is cleared or removed */\n",
       "    events.on('clear_output.CodeCell', handleClearOutput);\n",
       "    events.on('delete.Cell', handleClearOutput);\n",
       "\n",
       "    /* Handle when a new output is added */\n",
       "    events.on('output_added.OutputArea', handleAddOutput);\n",
       "\n",
       "    /**\n",
       "     * Register the mime type and append_mime function with output_area\n",
       "     */\n",
       "    OutputArea.prototype.register_mime_type(EXEC_MIME_TYPE, append_mime, {\n",
       "      /* Is output safe? */\n",
       "      safe: true,\n",
       "      /* Index of renderer in `output_area.display_order` */\n",
       "      index: 0\n",
       "    });\n",
       "  }\n",
       "\n",
       "  // register the mime type if in Jupyter Notebook environment and previously unregistered\n",
       "  if (root.Jupyter !== undefined) {\n",
       "    var events = require('base/js/events');\n",
       "    var OutputArea = require('notebook/js/outputarea').OutputArea;\n",
       "\n",
       "    if (OutputArea.prototype.mime_types().indexOf(EXEC_MIME_TYPE) == -1) {\n",
       "      register_renderer(events, OutputArea);\n",
       "    }\n",
       "  }\n",
       "\n",
       "  \n",
       "  if (typeof (root._bokeh_timeout) === \"undefined\" || force === true) {\n",
       "    root._bokeh_timeout = Date.now() + 5000;\n",
       "    root._bokeh_failed_load = false;\n",
       "  }\n",
       "\n",
       "  var NB_LOAD_WARNING = {'data': {'text/html':\n",
       "     \"<div style='background-color: #fdd'>\\n\"+\n",
       "     \"<p>\\n\"+\n",
       "     \"BokehJS does not appear to have successfully loaded. If loading BokehJS from CDN, this \\n\"+\n",
       "     \"may be due to a slow or bad network connection. Possible fixes:\\n\"+\n",
       "     \"</p>\\n\"+\n",
       "     \"<ul>\\n\"+\n",
       "     \"<li>re-rerun `output_notebook()` to attempt to load from CDN again, or</li>\\n\"+\n",
       "     \"<li>use INLINE resources instead, as so:</li>\\n\"+\n",
       "     \"</ul>\\n\"+\n",
       "     \"<code>\\n\"+\n",
       "     \"from bokeh.resources import INLINE\\n\"+\n",
       "     \"output_notebook(resources=INLINE)\\n\"+\n",
       "     \"</code>\\n\"+\n",
       "     \"</div>\"}};\n",
       "\n",
       "  function display_loaded() {\n",
       "    var el = document.getElementById(\"a9510dee-9fc9-40a5-9776-ff093a727f36\");\n",
       "    if (el != null) {\n",
       "      el.textContent = \"BokehJS is loading...\";\n",
       "    }\n",
       "    if (root.Bokeh !== undefined) {\n",
       "      if (el != null) {\n",
       "        el.textContent = \"BokehJS \" + root.Bokeh.version + \" successfully loaded.\";\n",
       "      }\n",
       "    } else if (Date.now() < root._bokeh_timeout) {\n",
       "      setTimeout(display_loaded, 100)\n",
       "    }\n",
       "  }\n",
       "\n",
       "\n",
       "  function run_callbacks() {\n",
       "    try {\n",
       "      root._bokeh_onload_callbacks.forEach(function(callback) { callback() });\n",
       "    }\n",
       "    finally {\n",
       "      delete root._bokeh_onload_callbacks\n",
       "    }\n",
       "    console.info(\"Bokeh: all callbacks have finished\");\n",
       "  }\n",
       "\n",
       "  function load_libs(js_urls, callback) {\n",
       "    root._bokeh_onload_callbacks.push(callback);\n",
       "    if (root._bokeh_is_loading > 0) {\n",
       "      console.log(\"Bokeh: BokehJS is being loaded, scheduling callback at\", now());\n",
       "      return null;\n",
       "    }\n",
       "    if (js_urls == null || js_urls.length === 0) {\n",
       "      run_callbacks();\n",
       "      return null;\n",
       "    }\n",
       "    console.log(\"Bokeh: BokehJS not loaded, scheduling load and callback at\", now());\n",
       "    root._bokeh_is_loading = js_urls.length;\n",
       "    for (var i = 0; i < js_urls.length; i++) {\n",
       "      var url = js_urls[i];\n",
       "      var s = document.createElement('script');\n",
       "      s.src = url;\n",
       "      s.async = false;\n",
       "      s.onreadystatechange = s.onload = function() {\n",
       "        root._bokeh_is_loading--;\n",
       "        if (root._bokeh_is_loading === 0) {\n",
       "          console.log(\"Bokeh: all BokehJS libraries loaded\");\n",
       "          run_callbacks()\n",
       "        }\n",
       "      };\n",
       "      s.onerror = function() {\n",
       "        console.warn(\"failed to load library \" + url);\n",
       "      };\n",
       "      console.log(\"Bokeh: injecting script tag for BokehJS library: \", url);\n",
       "      document.getElementsByTagName(\"head\")[0].appendChild(s);\n",
       "    }\n",
       "  };var element = document.getElementById(\"a9510dee-9fc9-40a5-9776-ff093a727f36\");\n",
       "  if (element == null) {\n",
       "    console.log(\"Bokeh: ERROR: autoload.js configured with elementid 'a9510dee-9fc9-40a5-9776-ff093a727f36' but no matching script tag was found. \")\n",
       "    return false;\n",
       "  }\n",
       "\n",
       "  var js_urls = [\"https://cdn.pydata.org/bokeh/release/bokeh-0.12.10.min.js\", \"https://cdn.pydata.org/bokeh/release/bokeh-widgets-0.12.10.min.js\", \"https://cdn.pydata.org/bokeh/release/bokeh-tables-0.12.10.min.js\", \"https://cdn.pydata.org/bokeh/release/bokeh-gl-0.12.10.min.js\"];\n",
       "\n",
       "  var inline_js = [\n",
       "    function(Bokeh) {\n",
       "      Bokeh.set_log_level(\"info\");\n",
       "    },\n",
       "    \n",
       "    function(Bokeh) {\n",
       "      \n",
       "    },\n",
       "    function(Bokeh) {\n",
       "      console.log(\"Bokeh: injecting CSS: https://cdn.pydata.org/bokeh/release/bokeh-0.12.10.min.css\");\n",
       "      Bokeh.embed.inject_css(\"https://cdn.pydata.org/bokeh/release/bokeh-0.12.10.min.css\");\n",
       "      console.log(\"Bokeh: injecting CSS: https://cdn.pydata.org/bokeh/release/bokeh-widgets-0.12.10.min.css\");\n",
       "      Bokeh.embed.inject_css(\"https://cdn.pydata.org/bokeh/release/bokeh-widgets-0.12.10.min.css\");\n",
       "      console.log(\"Bokeh: injecting CSS: https://cdn.pydata.org/bokeh/release/bokeh-tables-0.12.10.min.css\");\n",
       "      Bokeh.embed.inject_css(\"https://cdn.pydata.org/bokeh/release/bokeh-tables-0.12.10.min.css\");\n",
       "    }\n",
       "  ];\n",
       "\n",
       "  function run_inline_js() {\n",
       "    \n",
       "    if ((root.Bokeh !== undefined) || (force === true)) {\n",
       "      for (var i = 0; i < inline_js.length; i++) {\n",
       "        inline_js[i].call(root, root.Bokeh);\n",
       "      }if (force === true) {\n",
       "        display_loaded();\n",
       "      }} else if (Date.now() < root._bokeh_timeout) {\n",
       "      setTimeout(run_inline_js, 100);\n",
       "    } else if (!root._bokeh_failed_load) {\n",
       "      console.log(\"Bokeh: BokehJS failed to load within specified timeout.\");\n",
       "      root._bokeh_failed_load = true;\n",
       "    } else if (force !== true) {\n",
       "      var cell = $(document.getElementById(\"a9510dee-9fc9-40a5-9776-ff093a727f36\")).parents('.cell').data().cell;\n",
       "      cell.output_area.append_execute_result(NB_LOAD_WARNING)\n",
       "    }\n",
       "\n",
       "  }\n",
       "\n",
       "  if (root._bokeh_is_loading === 0) {\n",
       "    console.log(\"Bokeh: BokehJS loaded, going straight to plotting\");\n",
       "    run_inline_js();\n",
       "  } else {\n",
       "    load_libs(js_urls, function() {\n",
       "      console.log(\"Bokeh: BokehJS plotting callback run at\", now());\n",
       "      run_inline_js();\n",
       "    });\n",
       "  }\n",
       "}(window));"
      ],
      "application/vnd.bokehjs_load.v0+json": "\n(function(root) {\n  function now() {\n    return new Date();\n  }\n\n  var force = true;\n\n  if (typeof (root._bokeh_onload_callbacks) === \"undefined\" || force === true) {\n    root._bokeh_onload_callbacks = [];\n    root._bokeh_is_loading = undefined;\n  }\n\n  \n\n  \n  if (typeof (root._bokeh_timeout) === \"undefined\" || force === true) {\n    root._bokeh_timeout = Date.now() + 5000;\n    root._bokeh_failed_load = false;\n  }\n\n  var NB_LOAD_WARNING = {'data': {'text/html':\n     \"<div style='background-color: #fdd'>\\n\"+\n     \"<p>\\n\"+\n     \"BokehJS does not appear to have successfully loaded. If loading BokehJS from CDN, this \\n\"+\n     \"may be due to a slow or bad network connection. Possible fixes:\\n\"+\n     \"</p>\\n\"+\n     \"<ul>\\n\"+\n     \"<li>re-rerun `output_notebook()` to attempt to load from CDN again, or</li>\\n\"+\n     \"<li>use INLINE resources instead, as so:</li>\\n\"+\n     \"</ul>\\n\"+\n     \"<code>\\n\"+\n     \"from bokeh.resources import INLINE\\n\"+\n     \"output_notebook(resources=INLINE)\\n\"+\n     \"</code>\\n\"+\n     \"</div>\"}};\n\n  function display_loaded() {\n    var el = document.getElementById(\"a9510dee-9fc9-40a5-9776-ff093a727f36\");\n    if (el != null) {\n      el.textContent = \"BokehJS is loading...\";\n    }\n    if (root.Bokeh !== undefined) {\n      if (el != null) {\n        el.textContent = \"BokehJS \" + root.Bokeh.version + \" successfully loaded.\";\n      }\n    } else if (Date.now() < root._bokeh_timeout) {\n      setTimeout(display_loaded, 100)\n    }\n  }\n\n\n  function run_callbacks() {\n    try {\n      root._bokeh_onload_callbacks.forEach(function(callback) { callback() });\n    }\n    finally {\n      delete root._bokeh_onload_callbacks\n    }\n    console.info(\"Bokeh: all callbacks have finished\");\n  }\n\n  function load_libs(js_urls, callback) {\n    root._bokeh_onload_callbacks.push(callback);\n    if (root._bokeh_is_loading > 0) {\n      console.log(\"Bokeh: BokehJS is being loaded, scheduling callback at\", now());\n      return null;\n    }\n    if (js_urls == null || js_urls.length === 0) {\n      run_callbacks();\n      return null;\n    }\n    console.log(\"Bokeh: BokehJS not loaded, scheduling load and callback at\", now());\n    root._bokeh_is_loading = js_urls.length;\n    for (var i = 0; i < js_urls.length; i++) {\n      var url = js_urls[i];\n      var s = document.createElement('script');\n      s.src = url;\n      s.async = false;\n      s.onreadystatechange = s.onload = function() {\n        root._bokeh_is_loading--;\n        if (root._bokeh_is_loading === 0) {\n          console.log(\"Bokeh: all BokehJS libraries loaded\");\n          run_callbacks()\n        }\n      };\n      s.onerror = function() {\n        console.warn(\"failed to load library \" + url);\n      };\n      console.log(\"Bokeh: injecting script tag for BokehJS library: \", url);\n      document.getElementsByTagName(\"head\")[0].appendChild(s);\n    }\n  };var element = document.getElementById(\"a9510dee-9fc9-40a5-9776-ff093a727f36\");\n  if (element == null) {\n    console.log(\"Bokeh: ERROR: autoload.js configured with elementid 'a9510dee-9fc9-40a5-9776-ff093a727f36' but no matching script tag was found. \")\n    return false;\n  }\n\n  var js_urls = [\"https://cdn.pydata.org/bokeh/release/bokeh-0.12.10.min.js\", \"https://cdn.pydata.org/bokeh/release/bokeh-widgets-0.12.10.min.js\", \"https://cdn.pydata.org/bokeh/release/bokeh-tables-0.12.10.min.js\", \"https://cdn.pydata.org/bokeh/release/bokeh-gl-0.12.10.min.js\"];\n\n  var inline_js = [\n    function(Bokeh) {\n      Bokeh.set_log_level(\"info\");\n    },\n    \n    function(Bokeh) {\n      \n    },\n    function(Bokeh) {\n      console.log(\"Bokeh: injecting CSS: https://cdn.pydata.org/bokeh/release/bokeh-0.12.10.min.css\");\n      Bokeh.embed.inject_css(\"https://cdn.pydata.org/bokeh/release/bokeh-0.12.10.min.css\");\n      console.log(\"Bokeh: injecting CSS: https://cdn.pydata.org/bokeh/release/bokeh-widgets-0.12.10.min.css\");\n      Bokeh.embed.inject_css(\"https://cdn.pydata.org/bokeh/release/bokeh-widgets-0.12.10.min.css\");\n      console.log(\"Bokeh: injecting CSS: https://cdn.pydata.org/bokeh/release/bokeh-tables-0.12.10.min.css\");\n      Bokeh.embed.inject_css(\"https://cdn.pydata.org/bokeh/release/bokeh-tables-0.12.10.min.css\");\n    }\n  ];\n\n  function run_inline_js() {\n    \n    if ((root.Bokeh !== undefined) || (force === true)) {\n      for (var i = 0; i < inline_js.length; i++) {\n        inline_js[i].call(root, root.Bokeh);\n      }if (force === true) {\n        display_loaded();\n      }} else if (Date.now() < root._bokeh_timeout) {\n      setTimeout(run_inline_js, 100);\n    } else if (!root._bokeh_failed_load) {\n      console.log(\"Bokeh: BokehJS failed to load within specified timeout.\");\n      root._bokeh_failed_load = true;\n    } else if (force !== true) {\n      var cell = $(document.getElementById(\"a9510dee-9fc9-40a5-9776-ff093a727f36\")).parents('.cell').data().cell;\n      cell.output_area.append_execute_result(NB_LOAD_WARNING)\n    }\n\n  }\n\n  if (root._bokeh_is_loading === 0) {\n    console.log(\"Bokeh: BokehJS loaded, going straight to plotting\");\n    run_inline_js();\n  } else {\n    load_libs(js_urls, function() {\n      console.log(\"Bokeh: BokehJS plotting callback run at\", now());\n      run_inline_js();\n    });\n  }\n}(window));"
     },
     "metadata": {},
     "output_type": "display_data"
    }
   ],
   "source": [
    "from bokeh.models import ColumnDataSource, LabelSet\n",
    "from bokeh.plotting import figure, show, output_file\n",
    "from bokeh.io import output_notebook\n",
    "import bokeh\n",
    "output_notebook()\n"
   ]
  },
  {
   "cell_type": "code",
   "execution_count": 19,
   "metadata": {},
   "outputs": [
    {
     "data": {
      "text/html": [
       "\n",
       "<div class=\"bk-root\">\n",
       "    <div class=\"bk-plotdiv\" id=\"c5d6b260-dd00-427b-b051-c0ceb933a328\"></div>\n",
       "</div>"
      ]
     },
     "metadata": {},
     "output_type": "display_data"
    },
    {
     "data": {
      "application/javascript": [
       "(function(root) {\n",
       "  function embed_document(root) {\n",
       "    var docs_json = {\"9b789f38-5f7a-4e9f-8f0e-e63c0b74a387\":{\"roots\":{\"references\":[{\"attributes\":{\"formatter\":{\"id\":\"983e43f2-5226-45ae-a4cc-5b979dcca426\",\"type\":\"BasicTickFormatter\"},\"plot\":{\"id\":\"66c0e1fe-357d-4c3a-b07f-2e7a84c4dd4b\",\"subtype\":\"Figure\",\"type\":\"Plot\"},\"ticker\":{\"id\":\"0ca76142-dd43-45b2-853c-2949e1de52bf\",\"type\":\"BasicTicker\"}},\"id\":\"ce06e6bd-0e85-4f81-aff5-593bd1e3fb4c\",\"type\":\"LinearAxis\"},{\"attributes\":{},\"id\":\"0ca76142-dd43-45b2-853c-2949e1de52bf\",\"type\":\"BasicTicker\"},{\"attributes\":{\"dimension\":1,\"plot\":{\"id\":\"66c0e1fe-357d-4c3a-b07f-2e7a84c4dd4b\",\"subtype\":\"Figure\",\"type\":\"Plot\"},\"ticker\":{\"id\":\"0ca76142-dd43-45b2-853c-2949e1de52bf\",\"type\":\"BasicTicker\"}},\"id\":\"e0ff47e7-65a9-42e6-b9a5-13bf83747374\",\"type\":\"Grid\"},{\"attributes\":{},\"id\":\"3a9fb556-035e-4b1f-a962-d672be14640f\",\"type\":\"PanTool\"},{\"attributes\":{},\"id\":\"60c9989e-bf24-464c-8a81-5b441d36f29c\",\"type\":\"BasicTickFormatter\"},{\"attributes\":{\"plot\":{\"id\":\"66c0e1fe-357d-4c3a-b07f-2e7a84c4dd4b\",\"subtype\":\"Figure\",\"type\":\"Plot\"},\"source\":{\"id\":\"d24019fa-90bf-4b09-868a-8e52d14a4dca\",\"type\":\"ColumnDataSource\"},\"text\":{\"field\":\"names\"},\"text_align\":\"center\",\"text_color\":{\"value\":\"#555555\"},\"text_font_size\":{\"value\":\"8pt\"},\"x\":{\"field\":\"x1\"},\"y\":{\"field\":\"x2\"},\"y_offset\":{\"value\":6}},\"id\":\"f10378ed-db30-4346-9afb-7b626d15140b\",\"type\":\"LabelSet\"},{\"attributes\":{\"below\":[{\"id\":\"69f79b32-23b0-471f-b7fa-b4b253adc6b8\",\"type\":\"LinearAxis\"}],\"left\":[{\"id\":\"ce06e6bd-0e85-4f81-aff5-593bd1e3fb4c\",\"type\":\"LinearAxis\"}],\"plot_height\":900,\"plot_width\":900,\"renderers\":[{\"id\":\"69f79b32-23b0-471f-b7fa-b4b253adc6b8\",\"type\":\"LinearAxis\"},{\"id\":\"9a00ef44-0aa9-4489-b06c-c97a4cccd1a5\",\"type\":\"Grid\"},{\"id\":\"ce06e6bd-0e85-4f81-aff5-593bd1e3fb4c\",\"type\":\"LinearAxis\"},{\"id\":\"e0ff47e7-65a9-42e6-b9a5-13bf83747374\",\"type\":\"Grid\"},{\"id\":\"abe93052-8719-484f-8cfa-0c3ece1ca19b\",\"type\":\"GlyphRenderer\"},{\"id\":\"f10378ed-db30-4346-9afb-7b626d15140b\",\"type\":\"LabelSet\"}],\"title\":{\"id\":\"07fcbd32-f184-4a31-8908-89ef9feaf069\",\"type\":\"Title\"},\"toolbar\":{\"id\":\"61bed07f-ba63-4b91-ae49-73ab31dd0cab\",\"type\":\"Toolbar\"},\"toolbar_location\":\"above\",\"x_range\":{\"id\":\"e2956fda-c805-411b-a2c6-5357ab301796\",\"type\":\"DataRange1d\"},\"x_scale\":{\"id\":\"bb80f167-f9f7-4d53-b606-6444428d171b\",\"type\":\"LinearScale\"},\"y_range\":{\"id\":\"8b0452c3-9489-4d16-9b2c-f9aef159a23a\",\"type\":\"DataRange1d\"},\"y_scale\":{\"id\":\"1c8265b4-778b-413b-8f38-9e8a9640c794\",\"type\":\"LinearScale\"}},\"id\":\"66c0e1fe-357d-4c3a-b07f-2e7a84c4dd4b\",\"subtype\":\"Figure\",\"type\":\"Plot\"},{\"attributes\":{},\"id\":\"983e43f2-5226-45ae-a4cc-5b979dcca426\",\"type\":\"BasicTickFormatter\"},{\"attributes\":{\"callback\":null,\"column_names\":[\"x1\",\"x2\",\"names\"],\"data\":{\"names\":[\"cid\",\"sao\",\"nao\",\"gas\",\"petroleo\",\"ser\",\"rio\",\"petrobras\",\"figura\",\"producao\",\"oleo\",\"janeiro\",\"natural\",\"agua\",\"dados\",\"formacao\",\"sistema\",\"bacia\",\"pode\",\"anp\",\"tambem\",\"brasil\",\"processo\",\"maior\",\"tabela\",\"modelo\",\"tempo\",\"forma\",\"resultados\",\"area\",\"total\",\"cada\",\"analise\",\"grande\",\"pressao\",\"ate\",\"temperatura\",\"regiao\",\"onde\",\"caso\",\"partir\",\"valores\",\"trabalho\",\"sendo\",\"fig\",\"relacao\",\"ja\",\"valor\",\"fonte\",\"assim\",\"tipo\",\"parte\",\"volume\",\"meio\",\"base\",\"atraves\",\"energia\",\"desenvolvimento\",\"condicoes\",\"outros\",\"segundo\",\"podem\",\"fase\",\"estudo\",\"mar\",\"alem\",\"nacional\",\"numero\",\"diesel\",\"co\",\"etanol\",\"sul\",\"pocos\",\"amostras\",\"ainda\",\"campo\",\"metodo\",\"capacidade\",\"campos\",\"apos\",\"distribuicao\",\"precos\",\"transporte\",\"projeto\",\"dois\",\"bem\",\"funcao\",\"aumento\",\"equacao\",\"mercado\",\"ponto\",\"unidade\",\"neste\",\"industria\",\"diferentes\",\"gasolina\",\"combustiveis\",\"operacao\",\"secao\",\"produtos\",\"biodiesel\",\"devido\",\"uso\",\"terra\",\"norte\",\"estao\",\"\\u00b0c\",\"apenas\",\"engenharia\",\"programa\",\"tres\",\"duas\",\"concentracao\",\"controle\",\"deste\",\"conforme\",\"universidade\",\"possivel\",\"apresenta\",\"areas\",\"processos\",\"longo\",\"paulo\",\"unidades\",\"ano\",\"sistemas\",\"anos\",\"quanto\",\"vez\",\"combustivel\",\"media\",\"principais\",\"fluido\",\"boletim\",\"parametros\",\"cao\",\"obtidos\",\"exploracao\",\"oil\",\"massa\",\"pesquisa\",\"velocidade\",\"solucao\",\"superior\",\"vazao\",\"nivel\",\"material\",\"menor\",\"acordo\",\"qualidade\",\"medio\",\"periodo\",\"sp\",\"superficie\",\"deve\",\"resolucao\",\"desta\",\"carga\",\"consumo\",\"setor\",\"estrutura\",\"exemplo\",\"derivados\",\"federal\",\"mistura\",\"final\",\"amostra\",\"geral\",\"comportamento\",\"estudos\",\"alta\",\"presenca\",\"quantidade\",\"avaliacao\",\"outras\",\"caracteristicas\",\"atividades\",\"fluxo\",\"atividade\",\"ambiente\",\"regioes\",\"sera\",\"modelos\",\"bacias\",\"reducao\",\"tecnica\",\"pois\",\"perfuracao\",\"dia\",\"zona\",\"produto\",\"quimica\",\"calculo\",\"objetivo\",\"facies\",\"ltda\",\"nt\",\"custo\",\"cm\",\"taxa\",\"alguns\",\"inferior\",\"mm\",\"tecnico\",\"utilizacao\",\"utilizado\",\"brasileiro\",\"metodos\",\"pais\",\"nc\",\"fluidos\",\"ar\",\"efeito\",\"aplicacao\",\"geologia\",\"modo\",\"evolucao\",\"outro\",\"mesma\",\"pontos\",\"propriedades\",\"quais\",\"sob\",\"preco\",\"tais\",\"grupo\",\"tal\",\"grandes\",\"informacoes\",\"centro\",\"rochas\",\"\\u00b7\",\"figure\",\"entao\",\"reservatorio\",\"variacao\",\"ter\",\"tratamento\",\"santos\",\"km\",\"reacao\",\"recursos\",\"grafico\",\"escoamento\",\"presente\",\"milhoes\",\"biocombustiveis\",\"teor\",\"tecnologia\",\"plataforma\",\"utilizados\",\"tensao\",\"acido\",\"fator\",\"importante\",\"ocorre\",\"materiais\",\"fato\",\"liquido\",\"linha\",\"mostra\",\"brasileira\",\"\\uf0b7\",\"hidrocarbonetos\",\"conjunto\",\"menos\",\"jan\",\"razao\",\"coluna\",\"sedimentos\",\"lei\",\"fim\",\"empresas\",\"primeiro\",\"simulacao\",\"recuperacao\",\"inicial\",\"mg\",\"empresa\",\"principal\",\"todas\",\"pro\",\"disponivel\",\"viscosidade\",\"elementos\",\"kg\",\"maiores\",\"sequencia\",\"sido\",\"acima\",\"primeira\",\"dentro\",\"ca\",\"topo\",\"faixa\",\"alto\",\"determinacao\",\"industrial\",\"principalmente\",\"melhor\",\"porem\",\"nova\",\"pesquisas\",\"composicao\",\"\\u2212\",\"cerca\",\"dessa\",\"densidade\",\"injecao\",\"espessura\",\"projetos\",\"direcao\",\"portanto\",\"ordem\",\"reservatorios\",\"variaveis\",\"entrada\",\"new\",\"br\",\"testes\",\"problema\",\"teste\",\"bahia\",\"oleos\",\"rodada\",\"geracao\",\"arenitos\",\"influencia\",\"potencial\",\"basin\",\"capitulo\",\"diametro\",\"www\",\"trabalhos\",\"casos\",\"falhas\",\"paises\",\"peso\",\"oc\",\"seguintes\",\"fatores\",\"carbono\",\"padrao\",\"ocorrencia\",\"inicio\",\"referencia\",\"pe\",\"custos\",\"baixa\",\"petroleum\",\"curva\",\"iv\",\"diversos\",\"enquanto\",\"refinaria\",\"data\",\"continental\",\"equipamentos\",\"etapa\",\"fundo\",\"perfil\",\"escala\",\"parana\",\"demanda\",\"aguas\",\"tipos\",\"corrente\",\"vapor\",\"serem\",\"resultado\",\"calor\",\"catalisador\",\"respectivamente\",\"algumas\",\"apresentam\",\"processamento\",\"equacoes\",\"necessario\",\"cenpes\",\"crescimento\",\"comparacao\",\"corrosao\",\"disso\",\"entretanto\",\"componentes\",\"problemas\",\"particulas\",\"qualquer\",\"separacao\",\"profundidade\",\"n\\u00b0\",\"limite\",\"podese\",\"eficiencia\",\"acesso\",\"constante\",\"tecnicas\",\"mento\",\"jose\",\"compostos\",\"utilizando\",\"http\",\"analises\",\"intervalo\",\"water\",\"r$\",\"possui\",\"medida\",\"utilizada\",\"lado\",\"curvas\",\"mente\",\"santo\",\"perda\",\"nesta\",\"desse\",\"ensaios\",\"devem\",\"dezembro\",\"grau\",\"well\",\"participacao\",\"vista\",\"min\",\"nesse\",\"central\",\"local\",\"maxima\",\"ai\",\"baixo\",\"demais\",\"termos\",\"resistencia\",\"fracao\",\"destilacao\",\"deformacao\",\"obtencao\",\"estruturas\",\"indice\",\"\\u00b1\",\"fases\",\"camadas\",\"laboratorio\",\"production\",\"temperaturas\",\"glp\",\"us$\",\"ml\",\"serao\",\"construcao\",\"somente\",\"silva\",\"ph\",\"alcool\",\"metodologia\",\"novas\",\"bastante\",\"sempre\",\"rj\",\"mapa\",\"costa\",\"li\",\"manutencao\",\"fontes\",\"vezes\",\"apresentados\",\"reservas\",\"comprimento\",\"mil\",\"origem\",\"representa\",\"falha\",\"blocos\",\"desempenho\",\"seguir\",\"gases\",\"rocha\",\"metros\",\"introducao\",\"abaixo\",\"quatro\",\"flow\",\"maximo\",\"journal\",\"ensaio\",\"efeitos\",\"cor\",\"autores\",\"modelagem\",\"espirito\",\"embora\",\"novo\",\"toda\",\"desses\",\"pouco\",\"agentes\",\"serie\",\"contato\",\"aproximadamente\",\"nordeste\",\"sergipe\",\"jul\",\"departamento\",\"diferenca\",\"coeficiente\",\"matriz\",\"novos\",\"diversas\",\"po\",\"vertical\",\"relatorio\",\"saida\",\"outra\",\"energy\",\"niveis\",\"tendo\",\"malha\",\"realizada\",\"importancia\",\"inclui\",\"idade\",\"maio\",\"mestrado\",\"igual\",\"frequencia\",\"linhas\",\"permite\",\"posicao\",\"necessidade\",\"experimental\",\"maneira\",\"mo\",\"entanto\",\"agencia\",\"feita\",\"varios\",\"aspecto\",\"distribuidora\",\"dias\",\"obtido\",\"transferencia\",\"alagoas\",\"catalisadores\",\"ver\",\"destes\",\"margem\",\"atualmente\",\"obter\",\"aqui\",\"ambiental\",\"estrutural\",\"realizados\",\"resposta\",\"medidas\",\"apesar\",\"abr\",\"vendas\",\"experimentais\",\"seguinte\",\"fi\",\"correlacao\",\"forca\",\"dou\",\"real\",\"servicos\",\"segunda\",\"apresentado\",\"depositos\",\"termica\",\"etc\",\"tamanho\",\"curso\",\"deposicao\",\"caracterizacao\",\"permeabilidade\",\"tubo\",\"\\u0003\",\"aco\",\"rede\",\"si\",\"comercializacao\",\"figuras\",\"aspectos\",\"linear\",\"porosidade\",\"dado\",\"porcao\",\"produtores\",\"atual\",\"plano\",\"barris\",\"seguranca\",\"enxofre\",\"presentes\",\"procedimento\",\"pa\",\"vida\",\"vem\",\"observado\",\"des\",\"obtida\",\"remocao\",\"dez\",\"folhelhos\",\"utilizadas\",\"informacao\",\"combustao\",\"equipamento\",\"operacoes\",\"global\",\"perfis\",\"divisao\",\"carvao\",\"localizacao\",\"considerando\",\"comercial\",\"liquidos\",\"definicao\",\"autor\",\"camada\",\"contratos\",\"internacional\",\"sedimentares\",\"ba\",\"realizadas\",\"concentracoes\",\"dissertacao\",\"servico\",\"oes\",\"monitoramento\",\"especial\",\"anterior\",\"obtidas\",\"dutos\",\"sudeste\",\"ciclo\",\"zonas\",\"interesse\",\"analysis\",\"engineering\",\"reconcavo\",\"boa\",\"distribuidoras\",\"tecnicos\",\"acao\",\"condicao\",\"variavel\",\"interpretacao\",\"realizacao\",\"etapas\",\"regional\",\"classificacao\",\"realizado\",\"planejamento\",\"conhecimento\",\"leste\",\"adsorcao\",\"solucoes\",\"mundial\",\"tubos\",\"importacao\",\"lubrificantes\",\"acidos\",\"regime\",\"prazo\",\"economica\",\"corpo\",\"investimentos\",\"simples\",\"especifica\",\"brazil\",\"instalacao\",\"queda\",\"variacoes\",\"propria\",\"formation\",\"minimo\",\"especies\",\"reator\",\"folhelho\",\"gerais\",\"arenito\",\"extracao\",\"conversao\",\"instituto\",\"eletrica\",\"reacoes\",\"corpos\",\"motor\",\"sedimentacao\",\"distancia\",\"contendo\",\"instalacoes\",\"dentre\",\"parametro\",\"interna\",\"ocorrem\",\"literatura\",\"risco\",\"produzido\",\"interno\",\"diretamente\",\"deslocamento\",\"apresentou\",\"momento\",\"adicao\",\"duto\",\"livre\",\"geology\",\"materia\",\"horizontal\",\"observar\",\"bomba\",\"membro\",\"computacional\",\"ppm\",\"solo\",\"quase\",\"geociencias\",\"menores\",\"horas\",\"varias\",\"santa\",\"natureza\",\"situacao\",\"marco\",\"oliveira\",\"system\",\"mecanica\",\"espaco\",\"sedimentar\",\"pr\",\"visto\",\"sismica\",\"tos\",\"equilibrio\",\"objetivos\",\"possuem\",\"importantes\",\"refino\",\"ufrj\",\"hidrogenio\",\"usado\",\"potencia\",\"cabo\",\"correntes\",\"grupos\",\"portaria\",\"secoes\",\"operacional\",\"seguida\",\"ajuste\",\"consiste\",\"offshore\",\"geometria\",\"research\",\"bilhoes\",\"integracao\",\"cadeia\",\"esquema\",\"nota\",\"york\",\"percentual\",\"quadro\",\"amazonas\",\"formacoes\",\"souza\",\"mes\",\"elaboracao\",\"tendencia\",\"torno\",\"termo\",\"dada\",\"refinarias\",\"abstract\",\"carlos\",\"item\",\"artigo\",\"cos\",\"via\",\"expansao\",\"model\",\"original\",\"corresponde\",\"erro\",\"maioria\",\"relativa\",\"imagem\",\"limites\",\"onda\",\"registro\",\"componente\",\"oxidacao\",\"volumes\",\"per\",\"tese\",\"astm\",\"anteriormente\",\"minas\",\"politica\",\"contexto\",\"medios\",\"imagens\",\"\\u0006\",\"dimensoes\",\"resumo\",\"revisao\",\"embasamento\",\"dade\",\"existe\",\"considerado\",\"estabilidade\",\"normal\",\"apresentar\",\"composto\",\"possibilidade\",\"avaliar\",\"altura\",\"descricao\",\"tensoes\",\"operacionais\",\"sal\",\"api\",\"antonio\",\"sequencias\",\"ambientais\",\"observase\",\"coes\",\"apoio\",\"geralmente\",\"dessas\",\"society\",\"oxigenio\",\"apresentaram\",\"argila\",\"aquisicao\",\"prova\",\"existencia\",\"organica\",\"bom\",\"proprio\",\"existentes\",\"misturas\",\"anexo\",\"energetica\",\"hidratado\",\"oeste\",\"referencias\",\"$\",\"interior\",\"indica\",\"glicerol\",\"proposta\",\"poder\",\"apresentada\",\"ra\",\"comercio\",\"res\",\"existem\",\"feito\",\"elemento\",\"determinado\",\"oferta\",\"america\",\"fazer\",\"consumidor\",\"proximo\",\"produzida\",\"questao\",\"normalmente\",\"veiculos\",\"\\u0002\",\"extensao\",\"conta\",\"nafta\",\"vi\",\"companhia\",\"determinar\",\"international\",\"movimento\",\"cuja\",\"nov\",\"di\",\"american\",\"rendimento\",\"using\",\"nessa\",\"faz\",\"sintese\",\"metano\",\"ho\",\"used\",\"metais\",\"pre\",\"poros\",\"riser\",\"cinco\",\"economia\",\"logo\",\"mundo\",\"molar\",\"pressoes\",\"economico\",\"gasoduto\",\"encontrados\",\"study\",\"comum\",\"responsavel\",\"destas\",\"passo\",\"soja\",\"chemical\",\"papel\",\"simulacoes\",\"areia\",\"ambos\",\"unidos\",\"eventos\",\"cp\",\"pequena\",\"possiveis\",\"molecular\",\"also\",\"identificacao\",\"desenvolvido\",\"apresentadas\",\"software\",\"xisto\",\"filho\",\"infraestrutura\",\"ta\",\"movimentacao\",\"time\",\"criacao\",\"ac\",\"\\u000f\",\"contudo\",\"eixo\",\"fracoes\",\"serra\",\"elevacao\",\"petro\",\"abastecimento\",\"realizar\",\"taxas\",\"lista\",\"otimizacao\",\"estagio\",\"tecnologias\",\"cimento\",\"emissoes\",\"estratigrafica\",\"high\",\"joao\",\"estatistico\",\"respeito\",\"associado\",\"ro\",\"versus\",\"tectonica\",\"dinamica\",\"ultimos\",\"conclusoes\",\"technology\",\"padroes\",\"results\",\"aplicada\",\"maria\",\"medicao\",\"leito\",\"solidos\",\"solvente\",\"economicos\",\"gasodutos\",\"determinada\",\"aumentar\",\"doutorado\",\"federacao\",\"podendo\",\"experimento\",\"necessaria\",\"especificacoes\",\"va\",\"inspecao\",\"porto\",\"externa\",\"mudanca\",\"angulo\",\"bloco\",\"nitrogenio\",\"produtor\",\"associacao\",\"altas\",\"aplicacoes\",\"tabelas\",\"process\",\"locais\",\"impacto\",\"diagrama\",\"pratica\"],\"x1\":{\"__ndarray__\":\"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\",\"dtype\":\"float32\",\"shape\":[1000]},\"x2\":{\"__ndarray__\":\"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\",\"dtype\":\"float32\",\"shape\":[1000]}}},\"id\":\"d24019fa-90bf-4b09-868a-8e52d14a4dca\",\"type\":\"ColumnDataSource\"},{\"attributes\":{\"source\":{\"id\":\"d24019fa-90bf-4b09-868a-8e52d14a4dca\",\"type\":\"ColumnDataSource\"}},\"id\":\"bb1a2e4e-3ded-47f2-8a0f-0e3b1b04d55a\",\"type\":\"CDSView\"},{\"attributes\":{\"plot\":null,\"text\":\"word2vec T-SNE for most common words\"},\"id\":\"07fcbd32-f184-4a31-8908-89ef9feaf069\",\"type\":\"Title\"},{\"attributes\":{},\"id\":\"8d43ec42-e424-4d73-a270-9dbbf1f1a685\",\"type\":\"WheelZoomTool\"},{\"attributes\":{\"callback\":null},\"id\":\"e2956fda-c805-411b-a2c6-5357ab301796\",\"type\":\"DataRange1d\"},{\"attributes\":{},\"id\":\"54873c1a-d920-4a7f-8121-1c063d4b38e4\",\"type\":\"ResetTool\"},{\"attributes\":{\"active_drag\":\"auto\",\"active_inspect\":\"auto\",\"active_scroll\":\"auto\",\"active_tap\":\"auto\",\"tools\":[{\"id\":\"3a9fb556-035e-4b1f-a962-d672be14640f\",\"type\":\"PanTool\"},{\"id\":\"8d43ec42-e424-4d73-a270-9dbbf1f1a685\",\"type\":\"WheelZoomTool\"},{\"id\":\"54873c1a-d920-4a7f-8121-1c063d4b38e4\",\"type\":\"ResetTool\"},{\"id\":\"c26f5d69-319d-4956-8f83-aecec117b588\",\"type\":\"SaveTool\"}]},\"id\":\"61bed07f-ba63-4b91-ae49-73ab31dd0cab\",\"type\":\"Toolbar\"},{\"attributes\":{},\"id\":\"c26f5d69-319d-4956-8f83-aecec117b588\",\"type\":\"SaveTool\"},{\"attributes\":{\"fill_color\":{\"value\":\"#1f77b4\"},\"line_color\":{\"value\":\"#1f77b4\"},\"size\":{\"units\":\"screen\",\"value\":8},\"x\":{\"field\":\"x1\"},\"y\":{\"field\":\"x2\"}},\"id\":\"777b27fc-608a-417d-bd79-9079936b4c42\",\"type\":\"Circle\"},{\"attributes\":{},\"id\":\"bb80f167-f9f7-4d53-b606-6444428d171b\",\"type\":\"LinearScale\"},{\"attributes\":{\"callback\":null},\"id\":\"8b0452c3-9489-4d16-9b2c-f9aef159a23a\",\"type\":\"DataRange1d\"},{\"attributes\":{},\"id\":\"1c8265b4-778b-413b-8f38-9e8a9640c794\",\"type\":\"LinearScale\"},{\"attributes\":{\"fill_alpha\":{\"value\":0.1},\"fill_color\":{\"value\":\"#1f77b4\"},\"line_alpha\":{\"value\":0.1},\"line_color\":{\"value\":\"#1f77b4\"},\"size\":{\"units\":\"screen\",\"value\":8},\"x\":{\"field\":\"x1\"},\"y\":{\"field\":\"x2\"}},\"id\":\"55011645-2386-4363-8dc3-030357dc6582\",\"type\":\"Circle\"},{\"attributes\":{\"formatter\":{\"id\":\"60c9989e-bf24-464c-8a81-5b441d36f29c\",\"type\":\"BasicTickFormatter\"},\"plot\":{\"id\":\"66c0e1fe-357d-4c3a-b07f-2e7a84c4dd4b\",\"subtype\":\"Figure\",\"type\":\"Plot\"},\"ticker\":{\"id\":\"8a19390d-3f01-41b9-913a-52167096e5f1\",\"type\":\"BasicTicker\"}},\"id\":\"69f79b32-23b0-471f-b7fa-b4b253adc6b8\",\"type\":\"LinearAxis\"},{\"attributes\":{\"data_source\":{\"id\":\"d24019fa-90bf-4b09-868a-8e52d14a4dca\",\"type\":\"ColumnDataSource\"},\"glyph\":{\"id\":\"777b27fc-608a-417d-bd79-9079936b4c42\",\"type\":\"Circle\"},\"hover_glyph\":null,\"muted_glyph\":null,\"nonselection_glyph\":{\"id\":\"55011645-2386-4363-8dc3-030357dc6582\",\"type\":\"Circle\"},\"selection_glyph\":null,\"view\":{\"id\":\"bb1a2e4e-3ded-47f2-8a0f-0e3b1b04d55a\",\"type\":\"CDSView\"}},\"id\":\"abe93052-8719-484f-8cfa-0c3ece1ca19b\",\"type\":\"GlyphRenderer\"},{\"attributes\":{},\"id\":\"8a19390d-3f01-41b9-913a-52167096e5f1\",\"type\":\"BasicTicker\"},{\"attributes\":{\"plot\":{\"id\":\"66c0e1fe-357d-4c3a-b07f-2e7a84c4dd4b\",\"subtype\":\"Figure\",\"type\":\"Plot\"},\"ticker\":{\"id\":\"8a19390d-3f01-41b9-913a-52167096e5f1\",\"type\":\"BasicTicker\"}},\"id\":\"9a00ef44-0aa9-4489-b06c-c97a4cccd1a5\",\"type\":\"Grid\"}],\"root_ids\":[\"66c0e1fe-357d-4c3a-b07f-2e7a84c4dd4b\"]},\"title\":\"Bokeh Application\",\"version\":\"0.12.10\"}};\n",
       "    var render_items = [{\"docid\":\"9b789f38-5f7a-4e9f-8f0e-e63c0b74a387\",\"elementid\":\"c5d6b260-dd00-427b-b051-c0ceb933a328\",\"modelid\":\"66c0e1fe-357d-4c3a-b07f-2e7a84c4dd4b\"}];\n",
       "\n",
       "    root.Bokeh.embed.embed_items(docs_json, render_items);\n",
       "  }\n",
       "\n",
       "  if (root.Bokeh !== undefined) {\n",
       "    embed_document(root);\n",
       "  } else {\n",
       "    var attempts = 0;\n",
       "    var timer = setInterval(function(root) {\n",
       "      if (root.Bokeh !== undefined) {\n",
       "        embed_document(root);\n",
       "        clearInterval(timer);\n",
       "      }\n",
       "      attempts++;\n",
       "      if (attempts > 100) {\n",
       "        console.log(\"Bokeh: ERROR: Unable to embed document because BokehJS library is missing\")\n",
       "        clearInterval(timer);\n",
       "      }\n",
       "    }, 10, root)\n",
       "  }\n",
       "})(window);"
      ],
      "application/vnd.bokehjs_exec.v0+json": ""
     },
     "metadata": {
      "application/vnd.bokehjs_exec.v0+json": {
       "id": "66c0e1fe-357d-4c3a-b07f-2e7a84c4dd4b"
      }
     },
     "output_type": "display_data"
    }
   ],
   "source": [
    "p = figure(tools=\"pan,wheel_zoom,reset,save\",\n",
    "           toolbar_location=\"above\",\n",
    "           title=\"word2vec T-SNE for most common words\",\n",
    "           plot_width=900, \n",
    "           plot_height=900)\n",
    "\n",
    "source = ColumnDataSource(data=dict(x1=embed_tsne[:,0],\n",
    "                                    x2=embed_tsne[:,1],\n",
    "                                    names=vocabulario))\n",
    "\n",
    "p.scatter(x=\"x1\", y=\"x2\", size=8, source=source)\n",
    "\n",
    "labels = LabelSet(x=\"x1\", y=\"x2\", text=\"names\", y_offset=6,\n",
    "                  text_font_size=\"8pt\", text_color=\"#555555\",\n",
    "                  source=source, text_align='center')\n",
    "p.add_layout(labels)\n",
    "\n",
    "show(p)"
   ]
  },
  {
   "cell_type": "markdown",
   "metadata": {
    "collapsed": true
   },
   "source": [
    "## Nova geração do TSNE, com maior volume de dados, priorizando a ordenação do vocabulário pelas palavras mais comuns\n"
   ]
  },
  {
   "cell_type": "code",
   "execution_count": 20,
   "metadata": {
    "collapsed": true
   },
   "outputs": [],
   "source": [
    "vocabulario = os.path.join('modelos','vocab.txt')\n",
    "vocab = []\n",
    "with open(vocabulario, 'r', encoding=\"UTF-8\") as f:\n",
    "    for line in f:\n",
    "        vocab.append(line.split()[0])"
   ]
  },
  {
   "cell_type": "code",
   "execution_count": 21,
   "metadata": {},
   "outputs": [
    {
     "name": "stdout",
     "output_type": "stream",
     "text": [
      "['cid', 'sao', 'nao', 'gas', 'petroleo', 'ser', 'rio', 'petrobras', 'figura', 'producao', 'oleo', 'janeiro', 'natural', 'agua', 'dados', 'formacao', 'sistema', 'bacia', 'pode', 'anp', 'tambem', 'brasil', 'processo', 'maior', 'tabela', 'modelo', 'tempo', 'forma', 'resultados', 'area', 'total', 'cada', 'analise', 'grande', 'pressao', 'ate', 'temperatura', 'regiao', 'onde', 'caso', 'partir', 'valores', 'trabalho', 'sendo', 'fig', 'relacao', 'ja', 'valor', 'fonte', 'assim', 'tipo', 'parte', 'volume', 'meio', 'base', 'atraves', 'energia', 'desenvolvimento', 'condicoes', 'outros', 'segundo', 'podem', 'fase', 'estudo', 'mar', 'alem', 'nacional', 'numero', 'diesel', 'co', 'etanol', 'sul', 'pocos', 'amostras', 'ainda', 'campo', 'metodo', 'capacidade', 'campos', 'apos', 'distribuicao', 'precos', 'transporte', 'projeto', 'dois', 'bem', 'funcao', 'aumento', 'equacao', 'mercado', 'ponto', 'unidade', 'neste', 'industria', 'diferentes', 'gasolina', 'combustiveis', 'operacao', 'secao', 'produtos']\n",
      "77181\n"
     ]
    }
   ],
   "source": [
    "print(vocab[:100])\n",
    "print(len(vocab))"
   ]
  },
  {
   "cell_type": "code",
   "execution_count": 22,
   "metadata": {},
   "outputs": [
    {
     "name": "stdout",
     "output_type": "stream",
     "text": [
      "(3000, 200)\n"
     ]
    }
   ],
   "source": [
    "most_commom = vocab[:3000] # lista das palavras mais comuns do vocabulario\n",
    "\n",
    "### Obtendo os vetores para as paalvras mais comuns\n",
    "#2- Iterar enter as 1000 palavras mais comuns e pegar o vetor de cada uma usando: model.wv['computer']  # numpy vector of a word\n",
    "# ou testar: say_vector = model['say']  # get vector for word\n",
    "#3- empilhar os vetores apenas das palavras mais comuns do vocabulário, e rodar o TSNE\n",
    "\n",
    "vocabulario = list()\n",
    "vetores = list()\n",
    "\n",
    "\n",
    "for word in most_commom:\n",
    "    palavra = word\n",
    "    #print(palavra)\n",
    "    vocabulario.append(palavra)\n",
    "    vetores.append(model.wv.word_vec(palavra));\n",
    "matrix = np.vstack(vetores)    \n",
    "    \n",
    "print(matrix.shape)"
   ]
  },
  {
   "cell_type": "code",
   "execution_count": 23,
   "metadata": {},
   "outputs": [
    {
     "name": "stdout",
     "output_type": "stream",
     "text": [
      "Wall time: 1min 55s\n"
     ]
    }
   ],
   "source": [
    "%%time\n",
    "tsne = TSNE(n_components=2, random_state=0)\n",
    "embed_tsne = tsne.fit_transform(vetores)"
   ]
  },
  {
   "cell_type": "code",
   "execution_count": 24,
   "metadata": {},
   "outputs": [
    {
     "data": {
      "text/html": [
       "\n",
       "<div class=\"bk-root\">\n",
       "    <div class=\"bk-plotdiv\" id=\"69e0e25d-1182-4d9c-a782-5f2973f51270\"></div>\n",
       "</div>"
      ]
     },
     "metadata": {},
     "output_type": "display_data"
    },
    {
     "data": {
      "application/javascript": [
       "(function(root) {\n",
       "  function embed_document(root) {\n",
       "    var docs_json = {\"cbd67af2-756e-4420-92ea-568666bc1e28\":{\"roots\":{\"references\":[{\"attributes\":{\"plot\":null,\"text\":\"word2vec T-SNE for most common words\"},\"id\":\"f4f672bd-a012-4db5-ac9f-377e1aed3724\",\"type\":\"Title\"},{\"attributes\":{},\"id\":\"7e190f8f-7b92-4b14-9123-ff7ee883b09a\",\"type\":\"BasicTickFormatter\"},{\"attributes\":{},\"id\":\"1c9517b9-f09e-4620-ad64-7c176e3c30e5\",\"type\":\"LinearScale\"},{\"attributes\":{\"formatter\":{\"id\":\"447f3bcf-bbc6-4080-bd56-595aecdcb82c\",\"type\":\"BasicTickFormatter\"},\"plot\":{\"id\":\"b4ba3f74-663e-4c3e-81d6-d4f8c25a5aa1\",\"subtype\":\"Figure\",\"type\":\"Plot\"},\"ticker\":{\"id\":\"5ab9c9ee-a305-4a40-b97a-d1096d9ccd00\",\"type\":\"BasicTicker\"}},\"id\":\"dfc90c04-5ac3-45f9-b0d9-10ff8ac882cd\",\"type\":\"LinearAxis\"},{\"attributes\":{\"fill_alpha\":{\"value\":0.1},\"fill_color\":{\"value\":\"#1f77b4\"},\"line_alpha\":{\"value\":0.1},\"line_color\":{\"value\":\"#1f77b4\"},\"size\":{\"units\":\"screen\",\"value\":8},\"x\":{\"field\":\"x1\"},\"y\":{\"field\":\"x2\"}},\"id\":\"c78b22bf-c451-439f-a2ed-c9a8dc4262cb\",\"type\":\"Circle\"},{\"attributes\":{\"dimension\":1,\"plot\":{\"id\":\"b4ba3f74-663e-4c3e-81d6-d4f8c25a5aa1\",\"subtype\":\"Figure\",\"type\":\"Plot\"},\"ticker\":{\"id\":\"c8f6cfb9-8ea2-4b36-b817-99178d9109eb\",\"type\":\"BasicTicker\"}},\"id\":\"99ddee74-7daf-4f64-a546-3cd70180194c\",\"type\":\"Grid\"},{\"attributes\":{\"below\":[{\"id\":\"dfc90c04-5ac3-45f9-b0d9-10ff8ac882cd\",\"type\":\"LinearAxis\"}],\"left\":[{\"id\":\"7adc9c01-4bcc-4461-ac6d-4c64297581ba\",\"type\":\"LinearAxis\"}],\"plot_height\":900,\"plot_width\":900,\"renderers\":[{\"id\":\"dfc90c04-5ac3-45f9-b0d9-10ff8ac882cd\",\"type\":\"LinearAxis\"},{\"id\":\"6c90e0ab-d3c3-444b-be37-e1f7a7701904\",\"type\":\"Grid\"},{\"id\":\"7adc9c01-4bcc-4461-ac6d-4c64297581ba\",\"type\":\"LinearAxis\"},{\"id\":\"99ddee74-7daf-4f64-a546-3cd70180194c\",\"type\":\"Grid\"},{\"id\":\"6a242ce8-9976-4255-9f7a-ae9306c7aaca\",\"type\":\"GlyphRenderer\"},{\"id\":\"34bba02f-8256-4385-976e-b1fb0236380f\",\"type\":\"LabelSet\"}],\"title\":{\"id\":\"f4f672bd-a012-4db5-ac9f-377e1aed3724\",\"type\":\"Title\"},\"toolbar\":{\"id\":\"995fa629-6a76-4cd4-bbb4-ddb2089ed75e\",\"type\":\"Toolbar\"},\"toolbar_location\":\"above\",\"x_range\":{\"id\":\"af250026-b9db-4736-822f-a897637cd5c1\",\"type\":\"DataRange1d\"},\"x_scale\":{\"id\":\"60c27bcf-1a5e-40e9-a764-d52aec26984c\",\"type\":\"LinearScale\"},\"y_range\":{\"id\":\"163a5e6a-8b27-4836-a04a-160053e05515\",\"type\":\"DataRange1d\"},\"y_scale\":{\"id\":\"1c9517b9-f09e-4620-ad64-7c176e3c30e5\",\"type\":\"LinearScale\"}},\"id\":\"b4ba3f74-663e-4c3e-81d6-d4f8c25a5aa1\",\"subtype\":\"Figure\",\"type\":\"Plot\"},{\"attributes\":{\"callback\":null},\"id\":\"163a5e6a-8b27-4836-a04a-160053e05515\",\"type\":\"DataRange1d\"},{\"attributes\":{\"fill_color\":{\"value\":\"#1f77b4\"},\"line_color\":{\"value\":\"#1f77b4\"},\"size\":{\"units\":\"screen\",\"value\":8},\"x\":{\"field\":\"x1\"},\"y\":{\"field\":\"x2\"}},\"id\":\"8dedb9d2-cfa2-41b0-b6cf-5678147d5fd3\",\"type\":\"Circle\"},{\"attributes\":{},\"id\":\"5ab9c9ee-a305-4a40-b97a-d1096d9ccd00\",\"type\":\"BasicTicker\"},{\"attributes\":{},\"id\":\"60c27bcf-1a5e-40e9-a764-d52aec26984c\",\"type\":\"LinearScale\"},{\"attributes\":{},\"id\":\"447f3bcf-bbc6-4080-bd56-595aecdcb82c\",\"type\":\"BasicTickFormatter\"},{\"attributes\":{\"plot\":{\"id\":\"b4ba3f74-663e-4c3e-81d6-d4f8c25a5aa1\",\"subtype\":\"Figure\",\"type\":\"Plot\"},\"source\":{\"id\":\"8cdcf6d7-b61b-4d33-8790-efb635277378\",\"type\":\"ColumnDataSource\"},\"text\":{\"field\":\"names\"},\"text_align\":\"center\",\"text_color\":{\"value\":\"#555555\"},\"text_font_size\":{\"value\":\"8pt\"},\"x\":{\"field\":\"x1\"},\"y\":{\"field\":\"x2\"},\"y_offset\":{\"value\":6}},\"id\":\"34bba02f-8256-4385-976e-b1fb0236380f\",\"type\":\"LabelSet\"},{\"attributes\":{\"plot\":{\"id\":\"b4ba3f74-663e-4c3e-81d6-d4f8c25a5aa1\",\"subtype\":\"Figure\",\"type\":\"Plot\"},\"ticker\":{\"id\":\"5ab9c9ee-a305-4a40-b97a-d1096d9ccd00\",\"type\":\"BasicTicker\"}},\"id\":\"6c90e0ab-d3c3-444b-be37-e1f7a7701904\",\"type\":\"Grid\"},{\"attributes\":{},\"id\":\"ac37da95-ee40-40e0-8299-0b5088f0d945\",\"type\":\"SaveTool\"},{\"attributes\":{\"active_drag\":\"auto\",\"active_inspect\":\"auto\",\"active_scroll\":\"auto\",\"active_tap\":\"auto\",\"tools\":[{\"id\":\"00be37c1-af70-4050-a6bf-9b7624f58ca3\",\"type\":\"PanTool\"},{\"id\":\"8edbbe5a-009a-452c-bfe3-a0bdb4f90dc7\",\"type\":\"WheelZoomTool\"},{\"id\":\"7e34c14f-5c86-446d-b5c9-15d18a7a5fd9\",\"type\":\"ResetTool\"},{\"id\":\"ac37da95-ee40-40e0-8299-0b5088f0d945\",\"type\":\"SaveTool\"}]},\"id\":\"995fa629-6a76-4cd4-bbb4-ddb2089ed75e\",\"type\":\"Toolbar\"},{\"attributes\":{},\"id\":\"8edbbe5a-009a-452c-bfe3-a0bdb4f90dc7\",\"type\":\"WheelZoomTool\"},{\"attributes\":{\"callback\":null,\"column_names\":[\"x1\",\"x2\",\"names\"],\"data\":{\"names\":[\"cid\",\"sao\",\"nao\",\"gas\",\"petroleo\",\"ser\",\"rio\",\"petrobras\",\"figura\",\"producao\",\"oleo\",\"janeiro\",\"natural\",\"agua\",\"dados\",\"formacao\",\"sistema\",\"bacia\",\"pode\",\"anp\",\"tambem\",\"brasil\",\"processo\",\"maior\",\"tabela\",\"modelo\",\"tempo\",\"forma\",\"resultados\",\"area\",\"total\",\"cada\",\"analise\",\"grande\",\"pressao\",\"ate\",\"temperatura\",\"regiao\",\"onde\",\"caso\",\"partir\",\"valores\",\"trabalho\",\"sendo\",\"fig\",\"relacao\",\"ja\",\"valor\",\"fonte\",\"assim\",\"tipo\",\"parte\",\"volume\",\"meio\",\"base\",\"atraves\",\"energia\",\"desenvolvimento\",\"condicoes\",\"outros\",\"segundo\",\"podem\",\"fase\",\"estudo\",\"mar\",\"alem\",\"nacional\",\"numero\",\"diesel\",\"co\",\"etanol\",\"sul\",\"pocos\",\"amostras\",\"ainda\",\"campo\",\"metodo\",\"capacidade\",\"campos\",\"apos\",\"distribuicao\",\"precos\",\"transporte\",\"projeto\",\"dois\",\"bem\",\"funcao\",\"aumento\",\"equacao\",\"mercado\",\"ponto\",\"unidade\",\"neste\",\"industria\",\"diferentes\",\"gasolina\",\"combustiveis\",\"operacao\",\"secao\",\"produtos\",\"biodiesel\",\"devido\",\"uso\",\"terra\",\"norte\",\"estao\",\"\\u00b0c\",\"apenas\",\"engenharia\",\"programa\",\"tres\",\"duas\",\"concentracao\",\"controle\",\"deste\",\"conforme\",\"universidade\",\"possivel\",\"apresenta\",\"areas\",\"processos\",\"longo\",\"paulo\",\"unidades\",\"ano\",\"sistemas\",\"anos\",\"quanto\",\"vez\",\"combustivel\",\"media\",\"principais\",\"fluido\",\"boletim\",\"parametros\",\"cao\",\"obtidos\",\"exploracao\",\"oil\",\"massa\",\"pesquisa\",\"velocidade\",\"solucao\",\"superior\",\"vazao\",\"nivel\",\"material\",\"menor\",\"acordo\",\"qualidade\",\"medio\",\"periodo\",\"sp\",\"superficie\",\"deve\",\"resolucao\",\"desta\",\"carga\",\"consumo\",\"setor\",\"estrutura\",\"exemplo\",\"derivados\",\"federal\",\"mistura\",\"final\",\"amostra\",\"geral\",\"comportamento\",\"estudos\",\"alta\",\"presenca\",\"quantidade\",\"avaliacao\",\"outras\",\"caracteristicas\",\"atividades\",\"fluxo\",\"atividade\",\"ambiente\",\"regioes\",\"sera\",\"modelos\",\"bacias\",\"reducao\",\"tecnica\",\"pois\",\"perfuracao\",\"dia\",\"zona\",\"produto\",\"quimica\",\"calculo\",\"objetivo\",\"facies\",\"ltda\",\"nt\",\"custo\",\"cm\",\"taxa\",\"alguns\",\"inferior\",\"mm\",\"tecnico\",\"utilizacao\",\"utilizado\",\"brasileiro\",\"metodos\",\"pais\",\"nc\",\"fluidos\",\"ar\",\"efeito\",\"aplicacao\",\"geologia\",\"modo\",\"evolucao\",\"outro\",\"mesma\",\"pontos\",\"propriedades\",\"quais\",\"sob\",\"preco\",\"tais\",\"grupo\",\"tal\",\"grandes\",\"informacoes\",\"centro\",\"rochas\",\"\\u00b7\",\"figure\",\"entao\",\"reservatorio\",\"variacao\",\"ter\",\"tratamento\",\"santos\",\"km\",\"reacao\",\"recursos\",\"grafico\",\"escoamento\",\"presente\",\"milhoes\",\"biocombustiveis\",\"teor\",\"tecnologia\",\"plataforma\",\"utilizados\",\"tensao\",\"acido\",\"fator\",\"importante\",\"ocorre\",\"materiais\",\"fato\",\"liquido\",\"linha\",\"mostra\",\"brasileira\",\"\\uf0b7\",\"hidrocarbonetos\",\"conjunto\",\"menos\",\"jan\",\"razao\",\"coluna\",\"sedimentos\",\"lei\",\"fim\",\"empresas\",\"primeiro\",\"simulacao\",\"recuperacao\",\"inicial\",\"mg\",\"empresa\",\"principal\",\"todas\",\"pro\",\"disponivel\",\"viscosidade\",\"elementos\",\"kg\",\"maiores\",\"sequencia\",\"sido\",\"acima\",\"primeira\",\"dentro\",\"ca\",\"topo\",\"faixa\",\"alto\",\"determinacao\",\"industrial\",\"principalmente\",\"melhor\",\"porem\",\"nova\",\"pesquisas\",\"composicao\",\"\\u2212\",\"cerca\",\"dessa\",\"densidade\",\"injecao\",\"espessura\",\"projetos\",\"direcao\",\"portanto\",\"ordem\",\"reservatorios\",\"variaveis\",\"entrada\",\"new\",\"br\",\"testes\",\"problema\",\"teste\",\"bahia\",\"oleos\",\"rodada\",\"geracao\",\"arenitos\",\"influencia\",\"potencial\",\"basin\",\"capitulo\",\"diametro\",\"www\",\"trabalhos\",\"casos\",\"falhas\",\"paises\",\"peso\",\"oc\",\"seguintes\",\"fatores\",\"carbono\",\"padrao\",\"ocorrencia\",\"inicio\",\"referencia\",\"pe\",\"custos\",\"baixa\",\"petroleum\",\"curva\",\"iv\",\"diversos\",\"enquanto\",\"refinaria\",\"data\",\"continental\",\"equipamentos\",\"etapa\",\"fundo\",\"perfil\",\"escala\",\"parana\",\"demanda\",\"aguas\",\"tipos\",\"corrente\",\"vapor\",\"serem\",\"resultado\",\"calor\",\"catalisador\",\"respectivamente\",\"algumas\",\"apresentam\",\"processamento\",\"equacoes\",\"necessario\",\"cenpes\",\"crescimento\",\"comparacao\",\"corrosao\",\"disso\",\"entretanto\",\"componentes\",\"problemas\",\"particulas\",\"qualquer\",\"separacao\",\"profundidade\",\"n\\u00b0\",\"limite\",\"podese\",\"eficiencia\",\"acesso\",\"constante\",\"tecnicas\",\"mento\",\"jose\",\"compostos\",\"utilizando\",\"http\",\"analises\",\"intervalo\",\"water\",\"r$\",\"possui\",\"medida\",\"utilizada\",\"lado\",\"curvas\",\"mente\",\"santo\",\"perda\",\"nesta\",\"desse\",\"ensaios\",\"devem\",\"dezembro\",\"grau\",\"well\",\"participacao\",\"vista\",\"min\",\"nesse\",\"central\",\"local\",\"maxima\",\"ai\",\"baixo\",\"demais\",\"termos\",\"resistencia\",\"fracao\",\"destilacao\",\"deformacao\",\"obtencao\",\"estruturas\",\"indice\",\"\\u00b1\",\"fases\",\"camadas\",\"laboratorio\",\"production\",\"temperaturas\",\"glp\",\"us$\",\"ml\",\"serao\",\"construcao\",\"somente\",\"silva\",\"ph\",\"alcool\",\"metodologia\",\"novas\",\"bastante\",\"sempre\",\"rj\",\"mapa\",\"costa\",\"li\",\"manutencao\",\"fontes\",\"vezes\",\"apresentados\",\"reservas\",\"comprimento\",\"mil\",\"origem\",\"representa\",\"falha\",\"blocos\",\"desempenho\",\"seguir\",\"gases\",\"rocha\",\"metros\",\"introducao\",\"abaixo\",\"quatro\",\"flow\",\"maximo\",\"journal\",\"ensaio\",\"efeitos\",\"cor\",\"autores\",\"modelagem\",\"espirito\",\"embora\",\"novo\",\"toda\",\"desses\",\"pouco\",\"agentes\",\"serie\",\"contato\",\"aproximadamente\",\"nordeste\",\"sergipe\",\"jul\",\"departamento\",\"diferenca\",\"coeficiente\",\"matriz\",\"novos\",\"diversas\",\"po\",\"vertical\",\"relatorio\",\"saida\",\"outra\",\"energy\",\"niveis\",\"tendo\",\"malha\",\"realizada\",\"importancia\",\"inclui\",\"idade\",\"maio\",\"mestrado\",\"igual\",\"frequencia\",\"linhas\",\"permite\",\"posicao\",\"necessidade\",\"experimental\",\"maneira\",\"mo\",\"entanto\",\"agencia\",\"feita\",\"varios\",\"aspecto\",\"distribuidora\",\"dias\",\"obtido\",\"transferencia\",\"alagoas\",\"catalisadores\",\"ver\",\"destes\",\"margem\",\"atualmente\",\"obter\",\"aqui\",\"ambiental\",\"estrutural\",\"realizados\",\"resposta\",\"medidas\",\"apesar\",\"abr\",\"vendas\",\"experimentais\",\"seguinte\",\"fi\",\"correlacao\",\"forca\",\"dou\",\"real\",\"servicos\",\"segunda\",\"apresentado\",\"depositos\",\"termica\",\"etc\",\"tamanho\",\"curso\",\"deposicao\",\"caracterizacao\",\"permeabilidade\",\"tubo\",\"\\u0003\",\"aco\",\"rede\",\"si\",\"comercializacao\",\"figuras\",\"aspectos\",\"linear\",\"porosidade\",\"dado\",\"porcao\",\"produtores\",\"atual\",\"plano\",\"barris\",\"seguranca\",\"enxofre\",\"presentes\",\"procedimento\",\"pa\",\"vida\",\"vem\",\"observado\",\"des\",\"obtida\",\"remocao\",\"dez\",\"folhelhos\",\"utilizadas\",\"informacao\",\"combustao\",\"equipamento\",\"operacoes\",\"global\",\"perfis\",\"divisao\",\"carvao\",\"localizacao\",\"considerando\",\"comercial\",\"liquidos\",\"definicao\",\"autor\",\"camada\",\"contratos\",\"internacional\",\"sedimentares\",\"ba\",\"realizadas\",\"concentracoes\",\"dissertacao\",\"servico\",\"oes\",\"monitoramento\",\"especial\",\"anterior\",\"obtidas\",\"dutos\",\"sudeste\",\"ciclo\",\"zonas\",\"interesse\",\"analysis\",\"engineering\",\"reconcavo\",\"boa\",\"distribuidoras\",\"tecnicos\",\"acao\",\"condicao\",\"variavel\",\"interpretacao\",\"realizacao\",\"etapas\",\"regional\",\"classificacao\",\"realizado\",\"planejamento\",\"conhecimento\",\"leste\",\"adsorcao\",\"solucoes\",\"mundial\",\"tubos\",\"importacao\",\"lubrificantes\",\"acidos\",\"regime\",\"prazo\",\"economica\",\"corpo\",\"investimentos\",\"simples\",\"especifica\",\"brazil\",\"instalacao\",\"queda\",\"variacoes\",\"propria\",\"formation\",\"minimo\",\"especies\",\"reator\",\"folhelho\",\"gerais\",\"arenito\",\"extracao\",\"conversao\",\"instituto\",\"eletrica\",\"reacoes\",\"corpos\",\"motor\",\"sedimentacao\",\"distancia\",\"contendo\",\"instalacoes\",\"dentre\",\"parametro\",\"interna\",\"ocorrem\",\"literatura\",\"risco\",\"produzido\",\"interno\",\"diretamente\",\"deslocamento\",\"apresentou\",\"momento\",\"adicao\",\"duto\",\"livre\",\"geology\",\"materia\",\"horizontal\",\"observar\",\"bomba\",\"membro\",\"computacional\",\"ppm\",\"solo\",\"quase\",\"geociencias\",\"menores\",\"horas\",\"varias\",\"santa\",\"natureza\",\"situacao\",\"marco\",\"oliveira\",\"system\",\"mecanica\",\"espaco\",\"sedimentar\",\"pr\",\"visto\",\"sismica\",\"tos\",\"equilibrio\",\"objetivos\",\"possuem\",\"importantes\",\"refino\",\"ufrj\",\"hidrogenio\",\"usado\",\"potencia\",\"cabo\",\"correntes\",\"grupos\",\"portaria\",\"secoes\",\"operacional\",\"seguida\",\"ajuste\",\"consiste\",\"offshore\",\"geometria\",\"research\",\"bilhoes\",\"integracao\",\"cadeia\",\"esquema\",\"nota\",\"york\",\"percentual\",\"quadro\",\"amazonas\",\"formacoes\",\"souza\",\"mes\",\"elaboracao\",\"tendencia\",\"torno\",\"termo\",\"dada\",\"refinarias\",\"abstract\",\"carlos\",\"item\",\"artigo\",\"cos\",\"via\",\"expansao\",\"model\",\"original\",\"corresponde\",\"erro\",\"maioria\",\"relativa\",\"imagem\",\"limites\",\"onda\",\"registro\",\"componente\",\"oxidacao\",\"volumes\",\"per\",\"tese\",\"astm\",\"anteriormente\",\"minas\",\"politica\",\"contexto\",\"medios\",\"imagens\",\"\\u0006\",\"dimensoes\",\"resumo\",\"revisao\",\"embasamento\",\"dade\",\"existe\",\"considerado\",\"estabilidade\",\"normal\",\"apresentar\",\"composto\",\"possibilidade\",\"avaliar\",\"altura\",\"descricao\",\"tensoes\",\"operacionais\",\"sal\",\"api\",\"antonio\",\"sequencias\",\"ambientais\",\"observase\",\"coes\",\"apoio\",\"geralmente\",\"dessas\",\"society\",\"oxigenio\",\"apresentaram\",\"argila\",\"aquisicao\",\"prova\",\"existencia\",\"organica\",\"bom\",\"proprio\",\"existentes\",\"misturas\",\"anexo\",\"energetica\",\"hidratado\",\"oeste\",\"referencias\",\"$\",\"interior\",\"indica\",\"glicerol\",\"proposta\",\"poder\",\"apresentada\",\"ra\",\"comercio\",\"res\",\"existem\",\"feito\",\"elemento\",\"determinado\",\"oferta\",\"america\",\"fazer\",\"consumidor\",\"proximo\",\"produzida\",\"questao\",\"normalmente\",\"veiculos\",\"\\u0002\",\"extensao\",\"conta\",\"nafta\",\"vi\",\"companhia\",\"determinar\",\"international\",\"movimento\",\"cuja\",\"nov\",\"di\",\"american\",\"rendimento\",\"using\",\"nessa\",\"faz\",\"sintese\",\"metano\",\"ho\",\"used\",\"metais\",\"pre\",\"poros\",\"riser\",\"cinco\",\"economia\",\"logo\",\"mundo\",\"molar\",\"pressoes\",\"economico\",\"gasoduto\",\"encontrados\",\"study\",\"comum\",\"responsavel\",\"destas\",\"passo\",\"soja\",\"chemical\",\"papel\",\"simulacoes\",\"areia\",\"ambos\",\"unidos\",\"eventos\",\"cp\",\"pequena\",\"possiveis\",\"molecular\",\"also\",\"identificacao\",\"desenvolvido\",\"apresentadas\",\"software\",\"xisto\",\"filho\",\"infraestrutura\",\"ta\",\"movimentacao\",\"time\",\"criacao\",\"ac\",\"\\u000f\",\"contudo\",\"eixo\",\"fracoes\",\"serra\",\"elevacao\",\"petro\",\"abastecimento\",\"realizar\",\"taxas\",\"lista\",\"otimizacao\",\"estagio\",\"tecnologias\",\"cimento\",\"emissoes\",\"estratigrafica\",\"high\",\"joao\",\"estatistico\",\"respeito\",\"associado\",\"ro\",\"versus\",\"tectonica\",\"dinamica\",\"ultimos\",\"conclusoes\",\"technology\",\"padroes\",\"results\",\"aplicada\",\"maria\",\"medicao\",\"leito\",\"solidos\",\"solvente\",\"economicos\",\"gasodutos\",\"determinada\",\"aumentar\",\"doutorado\",\"federacao\",\"podendo\",\"experimento\",\"necessaria\",\"especificacoes\",\"va\",\"inspecao\",\"porto\",\"externa\",\"mudanca\",\"angulo\",\"bloco\",\"nitrogenio\",\"produtor\",\"associacao\",\"altas\",\"aplicacoes\",\"tabelas\",\"process\",\"locais\",\"impacto\",\"diagrama\",\"pratica\",\"relacionados\",\"cretaceo\",\"disponiveis\",\"ne\",\"pressure\",\"metal\",\"dano\",\"associados\",\"formas\",\"luiz\",\"experimentos\",\"metanol\",\"ultimo\",\"coque\",\"mesmos\",\"orgao\",\"anual\",\"continua\",\"desvio\",\"polimero\",\"visando\",\"mecanismo\",\"rs\",\"frente\",\"execucao\",\"motores\",\"cenario\",\"decada\",\"elevada\",\"concessao\",\"estruturais\",\"nacionais\",\"quimicos\",\"brasileiras\",\"inicialmente\",\"df\",\"diminuicao\",\"fenomeno\",\"fratura\",\"investimento\",\"science\",\"tes\",\"valvula\",\"abertura\",\"anuario\",\"relativamente\",\"discussao\",\"dagua\",\"muitos\",\"mostram\",\"ondas\",\"partes\",\"\\u0002\\u0005\",\"referentes\",\"mesmas\",\"saturacao\",\"mercados\",\"usando\",\"direta\",\"university\",\"mudancas\",\"diferencas\",\"governo\",\"regulacao\",\"interacao\",\"interface\",\"reduzir\",\"foto\",\"contorno\",\"liquida\",\"definida\",\"devese\",\"forte\",\"protecao\",\"configuracao\",\"efluente\",\"ultima\",\"vale\",\"dominio\",\"relacoes\",\"superficial\",\"max\",\"temse\",\"cisalhamento\",\"proposto\",\"revestimento\",\"industriais\",\"programas\",\"considerada\",\"mostrado\",\"sociedade\",\"tanques\",\"residuos\",\"alves\",\"originais\",\"\\u0001\",\"forcas\",\"levantamento\",\"procedimentos\",\"elevado\",\"verificar\",\"aumenta\",\"contribuicao\",\"devera\",\"hoje\",\"mapas\",\"potiguar\",\"section\",\"criterios\",\"celula\",\"considerados\",\"rifte\",\"lama\",\"suporte\",\"eua\",\"marinha\",\"geologico\",\"contrato\",\"minutos\",\"muitas\",\"posteriormente\",\"termico\",\"ministerio\",\"use\",\"ceara\",\"historico\",\"depende\",\"\\u000e\",\"conformidade\",\"graos\",\"necessarios\",\"estimativa\",\"passa\",\"aquecimento\",\"balanco\",\"drilling\",\"mineral\",\"rotacao\",\"definido\",\"contem\",\"\\u0014\",\"acoes\",\"tanque\",\"coeficientes\",\"exportacao\",\"pessoal\",\"tecnologico\",\"municipios\",\"usados\",\"indicam\",\"cia\",\"soldagem\",\"representacao\",\"development\",\"instituicoes\",\"ex\",\"postos\",\"systems\",\"junto\",\"ce\",\"geologica\",\"trecho\",\"minerais\",\"geological\",\"querosene\",\"caracteristica\",\"conclusao\",\"formado\",\"propriedade\",\"constantes\",\"tecnologica\",\"zero\",\"energetico\",\"unica\",\"armazenamento\",\"amplitude\",\"previsao\",\"funcoes\",\"fe\",\"environmental\",\"gnl\",\"representam\",\"\\u0010\",\"podera\",\"fm\",\"decisao\",\"method\",\"transicao\",\"escolha\",\"sinal\",\"tubulacao\",\"seismic\",\"bibliograficas\",\"conteudo\",\"orgaos\",\"escola\",\"titulo\",\"compressao\",\"fundamental\",\"lima\",\"segmento\",\"normas\",\"agente\",\"venda\",\"fluid\",\"ocorrer\",\"condutividade\",\"modulo\",\"alternativa\",\"testemunhos\",\"graficos\",\"consequentemente\",\"incluindo\",\"ausencia\",\"claro\",\"evitar\",\"teoria\",\"grosso\",\"associada\",\"pequenas\",\"experiencia\",\"feitas\",\"camara\",\"troca\",\"observada\",\"baixas\",\"francisco\",\"pt\",\"solventes\",\"residual\",\"wells\",\"evento\",\"poderia\",\"feicoes\",\"mt\",\"classe\",\"autorizacao\",\"bases\",\"fabricacao\",\"perdas\",\"petroquimica\",\"atuacao\",\"table\",\"marinho\",\"verde\",\"finos\",\"seis\",\"equivalente\",\"ufrn\",\"praticamente\",\"tao\",\"leve\",\"ocorreu\",\"indices\",\"exposicao\",\"pos\",\"brazilian\",\"correspondente\",\"carater\",\"moleculas\",\"junho\",\"tracao\",\"altos\",\"substituicao\",\"pagina\",\"calibracao\",\"revista\",\"consideracoes\",\"ciencia\",\"field\",\"ciencias\",\"consumidores\",\"polimeros\",\"profundas\",\"uniao\",\"varia\",\"busca\",\"epoca\",\"ferramenta\",\"efetiva\",\"passou\",\"control\",\"poroso\",\"raios\",\"primeiros\",\"tempos\",\"capaz\",\"intervalos\",\"aromaticos\",\"press\",\"cl\",\"anidro\",\"julho\",\"cargas\",\"cidade\",\"organizacao\",\"ambientes\",\"coordenador\",\"unico\",\"requisitos\",\"atingir\",\"neto\",\"rn\",\"concorrencia\",\"coordenacao\",\"meios\",\"referente\",\"observados\",\"vantagens\",\"encontrase\",\"criterio\",\"capital\",\"relacionadas\",\"deposicional\",\"fluxos\",\"based\",\"especie\",\"lateral\",\"vol\",\"minima\",\"residuo\",\"basins\",\"manter\",\"mensal\",\"quantidades\",\"sa\",\"biomassa\",\"cujo\",\"cf\",\"significativa\",\"transversal\",\"podemos\",\"pc\",\"gestao\",\"vazoes\",\"pi\",\"\\u0019\",\"inovacao\",\"two\",\"parcial\",\"baseado\",\"end\",\"fica\",\"funcionamento\",\"produzidos\",\"aplicado\",\"fiscalizacao\",\"surface\",\"amostragem\",\"maranhao\",\"marine\",\"mol\",\"descrito\",\"calculado\",\"cas\",\"edicao\",\"mecanismos\",\"may\",\"alegre\",\"especificacao\",\"especifico\",\"espectro\",\"coletadas\",\"estratigrafia\",\"corte\",\"novembro\",\"totalmente\",\"broca\",\"congresso\",\"one\",\"publicacao\",\"especialmente\",\"prof\",\"expressao\",\"estacao\",\"pequeno\",\"ap\",\"applied\",\"estabelece\",\"trimestre\",\"conselho\",\"produtividade\",\"formula\",\"automotivos\",\"barreiras\",\"craqueamento\",\"naturais\",\"plantas\",\"texto\",\"baixos\",\"ions\",\"membrana\",\"barra\",\"finais\",\"provavelmente\",\"atender\",\"banco\",\"planta\",\"anteriores\",\"mato\",\"norma\",\"gasosa\",\"rios\",\"sucesso\",\"publica\",\"ilha\",\"degradacao\",\"diferencial\",\"melhores\",\"basicos\",\"brasilia\",\"proximos\",\"abordagem\",\"alteracoes\",\"precisao\",\"garantir\",\"velocidades\",\"art\",\"queima\",\"formulacao\",\"martins\",\"candeias\",\"selecao\",\"conceito\",\"superficies\",\"environment\",\"celulas\",\"sim\",\"composta\",\"coleta\",\"superiores\",\"exploration\",\"figs\",\"quimicas\",\"revenda\",\"emissao\",\"gradiente\",\"completacao\",\"particular\",\"\\uf084\",\"nome\",\"gama\",\"jr\",\"emprego\",\"pereira\",\"presidente\",\"salvador\",\"utilizar\",\"gerados\",\"inclusive\",\"meses\",\"considerar\",\"carregamento\",\"usada\",\"design\",\"impactos\",\"solubilidade\",\"canais\",\"similar\",\"ciclos\",\"externo\",\"agora\",\"intensidade\",\"materiaprima\",\"regras\",\"pol\",\"convencionais\",\"energeticos\",\"vai\",\"implantacao\",\"shale\",\"existente\",\"tema\",\"calcular\",\"calculos\",\"algoritmo\",\"fazenda\",\"fuel\",\"utiliza\",\"ci\",\"\\b\",\"estadual\",\"oi\",\"petroleos\",\"teores\",\"dificil\",\"eficiente\",\"precipitacao\",\"produzir\",\"fisico\",\"volumetrica\",\"periodos\",\"terminal\",\"complexo\",\"desenvolvidos\",\"cinza\",\"ms\",\"orientacao\",\"paper\",\"shell\",\"sodio\",\"finalidade\",\"reais\",\"borda\",\"face\",\"reservoir\",\"efluentes\",\"posgraduacao\",\"probabilidade\",\"suficiente\",\"ressaltar\",\"series\",\"hidrolise\",\"mb\",\"classes\",\"hz\",\"sedimentary\",\"graduacao\",\"part\",\"seco\",\"ambas\",\"eletrico\",\"mpa\",\"superintendencia\",\"hipotese\",\"resultante\",\"calcarios\",\"humanos\",\"pes\",\"proxima\",\"outubro\",\"bagaco\",\"agosto\",\"erros\",\"iniciais\",\"responsaveis\",\"calculada\",\"falta\",\"causa\",\"convencional\",\"par\",\"sm\",\"industrias\",\"mostrando\",\"filtracao\",\"observadas\",\"prh\",\"semelhante\",\"axial\",\"equipe\",\"valvulas\",\"completa\",\"invoke\",\"set\",\"consideradas\",\"alteracao\",\"calculados\",\"circulacao\",\"consequencia\",\"identificar\",\"torna\",\"analisados\",\"organicos\",\"fisica\",\"alternativas\",\"psi\",\"quimico\",\"terminais\",\"controlador\",\"parede\",\"conference\",\"encontradas\",\"go\",\"turbina\",\"nominal\",\"relativo\",\"bp\",\"observacoes\",\"china\",\"gerado\",\"argentina\",\"entrega\",\"social\",\"elevados\",\"resulta\",\"absorcao\",\"mediante\",\"mentos\",\"numerica\",\"plataformas\",\"proporcao\",\"abril\",\"dispersao\",\"associadas\",\"util\",\"\\u03b2\",\"alimentacao\",\"historia\",\"temporal\",\"south\",\"oxido\",\"state\",\"encontra\",\"fo\",\"rodrigues\",\"testemunho\",\"redes\",\"ferreira\",\"first\",\"eq\",\"retorno\",\"raio\",\"glicerina\",\"preparacao\",\"preto\",\"review\",\"effects\",\"geologicos\",\"soma\",\"value\",\"andar\",\"ferro\",\"situacoes\",\"indicando\",\"porte\",\"parcela\",\"tulsa\",\"discordancia\",\"deteccao\",\"gerar\",\"finalmente\",\"navio\",\"argilas\",\"pm\",\"setores\",\"bbl\",\"recebidos\",\"\\u0018\",\"fins\",\"propano\",\"espacial\",\"artigos\",\"baseada\",\"pp\",\"treinamento\",\"africa\",\"alberto\",\"legislacao\",\"carbonatos\",\"centrooeste\",\"destaque\",\"esforco\",\"pb\",\"catarina\",\"cal\",\"cc\",\"notar\",\"sensibilidade\",\"filmes\",\"curto\",\"politicas\",\"representado\",\"mass\",\"pico\",\"simulador\",\"basica\",\"brasileiros\",\"national\",\"analisadas\",\"\\u03b1\",\"analisar\",\"especiais\",\"ambito\",\"possa\",\"adequada\",\"apresentando\",\"ana\",\"comunicacao\",\"duracao\",\"pesados\",\"fernando\",\"visao\",\"bar\",\"benzeno\",\"rift\",\"different\",\"adequado\",\"compra\",\"encontramse\",\"presal\",\"razoes\",\"relacionada\",\"tra\",\"sismicas\",\"riscos\",\"vacuo\",\"adaptado\",\"sis\",\"importado\",\"representada\",\"aditivos\",\"im\",\"propanodiol\",\"fadiga\",\"luz\",\"\\uf03d\",\"\\u0007\",\"segmentos\",\"cr\",\"cobertura\",\"lamina\",\"phase\",\"solda\",\"esforcos\",\"estagios\",\"solido\",\"teorico\",\"sc\",\"would\",\"erosao\",\"temp\",\"e&p\",\"estacoes\",\"sismicos\",\"sr\",\"ferramentas\",\"permitindo\",\"provenientes\",\"crescente\",\"dificuldades\",\"calcio\",\"graus\",\"necessarias\",\"pernambuco\",\"vetor\",\"ct\",\"tucano\",\"substrato\",\"permitir\",\"principio\",\"torre\",\"almeida\",\"permitem\",\"limpeza\",\"cru\",\"exterior\",\"exemplos\",\"radiacao\",\"apendice\",\"observacao\",\"reduc\",\"suspensao\",\"fina\",\"posterior\",\"log\",\"variando\",\"atmosferica\",\"substancias\",\"atlantico\",\"basicamente\",\"consideracao\",\"ia\",\"picos\",\"ilhas\",\"temperature\",\"cursos\",\"ponta\",\"utilizandose\",\"distintas\",\"junior\",\"totais\",\"desenvolvida\",\"migracao\",\"sequence\",\"studies\",\"acompanhamento\",\"conhecida\",\"elevadas\",\"especificos\",\"lugar\",\"relativos\",\"uk\",\"objeto\",\"lb\",\"parece\",\"fornecimento\",\"fosseis\",\"profundidades\",\"apresentacao\",\"catalitico\",\"estrategia\",\"fraturas\",\"incremento\",\"numerico\",\"passagem\",\"work\",\"rpm\",\"semelhantes\",\"estudados\",\"modificado\",\"ouro\",\"rapida\",\"reg\",\"correcao\",\"branco\",\"cabe\",\"leves\",\"republica\",\"associated\",\"planos\",\"dar\",\"implementacao\",\"association\",\"diferente\",\"ira\",\"determinados\",\"dis\",\"refinacao\",\"trata\",\"aviacao\",\"difusao\",\"ruptura\",\"\\u2010\",\"suprimento\",\"acos\",\"algum\",\"definidos\",\"fracturing\",\"materiasprimas\",\"nm\",\"mello\",\"racao\",\"instrumentos\",\"luis\",\"navios\",\"obtained\",\"retirada\",\"potential\",\"propagacao\",\"proveniente\",\"correlacoes\",\"setembro\",\"continuidade\",\"estabelecer\",\"cobre\",\"critica\",\"dependendo\",\"cilindro\",\"deposicionais\",\"fino\",\"verticais\",\"desenvolver\",\"report\",\"importacoes\",\"bolha\",\"horizonte\",\"diz\",\"main\",\"mostraram\",\"conhecido\",\"empregados\",\"frio\",\"normais\",\"tornase\",\"comerciais\",\"pelotas\",\"tion\",\"toxicidade\",\"acetico\",\"detalhes\",\"due\",\"manual\",\"comuns\",\"mecanico\",\"conceitos\",\"coordenadas\",\"futuro\",\"chamada\",\"descritas\",\"rocks\",\"site\",\"subsidencia\",\"chemistry\",\"pacote\",\"dependencia\",\"documentacao\",\"descritos\",\"notase\",\"spe\",\"evolution\",\"ideal\",\"p&d\",\"marca\",\"\\u03c6\",\"filtro\",\"\\u0004\",\"gomes\",\"alii\",\"coppe\",\"methods\",\"relacionado\",\"af\",\"fl\",\"lubrificante\",\"organic\",\"oxidos\",\"lower\",\"pesado\",\"possam\",\"van\",\"constituem\",\"low\",\"basico\",\"contrario\",\"eletricos\",\"conditions\",\"constituida\",\"definir\",\"deverao\",\"au\",\"cenarios\",\"franca\",\"group\",\"hs\",\"colunas\",\"fevereiro\",\"largura\",\"representar\",\"colapso\",\"\\u00bb\",\"engenheiro\",\"\\uf06f\",\"espessuras\",\"fazendo\",\"reforma\",\"constitui\",\"professor\",\"aparente\",\"geologicas\",\"pequenos\",\"materials\",\"reduzida\",\"exercicio\",\"institute\",\"agitacao\",\"empregado\",\"ft\",\"lagoa\",\"combinacao\",\"aproveitamento\",\"envolvidos\",\"hydraulic\",\"resfriamento\",\"europa\",\"\\u001b\",\"ampliacao\",\"azul\",\"carbon\",\"fisicas\",\"participacoes\",\"sergipealagoas\",\"stratigraphic\",\"torres\",\"interessante\",\"mostrou\",\"refere\",\"altamente\",\"inter\",\"world\",\"diante\",\"fa\",\"medias\",\"test\",\"danos\",\"formada\",\"gera\",\"pedro\",\"ram\",\"available\",\"formando\",\"organismos\",\"penetracao\",\"previamente\",\"juntamente\",\"modificacoes\",\"subsuperficie\",\"tec\",\"atuais\",\"resultando\",\"considera\",\"gerada\",\"io\",\"rota\",\"estabelecimento\",\"realidade\",\"codigo\",\"massas\",\"reta\",\"albiano\",\"vegetais\",\"petrolifera\",\"excesso\",\"nenhum\",\"sais\",\"kgf\",\"natal\",\"ri\",\"structural\",\"est\",\"regionais\",\"significa\",\"dei\",\"detalhe\",\"equa\",\"facil\",\"fraturamento\",\"formados\",\"opcao\",\"revendedores\",\"us\",\"disponibilidade\",\"relativas\",\"reconhecimento\",\"versao\",\"gerencia\",\"havia\",\"sitios\",\"ativos\",\"restricoes\",\"cana\",\"fermentacao\",\"information\",\"vaso\",\"leva\",\"marinhos\",\"novamente\",\"secundaria\",\"sediments\",\"selecionados\",\"\\u03bc\",\"notas\",\"operador\",\"values\",\"desenvolvidas\",\"cretaceous\",\"alguma\",\"genero\",\"maritimo\",\"present\",\"adotado\",\"filme\",\"ligacao\",\"properties\",\"afloramentos\",\"avanco\",\"\\u0011\",\"car\",\"separador\",\"araujo\",\"cunha\",\"massica\",\"arcabouco\",\"estudada\",\"aluminio\",\"economicas\",\"graxos\",\"region\",\"usina\",\"finitos\",\"simulation\",\"talude\",\"engineers\",\"minimos\",\"permitiu\",\"mos\",\"distribution\",\"membranas\",\"retencao\",\"constituido\",\"geofisica\",\"jun\",\"montagem\",\"definidas\",\"performance\",\"sensores\",\"ampla\",\"atencao\",\"continuo\",\"inferiores\",\"macao\",\"puro\",\"diminui\",\"emulsao\",\"encontrado\",\"particula\",\"caxias\",\"london\",\"aberto\",\"case\",\"celulose\",\"tarifa\",\"tarifas\",\"vantagem\",\"correspondentes\",\"nenhuma\",\"atmosfera\",\"cu\",\"decreto\",\"derivado\",\"instituicao\",\"expanded\",\"figo\",\"segue\",\"\\u03bcm\",\"arquivo\",\"fixo\",\"ideia\",\"oh\",\"requer\",\"samples\",\"fornece\",\"potenciais\",\"ed\",\"complexos\",\"facilmente\",\"numeros\",\"order\",\"proximas\",\"atrito\",\"questoes\",\"canada\",\"numericos\",\"qav\",\"quartzo\",\"uni\",\"comparado\",\"estratigrafico\",\"licitacoes\",\"project\",\"paraiba\",\"bombas\",\"ir\",\"programacao\",\"carvalho\",\"transformacao\",\"bg\",\"localizada\",\"defesa\",\"laboratorios\",\"canadeacucar\",\"ficou\",\"preciso\",\"recente\",\"tracos\",\"condensado\",\"fenomenos\",\"internacionais\",\"mexico\",\"sugere\",\"verificacao\",\"sete\",\"experiencias\",\"feitos\",\"passando\",\"comparados\",\"\\u0005\",\"membros\",\"pdf\",\"complexidade\",\"estabelecido\",\"kpa\",\"number\",\"sen\",\"tam\",\"tende\",\"descarga\",\"receita\",\"apud\",\"contaminacao\",\"diario\",\"sub\",\"esperado\",\"leitura\",\"industry\",\"metade\",\"perfurados\",\"poderao\",\"alo\",\"espectros\",\"parnaiba\",\"bruto\",\"especificas\",\"chama\",\"distintos\",\"du\",\"folha\",\"general\",\"hora\",\"geoquimica\",\"nw\",\"territorio\",\"agradecimentos\",\"estabelecidos\",\"toneladas\",\"direcoes\",\"fez\",\"gr\",\"iguais\",\"terceira\",\"frequencias\",\"line\",\"chamado\",\"cloreto\",\"fluvial\",\"amsterdam\",\"campinas\",\"dificuldade\",\"praticas\",\"presented\",\"\\u0013\",\"litros\",\"ester\",\"models\",\"\\u0017\",\"comumente\",\"effect\",\"incluem\",\"transesterificacao\",\"verificase\",\"direito\",\"excecao\",\"exposto\",\"terceiro\",\"adotada\",\"emulsoes\",\"map\",\"tecnologicas\",\"aplicados\",\"application\",\"propostas\",\"anular\",\"caixa\",\"regulamentacao\",\"conservacao\",\"levar\",\"branca\",\"vidro\",\"fortemente\",\"fulgor\",\"posto\",\"pvc\",\"atendimento\",\"reserva\",\"virtude\",\"duque\",\"extremamente\",\"ga\",\"administracao\",\"limitacoes\",\"drenagem\",\"parafinas\",\"seletividade\",\"technical\",\"estimar\",\"medicoes\",\"promover\",\"reatores\",\"assunto\",\"atua\",\"livres\",\"opera\",\"tr\",\"acucar\",\"canal\",\"citado\",\"cone\",\"descrita\",\"amonia\",\"oleoduto\",\"provavel\",\"source\",\"cnp\",\"tensoativo\",\"air\",\"barbosa\",\"doce\",\"quebra\",\"gerando\",\"soares\",\"usuario\",\"aquosa\",\"aumentando\",\"futuros\",\"estudadas\",\"haver\",\"resolucoes\",\"fibras\",\"sulfato\",\"usp\",\"volta\",\"cujos\",\"related\",\"relatorios\",\"usadas\",\"acumulada\",\"adicional\",\"dissolucao\",\"fornecer\",\"vento\",\"\\uf02d\",\"acumulacao\",\"estudar\",\"ethanol\",\"permeacao\",\"rate\",\"\\u001a\",\"civil\",\"intuito\",\"melhoria\",\"provadas\",\"umidade\",\"instrumento\",\"tudo\",\"fusao\",\"preparo\",\"geo\",\"mme\",\"faixas\",\"possible\",\"publico\",\"dizer\",\"quantificacao\",\"capazes\",\"dt\",\"mostrados\",\"ostracodes\",\"earth\",\"ilustra\",\"quer\",\"similares\",\"incerteza\",\"primeiras\",\"viabilidade\",\"roberto\",\"fluxograma\",\"regular\",\"computador\",\"sumario\",\"terrestre\",\"\\u2022\\u2022\",\"brent\",\"garantia\",\"opep\",\"certa\",\"inclinacao\",\"processes\",\"salinidade\",\"atomos\",\"delta\",\"horizontais\",\"operar\",\"rela\",\"\\u03b8\",\"correspondem\",\"estimativas\",\"estocagem\",\"enfase\",\"significativamente\",\"auxilio\",\"bulletin\",\"levando\",\"placa\",\"descoberta\",\"poucos\",\"produ\",\"respectivas\",\"asfalto\",\"calcario\",\"determinadas\",\"fabrica\",\"niquel\",\"reservoirs\",\"desafios\",\"discussoes\",\"encontrada\",\"marcos\",\"renda\",\"pinto\",\"confiabilidade\",\"liberacao\",\"piloto\",\"castro\",\"crosta\",\"monopolio\",\"vermelho\",\"considerandose\",\"cromatografia\",\"ge\",\"nd\",\"companhias\",\"lineares\",\"pessoas\",\"tensoativos\",\"transpetro\",\"catalitica\",\"estatistica\",\"usa\",\"basal\",\"distrito\",\"fazem\",\"nestes\",\"adotados\",\"bras\",\"encontram\",\"entendimento\",\"margens\",\"movimentos\",\"produced\",\"respectivos\",\"superintendente\",\"acerca\",\"course\",\"ns\",\"porcentagem\",\"usinas\",\"governamentais\",\"matematica\",\"acrescimo\",\"perspectivas\",\"washington\",\"glycerol\",\"necessidades\",\"saude\",\"sinais\",\"margin\",\"st\",\"upper\",\"analisado\",\"anomalia\",\"vieira\",\"inversao\",\"meg\",\"organico\",\"pagamento\",\"vii\",\"vs\",\"envolve\",\"kw\",\"ln\",\"significativo\",\"vegetal\",\"estudado\",\"independente\",\"ipiranga\",\"th\",\"cinetica\",\"exp\",\"liquid\",\"relevante\",\"hidraulico\",\"management\",\"poderiam\",\"principios\",\"conexao\",\"activities\",\"documentos\",\"rapidamente\",\"tarefa\",\"ts\",\"glicose\",\"analitico\",\"compoem\",\"deformacoes\",\"denominado\",\"dimensao\",\"macae\",\"momentos\",\"dai\",\"denominada\",\"eo\",\"petroliferos\",\"determina\",\"aplicadas\",\"apre\",\"associacoes\",\"unicamp\",\"define\",\"envolvendo\",\"lopes\",\"montante\",\"oficial\",\"recentes\",\"compreensao\",\"fragmentos\",\"registros\",\"cimentacao\",\"comissao\",\"completo\",\"arranjo\",\"\\u00a7\",\"a\\u0014\",\"banda\",\"barril\",\"possibilidades\",\"bandas\",\"bolhas\",\"cacao\",\"diques\",\"foco\",\"obtemse\",\"produtoras\",\"edital\",\"leopoldo\",\"market\",\"reis\",\"activity\",\"arco\",\"eletrodo\",\"malhas\",\"refi\",\"three\",\"exploratorio\",\"fluviais\",\"nesses\",\"parcialmente\",\"recovery\",\"significativas\",\"tens\",\"deep\",\"oleodutos\",\"primeiramente\",\"tacao\",\"temas\",\"intensa\",\"residuais\",\"il\",\"portugal\",\"regulamento\",\"\\u0012\",\"\\u0016\",\"corrosion\",\"maquina\",\"caracterizada\",\"encontrar\",\"esteres\",\"however\",\"primaria\",\"heat\",\"melhorar\",\"patentes\",\"rigidez\",\"sergi\",\"terrestres\",\"variam\",\"ataque\",\"depositados\",\"elaborado\",\"indicado\",\"lignina\",\"magnitude\",\"todavia\",\"digital\",\"oceano\",\"boia\",\"crude\",\"liga\",\"aproximacao\",\"fisicos\",\"history\",\"tectonic\",\"teoricos\",\"certo\",\"defeitos\",\"dp\",\"regressao\",\"venezuela\",\"anomalias\",\"atlantic\",\"calha\",\"lavagem\",\"produz\",\"xi\",\"acid\",\"interacoes\",\"veiculo\",\"carta\",\"centros\",\"important\",\"poluicao\",\"queiroz\",\"usar\",\"apresentase\",\"passos\",\"exploratorios\",\"japao\",\"structure\",\"visa\",\"\\u2202\",\"ago\",\"geologists\",\"mecanicas\",\"metodologias\",\"possivelmente\",\"preenchimento\",\"destacar\",\"iso\",\"structures\",\"basicas\",\"carbonato\",\"dimensionamento\",\"representando\",\"san\",\"waste\",\"placas\",\"radial\",\"seca\",\"conglomerados\",\"dissolvido\",\"mapeamento\",\"oriente\",\"pessoa\",\"solimoes\",\"adocao\",\"direita\",\"frequentemente\",\"modeling\",\"poluentes\",\"rock\",\"frota\",\"grossa\",\"liquefeito\",\"observouse\",\"reduzido\",\"regulador\",\"years\",\"acidez\",\"convergencia\",\"estratigraficas\",\"preliminar\",\"recentemente\",\"bombeio\",\"assinatura\",\"costeira\",\"gel\",\"parafina\",\"pass\",\"tratamentos\",\"asfaltenos\",\"completamente\",\"conhecidos\",\"cores\",\"sdp\",\"atributos\",\"recebimento\",\"resources\",\"rosa\",\"ip\",\"texas\",\"exportacoes\",\"importadores\",\"populacao\",\"vel\",\"viii\",\"risers\",\"tubulacoes\",\"ativacao\",\"nal\",\"regra\",\"conformes\",\"dades\",\"expressa\",\"geradas\",\"leo\",\"referese\",\"\\u000e\\u0005\",\"gerador\",\"rev\",\"stage\",\"treatment\",\"respostas\",\"saber\",\"unit\",\"marlim\",\"tratase\",\"filtrado\",\"ligacoes\",\"cfd\",\"nucleo\",\"despesas\",\"esquerda\",\"etano\",\"modos\",\"ras\",\"tratado\",\"deu\",\"distribuidor\",\"irati\",\"ocorrencias\",\"oito\",\"prevencao\",\"compreende\",\"formar\",\"reynolds\",\"submetido\",\"precisa\",\"tio\",\"oportunidade\",\"positivo\",\"reagentes\",\"within\",\"developed\",\"parameters\",\"rapido\",\"comparativo\",\"cons\",\"eletricidade\",\"tomada\",\"zone\",\"estoques\",\"kj\",\"pouca\",\"estimada\",\"internas\",\"tornar\",\"alumina\",\"machado\",\"stream\",\"utilizam\",\"localizado\",\"lu\",\"beneficios\",\"dioxido\",\"\\u03bb\",\"critico\",\"fechamento\",\"hydrocarbons\",\"mobilidade\",\"pib\",\"point\",\"ribeiro\",\"validacao\",\"aisi\",\"complexa\",\"petroquimicas\",\"ria\",\"seccao\",\"controlada\",\"could\",\"orientador\",\"preservacao\",\"ali\",\"decisoes\",\"posicoes\",\"relevantes\",\"tura\",\"consideravel\",\"eoceno\",\"sismico\",\"gerenciamento\",\"gra\",\"incertezas\",\"modificacao\",\"paredes\",\"tg\",\"empregada\",\"ix\",\"tolueno\",\"bonito\",\"exceto\",\"level\",\"nestas\",\"permanente\",\"seguindo\",\"dispositivo\",\"fluids\",\"milhao\",\"submarinos\",\"sugestoes\",\"dinamico\",\"id\",\"idades\",\"metalicos\",\"ora\",\"escoamentos\",\"mestre\",\"nessas\",\"capilar\",\"geofisicos\",\"hidrato\",\"parada\",\"cot\",\"particularmente\",\"resistividade\",\"andrade\",\"categoria\",\"perfurado\",\"hidrogenacao\",\"investigacao\",\"standard\",\"bibliografica\",\"quality\",\"showing\",\"conformidades\",\"fault\",\"hidratos\",\"chegar\",\"continentais\",\"fun\",\"including\",\"mostrada\",\"redor\",\"thermal\",\"diminuir\",\"legal\",\"adicionais\",\"along\",\"sedi\",\"capa\",\"causar\",\"documento\",\"sobretudo\",\"\\u03b5\",\"cb\",\"conhecimentos\",\"disposicao\",\"catalysis\",\"cujas\",\"equatorial\",\"fcc\",\"ref\",\"\\u03c3\",\"d&i\",\"decomposicao\",\"eduardo\",\"injetado\",\"trajetoria\",\"biblioteca\",\"dr\",\"estratos\",\"infravermelho\",\"petroliferas\",\"trato\",\"uniforme\",\"posicionamento\",\"possuir\",\"sandstones\",\"caracterizado\",\"program\",\"teorica\",\"ui\",\"cap\",\"deposits\",\"observed\",\"rendimentos\",\"several\",\"sitio\",\"absoluta\",\"goias\",\"transportador\",\"diretrizes\",\"dispoe\",\"\\u00ab\",\"baseados\",\"geograficas\",\"atm\",\"instalada\",\"itens\",\"limitada\",\"medidos\",\"moura\",\"verificado\",\"cias\",\"compressor\",\"formato\",\"fundamentais\",\"municipio\",\"predominantemente\",\"proporcional\",\"centrais\",\"agricultura\",\"ativo\",\"bens\",\"north\",\"submersos\",\"\\u00b0f\",\"\\uf02b\",\"depth\",\"leilao\",\"baia\",\"cations\",\"competencia\",\"estabelecidas\",\"evaluation\",\"secretariaexecutiva\",\"vistas\",\"analitica\",\"bo\",\"miguez\",\"profunda\",\"range\",\"visual\",\"caminho\",\"emissions\",\"etilico\",\"matematico\",\"percentagem\",\"restricao\",\"ufrgs\",\"alcancar\",\"sw\",\"\\u03b4\",\"angular\",\"localizados\",\"minimizar\",\"paralelo\",\"porcoes\",\"propeno\",\"criar\",\"eteno\",\"facilidade\",\"partida\",\"subbacia\",\"afloramento\",\"foraminiferos\",\"jurassico\",\"molecula\",\"concluir\",\"cultivo\",\"depositional\",\"gravidade\",\"octanagem\",\"polietileno\",\"pres\",\"publicas\",\"applications\",\"estavel\",\"mergulho\",\"calculadas\",\"comercializado\",\"computacionais\",\"cultura\",\"essencialmente\",\"grafica\",\"previa\",\"tera\",\"acida\",\"mal\",\"renovaveis\",\"decorrentes\",\"fernandes\",\"hi\",\"laminas\",\"type\",\"geologos\",\"houston\",\"litoral\",\"lote\",\"nesw\",\"estimado\",\"filtros\",\"nbr\",\"pirolise\",\"\\u25b2\",\"onshore\",\"submetidos\",\"core\",\"estrategias\",\"faults\",\"reduz\",\"resultantes\",\"ag\",\"confianca\",\"facilitar\",\"independentes\",\"current\",\"ducao\",\"entalpia\",\"gem\",\"geologo\",\"intermediario\",\"department\",\"envolvidas\",\"fracionamento\",\"indicadores\",\"licitacao\",\"siltitos\",\"since\",\"trans\",\"anel\",\"motivo\",\"obra\",\"sedimento\",\"analisada\",\"consequente\",\"escolhido\",\"submarino\",\"catalysts\",\"rica\",\"rt\",\"company\"],\"x1\":{\"__ndarray__\":\"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\",\"dtype\":\"float32\",\"shape\":[3000]},\"x2\":{\"__ndarray__\":\"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\",\"dtype\":\"float32\",\"shape\":[3000]}}},\"id\":\"8cdcf6d7-b61b-4d33-8790-efb635277378\",\"type\":\"ColumnDataSource\"},{\"attributes\":{\"callback\":null},\"id\":\"af250026-b9db-4736-822f-a897637cd5c1\",\"type\":\"DataRange1d\"},{\"attributes\":{},\"id\":\"c8f6cfb9-8ea2-4b36-b817-99178d9109eb\",\"type\":\"BasicTicker\"},{\"attributes\":{},\"id\":\"7e34c14f-5c86-446d-b5c9-15d18a7a5fd9\",\"type\":\"ResetTool\"},{\"attributes\":{\"data_source\":{\"id\":\"8cdcf6d7-b61b-4d33-8790-efb635277378\",\"type\":\"ColumnDataSource\"},\"glyph\":{\"id\":\"8dedb9d2-cfa2-41b0-b6cf-5678147d5fd3\",\"type\":\"Circle\"},\"hover_glyph\":null,\"muted_glyph\":null,\"nonselection_glyph\":{\"id\":\"c78b22bf-c451-439f-a2ed-c9a8dc4262cb\",\"type\":\"Circle\"},\"selection_glyph\":null,\"view\":{\"id\":\"e883e0ae-e07d-4ced-9ff8-edd1e9483665\",\"type\":\"CDSView\"}},\"id\":\"6a242ce8-9976-4255-9f7a-ae9306c7aaca\",\"type\":\"GlyphRenderer\"},{\"attributes\":{\"source\":{\"id\":\"8cdcf6d7-b61b-4d33-8790-efb635277378\",\"type\":\"ColumnDataSource\"}},\"id\":\"e883e0ae-e07d-4ced-9ff8-edd1e9483665\",\"type\":\"CDSView\"},{\"attributes\":{},\"id\":\"00be37c1-af70-4050-a6bf-9b7624f58ca3\",\"type\":\"PanTool\"},{\"attributes\":{\"formatter\":{\"id\":\"7e190f8f-7b92-4b14-9123-ff7ee883b09a\",\"type\":\"BasicTickFormatter\"},\"plot\":{\"id\":\"b4ba3f74-663e-4c3e-81d6-d4f8c25a5aa1\",\"subtype\":\"Figure\",\"type\":\"Plot\"},\"ticker\":{\"id\":\"c8f6cfb9-8ea2-4b36-b817-99178d9109eb\",\"type\":\"BasicTicker\"}},\"id\":\"7adc9c01-4bcc-4461-ac6d-4c64297581ba\",\"type\":\"LinearAxis\"}],\"root_ids\":[\"b4ba3f74-663e-4c3e-81d6-d4f8c25a5aa1\"]},\"title\":\"Bokeh Application\",\"version\":\"0.12.10\"}};\n",
       "    var render_items = [{\"docid\":\"cbd67af2-756e-4420-92ea-568666bc1e28\",\"elementid\":\"69e0e25d-1182-4d9c-a782-5f2973f51270\",\"modelid\":\"b4ba3f74-663e-4c3e-81d6-d4f8c25a5aa1\"}];\n",
       "\n",
       "    root.Bokeh.embed.embed_items(docs_json, render_items);\n",
       "  }\n",
       "\n",
       "  if (root.Bokeh !== undefined) {\n",
       "    embed_document(root);\n",
       "  } else {\n",
       "    var attempts = 0;\n",
       "    var timer = setInterval(function(root) {\n",
       "      if (root.Bokeh !== undefined) {\n",
       "        embed_document(root);\n",
       "        clearInterval(timer);\n",
       "      }\n",
       "      attempts++;\n",
       "      if (attempts > 100) {\n",
       "        console.log(\"Bokeh: ERROR: Unable to embed document because BokehJS library is missing\")\n",
       "        clearInterval(timer);\n",
       "      }\n",
       "    }, 10, root)\n",
       "  }\n",
       "})(window);"
      ],
      "application/vnd.bokehjs_exec.v0+json": ""
     },
     "metadata": {
      "application/vnd.bokehjs_exec.v0+json": {
       "id": "b4ba3f74-663e-4c3e-81d6-d4f8c25a5aa1"
      }
     },
     "output_type": "display_data"
    }
   ],
   "source": [
    "p = figure(tools=\"pan,wheel_zoom,reset,save\",\n",
    "           toolbar_location=\"above\",\n",
    "           title=\"word2vec T-SNE for most common words\",\n",
    "           plot_width=900, \n",
    "           plot_height=900)\n",
    "\n",
    "source = ColumnDataSource(data=dict(x1=embed_tsne[:,0],\n",
    "                                    x2=embed_tsne[:,1],\n",
    "                                    names=vocabulario))\n",
    "\n",
    "p.scatter(x=\"x1\", y=\"x2\", size=8, source=source)\n",
    "\n",
    "labels = LabelSet(x=\"x1\", y=\"x2\", text=\"names\", y_offset=6,\n",
    "                  text_font_size=\"8pt\", text_color=\"#555555\",\n",
    "                  source=source, text_align='center')\n",
    "p.add_layout(labels)\n",
    "\n",
    "show(p)"
   ]
  },
  {
   "cell_type": "code",
   "execution_count": null,
   "metadata": {
    "collapsed": true
   },
   "outputs": [],
   "source": []
  },
  {
   "cell_type": "code",
   "execution_count": null,
   "metadata": {
    "collapsed": true
   },
   "outputs": [],
   "source": []
  }
 ],
 "metadata": {
  "kernelspec": {
   "display_name": "Python 3",
   "language": "python",
   "name": "python3"
  },
  "language_info": {
   "codemirror_mode": {
    "name": "ipython",
    "version": 3
   },
   "file_extension": ".py",
   "mimetype": "text/x-python",
   "name": "python",
   "nbconvert_exporter": "python",
   "pygments_lexer": "ipython3",
   "version": "3.6.3"
  }
 },
 "nbformat": 4,
 "nbformat_minor": 2
}
