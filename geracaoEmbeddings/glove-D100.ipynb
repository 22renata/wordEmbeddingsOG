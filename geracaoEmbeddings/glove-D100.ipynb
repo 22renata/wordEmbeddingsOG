{
 "cells": [
  {
   "cell_type": "code",
   "execution_count": 1,
   "metadata": {},
   "outputs": [
    {
     "name": "stderr",
     "output_type": "stream",
     "text": [
      "C:\\Users\\czl6\\AppData\\Local\\Continuum\\anaconda3\\lib\\site-packages\\gensim\\utils.py:865: UserWarning: detected Windows; aliasing chunkize to chunkize_serial\n",
      "  warnings.warn(\"detected Windows; aliasing chunkize to chunkize_serial\")\n"
     ]
    }
   ],
   "source": [
    "import gensim\n",
    "from gensim.models import KeyedVectors\n",
    "import os\n",
    "from pathlib import Path\n",
    "import datetime"
   ]
  },
  {
   "cell_type": "code",
   "execution_count": 2,
   "metadata": {
    "collapsed": true
   },
   "outputs": [],
   "source": [
    "# convert GloVe to Gensim format\n",
    "# https://radimrehurek.com/gensim/scripts/glove2word2vec.html\n",
    "#from gensim.test.utils import datapath, get_tmpfile\n",
    "#from gensim.models import KeyedVectors\n",
    "\n",
    "#glove_file = datapath('modelos/glove-50.txt')\n",
    "#tmp_file = get_tmpfile(\"modelos/glove-gensim-50.txt\")\n",
    "#from gensim.scripts.glove2word2vec import glove2word2vec\n",
    "#glove2word2vec(glove_file, tmp_file)"
   ]
  },
  {
   "cell_type": "markdown",
   "metadata": {},
   "source": [
    "## Considerando vetor de embedding com 100 dimensões"
   ]
  },
  {
   "cell_type": "code",
   "execution_count": 4,
   "metadata": {},
   "outputs": [],
   "source": [
    "# Salvando o modelo\n",
    "arquivoModelo = os.path.join(\"modelos\", 'glove-100.txt')\n",
    "model = KeyedVectors.load_word2vec_format(arquivoModelo, unicode_errors=\"ignore\")"
   ]
  },
  {
   "cell_type": "code",
   "execution_count": 5,
   "metadata": {
    "collapsed": true
   },
   "outputs": [],
   "source": [
    "vocab = model.wv.index2word"
   ]
  },
  {
   "cell_type": "code",
   "execution_count": 6,
   "metadata": {},
   "outputs": [
    {
     "name": "stdout",
     "output_type": "stream",
     "text": [
      "['cid', 'sao', 'nao', 'gas', 'petroleo', 'ser', 'rio', 'petrobras', 'figura', 'producao']\n",
      "Tamanho do Vocabulario:  77182\n"
     ]
    }
   ],
   "source": [
    "print(vocab[:10])\n",
    "print('Tamanho do Vocabulario: ', len(vocab))"
   ]
  },
  {
   "cell_type": "code",
   "execution_count": 7,
   "metadata": {},
   "outputs": [
    {
     "name": "stdout",
     "output_type": "stream",
     "text": [
      "Word2vec: [('gasmigfirmegeral', 0.9124213457107544), ('rpbajdirex', 0.7509245872497559), ('cenpes', 0.6594301462173462), ('janeiropetrobras', 0.6253244876861572), ('riodejaneiro', 0.6202174425125122), ('ecoscientia', 0.6084066033363342), ('mercedes·benz', 0.5997111797332764), ('maurischat', 0.5965620875358582), ('empresa', 0.5958917737007141), ('dadosestatisticos', 0.5909470319747925)]\n"
     ]
    }
   ],
   "source": [
    "print(\"Word2vec:\", model.most_similar(\"petrobras\"))"
   ]
  },
  {
   "cell_type": "code",
   "execution_count": 8,
   "metadata": {},
   "outputs": [
    {
     "name": "stdout",
     "output_type": "stream",
     "text": [
      "Word2vec: [('covetorial', 0.836552619934082), ('campos', 0.6118323802947998), ('ecoscientia', 0.5741686224937439), ('gzmax', 0.556412935256958), ('reservatorio', 0.5528898239135742), ('pocos', 0.5520389676094055), ('exemplo', 0.5443481206893921), ('potencial', 0.5440205335617065), ('sm\\uf044', 0.5424942374229431), ('petrolifero', 0.5385518074035645)]\n"
     ]
    }
   ],
   "source": [
    "print(\"Word2vec:\", model.most_similar(\"campo\"))"
   ]
  },
  {
   "cell_type": "code",
   "execution_count": 9,
   "metadata": {},
   "outputs": [
    {
     "name": "stdout",
     "output_type": "stream",
     "text": [
      "Word2vec: [('albacora', 0.7255210876464844), ('barracuda', 0.6945388317108154), ('moreia', 0.6429729461669922), ('jubarte', 0.6322823166847229), ('roncador', 0.6100524663925171), ('marimba', 0.6094343662261963), ('ssao', 0.5978552103042603), ('itapu', 0.5699419379234314), ('tldbms', 0.569850742816925), ('caratinga', 0.5259542465209961)]\n"
     ]
    }
   ],
   "source": [
    "print(\"Word2vec:\", model.most_similar(\"marlim\"))"
   ]
  },
  {
   "cell_type": "code",
   "execution_count": 10,
   "metadata": {},
   "outputs": [
    {
     "name": "stdout",
     "output_type": "stream",
     "text": [
      "Word2vec: [('catole', 0.7703311443328857), ('ldalina', 0.6646495461463928), ('porosidade', 0.6251285076141357), ('maronna', 0.6157158613204956), ('parental', 0.6044762134552002), ('encaixante', 0.6038857698440552), ('poroso', 0.6031336188316345), ('ignimbritica', 0.6005433797836304), ('idalina', 0.5989927649497986), ('sedimento', 0.5950610041618347)]\n"
     ]
    }
   ],
   "source": [
    "print(\"Word2vec:\", model.most_similar(\"rocha\"))"
   ]
  },
  {
   "cell_type": "code",
   "execution_count": 11,
   "metadata": {},
   "outputs": [
    {
     "name": "stdout",
     "output_type": "stream",
     "text": [
      "Word2vec: [('permeabilidade', 0.7922776937484741), ('rocha', 0.6251285672187805), ('reservatorio', 0.5965573787689209), ('moldica', 0.594086229801178), ('saturacao', 0.5782444477081299), ('intragranular', 0.5663397312164307), ('poroso', 0.5637535452842712), ('permeabili', 0.5583644509315491), ('relativa', 0.5544126033782959), ('diagenese', 0.5517241954803467)]\n"
     ]
    }
   ],
   "source": [
    "print(\"Word2vec:\", model.most_similar(\"porosidade\"))"
   ]
  },
  {
   "cell_type": "code",
   "execution_count": 12,
   "metadata": {},
   "outputs": [
    {
     "name": "stdout",
     "output_type": "stream",
     "text": [
      "Word2vec: [('porosidade', 0.7922775745391846), ('saturacao', 0.6171507835388184), ('relativa', 0.6109196543693542), ('reservatorio', 0.5798909068107605), ('poroso', 0.5754102468490601), ('solubilidade', 0.5700403451919556), ('baixa', 0.5646684169769287), ('entradastotal', 0.5560261607170105), ('socialcoleta', 0.5542765855789185), ('meabilidade', 0.5491174459457397)]\n"
     ]
    }
   ],
   "source": [
    "print(\"Word2vec:\", model.most_similar(\"permeabilidade\"))"
   ]
  },
  {
   "cell_type": "code",
   "execution_count": 13,
   "metadata": {},
   "outputs": [
    {
     "name": "stdout",
     "output_type": "stream",
     "text": [
      "Word2vec: [('fabricaquimica', 0.6956173181533813), ('eternal', 0.6747087240219116), ('exploracao', 0.6527308821678162), ('petroleo', 0.652143120765686), ('ecoscientia', 0.6502993106842041), ('\\x14\\x17\\x10\\x11\\x15', 0.6163680553436279), ('t\\uf040ano\\uf044', 0.6068476438522339), ('consumo', 0.5924985408782959), ('produzido', 0.5920986533164978), ('alem', 0.5881767868995667)]\n"
     ]
    }
   ],
   "source": [
    "print(\"Word2vec:\", model.most_similar(\"producao\"))"
   ]
  },
  {
   "cell_type": "code",
   "execution_count": 14,
   "metadata": {},
   "outputs": [
    {
     "name": "stdout",
     "output_type": "stream",
     "text": [
      "Word2vec: [('agua', 0.6877912282943726), ('naboforrageiro', 0.6755478978157043), ('qualificacaoagentesimportadores', 0.6598918437957764), ('diesel', 0.6023977398872375), ('sulbrasil', 0.5943512320518494), ('saidastotal', 0.590653121471405), ('\\x19\\x18\\x0e\\x05', 0.5904985070228577), ('enquanto', 0.5899069905281067), ('oleos', 0.5877017974853516), ('volume', 0.5841364860534668)]\n"
     ]
    }
   ],
   "source": [
    "print(\"Word2vec:\", model.most_similar(\"oleo\"))"
   ]
  },
  {
   "cell_type": "code",
   "execution_count": 15,
   "metadata": {},
   "outputs": [
    {
     "name": "stdout",
     "output_type": "stream",
     "text": [
      "Word2vec: [('reservatorios', 0.7245223522186279), ('poroso', 0.6732292175292969), ('pressao', 0.6017851829528809), ('injecao', 0.5981217622756958), ('porosidade', 0.5965573787689209), ('fluido', 0.5909149646759033), ('\\x03\\x0e\\x02\\x02\\x05', 0.5886223912239075), ('permeabilidade', 0.5798909068107605), ('pocos', 0.5747387409210205), ('t\\uf040ano\\uf044', 0.5706816911697388)]\n"
     ]
    }
   ],
   "source": [
    "print(\"Word2vec:\", model.most_similar(\"reservatorio\"))"
   ]
  },
  {
   "cell_type": "code",
   "execution_count": 17,
   "metadata": {
    "collapsed": true
   },
   "outputs": [],
   "source": [
    "%matplotlib inline\n",
    "%config InlineBackend.figure_format = 'retina'\n",
    "\n",
    "\n",
    "import matplotlib.pyplot as plt\n",
    "from sklearn.manifold import TSNE\n",
    "import numpy as np"
   ]
  },
  {
   "cell_type": "code",
   "execution_count": 18,
   "metadata": {},
   "outputs": [
    {
     "name": "stdout",
     "output_type": "stream",
     "text": [
      "1000\n",
      "(1000, 100)\n"
     ]
    }
   ],
   "source": [
    "vocab_init = 0\n",
    "num_palavras = 1000\n",
    "\n",
    "vocabulario = model.wv.index2word\n",
    "vocabulario = vocabulario[:num_palavras]\n",
    "print(len(vocabulario))\n",
    "\n",
    "vetores = list()\n",
    "for id in range(vocab_init, num_palavras):\n",
    "    vetores.append(model.wv.word_vec(vocabulario[id]));\n",
    "\n",
    "matrix = np.vstack(vetores)    \n",
    "    \n",
    "print(matrix.shape)"
   ]
  },
  {
   "cell_type": "code",
   "execution_count": 19,
   "metadata": {},
   "outputs": [
    {
     "name": "stdout",
     "output_type": "stream",
     "text": [
      "Wall time: 32.3 s\n"
     ]
    }
   ],
   "source": [
    "%%time\n",
    "tsne = TSNE(n_components=2, random_state=0)\n",
    "embed_tsne = tsne.fit_transform(vetores)"
   ]
  },
  {
   "cell_type": "code",
   "execution_count": 20,
   "metadata": {},
   "outputs": [
    {
     "data": {
      "text/html": [
       "\n",
       "    <div class=\"bk-root\">\n",
       "        <a href=\"https://bokeh.pydata.org\" target=\"_blank\" class=\"bk-logo bk-logo-small bk-logo-notebook\"></a>\n",
       "        <span id=\"e4d64ddb-c579-4fdd-8298-6a13e0bd03ee\">Loading BokehJS ...</span>\n",
       "    </div>"
      ]
     },
     "metadata": {},
     "output_type": "display_data"
    },
    {
     "data": {
      "application/javascript": [
       "\n",
       "(function(root) {\n",
       "  function now() {\n",
       "    return new Date();\n",
       "  }\n",
       "\n",
       "  var force = true;\n",
       "\n",
       "  if (typeof (root._bokeh_onload_callbacks) === \"undefined\" || force === true) {\n",
       "    root._bokeh_onload_callbacks = [];\n",
       "    root._bokeh_is_loading = undefined;\n",
       "  }\n",
       "\n",
       "  var JS_MIME_TYPE = 'application/javascript';\n",
       "  var HTML_MIME_TYPE = 'text/html';\n",
       "  var EXEC_MIME_TYPE = 'application/vnd.bokehjs_exec.v0+json';\n",
       "  var CLASS_NAME = 'output_bokeh rendered_html';\n",
       "\n",
       "  /**\n",
       "   * Render data to the DOM node\n",
       "   */\n",
       "  function render(props, node) {\n",
       "    var script = document.createElement(\"script\");\n",
       "    node.appendChild(script);\n",
       "  }\n",
       "\n",
       "  /**\n",
       "   * Handle when an output is cleared or removed\n",
       "   */\n",
       "  function handleClearOutput(event, handle) {\n",
       "    var cell = handle.cell;\n",
       "\n",
       "    var id = cell.output_area._bokeh_element_id;\n",
       "    var server_id = cell.output_area._bokeh_server_id;\n",
       "    // Clean up Bokeh references\n",
       "    if (id !== undefined) {\n",
       "      Bokeh.index[id].model.document.clear();\n",
       "      delete Bokeh.index[id];\n",
       "    }\n",
       "\n",
       "    if (server_id !== undefined) {\n",
       "      // Clean up Bokeh references\n",
       "      var cmd = \"from bokeh.io.state import curstate; print(curstate().uuid_to_server['\" + server_id + \"'].get_sessions()[0].document.roots[0]._id)\";\n",
       "      cell.notebook.kernel.execute(cmd, {\n",
       "        iopub: {\n",
       "          output: function(msg) {\n",
       "            var element_id = msg.content.text.trim();\n",
       "            Bokeh.index[element_id].model.document.clear();\n",
       "            delete Bokeh.index[element_id];\n",
       "          }\n",
       "        }\n",
       "      });\n",
       "      // Destroy server and session\n",
       "      var cmd = \"import bokeh.io.notebook as ion; ion.destroy_server('\" + server_id + \"')\";\n",
       "      cell.notebook.kernel.execute(cmd);\n",
       "    }\n",
       "  }\n",
       "\n",
       "  /**\n",
       "   * Handle when a new output is added\n",
       "   */\n",
       "  function handleAddOutput(event, handle) {\n",
       "    var output_area = handle.output_area;\n",
       "    var output = handle.output;\n",
       "\n",
       "    // limit handleAddOutput to display_data with EXEC_MIME_TYPE content only\n",
       "    if ((output.output_type != \"display_data\") || (!output.data.hasOwnProperty(EXEC_MIME_TYPE))) {\n",
       "      return\n",
       "    }\n",
       "\n",
       "    var toinsert = output_area.element.find(`.${CLASS_NAME.split(' ')[0]}`);\n",
       "\n",
       "    if (output.metadata[EXEC_MIME_TYPE][\"id\"] !== undefined) {\n",
       "      toinsert[0].firstChild.textContent = output.data[JS_MIME_TYPE];\n",
       "      // store reference to embed id on output_area\n",
       "      output_area._bokeh_element_id = output.metadata[EXEC_MIME_TYPE][\"id\"];\n",
       "    }\n",
       "    if (output.metadata[EXEC_MIME_TYPE][\"server_id\"] !== undefined) {\n",
       "      var bk_div = document.createElement(\"div\");\n",
       "      bk_div.innerHTML = output.data[HTML_MIME_TYPE];\n",
       "      var script_attrs = bk_div.children[0].attributes;\n",
       "      for (var i = 0; i < script_attrs.length; i++) {\n",
       "        toinsert[0].firstChild.setAttribute(script_attrs[i].name, script_attrs[i].value);\n",
       "      }\n",
       "      // store reference to server id on output_area\n",
       "      output_area._bokeh_server_id = output.metadata[EXEC_MIME_TYPE][\"server_id\"];\n",
       "    }\n",
       "  }\n",
       "\n",
       "  function register_renderer(events, OutputArea) {\n",
       "\n",
       "    function append_mime(data, metadata, element) {\n",
       "      // create a DOM node to render to\n",
       "      var toinsert = this.create_output_subarea(\n",
       "        metadata,\n",
       "        CLASS_NAME,\n",
       "        EXEC_MIME_TYPE\n",
       "      );\n",
       "      this.keyboard_manager.register_events(toinsert);\n",
       "      // Render to node\n",
       "      var props = {data: data, metadata: metadata[EXEC_MIME_TYPE]};\n",
       "      render(props, toinsert[0]);\n",
       "      element.append(toinsert);\n",
       "      return toinsert\n",
       "    }\n",
       "\n",
       "    /* Handle when an output is cleared or removed */\n",
       "    events.on('clear_output.CodeCell', handleClearOutput);\n",
       "    events.on('delete.Cell', handleClearOutput);\n",
       "\n",
       "    /* Handle when a new output is added */\n",
       "    events.on('output_added.OutputArea', handleAddOutput);\n",
       "\n",
       "    /**\n",
       "     * Register the mime type and append_mime function with output_area\n",
       "     */\n",
       "    OutputArea.prototype.register_mime_type(EXEC_MIME_TYPE, append_mime, {\n",
       "      /* Is output safe? */\n",
       "      safe: true,\n",
       "      /* Index of renderer in `output_area.display_order` */\n",
       "      index: 0\n",
       "    });\n",
       "  }\n",
       "\n",
       "  // register the mime type if in Jupyter Notebook environment and previously unregistered\n",
       "  if (root.Jupyter !== undefined) {\n",
       "    var events = require('base/js/events');\n",
       "    var OutputArea = require('notebook/js/outputarea').OutputArea;\n",
       "\n",
       "    if (OutputArea.prototype.mime_types().indexOf(EXEC_MIME_TYPE) == -1) {\n",
       "      register_renderer(events, OutputArea);\n",
       "    }\n",
       "  }\n",
       "\n",
       "  \n",
       "  if (typeof (root._bokeh_timeout) === \"undefined\" || force === true) {\n",
       "    root._bokeh_timeout = Date.now() + 5000;\n",
       "    root._bokeh_failed_load = false;\n",
       "  }\n",
       "\n",
       "  var NB_LOAD_WARNING = {'data': {'text/html':\n",
       "     \"<div style='background-color: #fdd'>\\n\"+\n",
       "     \"<p>\\n\"+\n",
       "     \"BokehJS does not appear to have successfully loaded. If loading BokehJS from CDN, this \\n\"+\n",
       "     \"may be due to a slow or bad network connection. Possible fixes:\\n\"+\n",
       "     \"</p>\\n\"+\n",
       "     \"<ul>\\n\"+\n",
       "     \"<li>re-rerun `output_notebook()` to attempt to load from CDN again, or</li>\\n\"+\n",
       "     \"<li>use INLINE resources instead, as so:</li>\\n\"+\n",
       "     \"</ul>\\n\"+\n",
       "     \"<code>\\n\"+\n",
       "     \"from bokeh.resources import INLINE\\n\"+\n",
       "     \"output_notebook(resources=INLINE)\\n\"+\n",
       "     \"</code>\\n\"+\n",
       "     \"</div>\"}};\n",
       "\n",
       "  function display_loaded() {\n",
       "    var el = document.getElementById(\"e4d64ddb-c579-4fdd-8298-6a13e0bd03ee\");\n",
       "    if (el != null) {\n",
       "      el.textContent = \"BokehJS is loading...\";\n",
       "    }\n",
       "    if (root.Bokeh !== undefined) {\n",
       "      if (el != null) {\n",
       "        el.textContent = \"BokehJS \" + root.Bokeh.version + \" successfully loaded.\";\n",
       "      }\n",
       "    } else if (Date.now() < root._bokeh_timeout) {\n",
       "      setTimeout(display_loaded, 100)\n",
       "    }\n",
       "  }\n",
       "\n",
       "\n",
       "  function run_callbacks() {\n",
       "    try {\n",
       "      root._bokeh_onload_callbacks.forEach(function(callback) { callback() });\n",
       "    }\n",
       "    finally {\n",
       "      delete root._bokeh_onload_callbacks\n",
       "    }\n",
       "    console.info(\"Bokeh: all callbacks have finished\");\n",
       "  }\n",
       "\n",
       "  function load_libs(js_urls, callback) {\n",
       "    root._bokeh_onload_callbacks.push(callback);\n",
       "    if (root._bokeh_is_loading > 0) {\n",
       "      console.log(\"Bokeh: BokehJS is being loaded, scheduling callback at\", now());\n",
       "      return null;\n",
       "    }\n",
       "    if (js_urls == null || js_urls.length === 0) {\n",
       "      run_callbacks();\n",
       "      return null;\n",
       "    }\n",
       "    console.log(\"Bokeh: BokehJS not loaded, scheduling load and callback at\", now());\n",
       "    root._bokeh_is_loading = js_urls.length;\n",
       "    for (var i = 0; i < js_urls.length; i++) {\n",
       "      var url = js_urls[i];\n",
       "      var s = document.createElement('script');\n",
       "      s.src = url;\n",
       "      s.async = false;\n",
       "      s.onreadystatechange = s.onload = function() {\n",
       "        root._bokeh_is_loading--;\n",
       "        if (root._bokeh_is_loading === 0) {\n",
       "          console.log(\"Bokeh: all BokehJS libraries loaded\");\n",
       "          run_callbacks()\n",
       "        }\n",
       "      };\n",
       "      s.onerror = function() {\n",
       "        console.warn(\"failed to load library \" + url);\n",
       "      };\n",
       "      console.log(\"Bokeh: injecting script tag for BokehJS library: \", url);\n",
       "      document.getElementsByTagName(\"head\")[0].appendChild(s);\n",
       "    }\n",
       "  };var element = document.getElementById(\"e4d64ddb-c579-4fdd-8298-6a13e0bd03ee\");\n",
       "  if (element == null) {\n",
       "    console.log(\"Bokeh: ERROR: autoload.js configured with elementid 'e4d64ddb-c579-4fdd-8298-6a13e0bd03ee' but no matching script tag was found. \")\n",
       "    return false;\n",
       "  }\n",
       "\n",
       "  var js_urls = [\"https://cdn.pydata.org/bokeh/release/bokeh-0.12.10.min.js\", \"https://cdn.pydata.org/bokeh/release/bokeh-widgets-0.12.10.min.js\", \"https://cdn.pydata.org/bokeh/release/bokeh-tables-0.12.10.min.js\", \"https://cdn.pydata.org/bokeh/release/bokeh-gl-0.12.10.min.js\"];\n",
       "\n",
       "  var inline_js = [\n",
       "    function(Bokeh) {\n",
       "      Bokeh.set_log_level(\"info\");\n",
       "    },\n",
       "    \n",
       "    function(Bokeh) {\n",
       "      \n",
       "    },\n",
       "    function(Bokeh) {\n",
       "      console.log(\"Bokeh: injecting CSS: https://cdn.pydata.org/bokeh/release/bokeh-0.12.10.min.css\");\n",
       "      Bokeh.embed.inject_css(\"https://cdn.pydata.org/bokeh/release/bokeh-0.12.10.min.css\");\n",
       "      console.log(\"Bokeh: injecting CSS: https://cdn.pydata.org/bokeh/release/bokeh-widgets-0.12.10.min.css\");\n",
       "      Bokeh.embed.inject_css(\"https://cdn.pydata.org/bokeh/release/bokeh-widgets-0.12.10.min.css\");\n",
       "      console.log(\"Bokeh: injecting CSS: https://cdn.pydata.org/bokeh/release/bokeh-tables-0.12.10.min.css\");\n",
       "      Bokeh.embed.inject_css(\"https://cdn.pydata.org/bokeh/release/bokeh-tables-0.12.10.min.css\");\n",
       "    }\n",
       "  ];\n",
       "\n",
       "  function run_inline_js() {\n",
       "    \n",
       "    if ((root.Bokeh !== undefined) || (force === true)) {\n",
       "      for (var i = 0; i < inline_js.length; i++) {\n",
       "        inline_js[i].call(root, root.Bokeh);\n",
       "      }if (force === true) {\n",
       "        display_loaded();\n",
       "      }} else if (Date.now() < root._bokeh_timeout) {\n",
       "      setTimeout(run_inline_js, 100);\n",
       "    } else if (!root._bokeh_failed_load) {\n",
       "      console.log(\"Bokeh: BokehJS failed to load within specified timeout.\");\n",
       "      root._bokeh_failed_load = true;\n",
       "    } else if (force !== true) {\n",
       "      var cell = $(document.getElementById(\"e4d64ddb-c579-4fdd-8298-6a13e0bd03ee\")).parents('.cell').data().cell;\n",
       "      cell.output_area.append_execute_result(NB_LOAD_WARNING)\n",
       "    }\n",
       "\n",
       "  }\n",
       "\n",
       "  if (root._bokeh_is_loading === 0) {\n",
       "    console.log(\"Bokeh: BokehJS loaded, going straight to plotting\");\n",
       "    run_inline_js();\n",
       "  } else {\n",
       "    load_libs(js_urls, function() {\n",
       "      console.log(\"Bokeh: BokehJS plotting callback run at\", now());\n",
       "      run_inline_js();\n",
       "    });\n",
       "  }\n",
       "}(window));"
      ],
      "application/vnd.bokehjs_load.v0+json": "\n(function(root) {\n  function now() {\n    return new Date();\n  }\n\n  var force = true;\n\n  if (typeof (root._bokeh_onload_callbacks) === \"undefined\" || force === true) {\n    root._bokeh_onload_callbacks = [];\n    root._bokeh_is_loading = undefined;\n  }\n\n  \n\n  \n  if (typeof (root._bokeh_timeout) === \"undefined\" || force === true) {\n    root._bokeh_timeout = Date.now() + 5000;\n    root._bokeh_failed_load = false;\n  }\n\n  var NB_LOAD_WARNING = {'data': {'text/html':\n     \"<div style='background-color: #fdd'>\\n\"+\n     \"<p>\\n\"+\n     \"BokehJS does not appear to have successfully loaded. If loading BokehJS from CDN, this \\n\"+\n     \"may be due to a slow or bad network connection. Possible fixes:\\n\"+\n     \"</p>\\n\"+\n     \"<ul>\\n\"+\n     \"<li>re-rerun `output_notebook()` to attempt to load from CDN again, or</li>\\n\"+\n     \"<li>use INLINE resources instead, as so:</li>\\n\"+\n     \"</ul>\\n\"+\n     \"<code>\\n\"+\n     \"from bokeh.resources import INLINE\\n\"+\n     \"output_notebook(resources=INLINE)\\n\"+\n     \"</code>\\n\"+\n     \"</div>\"}};\n\n  function display_loaded() {\n    var el = document.getElementById(\"e4d64ddb-c579-4fdd-8298-6a13e0bd03ee\");\n    if (el != null) {\n      el.textContent = \"BokehJS is loading...\";\n    }\n    if (root.Bokeh !== undefined) {\n      if (el != null) {\n        el.textContent = \"BokehJS \" + root.Bokeh.version + \" successfully loaded.\";\n      }\n    } else if (Date.now() < root._bokeh_timeout) {\n      setTimeout(display_loaded, 100)\n    }\n  }\n\n\n  function run_callbacks() {\n    try {\n      root._bokeh_onload_callbacks.forEach(function(callback) { callback() });\n    }\n    finally {\n      delete root._bokeh_onload_callbacks\n    }\n    console.info(\"Bokeh: all callbacks have finished\");\n  }\n\n  function load_libs(js_urls, callback) {\n    root._bokeh_onload_callbacks.push(callback);\n    if (root._bokeh_is_loading > 0) {\n      console.log(\"Bokeh: BokehJS is being loaded, scheduling callback at\", now());\n      return null;\n    }\n    if (js_urls == null || js_urls.length === 0) {\n      run_callbacks();\n      return null;\n    }\n    console.log(\"Bokeh: BokehJS not loaded, scheduling load and callback at\", now());\n    root._bokeh_is_loading = js_urls.length;\n    for (var i = 0; i < js_urls.length; i++) {\n      var url = js_urls[i];\n      var s = document.createElement('script');\n      s.src = url;\n      s.async = false;\n      s.onreadystatechange = s.onload = function() {\n        root._bokeh_is_loading--;\n        if (root._bokeh_is_loading === 0) {\n          console.log(\"Bokeh: all BokehJS libraries loaded\");\n          run_callbacks()\n        }\n      };\n      s.onerror = function() {\n        console.warn(\"failed to load library \" + url);\n      };\n      console.log(\"Bokeh: injecting script tag for BokehJS library: \", url);\n      document.getElementsByTagName(\"head\")[0].appendChild(s);\n    }\n  };var element = document.getElementById(\"e4d64ddb-c579-4fdd-8298-6a13e0bd03ee\");\n  if (element == null) {\n    console.log(\"Bokeh: ERROR: autoload.js configured with elementid 'e4d64ddb-c579-4fdd-8298-6a13e0bd03ee' but no matching script tag was found. \")\n    return false;\n  }\n\n  var js_urls = [\"https://cdn.pydata.org/bokeh/release/bokeh-0.12.10.min.js\", \"https://cdn.pydata.org/bokeh/release/bokeh-widgets-0.12.10.min.js\", \"https://cdn.pydata.org/bokeh/release/bokeh-tables-0.12.10.min.js\", \"https://cdn.pydata.org/bokeh/release/bokeh-gl-0.12.10.min.js\"];\n\n  var inline_js = [\n    function(Bokeh) {\n      Bokeh.set_log_level(\"info\");\n    },\n    \n    function(Bokeh) {\n      \n    },\n    function(Bokeh) {\n      console.log(\"Bokeh: injecting CSS: https://cdn.pydata.org/bokeh/release/bokeh-0.12.10.min.css\");\n      Bokeh.embed.inject_css(\"https://cdn.pydata.org/bokeh/release/bokeh-0.12.10.min.css\");\n      console.log(\"Bokeh: injecting CSS: https://cdn.pydata.org/bokeh/release/bokeh-widgets-0.12.10.min.css\");\n      Bokeh.embed.inject_css(\"https://cdn.pydata.org/bokeh/release/bokeh-widgets-0.12.10.min.css\");\n      console.log(\"Bokeh: injecting CSS: https://cdn.pydata.org/bokeh/release/bokeh-tables-0.12.10.min.css\");\n      Bokeh.embed.inject_css(\"https://cdn.pydata.org/bokeh/release/bokeh-tables-0.12.10.min.css\");\n    }\n  ];\n\n  function run_inline_js() {\n    \n    if ((root.Bokeh !== undefined) || (force === true)) {\n      for (var i = 0; i < inline_js.length; i++) {\n        inline_js[i].call(root, root.Bokeh);\n      }if (force === true) {\n        display_loaded();\n      }} else if (Date.now() < root._bokeh_timeout) {\n      setTimeout(run_inline_js, 100);\n    } else if (!root._bokeh_failed_load) {\n      console.log(\"Bokeh: BokehJS failed to load within specified timeout.\");\n      root._bokeh_failed_load = true;\n    } else if (force !== true) {\n      var cell = $(document.getElementById(\"e4d64ddb-c579-4fdd-8298-6a13e0bd03ee\")).parents('.cell').data().cell;\n      cell.output_area.append_execute_result(NB_LOAD_WARNING)\n    }\n\n  }\n\n  if (root._bokeh_is_loading === 0) {\n    console.log(\"Bokeh: BokehJS loaded, going straight to plotting\");\n    run_inline_js();\n  } else {\n    load_libs(js_urls, function() {\n      console.log(\"Bokeh: BokehJS plotting callback run at\", now());\n      run_inline_js();\n    });\n  }\n}(window));"
     },
     "metadata": {},
     "output_type": "display_data"
    }
   ],
   "source": [
    "from bokeh.models import ColumnDataSource, LabelSet\n",
    "from bokeh.plotting import figure, show, output_file\n",
    "from bokeh.io import output_notebook\n",
    "import bokeh\n",
    "output_notebook()\n"
   ]
  },
  {
   "cell_type": "code",
   "execution_count": 21,
   "metadata": {},
   "outputs": [
    {
     "data": {
      "text/html": [
       "\n",
       "<div class=\"bk-root\">\n",
       "    <div class=\"bk-plotdiv\" id=\"e34672a7-4a7f-4c7b-9aa3-6e449146e58c\"></div>\n",
       "</div>"
      ]
     },
     "metadata": {},
     "output_type": "display_data"
    },
    {
     "data": {
      "application/javascript": [
       "(function(root) {\n",
       "  function embed_document(root) {\n",
       "    var docs_json = {\"92d57bf4-6446-4d80-bd3d-89b3b6c24ac8\":{\"roots\":{\"references\":[{\"attributes\":{\"below\":[{\"id\":\"1471d7ad-9a90-4b29-87a4-e227466b08be\",\"type\":\"LinearAxis\"}],\"left\":[{\"id\":\"ff0f9811-fa31-4754-b76a-7703a45930af\",\"type\":\"LinearAxis\"}],\"plot_height\":900,\"plot_width\":900,\"renderers\":[{\"id\":\"1471d7ad-9a90-4b29-87a4-e227466b08be\",\"type\":\"LinearAxis\"},{\"id\":\"cb1a7ac5-813c-407e-bf91-d96603768ca4\",\"type\":\"Grid\"},{\"id\":\"ff0f9811-fa31-4754-b76a-7703a45930af\",\"type\":\"LinearAxis\"},{\"id\":\"a6b3cd8c-99ab-4b8e-95f1-6dfb2433b248\",\"type\":\"Grid\"},{\"id\":\"bd4f809f-4c8d-4ad9-bd06-42c556219cd3\",\"type\":\"GlyphRenderer\"},{\"id\":\"8f4890ad-caa5-405c-a780-61e0b904cbe6\",\"type\":\"LabelSet\"}],\"title\":{\"id\":\"710279b2-fa23-4f62-8f1c-b1e5479d5a6d\",\"type\":\"Title\"},\"toolbar\":{\"id\":\"f41f5f09-6906-4beb-a5ff-e93969b686a2\",\"type\":\"Toolbar\"},\"toolbar_location\":\"above\",\"x_range\":{\"id\":\"1fe33950-f65d-42e5-8397-5d5d1985f411\",\"type\":\"DataRange1d\"},\"x_scale\":{\"id\":\"f9ef9233-f02e-46aa-b715-67432f3f1894\",\"type\":\"LinearScale\"},\"y_range\":{\"id\":\"ac9214e4-cc73-4133-b9c1-41f1e3220f09\",\"type\":\"DataRange1d\"},\"y_scale\":{\"id\":\"52e7a97b-ca90-468b-9b66-4356d1acbf2e\",\"type\":\"LinearScale\"}},\"id\":\"3ec0e750-e7e1-4cc8-afb8-e22b44abf429\",\"subtype\":\"Figure\",\"type\":\"Plot\"},{\"attributes\":{\"callback\":null,\"column_names\":[\"x1\",\"x2\",\"names\"],\"data\":{\"names\":[\"cid\",\"sao\",\"nao\",\"gas\",\"petroleo\",\"ser\",\"rio\",\"petrobras\",\"figura\",\"producao\",\"oleo\",\"janeiro\",\"natural\",\"agua\",\"dados\",\"formacao\",\"sistema\",\"bacia\",\"pode\",\"anp\",\"tambem\",\"brasil\",\"processo\",\"maior\",\"tabela\",\"modelo\",\"tempo\",\"forma\",\"resultados\",\"area\",\"total\",\"cada\",\"analise\",\"grande\",\"pressao\",\"ate\",\"temperatura\",\"regiao\",\"onde\",\"caso\",\"partir\",\"valores\",\"trabalho\",\"sendo\",\"fig\",\"relacao\",\"ja\",\"valor\",\"fonte\",\"assim\",\"tipo\",\"parte\",\"volume\",\"meio\",\"base\",\"atraves\",\"energia\",\"desenvolvimento\",\"condicoes\",\"outros\",\"segundo\",\"podem\",\"fase\",\"estudo\",\"mar\",\"alem\",\"nacional\",\"numero\",\"diesel\",\"co\",\"etanol\",\"sul\",\"pocos\",\"amostras\",\"ainda\",\"campo\",\"metodo\",\"capacidade\",\"campos\",\"apos\",\"distribuicao\",\"precos\",\"transporte\",\"projeto\",\"dois\",\"bem\",\"funcao\",\"aumento\",\"equacao\",\"mercado\",\"ponto\",\"unidade\",\"neste\",\"industria\",\"diferentes\",\"gasolina\",\"combustiveis\",\"operacao\",\"secao\",\"produtos\",\"biodiesel\",\"devido\",\"uso\",\"terra\",\"norte\",\"estao\",\"\\u00b0c\",\"apenas\",\"engenharia\",\"programa\",\"tres\",\"duas\",\"concentracao\",\"controle\",\"deste\",\"conforme\",\"universidade\",\"possivel\",\"apresenta\",\"areas\",\"processos\",\"longo\",\"paulo\",\"unidades\",\"ano\",\"sistemas\",\"anos\",\"quanto\",\"vez\",\"combustivel\",\"media\",\"principais\",\"fluido\",\"boletim\",\"parametros\",\"cao\",\"obtidos\",\"exploracao\",\"oil\",\"massa\",\"pesquisa\",\"velocidade\",\"solucao\",\"superior\",\"vazao\",\"nivel\",\"material\",\"menor\",\"acordo\",\"qualidade\",\"medio\",\"periodo\",\"sp\",\"superficie\",\"deve\",\"resolucao\",\"desta\",\"carga\",\"consumo\",\"setor\",\"estrutura\",\"exemplo\",\"derivados\",\"federal\",\"mistura\",\"final\",\"amostra\",\"geral\",\"comportamento\",\"estudos\",\"alta\",\"presenca\",\"quantidade\",\"avaliacao\",\"outras\",\"caracteristicas\",\"atividades\",\"fluxo\",\"atividade\",\"ambiente\",\"regioes\",\"sera\",\"modelos\",\"bacias\",\"reducao\",\"tecnica\",\"pois\",\"perfuracao\",\"dia\",\"zona\",\"produto\",\"quimica\",\"calculo\",\"objetivo\",\"facies\",\"ltda\",\"nt\",\"custo\",\"cm\",\"taxa\",\"alguns\",\"inferior\",\"mm\",\"tecnico\",\"utilizacao\",\"utilizado\",\"brasileiro\",\"metodos\",\"pais\",\"nc\",\"fluidos\",\"ar\",\"efeito\",\"aplicacao\",\"geologia\",\"modo\",\"evolucao\",\"outro\",\"mesma\",\"pontos\",\"propriedades\",\"quais\",\"sob\",\"preco\",\"tais\",\"grupo\",\"tal\",\"grandes\",\"informacoes\",\"centro\",\"rochas\",\"\\u00b7\",\"figure\",\"entao\",\"reservatorio\",\"variacao\",\"ter\",\"tratamento\",\"santos\",\"km\",\"reacao\",\"recursos\",\"grafico\",\"escoamento\",\"presente\",\"milhoes\",\"biocombustiveis\",\"teor\",\"tecnologia\",\"plataforma\",\"utilizados\",\"tensao\",\"acido\",\"fator\",\"importante\",\"ocorre\",\"materiais\",\"fato\",\"liquido\",\"linha\",\"mostra\",\"brasileira\",\"\\uf0b7\",\"hidrocarbonetos\",\"conjunto\",\"menos\",\"jan\",\"razao\",\"coluna\",\"sedimentos\",\"lei\",\"fim\",\"empresas\",\"primeiro\",\"simulacao\",\"recuperacao\",\"inicial\",\"mg\",\"empresa\",\"principal\",\"todas\",\"pro\",\"disponivel\",\"viscosidade\",\"elementos\",\"kg\",\"maiores\",\"sequencia\",\"sido\",\"acima\",\"primeira\",\"dentro\",\"ca\",\"topo\",\"faixa\",\"alto\",\"determinacao\",\"industrial\",\"principalmente\",\"melhor\",\"porem\",\"nova\",\"pesquisas\",\"composicao\",\"\\u2212\",\"cerca\",\"dessa\",\"densidade\",\"injecao\",\"espessura\",\"projetos\",\"direcao\",\"portanto\",\"ordem\",\"reservatorios\",\"variaveis\",\"entrada\",\"new\",\"br\",\"testes\",\"problema\",\"teste\",\"bahia\",\"oleos\",\"rodada\",\"geracao\",\"arenitos\",\"influencia\",\"potencial\",\"basin\",\"capitulo\",\"diametro\",\"www\",\"trabalhos\",\"casos\",\"falhas\",\"paises\",\"peso\",\"oc\",\"seguintes\",\"fatores\",\"carbono\",\"padrao\",\"ocorrencia\",\"inicio\",\"referencia\",\"pe\",\"custos\",\"baixa\",\"petroleum\",\"curva\",\"iv\",\"diversos\",\"enquanto\",\"refinaria\",\"data\",\"continental\",\"equipamentos\",\"etapa\",\"fundo\",\"perfil\",\"escala\",\"parana\",\"demanda\",\"aguas\",\"tipos\",\"corrente\",\"vapor\",\"serem\",\"resultado\",\"calor\",\"catalisador\",\"respectivamente\",\"algumas\",\"apresentam\",\"processamento\",\"equacoes\",\"necessario\",\"cenpes\",\"crescimento\",\"comparacao\",\"corrosao\",\"disso\",\"entretanto\",\"componentes\",\"problemas\",\"particulas\",\"qualquer\",\"separacao\",\"profundidade\",\"n\\u00b0\",\"limite\",\"podese\",\"eficiencia\",\"acesso\",\"constante\",\"tecnicas\",\"mento\",\"jose\",\"compostos\",\"utilizando\",\"http\",\"analises\",\"intervalo\",\"water\",\"r$\",\"possui\",\"medida\",\"utilizada\",\"lado\",\"curvas\",\"mente\",\"santo\",\"perda\",\"nesta\",\"desse\",\"ensaios\",\"devem\",\"dezembro\",\"grau\",\"well\",\"participacao\",\"vista\",\"min\",\"nesse\",\"central\",\"local\",\"maxima\",\"ai\",\"baixo\",\"demais\",\"termos\",\"resistencia\",\"fracao\",\"destilacao\",\"deformacao\",\"obtencao\",\"estruturas\",\"indice\",\"\\u00b1\",\"fases\",\"camadas\",\"laboratorio\",\"production\",\"temperaturas\",\"glp\",\"us$\",\"ml\",\"serao\",\"construcao\",\"somente\",\"silva\",\"ph\",\"alcool\",\"metodologia\",\"novas\",\"bastante\",\"sempre\",\"rj\",\"mapa\",\"costa\",\"li\",\"manutencao\",\"fontes\",\"vezes\",\"apresentados\",\"reservas\",\"comprimento\",\"mil\",\"origem\",\"representa\",\"falha\",\"blocos\",\"desempenho\",\"seguir\",\"gases\",\"rocha\",\"metros\",\"introducao\",\"abaixo\",\"quatro\",\"flow\",\"maximo\",\"journal\",\"ensaio\",\"efeitos\",\"cor\",\"autores\",\"modelagem\",\"espirito\",\"embora\",\"novo\",\"toda\",\"desses\",\"pouco\",\"agentes\",\"serie\",\"contato\",\"aproximadamente\",\"nordeste\",\"sergipe\",\"jul\",\"departamento\",\"diferenca\",\"coeficiente\",\"matriz\",\"novos\",\"diversas\",\"po\",\"vertical\",\"relatorio\",\"saida\",\"outra\",\"energy\",\"niveis\",\"tendo\",\"malha\",\"realizada\",\"importancia\",\"inclui\",\"idade\",\"maio\",\"mestrado\",\"igual\",\"frequencia\",\"linhas\",\"permite\",\"posicao\",\"necessidade\",\"experimental\",\"maneira\",\"mo\",\"entanto\",\"agencia\",\"feita\",\"varios\",\"aspecto\",\"distribuidora\",\"dias\",\"obtido\",\"transferencia\",\"alagoas\",\"catalisadores\",\"ver\",\"destes\",\"margem\",\"atualmente\",\"obter\",\"aqui\",\"ambiental\",\"estrutural\",\"realizados\",\"resposta\",\"medidas\",\"apesar\",\"abr\",\"vendas\",\"experimentais\",\"seguinte\",\"fi\",\"correlacao\",\"forca\",\"dou\",\"real\",\"servicos\",\"segunda\",\"apresentado\",\"depositos\",\"termica\",\"etc\",\"tamanho\",\"curso\",\"deposicao\",\"caracterizacao\",\"permeabilidade\",\"tubo\",\"\\u0003\",\"aco\",\"rede\",\"si\",\"comercializacao\",\"figuras\",\"aspectos\",\"linear\",\"porosidade\",\"dado\",\"porcao\",\"produtores\",\"atual\",\"plano\",\"barris\",\"seguranca\",\"enxofre\",\"presentes\",\"procedimento\",\"pa\",\"vida\",\"vem\",\"observado\",\"des\",\"obtida\",\"remocao\",\"dez\",\"folhelhos\",\"utilizadas\",\"informacao\",\"combustao\",\"equipamento\",\"operacoes\",\"global\",\"perfis\",\"divisao\",\"carvao\",\"localizacao\",\"considerando\",\"comercial\",\"liquidos\",\"definicao\",\"autor\",\"camada\",\"contratos\",\"internacional\",\"sedimentares\",\"ba\",\"realizadas\",\"concentracoes\",\"dissertacao\",\"servico\",\"oes\",\"monitoramento\",\"especial\",\"anterior\",\"obtidas\",\"dutos\",\"sudeste\",\"ciclo\",\"zonas\",\"interesse\",\"analysis\",\"engineering\",\"reconcavo\",\"boa\",\"distribuidoras\",\"tecnicos\",\"acao\",\"condicao\",\"variavel\",\"interpretacao\",\"realizacao\",\"etapas\",\"regional\",\"classificacao\",\"realizado\",\"planejamento\",\"conhecimento\",\"leste\",\"adsorcao\",\"solucoes\",\"mundial\",\"tubos\",\"importacao\",\"lubrificantes\",\"acidos\",\"regime\",\"prazo\",\"economica\",\"corpo\",\"investimentos\",\"simples\",\"especifica\",\"brazil\",\"instalacao\",\"queda\",\"variacoes\",\"propria\",\"formation\",\"minimo\",\"especies\",\"reator\",\"folhelho\",\"gerais\",\"arenito\",\"extracao\",\"conversao\",\"instituto\",\"eletrica\",\"reacoes\",\"corpos\",\"motor\",\"sedimentacao\",\"distancia\",\"contendo\",\"instalacoes\",\"dentre\",\"parametro\",\"interna\",\"ocorrem\",\"literatura\",\"risco\",\"produzido\",\"interno\",\"diretamente\",\"deslocamento\",\"apresentou\",\"momento\",\"adicao\",\"duto\",\"livre\",\"geology\",\"materia\",\"horizontal\",\"observar\",\"bomba\",\"membro\",\"computacional\",\"ppm\",\"solo\",\"quase\",\"geociencias\",\"menores\",\"horas\",\"varias\",\"santa\",\"natureza\",\"situacao\",\"marco\",\"oliveira\",\"system\",\"mecanica\",\"espaco\",\"sedimentar\",\"pr\",\"visto\",\"sismica\",\"tos\",\"equilibrio\",\"objetivos\",\"possuem\",\"importantes\",\"refino\",\"ufrj\",\"hidrogenio\",\"usado\",\"potencia\",\"cabo\",\"correntes\",\"grupos\",\"portaria\",\"secoes\",\"operacional\",\"seguida\",\"ajuste\",\"consiste\",\"offshore\",\"geometria\",\"research\",\"bilhoes\",\"integracao\",\"cadeia\",\"esquema\",\"nota\",\"york\",\"percentual\",\"quadro\",\"amazonas\",\"formacoes\",\"souza\",\"mes\",\"elaboracao\",\"tendencia\",\"torno\",\"termo\",\"dada\",\"refinarias\",\"abstract\",\"carlos\",\"item\",\"artigo\",\"cos\",\"via\",\"expansao\",\"model\",\"original\",\"corresponde\",\"erro\",\"maioria\",\"relativa\",\"imagem\",\"limites\",\"onda\",\"registro\",\"componente\",\"oxidacao\",\"volumes\",\"per\",\"tese\",\"astm\",\"anteriormente\",\"minas\",\"politica\",\"contexto\",\"medios\",\"imagens\",\"\\u0006\",\"dimensoes\",\"resumo\",\"revisao\",\"embasamento\",\"dade\",\"existe\",\"considerado\",\"estabilidade\",\"normal\",\"apresentar\",\"composto\",\"possibilidade\",\"avaliar\",\"altura\",\"descricao\",\"tensoes\",\"operacionais\",\"sal\",\"api\",\"antonio\",\"sequencias\",\"ambientais\",\"observase\",\"coes\",\"apoio\",\"geralmente\",\"dessas\",\"society\",\"oxigenio\",\"apresentaram\",\"argila\",\"aquisicao\",\"prova\",\"existencia\",\"organica\",\"bom\",\"proprio\",\"existentes\",\"misturas\",\"anexo\",\"energetica\",\"hidratado\",\"oeste\",\"referencias\",\"$\",\"interior\",\"indica\",\"glicerol\",\"proposta\",\"poder\",\"apresentada\",\"ra\",\"comercio\",\"res\",\"existem\",\"feito\",\"elemento\",\"determinado\",\"oferta\",\"america\",\"fazer\",\"consumidor\",\"proximo\",\"produzida\",\"questao\",\"normalmente\",\"veiculos\",\"\\u0002\",\"extensao\",\"conta\",\"nafta\",\"vi\",\"companhia\",\"determinar\",\"international\",\"movimento\",\"cuja\",\"nov\",\"di\",\"american\",\"rendimento\",\"using\",\"nessa\",\"faz\",\"sintese\",\"metano\",\"ho\",\"used\",\"metais\",\"pre\",\"poros\",\"riser\",\"cinco\",\"economia\",\"logo\",\"mundo\",\"molar\",\"pressoes\",\"economico\",\"gasoduto\",\"encontrados\",\"study\",\"comum\",\"responsavel\",\"destas\",\"passo\",\"soja\",\"chemical\",\"papel\",\"simulacoes\",\"areia\",\"ambos\",\"unidos\",\"eventos\",\"cp\",\"pequena\",\"possiveis\",\"molecular\",\"also\",\"identificacao\",\"desenvolvido\",\"apresentadas\",\"software\",\"xisto\",\"filho\",\"infraestrutura\",\"ta\",\"movimentacao\",\"time\",\"criacao\",\"ac\",\"\\u000f\",\"contudo\",\"eixo\",\"fracoes\",\"serra\",\"elevacao\",\"petro\",\"abastecimento\",\"realizar\",\"taxas\",\"lista\",\"otimizacao\",\"estagio\",\"tecnologias\",\"cimento\",\"emissoes\",\"estratigrafica\",\"high\",\"joao\",\"estatistico\",\"respeito\",\"associado\",\"ro\",\"versus\",\"tectonica\",\"dinamica\",\"ultimos\",\"conclusoes\",\"technology\",\"padroes\",\"results\",\"aplicada\",\"maria\",\"medicao\",\"leito\",\"solidos\",\"solvente\",\"economicos\",\"gasodutos\",\"determinada\",\"aumentar\",\"doutorado\",\"federacao\",\"podendo\",\"experimento\",\"necessaria\",\"especificacoes\",\"va\",\"inspecao\",\"porto\",\"externa\",\"mudanca\",\"angulo\",\"bloco\",\"nitrogenio\",\"produtor\",\"associacao\",\"altas\",\"aplicacoes\",\"tabelas\",\"process\",\"locais\",\"impacto\",\"diagrama\",\"pratica\"],\"x1\":{\"__ndarray__\":\"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\",\"dtype\":\"float32\",\"shape\":[1000]},\"x2\":{\"__ndarray__\":\"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\",\"dtype\":\"float32\",\"shape\":[1000]}}},\"id\":\"23f03e0b-4581-43ea-9f7e-b86aa97dd846\",\"type\":\"ColumnDataSource\"},{\"attributes\":{\"plot\":null,\"text\":\"word2vec T-SNE for most common words\"},\"id\":\"710279b2-fa23-4f62-8f1c-b1e5479d5a6d\",\"type\":\"Title\"},{\"attributes\":{\"fill_color\":{\"value\":\"#1f77b4\"},\"line_color\":{\"value\":\"#1f77b4\"},\"size\":{\"units\":\"screen\",\"value\":8},\"x\":{\"field\":\"x1\"},\"y\":{\"field\":\"x2\"}},\"id\":\"cbfd6be7-85dd-498a-8216-bee8482e1adf\",\"type\":\"Circle\"},{\"attributes\":{\"callback\":null},\"id\":\"1fe33950-f65d-42e5-8397-5d5d1985f411\",\"type\":\"DataRange1d\"},{\"attributes\":{\"active_drag\":\"auto\",\"active_inspect\":\"auto\",\"active_scroll\":\"auto\",\"active_tap\":\"auto\",\"tools\":[{\"id\":\"72cd9a6d-31e7-47fa-bf1d-4b75a4d2e968\",\"type\":\"PanTool\"},{\"id\":\"e13a704a-430a-4e8b-bd3e-14fb048dc5d9\",\"type\":\"WheelZoomTool\"},{\"id\":\"ee901d16-b06d-4784-a44f-70ebabf70300\",\"type\":\"ResetTool\"},{\"id\":\"07d4d7ac-16bd-4b2b-abe8-301ea017ed7c\",\"type\":\"SaveTool\"}]},\"id\":\"f41f5f09-6906-4beb-a5ff-e93969b686a2\",\"type\":\"Toolbar\"},{\"attributes\":{},\"id\":\"e13a704a-430a-4e8b-bd3e-14fb048dc5d9\",\"type\":\"WheelZoomTool\"},{\"attributes\":{},\"id\":\"07d4d7ac-16bd-4b2b-abe8-301ea017ed7c\",\"type\":\"SaveTool\"},{\"attributes\":{},\"id\":\"ee901d16-b06d-4784-a44f-70ebabf70300\",\"type\":\"ResetTool\"},{\"attributes\":{\"plot\":{\"id\":\"3ec0e750-e7e1-4cc8-afb8-e22b44abf429\",\"subtype\":\"Figure\",\"type\":\"Plot\"},\"source\":{\"id\":\"23f03e0b-4581-43ea-9f7e-b86aa97dd846\",\"type\":\"ColumnDataSource\"},\"text\":{\"field\":\"names\"},\"text_align\":\"center\",\"text_color\":{\"value\":\"#555555\"},\"text_font_size\":{\"value\":\"8pt\"},\"x\":{\"field\":\"x1\"},\"y\":{\"field\":\"x2\"},\"y_offset\":{\"value\":6}},\"id\":\"8f4890ad-caa5-405c-a780-61e0b904cbe6\",\"type\":\"LabelSet\"},{\"attributes\":{\"source\":{\"id\":\"23f03e0b-4581-43ea-9f7e-b86aa97dd846\",\"type\":\"ColumnDataSource\"}},\"id\":\"fb7060de-45a6-424e-b58a-f1fafe1581c4\",\"type\":\"CDSView\"},{\"attributes\":{},\"id\":\"f9ef9233-f02e-46aa-b715-67432f3f1894\",\"type\":\"LinearScale\"},{\"attributes\":{\"callback\":null},\"id\":\"ac9214e4-cc73-4133-b9c1-41f1e3220f09\",\"type\":\"DataRange1d\"},{\"attributes\":{},\"id\":\"52e7a97b-ca90-468b-9b66-4356d1acbf2e\",\"type\":\"LinearScale\"},{\"attributes\":{},\"id\":\"34a818b3-c147-4e05-99be-e711fb1c0f71\",\"type\":\"BasicTickFormatter\"},{\"attributes\":{\"formatter\":{\"id\":\"3506c974-e47a-4a1b-b6d1-6c8cd9293245\",\"type\":\"BasicTickFormatter\"},\"plot\":{\"id\":\"3ec0e750-e7e1-4cc8-afb8-e22b44abf429\",\"subtype\":\"Figure\",\"type\":\"Plot\"},\"ticker\":{\"id\":\"f897df3b-0a3e-4568-9f99-909c27fa468c\",\"type\":\"BasicTicker\"}},\"id\":\"1471d7ad-9a90-4b29-87a4-e227466b08be\",\"type\":\"LinearAxis\"},{\"attributes\":{},\"id\":\"f897df3b-0a3e-4568-9f99-909c27fa468c\",\"type\":\"BasicTicker\"},{\"attributes\":{\"plot\":{\"id\":\"3ec0e750-e7e1-4cc8-afb8-e22b44abf429\",\"subtype\":\"Figure\",\"type\":\"Plot\"},\"ticker\":{\"id\":\"f897df3b-0a3e-4568-9f99-909c27fa468c\",\"type\":\"BasicTicker\"}},\"id\":\"cb1a7ac5-813c-407e-bf91-d96603768ca4\",\"type\":\"Grid\"},{\"attributes\":{},\"id\":\"3506c974-e47a-4a1b-b6d1-6c8cd9293245\",\"type\":\"BasicTickFormatter\"},{\"attributes\":{\"formatter\":{\"id\":\"34a818b3-c147-4e05-99be-e711fb1c0f71\",\"type\":\"BasicTickFormatter\"},\"plot\":{\"id\":\"3ec0e750-e7e1-4cc8-afb8-e22b44abf429\",\"subtype\":\"Figure\",\"type\":\"Plot\"},\"ticker\":{\"id\":\"f05d7e9c-bb3a-4002-b5ec-e3aa4abaeeb3\",\"type\":\"BasicTicker\"}},\"id\":\"ff0f9811-fa31-4754-b76a-7703a45930af\",\"type\":\"LinearAxis\"},{\"attributes\":{},\"id\":\"f05d7e9c-bb3a-4002-b5ec-e3aa4abaeeb3\",\"type\":\"BasicTicker\"},{\"attributes\":{\"dimension\":1,\"plot\":{\"id\":\"3ec0e750-e7e1-4cc8-afb8-e22b44abf429\",\"subtype\":\"Figure\",\"type\":\"Plot\"},\"ticker\":{\"id\":\"f05d7e9c-bb3a-4002-b5ec-e3aa4abaeeb3\",\"type\":\"BasicTicker\"}},\"id\":\"a6b3cd8c-99ab-4b8e-95f1-6dfb2433b248\",\"type\":\"Grid\"},{\"attributes\":{\"data_source\":{\"id\":\"23f03e0b-4581-43ea-9f7e-b86aa97dd846\",\"type\":\"ColumnDataSource\"},\"glyph\":{\"id\":\"cbfd6be7-85dd-498a-8216-bee8482e1adf\",\"type\":\"Circle\"},\"hover_glyph\":null,\"muted_glyph\":null,\"nonselection_glyph\":{\"id\":\"f0cf817b-c902-4d08-b031-7539f3b57bde\",\"type\":\"Circle\"},\"selection_glyph\":null,\"view\":{\"id\":\"fb7060de-45a6-424e-b58a-f1fafe1581c4\",\"type\":\"CDSView\"}},\"id\":\"bd4f809f-4c8d-4ad9-bd06-42c556219cd3\",\"type\":\"GlyphRenderer\"},{\"attributes\":{},\"id\":\"72cd9a6d-31e7-47fa-bf1d-4b75a4d2e968\",\"type\":\"PanTool\"},{\"attributes\":{\"fill_alpha\":{\"value\":0.1},\"fill_color\":{\"value\":\"#1f77b4\"},\"line_alpha\":{\"value\":0.1},\"line_color\":{\"value\":\"#1f77b4\"},\"size\":{\"units\":\"screen\",\"value\":8},\"x\":{\"field\":\"x1\"},\"y\":{\"field\":\"x2\"}},\"id\":\"f0cf817b-c902-4d08-b031-7539f3b57bde\",\"type\":\"Circle\"}],\"root_ids\":[\"3ec0e750-e7e1-4cc8-afb8-e22b44abf429\"]},\"title\":\"Bokeh Application\",\"version\":\"0.12.10\"}};\n",
       "    var render_items = [{\"docid\":\"92d57bf4-6446-4d80-bd3d-89b3b6c24ac8\",\"elementid\":\"e34672a7-4a7f-4c7b-9aa3-6e449146e58c\",\"modelid\":\"3ec0e750-e7e1-4cc8-afb8-e22b44abf429\"}];\n",
       "\n",
       "    root.Bokeh.embed.embed_items(docs_json, render_items);\n",
       "  }\n",
       "\n",
       "  if (root.Bokeh !== undefined) {\n",
       "    embed_document(root);\n",
       "  } else {\n",
       "    var attempts = 0;\n",
       "    var timer = setInterval(function(root) {\n",
       "      if (root.Bokeh !== undefined) {\n",
       "        embed_document(root);\n",
       "        clearInterval(timer);\n",
       "      }\n",
       "      attempts++;\n",
       "      if (attempts > 100) {\n",
       "        console.log(\"Bokeh: ERROR: Unable to embed document because BokehJS library is missing\")\n",
       "        clearInterval(timer);\n",
       "      }\n",
       "    }, 10, root)\n",
       "  }\n",
       "})(window);"
      ],
      "application/vnd.bokehjs_exec.v0+json": ""
     },
     "metadata": {
      "application/vnd.bokehjs_exec.v0+json": {
       "id": "3ec0e750-e7e1-4cc8-afb8-e22b44abf429"
      }
     },
     "output_type": "display_data"
    }
   ],
   "source": [
    "p = figure(tools=\"pan,wheel_zoom,reset,save\",\n",
    "           toolbar_location=\"above\",\n",
    "           title=\"word2vec T-SNE for most common words\",\n",
    "           plot_width=900, \n",
    "           plot_height=900)\n",
    "\n",
    "source = ColumnDataSource(data=dict(x1=embed_tsne[:,0],\n",
    "                                    x2=embed_tsne[:,1],\n",
    "                                    names=vocabulario))\n",
    "\n",
    "p.scatter(x=\"x1\", y=\"x2\", size=8, source=source)\n",
    "\n",
    "labels = LabelSet(x=\"x1\", y=\"x2\", text=\"names\", y_offset=6,\n",
    "                  text_font_size=\"8pt\", text_color=\"#555555\",\n",
    "                  source=source, text_align='center')\n",
    "p.add_layout(labels)\n",
    "\n",
    "show(p)"
   ]
  },
  {
   "cell_type": "markdown",
   "metadata": {
    "collapsed": true
   },
   "source": [
    "## Nova geração do TSNE, com maior volume de dados, priorizando a ordenação do vocabulário pelas palavras mais comuns\n"
   ]
  },
  {
   "cell_type": "code",
   "execution_count": 22,
   "metadata": {
    "collapsed": true
   },
   "outputs": [],
   "source": [
    "vocabulario = os.path.join('modelos','vocab.txt')\n",
    "vocab = []\n",
    "with open(vocabulario, 'r', encoding=\"UTF-8\") as f:\n",
    "    for line in f:\n",
    "        vocab.append(line.split()[0])"
   ]
  },
  {
   "cell_type": "code",
   "execution_count": 23,
   "metadata": {},
   "outputs": [
    {
     "name": "stdout",
     "output_type": "stream",
     "text": [
      "['cid', 'sao', 'nao', 'gas', 'petroleo', 'ser', 'rio', 'petrobras', 'figura', 'producao', 'oleo', 'janeiro', 'natural', 'agua', 'dados', 'formacao', 'sistema', 'bacia', 'pode', 'anp', 'tambem', 'brasil', 'processo', 'maior', 'tabela', 'modelo', 'tempo', 'forma', 'resultados', 'area', 'total', 'cada', 'analise', 'grande', 'pressao', 'ate', 'temperatura', 'regiao', 'onde', 'caso', 'partir', 'valores', 'trabalho', 'sendo', 'fig', 'relacao', 'ja', 'valor', 'fonte', 'assim', 'tipo', 'parte', 'volume', 'meio', 'base', 'atraves', 'energia', 'desenvolvimento', 'condicoes', 'outros', 'segundo', 'podem', 'fase', 'estudo', 'mar', 'alem', 'nacional', 'numero', 'diesel', 'co', 'etanol', 'sul', 'pocos', 'amostras', 'ainda', 'campo', 'metodo', 'capacidade', 'campos', 'apos', 'distribuicao', 'precos', 'transporte', 'projeto', 'dois', 'bem', 'funcao', 'aumento', 'equacao', 'mercado', 'ponto', 'unidade', 'neste', 'industria', 'diferentes', 'gasolina', 'combustiveis', 'operacao', 'secao', 'produtos']\n",
      "77181\n"
     ]
    }
   ],
   "source": [
    "print(vocab[:100])\n",
    "print(len(vocab))"
   ]
  },
  {
   "cell_type": "code",
   "execution_count": 24,
   "metadata": {},
   "outputs": [
    {
     "name": "stdout",
     "output_type": "stream",
     "text": [
      "(3000, 100)\n"
     ]
    }
   ],
   "source": [
    "most_commom = vocab[:3000] # lista das palavras mais comuns do vocabulario\n",
    "\n",
    "### Obtendo os vetores para as paalvras mais comuns\n",
    "#2- Iterar enter as 1000 palavras mais comuns e pegar o vetor de cada uma usando: model.wv['computer']  # numpy vector of a word\n",
    "# ou testar: say_vector = model['say']  # get vector for word\n",
    "#3- empilhar os vetores apenas das palavras mais comuns do vocabulário, e rodar o TSNE\n",
    "\n",
    "vocabulario = list()\n",
    "vetores = list()\n",
    "\n",
    "\n",
    "for word in most_commom:\n",
    "    palavra = word\n",
    "    #print(palavra)\n",
    "    vocabulario.append(palavra)\n",
    "    vetores.append(model.wv.word_vec(palavra));\n",
    "matrix = np.vstack(vetores)    \n",
    "    \n",
    "print(matrix.shape)"
   ]
  },
  {
   "cell_type": "code",
   "execution_count": 25,
   "metadata": {},
   "outputs": [
    {
     "name": "stdout",
     "output_type": "stream",
     "text": [
      "Wall time: 1min 53s\n"
     ]
    }
   ],
   "source": [
    "%%time\n",
    "tsne = TSNE(n_components=2, random_state=0)\n",
    "embed_tsne = tsne.fit_transform(vetores)"
   ]
  },
  {
   "cell_type": "code",
   "execution_count": 26,
   "metadata": {},
   "outputs": [
    {
     "data": {
      "text/html": [
       "\n",
       "<div class=\"bk-root\">\n",
       "    <div class=\"bk-plotdiv\" id=\"db8b5c76-3d7d-4c0a-abcd-e6fc4c3506ac\"></div>\n",
       "</div>"
      ]
     },
     "metadata": {},
     "output_type": "display_data"
    },
    {
     "data": {
      "application/javascript": [
       "(function(root) {\n",
       "  function embed_document(root) {\n",
       "    var docs_json = {\"4aad00c9-102f-4bdd-b7e4-e708b8b0eed1\":{\"roots\":{\"references\":[{\"attributes\":{},\"id\":\"9b114ffc-31e6-4bd7-b0d0-95c995c612ac\",\"type\":\"BasicTickFormatter\"},{\"attributes\":{},\"id\":\"f1ad7534-461a-4332-9755-60740a1ccf68\",\"type\":\"BasicTickFormatter\"},{\"attributes\":{\"plot\":{\"id\":\"76905b54-8c0d-488f-971e-7fcbd646cbd4\",\"subtype\":\"Figure\",\"type\":\"Plot\"},\"ticker\":{\"id\":\"836e3b9d-e52c-4870-a465-c32d575d8eef\",\"type\":\"BasicTicker\"}},\"id\":\"b7d42ec5-d06d-48da-b20e-6e532fa977d0\",\"type\":\"Grid\"},{\"attributes\":{},\"id\":\"ec11c02a-e755-4132-a0af-5b2cc7a8775b\",\"type\":\"LinearScale\"},{\"attributes\":{\"dimension\":1,\"plot\":{\"id\":\"76905b54-8c0d-488f-971e-7fcbd646cbd4\",\"subtype\":\"Figure\",\"type\":\"Plot\"},\"ticker\":{\"id\":\"bd5c7d61-c0f1-4a25-a8a4-afacc1118da7\",\"type\":\"BasicTicker\"}},\"id\":\"83e72761-6cf5-468f-a5d9-73fa9c9f2758\",\"type\":\"Grid\"},{\"attributes\":{\"callback\":null,\"column_names\":[\"x1\",\"x2\",\"names\"],\"data\":{\"names\":[\"cid\",\"sao\",\"nao\",\"gas\",\"petroleo\",\"ser\",\"rio\",\"petrobras\",\"figura\",\"producao\",\"oleo\",\"janeiro\",\"natural\",\"agua\",\"dados\",\"formacao\",\"sistema\",\"bacia\",\"pode\",\"anp\",\"tambem\",\"brasil\",\"processo\",\"maior\",\"tabela\",\"modelo\",\"tempo\",\"forma\",\"resultados\",\"area\",\"total\",\"cada\",\"analise\",\"grande\",\"pressao\",\"ate\",\"temperatura\",\"regiao\",\"onde\",\"caso\",\"partir\",\"valores\",\"trabalho\",\"sendo\",\"fig\",\"relacao\",\"ja\",\"valor\",\"fonte\",\"assim\",\"tipo\",\"parte\",\"volume\",\"meio\",\"base\",\"atraves\",\"energia\",\"desenvolvimento\",\"condicoes\",\"outros\",\"segundo\",\"podem\",\"fase\",\"estudo\",\"mar\",\"alem\",\"nacional\",\"numero\",\"diesel\",\"co\",\"etanol\",\"sul\",\"pocos\",\"amostras\",\"ainda\",\"campo\",\"metodo\",\"capacidade\",\"campos\",\"apos\",\"distribuicao\",\"precos\",\"transporte\",\"projeto\",\"dois\",\"bem\",\"funcao\",\"aumento\",\"equacao\",\"mercado\",\"ponto\",\"unidade\",\"neste\",\"industria\",\"diferentes\",\"gasolina\",\"combustiveis\",\"operacao\",\"secao\",\"produtos\",\"biodiesel\",\"devido\",\"uso\",\"terra\",\"norte\",\"estao\",\"\\u00b0c\",\"apenas\",\"engenharia\",\"programa\",\"tres\",\"duas\",\"concentracao\",\"controle\",\"deste\",\"conforme\",\"universidade\",\"possivel\",\"apresenta\",\"areas\",\"processos\",\"longo\",\"paulo\",\"unidades\",\"ano\",\"sistemas\",\"anos\",\"quanto\",\"vez\",\"combustivel\",\"media\",\"principais\",\"fluido\",\"boletim\",\"parametros\",\"cao\",\"obtidos\",\"exploracao\",\"oil\",\"massa\",\"pesquisa\",\"velocidade\",\"solucao\",\"superior\",\"vazao\",\"nivel\",\"material\",\"menor\",\"acordo\",\"qualidade\",\"medio\",\"periodo\",\"sp\",\"superficie\",\"deve\",\"resolucao\",\"desta\",\"carga\",\"consumo\",\"setor\",\"estrutura\",\"exemplo\",\"derivados\",\"federal\",\"mistura\",\"final\",\"amostra\",\"geral\",\"comportamento\",\"estudos\",\"alta\",\"presenca\",\"quantidade\",\"avaliacao\",\"outras\",\"caracteristicas\",\"atividades\",\"fluxo\",\"atividade\",\"ambiente\",\"regioes\",\"sera\",\"modelos\",\"bacias\",\"reducao\",\"tecnica\",\"pois\",\"perfuracao\",\"dia\",\"zona\",\"produto\",\"quimica\",\"calculo\",\"objetivo\",\"facies\",\"ltda\",\"nt\",\"custo\",\"cm\",\"taxa\",\"alguns\",\"inferior\",\"mm\",\"tecnico\",\"utilizacao\",\"utilizado\",\"brasileiro\",\"metodos\",\"pais\",\"nc\",\"fluidos\",\"ar\",\"efeito\",\"aplicacao\",\"geologia\",\"modo\",\"evolucao\",\"outro\",\"mesma\",\"pontos\",\"propriedades\",\"quais\",\"sob\",\"preco\",\"tais\",\"grupo\",\"tal\",\"grandes\",\"informacoes\",\"centro\",\"rochas\",\"\\u00b7\",\"figure\",\"entao\",\"reservatorio\",\"variacao\",\"ter\",\"tratamento\",\"santos\",\"km\",\"reacao\",\"recursos\",\"grafico\",\"escoamento\",\"presente\",\"milhoes\",\"biocombustiveis\",\"teor\",\"tecnologia\",\"plataforma\",\"utilizados\",\"tensao\",\"acido\",\"fator\",\"importante\",\"ocorre\",\"materiais\",\"fato\",\"liquido\",\"linha\",\"mostra\",\"brasileira\",\"\\uf0b7\",\"hidrocarbonetos\",\"conjunto\",\"menos\",\"jan\",\"razao\",\"coluna\",\"sedimentos\",\"lei\",\"fim\",\"empresas\",\"primeiro\",\"simulacao\",\"recuperacao\",\"inicial\",\"mg\",\"empresa\",\"principal\",\"todas\",\"pro\",\"disponivel\",\"viscosidade\",\"elementos\",\"kg\",\"maiores\",\"sequencia\",\"sido\",\"acima\",\"primeira\",\"dentro\",\"ca\",\"topo\",\"faixa\",\"alto\",\"determinacao\",\"industrial\",\"principalmente\",\"melhor\",\"porem\",\"nova\",\"pesquisas\",\"composicao\",\"\\u2212\",\"cerca\",\"dessa\",\"densidade\",\"injecao\",\"espessura\",\"projetos\",\"direcao\",\"portanto\",\"ordem\",\"reservatorios\",\"variaveis\",\"entrada\",\"new\",\"br\",\"testes\",\"problema\",\"teste\",\"bahia\",\"oleos\",\"rodada\",\"geracao\",\"arenitos\",\"influencia\",\"potencial\",\"basin\",\"capitulo\",\"diametro\",\"www\",\"trabalhos\",\"casos\",\"falhas\",\"paises\",\"peso\",\"oc\",\"seguintes\",\"fatores\",\"carbono\",\"padrao\",\"ocorrencia\",\"inicio\",\"referencia\",\"pe\",\"custos\",\"baixa\",\"petroleum\",\"curva\",\"iv\",\"diversos\",\"enquanto\",\"refinaria\",\"data\",\"continental\",\"equipamentos\",\"etapa\",\"fundo\",\"perfil\",\"escala\",\"parana\",\"demanda\",\"aguas\",\"tipos\",\"corrente\",\"vapor\",\"serem\",\"resultado\",\"calor\",\"catalisador\",\"respectivamente\",\"algumas\",\"apresentam\",\"processamento\",\"equacoes\",\"necessario\",\"cenpes\",\"crescimento\",\"comparacao\",\"corrosao\",\"disso\",\"entretanto\",\"componentes\",\"problemas\",\"particulas\",\"qualquer\",\"separacao\",\"profundidade\",\"n\\u00b0\",\"limite\",\"podese\",\"eficiencia\",\"acesso\",\"constante\",\"tecnicas\",\"mento\",\"jose\",\"compostos\",\"utilizando\",\"http\",\"analises\",\"intervalo\",\"water\",\"r$\",\"possui\",\"medida\",\"utilizada\",\"lado\",\"curvas\",\"mente\",\"santo\",\"perda\",\"nesta\",\"desse\",\"ensaios\",\"devem\",\"dezembro\",\"grau\",\"well\",\"participacao\",\"vista\",\"min\",\"nesse\",\"central\",\"local\",\"maxima\",\"ai\",\"baixo\",\"demais\",\"termos\",\"resistencia\",\"fracao\",\"destilacao\",\"deformacao\",\"obtencao\",\"estruturas\",\"indice\",\"\\u00b1\",\"fases\",\"camadas\",\"laboratorio\",\"production\",\"temperaturas\",\"glp\",\"us$\",\"ml\",\"serao\",\"construcao\",\"somente\",\"silva\",\"ph\",\"alcool\",\"metodologia\",\"novas\",\"bastante\",\"sempre\",\"rj\",\"mapa\",\"costa\",\"li\",\"manutencao\",\"fontes\",\"vezes\",\"apresentados\",\"reservas\",\"comprimento\",\"mil\",\"origem\",\"representa\",\"falha\",\"blocos\",\"desempenho\",\"seguir\",\"gases\",\"rocha\",\"metros\",\"introducao\",\"abaixo\",\"quatro\",\"flow\",\"maximo\",\"journal\",\"ensaio\",\"efeitos\",\"cor\",\"autores\",\"modelagem\",\"espirito\",\"embora\",\"novo\",\"toda\",\"desses\",\"pouco\",\"agentes\",\"serie\",\"contato\",\"aproximadamente\",\"nordeste\",\"sergipe\",\"jul\",\"departamento\",\"diferenca\",\"coeficiente\",\"matriz\",\"novos\",\"diversas\",\"po\",\"vertical\",\"relatorio\",\"saida\",\"outra\",\"energy\",\"niveis\",\"tendo\",\"malha\",\"realizada\",\"importancia\",\"inclui\",\"idade\",\"maio\",\"mestrado\",\"igual\",\"frequencia\",\"linhas\",\"permite\",\"posicao\",\"necessidade\",\"experimental\",\"maneira\",\"mo\",\"entanto\",\"agencia\",\"feita\",\"varios\",\"aspecto\",\"distribuidora\",\"dias\",\"obtido\",\"transferencia\",\"alagoas\",\"catalisadores\",\"ver\",\"destes\",\"margem\",\"atualmente\",\"obter\",\"aqui\",\"ambiental\",\"estrutural\",\"realizados\",\"resposta\",\"medidas\",\"apesar\",\"abr\",\"vendas\",\"experimentais\",\"seguinte\",\"fi\",\"correlacao\",\"forca\",\"dou\",\"real\",\"servicos\",\"segunda\",\"apresentado\",\"depositos\",\"termica\",\"etc\",\"tamanho\",\"curso\",\"deposicao\",\"caracterizacao\",\"permeabilidade\",\"tubo\",\"\\u0003\",\"aco\",\"rede\",\"si\",\"comercializacao\",\"figuras\",\"aspectos\",\"linear\",\"porosidade\",\"dado\",\"porcao\",\"produtores\",\"atual\",\"plano\",\"barris\",\"seguranca\",\"enxofre\",\"presentes\",\"procedimento\",\"pa\",\"vida\",\"vem\",\"observado\",\"des\",\"obtida\",\"remocao\",\"dez\",\"folhelhos\",\"utilizadas\",\"informacao\",\"combustao\",\"equipamento\",\"operacoes\",\"global\",\"perfis\",\"divisao\",\"carvao\",\"localizacao\",\"considerando\",\"comercial\",\"liquidos\",\"definicao\",\"autor\",\"camada\",\"contratos\",\"internacional\",\"sedimentares\",\"ba\",\"realizadas\",\"concentracoes\",\"dissertacao\",\"servico\",\"oes\",\"monitoramento\",\"especial\",\"anterior\",\"obtidas\",\"dutos\",\"sudeste\",\"ciclo\",\"zonas\",\"interesse\",\"analysis\",\"engineering\",\"reconcavo\",\"boa\",\"distribuidoras\",\"tecnicos\",\"acao\",\"condicao\",\"variavel\",\"interpretacao\",\"realizacao\",\"etapas\",\"regional\",\"classificacao\",\"realizado\",\"planejamento\",\"conhecimento\",\"leste\",\"adsorcao\",\"solucoes\",\"mundial\",\"tubos\",\"importacao\",\"lubrificantes\",\"acidos\",\"regime\",\"prazo\",\"economica\",\"corpo\",\"investimentos\",\"simples\",\"especifica\",\"brazil\",\"instalacao\",\"queda\",\"variacoes\",\"propria\",\"formation\",\"minimo\",\"especies\",\"reator\",\"folhelho\",\"gerais\",\"arenito\",\"extracao\",\"conversao\",\"instituto\",\"eletrica\",\"reacoes\",\"corpos\",\"motor\",\"sedimentacao\",\"distancia\",\"contendo\",\"instalacoes\",\"dentre\",\"parametro\",\"interna\",\"ocorrem\",\"literatura\",\"risco\",\"produzido\",\"interno\",\"diretamente\",\"deslocamento\",\"apresentou\",\"momento\",\"adicao\",\"duto\",\"livre\",\"geology\",\"materia\",\"horizontal\",\"observar\",\"bomba\",\"membro\",\"computacional\",\"ppm\",\"solo\",\"quase\",\"geociencias\",\"menores\",\"horas\",\"varias\",\"santa\",\"natureza\",\"situacao\",\"marco\",\"oliveira\",\"system\",\"mecanica\",\"espaco\",\"sedimentar\",\"pr\",\"visto\",\"sismica\",\"tos\",\"equilibrio\",\"objetivos\",\"possuem\",\"importantes\",\"refino\",\"ufrj\",\"hidrogenio\",\"usado\",\"potencia\",\"cabo\",\"correntes\",\"grupos\",\"portaria\",\"secoes\",\"operacional\",\"seguida\",\"ajuste\",\"consiste\",\"offshore\",\"geometria\",\"research\",\"bilhoes\",\"integracao\",\"cadeia\",\"esquema\",\"nota\",\"york\",\"percentual\",\"quadro\",\"amazonas\",\"formacoes\",\"souza\",\"mes\",\"elaboracao\",\"tendencia\",\"torno\",\"termo\",\"dada\",\"refinarias\",\"abstract\",\"carlos\",\"item\",\"artigo\",\"cos\",\"via\",\"expansao\",\"model\",\"original\",\"corresponde\",\"erro\",\"maioria\",\"relativa\",\"imagem\",\"limites\",\"onda\",\"registro\",\"componente\",\"oxidacao\",\"volumes\",\"per\",\"tese\",\"astm\",\"anteriormente\",\"minas\",\"politica\",\"contexto\",\"medios\",\"imagens\",\"\\u0006\",\"dimensoes\",\"resumo\",\"revisao\",\"embasamento\",\"dade\",\"existe\",\"considerado\",\"estabilidade\",\"normal\",\"apresentar\",\"composto\",\"possibilidade\",\"avaliar\",\"altura\",\"descricao\",\"tensoes\",\"operacionais\",\"sal\",\"api\",\"antonio\",\"sequencias\",\"ambientais\",\"observase\",\"coes\",\"apoio\",\"geralmente\",\"dessas\",\"society\",\"oxigenio\",\"apresentaram\",\"argila\",\"aquisicao\",\"prova\",\"existencia\",\"organica\",\"bom\",\"proprio\",\"existentes\",\"misturas\",\"anexo\",\"energetica\",\"hidratado\",\"oeste\",\"referencias\",\"$\",\"interior\",\"indica\",\"glicerol\",\"proposta\",\"poder\",\"apresentada\",\"ra\",\"comercio\",\"res\",\"existem\",\"feito\",\"elemento\",\"determinado\",\"oferta\",\"america\",\"fazer\",\"consumidor\",\"proximo\",\"produzida\",\"questao\",\"normalmente\",\"veiculos\",\"\\u0002\",\"extensao\",\"conta\",\"nafta\",\"vi\",\"companhia\",\"determinar\",\"international\",\"movimento\",\"cuja\",\"nov\",\"di\",\"american\",\"rendimento\",\"using\",\"nessa\",\"faz\",\"sintese\",\"metano\",\"ho\",\"used\",\"metais\",\"pre\",\"poros\",\"riser\",\"cinco\",\"economia\",\"logo\",\"mundo\",\"molar\",\"pressoes\",\"economico\",\"gasoduto\",\"encontrados\",\"study\",\"comum\",\"responsavel\",\"destas\",\"passo\",\"soja\",\"chemical\",\"papel\",\"simulacoes\",\"areia\",\"ambos\",\"unidos\",\"eventos\",\"cp\",\"pequena\",\"possiveis\",\"molecular\",\"also\",\"identificacao\",\"desenvolvido\",\"apresentadas\",\"software\",\"xisto\",\"filho\",\"infraestrutura\",\"ta\",\"movimentacao\",\"time\",\"criacao\",\"ac\",\"\\u000f\",\"contudo\",\"eixo\",\"fracoes\",\"serra\",\"elevacao\",\"petro\",\"abastecimento\",\"realizar\",\"taxas\",\"lista\",\"otimizacao\",\"estagio\",\"tecnologias\",\"cimento\",\"emissoes\",\"estratigrafica\",\"high\",\"joao\",\"estatistico\",\"respeito\",\"associado\",\"ro\",\"versus\",\"tectonica\",\"dinamica\",\"ultimos\",\"conclusoes\",\"technology\",\"padroes\",\"results\",\"aplicada\",\"maria\",\"medicao\",\"leito\",\"solidos\",\"solvente\",\"economicos\",\"gasodutos\",\"determinada\",\"aumentar\",\"doutorado\",\"federacao\",\"podendo\",\"experimento\",\"necessaria\",\"especificacoes\",\"va\",\"inspecao\",\"porto\",\"externa\",\"mudanca\",\"angulo\",\"bloco\",\"nitrogenio\",\"produtor\",\"associacao\",\"altas\",\"aplicacoes\",\"tabelas\",\"process\",\"locais\",\"impacto\",\"diagrama\",\"pratica\",\"relacionados\",\"cretaceo\",\"disponiveis\",\"ne\",\"pressure\",\"metal\",\"dano\",\"associados\",\"formas\",\"luiz\",\"experimentos\",\"metanol\",\"ultimo\",\"coque\",\"mesmos\",\"orgao\",\"anual\",\"continua\",\"desvio\",\"polimero\",\"visando\",\"mecanismo\",\"rs\",\"frente\",\"execucao\",\"motores\",\"cenario\",\"decada\",\"elevada\",\"concessao\",\"estruturais\",\"nacionais\",\"quimicos\",\"brasileiras\",\"inicialmente\",\"df\",\"diminuicao\",\"fenomeno\",\"fratura\",\"investimento\",\"science\",\"tes\",\"valvula\",\"abertura\",\"anuario\",\"relativamente\",\"discussao\",\"dagua\",\"muitos\",\"mostram\",\"ondas\",\"partes\",\"\\u0002\\u0005\",\"referentes\",\"mesmas\",\"saturacao\",\"mercados\",\"usando\",\"direta\",\"university\",\"mudancas\",\"diferencas\",\"governo\",\"regulacao\",\"interacao\",\"interface\",\"reduzir\",\"foto\",\"contorno\",\"liquida\",\"definida\",\"devese\",\"forte\",\"protecao\",\"configuracao\",\"efluente\",\"ultima\",\"vale\",\"dominio\",\"relacoes\",\"superficial\",\"max\",\"temse\",\"cisalhamento\",\"proposto\",\"revestimento\",\"industriais\",\"programas\",\"considerada\",\"mostrado\",\"sociedade\",\"tanques\",\"residuos\",\"alves\",\"originais\",\"\\u0001\",\"forcas\",\"levantamento\",\"procedimentos\",\"elevado\",\"verificar\",\"aumenta\",\"contribuicao\",\"devera\",\"hoje\",\"mapas\",\"potiguar\",\"section\",\"criterios\",\"celula\",\"considerados\",\"rifte\",\"lama\",\"suporte\",\"eua\",\"marinha\",\"geologico\",\"contrato\",\"minutos\",\"muitas\",\"posteriormente\",\"termico\",\"ministerio\",\"use\",\"ceara\",\"historico\",\"depende\",\"\\u000e\",\"conformidade\",\"graos\",\"necessarios\",\"estimativa\",\"passa\",\"aquecimento\",\"balanco\",\"drilling\",\"mineral\",\"rotacao\",\"definido\",\"contem\",\"\\u0014\",\"acoes\",\"tanque\",\"coeficientes\",\"exportacao\",\"pessoal\",\"tecnologico\",\"municipios\",\"usados\",\"indicam\",\"cia\",\"soldagem\",\"representacao\",\"development\",\"instituicoes\",\"ex\",\"postos\",\"systems\",\"junto\",\"ce\",\"geologica\",\"trecho\",\"minerais\",\"geological\",\"querosene\",\"caracteristica\",\"conclusao\",\"formado\",\"propriedade\",\"constantes\",\"tecnologica\",\"zero\",\"energetico\",\"unica\",\"armazenamento\",\"amplitude\",\"previsao\",\"funcoes\",\"fe\",\"environmental\",\"gnl\",\"representam\",\"\\u0010\",\"podera\",\"fm\",\"decisao\",\"method\",\"transicao\",\"escolha\",\"sinal\",\"tubulacao\",\"seismic\",\"bibliograficas\",\"conteudo\",\"orgaos\",\"escola\",\"titulo\",\"compressao\",\"fundamental\",\"lima\",\"segmento\",\"normas\",\"agente\",\"venda\",\"fluid\",\"ocorrer\",\"condutividade\",\"modulo\",\"alternativa\",\"testemunhos\",\"graficos\",\"consequentemente\",\"incluindo\",\"ausencia\",\"claro\",\"evitar\",\"teoria\",\"grosso\",\"associada\",\"pequenas\",\"experiencia\",\"feitas\",\"camara\",\"troca\",\"observada\",\"baixas\",\"francisco\",\"pt\",\"solventes\",\"residual\",\"wells\",\"evento\",\"poderia\",\"feicoes\",\"mt\",\"classe\",\"autorizacao\",\"bases\",\"fabricacao\",\"perdas\",\"petroquimica\",\"atuacao\",\"table\",\"marinho\",\"verde\",\"finos\",\"seis\",\"equivalente\",\"ufrn\",\"praticamente\",\"tao\",\"leve\",\"ocorreu\",\"indices\",\"exposicao\",\"pos\",\"brazilian\",\"correspondente\",\"carater\",\"moleculas\",\"junho\",\"tracao\",\"altos\",\"substituicao\",\"pagina\",\"calibracao\",\"revista\",\"consideracoes\",\"ciencia\",\"field\",\"ciencias\",\"consumidores\",\"polimeros\",\"profundas\",\"uniao\",\"varia\",\"busca\",\"epoca\",\"ferramenta\",\"efetiva\",\"passou\",\"control\",\"poroso\",\"raios\",\"primeiros\",\"tempos\",\"capaz\",\"intervalos\",\"aromaticos\",\"press\",\"cl\",\"anidro\",\"julho\",\"cargas\",\"cidade\",\"organizacao\",\"ambientes\",\"coordenador\",\"unico\",\"requisitos\",\"atingir\",\"neto\",\"rn\",\"concorrencia\",\"coordenacao\",\"meios\",\"referente\",\"observados\",\"vantagens\",\"encontrase\",\"criterio\",\"capital\",\"relacionadas\",\"deposicional\",\"fluxos\",\"based\",\"especie\",\"lateral\",\"vol\",\"minima\",\"residuo\",\"basins\",\"manter\",\"mensal\",\"quantidades\",\"sa\",\"biomassa\",\"cujo\",\"cf\",\"significativa\",\"transversal\",\"podemos\",\"pc\",\"gestao\",\"vazoes\",\"pi\",\"\\u0019\",\"inovacao\",\"two\",\"parcial\",\"baseado\",\"end\",\"fica\",\"funcionamento\",\"produzidos\",\"aplicado\",\"fiscalizacao\",\"surface\",\"amostragem\",\"maranhao\",\"marine\",\"mol\",\"descrito\",\"calculado\",\"cas\",\"edicao\",\"mecanismos\",\"may\",\"alegre\",\"especificacao\",\"especifico\",\"espectro\",\"coletadas\",\"estratigrafia\",\"corte\",\"novembro\",\"totalmente\",\"broca\",\"congresso\",\"one\",\"publicacao\",\"especialmente\",\"prof\",\"expressao\",\"estacao\",\"pequeno\",\"ap\",\"applied\",\"estabelece\",\"trimestre\",\"conselho\",\"produtividade\",\"formula\",\"automotivos\",\"barreiras\",\"craqueamento\",\"naturais\",\"plantas\",\"texto\",\"baixos\",\"ions\",\"membrana\",\"barra\",\"finais\",\"provavelmente\",\"atender\",\"banco\",\"planta\",\"anteriores\",\"mato\",\"norma\",\"gasosa\",\"rios\",\"sucesso\",\"publica\",\"ilha\",\"degradacao\",\"diferencial\",\"melhores\",\"basicos\",\"brasilia\",\"proximos\",\"abordagem\",\"alteracoes\",\"precisao\",\"garantir\",\"velocidades\",\"art\",\"queima\",\"formulacao\",\"martins\",\"candeias\",\"selecao\",\"conceito\",\"superficies\",\"environment\",\"celulas\",\"sim\",\"composta\",\"coleta\",\"superiores\",\"exploration\",\"figs\",\"quimicas\",\"revenda\",\"emissao\",\"gradiente\",\"completacao\",\"particular\",\"\\uf084\",\"nome\",\"gama\",\"jr\",\"emprego\",\"pereira\",\"presidente\",\"salvador\",\"utilizar\",\"gerados\",\"inclusive\",\"meses\",\"considerar\",\"carregamento\",\"usada\",\"design\",\"impactos\",\"solubilidade\",\"canais\",\"similar\",\"ciclos\",\"externo\",\"agora\",\"intensidade\",\"materiaprima\",\"regras\",\"pol\",\"convencionais\",\"energeticos\",\"vai\",\"implantacao\",\"shale\",\"existente\",\"tema\",\"calcular\",\"calculos\",\"algoritmo\",\"fazenda\",\"fuel\",\"utiliza\",\"ci\",\"\\b\",\"estadual\",\"oi\",\"petroleos\",\"teores\",\"dificil\",\"eficiente\",\"precipitacao\",\"produzir\",\"fisico\",\"volumetrica\",\"periodos\",\"terminal\",\"complexo\",\"desenvolvidos\",\"cinza\",\"ms\",\"orientacao\",\"paper\",\"shell\",\"sodio\",\"finalidade\",\"reais\",\"borda\",\"face\",\"reservoir\",\"efluentes\",\"posgraduacao\",\"probabilidade\",\"suficiente\",\"ressaltar\",\"series\",\"hidrolise\",\"mb\",\"classes\",\"hz\",\"sedimentary\",\"graduacao\",\"part\",\"seco\",\"ambas\",\"eletrico\",\"mpa\",\"superintendencia\",\"hipotese\",\"resultante\",\"calcarios\",\"humanos\",\"pes\",\"proxima\",\"outubro\",\"bagaco\",\"agosto\",\"erros\",\"iniciais\",\"responsaveis\",\"calculada\",\"falta\",\"causa\",\"convencional\",\"par\",\"sm\",\"industrias\",\"mostrando\",\"filtracao\",\"observadas\",\"prh\",\"semelhante\",\"axial\",\"equipe\",\"valvulas\",\"completa\",\"invoke\",\"set\",\"consideradas\",\"alteracao\",\"calculados\",\"circulacao\",\"consequencia\",\"identificar\",\"torna\",\"analisados\",\"organicos\",\"fisica\",\"alternativas\",\"psi\",\"quimico\",\"terminais\",\"controlador\",\"parede\",\"conference\",\"encontradas\",\"go\",\"turbina\",\"nominal\",\"relativo\",\"bp\",\"observacoes\",\"china\",\"gerado\",\"argentina\",\"entrega\",\"social\",\"elevados\",\"resulta\",\"absorcao\",\"mediante\",\"mentos\",\"numerica\",\"plataformas\",\"proporcao\",\"abril\",\"dispersao\",\"associadas\",\"util\",\"\\u03b2\",\"alimentacao\",\"historia\",\"temporal\",\"south\",\"oxido\",\"state\",\"encontra\",\"fo\",\"rodrigues\",\"testemunho\",\"redes\",\"ferreira\",\"first\",\"eq\",\"retorno\",\"raio\",\"glicerina\",\"preparacao\",\"preto\",\"review\",\"effects\",\"geologicos\",\"soma\",\"value\",\"andar\",\"ferro\",\"situacoes\",\"indicando\",\"porte\",\"parcela\",\"tulsa\",\"discordancia\",\"deteccao\",\"gerar\",\"finalmente\",\"navio\",\"argilas\",\"pm\",\"setores\",\"bbl\",\"recebidos\",\"\\u0018\",\"fins\",\"propano\",\"espacial\",\"artigos\",\"baseada\",\"pp\",\"treinamento\",\"africa\",\"alberto\",\"legislacao\",\"carbonatos\",\"centrooeste\",\"destaque\",\"esforco\",\"pb\",\"catarina\",\"cal\",\"cc\",\"notar\",\"sensibilidade\",\"filmes\",\"curto\",\"politicas\",\"representado\",\"mass\",\"pico\",\"simulador\",\"basica\",\"brasileiros\",\"national\",\"analisadas\",\"\\u03b1\",\"analisar\",\"especiais\",\"ambito\",\"possa\",\"adequada\",\"apresentando\",\"ana\",\"comunicacao\",\"duracao\",\"pesados\",\"fernando\",\"visao\",\"bar\",\"benzeno\",\"rift\",\"different\",\"adequado\",\"compra\",\"encontramse\",\"presal\",\"razoes\",\"relacionada\",\"tra\",\"sismicas\",\"riscos\",\"vacuo\",\"adaptado\",\"sis\",\"importado\",\"representada\",\"aditivos\",\"im\",\"propanodiol\",\"fadiga\",\"luz\",\"\\uf03d\",\"\\u0007\",\"segmentos\",\"cr\",\"cobertura\",\"lamina\",\"phase\",\"solda\",\"esforcos\",\"estagios\",\"solido\",\"teorico\",\"sc\",\"would\",\"erosao\",\"temp\",\"e&p\",\"estacoes\",\"sismicos\",\"sr\",\"ferramentas\",\"permitindo\",\"provenientes\",\"crescente\",\"dificuldades\",\"calcio\",\"graus\",\"necessarias\",\"pernambuco\",\"vetor\",\"ct\",\"tucano\",\"substrato\",\"permitir\",\"principio\",\"torre\",\"almeida\",\"permitem\",\"limpeza\",\"cru\",\"exterior\",\"exemplos\",\"radiacao\",\"apendice\",\"observacao\",\"reduc\",\"suspensao\",\"fina\",\"posterior\",\"log\",\"variando\",\"atmosferica\",\"substancias\",\"atlantico\",\"basicamente\",\"consideracao\",\"ia\",\"picos\",\"ilhas\",\"temperature\",\"cursos\",\"ponta\",\"utilizandose\",\"distintas\",\"junior\",\"totais\",\"desenvolvida\",\"migracao\",\"sequence\",\"studies\",\"acompanhamento\",\"conhecida\",\"elevadas\",\"especificos\",\"lugar\",\"relativos\",\"uk\",\"objeto\",\"lb\",\"parece\",\"fornecimento\",\"fosseis\",\"profundidades\",\"apresentacao\",\"catalitico\",\"estrategia\",\"fraturas\",\"incremento\",\"numerico\",\"passagem\",\"work\",\"rpm\",\"semelhantes\",\"estudados\",\"modificado\",\"ouro\",\"rapida\",\"reg\",\"correcao\",\"branco\",\"cabe\",\"leves\",\"republica\",\"associated\",\"planos\",\"dar\",\"implementacao\",\"association\",\"diferente\",\"ira\",\"determinados\",\"dis\",\"refinacao\",\"trata\",\"aviacao\",\"difusao\",\"ruptura\",\"\\u2010\",\"suprimento\",\"acos\",\"algum\",\"definidos\",\"fracturing\",\"materiasprimas\",\"nm\",\"mello\",\"racao\",\"instrumentos\",\"luis\",\"navios\",\"obtained\",\"retirada\",\"potential\",\"propagacao\",\"proveniente\",\"correlacoes\",\"setembro\",\"continuidade\",\"estabelecer\",\"cobre\",\"critica\",\"dependendo\",\"cilindro\",\"deposicionais\",\"fino\",\"verticais\",\"desenvolver\",\"report\",\"importacoes\",\"bolha\",\"horizonte\",\"diz\",\"main\",\"mostraram\",\"conhecido\",\"empregados\",\"frio\",\"normais\",\"tornase\",\"comerciais\",\"pelotas\",\"tion\",\"toxicidade\",\"acetico\",\"detalhes\",\"due\",\"manual\",\"comuns\",\"mecanico\",\"conceitos\",\"coordenadas\",\"futuro\",\"chamada\",\"descritas\",\"rocks\",\"site\",\"subsidencia\",\"chemistry\",\"pacote\",\"dependencia\",\"documentacao\",\"descritos\",\"notase\",\"spe\",\"evolution\",\"ideal\",\"p&d\",\"marca\",\"\\u03c6\",\"filtro\",\"\\u0004\",\"gomes\",\"alii\",\"coppe\",\"methods\",\"relacionado\",\"af\",\"fl\",\"lubrificante\",\"organic\",\"oxidos\",\"lower\",\"pesado\",\"possam\",\"van\",\"constituem\",\"low\",\"basico\",\"contrario\",\"eletricos\",\"conditions\",\"constituida\",\"definir\",\"deverao\",\"au\",\"cenarios\",\"franca\",\"group\",\"hs\",\"colunas\",\"fevereiro\",\"largura\",\"representar\",\"colapso\",\"\\u00bb\",\"engenheiro\",\"\\uf06f\",\"espessuras\",\"fazendo\",\"reforma\",\"constitui\",\"professor\",\"aparente\",\"geologicas\",\"pequenos\",\"materials\",\"reduzida\",\"exercicio\",\"institute\",\"agitacao\",\"empregado\",\"ft\",\"lagoa\",\"combinacao\",\"aproveitamento\",\"envolvidos\",\"hydraulic\",\"resfriamento\",\"europa\",\"\\u001b\",\"ampliacao\",\"azul\",\"carbon\",\"fisicas\",\"participacoes\",\"sergipealagoas\",\"stratigraphic\",\"torres\",\"interessante\",\"mostrou\",\"refere\",\"altamente\",\"inter\",\"world\",\"diante\",\"fa\",\"medias\",\"test\",\"danos\",\"formada\",\"gera\",\"pedro\",\"ram\",\"available\",\"formando\",\"organismos\",\"penetracao\",\"previamente\",\"juntamente\",\"modificacoes\",\"subsuperficie\",\"tec\",\"atuais\",\"resultando\",\"considera\",\"gerada\",\"io\",\"rota\",\"estabelecimento\",\"realidade\",\"codigo\",\"massas\",\"reta\",\"albiano\",\"vegetais\",\"petrolifera\",\"excesso\",\"nenhum\",\"sais\",\"kgf\",\"natal\",\"ri\",\"structural\",\"est\",\"regionais\",\"significa\",\"dei\",\"detalhe\",\"equa\",\"facil\",\"fraturamento\",\"formados\",\"opcao\",\"revendedores\",\"us\",\"disponibilidade\",\"relativas\",\"reconhecimento\",\"versao\",\"gerencia\",\"havia\",\"sitios\",\"ativos\",\"restricoes\",\"cana\",\"fermentacao\",\"information\",\"vaso\",\"leva\",\"marinhos\",\"novamente\",\"secundaria\",\"sediments\",\"selecionados\",\"\\u03bc\",\"notas\",\"operador\",\"values\",\"desenvolvidas\",\"cretaceous\",\"alguma\",\"genero\",\"maritimo\",\"present\",\"adotado\",\"filme\",\"ligacao\",\"properties\",\"afloramentos\",\"avanco\",\"\\u0011\",\"car\",\"separador\",\"araujo\",\"cunha\",\"massica\",\"arcabouco\",\"estudada\",\"aluminio\",\"economicas\",\"graxos\",\"region\",\"usina\",\"finitos\",\"simulation\",\"talude\",\"engineers\",\"minimos\",\"permitiu\",\"mos\",\"distribution\",\"membranas\",\"retencao\",\"constituido\",\"geofisica\",\"jun\",\"montagem\",\"definidas\",\"performance\",\"sensores\",\"ampla\",\"atencao\",\"continuo\",\"inferiores\",\"macao\",\"puro\",\"diminui\",\"emulsao\",\"encontrado\",\"particula\",\"caxias\",\"london\",\"aberto\",\"case\",\"celulose\",\"tarifa\",\"tarifas\",\"vantagem\",\"correspondentes\",\"nenhuma\",\"atmosfera\",\"cu\",\"decreto\",\"derivado\",\"instituicao\",\"expanded\",\"figo\",\"segue\",\"\\u03bcm\",\"arquivo\",\"fixo\",\"ideia\",\"oh\",\"requer\",\"samples\",\"fornece\",\"potenciais\",\"ed\",\"complexos\",\"facilmente\",\"numeros\",\"order\",\"proximas\",\"atrito\",\"questoes\",\"canada\",\"numericos\",\"qav\",\"quartzo\",\"uni\",\"comparado\",\"estratigrafico\",\"licitacoes\",\"project\",\"paraiba\",\"bombas\",\"ir\",\"programacao\",\"carvalho\",\"transformacao\",\"bg\",\"localizada\",\"defesa\",\"laboratorios\",\"canadeacucar\",\"ficou\",\"preciso\",\"recente\",\"tracos\",\"condensado\",\"fenomenos\",\"internacionais\",\"mexico\",\"sugere\",\"verificacao\",\"sete\",\"experiencias\",\"feitos\",\"passando\",\"comparados\",\"\\u0005\",\"membros\",\"pdf\",\"complexidade\",\"estabelecido\",\"kpa\",\"number\",\"sen\",\"tam\",\"tende\",\"descarga\",\"receita\",\"apud\",\"contaminacao\",\"diario\",\"sub\",\"esperado\",\"leitura\",\"industry\",\"metade\",\"perfurados\",\"poderao\",\"alo\",\"espectros\",\"parnaiba\",\"bruto\",\"especificas\",\"chama\",\"distintos\",\"du\",\"folha\",\"general\",\"hora\",\"geoquimica\",\"nw\",\"territorio\",\"agradecimentos\",\"estabelecidos\",\"toneladas\",\"direcoes\",\"fez\",\"gr\",\"iguais\",\"terceira\",\"frequencias\",\"line\",\"chamado\",\"cloreto\",\"fluvial\",\"amsterdam\",\"campinas\",\"dificuldade\",\"praticas\",\"presented\",\"\\u0013\",\"litros\",\"ester\",\"models\",\"\\u0017\",\"comumente\",\"effect\",\"incluem\",\"transesterificacao\",\"verificase\",\"direito\",\"excecao\",\"exposto\",\"terceiro\",\"adotada\",\"emulsoes\",\"map\",\"tecnologicas\",\"aplicados\",\"application\",\"propostas\",\"anular\",\"caixa\",\"regulamentacao\",\"conservacao\",\"levar\",\"branca\",\"vidro\",\"fortemente\",\"fulgor\",\"posto\",\"pvc\",\"atendimento\",\"reserva\",\"virtude\",\"duque\",\"extremamente\",\"ga\",\"administracao\",\"limitacoes\",\"drenagem\",\"parafinas\",\"seletividade\",\"technical\",\"estimar\",\"medicoes\",\"promover\",\"reatores\",\"assunto\",\"atua\",\"livres\",\"opera\",\"tr\",\"acucar\",\"canal\",\"citado\",\"cone\",\"descrita\",\"amonia\",\"oleoduto\",\"provavel\",\"source\",\"cnp\",\"tensoativo\",\"air\",\"barbosa\",\"doce\",\"quebra\",\"gerando\",\"soares\",\"usuario\",\"aquosa\",\"aumentando\",\"futuros\",\"estudadas\",\"haver\",\"resolucoes\",\"fibras\",\"sulfato\",\"usp\",\"volta\",\"cujos\",\"related\",\"relatorios\",\"usadas\",\"acumulada\",\"adicional\",\"dissolucao\",\"fornecer\",\"vento\",\"\\uf02d\",\"acumulacao\",\"estudar\",\"ethanol\",\"permeacao\",\"rate\",\"\\u001a\",\"civil\",\"intuito\",\"melhoria\",\"provadas\",\"umidade\",\"instrumento\",\"tudo\",\"fusao\",\"preparo\",\"geo\",\"mme\",\"faixas\",\"possible\",\"publico\",\"dizer\",\"quantificacao\",\"capazes\",\"dt\",\"mostrados\",\"ostracodes\",\"earth\",\"ilustra\",\"quer\",\"similares\",\"incerteza\",\"primeiras\",\"viabilidade\",\"roberto\",\"fluxograma\",\"regular\",\"computador\",\"sumario\",\"terrestre\",\"\\u2022\\u2022\",\"brent\",\"garantia\",\"opep\",\"certa\",\"inclinacao\",\"processes\",\"salinidade\",\"atomos\",\"delta\",\"horizontais\",\"operar\",\"rela\",\"\\u03b8\",\"correspondem\",\"estimativas\",\"estocagem\",\"enfase\",\"significativamente\",\"auxilio\",\"bulletin\",\"levando\",\"placa\",\"descoberta\",\"poucos\",\"produ\",\"respectivas\",\"asfalto\",\"calcario\",\"determinadas\",\"fabrica\",\"niquel\",\"reservoirs\",\"desafios\",\"discussoes\",\"encontrada\",\"marcos\",\"renda\",\"pinto\",\"confiabilidade\",\"liberacao\",\"piloto\",\"castro\",\"crosta\",\"monopolio\",\"vermelho\",\"considerandose\",\"cromatografia\",\"ge\",\"nd\",\"companhias\",\"lineares\",\"pessoas\",\"tensoativos\",\"transpetro\",\"catalitica\",\"estatistica\",\"usa\",\"basal\",\"distrito\",\"fazem\",\"nestes\",\"adotados\",\"bras\",\"encontram\",\"entendimento\",\"margens\",\"movimentos\",\"produced\",\"respectivos\",\"superintendente\",\"acerca\",\"course\",\"ns\",\"porcentagem\",\"usinas\",\"governamentais\",\"matematica\",\"acrescimo\",\"perspectivas\",\"washington\",\"glycerol\",\"necessidades\",\"saude\",\"sinais\",\"margin\",\"st\",\"upper\",\"analisado\",\"anomalia\",\"vieira\",\"inversao\",\"meg\",\"organico\",\"pagamento\",\"vii\",\"vs\",\"envolve\",\"kw\",\"ln\",\"significativo\",\"vegetal\",\"estudado\",\"independente\",\"ipiranga\",\"th\",\"cinetica\",\"exp\",\"liquid\",\"relevante\",\"hidraulico\",\"management\",\"poderiam\",\"principios\",\"conexao\",\"activities\",\"documentos\",\"rapidamente\",\"tarefa\",\"ts\",\"glicose\",\"analitico\",\"compoem\",\"deformacoes\",\"denominado\",\"dimensao\",\"macae\",\"momentos\",\"dai\",\"denominada\",\"eo\",\"petroliferos\",\"determina\",\"aplicadas\",\"apre\",\"associacoes\",\"unicamp\",\"define\",\"envolvendo\",\"lopes\",\"montante\",\"oficial\",\"recentes\",\"compreensao\",\"fragmentos\",\"registros\",\"cimentacao\",\"comissao\",\"completo\",\"arranjo\",\"\\u00a7\",\"a\\u0014\",\"banda\",\"barril\",\"possibilidades\",\"bandas\",\"bolhas\",\"cacao\",\"diques\",\"foco\",\"obtemse\",\"produtoras\",\"edital\",\"leopoldo\",\"market\",\"reis\",\"activity\",\"arco\",\"eletrodo\",\"malhas\",\"refi\",\"three\",\"exploratorio\",\"fluviais\",\"nesses\",\"parcialmente\",\"recovery\",\"significativas\",\"tens\",\"deep\",\"oleodutos\",\"primeiramente\",\"tacao\",\"temas\",\"intensa\",\"residuais\",\"il\",\"portugal\",\"regulamento\",\"\\u0012\",\"\\u0016\",\"corrosion\",\"maquina\",\"caracterizada\",\"encontrar\",\"esteres\",\"however\",\"primaria\",\"heat\",\"melhorar\",\"patentes\",\"rigidez\",\"sergi\",\"terrestres\",\"variam\",\"ataque\",\"depositados\",\"elaborado\",\"indicado\",\"lignina\",\"magnitude\",\"todavia\",\"digital\",\"oceano\",\"boia\",\"crude\",\"liga\",\"aproximacao\",\"fisicos\",\"history\",\"tectonic\",\"teoricos\",\"certo\",\"defeitos\",\"dp\",\"regressao\",\"venezuela\",\"anomalias\",\"atlantic\",\"calha\",\"lavagem\",\"produz\",\"xi\",\"acid\",\"interacoes\",\"veiculo\",\"carta\",\"centros\",\"important\",\"poluicao\",\"queiroz\",\"usar\",\"apresentase\",\"passos\",\"exploratorios\",\"japao\",\"structure\",\"visa\",\"\\u2202\",\"ago\",\"geologists\",\"mecanicas\",\"metodologias\",\"possivelmente\",\"preenchimento\",\"destacar\",\"iso\",\"structures\",\"basicas\",\"carbonato\",\"dimensionamento\",\"representando\",\"san\",\"waste\",\"placas\",\"radial\",\"seca\",\"conglomerados\",\"dissolvido\",\"mapeamento\",\"oriente\",\"pessoa\",\"solimoes\",\"adocao\",\"direita\",\"frequentemente\",\"modeling\",\"poluentes\",\"rock\",\"frota\",\"grossa\",\"liquefeito\",\"observouse\",\"reduzido\",\"regulador\",\"years\",\"acidez\",\"convergencia\",\"estratigraficas\",\"preliminar\",\"recentemente\",\"bombeio\",\"assinatura\",\"costeira\",\"gel\",\"parafina\",\"pass\",\"tratamentos\",\"asfaltenos\",\"completamente\",\"conhecidos\",\"cores\",\"sdp\",\"atributos\",\"recebimento\",\"resources\",\"rosa\",\"ip\",\"texas\",\"exportacoes\",\"importadores\",\"populacao\",\"vel\",\"viii\",\"risers\",\"tubulacoes\",\"ativacao\",\"nal\",\"regra\",\"conformes\",\"dades\",\"expressa\",\"geradas\",\"leo\",\"referese\",\"\\u000e\\u0005\",\"gerador\",\"rev\",\"stage\",\"treatment\",\"respostas\",\"saber\",\"unit\",\"marlim\",\"tratase\",\"filtrado\",\"ligacoes\",\"cfd\",\"nucleo\",\"despesas\",\"esquerda\",\"etano\",\"modos\",\"ras\",\"tratado\",\"deu\",\"distribuidor\",\"irati\",\"ocorrencias\",\"oito\",\"prevencao\",\"compreende\",\"formar\",\"reynolds\",\"submetido\",\"precisa\",\"tio\",\"oportunidade\",\"positivo\",\"reagentes\",\"within\",\"developed\",\"parameters\",\"rapido\",\"comparativo\",\"cons\",\"eletricidade\",\"tomada\",\"zone\",\"estoques\",\"kj\",\"pouca\",\"estimada\",\"internas\",\"tornar\",\"alumina\",\"machado\",\"stream\",\"utilizam\",\"localizado\",\"lu\",\"beneficios\",\"dioxido\",\"\\u03bb\",\"critico\",\"fechamento\",\"hydrocarbons\",\"mobilidade\",\"pib\",\"point\",\"ribeiro\",\"validacao\",\"aisi\",\"complexa\",\"petroquimicas\",\"ria\",\"seccao\",\"controlada\",\"could\",\"orientador\",\"preservacao\",\"ali\",\"decisoes\",\"posicoes\",\"relevantes\",\"tura\",\"consideravel\",\"eoceno\",\"sismico\",\"gerenciamento\",\"gra\",\"incertezas\",\"modificacao\",\"paredes\",\"tg\",\"empregada\",\"ix\",\"tolueno\",\"bonito\",\"exceto\",\"level\",\"nestas\",\"permanente\",\"seguindo\",\"dispositivo\",\"fluids\",\"milhao\",\"submarinos\",\"sugestoes\",\"dinamico\",\"id\",\"idades\",\"metalicos\",\"ora\",\"escoamentos\",\"mestre\",\"nessas\",\"capilar\",\"geofisicos\",\"hidrato\",\"parada\",\"cot\",\"particularmente\",\"resistividade\",\"andrade\",\"categoria\",\"perfurado\",\"hidrogenacao\",\"investigacao\",\"standard\",\"bibliografica\",\"quality\",\"showing\",\"conformidades\",\"fault\",\"hidratos\",\"chegar\",\"continentais\",\"fun\",\"including\",\"mostrada\",\"redor\",\"thermal\",\"diminuir\",\"legal\",\"adicionais\",\"along\",\"sedi\",\"capa\",\"causar\",\"documento\",\"sobretudo\",\"\\u03b5\",\"cb\",\"conhecimentos\",\"disposicao\",\"catalysis\",\"cujas\",\"equatorial\",\"fcc\",\"ref\",\"\\u03c3\",\"d&i\",\"decomposicao\",\"eduardo\",\"injetado\",\"trajetoria\",\"biblioteca\",\"dr\",\"estratos\",\"infravermelho\",\"petroliferas\",\"trato\",\"uniforme\",\"posicionamento\",\"possuir\",\"sandstones\",\"caracterizado\",\"program\",\"teorica\",\"ui\",\"cap\",\"deposits\",\"observed\",\"rendimentos\",\"several\",\"sitio\",\"absoluta\",\"goias\",\"transportador\",\"diretrizes\",\"dispoe\",\"\\u00ab\",\"baseados\",\"geograficas\",\"atm\",\"instalada\",\"itens\",\"limitada\",\"medidos\",\"moura\",\"verificado\",\"cias\",\"compressor\",\"formato\",\"fundamentais\",\"municipio\",\"predominantemente\",\"proporcional\",\"centrais\",\"agricultura\",\"ativo\",\"bens\",\"north\",\"submersos\",\"\\u00b0f\",\"\\uf02b\",\"depth\",\"leilao\",\"baia\",\"cations\",\"competencia\",\"estabelecidas\",\"evaluation\",\"secretariaexecutiva\",\"vistas\",\"analitica\",\"bo\",\"miguez\",\"profunda\",\"range\",\"visual\",\"caminho\",\"emissions\",\"etilico\",\"matematico\",\"percentagem\",\"restricao\",\"ufrgs\",\"alcancar\",\"sw\",\"\\u03b4\",\"angular\",\"localizados\",\"minimizar\",\"paralelo\",\"porcoes\",\"propeno\",\"criar\",\"eteno\",\"facilidade\",\"partida\",\"subbacia\",\"afloramento\",\"foraminiferos\",\"jurassico\",\"molecula\",\"concluir\",\"cultivo\",\"depositional\",\"gravidade\",\"octanagem\",\"polietileno\",\"pres\",\"publicas\",\"applications\",\"estavel\",\"mergulho\",\"calculadas\",\"comercializado\",\"computacionais\",\"cultura\",\"essencialmente\",\"grafica\",\"previa\",\"tera\",\"acida\",\"mal\",\"renovaveis\",\"decorrentes\",\"fernandes\",\"hi\",\"laminas\",\"type\",\"geologos\",\"houston\",\"litoral\",\"lote\",\"nesw\",\"estimado\",\"filtros\",\"nbr\",\"pirolise\",\"\\u25b2\",\"onshore\",\"submetidos\",\"core\",\"estrategias\",\"faults\",\"reduz\",\"resultantes\",\"ag\",\"confianca\",\"facilitar\",\"independentes\",\"current\",\"ducao\",\"entalpia\",\"gem\",\"geologo\",\"intermediario\",\"department\",\"envolvidas\",\"fracionamento\",\"indicadores\",\"licitacao\",\"siltitos\",\"since\",\"trans\",\"anel\",\"motivo\",\"obra\",\"sedimento\",\"analisada\",\"consequente\",\"escolhido\",\"submarino\",\"catalysts\",\"rica\",\"rt\",\"company\"],\"x1\":{\"__ndarray__\":\"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\",\"dtype\":\"float32\",\"shape\":[3000]},\"x2\":{\"__ndarray__\":\"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\",\"dtype\":\"float32\",\"shape\":[3000]}}},\"id\":\"0a773a84-ef10-42eb-acd5-10f4ad2b3cce\",\"type\":\"ColumnDataSource\"},{\"attributes\":{},\"id\":\"f0caa9b7-1b9c-4542-abca-34b729bb6892\",\"type\":\"SaveTool\"},{\"attributes\":{\"below\":[{\"id\":\"90efc670-d4b8-4fec-ab57-b116a72b5f31\",\"type\":\"LinearAxis\"}],\"left\":[{\"id\":\"15082c67-ecb4-416d-8db8-209bb3b3473f\",\"type\":\"LinearAxis\"}],\"plot_height\":900,\"plot_width\":900,\"renderers\":[{\"id\":\"90efc670-d4b8-4fec-ab57-b116a72b5f31\",\"type\":\"LinearAxis\"},{\"id\":\"b7d42ec5-d06d-48da-b20e-6e532fa977d0\",\"type\":\"Grid\"},{\"id\":\"15082c67-ecb4-416d-8db8-209bb3b3473f\",\"type\":\"LinearAxis\"},{\"id\":\"83e72761-6cf5-468f-a5d9-73fa9c9f2758\",\"type\":\"Grid\"},{\"id\":\"417f69a6-9109-45a5-a4b3-f03368f94d2a\",\"type\":\"GlyphRenderer\"},{\"id\":\"3f5480f5-bd35-4278-9992-7b8ab56a91ea\",\"type\":\"LabelSet\"}],\"title\":{\"id\":\"4ff96154-f1ac-489e-bf05-67c094cfcf46\",\"type\":\"Title\"},\"toolbar\":{\"id\":\"631e02b2-7df9-48f5-95b9-590d0ed45a16\",\"type\":\"Toolbar\"},\"toolbar_location\":\"above\",\"x_range\":{\"id\":\"c04c207b-76e8-4a0a-93de-4601ebe70dc4\",\"type\":\"DataRange1d\"},\"x_scale\":{\"id\":\"ec11c02a-e755-4132-a0af-5b2cc7a8775b\",\"type\":\"LinearScale\"},\"y_range\":{\"id\":\"db1617fc-6cf2-46cf-95c3-67dd4d0bb534\",\"type\":\"DataRange1d\"},\"y_scale\":{\"id\":\"fc8ec588-10b2-4da5-825a-166150104b5c\",\"type\":\"LinearScale\"}},\"id\":\"76905b54-8c0d-488f-971e-7fcbd646cbd4\",\"subtype\":\"Figure\",\"type\":\"Plot\"},{\"attributes\":{},\"id\":\"5805250d-fc2e-484f-853c-1deb2bc7c330\",\"type\":\"PanTool\"},{\"attributes\":{},\"id\":\"ca4d208b-644f-4c8e-82cb-03f3dba8a87e\",\"type\":\"WheelZoomTool\"},{\"attributes\":{\"callback\":null},\"id\":\"db1617fc-6cf2-46cf-95c3-67dd4d0bb534\",\"type\":\"DataRange1d\"},{\"attributes\":{\"active_drag\":\"auto\",\"active_inspect\":\"auto\",\"active_scroll\":\"auto\",\"active_tap\":\"auto\",\"tools\":[{\"id\":\"5805250d-fc2e-484f-853c-1deb2bc7c330\",\"type\":\"PanTool\"},{\"id\":\"ca4d208b-644f-4c8e-82cb-03f3dba8a87e\",\"type\":\"WheelZoomTool\"},{\"id\":\"2c42eb27-6529-411a-bc90-a93ca5c1ac45\",\"type\":\"ResetTool\"},{\"id\":\"f0caa9b7-1b9c-4542-abca-34b729bb6892\",\"type\":\"SaveTool\"}]},\"id\":\"631e02b2-7df9-48f5-95b9-590d0ed45a16\",\"type\":\"Toolbar\"},{\"attributes\":{\"plot\":null,\"text\":\"word2vec T-SNE for most common words\"},\"id\":\"4ff96154-f1ac-489e-bf05-67c094cfcf46\",\"type\":\"Title\"},{\"attributes\":{},\"id\":\"fc8ec588-10b2-4da5-825a-166150104b5c\",\"type\":\"LinearScale\"},{\"attributes\":{\"data_source\":{\"id\":\"0a773a84-ef10-42eb-acd5-10f4ad2b3cce\",\"type\":\"ColumnDataSource\"},\"glyph\":{\"id\":\"9fdac650-43a5-4af5-933a-48c8ddf0708b\",\"type\":\"Circle\"},\"hover_glyph\":null,\"muted_glyph\":null,\"nonselection_glyph\":{\"id\":\"f00adb54-e8ad-4bb1-9687-54420407dcca\",\"type\":\"Circle\"},\"selection_glyph\":null,\"view\":{\"id\":\"7ee2a700-3f39-4c5a-9f1f-a4c50519d9aa\",\"type\":\"CDSView\"}},\"id\":\"417f69a6-9109-45a5-a4b3-f03368f94d2a\",\"type\":\"GlyphRenderer\"},{\"attributes\":{\"callback\":null},\"id\":\"c04c207b-76e8-4a0a-93de-4601ebe70dc4\",\"type\":\"DataRange1d\"},{\"attributes\":{},\"id\":\"836e3b9d-e52c-4870-a465-c32d575d8eef\",\"type\":\"BasicTicker\"},{\"attributes\":{\"source\":{\"id\":\"0a773a84-ef10-42eb-acd5-10f4ad2b3cce\",\"type\":\"ColumnDataSource\"}},\"id\":\"7ee2a700-3f39-4c5a-9f1f-a4c50519d9aa\",\"type\":\"CDSView\"},{\"attributes\":{\"plot\":{\"id\":\"76905b54-8c0d-488f-971e-7fcbd646cbd4\",\"subtype\":\"Figure\",\"type\":\"Plot\"},\"source\":{\"id\":\"0a773a84-ef10-42eb-acd5-10f4ad2b3cce\",\"type\":\"ColumnDataSource\"},\"text\":{\"field\":\"names\"},\"text_align\":\"center\",\"text_color\":{\"value\":\"#555555\"},\"text_font_size\":{\"value\":\"8pt\"},\"x\":{\"field\":\"x1\"},\"y\":{\"field\":\"x2\"},\"y_offset\":{\"value\":6}},\"id\":\"3f5480f5-bd35-4278-9992-7b8ab56a91ea\",\"type\":\"LabelSet\"},{\"attributes\":{\"formatter\":{\"id\":\"f1ad7534-461a-4332-9755-60740a1ccf68\",\"type\":\"BasicTickFormatter\"},\"plot\":{\"id\":\"76905b54-8c0d-488f-971e-7fcbd646cbd4\",\"subtype\":\"Figure\",\"type\":\"Plot\"},\"ticker\":{\"id\":\"836e3b9d-e52c-4870-a465-c32d575d8eef\",\"type\":\"BasicTicker\"}},\"id\":\"90efc670-d4b8-4fec-ab57-b116a72b5f31\",\"type\":\"LinearAxis\"},{\"attributes\":{\"fill_alpha\":{\"value\":0.1},\"fill_color\":{\"value\":\"#1f77b4\"},\"line_alpha\":{\"value\":0.1},\"line_color\":{\"value\":\"#1f77b4\"},\"size\":{\"units\":\"screen\",\"value\":8},\"x\":{\"field\":\"x1\"},\"y\":{\"field\":\"x2\"}},\"id\":\"f00adb54-e8ad-4bb1-9687-54420407dcca\",\"type\":\"Circle\"},{\"attributes\":{\"fill_color\":{\"value\":\"#1f77b4\"},\"line_color\":{\"value\":\"#1f77b4\"},\"size\":{\"units\":\"screen\",\"value\":8},\"x\":{\"field\":\"x1\"},\"y\":{\"field\":\"x2\"}},\"id\":\"9fdac650-43a5-4af5-933a-48c8ddf0708b\",\"type\":\"Circle\"},{\"attributes\":{\"formatter\":{\"id\":\"9b114ffc-31e6-4bd7-b0d0-95c995c612ac\",\"type\":\"BasicTickFormatter\"},\"plot\":{\"id\":\"76905b54-8c0d-488f-971e-7fcbd646cbd4\",\"subtype\":\"Figure\",\"type\":\"Plot\"},\"ticker\":{\"id\":\"bd5c7d61-c0f1-4a25-a8a4-afacc1118da7\",\"type\":\"BasicTicker\"}},\"id\":\"15082c67-ecb4-416d-8db8-209bb3b3473f\",\"type\":\"LinearAxis\"},{\"attributes\":{},\"id\":\"bd5c7d61-c0f1-4a25-a8a4-afacc1118da7\",\"type\":\"BasicTicker\"},{\"attributes\":{},\"id\":\"2c42eb27-6529-411a-bc90-a93ca5c1ac45\",\"type\":\"ResetTool\"}],\"root_ids\":[\"76905b54-8c0d-488f-971e-7fcbd646cbd4\"]},\"title\":\"Bokeh Application\",\"version\":\"0.12.10\"}};\n",
       "    var render_items = [{\"docid\":\"4aad00c9-102f-4bdd-b7e4-e708b8b0eed1\",\"elementid\":\"db8b5c76-3d7d-4c0a-abcd-e6fc4c3506ac\",\"modelid\":\"76905b54-8c0d-488f-971e-7fcbd646cbd4\"}];\n",
       "\n",
       "    root.Bokeh.embed.embed_items(docs_json, render_items);\n",
       "  }\n",
       "\n",
       "  if (root.Bokeh !== undefined) {\n",
       "    embed_document(root);\n",
       "  } else {\n",
       "    var attempts = 0;\n",
       "    var timer = setInterval(function(root) {\n",
       "      if (root.Bokeh !== undefined) {\n",
       "        embed_document(root);\n",
       "        clearInterval(timer);\n",
       "      }\n",
       "      attempts++;\n",
       "      if (attempts > 100) {\n",
       "        console.log(\"Bokeh: ERROR: Unable to embed document because BokehJS library is missing\")\n",
       "        clearInterval(timer);\n",
       "      }\n",
       "    }, 10, root)\n",
       "  }\n",
       "})(window);"
      ],
      "application/vnd.bokehjs_exec.v0+json": ""
     },
     "metadata": {
      "application/vnd.bokehjs_exec.v0+json": {
       "id": "76905b54-8c0d-488f-971e-7fcbd646cbd4"
      }
     },
     "output_type": "display_data"
    }
   ],
   "source": [
    "p = figure(tools=\"pan,wheel_zoom,reset,save\",\n",
    "           toolbar_location=\"above\",\n",
    "           title=\"word2vec T-SNE for most common words\",\n",
    "           plot_width=900, \n",
    "           plot_height=900)\n",
    "\n",
    "source = ColumnDataSource(data=dict(x1=embed_tsne[:,0],\n",
    "                                    x2=embed_tsne[:,1],\n",
    "                                    names=vocabulario))\n",
    "\n",
    "p.scatter(x=\"x1\", y=\"x2\", size=8, source=source)\n",
    "\n",
    "labels = LabelSet(x=\"x1\", y=\"x2\", text=\"names\", y_offset=6,\n",
    "                  text_font_size=\"8pt\", text_color=\"#555555\",\n",
    "                  source=source, text_align='center')\n",
    "p.add_layout(labels)\n",
    "\n",
    "show(p)"
   ]
  },
  {
   "cell_type": "code",
   "execution_count": null,
   "metadata": {
    "collapsed": true
   },
   "outputs": [],
   "source": []
  }
 ],
 "metadata": {
  "kernelspec": {
   "display_name": "Python 3",
   "language": "python",
   "name": "python3"
  },
  "language_info": {
   "codemirror_mode": {
    "name": "ipython",
    "version": 3
   },
   "file_extension": ".py",
   "mimetype": "text/x-python",
   "name": "python",
   "nbconvert_exporter": "python",
   "pygments_lexer": "ipython3",
   "version": "3.6.3"
  }
 },
 "nbformat": 4,
 "nbformat_minor": 2
}
