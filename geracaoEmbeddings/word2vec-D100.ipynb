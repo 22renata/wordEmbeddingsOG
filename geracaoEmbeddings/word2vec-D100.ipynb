{
 "cells": [
  {
   "cell_type": "code",
   "execution_count": 1,
   "metadata": {},
   "outputs": [
    {
     "name": "stderr",
     "output_type": "stream",
     "text": [
      "C:\\Users\\diogo\\Anaconda3\\lib\\site-packages\\gensim\\utils.py:1197: UserWarning: detected Windows; aliasing chunkize to chunkize_serial\n",
      "  warnings.warn(\"detected Windows; aliasing chunkize to chunkize_serial\")\n"
     ]
    }
   ],
   "source": [
    "import gensim\n",
    "from gensim.models import Word2Vec\n",
    "from gensim.models.word2vec import PathLineSentences\n",
    "import os\n",
    "from pathlib import Path\n",
    "import datetime"
   ]
  },
  {
   "cell_type": "code",
   "execution_count": 2,
   "metadata": {
    "collapsed": true
   },
   "outputs": [],
   "source": [
    "class MySentences(object):\n",
    "    def __init__(self, filename):\n",
    "        self.filename = filename\n",
    " \n",
    "    def __iter__(self):\n",
    "        for line in open(self.filename, 'r', encoding=\"UTF-8\"):\n",
    "            yield line.split()\n",
    "            #yield line\n",
    " "
   ]
  },
  {
   "cell_type": "markdown",
   "metadata": {},
   "source": [
    "## Considerando vetor de embedding com 50 dimensões"
   ]
  },
  {
   "cell_type": "code",
   "execution_count": 3,
   "metadata": {
    "collapsed": true
   },
   "outputs": [],
   "source": [
    "pathCorpus = os.path.join('..', \"_corpus\")\n",
    "sentences = PathLineSentences(pathCorpus)"
   ]
  },
  {
   "cell_type": "code",
   "execution_count": 4,
   "metadata": {},
   "outputs": [
    {
     "name": "stdout",
     "output_type": "stream",
     "text": [
      "Iniciando treinamento em word2vec\n",
      "Tempo total decorrido:  0:01:10.115011\n"
     ]
    }
   ],
   "source": [
    "print('Iniciando treinamento em word2vec')\n",
    "momentoInicial = datetime.datetime.now()\n",
    "\n",
    "model = Word2Vec(sentences, min_count=10, size=100)\n",
    "\n",
    "momentoFinal = datetime.datetime.now()\n",
    "print(\"Tempo total decorrido: \", momentoFinal - momentoInicial)"
   ]
  },
  {
   "cell_type": "code",
   "execution_count": 5,
   "metadata": {
    "collapsed": true
   },
   "outputs": [],
   "source": [
    "# Salvando o modelo\n",
    "arquivoModelo = os.path.join(\"modelos\", 'word2vec_100.model')\n",
    "model.save(arquivoModelo)"
   ]
  },
  {
   "cell_type": "code",
   "execution_count": 6,
   "metadata": {
    "collapsed": true
   },
   "outputs": [],
   "source": [
    "vocab = model.wv.index2word"
   ]
  },
  {
   "cell_type": "code",
   "execution_count": 7,
   "metadata": {},
   "outputs": [
    {
     "name": "stdout",
     "output_type": "stream",
     "text": [
      "['cid', 'sao', 'nao', 'gas', 'petroleo', 'ser', 'rio', 'petrobras', 'figura', 'producao']\n",
      "Tamanho do Vocabulario:  51908\n"
     ]
    }
   ],
   "source": [
    "print(vocab[:10])\n",
    "print('Tamanho do Vocabulario: ', len(vocab))"
   ]
  },
  {
   "cell_type": "code",
   "execution_count": 8,
   "metadata": {},
   "outputs": [
    {
     "name": "stdout",
     "output_type": "stream",
     "text": [
      "Word2vec: [('cenpes', 0.6239198446273804), ('e&p', 0.6001638770103455), ('empresa', 0.5906661152839661), ('p&d', 0.5771205425262451), ('companhia', 0.570834219455719), ('statoil', 0.5657901763916016), ('negocios', 0.5634889006614685), ('parceria', 0.5538510680198669), ('operadora', 0.5469069480895996), ('recebeu', 0.5422378182411194)]\n"
     ]
    }
   ],
   "source": [
    "print(\"Word2vec:\", model.most_similar(\"petrobras\"))"
   ]
  },
  {
   "cell_type": "code",
   "execution_count": 9,
   "metadata": {},
   "outputs": [
    {
     "name": "stdout",
     "output_type": "stream",
     "text": [
      "Word2vec: [('campos', 0.549098551273346), ('jazida', 0.5325629115104675), ('reservatorio', 0.529157280921936), ('potencial', 0.49860626459121704), ('bloco', 0.4819498062133789), ('reservatorios', 0.45807981491088867), ('lula', 0.4475017786026001), ('pioneiro', 0.44697466492652893), ('pocos', 0.4428269565105438), ('subsuperficie', 0.4388276934623718)]\n"
     ]
    }
   ],
   "source": [
    "print(\"Word2vec:\", model.most_similar(\"campo\"))"
   ]
  },
  {
   "cell_type": "code",
   "execution_count": 10,
   "metadata": {},
   "outputs": [
    {
     "name": "stdout",
     "output_type": "stream",
     "text": [
      "Word2vec: [('jubarte', 0.8060449361801147), ('albacora', 0.804984450340271), ('espadarte', 0.7876015901565552), ('barracuda', 0.7818177938461304), ('roncador', 0.7790510654449463), ('pampo', 0.7581204771995544), ('garoupa', 0.729506254196167), ('sapinhoa', 0.7259397506713867), ('marimba', 0.7251688241958618), ('enchova', 0.716850996017456)]\n"
     ]
    }
   ],
   "source": [
    "print(\"Word2vec:\", model.most_similar(\"marlim\"))"
   ]
  },
  {
   "cell_type": "code",
   "execution_count": 11,
   "metadata": {},
   "outputs": [
    {
     "name": "stdout",
     "output_type": "stream",
     "text": [
      "Word2vec: [('porosidade', 0.6483051776885986), ('geradora', 0.6321163773536682), ('porosa', 0.6174684166908264), ('reservatorio', 0.6059345006942749), ('rochas', 0.5808694362640381), ('poroso', 0.5754362344741821), ('selante', 0.5722160339355469), ('rochareservatorio', 0.5665265321731567), ('permeabilidade', 0.5658148527145386), ('poro', 0.5536726713180542)]\n"
     ]
    }
   ],
   "source": [
    "print(\"Word2vec:\", model.most_similar(\"rocha\"))"
   ]
  },
  {
   "cell_type": "code",
   "execution_count": 12,
   "metadata": {},
   "outputs": [
    {
     "name": "stdout",
     "output_type": "stream",
     "text": [
      "Word2vec: [('permeabilidade', 0.854008674621582), ('permea', 0.6565119028091431), ('rocha', 0.6483052372932434), ('poro', 0.6409624814987183), ('permoporosidade', 0.6245139837265015), ('gargantas', 0.621246337890625), ('saturacao', 0.6051387190818787), ('poros', 0.604487419128418), ('argilosidade', 0.6021685600280762), ('molhabilidade', 0.6008758544921875)]\n"
     ]
    }
   ],
   "source": [
    "print(\"Word2vec:\", model.most_similar(\"porosidade\"))"
   ]
  },
  {
   "cell_type": "code",
   "execution_count": 13,
   "metadata": {},
   "outputs": [
    {
     "name": "stdout",
     "output_type": "stream",
     "text": [
      "Word2vec: [('porosidade', 0.854008674621582), ('saturacao', 0.6888558268547058), ('resistividade', 0.6672393083572388), ('permea', 0.642139732837677), ('densidade', 0.6406126022338867), ('transmissibilidade', 0.6325589418411255), ('viscosidade', 0.6265305876731873), ('meabilidade', 0.6241852045059204), ('permoporosidade', 0.6181216239929199), ('solubilidade', 0.6168723106384277)]\n"
     ]
    }
   ],
   "source": [
    "print(\"Word2vec:\", model.most_similar(\"permeabilidade\"))"
   ]
  },
  {
   "cell_type": "code",
   "execution_count": 14,
   "metadata": {},
   "outputs": [
    {
     "name": "stdout",
     "output_type": "stream",
     "text": [
      "Word2vec: [('produzido', 0.5839728713035583), ('extracao', 0.578385591506958), ('produ', 0.5767145156860352), ('ducao', 0.5620613098144531), ('refino', 0.5413150191307068), ('oferta', 0.5396562814712524), ('produtividade', 0.5383867025375366), ('recuperacao', 0.5371707677841187), ('produzir', 0.5345604419708252), ('demanda', 0.5339513421058655)]\n"
     ]
    }
   ],
   "source": [
    "print(\"Word2vec:\", model.most_similar(\"producao\"))"
   ]
  },
  {
   "cell_type": "code",
   "execution_count": 15,
   "metadata": {},
   "outputs": [
    {
     "name": "stdout",
     "output_type": "stream",
     "text": [
      "Word2vec: [('petroleo', 0.5832805633544922), ('vazar', 0.5142987966537476), ('liquido', 0.5123260021209717), ('gasoleo', 0.4973598122596741), ('leve', 0.4695000946521759), ('hidrocarbonetos', 0.4694518446922302), ('oleos', 0.4680246114730835), ('solvente', 0.4482572674751282), ('fluido', 0.4469138979911804), ('condensado', 0.4374510645866394)]\n"
     ]
    }
   ],
   "source": [
    "print(\"Word2vec:\", model.most_similar(\"oleo\"))"
   ]
  },
  {
   "cell_type": "code",
   "execution_count": 16,
   "metadata": {},
   "outputs": [
    {
     "name": "stdout",
     "output_type": "stream",
     "text": [
      "Word2vec: [('reservatorios', 0.7259325385093689), ('servatorio', 0.672050952911377), ('jazida', 0.646669864654541), ('vatorio', 0.6430304050445557), ('reser', 0.6307891607284546), ('rocha', 0.6059345602989197), ('aquifero', 0.5776365995407104), ('fluido', 0.5754678249359131), ('rochareservatorio', 0.5697920918464661), ('fluxo', 0.5652250051498413)]\n"
     ]
    }
   ],
   "source": [
    "print(\"Word2vec:\", model.most_similar(\"reservatorio\"))"
   ]
  },
  {
   "cell_type": "code",
   "execution_count": 17,
   "metadata": {},
   "outputs": [
    {
     "name": "stdout",
     "output_type": "stream",
     "text": [
      "Word2vec: [('subsuperficie', 0.5211960077285767), ('depocentro', 0.5126065015792847), ('bloco', 0.5038992762565613), ('pioneiro', 0.49362847208976746), ('afloramento', 0.4895647168159485), ('jazida', 0.48956456780433655), ('dique', 0.48675352334976196), ('embasamento', 0.4839955270290375), ('magnetizacao', 0.4718485474586487), ('leste', 0.47095340490341187)]\n"
     ]
    }
   ],
   "source": [
    "print(\"Word2vec:\", model.most_similar(positive=[\"campo\", \"albacora\"], negative=[\"marlim\"]))"
   ]
  },
  {
   "cell_type": "markdown",
   "metadata": {},
   "source": [
    "## Recuperando um modelo gravado"
   ]
  },
  {
   "cell_type": "code",
   "execution_count": 2,
   "metadata": {},
   "outputs": [],
   "source": [
    "arquivoWord2vec = os.path.join(\"modelos\", 'word2vec_100.model')\n",
    "model = gensim.models.Word2Vec.load(arquivoWord2vec)\n",
    "\n",
    "# outras formas de carregar, usando os binarios\n",
    "#model = Word2Vec.load_word2vec_format('/tmp/vectors.txt', binary=False)\n",
    "# using gzipped/bz2 input works too, no need to unzip:\n",
    "#model = Word2Vec.load_word2vec_format('/tmp/vectors.bin.gz', binary=True)"
   ]
  },
  {
   "cell_type": "code",
   "execution_count": 3,
   "metadata": {},
   "outputs": [],
   "source": [
    "%matplotlib inline\n",
    "%config InlineBackend.figure_format = 'retina'\n",
    "\n",
    "\n",
    "import matplotlib.pyplot as plt\n",
    "from sklearn.manifold import TSNE\n",
    "import numpy as np"
   ]
  },
  {
   "cell_type": "code",
   "execution_count": 6,
   "metadata": {},
   "outputs": [
    {
     "name": "stdout",
     "output_type": "stream",
     "text": [
      "1000\n",
      "(1000, 50)\n"
     ]
    }
   ],
   "source": [
    "vocab_init = 0\n",
    "num_palavras = 1000\n",
    "\n",
    "vocabulario = model.wv.index2word\n",
    "vocabulario = vocabulario[:num_palavras]\n",
    "print(len(vocabulario))\n",
    "\n",
    "vetores = list()\n",
    "for id in range(vocab_init, num_palavras):\n",
    "    vetores.append(model.wv.word_vec(vocabulario[id]));\n",
    "\n",
    "matrix = np.vstack(vetores)    \n",
    "    \n",
    "print(matrix.shape)"
   ]
  },
  {
   "cell_type": "code",
   "execution_count": 7,
   "metadata": {},
   "outputs": [
    {
     "name": "stdout",
     "output_type": "stream",
     "text": [
      "Wall time: 30.6 s\n"
     ]
    }
   ],
   "source": [
    "%%time\n",
    "tsne = TSNE(n_components=2, random_state=0)\n",
    "embed_tsne = tsne.fit_transform(vetores)"
   ]
  },
  {
   "cell_type": "code",
   "execution_count": 4,
   "metadata": {},
   "outputs": [
    {
     "data": {
      "text/html": [
       "\n",
       "    <div class=\"bk-root\">\n",
       "        <a href=\"https://bokeh.pydata.org\" target=\"_blank\" class=\"bk-logo bk-logo-small bk-logo-notebook\"></a>\n",
       "        <span id=\"8b436652-0940-4945-a734-876d950663d8\">Loading BokehJS ...</span>\n",
       "    </div>"
      ]
     },
     "metadata": {},
     "output_type": "display_data"
    },
    {
     "data": {
      "application/javascript": [
       "\n",
       "(function(root) {\n",
       "  function now() {\n",
       "    return new Date();\n",
       "  }\n",
       "\n",
       "  var force = true;\n",
       "\n",
       "  if (typeof (root._bokeh_onload_callbacks) === \"undefined\" || force === true) {\n",
       "    root._bokeh_onload_callbacks = [];\n",
       "    root._bokeh_is_loading = undefined;\n",
       "  }\n",
       "\n",
       "  var JS_MIME_TYPE = 'application/javascript';\n",
       "  var HTML_MIME_TYPE = 'text/html';\n",
       "  var EXEC_MIME_TYPE = 'application/vnd.bokehjs_exec.v0+json';\n",
       "  var CLASS_NAME = 'output_bokeh rendered_html';\n",
       "\n",
       "  /**\n",
       "   * Render data to the DOM node\n",
       "   */\n",
       "  function render(props, node) {\n",
       "    var script = document.createElement(\"script\");\n",
       "    node.appendChild(script);\n",
       "  }\n",
       "\n",
       "  /**\n",
       "   * Handle when an output is cleared or removed\n",
       "   */\n",
       "  function handleClearOutput(event, handle) {\n",
       "    var cell = handle.cell;\n",
       "\n",
       "    var id = cell.output_area._bokeh_element_id;\n",
       "    var server_id = cell.output_area._bokeh_server_id;\n",
       "    // Clean up Bokeh references\n",
       "    if (id !== undefined) {\n",
       "      Bokeh.index[id].model.document.clear();\n",
       "      delete Bokeh.index[id];\n",
       "    }\n",
       "\n",
       "    if (server_id !== undefined) {\n",
       "      // Clean up Bokeh references\n",
       "      var cmd = \"from bokeh.io.state import curstate; print(curstate().uuid_to_server['\" + server_id + \"'].get_sessions()[0].document.roots[0]._id)\";\n",
       "      cell.notebook.kernel.execute(cmd, {\n",
       "        iopub: {\n",
       "          output: function(msg) {\n",
       "            var element_id = msg.content.text.trim();\n",
       "            Bokeh.index[element_id].model.document.clear();\n",
       "            delete Bokeh.index[element_id];\n",
       "          }\n",
       "        }\n",
       "      });\n",
       "      // Destroy server and session\n",
       "      var cmd = \"import bokeh.io.notebook as ion; ion.destroy_server('\" + server_id + \"')\";\n",
       "      cell.notebook.kernel.execute(cmd);\n",
       "    }\n",
       "  }\n",
       "\n",
       "  /**\n",
       "   * Handle when a new output is added\n",
       "   */\n",
       "  function handleAddOutput(event, handle) {\n",
       "    var output_area = handle.output_area;\n",
       "    var output = handle.output;\n",
       "\n",
       "    // limit handleAddOutput to display_data with EXEC_MIME_TYPE content only\n",
       "    if ((output.output_type != \"display_data\") || (!output.data.hasOwnProperty(EXEC_MIME_TYPE))) {\n",
       "      return\n",
       "    }\n",
       "\n",
       "    var toinsert = output_area.element.find(\".\" + CLASS_NAME.split(' ')[0]);\n",
       "\n",
       "    if (output.metadata[EXEC_MIME_TYPE][\"id\"] !== undefined) {\n",
       "      toinsert[toinsert.length - 1].firstChild.textContent = output.data[JS_MIME_TYPE];\n",
       "      // store reference to embed id on output_area\n",
       "      output_area._bokeh_element_id = output.metadata[EXEC_MIME_TYPE][\"id\"];\n",
       "    }\n",
       "    if (output.metadata[EXEC_MIME_TYPE][\"server_id\"] !== undefined) {\n",
       "      var bk_div = document.createElement(\"div\");\n",
       "      bk_div.innerHTML = output.data[HTML_MIME_TYPE];\n",
       "      var script_attrs = bk_div.children[0].attributes;\n",
       "      for (var i = 0; i < script_attrs.length; i++) {\n",
       "        toinsert[toinsert.length - 1].firstChild.setAttribute(script_attrs[i].name, script_attrs[i].value);\n",
       "      }\n",
       "      // store reference to server id on output_area\n",
       "      output_area._bokeh_server_id = output.metadata[EXEC_MIME_TYPE][\"server_id\"];\n",
       "    }\n",
       "  }\n",
       "\n",
       "  function register_renderer(events, OutputArea) {\n",
       "\n",
       "    function append_mime(data, metadata, element) {\n",
       "      // create a DOM node to render to\n",
       "      var toinsert = this.create_output_subarea(\n",
       "        metadata,\n",
       "        CLASS_NAME,\n",
       "        EXEC_MIME_TYPE\n",
       "      );\n",
       "      this.keyboard_manager.register_events(toinsert);\n",
       "      // Render to node\n",
       "      var props = {data: data, metadata: metadata[EXEC_MIME_TYPE]};\n",
       "      render(props, toinsert[toinsert.length - 1]);\n",
       "      element.append(toinsert);\n",
       "      return toinsert\n",
       "    }\n",
       "\n",
       "    /* Handle when an output is cleared or removed */\n",
       "    events.on('clear_output.CodeCell', handleClearOutput);\n",
       "    events.on('delete.Cell', handleClearOutput);\n",
       "\n",
       "    /* Handle when a new output is added */\n",
       "    events.on('output_added.OutputArea', handleAddOutput);\n",
       "\n",
       "    /**\n",
       "     * Register the mime type and append_mime function with output_area\n",
       "     */\n",
       "    OutputArea.prototype.register_mime_type(EXEC_MIME_TYPE, append_mime, {\n",
       "      /* Is output safe? */\n",
       "      safe: true,\n",
       "      /* Index of renderer in `output_area.display_order` */\n",
       "      index: 0\n",
       "    });\n",
       "  }\n",
       "\n",
       "  // register the mime type if in Jupyter Notebook environment and previously unregistered\n",
       "  if (root.Jupyter !== undefined) {\n",
       "    var events = require('base/js/events');\n",
       "    var OutputArea = require('notebook/js/outputarea').OutputArea;\n",
       "\n",
       "    if (OutputArea.prototype.mime_types().indexOf(EXEC_MIME_TYPE) == -1) {\n",
       "      register_renderer(events, OutputArea);\n",
       "    }\n",
       "  }\n",
       "\n",
       "  \n",
       "  if (typeof (root._bokeh_timeout) === \"undefined\" || force === true) {\n",
       "    root._bokeh_timeout = Date.now() + 5000;\n",
       "    root._bokeh_failed_load = false;\n",
       "  }\n",
       "\n",
       "  var NB_LOAD_WARNING = {'data': {'text/html':\n",
       "     \"<div style='background-color: #fdd'>\\n\"+\n",
       "     \"<p>\\n\"+\n",
       "     \"BokehJS does not appear to have successfully loaded. If loading BokehJS from CDN, this \\n\"+\n",
       "     \"may be due to a slow or bad network connection. Possible fixes:\\n\"+\n",
       "     \"</p>\\n\"+\n",
       "     \"<ul>\\n\"+\n",
       "     \"<li>re-rerun `output_notebook()` to attempt to load from CDN again, or</li>\\n\"+\n",
       "     \"<li>use INLINE resources instead, as so:</li>\\n\"+\n",
       "     \"</ul>\\n\"+\n",
       "     \"<code>\\n\"+\n",
       "     \"from bokeh.resources import INLINE\\n\"+\n",
       "     \"output_notebook(resources=INLINE)\\n\"+\n",
       "     \"</code>\\n\"+\n",
       "     \"</div>\"}};\n",
       "\n",
       "  function display_loaded() {\n",
       "    var el = document.getElementById(\"8b436652-0940-4945-a734-876d950663d8\");\n",
       "    if (el != null) {\n",
       "      el.textContent = \"BokehJS is loading...\";\n",
       "    }\n",
       "    if (root.Bokeh !== undefined) {\n",
       "      if (el != null) {\n",
       "        el.textContent = \"BokehJS \" + root.Bokeh.version + \" successfully loaded.\";\n",
       "      }\n",
       "    } else if (Date.now() < root._bokeh_timeout) {\n",
       "      setTimeout(display_loaded, 100)\n",
       "    }\n",
       "  }\n",
       "\n",
       "\n",
       "  function run_callbacks() {\n",
       "    try {\n",
       "      root._bokeh_onload_callbacks.forEach(function(callback) { callback() });\n",
       "    }\n",
       "    finally {\n",
       "      delete root._bokeh_onload_callbacks\n",
       "    }\n",
       "    console.info(\"Bokeh: all callbacks have finished\");\n",
       "  }\n",
       "\n",
       "  function load_libs(js_urls, callback) {\n",
       "    root._bokeh_onload_callbacks.push(callback);\n",
       "    if (root._bokeh_is_loading > 0) {\n",
       "      console.log(\"Bokeh: BokehJS is being loaded, scheduling callback at\", now());\n",
       "      return null;\n",
       "    }\n",
       "    if (js_urls == null || js_urls.length === 0) {\n",
       "      run_callbacks();\n",
       "      return null;\n",
       "    }\n",
       "    console.log(\"Bokeh: BokehJS not loaded, scheduling load and callback at\", now());\n",
       "    root._bokeh_is_loading = js_urls.length;\n",
       "    for (var i = 0; i < js_urls.length; i++) {\n",
       "      var url = js_urls[i];\n",
       "      var s = document.createElement('script');\n",
       "      s.src = url;\n",
       "      s.async = false;\n",
       "      s.onreadystatechange = s.onload = function() {\n",
       "        root._bokeh_is_loading--;\n",
       "        if (root._bokeh_is_loading === 0) {\n",
       "          console.log(\"Bokeh: all BokehJS libraries loaded\");\n",
       "          run_callbacks()\n",
       "        }\n",
       "      };\n",
       "      s.onerror = function() {\n",
       "        console.warn(\"failed to load library \" + url);\n",
       "      };\n",
       "      console.log(\"Bokeh: injecting script tag for BokehJS library: \", url);\n",
       "      document.getElementsByTagName(\"head\")[0].appendChild(s);\n",
       "    }\n",
       "  };var element = document.getElementById(\"8b436652-0940-4945-a734-876d950663d8\");\n",
       "  if (element == null) {\n",
       "    console.log(\"Bokeh: ERROR: autoload.js configured with elementid '8b436652-0940-4945-a734-876d950663d8' but no matching script tag was found. \")\n",
       "    return false;\n",
       "  }\n",
       "\n",
       "  var js_urls = [\"https://cdn.pydata.org/bokeh/release/bokeh-0.12.16.min.js\", \"https://cdn.pydata.org/bokeh/release/bokeh-widgets-0.12.16.min.js\", \"https://cdn.pydata.org/bokeh/release/bokeh-tables-0.12.16.min.js\", \"https://cdn.pydata.org/bokeh/release/bokeh-gl-0.12.16.min.js\"];\n",
       "\n",
       "  var inline_js = [\n",
       "    function(Bokeh) {\n",
       "      Bokeh.set_log_level(\"info\");\n",
       "    },\n",
       "    \n",
       "    function(Bokeh) {\n",
       "      \n",
       "    },\n",
       "    function(Bokeh) {\n",
       "      console.log(\"Bokeh: injecting CSS: https://cdn.pydata.org/bokeh/release/bokeh-0.12.16.min.css\");\n",
       "      Bokeh.embed.inject_css(\"https://cdn.pydata.org/bokeh/release/bokeh-0.12.16.min.css\");\n",
       "      console.log(\"Bokeh: injecting CSS: https://cdn.pydata.org/bokeh/release/bokeh-widgets-0.12.16.min.css\");\n",
       "      Bokeh.embed.inject_css(\"https://cdn.pydata.org/bokeh/release/bokeh-widgets-0.12.16.min.css\");\n",
       "      console.log(\"Bokeh: injecting CSS: https://cdn.pydata.org/bokeh/release/bokeh-tables-0.12.16.min.css\");\n",
       "      Bokeh.embed.inject_css(\"https://cdn.pydata.org/bokeh/release/bokeh-tables-0.12.16.min.css\");\n",
       "    }\n",
       "  ];\n",
       "\n",
       "  function run_inline_js() {\n",
       "    \n",
       "    if ((root.Bokeh !== undefined) || (force === true)) {\n",
       "      for (var i = 0; i < inline_js.length; i++) {\n",
       "        inline_js[i].call(root, root.Bokeh);\n",
       "      }if (force === true) {\n",
       "        display_loaded();\n",
       "      }} else if (Date.now() < root._bokeh_timeout) {\n",
       "      setTimeout(run_inline_js, 100);\n",
       "    } else if (!root._bokeh_failed_load) {\n",
       "      console.log(\"Bokeh: BokehJS failed to load within specified timeout.\");\n",
       "      root._bokeh_failed_load = true;\n",
       "    } else if (force !== true) {\n",
       "      var cell = $(document.getElementById(\"8b436652-0940-4945-a734-876d950663d8\")).parents('.cell').data().cell;\n",
       "      cell.output_area.append_execute_result(NB_LOAD_WARNING)\n",
       "    }\n",
       "\n",
       "  }\n",
       "\n",
       "  if (root._bokeh_is_loading === 0) {\n",
       "    console.log(\"Bokeh: BokehJS loaded, going straight to plotting\");\n",
       "    run_inline_js();\n",
       "  } else {\n",
       "    load_libs(js_urls, function() {\n",
       "      console.log(\"Bokeh: BokehJS plotting callback run at\", now());\n",
       "      run_inline_js();\n",
       "    });\n",
       "  }\n",
       "}(window));"
      ],
      "application/vnd.bokehjs_load.v0+json": "\n(function(root) {\n  function now() {\n    return new Date();\n  }\n\n  var force = true;\n\n  if (typeof (root._bokeh_onload_callbacks) === \"undefined\" || force === true) {\n    root._bokeh_onload_callbacks = [];\n    root._bokeh_is_loading = undefined;\n  }\n\n  \n\n  \n  if (typeof (root._bokeh_timeout) === \"undefined\" || force === true) {\n    root._bokeh_timeout = Date.now() + 5000;\n    root._bokeh_failed_load = false;\n  }\n\n  var NB_LOAD_WARNING = {'data': {'text/html':\n     \"<div style='background-color: #fdd'>\\n\"+\n     \"<p>\\n\"+\n     \"BokehJS does not appear to have successfully loaded. If loading BokehJS from CDN, this \\n\"+\n     \"may be due to a slow or bad network connection. Possible fixes:\\n\"+\n     \"</p>\\n\"+\n     \"<ul>\\n\"+\n     \"<li>re-rerun `output_notebook()` to attempt to load from CDN again, or</li>\\n\"+\n     \"<li>use INLINE resources instead, as so:</li>\\n\"+\n     \"</ul>\\n\"+\n     \"<code>\\n\"+\n     \"from bokeh.resources import INLINE\\n\"+\n     \"output_notebook(resources=INLINE)\\n\"+\n     \"</code>\\n\"+\n     \"</div>\"}};\n\n  function display_loaded() {\n    var el = document.getElementById(\"8b436652-0940-4945-a734-876d950663d8\");\n    if (el != null) {\n      el.textContent = \"BokehJS is loading...\";\n    }\n    if (root.Bokeh !== undefined) {\n      if (el != null) {\n        el.textContent = \"BokehJS \" + root.Bokeh.version + \" successfully loaded.\";\n      }\n    } else if (Date.now() < root._bokeh_timeout) {\n      setTimeout(display_loaded, 100)\n    }\n  }\n\n\n  function run_callbacks() {\n    try {\n      root._bokeh_onload_callbacks.forEach(function(callback) { callback() });\n    }\n    finally {\n      delete root._bokeh_onload_callbacks\n    }\n    console.info(\"Bokeh: all callbacks have finished\");\n  }\n\n  function load_libs(js_urls, callback) {\n    root._bokeh_onload_callbacks.push(callback);\n    if (root._bokeh_is_loading > 0) {\n      console.log(\"Bokeh: BokehJS is being loaded, scheduling callback at\", now());\n      return null;\n    }\n    if (js_urls == null || js_urls.length === 0) {\n      run_callbacks();\n      return null;\n    }\n    console.log(\"Bokeh: BokehJS not loaded, scheduling load and callback at\", now());\n    root._bokeh_is_loading = js_urls.length;\n    for (var i = 0; i < js_urls.length; i++) {\n      var url = js_urls[i];\n      var s = document.createElement('script');\n      s.src = url;\n      s.async = false;\n      s.onreadystatechange = s.onload = function() {\n        root._bokeh_is_loading--;\n        if (root._bokeh_is_loading === 0) {\n          console.log(\"Bokeh: all BokehJS libraries loaded\");\n          run_callbacks()\n        }\n      };\n      s.onerror = function() {\n        console.warn(\"failed to load library \" + url);\n      };\n      console.log(\"Bokeh: injecting script tag for BokehJS library: \", url);\n      document.getElementsByTagName(\"head\")[0].appendChild(s);\n    }\n  };var element = document.getElementById(\"8b436652-0940-4945-a734-876d950663d8\");\n  if (element == null) {\n    console.log(\"Bokeh: ERROR: autoload.js configured with elementid '8b436652-0940-4945-a734-876d950663d8' but no matching script tag was found. \")\n    return false;\n  }\n\n  var js_urls = [\"https://cdn.pydata.org/bokeh/release/bokeh-0.12.16.min.js\", \"https://cdn.pydata.org/bokeh/release/bokeh-widgets-0.12.16.min.js\", \"https://cdn.pydata.org/bokeh/release/bokeh-tables-0.12.16.min.js\", \"https://cdn.pydata.org/bokeh/release/bokeh-gl-0.12.16.min.js\"];\n\n  var inline_js = [\n    function(Bokeh) {\n      Bokeh.set_log_level(\"info\");\n    },\n    \n    function(Bokeh) {\n      \n    },\n    function(Bokeh) {\n      console.log(\"Bokeh: injecting CSS: https://cdn.pydata.org/bokeh/release/bokeh-0.12.16.min.css\");\n      Bokeh.embed.inject_css(\"https://cdn.pydata.org/bokeh/release/bokeh-0.12.16.min.css\");\n      console.log(\"Bokeh: injecting CSS: https://cdn.pydata.org/bokeh/release/bokeh-widgets-0.12.16.min.css\");\n      Bokeh.embed.inject_css(\"https://cdn.pydata.org/bokeh/release/bokeh-widgets-0.12.16.min.css\");\n      console.log(\"Bokeh: injecting CSS: https://cdn.pydata.org/bokeh/release/bokeh-tables-0.12.16.min.css\");\n      Bokeh.embed.inject_css(\"https://cdn.pydata.org/bokeh/release/bokeh-tables-0.12.16.min.css\");\n    }\n  ];\n\n  function run_inline_js() {\n    \n    if ((root.Bokeh !== undefined) || (force === true)) {\n      for (var i = 0; i < inline_js.length; i++) {\n        inline_js[i].call(root, root.Bokeh);\n      }if (force === true) {\n        display_loaded();\n      }} else if (Date.now() < root._bokeh_timeout) {\n      setTimeout(run_inline_js, 100);\n    } else if (!root._bokeh_failed_load) {\n      console.log(\"Bokeh: BokehJS failed to load within specified timeout.\");\n      root._bokeh_failed_load = true;\n    } else if (force !== true) {\n      var cell = $(document.getElementById(\"8b436652-0940-4945-a734-876d950663d8\")).parents('.cell').data().cell;\n      cell.output_area.append_execute_result(NB_LOAD_WARNING)\n    }\n\n  }\n\n  if (root._bokeh_is_loading === 0) {\n    console.log(\"Bokeh: BokehJS loaded, going straight to plotting\");\n    run_inline_js();\n  } else {\n    load_libs(js_urls, function() {\n      console.log(\"Bokeh: BokehJS plotting callback run at\", now());\n      run_inline_js();\n    });\n  }\n}(window));"
     },
     "metadata": {},
     "output_type": "display_data"
    }
   ],
   "source": [
    "from bokeh.models import ColumnDataSource, LabelSet\n",
    "from bokeh.plotting import figure, show, output_file\n",
    "from bokeh.io import output_notebook\n",
    "import bokeh\n",
    "output_notebook()\n"
   ]
  },
  {
   "cell_type": "code",
   "execution_count": 9,
   "metadata": {},
   "outputs": [
    {
     "data": {
      "text/html": [
       "\n",
       "<div class=\"bk-root\">\n",
       "    <div class=\"bk-plotdiv\" id=\"a60064a8-941b-4c06-896c-f5d5398f9ae3\"></div>\n",
       "</div>"
      ]
     },
     "metadata": {},
     "output_type": "display_data"
    },
    {
     "data": {
      "application/javascript": [
       "(function(root) {\n",
       "  function embed_document(root) {\n",
       "    var docs_json = {\"2a2cfa7c-68f2-4fbe-a5be-ba00dd937b5b\":{\"roots\":{\"references\":[{\"attributes\":{\"formatter\":{\"id\":\"990c901a-eedd-42e8-aaa7-f6f485cc9865\",\"type\":\"BasicTickFormatter\"},\"plot\":{\"id\":\"04aace8e-d17c-4626-9f3d-db3b92f8dfff\",\"subtype\":\"Figure\",\"type\":\"Plot\"},\"ticker\":{\"id\":\"361bd3db-d8ec-4df1-bacd-63ae81391080\",\"type\":\"BasicTicker\"}},\"id\":\"28a9c57e-eb38-4fe8-b6db-a7ca89e6f12a\",\"type\":\"LinearAxis\"},{\"attributes\":{},\"id\":\"361bd3db-d8ec-4df1-bacd-63ae81391080\",\"type\":\"BasicTicker\"},{\"attributes\":{\"fill_color\":{\"value\":\"#1f77b4\"},\"line_color\":{\"value\":\"#1f77b4\"},\"size\":{\"units\":\"screen\",\"value\":8},\"x\":{\"field\":\"x1\"},\"y\":{\"field\":\"x2\"}},\"id\":\"9d9c917c-8105-4e01-8695-54d5453fc8d5\",\"type\":\"Circle\"},{\"attributes\":{\"plot\":{\"id\":\"04aace8e-d17c-4626-9f3d-db3b92f8dfff\",\"subtype\":\"Figure\",\"type\":\"Plot\"},\"ticker\":{\"id\":\"361bd3db-d8ec-4df1-bacd-63ae81391080\",\"type\":\"BasicTicker\"}},\"id\":\"bd1a6398-8ea4-47cd-9d8b-be16d0e8cd9f\",\"type\":\"Grid\"},{\"attributes\":{\"source\":{\"id\":\"2d1b4539-fb74-499d-b7f4-15814840f7f0\",\"type\":\"ColumnDataSource\"}},\"id\":\"74870111-e6fd-4ab6-a6ba-16dc766138c8\",\"type\":\"CDSView\"},{\"attributes\":{\"formatter\":{\"id\":\"c0f1ae2d-7881-4b49-a2c9-347b8cba5e42\",\"type\":\"BasicTickFormatter\"},\"plot\":{\"id\":\"04aace8e-d17c-4626-9f3d-db3b92f8dfff\",\"subtype\":\"Figure\",\"type\":\"Plot\"},\"ticker\":{\"id\":\"7f637999-7e29-44a8-a2c6-25bd9cfd68ad\",\"type\":\"BasicTicker\"}},\"id\":\"a4ded756-c9b2-42ce-8764-f3fe5701bb6a\",\"type\":\"LinearAxis\"},{\"attributes\":{},\"id\":\"7f637999-7e29-44a8-a2c6-25bd9cfd68ad\",\"type\":\"BasicTicker\"},{\"attributes\":{\"dimension\":1,\"plot\":{\"id\":\"04aace8e-d17c-4626-9f3d-db3b92f8dfff\",\"subtype\":\"Figure\",\"type\":\"Plot\"},\"ticker\":{\"id\":\"7f637999-7e29-44a8-a2c6-25bd9cfd68ad\",\"type\":\"BasicTicker\"}},\"id\":\"d1fd9298-2c9c-444f-9b3c-b20405bce8f0\",\"type\":\"Grid\"},{\"attributes\":{\"plot\":{\"id\":\"04aace8e-d17c-4626-9f3d-db3b92f8dfff\",\"subtype\":\"Figure\",\"type\":\"Plot\"},\"source\":{\"id\":\"2d1b4539-fb74-499d-b7f4-15814840f7f0\",\"type\":\"ColumnDataSource\"},\"text\":{\"field\":\"names\"},\"text_align\":\"center\",\"text_color\":{\"value\":\"#555555\"},\"text_font_size\":{\"value\":\"8pt\"},\"x\":{\"field\":\"x1\"},\"y\":{\"field\":\"x2\"},\"y_offset\":{\"value\":6}},\"id\":\"faf39903-f87d-45ac-a878-660705a4c858\",\"type\":\"LabelSet\"},{\"attributes\":{},\"id\":\"a98181f5-5fbe-413a-b277-9a5dbe1fe3f5\",\"type\":\"PanTool\"},{\"attributes\":{\"below\":[{\"id\":\"28a9c57e-eb38-4fe8-b6db-a7ca89e6f12a\",\"type\":\"LinearAxis\"}],\"left\":[{\"id\":\"a4ded756-c9b2-42ce-8764-f3fe5701bb6a\",\"type\":\"LinearAxis\"}],\"plot_height\":900,\"plot_width\":900,\"renderers\":[{\"id\":\"28a9c57e-eb38-4fe8-b6db-a7ca89e6f12a\",\"type\":\"LinearAxis\"},{\"id\":\"bd1a6398-8ea4-47cd-9d8b-be16d0e8cd9f\",\"type\":\"Grid\"},{\"id\":\"a4ded756-c9b2-42ce-8764-f3fe5701bb6a\",\"type\":\"LinearAxis\"},{\"id\":\"d1fd9298-2c9c-444f-9b3c-b20405bce8f0\",\"type\":\"Grid\"},{\"id\":\"ad56d32d-cd65-4f67-a627-44e50944eb02\",\"type\":\"GlyphRenderer\"},{\"id\":\"faf39903-f87d-45ac-a878-660705a4c858\",\"type\":\"LabelSet\"}],\"title\":{\"id\":\"9abf2550-7178-452a-a080-5f03fbbd78ba\",\"type\":\"Title\"},\"toolbar\":{\"id\":\"29ce6709-6e0c-4faf-945d-d13a0bd3bc65\",\"type\":\"Toolbar\"},\"toolbar_location\":\"above\",\"x_range\":{\"id\":\"69a35324-baf7-46ff-ab51-662debe657d9\",\"type\":\"DataRange1d\"},\"x_scale\":{\"id\":\"bab95f0c-418a-43c3-8b5a-024464a8e933\",\"type\":\"LinearScale\"},\"y_range\":{\"id\":\"ec9d9ce5-ed02-42e3-8f0d-65e9c85fed88\",\"type\":\"DataRange1d\"},\"y_scale\":{\"id\":\"cb6b33d3-a59b-41fb-aff8-5251f3809206\",\"type\":\"LinearScale\"}},\"id\":\"04aace8e-d17c-4626-9f3d-db3b92f8dfff\",\"subtype\":\"Figure\",\"type\":\"Plot\"},{\"attributes\":{\"callback\":null,\"column_names\":[\"x1\",\"x2\",\"names\"],\"data\":{\"names\":[\"cid\",\"sao\",\"nao\",\"gas\",\"petroleo\",\"ser\",\"rio\",\"petrobras\",\"figura\",\"producao\",\"oleo\",\"janeiro\",\"natural\",\"agua\",\"dados\",\"formacao\",\"sistema\",\"bacia\",\"pode\",\"anp\",\"tambem\",\"brasil\",\"processo\",\"maior\",\"tabela\",\"modelo\",\"tempo\",\"forma\",\"resultados\",\"area\",\"total\",\"cada\",\"analise\",\"grande\",\"pressao\",\"ate\",\"temperatura\",\"regiao\",\"onde\",\"caso\",\"partir\",\"valores\",\"trabalho\",\"sendo\",\"fig\",\"relacao\",\"ja\",\"valor\",\"fonte\",\"assim\",\"tipo\",\"parte\",\"volume\",\"meio\",\"base\",\"atraves\",\"energia\",\"desenvolvimento\",\"condicoes\",\"outros\",\"segundo\",\"podem\",\"fase\",\"estudo\",\"mar\",\"alem\",\"nacional\",\"numero\",\"diesel\",\"co\",\"etanol\",\"sul\",\"pocos\",\"amostras\",\"ainda\",\"campo\",\"metodo\",\"capacidade\",\"campos\",\"apos\",\"distribuicao\",\"precos\",\"transporte\",\"projeto\",\"dois\",\"bem\",\"funcao\",\"aumento\",\"equacao\",\"mercado\",\"ponto\",\"unidade\",\"neste\",\"industria\",\"diferentes\",\"gasolina\",\"combustiveis\",\"operacao\",\"secao\",\"produtos\",\"biodiesel\",\"devido\",\"uso\",\"terra\",\"norte\",\"estao\",\"\\u00b0c\",\"apenas\",\"engenharia\",\"programa\",\"tres\",\"duas\",\"concentracao\",\"controle\",\"deste\",\"conforme\",\"universidade\",\"possivel\",\"apresenta\",\"areas\",\"processos\",\"longo\",\"paulo\",\"unidades\",\"ano\",\"sistemas\",\"anos\",\"quanto\",\"vez\",\"combustivel\",\"media\",\"principais\",\"fluido\",\"boletim\",\"parametros\",\"cao\",\"obtidos\",\"exploracao\",\"oil\",\"massa\",\"pesquisa\",\"velocidade\",\"solucao\",\"superior\",\"vazao\",\"nivel\",\"material\",\"menor\",\"acordo\",\"qualidade\",\"medio\",\"periodo\",\"sp\",\"superficie\",\"deve\",\"resolucao\",\"desta\",\"carga\",\"consumo\",\"setor\",\"estrutura\",\"exemplo\",\"federal\",\"derivados\",\"mistura\",\"final\",\"amostra\",\"geral\",\"comportamento\",\"estudos\",\"alta\",\"presenca\",\"quantidade\",\"avaliacao\",\"outras\",\"caracteristicas\",\"atividades\",\"fluxo\",\"atividade\",\"ambiente\",\"regioes\",\"sera\",\"modelos\",\"bacias\",\"reducao\",\"tecnica\",\"pois\",\"perfuracao\",\"dia\",\"zona\",\"produto\",\"quimica\",\"calculo\",\"objetivo\",\"facies\",\"ltda\",\"nt\",\"custo\",\"cm\",\"taxa\",\"alguns\",\"inferior\",\"mm\",\"tecnico\",\"utilizacao\",\"utilizado\",\"brasileiro\",\"metodos\",\"pais\",\"nc\",\"fluidos\",\"ar\",\"efeito\",\"aplicacao\",\"geologia\",\"modo\",\"evolucao\",\"outro\",\"pontos\",\"mesma\",\"propriedades\",\"quais\",\"sob\",\"preco\",\"tais\",\"grupo\",\"tal\",\"grandes\",\"informacoes\",\"centro\",\"rochas\",\"\\u00b7\",\"figure\",\"entao\",\"reservatorio\",\"variacao\",\"ter\",\"tratamento\",\"santos\",\"km\",\"reacao\",\"recursos\",\"grafico\",\"escoamento\",\"presente\",\"milhoes\",\"biocombustiveis\",\"teor\",\"tecnologia\",\"plataforma\",\"utilizados\",\"tensao\",\"acido\",\"fator\",\"importante\",\"ocorre\",\"materiais\",\"fato\",\"liquido\",\"linha\",\"mostra\",\"brasileira\",\"\\uf0b7\",\"hidrocarbonetos\",\"conjunto\",\"menos\",\"jan\",\"razao\",\"sedimentos\",\"coluna\",\"lei\",\"fim\",\"empresas\",\"primeiro\",\"simulacao\",\"recuperacao\",\"inicial\",\"mg\",\"empresa\",\"principal\",\"todas\",\"pro\",\"disponivel\",\"viscosidade\",\"elementos\",\"kg\",\"maiores\",\"sequencia\",\"sido\",\"acima\",\"primeira\",\"dentro\",\"ca\",\"topo\",\"faixa\",\"alto\",\"determinacao\",\"industrial\",\"principalmente\",\"melhor\",\"porem\",\"pesquisas\",\"nova\",\"composicao\",\"\\u2212\",\"cerca\",\"dessa\",\"densidade\",\"injecao\",\"espessura\",\"projetos\",\"direcao\",\"portanto\",\"ordem\",\"reservatorios\",\"variaveis\",\"entrada\",\"new\",\"br\",\"testes\",\"problema\",\"teste\",\"bahia\",\"oleos\",\"rodada\",\"geracao\",\"arenitos\",\"influencia\",\"potencial\",\"basin\",\"capitulo\",\"diametro\",\"www\",\"trabalhos\",\"casos\",\"falhas\",\"paises\",\"peso\",\"oc\",\"seguintes\",\"fatores\",\"carbono\",\"padrao\",\"ocorrencia\",\"inicio\",\"referencia\",\"pe\",\"custos\",\"baixa\",\"petroleum\",\"curva\",\"iv\",\"diversos\",\"enquanto\",\"refinaria\",\"data\",\"continental\",\"equipamentos\",\"fundo\",\"etapa\",\"perfil\",\"escala\",\"parana\",\"demanda\",\"aguas\",\"tipos\",\"corrente\",\"vapor\",\"serem\",\"resultado\",\"calor\",\"catalisador\",\"respectivamente\",\"algumas\",\"apresentam\",\"processamento\",\"equacoes\",\"necessario\",\"cenpes\",\"crescimento\",\"comparacao\",\"corrosao\",\"disso\",\"entretanto\",\"componentes\",\"problemas\",\"particulas\",\"qualquer\",\"separacao\",\"profundidade\",\"n\\u00b0\",\"limite\",\"podese\",\"eficiencia\",\"acesso\",\"constante\",\"tecnicas\",\"mento\",\"jose\",\"compostos\",\"utilizando\",\"http\",\"analises\",\"intervalo\",\"water\",\"r$\",\"possui\",\"medida\",\"utilizada\",\"lado\",\"curvas\",\"mente\",\"santo\",\"perda\",\"nesta\",\"desse\",\"ensaios\",\"devem\",\"dezembro\",\"grau\",\"well\",\"participacao\",\"vista\",\"min\",\"nesse\",\"central\",\"local\",\"maxima\",\"ai\",\"baixo\",\"demais\",\"termos\",\"resistencia\",\"fracao\",\"destilacao\",\"deformacao\",\"obtencao\",\"estruturas\",\"indice\",\"fases\",\"\\u00b1\",\"camadas\",\"laboratorio\",\"temperaturas\",\"production\",\"glp\",\"serao\",\"us$\",\"ml\",\"construcao\",\"somente\",\"silva\",\"ph\",\"alcool\",\"metodologia\",\"novas\",\"bastante\",\"sempre\",\"rj\",\"mapa\",\"costa\",\"li\",\"manutencao\",\"vezes\",\"fontes\",\"apresentados\",\"reservas\",\"mil\",\"comprimento\",\"origem\",\"representa\",\"falha\",\"blocos\",\"desempenho\",\"seguir\",\"gases\",\"rocha\",\"metros\",\"introducao\",\"abaixo\",\"quatro\",\"maximo\",\"flow\",\"journal\",\"ensaio\",\"efeitos\",\"cor\",\"autores\",\"modelagem\",\"espirito\",\"embora\",\"novo\",\"toda\",\"desses\",\"pouco\",\"agentes\",\"serie\",\"contato\",\"aproximadamente\",\"nordeste\",\"sergipe\",\"jul\",\"departamento\",\"diferenca\",\"coeficiente\",\"matriz\",\"novos\",\"diversas\",\"po\",\"vertical\",\"relatorio\",\"saida\",\"outra\",\"energy\",\"niveis\",\"tendo\",\"malha\",\"realizada\",\"importancia\",\"inclui\",\"idade\",\"maio\",\"mestrado\",\"igual\",\"frequencia\",\"linhas\",\"permite\",\"posicao\",\"necessidade\",\"experimental\",\"maneira\",\"mo\",\"entanto\",\"agencia\",\"feita\",\"varios\",\"aspecto\",\"distribuidora\",\"dias\",\"obtido\",\"transferencia\",\"alagoas\",\"catalisadores\",\"ver\",\"destes\",\"margem\",\"atualmente\",\"obter\",\"aqui\",\"ambiental\",\"realizados\",\"estrutural\",\"resposta\",\"medidas\",\"apesar\",\"abr\",\"vendas\",\"experimentais\",\"seguinte\",\"fi\",\"correlacao\",\"forca\",\"dou\",\"real\",\"servicos\",\"segunda\",\"apresentado\",\"depositos\",\"termica\",\"etc\",\"tamanho\",\"curso\",\"deposicao\",\"caracterizacao\",\"permeabilidade\",\"tubo\",\"rede\",\"aco\",\"si\",\"comercializacao\",\"figuras\",\"aspectos\",\"linear\",\"porosidade\",\"dado\",\"porcao\",\"produtores\",\"atual\",\"plano\",\"barris\",\"\\u0003\",\"seguranca\",\"enxofre\",\"presentes\",\"procedimento\",\"pa\",\"vida\",\"vem\",\"observado\",\"des\",\"obtida\",\"remocao\",\"dez\",\"folhelhos\",\"utilizadas\",\"informacao\",\"combustao\",\"operacoes\",\"equipamento\",\"global\",\"perfis\",\"divisao\",\"carvao\",\"localizacao\",\"considerando\",\"comercial\",\"liquidos\",\"definicao\",\"autor\",\"camada\",\"internacional\",\"contratos\",\"sedimentares\",\"ba\",\"realizadas\",\"concentracoes\",\"dissertacao\",\"servico\",\"oes\",\"monitoramento\",\"especial\",\"obtidas\",\"anterior\",\"dutos\",\"sudeste\",\"ciclo\",\"zonas\",\"interesse\",\"analysis\",\"engineering\",\"reconcavo\",\"boa\",\"distribuidoras\",\"tecnicos\",\"acao\",\"condicao\",\"variavel\",\"interpretacao\",\"realizacao\",\"etapas\",\"regional\",\"classificacao\",\"realizado\",\"planejamento\",\"conhecimento\",\"leste\",\"adsorcao\",\"solucoes\",\"mundial\",\"tubos\",\"importacao\",\"lubrificantes\",\"acidos\",\"regime\",\"prazo\",\"economica\",\"corpo\",\"investimentos\",\"simples\",\"especifica\",\"brazil\",\"instalacao\",\"queda\",\"variacoes\",\"propria\",\"formation\",\"minimo\",\"especies\",\"reator\",\"folhelho\",\"gerais\",\"arenito\",\"extracao\",\"instituto\",\"conversao\",\"eletrica\",\"reacoes\",\"corpos\",\"motor\",\"sedimentacao\",\"distancia\",\"contendo\",\"instalacoes\",\"dentre\",\"parametro\",\"ocorrem\",\"interna\",\"literatura\",\"risco\",\"produzido\",\"interno\",\"diretamente\",\"deslocamento\",\"apresentou\",\"momento\",\"adicao\",\"duto\",\"livre\",\"geology\",\"materia\",\"horizontal\",\"observar\",\"bomba\",\"membro\",\"computacional\",\"ppm\",\"solo\",\"quase\",\"geociencias\",\"menores\",\"horas\",\"varias\",\"santa\",\"natureza\",\"situacao\",\"oliveira\",\"marco\",\"system\",\"mecanica\",\"espaco\",\"sedimentar\",\"visto\",\"pr\",\"sismica\",\"tos\",\"equilibrio\",\"objetivos\",\"possuem\",\"importantes\",\"refino\",\"ufrj\",\"hidrogenio\",\"usado\",\"potencia\",\"cabo\",\"grupos\",\"correntes\",\"portaria\",\"secoes\",\"operacional\",\"seguida\",\"consiste\",\"ajuste\",\"offshore\",\"research\",\"geometria\",\"integracao\",\"bilhoes\",\"cadeia\",\"esquema\",\"york\",\"nota\",\"percentual\",\"quadro\",\"amazonas\",\"formacoes\",\"souza\",\"mes\",\"elaboracao\",\"tendencia\",\"torno\",\"termo\",\"dada\",\"refinarias\",\"abstract\",\"carlos\",\"item\",\"artigo\",\"cos\",\"via\",\"expansao\",\"model\",\"original\",\"corresponde\",\"maioria\",\"erro\",\"relativa\",\"registro\",\"limites\",\"onda\",\"imagem\",\"volumes\",\"oxidacao\",\"componente\",\"per\",\"tese\",\"astm\",\"anteriormente\",\"minas\",\"politica\",\"medios\",\"contexto\",\"imagens\",\"dimensoes\",\"resumo\",\"revisao\",\"embasamento\",\"dade\",\"existe\",\"considerado\",\"estabilidade\",\"normal\",\"composto\",\"apresentar\",\"possibilidade\",\"avaliar\",\"tensoes\",\"descricao\",\"altura\",\"sal\",\"operacionais\",\"api\",\"antonio\",\"sequencias\",\"observase\",\"ambientais\",\"coes\",\"apoio\",\"geralmente\",\"dessas\",\"society\",\"oxigenio\",\"apresentaram\",\"argila\",\"prova\",\"aquisicao\",\"organica\",\"existencia\",\"proprio\",\"bom\",\"existentes\",\"misturas\",\"anexo\",\"energetica\",\"hidratado\",\"oeste\",\"referencias\",\"interior\",\"indica\",\"glicerol\",\"proposta\",\"$\",\"poder\",\"apresentada\",\"ra\",\"res\",\"comercio\",\"existem\",\"feito\",\"elemento\",\"determinado\",\"oferta\",\"america\",\"fazer\",\"consumidor\",\"proximo\",\"questao\",\"produzida\",\"normalmente\",\"veiculos\",\"extensao\",\"conta\",\"nafta\",\"vi\",\"determinar\",\"companhia\",\"international\",\"movimento\",\"cuja\",\"nov\",\"di\",\"american\",\"using\",\"rendimento\",\"nessa\",\"sintese\",\"faz\",\"metano\",\"used\",\"ho\",\"pre\",\"metais\",\"poros\",\"riser\",\"cinco\",\"logo\",\"economia\",\"mundo\",\"molar\",\"pressoes\",\"economico\",\"gasoduto\",\"encontrados\",\"study\",\"comum\",\"responsavel\",\"destas\",\"passo\",\"soja\",\"chemical\",\"papel\",\"simulacoes\",\"areia\",\"ambos\",\"unidos\",\"eventos\",\"cp\",\"possiveis\",\"pequena\",\"molecular\",\"also\",\"identificacao\",\"desenvolvido\",\"software\",\"apresentadas\",\"xisto\",\"filho\",\"infraestrutura\",\"ta\",\"time\",\"movimentacao\",\"criacao\",\"\\u0006\",\"ac\",\"eixo\",\"contudo\",\"serra\",\"fracoes\",\"petro\",\"elevacao\",\"abastecimento\",\"taxas\",\"realizar\",\"otimizacao\",\"lista\",\"estagio\",\"tecnologias\",\"cimento\",\"emissoes\",\"\\u000f\",\"estratigrafica\",\"high\",\"joao\",\"estatistico\",\"respeito\",\"associado\",\"ro\",\"versus\",\"tectonica\",\"dinamica\",\"ultimos\",\"technology\",\"conclusoes\",\"padroes\",\"results\",\"aplicada\",\"\\u0002\",\"maria\",\"medicao\",\"solidos\",\"leito\",\"solvente\",\"economicos\",\"gasodutos\",\"determinada\",\"aumentar\",\"podendo\",\"doutorado\",\"federacao\",\"experimento\",\"necessaria\",\"va\",\"especificacoes\",\"inspecao\",\"porto\",\"externa\",\"mudanca\",\"bloco\",\"angulo\",\"nitrogenio\",\"produtor\",\"associacao\",\"tabelas\",\"aplicacoes\",\"altas\",\"process\",\"locais\",\"impacto\",\"diagrama\",\"pratica\"],\"x1\":{\"__ndarray__\":\"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\",\"dtype\":\"float32\",\"shape\":[1000]},\"x2\":{\"__ndarray__\":\"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\",\"dtype\":\"float32\",\"shape\":[1000]}}},\"id\":\"2d1b4539-fb74-499d-b7f4-15814840f7f0\",\"type\":\"ColumnDataSource\"},{\"attributes\":{},\"id\":\"c0f1ae2d-7881-4b49-a2c9-347b8cba5e42\",\"type\":\"BasicTickFormatter\"},{\"attributes\":{\"plot\":null,\"text\":\"word2vec T-SNE for most common words\"},\"id\":\"9abf2550-7178-452a-a080-5f03fbbd78ba\",\"type\":\"Title\"},{\"attributes\":{},\"id\":\"990c901a-eedd-42e8-aaa7-f6f485cc9865\",\"type\":\"BasicTickFormatter\"},{\"attributes\":{},\"id\":\"7c27ed6f-f2af-4077-9297-5236dccd2cf5\",\"type\":\"WheelZoomTool\"},{\"attributes\":{\"callback\":null},\"id\":\"69a35324-baf7-46ff-ab51-662debe657d9\",\"type\":\"DataRange1d\"},{\"attributes\":{},\"id\":\"6527b042-6b13-4c27-a456-b940701267c2\",\"type\":\"ResetTool\"},{\"attributes\":{\"active_drag\":\"auto\",\"active_inspect\":\"auto\",\"active_scroll\":\"auto\",\"active_tap\":\"auto\",\"tools\":[{\"id\":\"a98181f5-5fbe-413a-b277-9a5dbe1fe3f5\",\"type\":\"PanTool\"},{\"id\":\"7c27ed6f-f2af-4077-9297-5236dccd2cf5\",\"type\":\"WheelZoomTool\"},{\"id\":\"6527b042-6b13-4c27-a456-b940701267c2\",\"type\":\"ResetTool\"},{\"id\":\"ae0ca43e-3d14-455b-863b-248f8a78dc31\",\"type\":\"SaveTool\"}]},\"id\":\"29ce6709-6e0c-4faf-945d-d13a0bd3bc65\",\"type\":\"Toolbar\"},{\"attributes\":{},\"id\":\"ae0ca43e-3d14-455b-863b-248f8a78dc31\",\"type\":\"SaveTool\"},{\"attributes\":{},\"id\":\"bab95f0c-418a-43c3-8b5a-024464a8e933\",\"type\":\"LinearScale\"},{\"attributes\":{\"fill_alpha\":{\"value\":0.1},\"fill_color\":{\"value\":\"#1f77b4\"},\"line_alpha\":{\"value\":0.1},\"line_color\":{\"value\":\"#1f77b4\"},\"size\":{\"units\":\"screen\",\"value\":8},\"x\":{\"field\":\"x1\"},\"y\":{\"field\":\"x2\"}},\"id\":\"9cc6fdc3-ac9f-4057-b8b2-ec90fd233f4e\",\"type\":\"Circle\"},{\"attributes\":{\"callback\":null},\"id\":\"ec9d9ce5-ed02-42e3-8f0d-65e9c85fed88\",\"type\":\"DataRange1d\"},{\"attributes\":{\"data_source\":{\"id\":\"2d1b4539-fb74-499d-b7f4-15814840f7f0\",\"type\":\"ColumnDataSource\"},\"glyph\":{\"id\":\"9d9c917c-8105-4e01-8695-54d5453fc8d5\",\"type\":\"Circle\"},\"hover_glyph\":null,\"muted_glyph\":null,\"nonselection_glyph\":{\"id\":\"9cc6fdc3-ac9f-4057-b8b2-ec90fd233f4e\",\"type\":\"Circle\"},\"selection_glyph\":null,\"view\":{\"id\":\"74870111-e6fd-4ab6-a6ba-16dc766138c8\",\"type\":\"CDSView\"}},\"id\":\"ad56d32d-cd65-4f67-a627-44e50944eb02\",\"type\":\"GlyphRenderer\"},{\"attributes\":{},\"id\":\"cb6b33d3-a59b-41fb-aff8-5251f3809206\",\"type\":\"LinearScale\"}],\"root_ids\":[\"04aace8e-d17c-4626-9f3d-db3b92f8dfff\"]},\"title\":\"Bokeh Application\",\"version\":\"0.12.10\"}};\n",
       "    var render_items = [{\"docid\":\"2a2cfa7c-68f2-4fbe-a5be-ba00dd937b5b\",\"elementid\":\"a60064a8-941b-4c06-896c-f5d5398f9ae3\",\"modelid\":\"04aace8e-d17c-4626-9f3d-db3b92f8dfff\"}];\n",
       "\n",
       "    root.Bokeh.embed.embed_items(docs_json, render_items);\n",
       "  }\n",
       "\n",
       "  if (root.Bokeh !== undefined) {\n",
       "    embed_document(root);\n",
       "  } else {\n",
       "    var attempts = 0;\n",
       "    var timer = setInterval(function(root) {\n",
       "      if (root.Bokeh !== undefined) {\n",
       "        embed_document(root);\n",
       "        clearInterval(timer);\n",
       "      }\n",
       "      attempts++;\n",
       "      if (attempts > 100) {\n",
       "        console.log(\"Bokeh: ERROR: Unable to embed document because BokehJS library is missing\")\n",
       "        clearInterval(timer);\n",
       "      }\n",
       "    }, 10, root)\n",
       "  }\n",
       "})(window);"
      ],
      "application/vnd.bokehjs_exec.v0+json": ""
     },
     "metadata": {
      "application/vnd.bokehjs_exec.v0+json": {
       "id": "04aace8e-d17c-4626-9f3d-db3b92f8dfff"
      }
     },
     "output_type": "display_data"
    }
   ],
   "source": [
    "p = figure(tools=\"pan,wheel_zoom,reset,save\",\n",
    "           toolbar_location=\"above\",\n",
    "           title=\"word2vec T-SNE for most common words\",\n",
    "           plot_width=900, \n",
    "           plot_height=900)\n",
    "\n",
    "source = ColumnDataSource(data=dict(x1=embed_tsne[:,0],\n",
    "                                    x2=embed_tsne[:,1],\n",
    "                                    names=vocabulario))\n",
    "\n",
    "p.scatter(x=\"x1\", y=\"x2\", size=8, source=source)\n",
    "\n",
    "labels = LabelSet(x=\"x1\", y=\"x2\", text=\"names\", y_offset=6,\n",
    "                  text_font_size=\"8pt\", text_color=\"#555555\",\n",
    "                  source=source, text_align='center')\n",
    "p.add_layout(labels)\n",
    "\n",
    "show(p)"
   ]
  },
  {
   "cell_type": "markdown",
   "metadata": {
    "collapsed": true
   },
   "source": [
    "## Nova geração do TSNE, com maior volume de dados, priorizando a ordenação do vocabulário pelas palavras mais comuns\n"
   ]
  },
  {
   "cell_type": "code",
   "execution_count": 11,
   "metadata": {},
   "outputs": [],
   "source": [
    "arquivoEntrada = os.path.join('..','corpus_unificado', \"corpus.txt\")\n",
    "with open(arquivoEntrada, 'r', encoding=\"UTF-8\") as f:\n",
    "    texto = f.read()"
   ]
  },
  {
   "cell_type": "code",
   "execution_count": 12,
   "metadata": {},
   "outputs": [],
   "source": [
    "from collections import Counter\n",
    "word_counts = Counter(texto.split())"
   ]
  },
  {
   "cell_type": "code",
   "execution_count": 14,
   "metadata": {},
   "outputs": [
    {
     "name": "stdout",
     "output_type": "stream",
     "text": [
      "(2999, 100)\n"
     ]
    }
   ],
   "source": [
    "most_commom = word_counts.most_common(3000) # lista das palavras mais comuns do vocabulario\n",
    "\n",
    "### Obtendo os vetores para as paalvras mais comuns\n",
    "#2- Iterar enter as 1000 palavras mais comuns e pegar o vetor de cada uma usando: model.wv['computer']  # numpy vector of a word\n",
    "# ou testar: say_vector = model['say']  # get vector for word\n",
    "#3- empilhar os vetores apenas das palavras mais comuns do vocabulário, e rodar o TSNE\n",
    "\n",
    "vocabulario = list()\n",
    "vetores = list()\n",
    "\n",
    "for word in most_commom:\n",
    "    palavra = word[0]\n",
    "    #print(palavra)\n",
    "    if (palavra in model.wv.vocab):\n",
    "        vocabulario.append(palavra)\n",
    "        vetores.append(model.wv.word_vec(palavra));\n",
    "matrix = np.vstack(vetores)    \n",
    "    \n",
    "print(matrix.shape)"
   ]
  },
  {
   "cell_type": "code",
   "execution_count": 17,
   "metadata": {},
   "outputs": [
    {
     "name": "stdout",
     "output_type": "stream",
     "text": [
      "Wall time: 1min 2s\n"
     ]
    }
   ],
   "source": [
    "%%time\n",
    "tsne = TSNE(n_components=2, random_state=0, perplexity=12,early_exaggeration=10  )\n",
    "embed_tsne = tsne.fit_transform(vetores)"
   ]
  },
  {
   "cell_type": "code",
   "execution_count": 18,
   "metadata": {},
   "outputs": [
    {
     "data": {
      "text/html": [
       "\n",
       "<div class=\"bk-root\">\n",
       "    <div class=\"bk-plotdiv\" id=\"783fb86f-7b21-42f7-ae68-73a6b8c2cdde\"></div>\n",
       "</div>"
      ]
     },
     "metadata": {},
     "output_type": "display_data"
    },
    {
     "data": {
      "application/javascript": [
       "(function(root) {\n",
       "  function embed_document(root) {\n",
       "    \n",
       "  var docs_json = {\"2cabae84-d912-4ea4-a168-d191b40c1cf3\":{\"roots\":{\"references\":[{\"attributes\":{\"data_source\":{\"id\":\"344e40a9-19ee-41f2-aebc-bc81506e84d4\",\"type\":\"ColumnDataSource\"},\"glyph\":{\"id\":\"5bd7735b-4970-4998-8dbf-e218457c022f\",\"type\":\"Circle\"},\"hover_glyph\":null,\"muted_glyph\":null,\"nonselection_glyph\":{\"id\":\"4165e1cc-0b81-4aa4-9185-eed82249b7c5\",\"type\":\"Circle\"},\"selection_glyph\":null,\"view\":{\"id\":\"49af97d4-f09f-4494-830a-5f6e42e1e275\",\"type\":\"CDSView\"}},\"id\":\"8effadeb-f965-4028-9cf8-329b5e55062a\",\"type\":\"GlyphRenderer\"},{\"attributes\":{},\"id\":\"8ad75ffc-7874-4a0a-8a6b-8fb49d7d0036\",\"type\":\"UnionRenderers\"},{\"attributes\":{},\"id\":\"f593ae06-389c-4efb-bca0-fc48951fb7e3\",\"type\":\"LinearScale\"},{\"attributes\":{},\"id\":\"0b6e993b-9af4-44dd-9aa2-feaa105942ce\",\"type\":\"BasicTicker\"},{\"attributes\":{},\"id\":\"fea66d63-f51d-4169-8f41-3a8e1e8b4f73\",\"type\":\"SaveTool\"},{\"attributes\":{},\"id\":\"98c8d759-627f-4811-bf46-6697d34eb98e\",\"type\":\"ResetTool\"},{\"attributes\":{},\"id\":\"217e5ac6-f91b-41a8-b28a-c30ac1bf1330\",\"type\":\"Selection\"},{\"attributes\":{},\"id\":\"c7b579bf-0195-4e38-8040-64657a525045\",\"type\":\"WheelZoomTool\"},{\"attributes\":{\"dimension\":1,\"plot\":{\"id\":\"373080c1-3821-4e60-b1a2-5acd362750c6\",\"subtype\":\"Figure\",\"type\":\"Plot\"},\"ticker\":{\"id\":\"0b6e993b-9af4-44dd-9aa2-feaa105942ce\",\"type\":\"BasicTicker\"}},\"id\":\"6e2b4859-cc3c-4fca-8bff-4611984674e2\",\"type\":\"Grid\"},{\"attributes\":{},\"id\":\"685755b3-d838-4682-928f-155f30e1f9ed\",\"type\":\"BasicTickFormatter\"},{\"attributes\":{},\"id\":\"7f6042f4-9572-44cb-8ac9-508a53a8b143\",\"type\":\"PanTool\"},{\"attributes\":{},\"id\":\"5dc189e9-faf9-46d9-afa0-dfecd00adcfd\",\"type\":\"BasicTickFormatter\"},{\"attributes\":{\"source\":{\"id\":\"344e40a9-19ee-41f2-aebc-bc81506e84d4\",\"type\":\"ColumnDataSource\"}},\"id\":\"49af97d4-f09f-4494-830a-5f6e42e1e275\",\"type\":\"CDSView\"},{\"attributes\":{\"fill_color\":{\"value\":\"#1f77b4\"},\"line_color\":{\"value\":\"#1f77b4\"},\"size\":{\"units\":\"screen\",\"value\":8},\"x\":{\"field\":\"x1\"},\"y\":{\"field\":\"x2\"}},\"id\":\"5bd7735b-4970-4998-8dbf-e218457c022f\",\"type\":\"Circle\"},{\"attributes\":{\"callback\":null},\"id\":\"a4704416-02f9-4831-9f2d-ea7d406d2c77\",\"type\":\"DataRange1d\"},{\"attributes\":{\"plot\":{\"id\":\"373080c1-3821-4e60-b1a2-5acd362750c6\",\"subtype\":\"Figure\",\"type\":\"Plot\"},\"source\":{\"id\":\"344e40a9-19ee-41f2-aebc-bc81506e84d4\",\"type\":\"ColumnDataSource\"},\"text\":{\"field\":\"names\"},\"text_align\":\"center\",\"text_color\":{\"value\":\"#555555\"},\"text_font_size\":{\"value\":\"12pt\"},\"x\":{\"field\":\"x1\"},\"y\":{\"field\":\"x2\"},\"y_offset\":{\"value\":6}},\"id\":\"dbd992b4-5d2a-4fec-b235-1ecce9c57f98\",\"type\":\"LabelSet\"},{\"attributes\":{\"formatter\":{\"id\":\"5dc189e9-faf9-46d9-afa0-dfecd00adcfd\",\"type\":\"BasicTickFormatter\"},\"plot\":{\"id\":\"373080c1-3821-4e60-b1a2-5acd362750c6\",\"subtype\":\"Figure\",\"type\":\"Plot\"},\"ticker\":{\"id\":\"5b10fd64-715f-4b92-bcd7-7b552a46e4d9\",\"type\":\"BasicTicker\"}},\"id\":\"59aa5248-8388-484b-a9ce-d48fbe41f209\",\"type\":\"LinearAxis\"},{\"attributes\":{\"callback\":null},\"id\":\"d52dbfab-79ce-4201-bad8-a47f4549e47f\",\"type\":\"DataRange1d\"},{\"attributes\":{},\"id\":\"96bda9ba-c05a-4a13-9a23-cd92c76a9fdc\",\"type\":\"LinearScale\"},{\"attributes\":{\"fill_alpha\":{\"value\":0.1},\"fill_color\":{\"value\":\"#1f77b4\"},\"line_alpha\":{\"value\":0.1},\"line_color\":{\"value\":\"#1f77b4\"},\"size\":{\"units\":\"screen\",\"value\":8},\"x\":{\"field\":\"x1\"},\"y\":{\"field\":\"x2\"}},\"id\":\"4165e1cc-0b81-4aa4-9185-eed82249b7c5\",\"type\":\"Circle\"},{\"attributes\":{\"formatter\":{\"id\":\"685755b3-d838-4682-928f-155f30e1f9ed\",\"type\":\"BasicTickFormatter\"},\"plot\":{\"id\":\"373080c1-3821-4e60-b1a2-5acd362750c6\",\"subtype\":\"Figure\",\"type\":\"Plot\"},\"ticker\":{\"id\":\"0b6e993b-9af4-44dd-9aa2-feaa105942ce\",\"type\":\"BasicTicker\"}},\"id\":\"9cb273df-272f-424d-80b4-fcf21de71efd\",\"type\":\"LinearAxis\"},{\"attributes\":{\"plot\":null,\"text\":\" \"},\"id\":\"115f96e4-3168-48eb-acad-8a9c6e614450\",\"type\":\"Title\"},{\"attributes\":{\"callback\":null,\"data\":{\"names\":[\"cid\",\"sao\",\"nao\",\"gas\",\"petroleo\",\"ser\",\"rio\",\"petrobras\",\"figura\",\"producao\",\"oleo\",\"janeiro\",\"natural\",\"agua\",\"dados\",\"formacao\",\"sistema\",\"bacia\",\"pode\",\"anp\",\"tambem\",\"brasil\",\"processo\",\"maior\",\"tabela\",\"modelo\",\"tempo\",\"forma\",\"resultados\",\"area\",\"total\",\"cada\",\"analise\",\"grande\",\"pressao\",\"ate\",\"temperatura\",\"regiao\",\"onde\",\"caso\",\"partir\",\"valores\",\"trabalho\",\"sendo\",\"fig\",\"relacao\",\"ja\",\"valor\",\"fonte\",\"assim\",\"tipo\",\"parte\",\"volume\",\"meio\",\"base\",\"atraves\",\"energia\",\"desenvolvimento\",\"condicoes\",\"outros\",\"segundo\",\"podem\",\"fase\",\"estudo\",\"mar\",\"alem\",\"nacional\",\"numero\",\"diesel\",\"co\",\"etanol\",\"sul\",\"pocos\",\"amostras\",\"ainda\",\"campo\",\"metodo\",\"capacidade\",\"campos\",\"apos\",\"distribuicao\",\"precos\",\"transporte\",\"projeto\",\"dois\",\"bem\",\"funcao\",\"aumento\",\"equacao\",\"mercado\",\"ponto\",\"unidade\",\"neste\",\"industria\",\"diferentes\",\"gasolina\",\"combustiveis\",\"operacao\",\"secao\",\"produtos\",\"biodiesel\",\"devido\",\"uso\",\"terra\",\"norte\",\"estao\",\"\\u00b0c\",\"apenas\",\"engenharia\",\"programa\",\"tres\",\"duas\",\"concentracao\",\"controle\",\"deste\",\"conforme\",\"universidade\",\"possivel\",\"apresenta\",\"areas\",\"processos\",\"longo\",\"paulo\",\"unidades\",\"ano\",\"sistemas\",\"anos\",\"quanto\",\"vez\",\"combustivel\",\"media\",\"principais\",\"fluido\",\"boletim\",\"parametros\",\"cao\",\"obtidos\",\"exploracao\",\"oil\",\"massa\",\"pesquisa\",\"velocidade\",\"solucao\",\"superior\",\"vazao\",\"nivel\",\"material\",\"menor\",\"acordo\",\"qualidade\",\"medio\",\"periodo\",\"sp\",\"superficie\",\"deve\",\"resolucao\",\"desta\",\"carga\",\"consumo\",\"setor\",\"estrutura\",\"exemplo\",\"federal\",\"derivados\",\"mistura\",\"final\",\"amostra\",\"geral\",\"comportamento\",\"estudos\",\"alta\",\"presenca\",\"quantidade\",\"avaliacao\",\"outras\",\"caracteristicas\",\"atividades\",\"fluxo\",\"atividade\",\"ambiente\",\"regioes\",\"sera\",\"modelos\",\"bacias\",\"reducao\",\"tecnica\",\"pois\",\"perfuracao\",\"dia\",\"zona\",\"produto\",\"quimica\",\"calculo\",\"objetivo\",\"facies\",\"ltda\",\"nt\",\"custo\",\"cm\",\"taxa\",\"alguns\",\"inferior\",\"mm\",\"tecnico\",\"utilizacao\",\"utilizado\",\"brasileiro\",\"metodos\",\"pais\",\"nc\",\"fluidos\",\"ar\",\"efeito\",\"aplicacao\",\"geologia\",\"modo\",\"evolucao\",\"outro\",\"pontos\",\"mesma\",\"propriedades\",\"quais\",\"sob\",\"preco\",\"tais\",\"grupo\",\"tal\",\"grandes\",\"informacoes\",\"centro\",\"rochas\",\"\\u00b7\",\"figure\",\"entao\",\"reservatorio\",\"variacao\",\"ter\",\"tratamento\",\"santos\",\"km\",\"reacao\",\"recursos\",\"grafico\",\"escoamento\",\"presente\",\"milhoes\",\"biocombustiveis\",\"teor\",\"tecnologia\",\"plataforma\",\"utilizados\",\"tensao\",\"acido\",\"fator\",\"importante\",\"ocorre\",\"materiais\",\"fato\",\"liquido\",\"linha\",\"mostra\",\"brasileira\",\"\\uf0b7\",\"hidrocarbonetos\",\"conjunto\",\"menos\",\"jan\",\"razao\",\"sedimentos\",\"coluna\",\"lei\",\"fim\",\"empresas\",\"primeiro\",\"simulacao\",\"recuperacao\",\"inicial\",\"mg\",\"empresa\",\"principal\",\"todas\",\"pro\",\"disponivel\",\"viscosidade\",\"elementos\",\"kg\",\"maiores\",\"sequencia\",\"sido\",\"acima\",\"primeira\",\"dentro\",\"ca\",\"topo\",\"faixa\",\"alto\",\"determinacao\",\"industrial\",\"principalmente\",\"melhor\",\"porem\",\"pesquisas\",\"nova\",\"composicao\",\"\\u2212\",\"cerca\",\"dessa\",\"densidade\",\"injecao\",\"espessura\",\"projetos\",\"direcao\",\"portanto\",\"ordem\",\"reservatorios\",\"variaveis\",\"entrada\",\"new\",\"br\",\"testes\",\"problema\",\"teste\",\"bahia\",\"oleos\",\"rodada\",\"geracao\",\"arenitos\",\"influencia\",\"potencial\",\"basin\",\"capitulo\",\"diametro\",\"www\",\"trabalhos\",\"casos\",\"falhas\",\"paises\",\"peso\",\"oc\",\"seguintes\",\"fatores\",\"carbono\",\"padrao\",\"ocorrencia\",\"inicio\",\"referencia\",\"pe\",\"custos\",\"baixa\",\"petroleum\",\"curva\",\"iv\",\"diversos\",\"enquanto\",\"refinaria\",\"data\",\"continental\",\"equipamentos\",\"fundo\",\"etapa\",\"perfil\",\"escala\",\"parana\",\"demanda\",\"aguas\",\"tipos\",\"corrente\",\"vapor\",\"serem\",\"resultado\",\"calor\",\"catalisador\",\"respectivamente\",\"algumas\",\"apresentam\",\"processamento\",\"equacoes\",\"necessario\",\"cenpes\",\"crescimento\",\"comparacao\",\"corrosao\",\"disso\",\"entretanto\",\"componentes\",\"problemas\",\"particulas\",\"qualquer\",\"separacao\",\"profundidade\",\"n\\u00b0\",\"limite\",\"podese\",\"eficiencia\",\"acesso\",\"constante\",\"tecnicas\",\"mento\",\"jose\",\"compostos\",\"utilizando\",\"http\",\"analises\",\"intervalo\",\"water\",\"r$\",\"possui\",\"medida\",\"utilizada\",\"lado\",\"curvas\",\"mente\",\"santo\",\"perda\",\"nesta\",\"desse\",\"ensaios\",\"devem\",\"dezembro\",\"grau\",\"well\",\"participacao\",\"vista\",\"min\",\"nesse\",\"central\",\"local\",\"maxima\",\"ai\",\"baixo\",\"demais\",\"termos\",\"resistencia\",\"fracao\",\"destilacao\",\"deformacao\",\"obtencao\",\"estruturas\",\"indice\",\"fases\",\"\\u00b1\",\"camadas\",\"laboratorio\",\"temperaturas\",\"production\",\"glp\",\"us$\",\"ml\",\"serao\",\"construcao\",\"somente\",\"silva\",\"ph\",\"alcool\",\"metodologia\",\"novas\",\"bastante\",\"sempre\",\"rj\",\"mapa\",\"costa\",\"li\",\"manutencao\",\"vezes\",\"fontes\",\"apresentados\",\"reservas\",\"mil\",\"comprimento\",\"origem\",\"representa\",\"falha\",\"blocos\",\"desempenho\",\"seguir\",\"gases\",\"rocha\",\"metros\",\"introducao\",\"abaixo\",\"quatro\",\"maximo\",\"flow\",\"journal\",\"ensaio\",\"efeitos\",\"cor\",\"autores\",\"modelagem\",\"espirito\",\"embora\",\"novo\",\"toda\",\"desses\",\"pouco\",\"agentes\",\"serie\",\"contato\",\"aproximadamente\",\"nordeste\",\"sergipe\",\"jul\",\"departamento\",\"diferenca\",\"coeficiente\",\"matriz\",\"novos\",\"diversas\",\"po\",\"vertical\",\"relatorio\",\"saida\",\"outra\",\"energy\",\"niveis\",\"tendo\",\"malha\",\"realizada\",\"importancia\",\"inclui\",\"idade\",\"maio\",\"mestrado\",\"igual\",\"frequencia\",\"linhas\",\"permite\",\"posicao\",\"necessidade\",\"experimental\",\"maneira\",\"mo\",\"entanto\",\"agencia\",\"feita\",\"varios\",\"aspecto\",\"distribuidora\",\"dias\",\"obtido\",\"transferencia\",\"alagoas\",\"catalisadores\",\"ver\",\"destes\",\"margem\",\"atualmente\",\"obter\",\"aqui\",\"ambiental\",\"realizados\",\"estrutural\",\"resposta\",\"medidas\",\"apesar\",\"abr\",\"vendas\",\"experimentais\",\"seguinte\",\"fi\",\"correlacao\",\"forca\",\"dou\",\"real\",\"servicos\",\"segunda\",\"apresentado\",\"depositos\",\"termica\",\"etc\",\"tamanho\",\"curso\",\"deposicao\",\"caracterizacao\",\"permeabilidade\",\"tubo\",\"\\u0003\",\"rede\",\"aco\",\"si\",\"comercializacao\",\"figuras\",\"aspectos\",\"linear\",\"porosidade\",\"dado\",\"porcao\",\"produtores\",\"atual\",\"plano\",\"barris\",\"seguranca\",\"enxofre\",\"presentes\",\"procedimento\",\"pa\",\"vida\",\"vem\",\"observado\",\"des\",\"obtida\",\"remocao\",\"dez\",\"folhelhos\",\"utilizadas\",\"informacao\",\"combustao\",\"operacoes\",\"equipamento\",\"global\",\"perfis\",\"divisao\",\"carvao\",\"localizacao\",\"considerando\",\"comercial\",\"liquidos\",\"definicao\",\"autor\",\"camada\",\"internacional\",\"contratos\",\"sedimentares\",\"ba\",\"realizadas\",\"concentracoes\",\"dissertacao\",\"servico\",\"oes\",\"monitoramento\",\"especial\",\"obtidas\",\"anterior\",\"dutos\",\"sudeste\",\"ciclo\",\"zonas\",\"interesse\",\"analysis\",\"engineering\",\"reconcavo\",\"boa\",\"distribuidoras\",\"tecnicos\",\"acao\",\"condicao\",\"variavel\",\"interpretacao\",\"realizacao\",\"etapas\",\"regional\",\"classificacao\",\"realizado\",\"planejamento\",\"conhecimento\",\"leste\",\"adsorcao\",\"solucoes\",\"mundial\",\"tubos\",\"importacao\",\"lubrificantes\",\"acidos\",\"regime\",\"prazo\",\"economica\",\"corpo\",\"investimentos\",\"simples\",\"especifica\",\"brazil\",\"instalacao\",\"queda\",\"variacoes\",\"propria\",\"formation\",\"minimo\",\"especies\",\"reator\",\"folhelho\",\"gerais\",\"arenito\",\"extracao\",\"instituto\",\"conversao\",\"eletrica\",\"reacoes\",\"corpos\",\"motor\",\"sedimentacao\",\"distancia\",\"contendo\",\"instalacoes\",\"dentre\",\"parametro\",\"ocorrem\",\"interna\",\"literatura\",\"risco\",\"produzido\",\"interno\",\"diretamente\",\"deslocamento\",\"apresentou\",\"momento\",\"adicao\",\"duto\",\"livre\",\"geology\",\"materia\",\"horizontal\",\"observar\",\"bomba\",\"membro\",\"computacional\",\"ppm\",\"solo\",\"quase\",\"geociencias\",\"menores\",\"horas\",\"varias\",\"santa\",\"natureza\",\"situacao\",\"oliveira\",\"marco\",\"system\",\"mecanica\",\"espaco\",\"sedimentar\",\"visto\",\"pr\",\"sismica\",\"tos\",\"equilibrio\",\"objetivos\",\"possuem\",\"importantes\",\"refino\",\"ufrj\",\"hidrogenio\",\"usado\",\"potencia\",\"cabo\",\"grupos\",\"correntes\",\"portaria\",\"secoes\",\"operacional\",\"seguida\",\"consiste\",\"ajuste\",\"offshore\",\"research\",\"geometria\",\"integracao\",\"bilhoes\",\"cadeia\",\"esquema\",\"york\",\"nota\",\"percentual\",\"quadro\",\"amazonas\",\"formacoes\",\"souza\",\"mes\",\"elaboracao\",\"tendencia\",\"torno\",\"termo\",\"dada\",\"refinarias\",\"abstract\",\"carlos\",\"item\",\"artigo\",\"cos\",\"via\",\"expansao\",\"model\",\"original\",\"corresponde\",\"maioria\",\"erro\",\"relativa\",\"registro\",\"limites\",\"onda\",\"imagem\",\"volumes\",\"oxidacao\",\"componente\",\"per\",\"tese\",\"astm\",\"anteriormente\",\"minas\",\"politica\",\"medios\",\"contexto\",\"imagens\",\"dimensoes\",\"resumo\",\"\\u0006\",\"revisao\",\"embasamento\",\"dade\",\"existe\",\"considerado\",\"estabilidade\",\"normal\",\"composto\",\"apresentar\",\"possibilidade\",\"avaliar\",\"tensoes\",\"descricao\",\"altura\",\"sal\",\"operacionais\",\"api\",\"antonio\",\"sequencias\",\"observase\",\"ambientais\",\"coes\",\"apoio\",\"geralmente\",\"dessas\",\"society\",\"oxigenio\",\"apresentaram\",\"argila\",\"prova\",\"aquisicao\",\"organica\",\"existencia\",\"proprio\",\"bom\",\"existentes\",\"misturas\",\"anexo\",\"energetica\",\"hidratado\",\"oeste\",\"referencias\",\"$\",\"interior\",\"indica\",\"glicerol\",\"proposta\",\"poder\",\"apresentada\",\"ra\",\"res\",\"comercio\",\"existem\",\"feito\",\"elemento\",\"determinado\",\"oferta\",\"america\",\"fazer\",\"consumidor\",\"proximo\",\"questao\",\"produzida\",\"normalmente\",\"veiculos\",\"\\u0002\",\"extensao\",\"conta\",\"nafta\",\"vi\",\"determinar\",\"companhia\",\"international\",\"movimento\",\"cuja\",\"nov\",\"di\",\"american\",\"using\",\"rendimento\",\"nessa\",\"sintese\",\"faz\",\"metano\",\"used\",\"ho\",\"pre\",\"metais\",\"poros\",\"riser\",\"cinco\",\"logo\",\"economia\",\"mundo\",\"molar\",\"pressoes\",\"economico\",\"gasoduto\",\"encontrados\",\"study\",\"comum\",\"responsavel\",\"destas\",\"passo\",\"soja\",\"chemical\",\"papel\",\"simulacoes\",\"areia\",\"ambos\",\"unidos\",\"eventos\",\"cp\",\"possiveis\",\"pequena\",\"molecular\",\"also\",\"identificacao\",\"desenvolvido\",\"software\",\"apresentadas\",\"xisto\",\"filho\",\"infraestrutura\",\"ta\",\"time\",\"movimentacao\",\"criacao\",\"ac\",\"eixo\",\"contudo\",\"\\u000f\",\"serra\",\"fracoes\",\"petro\",\"elevacao\",\"abastecimento\",\"taxas\",\"realizar\",\"otimizacao\",\"lista\",\"estagio\",\"tecnologias\",\"cimento\",\"emissoes\",\"estratigrafica\",\"high\",\"joao\",\"estatistico\",\"respeito\",\"associado\",\"ro\",\"versus\",\"tectonica\",\"dinamica\",\"ultimos\",\"technology\",\"conclusoes\",\"padroes\",\"results\",\"aplicada\",\"maria\",\"medicao\",\"solidos\",\"leito\",\"solvente\",\"economicos\",\"gasodutos\",\"determinada\",\"aumentar\",\"podendo\",\"doutorado\",\"federacao\",\"experimento\",\"necessaria\",\"va\",\"especificacoes\",\"inspecao\",\"porto\",\"externa\",\"mudanca\",\"bloco\",\"angulo\",\"nitrogenio\",\"produtor\",\"associacao\",\"tabelas\",\"aplicacoes\",\"altas\",\"process\",\"locais\",\"impacto\",\"diagrama\",\"pratica\",\"relacionados\",\"cretaceo\",\"disponiveis\",\"ne\",\"pressure\",\"metal\",\"dano\",\"luiz\",\"formas\",\"associados\",\"experimentos\",\"metanol\",\"ultimo\",\"coque\",\"mesmos\",\"orgao\",\"anual\",\"continua\",\"desvio\",\"visando\",\"polimero\",\"mecanismo\",\"rs\",\"frente\",\"execucao\",\"motores\",\"cenario\",\"decada\",\"elevada\",\"concessao\",\"estruturais\",\"nacionais\",\"quimicos\",\"brasileiras\",\"inicialmente\",\"science\",\"fenomeno\",\"diminuicao\",\"fratura\",\"tes\",\"df\",\"valvula\",\"investimento\",\"abertura\",\"relativamente\",\"anuario\",\"discussao\",\"dagua\",\"muitos\",\"mostram\",\"ondas\",\"partes\",\"referentes\",\"\\u0002\\u0005\",\"mesmas\",\"saturacao\",\"usando\",\"mercados\",\"direta\",\"university\",\"mudancas\",\"diferencas\",\"governo\",\"regulacao\",\"interface\",\"reduzir\",\"interacao\",\"foto\",\"contorno\",\"liquida\",\"devese\",\"definida\",\"forte\",\"protecao\",\"configuracao\",\"efluente\",\"ultima\",\"vale\",\"relacoes\",\"dominio\",\"superficial\",\"max\",\"temse\",\"cisalhamento\",\"proposto\",\"revestimento\",\"programas\",\"industriais\",\"considerada\",\"mostrado\",\"sociedade\",\"tanques\",\"residuos\",\"originais\",\"alves\",\"\\u0001\",\"levantamento\",\"procedimentos\",\"forcas\",\"elevado\",\"verificar\",\"contribuicao\",\"aumenta\",\"devera\",\"hoje\",\"mapas\",\"potiguar\",\"section\",\"criterios\",\"considerados\",\"celula\",\"rifte\",\"suporte\",\"lama\",\"marinha\",\"eua\",\"geologico\",\"contrato\",\"minutos\",\"posteriormente\",\"muitas\",\"termico\",\"use\",\"ministerio\",\"ceara\",\"historico\",\"depende\",\"conformidade\",\"\\u000e\",\"graos\",\"necessarios\",\"estimativa\",\"passa\",\"drilling\",\"aquecimento\",\"balanco\",\"mineral\",\"rotacao\",\"definido\",\"contem\",\"\\u0014\",\"tanque\",\"acoes\",\"coeficientes\",\"exportacao\",\"pessoal\",\"tecnologico\",\"usados\",\"municipios\",\"indicam\",\"cia\",\"soldagem\",\"representacao\",\"development\",\"instituicoes\",\"ex\",\"postos\",\"systems\",\"junto\",\"ce\",\"geologica\",\"trecho\",\"minerais\",\"geological\",\"querosene\",\"caracteristica\",\"conclusao\",\"formado\",\"propriedade\",\"constantes\",\"tecnologica\",\"zero\",\"unica\",\"energetico\",\"armazenamento\",\"amplitude\",\"previsao\",\"funcoes\",\"fe\",\"representam\",\"environmental\",\"gnl\",\"podera\",\"\\u0010\",\"fm\",\"decisao\",\"method\",\"transicao\",\"escolha\",\"sinal\",\"tubulacao\",\"seismic\",\"conteudo\",\"bibliograficas\",\"orgaos\",\"escola\",\"titulo\",\"fundamental\",\"compressao\",\"lima\",\"segmento\",\"normas\",\"agente\",\"venda\",\"fluid\",\"ocorrer\",\"condutividade\",\"modulo\",\"alternativa\",\"testemunhos\",\"graficos\",\"consequentemente\",\"incluindo\",\"ausencia\",\"evitar\",\"claro\",\"teoria\",\"grosso\",\"associada\",\"pequenas\",\"feitas\",\"experiencia\",\"troca\",\"camara\",\"observada\",\"baixas\",\"francisco\",\"pt\",\"solventes\",\"residual\",\"wells\",\"evento\",\"poderia\",\"feicoes\",\"mt\",\"classe\",\"autorizacao\",\"bases\",\"fabricacao\",\"perdas\",\"petroquimica\",\"atuacao\",\"table\",\"marinho\",\"verde\",\"finos\",\"seis\",\"equivalente\",\"ufrn\",\"praticamente\",\"tao\",\"ocorreu\",\"leve\",\"indices\",\"exposicao\",\"pos\",\"brazilian\",\"correspondente\",\"carater\",\"moleculas\",\"tracao\",\"junho\",\"altos\",\"substituicao\",\"pagina\",\"calibracao\",\"revista\",\"consideracoes\",\"field\",\"ciencia\",\"ciencias\",\"polimeros\",\"consumidores\",\"profundas\",\"uniao\",\"varia\",\"epoca\",\"busca\",\"ferramenta\",\"passou\",\"efetiva\",\"raios\",\"control\",\"poroso\",\"primeiros\",\"tempos\",\"intervalos\",\"capaz\",\"aromaticos\",\"press\",\"cl\",\"anidro\",\"julho\",\"cidade\",\"organizacao\",\"cargas\",\"coordenador\",\"unico\",\"ambientes\",\"requisitos\",\"neto\",\"atingir\",\"rn\",\"concorrencia\",\"referente\",\"coordenacao\",\"meios\",\"observados\",\"vantagens\",\"encontrase\",\"criterio\",\"relacionadas\",\"capital\",\"deposicional\",\"fluxos\",\"based\",\"especie\",\"lateral\",\"vol\",\"residuo\",\"minima\",\"basins\",\"manter\",\"quantidades\",\"sa\",\"mensal\",\"cujo\",\"biomassa\",\"significativa\",\"cf\",\"transversal\",\"podemos\",\"pc\",\"gestao\",\"vazoes\",\"pi\",\"two\",\"inovacao\",\"\\u0019\",\"parcial\",\"baseado\",\"end\",\"fica\",\"produzidos\",\"funcionamento\",\"aplicado\",\"fiscalizacao\",\"surface\",\"marine\",\"maranhao\",\"amostragem\",\"mol\",\"descrito\",\"calculado\",\"edicao\",\"mecanismos\",\"cas\",\"may\",\"alegre\",\"especificacao\",\"especifico\",\"espectro\",\"estratigrafia\",\"coletadas\",\"corte\",\"novembro\",\"totalmente\",\"broca\",\"congresso\",\"one\",\"publicacao\",\"especialmente\",\"prof\",\"expressao\",\"pequeno\",\"estacao\",\"ap\",\"applied\",\"estabelece\",\"trimestre\",\"produtividade\",\"conselho\",\"formula\",\"naturais\",\"craqueamento\",\"barreiras\",\"automotivos\",\"plantas\",\"texto\",\"baixos\",\"ions\",\"membrana\",\"provavelmente\",\"barra\",\"finais\",\"banco\",\"planta\",\"atender\",\"anteriores\",\"mato\",\"norma\",\"gasosa\",\"rios\",\"sucesso\",\"publica\",\"ilha\",\"melhores\",\"degradacao\",\"diferencial\",\"basicos\",\"brasilia\",\"proximos\",\"precisao\",\"abordagem\",\"alteracoes\",\"garantir\",\"velocidades\",\"queima\",\"art\",\"martins\",\"formulacao\",\"selecao\",\"candeias\",\"conceito\",\"superficies\",\"environment\",\"sim\",\"celulas\",\"composta\",\"superiores\",\"coleta\",\"exploration\",\"figs\",\"quimicas\",\"revenda\",\"gradiente\",\"emissao\",\"particular\",\"completacao\",\"nome\",\"\\uf084\",\"gama\",\"jr\",\"salvador\",\"utilizar\",\"emprego\",\"pereira\",\"presidente\",\"inclusive\",\"gerados\",\"meses\",\"considerar\",\"carregamento\",\"usada\",\"design\",\"solubilidade\",\"impactos\",\"similar\",\"canais\",\"ciclos\",\"externo\",\"agora\",\"intensidade\",\"materiaprima\",\"regras\",\"pol\",\"convencionais\",\"energeticos\",\"vai\",\"implantacao\",\"shale\",\"existente\",\"tema\",\"calculos\",\"calcular\",\"algoritmo\",\"fuel\",\"fazenda\",\"utiliza\",\"ci\",\"\\b\",\"estadual\",\"oi\",\"teores\",\"petroleos\",\"precipitacao\",\"dificil\",\"eficiente\",\"produzir\",\"fisico\",\"volumetrica\",\"periodos\",\"terminal\",\"complexo\",\"desenvolvidos\",\"ms\",\"cinza\",\"orientacao\",\"paper\",\"sodio\",\"shell\",\"finalidade\",\"reais\",\"borda\",\"face\",\"reservoir\",\"posgraduacao\",\"suficiente\",\"probabilidade\",\"efluentes\",\"ressaltar\",\"series\",\"mb\",\"hidrolise\",\"sedimentary\",\"hz\",\"classes\",\"part\",\"seco\",\"graduacao\",\"ambas\",\"superintendencia\",\"eletrico\",\"mpa\",\"resultante\",\"hipotese\",\"calcarios\",\"proxima\",\"humanos\",\"pes\",\"outubro\",\"bagaco\",\"responsaveis\",\"erros\",\"iniciais\",\"agosto\",\"falta\",\"calculada\",\"causa\",\"convencional\",\"par\",\"sm\",\"industrias\",\"mostrando\",\"observadas\",\"filtracao\",\"semelhante\",\"prh\",\"equipe\",\"axial\",\"valvulas\",\"completa\",\"set\",\"invoke\",\"consideradas\",\"consequencia\",\"identificar\",\"circulacao\",\"calculados\",\"alteracao\",\"torna\",\"analisados\",\"organicos\",\"fisica\",\"alternativas\",\"quimico\",\"terminais\",\"psi\",\"controlador\",\"parede\",\"encontradas\",\"conference\",\"go\",\"turbina\",\"relativo\",\"nominal\",\"observacoes\",\"bp\",\"china\",\"gerado\",\"argentina\",\"entrega\",\"social\",\"elevados\",\"resulta\",\"absorcao\",\"mentos\",\"numerica\",\"mediante\",\"plataformas\",\"proporcao\",\"dispersao\",\"abril\",\"associadas\",\"util\",\"historia\",\"temporal\",\"alimentacao\",\"\\u03b2\",\"south\",\"state\",\"oxido\",\"encontra\",\"rodrigues\",\"testemunho\",\"fo\",\"redes\",\"ferreira\",\"first\",\"eq\",\"retorno\",\"raio\",\"glicerina\",\"preparacao\",\"preto\",\"review\",\"effects\",\"geologicos\",\"value\",\"soma\",\"andar\",\"ferro\",\"situacoes\",\"indicando\",\"porte\",\"tulsa\",\"parcela\",\"discordancia\",\"gerar\",\"deteccao\",\"finalmente\",\"navio\",\"argilas\",\"pm\",\"setores\",\"recebidos\",\"bbl\",\"fins\",\"propano\",\"\\u0018\",\"espacial\",\"baseada\",\"artigos\",\"pp\",\"treinamento\",\"alberto\",\"africa\",\"legislacao\",\"pb\",\"centrooeste\",\"carbonatos\",\"esforco\",\"destaque\",\"catarina\",\"notar\",\"cal\",\"sensibilidade\",\"cc\",\"filmes\",\"representado\",\"curto\",\"politicas\",\"mass\",\"pico\",\"simulador\",\"brasileiros\",\"national\",\"basica\",\"analisadas\",\"\\u03b1\",\"analisar\",\"especiais\",\"possa\",\"ambito\",\"apresentando\",\"adequada\",\"ana\",\"comunicacao\",\"duracao\",\"pesados\",\"fernando\",\"visao\",\"rift\",\"bar\",\"benzeno\",\"different\",\"razoes\",\"presal\",\"relacionada\",\"encontramse\",\"tra\",\"adequado\",\"compra\",\"sismicas\",\"riscos\",\"vacuo\",\"adaptado\",\"sis\",\"representada\",\"importado\",\"im\",\"aditivos\",\"propanodiol\",\"luz\",\"fadiga\",\"segmentos\",\"\\u0007\",\"\\uf03d\",\"cr\",\"lamina\",\"phase\",\"cobertura\",\"solda\",\"esforcos\",\"estagios\",\"teorico\",\"solido\",\"sc\",\"would\",\"erosao\",\"temp\",\"e&p\",\"sr\",\"sismicos\",\"estacoes\",\"permitindo\",\"ferramentas\",\"provenientes\",\"crescente\",\"dificuldades\",\"pernambuco\",\"graus\",\"calcio\",\"necessarias\",\"vetor\",\"tucano\",\"ct\",\"substrato\",\"principio\",\"permitir\",\"torre\",\"almeida\",\"permitem\",\"limpeza\",\"exterior\",\"cru\",\"exemplos\",\"radiacao\",\"apendice\",\"observacao\",\"suspensao\",\"reduc\",\"posterior\",\"fina\",\"log\",\"variando\",\"atmosferica\",\"substancias\",\"atlantico\",\"consideracao\",\"basicamente\",\"picos\",\"ia\",\"ilhas\",\"temperature\",\"utilizandose\",\"ponta\",\"cursos\",\"junior\",\"distintas\",\"totais\",\"studies\",\"migracao\",\"desenvolvida\",\"sequence\",\"relativos\",\"lugar\",\"especificos\",\"elevadas\",\"uk\",\"conhecida\",\"acompanhamento\",\"objeto\",\"parece\",\"lb\",\"profundidades\",\"fosseis\",\"fornecimento\",\"fraturas\",\"apresentacao\",\"estrategia\",\"catalitico\",\"incremento\",\"work\",\"passagem\",\"numerico\",\"rpm\",\"semelhantes\",\"modificado\",\"estudados\",\"rapida\",\"ouro\",\"reg\",\"correcao\",\"branco\",\"republica\",\"cabe\",\"leves\",\"associated\",\"planos\",\"dar\",\"implementacao\",\"association\",\"diferente\",\"ira\",\"determinados\",\"trata\",\"dis\",\"refinacao\",\"ruptura\",\"difusao\",\"aviacao\",\"suprimento\",\"\\u2010\",\"definidos\",\"nm\",\"algum\",\"acos\",\"fracturing\",\"materiasprimas\",\"mello\",\"racao\",\"obtained\",\"luis\",\"navios\",\"instrumentos\",\"retirada\",\"proveniente\",\"potential\",\"propagacao\",\"correlacoes\",\"setembro\",\"estabelecer\",\"continuidade\",\"critica\",\"dependendo\",\"cobre\",\"verticais\",\"deposicionais\",\"fino\",\"cilindro\",\"report\",\"desenvolver\",\"importacoes\",\"horizonte\",\"bolha\",\"main\",\"mostraram\",\"diz\",\"frio\",\"normais\",\"conhecido\",\"empregados\",\"tornase\",\"pelotas\",\"tion\",\"comerciais\",\"toxicidade\",\"detalhes\",\"acetico\",\"due\",\"manual\",\"comuns\",\"mecanico\",\"conceitos\",\"futuro\",\"coordenadas\",\"subsidencia\",\"site\",\"rocks\",\"descritas\",\"chamada\",\"pacote\",\"chemistry\",\"dependencia\",\"documentacao\",\"descritos\",\"notase\",\"spe\",\"evolution\",\"ideal\",\"p&d\",\"marca\",\"\\u03c6\",\"filtro\",\"gomes\",\"\\u0004\",\"methods\",\"relacionado\",\"coppe\",\"alii\",\"af\",\"fl\",\"lubrificante\",\"organic\",\"oxidos\",\"lower\",\"possam\",\"van\",\"pesado\",\"constituem\",\"low\",\"basico\",\"contrario\",\"eletricos\",\"conditions\",\"deverao\",\"constituida\",\"definir\",\"franca\",\"group\",\"cenarios\",\"au\",\"hs\",\"colunas\",\"representar\",\"largura\",\"fevereiro\",\"colapso\",\"engenheiro\",\"\\u00bb\",\"fazendo\",\"espessuras\",\"reforma\",\"\\uf06f\",\"constitui\",\"professor\",\"geologicas\",\"aparente\",\"pequenos\",\"materials\",\"reduzida\",\"institute\",\"exercicio\",\"lagoa\",\"agitacao\",\"empregado\",\"ft\",\"combinacao\",\"envolvidos\",\"resfriamento\",\"aproveitamento\",\"hydraulic\",\"europa\",\"carbon\",\"ampliacao\",\"azul\",\"fisicas\",\"\\u001b\",\"stratigraphic\",\"sergipealagoas\",\"torres\",\"participacoes\",\"interessante\",\"refere\",\"mostrou\",\"world\",\"inter\",\"altamente\",\"diante\",\"fa\",\"test\",\"medias\",\"pedro\",\"formada\",\"ram\",\"gera\",\"danos\",\"available\",\"formando\",\"organismos\",\"previamente\",\"penetracao\",\"juntamente\",\"modificacoes\",\"subsuperficie\",\"tec\",\"atuais\",\"resultando\",\"gerada\",\"considera\",\"rota\",\"io\",\"estabelecimento\",\"realidade\",\"massas\",\"reta\",\"codigo\",\"albiano\",\"vegetais\",\"petrolifera\",\"sais\",\"nenhum\",\"excesso\",\"natal\",\"kgf\",\"structural\",\"ri\",\"significa\",\"est\",\"regionais\",\"detalhe\",\"fraturamento\",\"facil\",\"equa\",\"dei\",\"formados\",\"us\",\"opcao\",\"revendedores\",\"disponibilidade\",\"relativas\",\"reconhecimento\",\"versao\",\"sitios\",\"havia\",\"gerencia\",\"restricoes\",\"ativos\",\"information\",\"cana\",\"fermentacao\",\"vaso\",\"marinhos\",\"leva\",\"sediments\",\"selecionados\",\"secundaria\",\"novamente\",\"\\u03bc\",\"operador\",\"notas\",\"values\",\"desenvolvidas\",\"cretaceous\",\"present\",\"alguma\",\"genero\",\"maritimo\",\"ligacao\",\"properties\",\"adotado\",\"filme\",\"avanco\",\"afloramentos\",\"car\",\"separador\",\"\\u0011\",\"araujo\",\"cunha\",\"massica\",\"estudada\",\"arcabouco\",\"economicas\",\"aluminio\",\"graxos\",\"region\",\"usina\",\"talude\",\"simulation\",\"finitos\",\"permitiu\",\"minimos\",\"engineers\",\"mos\",\"distribution\",\"retencao\",\"membranas\",\"geofisica\",\"constituido\",\"jun\",\"montagem\",\"definidas\",\"performance\",\"sensores\",\"atencao\",\"ampla\",\"inferiores\",\"puro\",\"continuo\",\"macao\",\"diminui\",\"encontrado\",\"particula\",\"emulsao\",\"london\",\"caxias\",\"aberto\",\"case\",\"celulose\",\"tarifa\",\"vantagem\",\"tarifas\",\"nenhuma\",\"correspondentes\",\"derivado\",\"atmosfera\",\"cu\",\"instituicao\",\"decreto\",\"expanded\",\"segue\",\"figo\",\"\\u03bcm\",\"fixo\",\"arquivo\",\"samples\",\"ideia\",\"requer\",\"oh\",\"fornece\",\"potenciais\",\"ed\",\"order\",\"facilmente\",\"complexos\",\"proximas\",\"numeros\",\"questoes\",\"atrito\",\"canada\",\"uni\",\"quartzo\",\"numericos\",\"qav\",\"estratigrafico\",\"comparado\",\"project\",\"licitacoes\",\"paraiba\",\"ir\",\"programacao\",\"bombas\",\"transformacao\",\"carvalho\",\"localizada\",\"bg\",\"defesa\",\"laboratorios\",\"ficou\",\"preciso\",\"canadeacucar\",\"tracos\",\"recente\",\"fenomenos\",\"sugere\",\"mexico\",\"internacionais\",\"condensado\",\"verificacao\",\"sete\",\"experiencias\",\"passando\",\"feitos\",\"comparados\",\"membros\",\"pdf\",\"estabelecido\",\"complexidade\",\"tende\",\"sen\",\"number\",\"tam\",\"kpa\",\"descarga\",\"receita\",\"contaminacao\",\"apud\",\"sub\",\"diario\",\"esperado\",\"leitura\",\"metade\",\"industry\",\"poderao\",\"perfurados\",\"parnaiba\",\"espectros\",\"alo\",\"especificas\",\"bruto\",\"chama\",\"du\",\"distintos\",\"general\",\"folha\",\"hora\",\"geoquimica\",\"nw\",\"territorio\",\"estabelecidos\",\"agradecimentos\",\"toneladas\",\"fez\",\"terceira\",\"direcoes\",\"iguais\",\"gr\",\"frequencias\",\"line\",\"cloreto\",\"chamado\",\"fluvial\",\"presented\",\"amsterdam\",\"dificuldade\",\"campinas\",\"praticas\",\"litros\",\"\\u0013\",\"models\",\"ester\",\"comumente\",\"verificase\",\"effect\",\"incluem\",\"\\u0017\",\"transesterificacao\",\"terceiro\",\"excecao\",\"exposto\",\"direito\",\"map\",\"tecnologicas\",\"adotada\",\"emulsoes\",\"aplicados\",\"application\",\"propostas\",\"regulamentacao\",\"caixa\",\"anular\",\"levar\",\"conservacao\",\"branca\",\"vidro\",\"fortemente\",\"posto\",\"pvc\",\"fulgor\",\"virtude\",\"reserva\",\"atendimento\",\"extremamente\",\"ga\",\"duque\",\"limitacoes\",\"administracao\",\"drenagem\",\"parafinas\",\"technical\",\"seletividade\",\"medicoes\",\"estimar\",\"promover\",\"reatores\",\"tr\",\"livres\",\"atua\",\"assunto\",\"opera\",\"descrita\",\"cone\",\"citado\",\"canal\",\"acucar\",\"provavel\",\"source\",\"amonia\",\"oleoduto\",\"cnp\",\"tensoativo\",\"quebra\",\"doce\",\"barbosa\",\"air\",\"gerando\",\"soares\",\"usuario\",\"aumentando\",\"futuros\",\"aquosa\",\"estudadas\",\"haver\",\"resolucoes\",\"usp\",\"volta\",\"sulfato\",\"fibras\",\"related\",\"relatorios\",\"cujos\",\"usadas\",\"fornecer\",\"adicional\",\"vento\",\"dissolucao\",\"acumulada\",\"acumulacao\",\"rate\",\"estudar\",\"permeacao\",\"ethanol\",\"\\uf02d\",\"melhoria\",\"intuito\",\"provadas\",\"umidade\",\"civil\",\"\\u001a\",\"tudo\",\"instrumento\",\"fusao\",\"preparo\",\"mme\",\"geo\",\"faixas\",\"possible\",\"publico\",\"dizer\",\"quantificacao\",\"ostracodes\",\"capazes\",\"mostrados\",\"dt\",\"similares\",\"earth\",\"ilustra\",\"quer\",\"primeiras\",\"viabilidade\",\"incerteza\",\"roberto\",\"regular\",\"fluxograma\",\"sumario\",\"terrestre\",\"computador\",\"\\u2022\\u2022\",\"garantia\",\"brent\",\"opep\",\"inclinacao\",\"certa\",\"processes\",\"salinidade\",\"delta\",\"horizontais\",\"operar\",\"rela\",\"atomos\",\"estimativas\",\"correspondem\",\"\\u03b8\",\"estocagem\",\"significativamente\",\"enfase\",\"bulletin\",\"levando\",\"placa\",\"auxilio\",\"respectivas\",\"poucos\",\"descoberta\",\"produ\",\"calcario\",\"determinadas\",\"reservoirs\",\"fabrica\",\"asfalto\",\"niquel\",\"encontrada\",\"discussoes\",\"marcos\",\"desafios\",\"renda\",\"pinto\",\"liberacao\",\"confiabilidade\",\"piloto\",\"crosta\",\"castro\",\"monopolio\",\"vermelho\",\"considerandose\",\"nd\",\"ge\",\"cromatografia\",\"lineares\",\"companhias\",\"pessoas\",\"transpetro\",\"tensoativos\",\"estatistica\",\"usa\",\"catalitica\",\"basal\",\"nestes\",\"fazem\",\"distrito\",\"produced\",\"margens\",\"movimentos\",\"encontram\",\"entendimento\",\"respectivos\",\"bras\",\"superintendente\",\"adotados\",\"ns\",\"acerca\",\"course\",\"porcentagem\",\"usinas\",\"matematica\",\"governamentais\",\"perspectivas\",\"washington\",\"acrescimo\",\"sinais\",\"saude\",\"necessidades\",\"glycerol\",\"upper\",\"margin\",\"st\",\"analisado\",\"anomalia\",\"vieira\",\"inversao\",\"organico\",\"vs\",\"vii\",\"pagamento\",\"meg\",\"envolve\",\"significativo\",\"vegetal\",\"ln\",\"kw\",\"th\",\"independente\",\"estudado\",\"ipiranga\",\"exp\",\"cinetica\",\"relevante\",\"liquid\",\"poderiam\",\"principios\",\"hidraulico\",\"management\",\"conexao\",\"tarefa\",\"rapidamente\",\"documentos\",\"activities\",\"ts\",\"glicose\",\"denominado\",\"dimensao\",\"macae\",\"deformacoes\",\"compoem\",\"analitico\",\"momentos\",\"denominada\",\"petroliferos\",\"eo\",\"dai\",\"determina\",\"associacoes\",\"apre\",\"unicamp\",\"aplicadas\",\"lopes\",\"envolvendo\",\"define\",\"recentes\",\"montante\",\"oficial\",\"compreensao\",\"registros\",\"fragmentos\",\"comissao\",\"cimentacao\",\"completo\",\"arranjo\",\"possibilidades\",\"barril\",\"banda\",\"\\u00a7\",\"a\\u0014\",\"foco\",\"diques\",\"obtemse\",\"bolhas\",\"cacao\",\"produtoras\",\"bandas\",\"market\",\"reis\",\"leopoldo\",\"edital\",\"arco\",\"activity\",\"three\",\"malhas\",\"refi\",\"eletrodo\",\"fluviais\",\"nesses\",\"significativas\",\"parcialmente\",\"exploratorio\",\"recovery\",\"tens\",\"deep\",\"primeiramente\",\"tacao\",\"temas\",\"oleodutos\",\"intensa\",\"residuais\",\"portugal\",\"il\",\"regulamento\",\"corrosion\",\"maquina\",\"\\u0012\",\"\\u0016\",\"caracterizada\",\"encontrar\",\"esteres\",\"however\",\"primaria\",\"sergi\",\"variam\",\"terrestres\",\"melhorar\",\"rigidez\",\"heat\",\"patentes\",\"todavia\",\"depositados\",\"indicado\",\"magnitude\",\"elaborado\",\"ataque\",\"lignina\",\"oceano\",\"digital\",\"liga\",\"crude\",\"boia\",\"tectonic\",\"history\",\"aproximacao\",\"teoricos\",\"fisicos\",\"regressao\",\"dp\",\"venezuela\",\"certo\",\"defeitos\",\"atlantic\",\"calha\",\"produz\",\"anomalias\",\"xi\",\"lavagem\",\"veiculo\",\"interacoes\",\"acid\",\"carta\",\"important\",\"centros\",\"usar\",\"queiroz\",\"poluicao\",\"passos\",\"apresentase\",\"structure\",\"exploratorios\",\"japao\",\"visa\",\"geologists\",\"possivelmente\",\"mecanicas\",\"metodologias\",\"ago\",\"\\u2202\",\"preenchimento\",\"structures\",\"destacar\",\"iso\",\"basicas\",\"carbonato\",\"san\",\"representando\",\"dimensionamento\",\"waste\",\"placas\",\"seca\",\"radial\",\"mapeamento\",\"conglomerados\",\"pessoa\",\"solimoes\",\"oriente\",\"dissolvido\",\"adocao\",\"rock\",\"modeling\",\"direita\",\"frequentemente\",\"poluentes\",\"frota\",\"grossa\",\"years\",\"reduzido\",\"observouse\",\"regulador\",\"liquefeito\",\"estratigraficas\",\"preliminar\",\"recentemente\",\"convergencia\",\"acidez\",\"bombeio\",\"costeira\",\"assinatura\",\"parafina\",\"pass\",\"gel\",\"tratamentos\",\"completamente\",\"cores\",\"conhecidos\",\"asfaltenos\",\"sdp\",\"resources\",\"atributos\",\"rosa\",\"recebimento\",\"texas\",\"ip\",\"populacao\",\"vel\",\"viii\",\"exportacoes\",\"importadores\",\"tubulacoes\",\"risers\",\"nal\",\"regra\",\"ativacao\",\"expressa\",\"geradas\",\"leo\",\"dades\",\"referese\",\"conformes\",\"gerador\",\"rev\",\"\\u000e\\u0005\",\"stage\",\"treatment\",\"respostas\",\"saber\",\"unit\",\"marlim\",\"tratase\",\"filtrado\",\"ligacoes\",\"nucleo\",\"cfd\",\"modos\",\"ras\",\"esquerda\",\"etano\",\"tratado\",\"despesas\",\"deu\",\"irati\",\"oito\",\"ocorrencias\",\"prevencao\",\"distribuidor\",\"formar\",\"compreende\",\"submetido\",\"reynolds\",\"precisa\",\"tio\",\"within\",\"positivo\",\"oportunidade\",\"reagentes\",\"developed\",\"rapido\",\"parameters\",\"comparativo\",\"zone\",\"tomada\",\"cons\",\"eletricidade\",\"pouca\",\"estoques\",\"kj\",\"estimada\",\"internas\",\"tornar\",\"utilizam\",\"machado\",\"alumina\",\"stream\",\"localizado\",\"lu\",\"dioxido\",\"beneficios\",\"ribeiro\",\"validacao\",\"hydrocarbons\",\"fechamento\",\"point\",\"critico\",\"\\u03bb\",\"mobilidade\",\"pib\",\"complexa\",\"ria\",\"seccao\",\"petroquimicas\",\"aisi\",\"preservacao\",\"could\",\"controlada\",\"orientador\",\"ali\",\"posicoes\",\"decisoes\",\"tura\",\"relevantes\",\"sismico\",\"eoceno\",\"consideravel\",\"gra\",\"incertezas\",\"paredes\",\"gerenciamento\",\"modificacao\",\"tg\",\"empregada\",\"ix\",\"tolueno\",\"nestas\",\"bonito\",\"seguindo\",\"level\",\"exceto\",\"permanente\",\"sugestoes\",\"submarinos\",\"fluids\",\"milhao\",\"dispositivo\",\"idades\",\"ora\",\"dinamico\",\"id\",\"metalicos\",\"nessas\",\"mestre\",\"escoamentos\",\"geofisicos\",\"capilar\",\"hidrato\",\"parada\",\"resistividade\",\"particularmente\",\"cot\",\"perfurado\",\"andrade\",\"categoria\",\"investigacao\",\"standard\",\"hidrogenacao\",\"quality\",\"showing\",\"bibliografica\",\"fault\",\"hidratos\",\"conformidades\",\"continentais\",\"including\",\"thermal\",\"chegar\",\"mostrada\",\"redor\",\"fun\",\"diminuir\",\"legal\",\"along\",\"sedi\",\"adicionais\",\"capa\",\"sobretudo\",\"causar\",\"documento\",\"conhecimentos\",\"disposicao\",\"\\u03b5\",\"cb\",\"equatorial\",\"cujas\",\"ref\",\"fcc\",\"catalysis\",\"eduardo\",\"trajetoria\",\"injetado\",\"\\u03c3\",\"decomposicao\",\"d&i\",\"estratos\",\"uniforme\",\"petroliferas\",\"dr\",\"trato\",\"infravermelho\",\"biblioteca\",\"posicionamento\",\"sandstones\",\"possuir\",\"program\",\"teorica\",\"caracterizado\",\"ui\",\"deposits\",\"observed\",\"sitio\",\"several\",\"cap\",\"rendimentos\",\"absoluta\",\"goias\",\"transportador\",\"diretrizes\",\"dispoe\",\"geograficas\",\"baseados\",\"\\u00ab\",\"medidos\",\"limitada\",\"verificado\",\"moura\",\"itens\",\"instalada\",\"atm\",\"predominantemente\",\"proporcional\",\"formato\",\"fundamentais\",\"cias\",\"municipio\",\"compressor\",\"centrais\",\"north\",\"ativo\",\"submersos\",\"agricultura\",\"bens\",\"depth\",\"leilao\",\"\\u00b0f\",\"\\uf02b\",\"estabelecidas\",\"evaluation\",\"baia\",\"competencia\",\"vistas\",\"cations\",\"secretariaexecutiva\",\"analitica\",\"profunda\",\"range\",\"miguez\",\"bo\",\"visual\",\"matematico\",\"restricao\",\"caminho\",\"ufrgs\",\"percentagem\",\"emissions\",\"etilico\",\"alcancar\",\"sw\",\"angular\",\"\\u03b4\",\"localizados\",\"minimizar\",\"paralelo\",\"porcoes\",\"propeno\",\"facilidade\",\"criar\",\"subbacia\",\"eteno\",\"partida\",\"jurassico\",\"foraminiferos\",\"afloramento\",\"molecula\",\"concluir\",\"depositional\",\"gravidade\",\"pres\",\"publicas\",\"polietileno\",\"octanagem\",\"cultivo\",\"applications\",\"mergulho\",\"estavel\",\"calculadas\",\"grafica\",\"essencialmente\",\"cultura\",\"previa\",\"computacionais\",\"tera\",\"comercializado\",\"mal\",\"acida\",\"renovaveis\",\"type\",\"hi\",\"laminas\",\"fernandes\",\"decorrentes\",\"geologos\",\"litoral\",\"nesw\",\"houston\",\"lote\",\"estimado\",\"pirolise\",\"filtros\",\"nbr\",\"onshore\",\"submetidos\",\"\\u25b2\",\"core\",\"resultantes\",\"faults\",\"estrategias\",\"reduz\",\"facilitar\",\"independentes\",\"confianca\",\"ag\",\"geologo\",\"intermediario\",\"gem\",\"current\",\"ducao\",\"entalpia\",\"department\",\"siltitos\",\"fracionamento\",\"indicadores\",\"since\",\"envolvidas\",\"trans\",\"licitacao\",\"motivo\",\"sedimento\",\"obra\",\"anel\",\"analisada\",\"consequente\",\"escolhido\",\"submarino\",\"rica\",\"catalysts\",\"rt\",\"implica\"],\"x1\":{\"__ndarray__\":\"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\",\"dtype\":\"float32\",\"shape\":[2999]},\"x2\":{\"__ndarray__\":\"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\",\"dtype\":\"float32\",\"shape\":[2999]}},\"selected\":{\"id\":\"217e5ac6-f91b-41a8-b28a-c30ac1bf1330\",\"type\":\"Selection\"},\"selection_policy\":{\"id\":\"8ad75ffc-7874-4a0a-8a6b-8fb49d7d0036\",\"type\":\"UnionRenderers\"}},\"id\":\"344e40a9-19ee-41f2-aebc-bc81506e84d4\",\"type\":\"ColumnDataSource\"},{\"attributes\":{},\"id\":\"5b10fd64-715f-4b92-bcd7-7b552a46e4d9\",\"type\":\"BasicTicker\"},{\"attributes\":{\"active_drag\":\"auto\",\"active_inspect\":\"auto\",\"active_scroll\":\"auto\",\"active_tap\":\"auto\",\"tools\":[{\"id\":\"7f6042f4-9572-44cb-8ac9-508a53a8b143\",\"type\":\"PanTool\"},{\"id\":\"c7b579bf-0195-4e38-8040-64657a525045\",\"type\":\"WheelZoomTool\"},{\"id\":\"98c8d759-627f-4811-bf46-6697d34eb98e\",\"type\":\"ResetTool\"},{\"id\":\"fea66d63-f51d-4169-8f41-3a8e1e8b4f73\",\"type\":\"SaveTool\"}]},\"id\":\"7e20de3a-191f-4e08-8804-a9742f9351a7\",\"type\":\"Toolbar\"},{\"attributes\":{\"below\":[{\"id\":\"59aa5248-8388-484b-a9ce-d48fbe41f209\",\"type\":\"LinearAxis\"}],\"left\":[{\"id\":\"9cb273df-272f-424d-80b4-fcf21de71efd\",\"type\":\"LinearAxis\"}],\"plot_height\":900,\"plot_width\":900,\"renderers\":[{\"id\":\"59aa5248-8388-484b-a9ce-d48fbe41f209\",\"type\":\"LinearAxis\"},{\"id\":\"a7bbe725-f666-4894-bb05-19502a674bb1\",\"type\":\"Grid\"},{\"id\":\"9cb273df-272f-424d-80b4-fcf21de71efd\",\"type\":\"LinearAxis\"},{\"id\":\"6e2b4859-cc3c-4fca-8bff-4611984674e2\",\"type\":\"Grid\"},{\"id\":\"8effadeb-f965-4028-9cf8-329b5e55062a\",\"type\":\"GlyphRenderer\"},{\"id\":\"dbd992b4-5d2a-4fec-b235-1ecce9c57f98\",\"type\":\"LabelSet\"}],\"title\":{\"id\":\"115f96e4-3168-48eb-acad-8a9c6e614450\",\"type\":\"Title\"},\"toolbar\":{\"id\":\"7e20de3a-191f-4e08-8804-a9742f9351a7\",\"type\":\"Toolbar\"},\"toolbar_location\":\"above\",\"x_range\":{\"id\":\"d52dbfab-79ce-4201-bad8-a47f4549e47f\",\"type\":\"DataRange1d\"},\"x_scale\":{\"id\":\"96bda9ba-c05a-4a13-9a23-cd92c76a9fdc\",\"type\":\"LinearScale\"},\"y_range\":{\"id\":\"a4704416-02f9-4831-9f2d-ea7d406d2c77\",\"type\":\"DataRange1d\"},\"y_scale\":{\"id\":\"f593ae06-389c-4efb-bca0-fc48951fb7e3\",\"type\":\"LinearScale\"}},\"id\":\"373080c1-3821-4e60-b1a2-5acd362750c6\",\"subtype\":\"Figure\",\"type\":\"Plot\"},{\"attributes\":{\"plot\":{\"id\":\"373080c1-3821-4e60-b1a2-5acd362750c6\",\"subtype\":\"Figure\",\"type\":\"Plot\"},\"ticker\":{\"id\":\"5b10fd64-715f-4b92-bcd7-7b552a46e4d9\",\"type\":\"BasicTicker\"}},\"id\":\"a7bbe725-f666-4894-bb05-19502a674bb1\",\"type\":\"Grid\"}],\"root_ids\":[\"373080c1-3821-4e60-b1a2-5acd362750c6\"]},\"title\":\"Bokeh Application\",\"version\":\"0.12.16\"}};\n",
       "  var render_items = [{\"docid\":\"2cabae84-d912-4ea4-a168-d191b40c1cf3\",\"elementid\":\"783fb86f-7b21-42f7-ae68-73a6b8c2cdde\",\"modelid\":\"373080c1-3821-4e60-b1a2-5acd362750c6\"}];\n",
       "  root.Bokeh.embed.embed_items_notebook(docs_json, render_items);\n",
       "\n",
       "  }\n",
       "  if (root.Bokeh !== undefined) {\n",
       "    embed_document(root);\n",
       "  } else {\n",
       "    var attempts = 0;\n",
       "    var timer = setInterval(function(root) {\n",
       "      if (root.Bokeh !== undefined) {\n",
       "        embed_document(root);\n",
       "        clearInterval(timer);\n",
       "      }\n",
       "      attempts++;\n",
       "      if (attempts > 100) {\n",
       "        console.log(\"Bokeh: ERROR: Unable to run BokehJS code because BokehJS library is missing\")\n",
       "        clearInterval(timer);\n",
       "      }\n",
       "    }, 10, root)\n",
       "  }\n",
       "})(window);"
      ],
      "application/vnd.bokehjs_exec.v0+json": ""
     },
     "metadata": {
      "application/vnd.bokehjs_exec.v0+json": {
       "id": "373080c1-3821-4e60-b1a2-5acd362750c6"
      }
     },
     "output_type": "display_data"
    }
   ],
   "source": [
    "p = figure(tools=\"pan,wheel_zoom,reset,save\",\n",
    "           toolbar_location=\"above\",\n",
    "           title=\" \",\n",
    "           plot_width=900, \n",
    "           plot_height=900)\n",
    "\n",
    "source = ColumnDataSource(data=dict(x1=embed_tsne[:,0],\n",
    "                                    x2=embed_tsne[:,1],\n",
    "                                    names=vocabulario))\n",
    "\n",
    "p.scatter(x=\"x1\", y=\"x2\", size=8, source=source)\n",
    "\n",
    "labels = LabelSet(x=\"x1\", y=\"x2\", text=\"names\", y_offset=6,\n",
    "                  text_font_size=\"12pt\", text_color=\"#555555\",\n",
    "                  source=source, text_align='center')\n",
    "p.add_layout(labels)\n",
    "\n",
    "show(p)"
   ]
  },
  {
   "cell_type": "code",
   "execution_count": null,
   "metadata": {
    "collapsed": true
   },
   "outputs": [],
   "source": []
  },
  {
   "cell_type": "code",
   "execution_count": null,
   "metadata": {},
   "outputs": [],
   "source": []
  },
  {
   "cell_type": "code",
   "execution_count": 19,
   "metadata": {},
   "outputs": [],
   "source": [
    "arquivoEntrada = os.path.join('..','_corpus', \"Petrobras-BoletinsTecnicos-Final.txt\")\n",
    "with open(arquivoEntrada, 'r', encoding=\"UTF-8\") as f:\n",
    "    texto = f.read()"
   ]
  },
  {
   "cell_type": "code",
   "execution_count": 20,
   "metadata": {},
   "outputs": [
    {
     "name": "stdout",
     "output_type": "stream",
     "text": [
      "(3000, 100)\n"
     ]
    }
   ],
   "source": [
    "from collections import Counter\n",
    "word_counts = Counter(texto.split())\n",
    "most_commom = word_counts.most_common(3000) # lista das palavras mais comuns do vocabulario\n",
    "\n",
    "### Obtendo os vetores para as paalvras mais comuns\n",
    "#2- Iterar enter as 1000 palavras mais comuns e pegar o vetor de cada uma usando: model.wv['computer']  # numpy vector of a word\n",
    "# ou testar: say_vector = model['say']  # get vector for word\n",
    "#3- empilhar os vetores apenas das palavras mais comuns do vocabulário, e rodar o TSNE\n",
    "\n",
    "vocabulario = list()\n",
    "vetores = list()\n",
    "\n",
    "for word in most_commom:\n",
    "    palavra = word[0]\n",
    "    #print(palavra)\n",
    "    if (palavra in model.wv.vocab):\n",
    "        vocabulario.append(palavra)\n",
    "        vetores.append(model.wv.word_vec(palavra));\n",
    "matrix = np.vstack(vetores)    \n",
    "    \n",
    "print(matrix.shape)"
   ]
  },
  {
   "cell_type": "code",
   "execution_count": 21,
   "metadata": {},
   "outputs": [
    {
     "name": "stdout",
     "output_type": "stream",
     "text": [
      "Wall time: 1min\n"
     ]
    }
   ],
   "source": [
    "%%time\n",
    "tsne = TSNE(n_components=2, random_state=0, perplexity=12,early_exaggeration=10  )\n",
    "embed_tsne = tsne.fit_transform(vetores)"
   ]
  },
  {
   "cell_type": "code",
   "execution_count": 23,
   "metadata": {},
   "outputs": [
    {
     "data": {
      "text/html": [
       "\n",
       "<div class=\"bk-root\">\n",
       "    <div class=\"bk-plotdiv\" id=\"cd126bfc-17f3-4fb5-8cbd-c275cdb52695\"></div>\n",
       "</div>"
      ]
     },
     "metadata": {},
     "output_type": "display_data"
    },
    {
     "data": {
      "application/javascript": [
       "(function(root) {\n",
       "  function embed_document(root) {\n",
       "    \n",
       "  var docs_json = {\"d39d371e-4779-4242-babb-25c709c0f95f\":{\"roots\":{\"references\":[{\"attributes\":{},\"id\":\"ea4bbbca-f398-481f-8aa6-8ab573ab2d8e\",\"type\":\"UnionRenderers\"},{\"attributes\":{},\"id\":\"c47aa05b-ae13-42b4-a7fd-ec435ef45b14\",\"type\":\"BasicTicker\"},{\"attributes\":{\"callback\":null,\"data\":{\"names\":[\"cid\",\"petrobras\",\"rio\",\"sao\",\"janeiro\",\"nao\",\"ser\",\"bacia\",\"formacao\",\"petroleo\",\"fig\",\"figura\",\"producao\",\"gas\",\"oleo\",\"area\",\"sistema\",\"agua\",\"tambem\",\"dados\",\"pode\",\"tempo\",\"ate\",\"onde\",\"pressao\",\"forma\",\"maior\",\"pocos\",\"cada\",\"processo\",\"cao\",\"analise\",\"resultados\",\"caso\",\"grande\",\"base\",\"parte\",\"trabalho\",\"campo\",\"valores\",\"unidade\",\"temperatura\",\"ja\",\"tipo\",\"tabela\",\"sendo\",\"modelo\",\"condicoes\",\"campos\",\"co\",\"bem\",\"partir\",\"brasil\",\"desenvolvimento\",\"total\",\"fase\",\"dois\",\"atraves\",\"figure\",\"superior\",\"estudo\",\"assim\",\"geologia\",\"bacias\",\"ainda\",\"metodo\",\"regiao\",\"projeto\",\"valor\",\"relacao\",\"tecnico\",\"\\u00b7\",\"zona\",\"facies\",\"ponto\",\"secao\",\"duas\",\"podem\",\"sul\",\"numero\",\"volume\",\"boletim\",\"operacao\",\"apos\",\"equacao\",\"universidade\",\"meio\",\"engenharia\",\"tres\",\"pro\",\"alem\",\"inferior\",\"rochas\",\"neste\",\"carga\",\"basin\",\"jan\",\"areas\",\"sistemas\",\"outros\",\"funcao\",\"cenpes\",\"arenitos\",\"unidades\",\"sequencia\",\"deste\",\"amostras\",\"sedimentos\",\"exploracao\",\"mar\",\"mento\",\"uso\",\"segundo\",\"pesquisas\",\"pesquisa\",\"longo\",\"controle\",\"ca\",\"nivel\",\"fluxo\",\"mente\",\"apenas\",\"perfuracao\",\"estao\",\"paulo\",\"distribuicao\",\"deve\",\"estudos\",\"grupo\",\"anos\",\"material\",\"plataforma\",\"centro\",\"topo\",\"oil\",\"desta\",\"fluido\",\"media\",\"geral\",\"devido\",\"possivel\",\"processos\",\"superficie\",\"espessura\",\"ai\",\"velocidade\",\"vazao\",\"continental\",\"ar\",\"norte\",\"pe\",\"vez\",\"new\",\"falhas\",\"exemplo\",\"\\u00b0c\",\"apresenta\",\"aumento\",\"solucao\",\"diferentes\",\"reservatorios\",\"alguns\",\"medio\",\"produtos\",\"li\",\"obtidos\",\"final\",\"cm\",\"linha\",\"presenca\",\"petroleum\",\"quanto\",\"alta\",\"intervalo\",\"sob\",\"santos\",\"outro\",\"peso\",\"programa\",\"trabalhos\",\"idade\",\"amostra\",\"energia\",\"tecnologia\",\"avaliacao\",\"testes\",\"menor\",\"outras\",\"caracteristicas\",\"ter\",\"tecnica\",\"sera\",\"entao\",\"po\",\"tal\",\"principais\",\"ocorrencia\",\"jul\",\"km\",\"reservatorio\",\"refinaria\",\"aplicacao\",\"direcao\",\"mesma\",\"pois\",\"parana\",\"sido\",\"alto\",\"federal\",\"evolucao\",\"teste\",\"tais\",\"corrosao\",\"acima\",\"modo\",\"efeito\",\"estrutura\",\"metodos\",\"mm\",\"falha\",\"ambiente\",\"brasileira\",\"menos\",\"dentro\",\"parametros\",\"data\",\"fluidos\",\"mo\",\"natural\",\"industrial\",\"densidade\",\"quais\",\"abr\",\"coluna\",\"cerca\",\"ano\",\"utilizacao\",\"profundidade\",\"ordem\",\"conjunto\",\"fi\",\"jose\",\"ocorre\",\"faixa\",\"calculo\",\"mistura\",\"problema\",\"quimica\",\"limite\",\"aguas\",\"pontos\",\"setor\",\"departamento\",\"hidrocarbonetos\",\"depositos\",\"primeiro\",\"fator\",\"nacional\",\"qualidade\",\"teor\",\"seguintes\",\"custo\",\"well\",\"folhelhos\",\"divisao\",\"concentracao\",\"primeira\",\"melhor\",\"metros\",\"\\u0003\",\"determinacao\",\"maio\",\"equipamentos\",\"tratamento\",\"escoamento\",\"diametro\",\"importante\",\"tos\",\"conforme\",\"problemas\",\"reconcavo\",\"injecao\",\"objetivo\",\"aqui\",\"periodo\",\"fundo\",\"todas\",\"des\",\"fato\",\"propriedades\",\"principal\",\"comportamento\",\"algumas\",\"bahia\",\"geology\",\"inicio\",\"variacao\",\"camadas\",\"curva\",\"lado\",\"principalmente\",\"brasileiro\",\"casos\",\"taxa\",\"produto\",\"industria\",\"atividades\",\"presente\",\"baixo\",\"materiais\",\"sp\",\"margem\",\"diversos\",\"nova\",\"estruturas\",\"portanto\",\"membro\",\"razao\",\"pouco\",\"laboratorio\",\"modelos\",\"rocha\",\"manutencao\",\"diesel\",\"formation\",\"reducao\",\"vapor\",\"elementos\",\"tipos\",\"projetos\",\"central\",\"grandes\",\"sedimentacao\",\"zonas\",\"atividade\",\"dade\",\"mostra\",\"porcao\",\"qualquer\",\"deposicao\",\"flow\",\"linhas\",\"etc\",\"baixa\",\"vista\",\"sergipe\",\"capacidade\",\"coes\",\"tecnicas\",\"nesta\",\"massa\",\"viscosidade\",\"arenito\",\"apresentam\",\"inicial\",\"informacoes\",\"influencia\",\"porem\",\"equacoes\",\"maiores\",\"quantidade\",\"contato\",\"bastante\",\"vezes\",\"devem\",\"correlacao\",\"acordo\",\"recuperacao\",\"ra\",\"escala\",\"composicao\",\"entretanto\",\"alagoas\",\"empresa\",\"analises\",\"sequencias\",\"dessa\",\"porosidade\",\"geociencias\",\"catalisador\",\"silva\",\"si\",\"pa\",\"autores\",\"costa\",\"transporte\",\"estrutural\",\"embora\",\"vertical\",\"mapa\",\"abstract\",\"potencial\",\"separacao\",\"aco\",\"formacoes\",\"sempre\",\"padrao\",\"tecnicos\",\"fatores\",\"res\",\"liquido\",\"podese\",\"regional\",\"sedimentar\",\"dia\",\"necessario\",\"fim\",\"permeabilidade\",\"toda\",\"varios\",\"variaveis\",\"perfil\",\"sedimentares\",\"grau\",\"constante\",\"oleos\",\"calor\",\"gasolina\",\"relatorio\",\"brazil\",\"resistencia\",\"tubos\",\"tendo\",\"tensao\",\"quatro\",\"curvas\",\"perda\",\"embasamento\",\"medida\",\"carbono\",\"leste\",\"analysis\",\"interpretacao\",\"gases\",\"serem\",\"introducao\",\"posicao\",\"pais\",\"per\",\"cos\",\"enquanto\",\"ta\",\"tubo\",\"di\",\"serie\",\"\\u0002\\u0005\",\"permite\",\"diversas\",\"somente\",\"estratigrafica\",\"york\",\"atual\",\"cor\",\"utilizado\",\"curso\",\"tes\",\"fases\",\"ocorrem\",\"outra\",\"local\",\"origem\",\"cabo\",\"inspecao\",\"maximo\",\"comprimento\",\"pre\",\"acido\",\"desses\",\"temperaturas\",\"horizontal\",\"corrente\",\"\\u0002\",\"cretaceo\",\"niveis\",\"serao\",\"geracao\",\"real\",\"antonio\",\"importancia\",\"fonte\",\"resultado\",\"componentes\",\"novas\",\"vem\",\"water\",\"system\",\"perfis\",\"destes\",\"consumo\",\"kg\",\"entrada\",\"maxima\",\"society\",\"desse\",\"boa\",\"atualmente\",\"santo\",\"secoes\",\"bom\",\"processamento\",\"ro\",\"utilizados\",\"feita\",\"acao\",\"foto\",\"recursos\",\"deformacao\",\"cia\",\"custos\",\"va\",\"carlos\",\"novo\",\"interno\",\"normal\",\"research\",\"abaixo\",\"conhecimento\",\"indice\",\"possui\",\"tectonica\",\"model\",\"representa\",\"american\",\"equipamento\",\"igual\",\"originais\",\"production\",\"seguinte\",\"aproximadamente\",\"seguranca\",\"frequencia\",\"quase\",\"rifte\",\"iv\",\"coeficiente\",\"original\",\"novos\",\"informacao\",\"varias\",\"oc\",\"materia\",\"demais\",\"construcao\",\"tamanho\",\"necessidade\",\"fm\",\"simples\",\"journal\",\"termos\",\"ensaios\",\"planejamento\",\"comparacao\",\"operacoes\",\"ne\",\"dias\",\"serra\",\"sal\",\"geological\",\"camada\",\"ex\",\"compostos\",\"br\",\"caracterizacao\",\"resumo\",\"eventos\",\"aspectos\",\"seguir\",\"instalacao\",\"time\",\"sismica\",\"filho\",\"ba\",\"results\",\"respectivamente\",\"autor\",\"lama\",\"petro\",\"matriz\",\"cimento\",\"desempenho\",\"plano\",\"mercado\",\"nordeste\",\"basins\",\"variacoes\",\"espaco\",\"situacao\",\"vi\",\"graos\",\"engineering\",\"termica\",\"servicos\",\"ver\",\"simulacao\",\"oeste\",\"referencia\",\"modelagem\",\"estratigrafia\",\"maneira\",\"medidas\",\"mg\",\"reacao\",\"destilacao\",\"obter\",\"offshore\",\"dado\",\"nov\",\"grafico\",\"fracao\",\"diferenca\",\"figuras\",\"regioes\",\"eficiencia\",\"espirito\",\"also\",\"transferencia\",\"seismic\",\"ppm\",\"organica\",\"field\",\"study\",\"nesse\",\"procedimento\",\"min\",\"used\",\"joao\",\"obtencao\",\"disso\",\"amazonas\",\"section\",\"figs\",\"interior\",\"companhia\",\"saida\",\"table\",\"luiz\",\"\\u000f\",\"enxofre\",\"instituto\",\"etapa\",\"astm\",\"souza\",\"fontes\",\"obtidas\",\"importantes\",\"mecanica\",\"estagio\",\"corpo\",\"realizados\",\"especial\",\"combustivel\",\"geometria\",\"efeitos\",\"apesar\",\"apresentados\",\"extensao\",\"fratura\",\"experimental\",\"\\u00b1\",\"resolucao\",\"registro\",\"potiguar\",\"xisto\",\"limites\",\"areia\",\"obtido\",\"oliveira\",\"segunda\",\"geologico\",\"coque\",\"vida\",\"linear\",\"testemunhos\",\"descricao\",\"high\",\"obtida\",\"oi\",\"university\",\"operacionais\",\"natureza\",\"dimensoes\",\"quadro\",\"\\u0006\",\"folhelho\",\"calcarios\",\"valvula\",\"horas\",\"torno\",\"sa\",\"relativa\",\"associacao\",\"minerais\",\"metodologia\",\"mentos\",\"conclusoes\",\"pressoes\",\"coordenador\",\"servico\",\"esquema\",\"localizacao\",\"ensaio\",\"poros\",\"francisco\",\"api\",\"maioria\",\"dada\",\"pressure\",\"cp\",\"ph\",\"tendencia\",\"indica\",\"mestrado\",\"versus\",\"corresponde\",\"pes\",\"entanto\",\"apresentado\",\"existencia\",\"solucoes\",\"dessas\",\"intervalos\",\"destas\",\"eixo\",\"discordancia\",\"reator\",\"particulas\",\"two\",\"geologica\",\"tulsa\",\"sedimentary\",\"motor\",\"ciclo\",\"definicao\",\"utilizada\",\"anterior\",\"evento\",\"usado\",\"tanques\",\"existentes\",\"presentes\",\"normalmente\",\"\\u2212\",\"revestimento\",\"pol\",\"recebidos\",\"terra\",\"rede\",\"feito\",\"derivados\",\"dagua\",\"minimo\",\"artigo\",\"epoca\",\"tanque\",\"neto\",\"rift\",\"pequena\",\"fazer\",\"alves\",\"pessoal\",\"momento\",\"hoje\",\"operacional\",\"pos\",\"deposicional\",\"global\",\"interesse\",\"interna\",\"misturas\",\"referencias\",\"process\",\"dutos\",\"maria\",\"grupos\",\"aspecto\",\"paper\",\"using\",\"cuja\",\"fe\",\"argila\",\"chemical\",\"estruturais\",\"altura\",\"cl\",\"literatura\",\"wells\",\"cinco\",\"possibilidade\",\"variavel\",\"marco\",\"objetivos\",\"correntes\",\"mapas\",\"especies\",\"tensoes\",\"deslocamento\",\"based\",\"finos\",\"experimentais\",\"ci\",\"sequence\",\"experiencia\",\"andar\",\"cas\",\"\\u0001\",\"craqueamento\",\"nafta\",\"borda\",\"brazilian\",\"orgao\",\"systems\",\"bloco\",\"condicao\",\"regime\",\"relativamente\",\"alberto\",\"profundas\",\"conta\",\"escola\",\"carater\",\"angulo\",\"proximo\",\"catalisadores\",\"par\",\"bomba\",\"menores\",\"devera\",\"lateral\",\"distancia\",\"im\",\"one\",\"formado\",\"fo\",\"reservoir\",\"tucano\",\"nessa\",\"hidrogenio\",\"paises\",\"execucao\",\"mineral\",\"revisao\",\"df\",\"mostram\",\"salvador\",\"refinacao\",\"revista\",\"determinar\",\"bibliograficas\",\"indicam\",\"tra\",\"method\",\"tion\",\"identificacao\",\"forca\",\"alii\",\"torre\",\"geralmente\",\"consiste\",\"etanol\",\"taxas\",\"\\uf06f\",\"raios\",\"termo\",\"apoio\",\"south\",\"carvao\",\"erro\",\"corte\",\"pratica\",\"crescimento\",\"relacoes\",\"existe\",\"testemunho\",\"feicoes\",\"marinha\",\"observase\",\"risco\",\"remocao\",\"junto\",\"gerais\",\"diretamente\",\"development\",\"tao\",\"contem\",\"rocks\",\"devese\",\"cursos\",\"first\",\"blocos\",\"valvulas\",\"tecnologica\",\"\\u00bb\",\"af\",\"contendo\",\"riser\",\"stratigraphic\",\"ultima\",\"brasileiras\",\"psi\",\"carbonatos\",\"fluid\",\"considerado\",\"abertura\",\"ufrj\",\"dis\",\"industriais\",\"faz\",\"dei\",\"programas\",\"duto\",\"texto\",\"ia\",\"io\",\"protecao\",\"utilizando\",\"desenvolvido\",\"dez\",\"canais\",\"candeias\",\"membrana\",\"utilizadas\",\"cal\",\"broca\",\"realizada\",\"item\",\"completacao\",\"geologicos\",\"racao\",\"existem\",\"podera\",\"observado\",\"ml\",\"marinho\",\"historia\",\"fa\",\"realizadas\",\"tec\",\"amplitude\",\"sergipealagoas\",\"ajuste\",\"figo\",\"corpos\",\"altos\",\"technology\",\"formas\",\"associados\",\"parametro\",\"logo\",\"queda\",\"deposicionais\",\"comercial\",\"realizacao\",\"integracao\",\"inter\",\"agora\",\"expressao\",\"aplicada\",\"temse\",\"alcool\",\"determinado\",\"seis\",\"cretaceous\",\"realizado\",\"praticamente\",\"diagrama\",\"macao\",\"america\",\"drilling\",\"evolution\",\"mesmos\",\"expanded\",\"santa\",\"tese\",\"gerencia\",\"questao\",\"provavelmente\",\"emprego\",\"encontrados\",\"elemento\",\"barris\",\"medicao\",\"cidade\",\"milhoes\",\"cf\",\"instalacoes\",\"classificacao\",\"part\",\"congresso\",\"muitos\",\"altas\",\"contudo\",\"martins\",\"lamina\",\"marine\",\"science\",\"solo\",\"log\",\"papel\",\"amostragem\",\"ambos\",\"doutorado\",\"orgaos\",\"composto\",\"oxigenio\",\"observar\",\"mos\",\"solidos\",\"considerando\",\"usados\",\"formula\",\"fino\",\"cc\",\"ri\",\"apresentar\",\"continua\",\"fenomeno\",\"observacoes\",\"componente\",\"sociedade\",\"fracoes\",\"constantes\",\"ram\",\"ana\",\"lima\",\"termico\",\"afloramentos\",\"externa\",\"subsidencia\",\"feitas\",\"varia\",\"sismicas\",\"muitas\",\"contexto\",\"metais\",\"leito\",\"association\",\"conversao\",\"comum\",\"fl\",\"definida\",\"anteriormente\",\"levantamento\",\"reacoes\",\"forte\",\"expansao\",\"movimento\",\"vazoes\",\"proposta\",\"fluxos\",\"inicialmente\",\"tecnologico\",\"basica\",\"otimizacao\",\"possiveis\",\"ciclos\",\"posteriormente\",\"partes\",\"reservas\",\"considerados\",\"passa\",\"tam\",\"albiano\",\"correspondente\",\"dentre\",\"main\",\"evitar\",\"nome\",\"porto\",\"sudeste\",\"teores\",\"residuo\",\"primeiros\",\"resposta\",\"pequeno\",\"nitrogenio\",\"use\",\"car\",\"via\",\"lei\",\"petroleos\",\"vale\",\"parcial\",\"\\u2022\\u2022\",\"fica\",\"definido\",\"respeito\",\"molecular\",\"fina\",\"selecao\",\"locais\",\"determinada\",\"verificar\",\"rios\",\"amsterdam\",\"obtained\",\"disponiveis\",\"ultimo\",\"mesmas\",\"minas\",\"mb\",\"fernando\",\"leve\",\"lower\",\"sucesso\",\"geo\",\"mudanca\",\"etapas\",\"seguida\",\"petroquimica\",\"passo\",\"cinza\",\"criacao\",\"podemos\",\"diferencas\",\"estimativa\",\"exposicao\",\"previsao\",\"erosao\",\"calculos\",\"gradiente\",\"elevada\",\"aplicacoes\",\"perdas\",\"face\",\"pm\",\"dinamica\",\"cujo\",\"elevado\",\"avaliar\",\"visto\",\"ambientes\",\"basicos\",\"ciencias\",\"barra\",\"necessaria\",\"economica\",\"mundo\",\"anexo\",\"structural\",\"ostracodes\",\"international\",\"ultimos\",\"ausencia\",\"visando\",\"rendimento\",\"mello\",\"dominio\",\"potencia\",\"propria\",\"sim\",\"precisao\",\"superficies\",\"quartzo\",\"metal\",\"pequenas\",\"empresas\",\"argilas\",\"camara\",\"interface\",\"frente\",\"extracao\",\"implantacao\",\"treinamento\",\"residual\",\"especie\",\"uni\",\"especiais\",\"alegre\",\"sen\",\"depende\",\"cisalhamento\",\"\\u0010\",\"transicao\",\"atlantico\",\"phase\",\"fraturas\",\"aumenta\",\"disponivel\",\"elevacao\",\"cargas\",\"caracteristica\",\"dificil\",\"especifica\",\"espessuras\",\"publicacao\",\"work\",\"engineers\",\"\\u0000\",\"different\",\"series\",\"pedro\",\"medios\",\"artigos\",\"map\",\"considerada\",\"relacionados\",\"bras\",\"associada\",\"presidente\",\"tracao\",\"solda\",\"ilha\",\"esforco\",\"ponta\",\"du\",\"superiores\",\"complexo\",\"ferreira\",\"circulacao\",\"ocorrer\",\"configuracao\",\"historico\",\"mes\",\"baixos\",\"diferencial\",\"parece\",\"decada\",\"engenheiro\",\"almeida\",\"direta\",\"trecho\",\"coeficientes\",\"escolha\",\"passagem\",\"course\",\"representam\",\"preto\",\"pi\",\"proposto\",\"refinarias\",\"zero\",\"estratigrafico\",\"eo\",\"tubulacao\",\"apresentada\",\"region\",\"saturacao\",\"aquisicao\",\"sergi\",\"surface\",\"padroes\",\"poderia\",\"tacao\",\"fundamental\",\"equilibrio\",\"demanda\",\"upper\",\"tracos\",\"malha\",\"control\",\"terminal\",\"esforcos\",\"apresentadas\",\"ocorreu\",\"criterio\",\"ferro\",\"values\",\"consideracoes\",\"sr\",\"conteudo\",\"possuem\",\"lb\",\"$\",\"soldagem\",\"plataformas\",\"contorno\",\"sub\",\"resulta\",\"funcoes\",\"substituicao\",\"aromaticos\",\"studies\",\"gama\",\"equipe\",\"apre\",\"poroso\",\"oleoduto\",\"samples\",\"geologists\",\"group\",\"estagios\",\"due\",\"reservoirs\",\"baixas\",\"considerar\",\"volumes\",\"onda\",\"manter\",\"atuacao\",\"torres\",\"ceara\",\"tectonic\",\"estabilidade\",\"leopoldo\",\"existente\",\"case\",\"test\",\"livre\",\"orientacao\",\"interacao\",\"professor\",\"il\",\"economia\",\"aumentar\",\"proprio\",\"desenvolvidos\",\"teoria\",\"exploration\",\"inclusive\",\"end\",\"balanco\",\"acidos\",\"hs\",\"quimicos\",\"normais\",\"hipotese\",\"completa\",\"mudancas\",\"mostrando\",\"atmosferica\",\"associado\",\"particular\",\"n\\u00b0\",\"basal\",\"margin\",\"pacote\",\"us$\",\"duracao\",\"calcario\",\"rotacao\",\"present\",\"distribution\",\"sismicos\",\"composta\",\"genero\",\"ga\",\"porte\",\"responsavel\",\"aquecimento\",\"comunicacao\",\"modulo\",\"\\u000e\",\"\\u000e\\u0005\",\"rj\",\"permitem\",\"vacuo\",\"causa\",\"alternativa\",\"polimero\",\"especialmente\",\"usada\",\"falta\",\"subsuperficie\",\"constituem\",\"dades\",\"troca\",\"arcabouco\",\"usando\",\"ras\",\"vel\",\"spe\",\"mecanismo\",\"ondas\",\"gr\",\"pr\",\"associadas\",\"correlacoes\",\"parede\",\"incluindo\",\"applied\",\"adicao\",\"software\",\"constitui\",\"sedi\",\"ria\",\"detalhe\",\"coordenacao\",\"jr\",\"state\",\"london\",\"may\",\"limpeza\",\"migracao\",\"delta\",\"geoquimica\",\"preco\",\"fabricacao\",\"\\u0019\",\"bulletin\",\"discussao\",\"concentracoes\",\"tura\",\"quer\",\"perfurados\",\"fluvial\",\"navio\",\"produzido\",\"ir\",\"calha\",\"observada\",\"earth\",\"consequencia\",\"largura\",\"\\u00ab\",\"geofisica\",\"criterios\",\"contribuicao\",\"razoes\",\"claro\",\"computador\",\"anular\",\"catalitico\",\"secretariaexecutiva\",\"sediments\",\"experiencias\",\"atingir\",\"graficos\",\"ho\",\"permeacao\",\"unica\",\"tempos\",\"util\",\"associacoes\",\"dissolucao\",\"cru\",\"mostrado\",\"tr\",\"cons\",\"dano\",\"estratigraficas\",\"anteriores\",\"prazo\",\"sandstones\",\"membranas\",\"redes\",\"temperature\",\"finalmente\",\"ap\",\"oxidacao\",\"podendo\",\"minima\",\"similar\",\"desvio\",\"conglomerados\",\"hz\",\"fosseis\",\"compressao\",\"luis\",\"eoceno\",\"propriedade\",\"solubilidade\",\"oleodutos\",\"constituida\",\"ge\",\"soares\",\"ilhas\",\"marinhos\",\"melhores\",\"nw\",\"economico\",\"gomes\",\"poder\",\"reconhecimento\",\"suporte\",\"roberto\",\"querosene\",\"minutos\",\"motores\",\"history\",\"geologicas\",\"showing\",\"gasosa\",\"observacao\",\"conference\",\"tabelas\",\"necessarios\",\"montagem\",\"estacao\",\"talude\",\"fault\",\"jurassico\",\"produ\",\"trato\",\"pc\",\"precipitacao\",\"deverao\",\"seco\",\"utilizandose\",\"ferramenta\",\"exemplos\",\"equivalente\",\"secundaria\",\"procedimentos\",\"observados\",\"maranhao\",\"relatorios\",\"fazenda\",\"naturais\",\"sis\",\"miguez\",\"related\",\"deposits\",\"depositional\",\"externo\",\"atlantic\",\"foraminiferos\",\"semelhante\",\"consequentemente\",\"diminuicao\",\"institute\",\"low\",\"conceito\",\"programacao\",\"lu\",\"vantagens\",\"calcular\",\"meios\",\"raio\",\"conditions\",\"erros\",\"idades\",\"doce\",\"periodos\",\"\\b\",\"reduzir\",\"cr$\",\"geologos\",\"bonito\",\"conclusao\",\"dai\",\"fabrica\",\"methods\",\"profundidades\",\"organizacao\",\"crosta\",\"technical\",\"piloto\",\"computacional\",\"fluviais\",\"vai\",\"design\",\"representada\",\"ce\",\"three\",\"marcos\",\"leo\",\"permitir\",\"propano\",\"fragmentos\",\"pereira\",\"ip\",\"models\",\"baseado\",\"comuns\",\"reis\",\"frio\",\"rodrigues\",\"unico\",\"zone\",\"modificacoes\",\"tas\",\"assunto\",\"aluminio\",\"pequenos\",\"posterior\",\"apresentou\",\"pesado\",\"totalmente\",\"propagacao\",\"ft\",\"fcc\",\"lugar\",\"superficial\",\"geologo\",\"absorcao\",\"subbacia\",\"estratos\",\"deep\",\"cunha\",\"cimentacao\",\"\\u00b0f\",\"along\",\"grossa\",\"observadas\",\"sodio\",\"combustao\",\"simulation\",\"gem\",\"acompanhamento\",\"ambas\",\"suficiente\",\"adequada\",\"glp\",\"atuais\",\"preparacao\",\"ouro\",\"meses\",\"siltitos\",\"sulfato\",\"parafinas\",\"axial\",\"quantidades\",\"significativa\",\"basico\",\"cias\",\"classe\",\"rela\",\"normas\",\"calcio\",\"penetracao\",\"provavel\",\"junior\",\"nal\",\"tema\",\"forcas\",\"sinal\",\"stratigraphy\",\"ciencia\",\"posgraduacao\",\"years\",\"cenap\",\"acesso\",\"san\",\"porosity\",\"algum\",\"lacao\",\"cr\",\"ali\",\"transversal\",\"van\",\"unit\",\"vaso\",\"araujo\",\"visao\",\"descrito\",\"espectro\",\"defeitos\",\"acos\",\"caxias\",\"efetiva\",\"internacional\",\"liquidos\",\"barreiras\",\"planta\",\"solvente\",\"duque\",\"presented\",\"order\",\"faults\",\"facil\",\"produzida\",\"especifico\",\"correcao\",\"important\",\"alternativas\",\"ms\",\"reduc\",\"estudada\",\"national\",\"passou\",\"depositados\",\"empregados\",\"produtores\",\"possa\",\"participacao\",\"tornase\",\"navios\",\"produzir\",\"difusao\",\"planos\",\"finalidade\",\"celula\",\"bases\",\"dificuldades\",\"corrosion\",\"available\",\"critica\",\"utiliza\",\"filtracao\",\"situacoes\",\"resultante\",\"carbonate\",\"decisao\",\"portugal\",\"membros\",\"dar\",\"ora\",\"opera\",\"acumulacao\",\"ideia\",\"probabilidade\",\"afloramento\",\"mal\",\"busca\",\"trans\",\"\\uf079\",\"considerandose\",\"mica\",\"consideradas\",\"proxima\",\"rock\",\"conselho\",\"ataque\",\"polimeros\",\"deteccao\",\"permitindo\",\"structures\",\"preenchimento\",\"sugere\",\"possible\",\"estudados\",\"number\",\"tados\",\"calculado\",\"permiano\",\"macae\",\"enfase\",\"amonia\",\"primeiras\",\"mergulho\",\"capaz\",\"reserva\",\"elaboracao\",\"investimento\",\"colunas\",\"associated\",\"utilizar\",\"sete\",\"fisica\",\"almada\",\"indicando\",\"correspondentes\",\"eletrica\",\"drenagem\",\"perfurado\",\"continuidade\",\"apresentacao\",\"washington\",\"adequado\",\"cu\",\"descritos\",\"convencional\",\"horizontais\",\"semelhantes\",\"indices\",\"several\",\"rate\",\"tecnologias\",\"africa\",\"organic\",\"aplicado\",\"properties\",\"houston\",\"agentes\",\"placa\",\"percentagem\",\"developed\",\"mundial\",\"intensidade\",\"velocidades\",\"laboratorios\",\"cfd\",\"carta\",\"permitiu\",\"relacionadas\",\"realizar\",\"retirada\",\"descarga\",\"ampla\",\"estabelecer\",\"arco\",\"simulador\",\"liquida\",\"sergio\",\"movimentacao\",\"processes\",\"encontradas\",\"condutividade\",\"tarefa\",\"resfriamento\",\"project\",\"constituido\",\"ideal\",\"notar\",\"imagens\",\"ions\",\"detalhes\",\"representado\",\"equatorial\",\"irati\",\"funcionamento\",\"made\",\"diques\",\"complexos\",\"chemistry\",\"sos\",\"proximal\",\"ducao\",\"ui\",\"vidro\",\"moleculas\",\"ambiental\",\"depth\",\"ferramentas\",\"sequences\",\"distintas\",\"cam\",\"manual\",\"elevados\",\"arranjo\",\"dispersao\",\"torna\",\"pp\",\"trata\",\"combustiveis\",\"ruptura\",\"rapida\",\"confiabilidade\",\"virtude\",\"late\",\"graduacao\",\"ag\",\"iniciais\",\"realidade\",\"aptiano\",\"laminas\",\"impacto\",\"conceitos\",\"sintese\",\"regionais\",\"abordagem\",\"conhecida\",\"tectonicos\",\"havia\",\"porcoes\",\"reais\",\"pesados\",\"especificacao\",\"encontra\",\"elevadas\",\"ocorrencias\",\"lubrificantes\",\"principio\",\"apresentaram\",\"futuro\",\"anel\",\"verticais\",\"vo\",\"pl\",\"aberto\",\"proximos\",\"graus\",\"craton\",\"energy\",\"ei\",\"paleontologia\",\"ses\",\"vol\",\"separador\",\"pelotas\",\"profundos\",\"submarinos\",\"tro\",\"borracha\",\"ac\",\"franca\",\"program\",\"reta\",\"direcoes\",\"set\",\"acu\",\"usar\",\"lago\",\"unidos\",\"pico\",\"norma\",\"sais\",\"poucos\",\"anomalias\",\"iguais\",\"simulacoes\",\"rpba\",\"crescente\",\"early\",\"application\",\"sinopse\",\"oh\",\"continentais\",\"nota\",\"ambientais\",\"carvalho\",\"interessante\",\"pres\",\"placas\",\"ns\",\"texas\",\"cadeia\",\"calculados\",\"possibilidades\",\"concreto\",\"facilmente\",\"refino\",\"variando\",\"marlim\",\"prova\",\"molar\",\"pintura\",\"nanofosseis\",\"relativo\",\"preservacao\",\"carbonaticas\",\"continuo\",\"relacionada\",\"areias\",\"administracao\",\"armazenamento\",\"bo\",\"dt\",\"desenvolvida\",\"tectonico\",\"intensa\",\"altamente\",\"lusitanica\",\"analisados\",\"apresentase\",\"tar\",\"apresen\",\"alimentacao\",\"castro\",\"formada\",\"moura\",\"cacao\",\"oe\",\"barreirinhas\",\"bioestratigrafia\",\"gerados\",\"hi\",\"baseada\",\"necessarias\",\"ribeiro\",\"dexpro\",\"curto\",\"lagoa\",\"nenhum\",\"instrumentos\",\"ij\",\"gondwana\",\"inferiores\",\"convencionais\",\"correlation\",\"contrario\",\"canal\",\"atender\",\"inclui\",\"carbonatica\",\"identificar\",\"general\",\"liquid\",\"calculada\",\"certa\",\"cobre\",\"fez\",\"observed\",\"desenvolver\",\"formando\",\"age\",\"algoritmo\",\"gasoleo\",\"agente\",\"asfalto\",\"segmento\",\"eletricos\",\"alteracao\",\"structure\",\"luz\",\"cujos\",\"recentes\",\"apresentando\",\"feitos\",\"banco\",\"bar\",\"fun\",\"units\",\"calcita\",\"representacao\",\"sandstone\",\"ingressou\",\"estacoes\",\"mediante\",\"radial\",\"parada\",\"source\",\"dr\",\"necessidades\",\"bandas\",\"au\",\"usadas\",\"parameters\",\"experimentos\",\"aperfeicoamento\",\"polietileno\",\"pernambuco\",\"fornece\",\"definir\",\"top\",\"basicamente\",\"submarino\",\"vulcanicas\",\"est\",\"quimico\",\"heat\",\"atencao\",\"numeros\",\"ing\",\"rem\",\"ten\",\"mecanismos\",\"sections\",\"vieira\",\"sedimen\",\"empregado\",\"regular\",\"partida\",\"itarare\",\"bol\",\"soma\",\"coordenadas\",\"barbosa\",\"faixas\",\"poderao\",\"determinados\",\"nacionais\",\"atua\",\"arenosos\",\"editorial\",\"suspensao\",\"north\",\"e&p\",\"quadros\",\"modificado\",\"exterior\",\"desen\",\"hora\",\"produtividade\",\"special\",\"performance\",\"encontrase\",\"hydrocarbon\",\"leves\",\"retorno\",\"pf\",\"reparo\",\"basicas\",\"basement\",\"since\",\"parcialmente\",\"gra\",\"conexao\",\"locacao\",\"tor\",\"substancias\",\"titulo\",\"camamu\",\"ocor\",\"descritas\",\"quimicas\",\"materiaprima\",\"separation\",\"point\",\"provenientes\",\"eteno\",\"obtemse\",\"agradecimentos\",\"localmente\",\"fenomenos\",\"studied\",\"dobras\",\"intercalacoes\",\"aproveitamento\",\"adsorcao\",\"oo\",\"especificacoes\",\"salt\",\"consideracao\",\"qu\",\"preliminar\",\"sw\",\"nenhuma\",\"information\",\"milani\",\"trobras\",\"zacao\",\"alumina\",\"industrias\",\"verificase\",\"alguma\",\"fields\",\"tante\",\"branco\",\"anomalia\",\"prof\",\"frequencias\",\"thermal\",\"restricoes\",\"diminui\",\"numerica\",\"sismico\",\"significa\",\"possam\",\"comumente\",\"ih\",\"margas\",\"restrita\",\"mil\",\"conhecido\",\"mestre\",\"fernandes\",\"considera\",\"leques\",\"condensacao\",\"bombeio\",\"capa\",\"desenvolvidas\",\"ressaltar\",\"coleta\",\"aapg\",\"jorge\",\"grao\",\"velocity\",\"pipe\",\"carbon\",\"massas\",\"dizer\",\"requer\",\"completo\",\"estampa\",\"espe\",\"calibracao\",\"aparente\",\"cores\",\"caixa\",\"estudadas\",\"oito\",\"reser\",\"estadual\",\"picos\",\"todavia\",\"rasa\",\"formados\",\"noroeste\",\"brasilia\",\"extremamente\",\"recente\",\"encontramse\",\"desgaste\",\"alteracoes\",\"veis\",\"espacial\",\"xi\",\"precos\",\"araripe\",\"passando\",\"nestes\",\"relacionado\",\"essencialmente\",\"usa\",\"biblioteca\",\"rasas\",\"percentual\",\"turbiditos\",\"rt\",\"verificacao\",\"graben\",\"haver\",\"fisico\",\"diferente\",\"rpm\",\"furo\",\"analisar\",\"conhecimentos\",\"concepcao\",\"preciso\",\"sensores\",\"tarefas\",\"horizonte\",\"residuos\",\"analisadas\",\"grafica\",\"pt\",\"imagem\",\"estatica\",\"filme\",\"politica\",\"large\",\"der\",\"definidas\",\"certo\",\"baiano\",\"solimoes\",\"dem\",\"teto\",\"trincas\",\"ficou\",\"produzidos\",\"tado\",\"aditivos\",\"mioceno\",\"exploratorios\",\"geometry\",\"go\",\"tudo\",\"th\",\"talvez\",\"dissertacao\",\"fazendo\",\"leva\",\"documentacao\",\"\\u0153\",\"proporcao\",\"acumulacoes\",\"metano\",\"possivelmente\",\"gerado\",\"petroliferos\",\"descoberta\",\"ts\",\"propeno\",\"passos\",\"grosso\",\"volta\",\"ensino\",\"metade\",\"colapso\",\"proveniente\",\"relativos\",\"representar\",\"eficiente\",\"shows\",\"deltaica\",\"trabalha\",\"limitacoes\",\"nc\",\"finais\",\"bombas\",\"bibliografia\",\"nestas\",\"organico\",\"chama\",\"uniforme\",\"catarina\",\"caracterizada\",\"atmosfera\",\"ramos\",\"chapa\",\"seccao\",\"evaporitos\",\"referentes\",\"adotado\",\"ros\",\"traba\",\"conhecidos\",\"ct\",\"max\",\"terciario\",\"inclinacao\",\"medias\",\"nucleo\",\"gerador\",\"sedimentation\",\"verde\",\"quan\",\"queima\",\"cen\",\"press\",\"dom\",\"terrestre\",\"posicionamento\",\"medicoes\",\"adicional\",\"level\",\"canyon\",\"gera\",\"antiga\",\"sucessao\",\"location\",\"diabasio\",\"reduzida\",\"pri\",\"produtor\",\"email\",\"solventes\",\"formulacao\",\"oceano\",\"responsaveis\",\"evidencias\",\"volumetrica\",\"lidade\",\"center\",\"dezembro\",\"deltaicos\",\"dp\",\"scientific\",\"geofisicos\",\"troleo\",\"recovery\",\"marginais\",\"gestao\",\"permanente\",\"predominantemente\",\"paraiba\",\"proposed\",\"line\",\"levar\",\"simposio\",\"dificuldade\",\"richardson\",\"kgf\",\"view\",\"abstracts\",\"resultando\",\"aproximada\",\"desenvolvi\",\"siste\",\"rs\",\"instrumento\",\"regressao\",\"core\",\"feicao\",\"juntas\",\"cional\",\"lho\",\"st\",\"unicamp\",\"estratificacao\",\"bernardes\",\"cristais\",\"superintendente\",\"rosa\",\"qua\",\"rn\",\"modeling\",\"fechamento\",\"frequentemente\",\"problems\",\"eletrico\",\"notase\",\"evaluation\",\"aa\",\"juntamente\",\"ab\",\"equa\",\"solido\",\"complexidade\",\"poderiam\",\"estudar\",\"dependendo\",\"effect\",\"campaniano\",\"registros\",\"compoem\",\"provincia\",\"zones\",\"potential\",\"xo\",\"rea\",\"solution\",\"envolvidos\",\"leitura\",\"carmopolis\",\"fisicas\",\"sol\",\"tempera\",\"tests\",\"definidos\",\"sciences\",\"bra\",\"dinamico\",\"ix\",\"tl\",\"chapas\",\"indicado\",\"andrade\",\"avanco\",\"vii\",\"cs\",\"stress\",\"rapido\",\"modified\",\"sample\",\"nesw\",\"abrolhos\",\"profundo\",\"perspectivas\",\"range\",\"filtro\",\"correspondem\",\"saber\",\"relativas\",\"salinidade\",\"extremidade\",\"pinto\",\"gia\",\"mecanico\",\"magmatismo\",\"fraturamento\",\"previamente\",\"impor\",\"sidade\",\"paredes\",\"lavagem\",\"sinais\",\"quente\",\"ed\",\"distintos\",\"cn\",\"fins\",\"mostraram\",\"company\",\"melhoria\",\"ls\",\"preparo\",\"emersa\",\"physical\",\"investimentos\",\"shown\",\"localizada\",\"tomada\",\"sc\",\"circular\",\"internos\",\"direita\",\"variam\",\"aracaju\",\"absoluta\",\"acoes\",\"vantagem\",\"levantamentos\",\"marca\",\"cenario\",\"depex\",\"rior\",\"dor\",\"lobos\",\"pena\",\"toneladas\",\"zoneamento\",\"medidos\",\"exame\",\"tratase\",\"turbiditicos\",\"rjs\",\"refluxo\",\"xl\",\"penetrante\",\"catalitica\",\"goncalves\",\"carbonato\",\"litologia\",\"furos\",\"ambito\",\"atributos\",\"deu\",\"found\",\"profunda\",\"note\",\"aporte\",\"usandose\",\"gran\",\"nais\",\"interpretation\",\"ricardo\",\"pla\",\"rendimentos\",\"emulsao\",\"garantir\",\"type\",\"adjacentes\",\"vento\",\"bas\",\"laboratory\",\"filtrado\",\"ira\",\"deposition\",\"estabelecimento\",\"sas\",\"limitada\",\"even\",\"resul\",\"digital\",\"estudado\",\"sugerem\",\"compactacao\",\"auxilio\",\"cesso\",\"cruzada\",\"apendice\",\"metro\",\"ganho\",\"parnaiba\",\"scale\",\"determinadas\",\"tros\",\"utili\",\"jun\",\"divulgacao\",\"fusao\",\"obra\",\"danos\",\"edicao\",\"paleozoico\",\"carbonaticos\",\"investigacao\",\"situado\",\"buracica\",\"ope\",\"capital\",\"eletrodo\",\"inversao\",\"changes\",\"tende\",\"nd\",\"keywords\",\"mostrou\",\"hidraulico\",\"esquerda\",\"cromatografia\",\"coppe\",\"approach\",\"acumulada\",\"comerciais\",\"exp\",\"\\u00b6\",\"fornecer\",\"tectonics\",\"middle\",\"foz\",\"pouca\",\"temas\",\"contatos\",\"catodica\",\"show\",\"aproximacao\",\"formed\",\"distrito\",\"cial\",\"petrolifera\",\"celulas\",\"suprimento\",\"significado\",\"denominado\",\"geophysical\",\"intrusoes\",\"operar\",\"would\",\"eduardo\",\"marinhas\",\"estimar\",\"coimbra\",\"fracture\",\"critico\",\"exploratorio\",\"ad\",\"adotada\",\"within\",\"riscos\",\"industry\",\"terceira\",\"palavraschave\",\"standard\",\"comite\",\"numerical\",\"igualmente\",\"usp\",\"distal\",\"gerar\",\"ib\",\"arraste\",\"tubulacoes\",\"ocasiao\",\"matematica\",\"cientifica\",\"esperado\",\"nesses\",\"consequente\",\"potenciais\",\"internas\",\"shale\",\"vs\",\"cientifico\",\"junta\",\"requisitos\",\"paris\",\"ob\",\"excelente\",\"equi\",\"anual\",\"bruto\",\"margens\",\"recentemente\",\"descrita\",\"nu\",\"itaparica\",\"soerguimento\",\"increase\",\"elements\",\"http\",\"bolha\",\"pendencia\",\"cujas\",\"mexico\",\"department\",\"fortemente\",\"seletividade\",\"magnitude\",\"major\",\"compreende\",\"estrategia\",\"litofacies\",\"manifold\",\"pasta\",\"ocidental\",\"combinacao\",\"observa\",\"density\",\"located\",\"centros\",\"saude\",\"tipica\",\"denominada\",\"tre\",\"submarina\",\"rejeito\",\"paralelo\",\"knowledge\",\"eixos\",\"teixeira\",\"biozona\",\"obras\",\"dl\",\"bpp\",\"mapeamento\",\"belem\",\"soes\",\"condi\",\"propostas\",\"hidraulica\",\"precisa\",\"bacterias\",\"praticas\",\"micro\",\"caracteriza\",\"incerteza\",\"setores\",\"benzeno\",\"ion\",\"veiculos\",\"second\",\"encontrada\",\"symposium\",\"estratigraficos\",\"descontinuidades\",\"characteristics\",\"\\u00f8\",\"influence\",\"rica\",\"crustal\",\"deformation\",\"conjuntos\",\"amos\",\"efluentes\",\"alianca\",\"form\",\"produz\",\"flexural\",\"matematico\",\"encontram\",\"materials\",\"efluente\",\"evidencia\",\"freitas\",\"causas\",\"seixos\",\"diagenese\",\"gerenciamento\",\"fluids\",\"fp\",\"declinio\",\"resina\",\"ampliacao\",\"novamente\",\"torio\",\"hidro\",\"identificados\",\"organicos\",\"surge\",\"controlador\",\"maquina\",\"\\u001b\",\"nessas\",\"stage\",\"selecionados\",\"quebra\",\"moraes\",\"steel\",\"publicados\",\"oxido\",\"pig\",\"however\",\"plantas\",\"macico\",\"dc\",\"reduzido\",\"envolve\",\"cloreto\",\"lar\",\"fotos\",\"ln\",\"assistencia\",\"encontrado\",\"jazida\",\"deter\",\"proces\",\"equipment\",\"atrito\",\"comandos\",\"certos\",\"lacustres\",\"world\",\"great\",\"oxford\",\"domo\",\"posicoes\",\"claramente\",\"imediatamente\",\"melhorar\",\"pessoas\",\"neces\",\"profissionais\",\"jurassic\",\"antigo\",\"puro\",\"caracterizado\",\"tipico\",\"principios\",\"sonda\",\"brocas\",\"comparison\",\"behavior\",\"formam\",\"ilustracoes\",\"pelitos\",\"md\",\"trabalhou\",\"gravidade\",\"dimensionamento\",\"comissao\",\"okla\",\"events\",\"reflexao\",\"restricao\",\"lados\",\"conti\",\"determina\",\"forno\",\"compreensao\",\"survey\",\"thus\",\"especificos\",\"particularmente\",\"laterais\",\"flanco\",\"explotacao\",\"consideravel\",\"lote\",\"rpbc\",\"report\",\"movimentos\",\"continente\",\"riachuelo\",\"interval\",\"repre\",\"bons\",\"clay\",\"resinas\",\"maodeobra\",\"conhecidas\",\"apresentamse\",\"oceanica\",\"similares\",\"longitudinal\",\"diante\",\"sedimentologia\",\"injection\",\"citados\",\"operador\",\"pdf\",\"companhias\",\"auxiliar\",\"identificadas\",\"radiacao\",\"jatoba\",\"segmentos\",\"resistividade\",\"controlada\",\"entendimento\",\"exploratoria\",\"atinge\",\"cesar\",\"agitacao\",\"angular\",\"objeto\",\"nacao\",\"codigo\",\"versao\",\"poluicao\",\"lucro\",\"aisi\",\"costeira\",\"modos\",\"diz\",\"cio\",\"tica\",\"mn\",\"montante\",\"viii\",\"reynolds\",\"maritimo\",\"\\u001a\",\"disponibilidade\",\"transformacao\",\"southern\",\"rasos\",\"cot\",\"four\",\"sudoeste\",\"bi\",\"\\u00a7\",\"carregamento\",\"deposito\",\"logia\",\"tras\",\"pas\",\"dife\",\"techniques\",\"ingles\",\"filmes\",\"estocagem\",\"brasileiros\",\"terceiro\",\"good\",\"estimativas\",\"vermelho\",\"uti\",\"lancamento\",\"reatores\",\"santana\",\"comparados\",\"fauna\",\"result\",\"facilidade\",\"substrato\",\"oils\",\"espacamento\",\"campanha\",\"itens\",\"super\",\"gura\",\"particula\",\"ocorrido\",\"bu\",\"espessa\",\"proximas\",\"cd\",\"monte\",\"pioneiro\",\"tera\",\"efetuadas\",\"engenheiros\",\"boia\",\"ins\",\"defeito\",\"nh\",\"ativo\",\"envolvendo\",\"technique\",\"environmental\",\"dea\",\"sicao\",\"banda\",\"melo\",\"adicionais\",\"mares\",\"analisado\",\"fazem\",\"significativas\",\"deformacoes\",\"environment\",\"chamado\",\"resultou\",\"eq\",\"recomendacoes\",\"capilar\",\"er\",\"conexoes\",\"cabos\",\"boi\",\"cabe\",\"resources\",\"razoavel\",\"terrestres\",\"liga\",\"segue\",\"mateus\",\"kk\",\"azevedo\",\"resultantes\",\"complexa\",\"petrolifero\",\"bilhoes\",\"fuel\",\"formulas\",\"permeada\",\"pb\",\"clima\",\"barras\",\"www\",\"excecao\",\"completamente\",\"baia\",\"direto\",\"tamento\",\"chamada\",\"fisicos\",\"cado\",\"legenda\",\"sebastiao\",\"usuario\",\"emissao\",\"synopsis\",\"torque\",\"localizado\",\"refere\",\"fatos\",\"oportunidade\",\"zinco\",\"pratos\",\"bordas\",\"fortes\",\"function\",\"expressa\",\"review\",\"azul\",\"intermediaria\",\"\\u03bcm\",\"pulso\",\"igneas\",\"incremento\",\"situada\",\"machado\",\"atuando\",\"atm\",\"raso\",\"viabilidade\",\"convem\",\"define\",\"publicacoes\",\"soterramento\",\"permitiram\",\"significativo\",\"mem\",\"carbonetos\",\"livros\",\"disposicao\",\"nomenclatura\",\"jl\",\"gpm\",\"depin\",\"certas\",\"ligacao\",\"vulcanismo\",\"extincao\",\"levando\",\"concluir\",\"tt\",\"implica\",\"difere\",\"cone\",\"us\",\"datum\",\"cobertura\",\"tentativa\",\"dose\",\"faria\",\"moreira\",\"junho\",\"granulometria\",\"operation\",\"desenvol\",\"holotipo\",\"inoxidavel\"],\"x1\":{\"__ndarray__\":\"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\",\"dtype\":\"float32\",\"shape\":[3000]},\"x2\":{\"__ndarray__\":\"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\",\"dtype\":\"float32\",\"shape\":[3000]}},\"selected\":{\"id\":\"3a0dd729-9a49-47f4-b428-2becbc7de9cc\",\"type\":\"Selection\"},\"selection_policy\":{\"id\":\"ea4bbbca-f398-481f-8aa6-8ab573ab2d8e\",\"type\":\"UnionRenderers\"}},\"id\":\"8041502f-cb3a-4d88-80b2-bde773d34ee9\",\"type\":\"ColumnDataSource\"},{\"attributes\":{\"source\":{\"id\":\"8041502f-cb3a-4d88-80b2-bde773d34ee9\",\"type\":\"ColumnDataSource\"}},\"id\":\"f409cc18-5e3b-407e-b586-1d301bb7b489\",\"type\":\"CDSView\"},{\"attributes\":{\"callback\":null},\"id\":\"d364cc04-3f42-4397-a79b-769c536d2183\",\"type\":\"DataRange1d\"},{\"attributes\":{},\"id\":\"b65557e4-621b-47ea-b5f6-ff9a144bdfc4\",\"type\":\"LinearScale\"},{\"attributes\":{},\"id\":\"cb39400a-d082-4c2e-88e1-d8e891bafbf8\",\"type\":\"WheelZoomTool\"},{\"attributes\":{},\"id\":\"94006f6e-a4f4-4669-af5a-a9787fce3a56\",\"type\":\"BasicTicker\"},{\"attributes\":{\"active_drag\":\"auto\",\"active_inspect\":\"auto\",\"active_scroll\":\"auto\",\"active_tap\":\"auto\",\"tools\":[{\"id\":\"0f41e4f1-4089-450e-aa6a-82b2d8db03e9\",\"type\":\"PanTool\"},{\"id\":\"cb39400a-d082-4c2e-88e1-d8e891bafbf8\",\"type\":\"WheelZoomTool\"},{\"id\":\"be257571-4989-444d-a974-fb0b73e8bc8f\",\"type\":\"ResetTool\"},{\"id\":\"38b8cbeb-2dfe-48d0-bea7-f2a2341b6299\",\"type\":\"SaveTool\"}]},\"id\":\"17c8275c-df76-469f-b074-0a161b192df4\",\"type\":\"Toolbar\"},{\"attributes\":{},\"id\":\"38b8cbeb-2dfe-48d0-bea7-f2a2341b6299\",\"type\":\"SaveTool\"},{\"attributes\":{\"below\":[{\"id\":\"79e70d54-0115-42b9-add0-d54dab9b0582\",\"type\":\"LinearAxis\"}],\"left\":[{\"id\":\"e343f79b-472b-4bdb-93a6-cf874f928220\",\"type\":\"LinearAxis\"}],\"plot_height\":900,\"plot_width\":900,\"renderers\":[{\"id\":\"79e70d54-0115-42b9-add0-d54dab9b0582\",\"type\":\"LinearAxis\"},{\"id\":\"5537d618-4434-410b-9b0f-dd4419838431\",\"type\":\"Grid\"},{\"id\":\"e343f79b-472b-4bdb-93a6-cf874f928220\",\"type\":\"LinearAxis\"},{\"id\":\"d84f727c-93ec-4550-abab-4f25376fc52c\",\"type\":\"Grid\"},{\"id\":\"4f90f845-5eb0-4210-a61a-3f443bf8d354\",\"type\":\"GlyphRenderer\"},{\"id\":\"9ac5ced8-d33b-40ed-82ed-e46b3b513a94\",\"type\":\"LabelSet\"}],\"title\":{\"id\":\"f1f53d30-5e3d-44ba-b2ef-4d0b5074672b\",\"type\":\"Title\"},\"toolbar\":{\"id\":\"17c8275c-df76-469f-b074-0a161b192df4\",\"type\":\"Toolbar\"},\"toolbar_location\":\"above\",\"x_range\":{\"id\":\"ac4555f7-d28e-41b5-8e7b-551cbd174e8b\",\"type\":\"DataRange1d\"},\"x_scale\":{\"id\":\"b65557e4-621b-47ea-b5f6-ff9a144bdfc4\",\"type\":\"LinearScale\"},\"y_range\":{\"id\":\"d364cc04-3f42-4397-a79b-769c536d2183\",\"type\":\"DataRange1d\"},\"y_scale\":{\"id\":\"2872fc74-93a5-4054-908f-b47c0d9b2e6e\",\"type\":\"LinearScale\"}},\"id\":\"09330125-0248-4233-a099-746381772f09\",\"subtype\":\"Figure\",\"type\":\"Plot\"},{\"attributes\":{},\"id\":\"a1555899-2377-4990-a627-febc82e6fc7f\",\"type\":\"BasicTickFormatter\"},{\"attributes\":{\"dimension\":1,\"plot\":{\"id\":\"09330125-0248-4233-a099-746381772f09\",\"subtype\":\"Figure\",\"type\":\"Plot\"},\"ticker\":{\"id\":\"c47aa05b-ae13-42b4-a7fd-ec435ef45b14\",\"type\":\"BasicTicker\"}},\"id\":\"d84f727c-93ec-4550-abab-4f25376fc52c\",\"type\":\"Grid\"},{\"attributes\":{},\"id\":\"2872fc74-93a5-4054-908f-b47c0d9b2e6e\",\"type\":\"LinearScale\"},{\"attributes\":{\"fill_color\":{\"value\":\"#1f77b4\"},\"line_color\":{\"value\":\"#1f77b4\"},\"size\":{\"units\":\"screen\",\"value\":8},\"x\":{\"field\":\"x1\"},\"y\":{\"field\":\"x2\"}},\"id\":\"ed53ce30-c847-441c-af0f-c11e6a2f7a8b\",\"type\":\"Circle\"},{\"attributes\":{\"data_source\":{\"id\":\"8041502f-cb3a-4d88-80b2-bde773d34ee9\",\"type\":\"ColumnDataSource\"},\"glyph\":{\"id\":\"ed53ce30-c847-441c-af0f-c11e6a2f7a8b\",\"type\":\"Circle\"},\"hover_glyph\":null,\"muted_glyph\":null,\"nonselection_glyph\":{\"id\":\"95f08124-9819-4dcd-ab15-5034afa8efc4\",\"type\":\"Circle\"},\"selection_glyph\":null,\"view\":{\"id\":\"f409cc18-5e3b-407e-b586-1d301bb7b489\",\"type\":\"CDSView\"}},\"id\":\"4f90f845-5eb0-4210-a61a-3f443bf8d354\",\"type\":\"GlyphRenderer\"},{\"attributes\":{\"plot\":{\"id\":\"09330125-0248-4233-a099-746381772f09\",\"subtype\":\"Figure\",\"type\":\"Plot\"},\"source\":{\"id\":\"8041502f-cb3a-4d88-80b2-bde773d34ee9\",\"type\":\"ColumnDataSource\"},\"text\":{\"field\":\"names\"},\"text_align\":\"center\",\"text_color\":{\"value\":\"#555555\"},\"text_font_size\":{\"value\":\"14pt\"},\"x\":{\"field\":\"x1\"},\"y\":{\"field\":\"x2\"},\"y_offset\":{\"value\":6}},\"id\":\"9ac5ced8-d33b-40ed-82ed-e46b3b513a94\",\"type\":\"LabelSet\"},{\"attributes\":{\"callback\":null},\"id\":\"ac4555f7-d28e-41b5-8e7b-551cbd174e8b\",\"type\":\"DataRange1d\"},{\"attributes\":{},\"id\":\"0f41e4f1-4089-450e-aa6a-82b2d8db03e9\",\"type\":\"PanTool\"},{\"attributes\":{\"plot\":{\"id\":\"09330125-0248-4233-a099-746381772f09\",\"subtype\":\"Figure\",\"type\":\"Plot\"},\"ticker\":{\"id\":\"94006f6e-a4f4-4669-af5a-a9787fce3a56\",\"type\":\"BasicTicker\"}},\"id\":\"5537d618-4434-410b-9b0f-dd4419838431\",\"type\":\"Grid\"},{\"attributes\":{},\"id\":\"be257571-4989-444d-a974-fb0b73e8bc8f\",\"type\":\"ResetTool\"},{\"attributes\":{\"formatter\":{\"id\":\"06f80172-9e83-420c-bc55-8dc708eb2252\",\"type\":\"BasicTickFormatter\"},\"plot\":{\"id\":\"09330125-0248-4233-a099-746381772f09\",\"subtype\":\"Figure\",\"type\":\"Plot\"},\"ticker\":{\"id\":\"94006f6e-a4f4-4669-af5a-a9787fce3a56\",\"type\":\"BasicTicker\"}},\"id\":\"79e70d54-0115-42b9-add0-d54dab9b0582\",\"type\":\"LinearAxis\"},{\"attributes\":{},\"id\":\"3a0dd729-9a49-47f4-b428-2becbc7de9cc\",\"type\":\"Selection\"},{\"attributes\":{\"plot\":null,\"text\":\" \"},\"id\":\"f1f53d30-5e3d-44ba-b2ef-4d0b5074672b\",\"type\":\"Title\"},{\"attributes\":{},\"id\":\"06f80172-9e83-420c-bc55-8dc708eb2252\",\"type\":\"BasicTickFormatter\"},{\"attributes\":{\"fill_alpha\":{\"value\":0.1},\"fill_color\":{\"value\":\"#1f77b4\"},\"line_alpha\":{\"value\":0.1},\"line_color\":{\"value\":\"#1f77b4\"},\"size\":{\"units\":\"screen\",\"value\":8},\"x\":{\"field\":\"x1\"},\"y\":{\"field\":\"x2\"}},\"id\":\"95f08124-9819-4dcd-ab15-5034afa8efc4\",\"type\":\"Circle\"},{\"attributes\":{\"formatter\":{\"id\":\"a1555899-2377-4990-a627-febc82e6fc7f\",\"type\":\"BasicTickFormatter\"},\"plot\":{\"id\":\"09330125-0248-4233-a099-746381772f09\",\"subtype\":\"Figure\",\"type\":\"Plot\"},\"ticker\":{\"id\":\"c47aa05b-ae13-42b4-a7fd-ec435ef45b14\",\"type\":\"BasicTicker\"}},\"id\":\"e343f79b-472b-4bdb-93a6-cf874f928220\",\"type\":\"LinearAxis\"}],\"root_ids\":[\"09330125-0248-4233-a099-746381772f09\"]},\"title\":\"Bokeh Application\",\"version\":\"0.12.16\"}};\n",
       "  var render_items = [{\"docid\":\"d39d371e-4779-4242-babb-25c709c0f95f\",\"elementid\":\"cd126bfc-17f3-4fb5-8cbd-c275cdb52695\",\"modelid\":\"09330125-0248-4233-a099-746381772f09\"}];\n",
       "  root.Bokeh.embed.embed_items_notebook(docs_json, render_items);\n",
       "\n",
       "  }\n",
       "  if (root.Bokeh !== undefined) {\n",
       "    embed_document(root);\n",
       "  } else {\n",
       "    var attempts = 0;\n",
       "    var timer = setInterval(function(root) {\n",
       "      if (root.Bokeh !== undefined) {\n",
       "        embed_document(root);\n",
       "        clearInterval(timer);\n",
       "      }\n",
       "      attempts++;\n",
       "      if (attempts > 100) {\n",
       "        console.log(\"Bokeh: ERROR: Unable to run BokehJS code because BokehJS library is missing\")\n",
       "        clearInterval(timer);\n",
       "      }\n",
       "    }, 10, root)\n",
       "  }\n",
       "})(window);"
      ],
      "application/vnd.bokehjs_exec.v0+json": ""
     },
     "metadata": {
      "application/vnd.bokehjs_exec.v0+json": {
       "id": "09330125-0248-4233-a099-746381772f09"
      }
     },
     "output_type": "display_data"
    }
   ],
   "source": [
    "p = figure(tools=\"pan,wheel_zoom,reset,save\",\n",
    "           toolbar_location=\"above\",\n",
    "           title=\" \",\n",
    "           plot_width=900, \n",
    "           plot_height=900)\n",
    "\n",
    "source = ColumnDataSource(data=dict(x1=embed_tsne[:,0],\n",
    "                                    x2=embed_tsne[:,1],\n",
    "                                    names=vocabulario))\n",
    "\n",
    "p.scatter(x=\"x1\", y=\"x2\", size=8, source=source)\n",
    "\n",
    "labels = LabelSet(x=\"x1\", y=\"x2\", text=\"names\", y_offset=6,\n",
    "                  text_font_size=\"14pt\", text_color=\"#555555\",\n",
    "                  source=source, text_align='center')\n",
    "p.add_layout(labels)\n",
    "\n",
    "show(p)"
   ]
  },
  {
   "cell_type": "code",
   "execution_count": null,
   "metadata": {},
   "outputs": [],
   "source": []
  }
 ],
 "metadata": {
  "kernelspec": {
   "display_name": "Python 3",
   "language": "python",
   "name": "python3"
  },
  "language_info": {
   "codemirror_mode": {
    "name": "ipython",
    "version": 3
   },
   "file_extension": ".py",
   "mimetype": "text/x-python",
   "name": "python",
   "nbconvert_exporter": "python",
   "pygments_lexer": "ipython3",
   "version": "3.6.5"
  }
 },
 "nbformat": 4,
 "nbformat_minor": 2
}
