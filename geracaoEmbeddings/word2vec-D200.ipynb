{
 "cells": [
  {
   "cell_type": "code",
   "execution_count": 1,
   "metadata": {},
   "outputs": [
    {
     "name": "stderr",
     "output_type": "stream",
     "text": [
      "C:\\Users\\czl6\\AppData\\Local\\Continuum\\anaconda3\\lib\\site-packages\\gensim\\utils.py:865: UserWarning: detected Windows; aliasing chunkize to chunkize_serial\n",
      "  warnings.warn(\"detected Windows; aliasing chunkize to chunkize_serial\")\n"
     ]
    }
   ],
   "source": [
    "import gensim\n",
    "from gensim.models import Word2Vec\n",
    "from gensim.models.word2vec import PathLineSentences\n",
    "import os\n",
    "from pathlib import Path\n",
    "import datetime"
   ]
  },
  {
   "cell_type": "code",
   "execution_count": 2,
   "metadata": {
    "collapsed": true
   },
   "outputs": [],
   "source": [
    "class MySentences(object):\n",
    "    def __init__(self, filename):\n",
    "        self.filename = filename\n",
    " \n",
    "    def __iter__(self):\n",
    "        for line in open(self.filename, 'r', encoding=\"UTF-8\"):\n",
    "            yield line.split()\n",
    "            #yield line\n",
    " "
   ]
  },
  {
   "cell_type": "markdown",
   "metadata": {},
   "source": [
    "## Considerando vetor de embedding com 50 dimensões"
   ]
  },
  {
   "cell_type": "code",
   "execution_count": 3,
   "metadata": {
    "collapsed": true
   },
   "outputs": [],
   "source": [
    "pathCorpus = os.path.join('..', \"_corpus\")\n",
    "sentences = PathLineSentences(pathCorpus)"
   ]
  },
  {
   "cell_type": "code",
   "execution_count": 4,
   "metadata": {},
   "outputs": [
    {
     "name": "stdout",
     "output_type": "stream",
     "text": [
      "Iniciando treinamento em word2vec\n",
      "Tempo total decorrido:  0:01:30.753000\n"
     ]
    }
   ],
   "source": [
    "print('Iniciando treinamento em word2vec')\n",
    "momentoInicial = datetime.datetime.now()\n",
    "\n",
    "model = Word2Vec(sentences, min_count=10, size=200)\n",
    "\n",
    "momentoFinal = datetime.datetime.now()\n",
    "print(\"Tempo total decorrido: \", momentoFinal - momentoInicial)"
   ]
  },
  {
   "cell_type": "code",
   "execution_count": 5,
   "metadata": {
    "collapsed": true
   },
   "outputs": [],
   "source": [
    "# Salvando o modelo\n",
    "arquivoModelo = os.path.join(\"modelos\", 'word2vec_200.model')\n",
    "model.save(arquivoModelo)"
   ]
  },
  {
   "cell_type": "code",
   "execution_count": 6,
   "metadata": {
    "collapsed": true
   },
   "outputs": [],
   "source": [
    "vocab = model.wv.index2word"
   ]
  },
  {
   "cell_type": "code",
   "execution_count": 7,
   "metadata": {},
   "outputs": [
    {
     "name": "stdout",
     "output_type": "stream",
     "text": [
      "['cid', 'sao', 'nao', 'gas', 'petroleo', 'ser', 'rio', 'petrobras', 'figura', 'producao']\n",
      "Tamanho do Vocabulario:  51908\n"
     ]
    }
   ],
   "source": [
    "print(vocab[:10])\n",
    "print('Tamanho do Vocabulario: ', len(vocab))"
   ]
  },
  {
   "cell_type": "code",
   "execution_count": 8,
   "metadata": {},
   "outputs": [
    {
     "name": "stdout",
     "output_type": "stream",
     "text": [
      "Word2vec: [('cenpes', 0.5875513553619385), ('empresa', 0.5479570627212524), ('e&p', 0.5361937284469604), ('companhia', 0.5206046104431152), ('operadora', 0.5077730417251587), ('parceria', 0.5031324625015259), ('trabalhou', 0.501757800579071), ('villares', 0.4996766149997711), ('statoil', 0.4933328926563263), ('p&d', 0.48741579055786133)]\n"
     ]
    }
   ],
   "source": [
    "print(\"Word2vec:\", model.most_similar(\"petrobras\"))"
   ]
  },
  {
   "cell_type": "code",
   "execution_count": 9,
   "metadata": {},
   "outputs": [
    {
     "name": "stdout",
     "output_type": "stream",
     "text": [
      "Word2vec: [('campos', 0.5250849723815918), ('reservatorio', 0.5066998600959778), ('jazida', 0.45629727840423584), ('potencial', 0.4318883717060089), ('bloco', 0.40316495299339294), ('reservatorios', 0.39948999881744385), ('mapeamento', 0.39638611674308777), ('subsuperficie', 0.3882860541343689), ('locacao', 0.3790600895881653), ('lula', 0.3786478042602539)]\n"
     ]
    }
   ],
   "source": [
    "print(\"Word2vec:\", model.most_similar(\"campo\"))"
   ]
  },
  {
   "cell_type": "code",
   "execution_count": 10,
   "metadata": {},
   "outputs": [
    {
     "name": "stdout",
     "output_type": "stream",
     "text": [
      "Word2vec: [('albacora', 0.8158958554267883), ('jubarte', 0.7990683317184448), ('barracuda', 0.798821210861206), ('roncador', 0.7936682105064392), ('espadarte', 0.767745852470398), ('pampo', 0.7500282526016235), ('garoupa', 0.7267728447914124), ('caioba', 0.7150629758834839), ('moreia', 0.7149295210838318), ('mexilhao', 0.7108738422393799)]\n"
     ]
    }
   ],
   "source": [
    "print(\"Word2vec:\", model.most_similar(\"marlim\"))"
   ]
  },
  {
   "cell_type": "code",
   "execution_count": 11,
   "metadata": {},
   "outputs": [
    {
     "name": "stdout",
     "output_type": "stream",
     "text": [
      "Word2vec: [('porosidade', 0.6274514198303223), ('geradora', 0.5828069448471069), ('rochas', 0.5710539817810059), ('reservatorio', 0.5622854232788086), ('argila', 0.5452193021774292), ('compactacao', 0.5270180702209473), ('fratura', 0.52666175365448), ('molhabilidade', 0.5263123512268066), ('poroso', 0.5250949859619141), ('capeadora', 0.5240499377250671)]\n"
     ]
    }
   ],
   "source": [
    "print(\"Word2vec:\", model.most_similar(\"rocha\"))"
   ]
  },
  {
   "cell_type": "code",
   "execution_count": 12,
   "metadata": {},
   "outputs": [
    {
     "name": "stdout",
     "output_type": "stream",
     "text": [
      "Word2vec: [('permeabilidade', 0.8487664461135864), ('permoporosidade', 0.6492857336997986), ('permea', 0.6317601203918457), ('rocha', 0.6274514198303223), ('argilosidade', 0.6196430921554565), ('saturacao', 0.6189395785331726), ('poro', 0.6146798133850098), ('meabilidade', 0.6106972694396973), ('rosidade', 0.6051715016365051), ('transmissibilidade', 0.5948065519332886)]\n"
     ]
    }
   ],
   "source": [
    "print(\"Word2vec:\", model.most_similar(\"porosidade\"))"
   ]
  },
  {
   "cell_type": "code",
   "execution_count": 13,
   "metadata": {},
   "outputs": [
    {
     "name": "stdout",
     "output_type": "stream",
     "text": [
      "Word2vec: [('porosidade', 0.8487663269042969), ('saturacao', 0.6811525821685791), ('compressibilidade', 0.6422414183616638), ('permea', 0.6267086267471313), ('resistividade', 0.6265972852706909), ('meabilidade', 0.6259164810180664), ('transmissibilidade', 0.6132076382637024), ('solubilidade', 0.6122151613235474), ('argilosidade', 0.5911887884140015), ('permeabilidades', 0.5896713733673096)]\n"
     ]
    }
   ],
   "source": [
    "print(\"Word2vec:\", model.most_similar(\"permeabilidade\"))"
   ]
  },
  {
   "cell_type": "code",
   "execution_count": 14,
   "metadata": {},
   "outputs": [
    {
     "name": "stdout",
     "output_type": "stream",
     "text": [
      "Word2vec: [('ducao', 0.5411989688873291), ('extracao', 0.5363932847976685), ('produ', 0.5351544618606567), ('oferta', 0.5282876491546631), ('produzido', 0.5159044861793518), ('demanda', 0.5106837749481201), ('produzir', 0.5062461495399475), ('explotacao', 0.5010915994644165), ('refino', 0.48320093750953674), ('exportacao', 0.4814146161079407)]\n"
     ]
    }
   ],
   "source": [
    "print(\"Word2vec:\", model.most_similar(\"producao\"))"
   ]
  },
  {
   "cell_type": "code",
   "execution_count": 15,
   "metadata": {},
   "outputs": [
    {
     "name": "stdout",
     "output_type": "stream",
     "text": [
      "Word2vec: [('petroleo', 0.4971219599246979), ('gasoleo', 0.46599704027175903), ('vazar', 0.46503207087516785), ('oleos', 0.4596862196922302), ('liquido', 0.455948144197464), ('leve', 0.4358864426612854), ('contaminado', 0.4188486337661743), ('solvente', 0.40461286902427673), ('cante', 0.4003739356994629), ('efluente', 0.398453027009964)]\n"
     ]
    }
   ],
   "source": [
    "print(\"Word2vec:\", model.most_similar(\"oleo\"))"
   ]
  },
  {
   "cell_type": "code",
   "execution_count": 16,
   "metadata": {},
   "outputs": [
    {
     "name": "stdout",
     "output_type": "stream",
     "text": [
      "Word2vec: [('reservatorios', 0.7199811935424805), ('vatorio', 0.6744519472122192), ('servatorio', 0.6304373145103455), ('reser', 0.619905948638916), ('jazida', 0.6092945337295532), ('aquifero', 0.5757197737693787), ('rocha', 0.5622854232788086), ('rochareservatorio', 0.5541329383850098), ('porosidade', 0.5536088943481445), ('reserva', 0.5477004647254944)]\n"
     ]
    }
   ],
   "source": [
    "print(\"Word2vec:\", model.most_similar(\"reservatorio\"))"
   ]
  },
  {
   "cell_type": "code",
   "execution_count": 17,
   "metadata": {},
   "outputs": [
    {
     "name": "stdout",
     "output_type": "stream",
     "text": [
      "Word2vec: [('depocentro', 0.47149550914764404), ('afloramento', 0.45951586961746216), ('oeste', 0.458424836397171), ('arco', 0.4576803743839264), ('subsuperficie', 0.4559295177459717), ('dique', 0.4504181444644928), ('embasamento', 0.4492647647857666), ('adjacencias', 0.4488687515258789), ('adjacente', 0.44749295711517334), ('campos', 0.4449692368507385)]\n"
     ]
    }
   ],
   "source": [
    "print(\"Word2vec:\", model.most_similar(positive=[\"campo\", \"albacora\"], negative=[\"marlim\"]))"
   ]
  },
  {
   "cell_type": "markdown",
   "metadata": {},
   "source": [
    "## Recuperando um modelo gravado"
   ]
  },
  {
   "cell_type": "code",
   "execution_count": 18,
   "metadata": {
    "collapsed": true
   },
   "outputs": [],
   "source": [
    "arquivoModelo = os.path.join(\"modelos\", 'word2vec_50.model')\n",
    "model = gensim.models.Word2Vec.load(arquivoModelo)\n",
    "\n",
    "# outras formas de carregar, usando os binarios\n",
    "#model = Word2Vec.load_word2vec_format('/tmp/vectors.txt', binary=False)\n",
    "# using gzipped/bz2 input works too, no need to unzip:\n",
    "#model = Word2Vec.load_word2vec_format('/tmp/vectors.bin.gz', binary=True)"
   ]
  },
  {
   "cell_type": "code",
   "execution_count": 19,
   "metadata": {
    "collapsed": true
   },
   "outputs": [],
   "source": [
    "%matplotlib inline\n",
    "%config InlineBackend.figure_format = 'retina'\n",
    "\n",
    "\n",
    "import matplotlib.pyplot as plt\n",
    "from sklearn.manifold import TSNE\n",
    "import numpy as np"
   ]
  },
  {
   "cell_type": "code",
   "execution_count": 20,
   "metadata": {},
   "outputs": [
    {
     "name": "stdout",
     "output_type": "stream",
     "text": [
      "1000\n",
      "(1000, 50)\n"
     ]
    }
   ],
   "source": [
    "vocab_init = 0\n",
    "num_palavras = 1000\n",
    "\n",
    "vocabulario = model.wv.index2word\n",
    "vocabulario = vocabulario[:num_palavras]\n",
    "print(len(vocabulario))\n",
    "\n",
    "vetores = list()\n",
    "for id in range(vocab_init, num_palavras):\n",
    "    vetores.append(model.wv.word_vec(vocabulario[id]));\n",
    "\n",
    "matrix = np.vstack(vetores)    \n",
    "    \n",
    "print(matrix.shape)"
   ]
  },
  {
   "cell_type": "code",
   "execution_count": 21,
   "metadata": {},
   "outputs": [
    {
     "name": "stdout",
     "output_type": "stream",
     "text": [
      "Wall time: 42.4 s\n"
     ]
    }
   ],
   "source": [
    "%%time\n",
    "tsne = TSNE(n_components=2, random_state=0)\n",
    "embed_tsne = tsne.fit_transform(vetores)"
   ]
  },
  {
   "cell_type": "code",
   "execution_count": 22,
   "metadata": {},
   "outputs": [
    {
     "data": {
      "text/html": [
       "\n",
       "    <div class=\"bk-root\">\n",
       "        <a href=\"https://bokeh.pydata.org\" target=\"_blank\" class=\"bk-logo bk-logo-small bk-logo-notebook\"></a>\n",
       "        <span id=\"3ad00ce9-6f19-495e-ae50-57ed3a5eb5b9\">Loading BokehJS ...</span>\n",
       "    </div>"
      ]
     },
     "metadata": {},
     "output_type": "display_data"
    },
    {
     "data": {
      "application/javascript": [
       "\n",
       "(function(root) {\n",
       "  function now() {\n",
       "    return new Date();\n",
       "  }\n",
       "\n",
       "  var force = true;\n",
       "\n",
       "  if (typeof (root._bokeh_onload_callbacks) === \"undefined\" || force === true) {\n",
       "    root._bokeh_onload_callbacks = [];\n",
       "    root._bokeh_is_loading = undefined;\n",
       "  }\n",
       "\n",
       "  var JS_MIME_TYPE = 'application/javascript';\n",
       "  var HTML_MIME_TYPE = 'text/html';\n",
       "  var EXEC_MIME_TYPE = 'application/vnd.bokehjs_exec.v0+json';\n",
       "  var CLASS_NAME = 'output_bokeh rendered_html';\n",
       "\n",
       "  /**\n",
       "   * Render data to the DOM node\n",
       "   */\n",
       "  function render(props, node) {\n",
       "    var script = document.createElement(\"script\");\n",
       "    node.appendChild(script);\n",
       "  }\n",
       "\n",
       "  /**\n",
       "   * Handle when an output is cleared or removed\n",
       "   */\n",
       "  function handleClearOutput(event, handle) {\n",
       "    var cell = handle.cell;\n",
       "\n",
       "    var id = cell.output_area._bokeh_element_id;\n",
       "    var server_id = cell.output_area._bokeh_server_id;\n",
       "    // Clean up Bokeh references\n",
       "    if (id !== undefined) {\n",
       "      Bokeh.index[id].model.document.clear();\n",
       "      delete Bokeh.index[id];\n",
       "    }\n",
       "\n",
       "    if (server_id !== undefined) {\n",
       "      // Clean up Bokeh references\n",
       "      var cmd = \"from bokeh.io.state import curstate; print(curstate().uuid_to_server['\" + server_id + \"'].get_sessions()[0].document.roots[0]._id)\";\n",
       "      cell.notebook.kernel.execute(cmd, {\n",
       "        iopub: {\n",
       "          output: function(msg) {\n",
       "            var element_id = msg.content.text.trim();\n",
       "            Bokeh.index[element_id].model.document.clear();\n",
       "            delete Bokeh.index[element_id];\n",
       "          }\n",
       "        }\n",
       "      });\n",
       "      // Destroy server and session\n",
       "      var cmd = \"import bokeh.io.notebook as ion; ion.destroy_server('\" + server_id + \"')\";\n",
       "      cell.notebook.kernel.execute(cmd);\n",
       "    }\n",
       "  }\n",
       "\n",
       "  /**\n",
       "   * Handle when a new output is added\n",
       "   */\n",
       "  function handleAddOutput(event, handle) {\n",
       "    var output_area = handle.output_area;\n",
       "    var output = handle.output;\n",
       "\n",
       "    // limit handleAddOutput to display_data with EXEC_MIME_TYPE content only\n",
       "    if ((output.output_type != \"display_data\") || (!output.data.hasOwnProperty(EXEC_MIME_TYPE))) {\n",
       "      return\n",
       "    }\n",
       "\n",
       "    var toinsert = output_area.element.find(`.${CLASS_NAME.split(' ')[0]}`);\n",
       "\n",
       "    if (output.metadata[EXEC_MIME_TYPE][\"id\"] !== undefined) {\n",
       "      toinsert[0].firstChild.textContent = output.data[JS_MIME_TYPE];\n",
       "      // store reference to embed id on output_area\n",
       "      output_area._bokeh_element_id = output.metadata[EXEC_MIME_TYPE][\"id\"];\n",
       "    }\n",
       "    if (output.metadata[EXEC_MIME_TYPE][\"server_id\"] !== undefined) {\n",
       "      var bk_div = document.createElement(\"div\");\n",
       "      bk_div.innerHTML = output.data[HTML_MIME_TYPE];\n",
       "      var script_attrs = bk_div.children[0].attributes;\n",
       "      for (var i = 0; i < script_attrs.length; i++) {\n",
       "        toinsert[0].firstChild.setAttribute(script_attrs[i].name, script_attrs[i].value);\n",
       "      }\n",
       "      // store reference to server id on output_area\n",
       "      output_area._bokeh_server_id = output.metadata[EXEC_MIME_TYPE][\"server_id\"];\n",
       "    }\n",
       "  }\n",
       "\n",
       "  function register_renderer(events, OutputArea) {\n",
       "\n",
       "    function append_mime(data, metadata, element) {\n",
       "      // create a DOM node to render to\n",
       "      var toinsert = this.create_output_subarea(\n",
       "        metadata,\n",
       "        CLASS_NAME,\n",
       "        EXEC_MIME_TYPE\n",
       "      );\n",
       "      this.keyboard_manager.register_events(toinsert);\n",
       "      // Render to node\n",
       "      var props = {data: data, metadata: metadata[EXEC_MIME_TYPE]};\n",
       "      render(props, toinsert[0]);\n",
       "      element.append(toinsert);\n",
       "      return toinsert\n",
       "    }\n",
       "\n",
       "    /* Handle when an output is cleared or removed */\n",
       "    events.on('clear_output.CodeCell', handleClearOutput);\n",
       "    events.on('delete.Cell', handleClearOutput);\n",
       "\n",
       "    /* Handle when a new output is added */\n",
       "    events.on('output_added.OutputArea', handleAddOutput);\n",
       "\n",
       "    /**\n",
       "     * Register the mime type and append_mime function with output_area\n",
       "     */\n",
       "    OutputArea.prototype.register_mime_type(EXEC_MIME_TYPE, append_mime, {\n",
       "      /* Is output safe? */\n",
       "      safe: true,\n",
       "      /* Index of renderer in `output_area.display_order` */\n",
       "      index: 0\n",
       "    });\n",
       "  }\n",
       "\n",
       "  // register the mime type if in Jupyter Notebook environment and previously unregistered\n",
       "  if (root.Jupyter !== undefined) {\n",
       "    var events = require('base/js/events');\n",
       "    var OutputArea = require('notebook/js/outputarea').OutputArea;\n",
       "\n",
       "    if (OutputArea.prototype.mime_types().indexOf(EXEC_MIME_TYPE) == -1) {\n",
       "      register_renderer(events, OutputArea);\n",
       "    }\n",
       "  }\n",
       "\n",
       "  \n",
       "  if (typeof (root._bokeh_timeout) === \"undefined\" || force === true) {\n",
       "    root._bokeh_timeout = Date.now() + 5000;\n",
       "    root._bokeh_failed_load = false;\n",
       "  }\n",
       "\n",
       "  var NB_LOAD_WARNING = {'data': {'text/html':\n",
       "     \"<div style='background-color: #fdd'>\\n\"+\n",
       "     \"<p>\\n\"+\n",
       "     \"BokehJS does not appear to have successfully loaded. If loading BokehJS from CDN, this \\n\"+\n",
       "     \"may be due to a slow or bad network connection. Possible fixes:\\n\"+\n",
       "     \"</p>\\n\"+\n",
       "     \"<ul>\\n\"+\n",
       "     \"<li>re-rerun `output_notebook()` to attempt to load from CDN again, or</li>\\n\"+\n",
       "     \"<li>use INLINE resources instead, as so:</li>\\n\"+\n",
       "     \"</ul>\\n\"+\n",
       "     \"<code>\\n\"+\n",
       "     \"from bokeh.resources import INLINE\\n\"+\n",
       "     \"output_notebook(resources=INLINE)\\n\"+\n",
       "     \"</code>\\n\"+\n",
       "     \"</div>\"}};\n",
       "\n",
       "  function display_loaded() {\n",
       "    var el = document.getElementById(\"3ad00ce9-6f19-495e-ae50-57ed3a5eb5b9\");\n",
       "    if (el != null) {\n",
       "      el.textContent = \"BokehJS is loading...\";\n",
       "    }\n",
       "    if (root.Bokeh !== undefined) {\n",
       "      if (el != null) {\n",
       "        el.textContent = \"BokehJS \" + root.Bokeh.version + \" successfully loaded.\";\n",
       "      }\n",
       "    } else if (Date.now() < root._bokeh_timeout) {\n",
       "      setTimeout(display_loaded, 100)\n",
       "    }\n",
       "  }\n",
       "\n",
       "\n",
       "  function run_callbacks() {\n",
       "    try {\n",
       "      root._bokeh_onload_callbacks.forEach(function(callback) { callback() });\n",
       "    }\n",
       "    finally {\n",
       "      delete root._bokeh_onload_callbacks\n",
       "    }\n",
       "    console.info(\"Bokeh: all callbacks have finished\");\n",
       "  }\n",
       "\n",
       "  function load_libs(js_urls, callback) {\n",
       "    root._bokeh_onload_callbacks.push(callback);\n",
       "    if (root._bokeh_is_loading > 0) {\n",
       "      console.log(\"Bokeh: BokehJS is being loaded, scheduling callback at\", now());\n",
       "      return null;\n",
       "    }\n",
       "    if (js_urls == null || js_urls.length === 0) {\n",
       "      run_callbacks();\n",
       "      return null;\n",
       "    }\n",
       "    console.log(\"Bokeh: BokehJS not loaded, scheduling load and callback at\", now());\n",
       "    root._bokeh_is_loading = js_urls.length;\n",
       "    for (var i = 0; i < js_urls.length; i++) {\n",
       "      var url = js_urls[i];\n",
       "      var s = document.createElement('script');\n",
       "      s.src = url;\n",
       "      s.async = false;\n",
       "      s.onreadystatechange = s.onload = function() {\n",
       "        root._bokeh_is_loading--;\n",
       "        if (root._bokeh_is_loading === 0) {\n",
       "          console.log(\"Bokeh: all BokehJS libraries loaded\");\n",
       "          run_callbacks()\n",
       "        }\n",
       "      };\n",
       "      s.onerror = function() {\n",
       "        console.warn(\"failed to load library \" + url);\n",
       "      };\n",
       "      console.log(\"Bokeh: injecting script tag for BokehJS library: \", url);\n",
       "      document.getElementsByTagName(\"head\")[0].appendChild(s);\n",
       "    }\n",
       "  };var element = document.getElementById(\"3ad00ce9-6f19-495e-ae50-57ed3a5eb5b9\");\n",
       "  if (element == null) {\n",
       "    console.log(\"Bokeh: ERROR: autoload.js configured with elementid '3ad00ce9-6f19-495e-ae50-57ed3a5eb5b9' but no matching script tag was found. \")\n",
       "    return false;\n",
       "  }\n",
       "\n",
       "  var js_urls = [\"https://cdn.pydata.org/bokeh/release/bokeh-0.12.10.min.js\", \"https://cdn.pydata.org/bokeh/release/bokeh-widgets-0.12.10.min.js\", \"https://cdn.pydata.org/bokeh/release/bokeh-tables-0.12.10.min.js\", \"https://cdn.pydata.org/bokeh/release/bokeh-gl-0.12.10.min.js\"];\n",
       "\n",
       "  var inline_js = [\n",
       "    function(Bokeh) {\n",
       "      Bokeh.set_log_level(\"info\");\n",
       "    },\n",
       "    \n",
       "    function(Bokeh) {\n",
       "      \n",
       "    },\n",
       "    function(Bokeh) {\n",
       "      console.log(\"Bokeh: injecting CSS: https://cdn.pydata.org/bokeh/release/bokeh-0.12.10.min.css\");\n",
       "      Bokeh.embed.inject_css(\"https://cdn.pydata.org/bokeh/release/bokeh-0.12.10.min.css\");\n",
       "      console.log(\"Bokeh: injecting CSS: https://cdn.pydata.org/bokeh/release/bokeh-widgets-0.12.10.min.css\");\n",
       "      Bokeh.embed.inject_css(\"https://cdn.pydata.org/bokeh/release/bokeh-widgets-0.12.10.min.css\");\n",
       "      console.log(\"Bokeh: injecting CSS: https://cdn.pydata.org/bokeh/release/bokeh-tables-0.12.10.min.css\");\n",
       "      Bokeh.embed.inject_css(\"https://cdn.pydata.org/bokeh/release/bokeh-tables-0.12.10.min.css\");\n",
       "    }\n",
       "  ];\n",
       "\n",
       "  function run_inline_js() {\n",
       "    \n",
       "    if ((root.Bokeh !== undefined) || (force === true)) {\n",
       "      for (var i = 0; i < inline_js.length; i++) {\n",
       "        inline_js[i].call(root, root.Bokeh);\n",
       "      }if (force === true) {\n",
       "        display_loaded();\n",
       "      }} else if (Date.now() < root._bokeh_timeout) {\n",
       "      setTimeout(run_inline_js, 100);\n",
       "    } else if (!root._bokeh_failed_load) {\n",
       "      console.log(\"Bokeh: BokehJS failed to load within specified timeout.\");\n",
       "      root._bokeh_failed_load = true;\n",
       "    } else if (force !== true) {\n",
       "      var cell = $(document.getElementById(\"3ad00ce9-6f19-495e-ae50-57ed3a5eb5b9\")).parents('.cell').data().cell;\n",
       "      cell.output_area.append_execute_result(NB_LOAD_WARNING)\n",
       "    }\n",
       "\n",
       "  }\n",
       "\n",
       "  if (root._bokeh_is_loading === 0) {\n",
       "    console.log(\"Bokeh: BokehJS loaded, going straight to plotting\");\n",
       "    run_inline_js();\n",
       "  } else {\n",
       "    load_libs(js_urls, function() {\n",
       "      console.log(\"Bokeh: BokehJS plotting callback run at\", now());\n",
       "      run_inline_js();\n",
       "    });\n",
       "  }\n",
       "}(window));"
      ],
      "application/vnd.bokehjs_load.v0+json": "\n(function(root) {\n  function now() {\n    return new Date();\n  }\n\n  var force = true;\n\n  if (typeof (root._bokeh_onload_callbacks) === \"undefined\" || force === true) {\n    root._bokeh_onload_callbacks = [];\n    root._bokeh_is_loading = undefined;\n  }\n\n  \n\n  \n  if (typeof (root._bokeh_timeout) === \"undefined\" || force === true) {\n    root._bokeh_timeout = Date.now() + 5000;\n    root._bokeh_failed_load = false;\n  }\n\n  var NB_LOAD_WARNING = {'data': {'text/html':\n     \"<div style='background-color: #fdd'>\\n\"+\n     \"<p>\\n\"+\n     \"BokehJS does not appear to have successfully loaded. If loading BokehJS from CDN, this \\n\"+\n     \"may be due to a slow or bad network connection. Possible fixes:\\n\"+\n     \"</p>\\n\"+\n     \"<ul>\\n\"+\n     \"<li>re-rerun `output_notebook()` to attempt to load from CDN again, or</li>\\n\"+\n     \"<li>use INLINE resources instead, as so:</li>\\n\"+\n     \"</ul>\\n\"+\n     \"<code>\\n\"+\n     \"from bokeh.resources import INLINE\\n\"+\n     \"output_notebook(resources=INLINE)\\n\"+\n     \"</code>\\n\"+\n     \"</div>\"}};\n\n  function display_loaded() {\n    var el = document.getElementById(\"3ad00ce9-6f19-495e-ae50-57ed3a5eb5b9\");\n    if (el != null) {\n      el.textContent = \"BokehJS is loading...\";\n    }\n    if (root.Bokeh !== undefined) {\n      if (el != null) {\n        el.textContent = \"BokehJS \" + root.Bokeh.version + \" successfully loaded.\";\n      }\n    } else if (Date.now() < root._bokeh_timeout) {\n      setTimeout(display_loaded, 100)\n    }\n  }\n\n\n  function run_callbacks() {\n    try {\n      root._bokeh_onload_callbacks.forEach(function(callback) { callback() });\n    }\n    finally {\n      delete root._bokeh_onload_callbacks\n    }\n    console.info(\"Bokeh: all callbacks have finished\");\n  }\n\n  function load_libs(js_urls, callback) {\n    root._bokeh_onload_callbacks.push(callback);\n    if (root._bokeh_is_loading > 0) {\n      console.log(\"Bokeh: BokehJS is being loaded, scheduling callback at\", now());\n      return null;\n    }\n    if (js_urls == null || js_urls.length === 0) {\n      run_callbacks();\n      return null;\n    }\n    console.log(\"Bokeh: BokehJS not loaded, scheduling load and callback at\", now());\n    root._bokeh_is_loading = js_urls.length;\n    for (var i = 0; i < js_urls.length; i++) {\n      var url = js_urls[i];\n      var s = document.createElement('script');\n      s.src = url;\n      s.async = false;\n      s.onreadystatechange = s.onload = function() {\n        root._bokeh_is_loading--;\n        if (root._bokeh_is_loading === 0) {\n          console.log(\"Bokeh: all BokehJS libraries loaded\");\n          run_callbacks()\n        }\n      };\n      s.onerror = function() {\n        console.warn(\"failed to load library \" + url);\n      };\n      console.log(\"Bokeh: injecting script tag for BokehJS library: \", url);\n      document.getElementsByTagName(\"head\")[0].appendChild(s);\n    }\n  };var element = document.getElementById(\"3ad00ce9-6f19-495e-ae50-57ed3a5eb5b9\");\n  if (element == null) {\n    console.log(\"Bokeh: ERROR: autoload.js configured with elementid '3ad00ce9-6f19-495e-ae50-57ed3a5eb5b9' but no matching script tag was found. \")\n    return false;\n  }\n\n  var js_urls = [\"https://cdn.pydata.org/bokeh/release/bokeh-0.12.10.min.js\", \"https://cdn.pydata.org/bokeh/release/bokeh-widgets-0.12.10.min.js\", \"https://cdn.pydata.org/bokeh/release/bokeh-tables-0.12.10.min.js\", \"https://cdn.pydata.org/bokeh/release/bokeh-gl-0.12.10.min.js\"];\n\n  var inline_js = [\n    function(Bokeh) {\n      Bokeh.set_log_level(\"info\");\n    },\n    \n    function(Bokeh) {\n      \n    },\n    function(Bokeh) {\n      console.log(\"Bokeh: injecting CSS: https://cdn.pydata.org/bokeh/release/bokeh-0.12.10.min.css\");\n      Bokeh.embed.inject_css(\"https://cdn.pydata.org/bokeh/release/bokeh-0.12.10.min.css\");\n      console.log(\"Bokeh: injecting CSS: https://cdn.pydata.org/bokeh/release/bokeh-widgets-0.12.10.min.css\");\n      Bokeh.embed.inject_css(\"https://cdn.pydata.org/bokeh/release/bokeh-widgets-0.12.10.min.css\");\n      console.log(\"Bokeh: injecting CSS: https://cdn.pydata.org/bokeh/release/bokeh-tables-0.12.10.min.css\");\n      Bokeh.embed.inject_css(\"https://cdn.pydata.org/bokeh/release/bokeh-tables-0.12.10.min.css\");\n    }\n  ];\n\n  function run_inline_js() {\n    \n    if ((root.Bokeh !== undefined) || (force === true)) {\n      for (var i = 0; i < inline_js.length; i++) {\n        inline_js[i].call(root, root.Bokeh);\n      }if (force === true) {\n        display_loaded();\n      }} else if (Date.now() < root._bokeh_timeout) {\n      setTimeout(run_inline_js, 100);\n    } else if (!root._bokeh_failed_load) {\n      console.log(\"Bokeh: BokehJS failed to load within specified timeout.\");\n      root._bokeh_failed_load = true;\n    } else if (force !== true) {\n      var cell = $(document.getElementById(\"3ad00ce9-6f19-495e-ae50-57ed3a5eb5b9\")).parents('.cell').data().cell;\n      cell.output_area.append_execute_result(NB_LOAD_WARNING)\n    }\n\n  }\n\n  if (root._bokeh_is_loading === 0) {\n    console.log(\"Bokeh: BokehJS loaded, going straight to plotting\");\n    run_inline_js();\n  } else {\n    load_libs(js_urls, function() {\n      console.log(\"Bokeh: BokehJS plotting callback run at\", now());\n      run_inline_js();\n    });\n  }\n}(window));"
     },
     "metadata": {},
     "output_type": "display_data"
    }
   ],
   "source": [
    "from bokeh.models import ColumnDataSource, LabelSet\n",
    "from bokeh.plotting import figure, show, output_file\n",
    "from bokeh.io import output_notebook\n",
    "import bokeh\n",
    "output_notebook()\n"
   ]
  },
  {
   "cell_type": "code",
   "execution_count": 23,
   "metadata": {},
   "outputs": [
    {
     "data": {
      "text/html": [
       "\n",
       "<div class=\"bk-root\">\n",
       "    <div class=\"bk-plotdiv\" id=\"e368194d-d7f9-42d6-92fb-3f1c04610b17\"></div>\n",
       "</div>"
      ]
     },
     "metadata": {},
     "output_type": "display_data"
    },
    {
     "data": {
      "application/javascript": [
       "(function(root) {\n",
       "  function embed_document(root) {\n",
       "    var docs_json = {\"849327a8-e9f5-4d36-a383-5fd49701b969\":{\"roots\":{\"references\":[{\"attributes\":{},\"id\":\"2d0454ff-097b-458b-a585-b71efd3828af\",\"type\":\"BasicTickFormatter\"},{\"attributes\":{},\"id\":\"8ae82fa4-a32f-4ced-b8f5-2f389aa08f61\",\"type\":\"LinearScale\"},{\"attributes\":{\"fill_color\":{\"value\":\"#1f77b4\"},\"line_color\":{\"value\":\"#1f77b4\"},\"size\":{\"units\":\"screen\",\"value\":8},\"x\":{\"field\":\"x1\"},\"y\":{\"field\":\"x2\"}},\"id\":\"362bff7f-d6c4-4ae5-9753-d6607d88d011\",\"type\":\"Circle\"},{\"attributes\":{\"formatter\":{\"id\":\"2d0454ff-097b-458b-a585-b71efd3828af\",\"type\":\"BasicTickFormatter\"},\"plot\":{\"id\":\"60a5bdf8-96fc-4c82-a40c-67010c5ac8b6\",\"subtype\":\"Figure\",\"type\":\"Plot\"},\"ticker\":{\"id\":\"53087c27-ae51-4ad5-9eef-bed6c50878a2\",\"type\":\"BasicTicker\"}},\"id\":\"9468ccc1-7610-45fa-b65a-755ac977ae22\",\"type\":\"LinearAxis\"},{\"attributes\":{},\"id\":\"53087c27-ae51-4ad5-9eef-bed6c50878a2\",\"type\":\"BasicTicker\"},{\"attributes\":{\"plot\":{\"id\":\"60a5bdf8-96fc-4c82-a40c-67010c5ac8b6\",\"subtype\":\"Figure\",\"type\":\"Plot\"},\"ticker\":{\"id\":\"53087c27-ae51-4ad5-9eef-bed6c50878a2\",\"type\":\"BasicTicker\"}},\"id\":\"89e43c9f-b8b2-4bd4-808f-39b403f6d6d9\",\"type\":\"Grid\"},{\"attributes\":{},\"id\":\"76676cb4-de9c-4fbb-83a2-ab6e8ab96b9a\",\"type\":\"BasicTickFormatter\"},{\"attributes\":{\"formatter\":{\"id\":\"76676cb4-de9c-4fbb-83a2-ab6e8ab96b9a\",\"type\":\"BasicTickFormatter\"},\"plot\":{\"id\":\"60a5bdf8-96fc-4c82-a40c-67010c5ac8b6\",\"subtype\":\"Figure\",\"type\":\"Plot\"},\"ticker\":{\"id\":\"bb5bc903-d48a-4dfa-832f-6202189530a7\",\"type\":\"BasicTicker\"}},\"id\":\"592eebf2-8407-4e49-81db-1190a4a62689\",\"type\":\"LinearAxis\"},{\"attributes\":{\"plot\":{\"id\":\"60a5bdf8-96fc-4c82-a40c-67010c5ac8b6\",\"subtype\":\"Figure\",\"type\":\"Plot\"},\"source\":{\"id\":\"d76e7e0c-f31f-469f-b3dd-9e132690b54e\",\"type\":\"ColumnDataSource\"},\"text\":{\"field\":\"names\"},\"text_align\":\"center\",\"text_color\":{\"value\":\"#555555\"},\"text_font_size\":{\"value\":\"8pt\"},\"x\":{\"field\":\"x1\"},\"y\":{\"field\":\"x2\"},\"y_offset\":{\"value\":6}},\"id\":\"e92ba94d-a75d-45f7-a0ca-af075307e486\",\"type\":\"LabelSet\"},{\"attributes\":{},\"id\":\"bb5bc903-d48a-4dfa-832f-6202189530a7\",\"type\":\"BasicTicker\"},{\"attributes\":{\"dimension\":1,\"plot\":{\"id\":\"60a5bdf8-96fc-4c82-a40c-67010c5ac8b6\",\"subtype\":\"Figure\",\"type\":\"Plot\"},\"ticker\":{\"id\":\"bb5bc903-d48a-4dfa-832f-6202189530a7\",\"type\":\"BasicTicker\"}},\"id\":\"a319b16a-fe5f-4a27-b61d-0d83b61474b4\",\"type\":\"Grid\"},{\"attributes\":{},\"id\":\"dfa59e21-dbcf-4f58-befd-a61e8c350ca3\",\"type\":\"PanTool\"},{\"attributes\":{\"below\":[{\"id\":\"9468ccc1-7610-45fa-b65a-755ac977ae22\",\"type\":\"LinearAxis\"}],\"left\":[{\"id\":\"592eebf2-8407-4e49-81db-1190a4a62689\",\"type\":\"LinearAxis\"}],\"plot_height\":900,\"plot_width\":900,\"renderers\":[{\"id\":\"9468ccc1-7610-45fa-b65a-755ac977ae22\",\"type\":\"LinearAxis\"},{\"id\":\"89e43c9f-b8b2-4bd4-808f-39b403f6d6d9\",\"type\":\"Grid\"},{\"id\":\"592eebf2-8407-4e49-81db-1190a4a62689\",\"type\":\"LinearAxis\"},{\"id\":\"a319b16a-fe5f-4a27-b61d-0d83b61474b4\",\"type\":\"Grid\"},{\"id\":\"3480b8be-4ff8-42d1-a290-926ab55beddf\",\"type\":\"GlyphRenderer\"},{\"id\":\"e92ba94d-a75d-45f7-a0ca-af075307e486\",\"type\":\"LabelSet\"}],\"title\":{\"id\":\"a1b61870-9fe8-4cb9-a83e-ef25da429f73\",\"type\":\"Title\"},\"toolbar\":{\"id\":\"943e9677-d604-4ea5-9a46-d655c204fb9e\",\"type\":\"Toolbar\"},\"toolbar_location\":\"above\",\"x_range\":{\"id\":\"b983d254-094c-4258-b115-812fe3aedb32\",\"type\":\"DataRange1d\"},\"x_scale\":{\"id\":\"f3985f8c-4c44-4a14-8285-07a262b9407f\",\"type\":\"LinearScale\"},\"y_range\":{\"id\":\"cb9861bf-6cdd-40af-b0f8-70b8274a2850\",\"type\":\"DataRange1d\"},\"y_scale\":{\"id\":\"8ae82fa4-a32f-4ced-b8f5-2f389aa08f61\",\"type\":\"LinearScale\"}},\"id\":\"60a5bdf8-96fc-4c82-a40c-67010c5ac8b6\",\"subtype\":\"Figure\",\"type\":\"Plot\"},{\"attributes\":{\"callback\":null,\"column_names\":[\"x1\",\"x2\",\"names\"],\"data\":{\"names\":[\"cid\",\"sao\",\"nao\",\"gas\",\"petroleo\",\"ser\",\"rio\",\"petrobras\",\"figura\",\"producao\",\"oleo\",\"janeiro\",\"natural\",\"agua\",\"dados\",\"formacao\",\"sistema\",\"bacia\",\"pode\",\"anp\",\"tambem\",\"brasil\",\"processo\",\"maior\",\"tabela\",\"modelo\",\"tempo\",\"forma\",\"resultados\",\"area\",\"total\",\"cada\",\"analise\",\"grande\",\"pressao\",\"ate\",\"temperatura\",\"regiao\",\"onde\",\"caso\",\"partir\",\"valores\",\"trabalho\",\"sendo\",\"fig\",\"relacao\",\"ja\",\"valor\",\"fonte\",\"assim\",\"tipo\",\"parte\",\"volume\",\"meio\",\"base\",\"atraves\",\"energia\",\"desenvolvimento\",\"condicoes\",\"outros\",\"segundo\",\"podem\",\"fase\",\"estudo\",\"mar\",\"alem\",\"nacional\",\"numero\",\"diesel\",\"co\",\"etanol\",\"sul\",\"pocos\",\"amostras\",\"ainda\",\"campo\",\"metodo\",\"capacidade\",\"campos\",\"apos\",\"distribuicao\",\"precos\",\"transporte\",\"projeto\",\"dois\",\"bem\",\"funcao\",\"aumento\",\"equacao\",\"mercado\",\"ponto\",\"unidade\",\"neste\",\"industria\",\"diferentes\",\"gasolina\",\"combustiveis\",\"operacao\",\"secao\",\"produtos\",\"biodiesel\",\"devido\",\"uso\",\"terra\",\"norte\",\"estao\",\"\\u00b0c\",\"apenas\",\"engenharia\",\"programa\",\"tres\",\"duas\",\"concentracao\",\"controle\",\"deste\",\"conforme\",\"universidade\",\"possivel\",\"apresenta\",\"areas\",\"processos\",\"longo\",\"paulo\",\"unidades\",\"ano\",\"sistemas\",\"anos\",\"quanto\",\"vez\",\"combustivel\",\"media\",\"principais\",\"fluido\",\"boletim\",\"parametros\",\"cao\",\"obtidos\",\"exploracao\",\"oil\",\"massa\",\"pesquisa\",\"velocidade\",\"solucao\",\"superior\",\"vazao\",\"nivel\",\"material\",\"menor\",\"acordo\",\"qualidade\",\"medio\",\"periodo\",\"sp\",\"superficie\",\"deve\",\"resolucao\",\"desta\",\"carga\",\"consumo\",\"setor\",\"estrutura\",\"exemplo\",\"federal\",\"derivados\",\"mistura\",\"final\",\"amostra\",\"geral\",\"comportamento\",\"estudos\",\"alta\",\"presenca\",\"quantidade\",\"avaliacao\",\"outras\",\"caracteristicas\",\"atividades\",\"fluxo\",\"atividade\",\"ambiente\",\"regioes\",\"sera\",\"modelos\",\"bacias\",\"reducao\",\"tecnica\",\"pois\",\"perfuracao\",\"dia\",\"zona\",\"produto\",\"quimica\",\"calculo\",\"objetivo\",\"facies\",\"ltda\",\"nt\",\"custo\",\"cm\",\"taxa\",\"alguns\",\"inferior\",\"mm\",\"tecnico\",\"utilizacao\",\"utilizado\",\"brasileiro\",\"metodos\",\"pais\",\"nc\",\"fluidos\",\"ar\",\"efeito\",\"aplicacao\",\"geologia\",\"modo\",\"evolucao\",\"outro\",\"pontos\",\"mesma\",\"propriedades\",\"quais\",\"sob\",\"preco\",\"tais\",\"grupo\",\"tal\",\"grandes\",\"informacoes\",\"centro\",\"rochas\",\"\\u00b7\",\"figure\",\"entao\",\"reservatorio\",\"variacao\",\"ter\",\"tratamento\",\"santos\",\"km\",\"reacao\",\"recursos\",\"grafico\",\"escoamento\",\"presente\",\"milhoes\",\"biocombustiveis\",\"teor\",\"tecnologia\",\"plataforma\",\"utilizados\",\"tensao\",\"acido\",\"fator\",\"importante\",\"ocorre\",\"materiais\",\"fato\",\"liquido\",\"linha\",\"mostra\",\"brasileira\",\"\\uf0b7\",\"hidrocarbonetos\",\"conjunto\",\"menos\",\"jan\",\"razao\",\"sedimentos\",\"coluna\",\"lei\",\"fim\",\"empresas\",\"primeiro\",\"simulacao\",\"recuperacao\",\"inicial\",\"mg\",\"empresa\",\"principal\",\"todas\",\"pro\",\"disponivel\",\"viscosidade\",\"elementos\",\"kg\",\"maiores\",\"sequencia\",\"sido\",\"acima\",\"primeira\",\"dentro\",\"ca\",\"topo\",\"faixa\",\"alto\",\"determinacao\",\"industrial\",\"principalmente\",\"melhor\",\"porem\",\"pesquisas\",\"nova\",\"composicao\",\"\\u2212\",\"cerca\",\"dessa\",\"densidade\",\"injecao\",\"espessura\",\"projetos\",\"direcao\",\"portanto\",\"ordem\",\"reservatorios\",\"variaveis\",\"entrada\",\"new\",\"br\",\"testes\",\"problema\",\"teste\",\"bahia\",\"oleos\",\"rodada\",\"geracao\",\"arenitos\",\"influencia\",\"potencial\",\"basin\",\"capitulo\",\"diametro\",\"www\",\"trabalhos\",\"casos\",\"falhas\",\"paises\",\"peso\",\"oc\",\"seguintes\",\"fatores\",\"carbono\",\"padrao\",\"ocorrencia\",\"inicio\",\"referencia\",\"pe\",\"custos\",\"baixa\",\"petroleum\",\"curva\",\"iv\",\"diversos\",\"enquanto\",\"refinaria\",\"data\",\"continental\",\"equipamentos\",\"fundo\",\"etapa\",\"perfil\",\"escala\",\"parana\",\"demanda\",\"aguas\",\"tipos\",\"corrente\",\"vapor\",\"serem\",\"resultado\",\"calor\",\"catalisador\",\"respectivamente\",\"algumas\",\"apresentam\",\"processamento\",\"equacoes\",\"necessario\",\"cenpes\",\"crescimento\",\"comparacao\",\"corrosao\",\"disso\",\"entretanto\",\"componentes\",\"problemas\",\"particulas\",\"qualquer\",\"separacao\",\"profundidade\",\"n\\u00b0\",\"limite\",\"podese\",\"eficiencia\",\"acesso\",\"constante\",\"tecnicas\",\"mento\",\"jose\",\"compostos\",\"utilizando\",\"http\",\"analises\",\"intervalo\",\"water\",\"r$\",\"possui\",\"medida\",\"utilizada\",\"lado\",\"curvas\",\"mente\",\"santo\",\"perda\",\"nesta\",\"desse\",\"ensaios\",\"devem\",\"dezembro\",\"grau\",\"well\",\"participacao\",\"vista\",\"min\",\"nesse\",\"central\",\"local\",\"maxima\",\"ai\",\"baixo\",\"demais\",\"termos\",\"resistencia\",\"fracao\",\"destilacao\",\"deformacao\",\"obtencao\",\"estruturas\",\"indice\",\"fases\",\"\\u00b1\",\"camadas\",\"laboratorio\",\"temperaturas\",\"production\",\"glp\",\"serao\",\"us$\",\"ml\",\"construcao\",\"somente\",\"silva\",\"ph\",\"alcool\",\"metodologia\",\"novas\",\"bastante\",\"sempre\",\"rj\",\"mapa\",\"costa\",\"li\",\"manutencao\",\"vezes\",\"fontes\",\"apresentados\",\"reservas\",\"mil\",\"comprimento\",\"origem\",\"representa\",\"falha\",\"blocos\",\"desempenho\",\"seguir\",\"gases\",\"rocha\",\"metros\",\"introducao\",\"abaixo\",\"quatro\",\"maximo\",\"flow\",\"journal\",\"ensaio\",\"efeitos\",\"cor\",\"autores\",\"modelagem\",\"espirito\",\"embora\",\"novo\",\"toda\",\"desses\",\"pouco\",\"agentes\",\"serie\",\"contato\",\"aproximadamente\",\"nordeste\",\"sergipe\",\"jul\",\"departamento\",\"diferenca\",\"coeficiente\",\"matriz\",\"novos\",\"diversas\",\"po\",\"vertical\",\"relatorio\",\"saida\",\"outra\",\"energy\",\"niveis\",\"tendo\",\"malha\",\"realizada\",\"importancia\",\"inclui\",\"idade\",\"maio\",\"mestrado\",\"igual\",\"frequencia\",\"linhas\",\"permite\",\"posicao\",\"necessidade\",\"experimental\",\"maneira\",\"mo\",\"entanto\",\"agencia\",\"feita\",\"varios\",\"aspecto\",\"distribuidora\",\"dias\",\"obtido\",\"transferencia\",\"alagoas\",\"catalisadores\",\"ver\",\"destes\",\"margem\",\"atualmente\",\"obter\",\"aqui\",\"ambiental\",\"realizados\",\"estrutural\",\"resposta\",\"medidas\",\"apesar\",\"abr\",\"vendas\",\"experimentais\",\"seguinte\",\"fi\",\"correlacao\",\"forca\",\"dou\",\"real\",\"servicos\",\"segunda\",\"apresentado\",\"depositos\",\"termica\",\"etc\",\"tamanho\",\"curso\",\"deposicao\",\"caracterizacao\",\"permeabilidade\",\"tubo\",\"rede\",\"aco\",\"si\",\"comercializacao\",\"figuras\",\"aspectos\",\"linear\",\"porosidade\",\"dado\",\"porcao\",\"produtores\",\"atual\",\"plano\",\"barris\",\"\\u0003\",\"seguranca\",\"enxofre\",\"presentes\",\"procedimento\",\"pa\",\"vida\",\"vem\",\"observado\",\"des\",\"obtida\",\"remocao\",\"dez\",\"folhelhos\",\"utilizadas\",\"informacao\",\"combustao\",\"operacoes\",\"equipamento\",\"global\",\"perfis\",\"divisao\",\"carvao\",\"localizacao\",\"considerando\",\"comercial\",\"liquidos\",\"definicao\",\"autor\",\"camada\",\"internacional\",\"contratos\",\"sedimentares\",\"ba\",\"realizadas\",\"concentracoes\",\"dissertacao\",\"servico\",\"oes\",\"monitoramento\",\"especial\",\"obtidas\",\"anterior\",\"dutos\",\"sudeste\",\"ciclo\",\"zonas\",\"interesse\",\"analysis\",\"engineering\",\"reconcavo\",\"boa\",\"distribuidoras\",\"tecnicos\",\"acao\",\"condicao\",\"variavel\",\"interpretacao\",\"realizacao\",\"etapas\",\"regional\",\"classificacao\",\"realizado\",\"planejamento\",\"conhecimento\",\"leste\",\"adsorcao\",\"solucoes\",\"mundial\",\"tubos\",\"importacao\",\"lubrificantes\",\"acidos\",\"regime\",\"prazo\",\"economica\",\"corpo\",\"investimentos\",\"simples\",\"especifica\",\"brazil\",\"instalacao\",\"queda\",\"variacoes\",\"propria\",\"formation\",\"minimo\",\"especies\",\"reator\",\"folhelho\",\"gerais\",\"arenito\",\"extracao\",\"instituto\",\"conversao\",\"eletrica\",\"reacoes\",\"corpos\",\"motor\",\"sedimentacao\",\"distancia\",\"contendo\",\"instalacoes\",\"dentre\",\"parametro\",\"ocorrem\",\"interna\",\"literatura\",\"risco\",\"produzido\",\"interno\",\"diretamente\",\"deslocamento\",\"apresentou\",\"momento\",\"adicao\",\"duto\",\"livre\",\"geology\",\"materia\",\"horizontal\",\"observar\",\"bomba\",\"membro\",\"computacional\",\"ppm\",\"solo\",\"quase\",\"geociencias\",\"menores\",\"horas\",\"varias\",\"santa\",\"natureza\",\"situacao\",\"oliveira\",\"marco\",\"system\",\"mecanica\",\"espaco\",\"sedimentar\",\"visto\",\"pr\",\"sismica\",\"tos\",\"equilibrio\",\"objetivos\",\"possuem\",\"importantes\",\"refino\",\"ufrj\",\"hidrogenio\",\"usado\",\"potencia\",\"cabo\",\"grupos\",\"correntes\",\"portaria\",\"secoes\",\"operacional\",\"seguida\",\"consiste\",\"ajuste\",\"offshore\",\"research\",\"geometria\",\"integracao\",\"bilhoes\",\"cadeia\",\"esquema\",\"york\",\"nota\",\"percentual\",\"quadro\",\"amazonas\",\"formacoes\",\"souza\",\"mes\",\"elaboracao\",\"tendencia\",\"torno\",\"termo\",\"dada\",\"refinarias\",\"abstract\",\"carlos\",\"item\",\"artigo\",\"cos\",\"via\",\"expansao\",\"model\",\"original\",\"corresponde\",\"maioria\",\"erro\",\"relativa\",\"registro\",\"limites\",\"onda\",\"imagem\",\"volumes\",\"oxidacao\",\"componente\",\"per\",\"tese\",\"astm\",\"anteriormente\",\"minas\",\"politica\",\"medios\",\"contexto\",\"imagens\",\"dimensoes\",\"resumo\",\"revisao\",\"embasamento\",\"dade\",\"existe\",\"considerado\",\"estabilidade\",\"normal\",\"composto\",\"apresentar\",\"possibilidade\",\"avaliar\",\"tensoes\",\"descricao\",\"altura\",\"sal\",\"operacionais\",\"api\",\"antonio\",\"sequencias\",\"observase\",\"ambientais\",\"coes\",\"apoio\",\"geralmente\",\"dessas\",\"society\",\"oxigenio\",\"apresentaram\",\"argila\",\"prova\",\"aquisicao\",\"organica\",\"existencia\",\"proprio\",\"bom\",\"existentes\",\"misturas\",\"anexo\",\"energetica\",\"hidratado\",\"oeste\",\"referencias\",\"interior\",\"indica\",\"glicerol\",\"proposta\",\"$\",\"poder\",\"apresentada\",\"ra\",\"res\",\"comercio\",\"existem\",\"feito\",\"elemento\",\"determinado\",\"oferta\",\"america\",\"fazer\",\"consumidor\",\"proximo\",\"questao\",\"produzida\",\"normalmente\",\"veiculos\",\"extensao\",\"conta\",\"nafta\",\"vi\",\"determinar\",\"companhia\",\"international\",\"movimento\",\"cuja\",\"nov\",\"di\",\"american\",\"using\",\"rendimento\",\"nessa\",\"sintese\",\"faz\",\"metano\",\"used\",\"ho\",\"pre\",\"metais\",\"poros\",\"riser\",\"cinco\",\"logo\",\"economia\",\"mundo\",\"molar\",\"pressoes\",\"economico\",\"gasoduto\",\"encontrados\",\"study\",\"comum\",\"responsavel\",\"destas\",\"passo\",\"soja\",\"chemical\",\"papel\",\"simulacoes\",\"areia\",\"ambos\",\"unidos\",\"eventos\",\"cp\",\"possiveis\",\"pequena\",\"molecular\",\"also\",\"identificacao\",\"desenvolvido\",\"software\",\"apresentadas\",\"xisto\",\"filho\",\"infraestrutura\",\"ta\",\"time\",\"movimentacao\",\"criacao\",\"\\u0006\",\"ac\",\"eixo\",\"contudo\",\"serra\",\"fracoes\",\"petro\",\"elevacao\",\"abastecimento\",\"taxas\",\"realizar\",\"otimizacao\",\"lista\",\"estagio\",\"tecnologias\",\"cimento\",\"emissoes\",\"\\u000f\",\"estratigrafica\",\"high\",\"joao\",\"estatistico\",\"respeito\",\"associado\",\"ro\",\"versus\",\"tectonica\",\"dinamica\",\"ultimos\",\"technology\",\"conclusoes\",\"padroes\",\"results\",\"aplicada\",\"\\u0002\",\"maria\",\"medicao\",\"solidos\",\"leito\",\"solvente\",\"economicos\",\"gasodutos\",\"determinada\",\"aumentar\",\"podendo\",\"doutorado\",\"federacao\",\"experimento\",\"necessaria\",\"va\",\"especificacoes\",\"inspecao\",\"porto\",\"externa\",\"mudanca\",\"bloco\",\"angulo\",\"nitrogenio\",\"produtor\",\"associacao\",\"tabelas\",\"aplicacoes\",\"altas\",\"process\",\"locais\",\"impacto\",\"diagrama\",\"pratica\"],\"x1\":{\"__ndarray__\":\"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\",\"dtype\":\"float32\",\"shape\":[1000]},\"x2\":{\"__ndarray__\":\"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\",\"dtype\":\"float32\",\"shape\":[1000]}}},\"id\":\"d76e7e0c-f31f-469f-b3dd-9e132690b54e\",\"type\":\"ColumnDataSource\"},{\"attributes\":{\"data_source\":{\"id\":\"d76e7e0c-f31f-469f-b3dd-9e132690b54e\",\"type\":\"ColumnDataSource\"},\"glyph\":{\"id\":\"362bff7f-d6c4-4ae5-9753-d6607d88d011\",\"type\":\"Circle\"},\"hover_glyph\":null,\"muted_glyph\":null,\"nonselection_glyph\":{\"id\":\"9ebdd4cb-027e-4de7-a88e-fb0887b97e94\",\"type\":\"Circle\"},\"selection_glyph\":null,\"view\":{\"id\":\"39a83438-d5f9-4895-929b-47e436bf33d5\",\"type\":\"CDSView\"}},\"id\":\"3480b8be-4ff8-42d1-a290-926ab55beddf\",\"type\":\"GlyphRenderer\"},{\"attributes\":{\"plot\":null,\"text\":\"word2vec T-SNE for most common words\"},\"id\":\"a1b61870-9fe8-4cb9-a83e-ef25da429f73\",\"type\":\"Title\"},{\"attributes\":{\"callback\":null},\"id\":\"b983d254-094c-4258-b115-812fe3aedb32\",\"type\":\"DataRange1d\"},{\"attributes\":{\"source\":{\"id\":\"d76e7e0c-f31f-469f-b3dd-9e132690b54e\",\"type\":\"ColumnDataSource\"}},\"id\":\"39a83438-d5f9-4895-929b-47e436bf33d5\",\"type\":\"CDSView\"},{\"attributes\":{},\"id\":\"e4239ad1-3ee0-4b7c-9aa8-542ebe8b6c8d\",\"type\":\"WheelZoomTool\"},{\"attributes\":{\"active_drag\":\"auto\",\"active_inspect\":\"auto\",\"active_scroll\":\"auto\",\"active_tap\":\"auto\",\"tools\":[{\"id\":\"dfa59e21-dbcf-4f58-befd-a61e8c350ca3\",\"type\":\"PanTool\"},{\"id\":\"e4239ad1-3ee0-4b7c-9aa8-542ebe8b6c8d\",\"type\":\"WheelZoomTool\"},{\"id\":\"1b08ca7a-4bd6-476e-8680-dc9001c0a213\",\"type\":\"ResetTool\"},{\"id\":\"ad76ee83-376f-4bd3-93da-d4a9427a02e8\",\"type\":\"SaveTool\"}]},\"id\":\"943e9677-d604-4ea5-9a46-d655c204fb9e\",\"type\":\"Toolbar\"},{\"attributes\":{},\"id\":\"1b08ca7a-4bd6-476e-8680-dc9001c0a213\",\"type\":\"ResetTool\"},{\"attributes\":{},\"id\":\"f3985f8c-4c44-4a14-8285-07a262b9407f\",\"type\":\"LinearScale\"},{\"attributes\":{},\"id\":\"ad76ee83-376f-4bd3-93da-d4a9427a02e8\",\"type\":\"SaveTool\"},{\"attributes\":{\"callback\":null},\"id\":\"cb9861bf-6cdd-40af-b0f8-70b8274a2850\",\"type\":\"DataRange1d\"},{\"attributes\":{\"fill_alpha\":{\"value\":0.1},\"fill_color\":{\"value\":\"#1f77b4\"},\"line_alpha\":{\"value\":0.1},\"line_color\":{\"value\":\"#1f77b4\"},\"size\":{\"units\":\"screen\",\"value\":8},\"x\":{\"field\":\"x1\"},\"y\":{\"field\":\"x2\"}},\"id\":\"9ebdd4cb-027e-4de7-a88e-fb0887b97e94\",\"type\":\"Circle\"}],\"root_ids\":[\"60a5bdf8-96fc-4c82-a40c-67010c5ac8b6\"]},\"title\":\"Bokeh Application\",\"version\":\"0.12.10\"}};\n",
       "    var render_items = [{\"docid\":\"849327a8-e9f5-4d36-a383-5fd49701b969\",\"elementid\":\"e368194d-d7f9-42d6-92fb-3f1c04610b17\",\"modelid\":\"60a5bdf8-96fc-4c82-a40c-67010c5ac8b6\"}];\n",
       "\n",
       "    root.Bokeh.embed.embed_items(docs_json, render_items);\n",
       "  }\n",
       "\n",
       "  if (root.Bokeh !== undefined) {\n",
       "    embed_document(root);\n",
       "  } else {\n",
       "    var attempts = 0;\n",
       "    var timer = setInterval(function(root) {\n",
       "      if (root.Bokeh !== undefined) {\n",
       "        embed_document(root);\n",
       "        clearInterval(timer);\n",
       "      }\n",
       "      attempts++;\n",
       "      if (attempts > 100) {\n",
       "        console.log(\"Bokeh: ERROR: Unable to embed document because BokehJS library is missing\")\n",
       "        clearInterval(timer);\n",
       "      }\n",
       "    }, 10, root)\n",
       "  }\n",
       "})(window);"
      ],
      "application/vnd.bokehjs_exec.v0+json": ""
     },
     "metadata": {
      "application/vnd.bokehjs_exec.v0+json": {
       "id": "60a5bdf8-96fc-4c82-a40c-67010c5ac8b6"
      }
     },
     "output_type": "display_data"
    }
   ],
   "source": [
    "p = figure(tools=\"pan,wheel_zoom,reset,save\",\n",
    "           toolbar_location=\"above\",\n",
    "           title=\"word2vec T-SNE for most common words\",\n",
    "           plot_width=900, \n",
    "           plot_height=900)\n",
    "\n",
    "source = ColumnDataSource(data=dict(x1=embed_tsne[:,0],\n",
    "                                    x2=embed_tsne[:,1],\n",
    "                                    names=vocabulario))\n",
    "\n",
    "p.scatter(x=\"x1\", y=\"x2\", size=8, source=source)\n",
    "\n",
    "labels = LabelSet(x=\"x1\", y=\"x2\", text=\"names\", y_offset=6,\n",
    "                  text_font_size=\"8pt\", text_color=\"#555555\",\n",
    "                  source=source, text_align='center')\n",
    "p.add_layout(labels)\n",
    "\n",
    "show(p)"
   ]
  },
  {
   "cell_type": "markdown",
   "metadata": {
    "collapsed": true
   },
   "source": [
    "## Nova geração do TSNE, com maior volume de dados, priorizando a ordenação do vocabulário pelas palavras mais comuns\n"
   ]
  },
  {
   "cell_type": "code",
   "execution_count": 24,
   "metadata": {
    "collapsed": true
   },
   "outputs": [],
   "source": [
    "arquivoEntrada = os.path.join('..','_corpus', \"Petrobras-BoletinsTecnicos-Final.txt\")\n",
    "with open(arquivoEntrada, 'r', encoding=\"UTF-8\") as f:\n",
    "    texto = f.read()"
   ]
  },
  {
   "cell_type": "code",
   "execution_count": 25,
   "metadata": {
    "collapsed": true
   },
   "outputs": [],
   "source": [
    "from collections import Counter\n",
    "word_counts = Counter(texto.split())"
   ]
  },
  {
   "cell_type": "code",
   "execution_count": 26,
   "metadata": {},
   "outputs": [
    {
     "name": "stdout",
     "output_type": "stream",
     "text": [
      "(3000, 50)\n"
     ]
    }
   ],
   "source": [
    "most_commom = word_counts.most_common(3000) # lista das palavras mais comuns do vocabulario\n",
    "\n",
    "### Obtendo os vetores para as paalvras mais comuns\n",
    "#2- Iterar enter as 1000 palavras mais comuns e pegar o vetor de cada uma usando: model.wv['computer']  # numpy vector of a word\n",
    "# ou testar: say_vector = model['say']  # get vector for word\n",
    "#3- empilhar os vetores apenas das palavras mais comuns do vocabulário, e rodar o TSNE\n",
    "\n",
    "vocabulario = list()\n",
    "vetores = list()\n",
    "\n",
    "\n",
    "for word in most_commom:\n",
    "    palavra = word[0]\n",
    "    #print(palavra)\n",
    "    vocabulario.append(palavra)\n",
    "    vetores.append(model.wv.word_vec(palavra));\n",
    "matrix = np.vstack(vetores)    \n",
    "    \n",
    "print(matrix.shape)"
   ]
  },
  {
   "cell_type": "code",
   "execution_count": 27,
   "metadata": {},
   "outputs": [
    {
     "name": "stdout",
     "output_type": "stream",
     "text": [
      "Wall time: 2min 1s\n"
     ]
    }
   ],
   "source": [
    "%%time\n",
    "tsne = TSNE(n_components=2, random_state=0)\n",
    "embed_tsne = tsne.fit_transform(vetores)"
   ]
  },
  {
   "cell_type": "code",
   "execution_count": 28,
   "metadata": {},
   "outputs": [
    {
     "data": {
      "text/html": [
       "\n",
       "<div class=\"bk-root\">\n",
       "    <div class=\"bk-plotdiv\" id=\"4fcb9518-d006-4187-b7d7-adec3799eb42\"></div>\n",
       "</div>"
      ]
     },
     "metadata": {},
     "output_type": "display_data"
    },
    {
     "data": {
      "application/javascript": [
       "(function(root) {\n",
       "  function embed_document(root) {\n",
       "    var docs_json = {\"2eb31cf6-b3e3-474b-9337-3a0bf457bd3d\":{\"roots\":{\"references\":[{\"attributes\":{\"formatter\":{\"id\":\"57d98b74-281f-4cce-99e3-d89978547d57\",\"type\":\"BasicTickFormatter\"},\"plot\":{\"id\":\"41cc8b2b-dde2-410f-ab3c-3669b115c394\",\"subtype\":\"Figure\",\"type\":\"Plot\"},\"ticker\":{\"id\":\"b25bc0f9-a68c-46c1-8149-3fd6c50c72a7\",\"type\":\"BasicTicker\"}},\"id\":\"144e7955-4691-4146-b28e-3affe2ffdc4f\",\"type\":\"LinearAxis\"},{\"attributes\":{\"plot\":{\"id\":\"41cc8b2b-dde2-410f-ab3c-3669b115c394\",\"subtype\":\"Figure\",\"type\":\"Plot\"},\"source\":{\"id\":\"391d3164-3839-44e0-86df-f773ebe183b7\",\"type\":\"ColumnDataSource\"},\"text\":{\"field\":\"names\"},\"text_align\":\"center\",\"text_color\":{\"value\":\"#555555\"},\"text_font_size\":{\"value\":\"8pt\"},\"x\":{\"field\":\"x1\"},\"y\":{\"field\":\"x2\"},\"y_offset\":{\"value\":6}},\"id\":\"8f17d522-b6b2-4105-b020-799bcfe25a3a\",\"type\":\"LabelSet\"},{\"attributes\":{},\"id\":\"57d98b74-281f-4cce-99e3-d89978547d57\",\"type\":\"BasicTickFormatter\"},{\"attributes\":{\"below\":[{\"id\":\"2503bd5c-97bc-417f-8b0b-15d52d477e49\",\"type\":\"LinearAxis\"}],\"left\":[{\"id\":\"144e7955-4691-4146-b28e-3affe2ffdc4f\",\"type\":\"LinearAxis\"}],\"plot_height\":900,\"plot_width\":900,\"renderers\":[{\"id\":\"2503bd5c-97bc-417f-8b0b-15d52d477e49\",\"type\":\"LinearAxis\"},{\"id\":\"51c97319-70e0-414b-883e-75a75d5d08b7\",\"type\":\"Grid\"},{\"id\":\"144e7955-4691-4146-b28e-3affe2ffdc4f\",\"type\":\"LinearAxis\"},{\"id\":\"451ea924-3d54-435d-a789-ee0b9a4161fe\",\"type\":\"Grid\"},{\"id\":\"bf291aca-d6eb-4535-81f1-03ebc77aecad\",\"type\":\"GlyphRenderer\"},{\"id\":\"8f17d522-b6b2-4105-b020-799bcfe25a3a\",\"type\":\"LabelSet\"}],\"title\":{\"id\":\"e937cfa1-a3aa-456d-a639-d9eea782b5d0\",\"type\":\"Title\"},\"toolbar\":{\"id\":\"614a5ca4-d810-4890-90c2-56f793959ebd\",\"type\":\"Toolbar\"},\"toolbar_location\":\"above\",\"x_range\":{\"id\":\"df31670e-1c5e-4f96-8868-374a123ae784\",\"type\":\"DataRange1d\"},\"x_scale\":{\"id\":\"c7bb02da-ad43-4f99-90b8-28538dec6570\",\"type\":\"LinearScale\"},\"y_range\":{\"id\":\"8772cb2d-a0e3-4bee-bb56-934165321df7\",\"type\":\"DataRange1d\"},\"y_scale\":{\"id\":\"70abdc87-c76a-4d70-ad90-e3571167982d\",\"type\":\"LinearScale\"}},\"id\":\"41cc8b2b-dde2-410f-ab3c-3669b115c394\",\"subtype\":\"Figure\",\"type\":\"Plot\"},{\"attributes\":{},\"id\":\"b25bc0f9-a68c-46c1-8149-3fd6c50c72a7\",\"type\":\"BasicTicker\"},{\"attributes\":{\"plot\":{\"id\":\"41cc8b2b-dde2-410f-ab3c-3669b115c394\",\"subtype\":\"Figure\",\"type\":\"Plot\"},\"ticker\":{\"id\":\"5ad0f39d-228f-4e7e-8e75-9b6f1bdcc4e1\",\"type\":\"BasicTicker\"}},\"id\":\"51c97319-70e0-414b-883e-75a75d5d08b7\",\"type\":\"Grid\"},{\"attributes\":{\"fill_color\":{\"value\":\"#1f77b4\"},\"line_color\":{\"value\":\"#1f77b4\"},\"size\":{\"units\":\"screen\",\"value\":8},\"x\":{\"field\":\"x1\"},\"y\":{\"field\":\"x2\"}},\"id\":\"14f1b5b7-bb78-4253-af05-ffe659888504\",\"type\":\"Circle\"},{\"attributes\":{},\"id\":\"c7bb02da-ad43-4f99-90b8-28538dec6570\",\"type\":\"LinearScale\"},{\"attributes\":{\"source\":{\"id\":\"391d3164-3839-44e0-86df-f773ebe183b7\",\"type\":\"ColumnDataSource\"}},\"id\":\"b8ccce3a-a4c0-4682-8805-88619c42b040\",\"type\":\"CDSView\"},{\"attributes\":{\"dimension\":1,\"plot\":{\"id\":\"41cc8b2b-dde2-410f-ab3c-3669b115c394\",\"subtype\":\"Figure\",\"type\":\"Plot\"},\"ticker\":{\"id\":\"b25bc0f9-a68c-46c1-8149-3fd6c50c72a7\",\"type\":\"BasicTicker\"}},\"id\":\"451ea924-3d54-435d-a789-ee0b9a4161fe\",\"type\":\"Grid\"},{\"attributes\":{\"callback\":null,\"column_names\":[\"x1\",\"x2\",\"names\"],\"data\":{\"names\":[\"cid\",\"petrobras\",\"rio\",\"sao\",\"janeiro\",\"nao\",\"ser\",\"bacia\",\"formacao\",\"petroleo\",\"fig\",\"figura\",\"producao\",\"gas\",\"oleo\",\"area\",\"sistema\",\"agua\",\"tambem\",\"dados\",\"pode\",\"tempo\",\"ate\",\"onde\",\"pressao\",\"forma\",\"maior\",\"pocos\",\"cada\",\"processo\",\"cao\",\"analise\",\"resultados\",\"caso\",\"grande\",\"base\",\"parte\",\"trabalho\",\"campo\",\"valores\",\"unidade\",\"temperatura\",\"ja\",\"tipo\",\"tabela\",\"sendo\",\"modelo\",\"condicoes\",\"campos\",\"co\",\"bem\",\"partir\",\"brasil\",\"desenvolvimento\",\"total\",\"fase\",\"dois\",\"atraves\",\"figure\",\"superior\",\"estudo\",\"assim\",\"geologia\",\"bacias\",\"ainda\",\"metodo\",\"regiao\",\"projeto\",\"valor\",\"relacao\",\"tecnico\",\"\\u00b7\",\"zona\",\"facies\",\"ponto\",\"secao\",\"duas\",\"podem\",\"sul\",\"numero\",\"volume\",\"boletim\",\"operacao\",\"apos\",\"equacao\",\"universidade\",\"meio\",\"engenharia\",\"tres\",\"pro\",\"alem\",\"inferior\",\"rochas\",\"neste\",\"carga\",\"basin\",\"jan\",\"areas\",\"sistemas\",\"outros\",\"funcao\",\"cenpes\",\"arenitos\",\"unidades\",\"sequencia\",\"deste\",\"amostras\",\"sedimentos\",\"exploracao\",\"mar\",\"mento\",\"uso\",\"segundo\",\"pesquisas\",\"pesquisa\",\"longo\",\"controle\",\"ca\",\"nivel\",\"fluxo\",\"mente\",\"apenas\",\"perfuracao\",\"estao\",\"paulo\",\"distribuicao\",\"deve\",\"estudos\",\"grupo\",\"anos\",\"material\",\"plataforma\",\"centro\",\"topo\",\"oil\",\"desta\",\"fluido\",\"media\",\"geral\",\"devido\",\"possivel\",\"processos\",\"superficie\",\"espessura\",\"ai\",\"velocidade\",\"vazao\",\"continental\",\"ar\",\"norte\",\"pe\",\"vez\",\"new\",\"falhas\",\"exemplo\",\"\\u00b0c\",\"apresenta\",\"aumento\",\"solucao\",\"diferentes\",\"reservatorios\",\"alguns\",\"medio\",\"produtos\",\"li\",\"obtidos\",\"final\",\"cm\",\"linha\",\"presenca\",\"petroleum\",\"quanto\",\"alta\",\"intervalo\",\"sob\",\"santos\",\"outro\",\"peso\",\"programa\",\"trabalhos\",\"idade\",\"amostra\",\"energia\",\"tecnologia\",\"avaliacao\",\"testes\",\"menor\",\"outras\",\"caracteristicas\",\"ter\",\"tecnica\",\"sera\",\"entao\",\"po\",\"tal\",\"principais\",\"ocorrencia\",\"jul\",\"km\",\"reservatorio\",\"refinaria\",\"aplicacao\",\"direcao\",\"mesma\",\"pois\",\"parana\",\"sido\",\"alto\",\"federal\",\"evolucao\",\"teste\",\"tais\",\"corrosao\",\"acima\",\"modo\",\"efeito\",\"estrutura\",\"metodos\",\"mm\",\"falha\",\"ambiente\",\"brasileira\",\"menos\",\"dentro\",\"parametros\",\"data\",\"fluidos\",\"mo\",\"natural\",\"industrial\",\"densidade\",\"quais\",\"abr\",\"coluna\",\"cerca\",\"ano\",\"utilizacao\",\"profundidade\",\"ordem\",\"conjunto\",\"fi\",\"jose\",\"ocorre\",\"faixa\",\"calculo\",\"mistura\",\"problema\",\"quimica\",\"limite\",\"aguas\",\"pontos\",\"setor\",\"departamento\",\"hidrocarbonetos\",\"depositos\",\"primeiro\",\"fator\",\"nacional\",\"qualidade\",\"teor\",\"seguintes\",\"custo\",\"well\",\"folhelhos\",\"divisao\",\"concentracao\",\"primeira\",\"melhor\",\"metros\",\"\\u0003\",\"determinacao\",\"maio\",\"equipamentos\",\"tratamento\",\"escoamento\",\"diametro\",\"importante\",\"tos\",\"conforme\",\"problemas\",\"reconcavo\",\"injecao\",\"objetivo\",\"aqui\",\"periodo\",\"fundo\",\"todas\",\"des\",\"fato\",\"propriedades\",\"principal\",\"comportamento\",\"algumas\",\"bahia\",\"geology\",\"inicio\",\"variacao\",\"camadas\",\"curva\",\"lado\",\"principalmente\",\"brasileiro\",\"casos\",\"taxa\",\"produto\",\"industria\",\"atividades\",\"presente\",\"baixo\",\"materiais\",\"sp\",\"margem\",\"diversos\",\"nova\",\"estruturas\",\"portanto\",\"membro\",\"razao\",\"pouco\",\"laboratorio\",\"modelos\",\"rocha\",\"manutencao\",\"diesel\",\"formation\",\"reducao\",\"vapor\",\"elementos\",\"tipos\",\"projetos\",\"central\",\"grandes\",\"sedimentacao\",\"zonas\",\"atividade\",\"dade\",\"mostra\",\"porcao\",\"qualquer\",\"deposicao\",\"flow\",\"linhas\",\"etc\",\"baixa\",\"vista\",\"sergipe\",\"capacidade\",\"coes\",\"tecnicas\",\"nesta\",\"massa\",\"viscosidade\",\"arenito\",\"apresentam\",\"inicial\",\"informacoes\",\"influencia\",\"porem\",\"equacoes\",\"maiores\",\"quantidade\",\"contato\",\"bastante\",\"vezes\",\"devem\",\"correlacao\",\"acordo\",\"recuperacao\",\"ra\",\"escala\",\"composicao\",\"entretanto\",\"alagoas\",\"empresa\",\"analises\",\"sequencias\",\"dessa\",\"porosidade\",\"geociencias\",\"catalisador\",\"silva\",\"si\",\"pa\",\"autores\",\"costa\",\"transporte\",\"estrutural\",\"embora\",\"vertical\",\"mapa\",\"abstract\",\"potencial\",\"separacao\",\"aco\",\"formacoes\",\"sempre\",\"padrao\",\"tecnicos\",\"fatores\",\"res\",\"liquido\",\"podese\",\"regional\",\"sedimentar\",\"dia\",\"necessario\",\"fim\",\"permeabilidade\",\"toda\",\"varios\",\"variaveis\",\"perfil\",\"sedimentares\",\"grau\",\"constante\",\"oleos\",\"calor\",\"gasolina\",\"relatorio\",\"brazil\",\"resistencia\",\"tubos\",\"tendo\",\"tensao\",\"quatro\",\"curvas\",\"perda\",\"embasamento\",\"medida\",\"carbono\",\"leste\",\"analysis\",\"interpretacao\",\"gases\",\"serem\",\"introducao\",\"posicao\",\"pais\",\"per\",\"cos\",\"enquanto\",\"ta\",\"tubo\",\"di\",\"serie\",\"\\u0002\\u0005\",\"permite\",\"diversas\",\"somente\",\"estratigrafica\",\"york\",\"atual\",\"cor\",\"utilizado\",\"curso\",\"tes\",\"fases\",\"ocorrem\",\"outra\",\"local\",\"origem\",\"cabo\",\"inspecao\",\"maximo\",\"comprimento\",\"pre\",\"acido\",\"desses\",\"temperaturas\",\"horizontal\",\"corrente\",\"\\u0002\",\"cretaceo\",\"niveis\",\"serao\",\"geracao\",\"real\",\"antonio\",\"importancia\",\"fonte\",\"resultado\",\"componentes\",\"novas\",\"vem\",\"water\",\"system\",\"perfis\",\"destes\",\"consumo\",\"kg\",\"entrada\",\"maxima\",\"society\",\"desse\",\"boa\",\"atualmente\",\"santo\",\"secoes\",\"bom\",\"processamento\",\"ro\",\"utilizados\",\"feita\",\"acao\",\"foto\",\"recursos\",\"deformacao\",\"cia\",\"custos\",\"va\",\"carlos\",\"novo\",\"interno\",\"normal\",\"research\",\"abaixo\",\"conhecimento\",\"indice\",\"possui\",\"tectonica\",\"model\",\"representa\",\"american\",\"equipamento\",\"igual\",\"originais\",\"production\",\"seguinte\",\"aproximadamente\",\"seguranca\",\"frequencia\",\"quase\",\"rifte\",\"iv\",\"coeficiente\",\"original\",\"novos\",\"informacao\",\"varias\",\"oc\",\"materia\",\"demais\",\"construcao\",\"tamanho\",\"necessidade\",\"fm\",\"simples\",\"journal\",\"termos\",\"ensaios\",\"planejamento\",\"comparacao\",\"operacoes\",\"ne\",\"dias\",\"serra\",\"sal\",\"geological\",\"camada\",\"ex\",\"compostos\",\"br\",\"caracterizacao\",\"resumo\",\"eventos\",\"aspectos\",\"seguir\",\"instalacao\",\"time\",\"sismica\",\"filho\",\"ba\",\"results\",\"respectivamente\",\"autor\",\"lama\",\"petro\",\"matriz\",\"cimento\",\"desempenho\",\"plano\",\"mercado\",\"nordeste\",\"basins\",\"variacoes\",\"espaco\",\"situacao\",\"vi\",\"graos\",\"engineering\",\"termica\",\"servicos\",\"ver\",\"simulacao\",\"oeste\",\"referencia\",\"modelagem\",\"estratigrafia\",\"maneira\",\"medidas\",\"mg\",\"reacao\",\"destilacao\",\"obter\",\"offshore\",\"dado\",\"nov\",\"grafico\",\"fracao\",\"diferenca\",\"figuras\",\"regioes\",\"eficiencia\",\"espirito\",\"also\",\"transferencia\",\"seismic\",\"ppm\",\"organica\",\"field\",\"study\",\"nesse\",\"procedimento\",\"min\",\"used\",\"joao\",\"obtencao\",\"disso\",\"amazonas\",\"section\",\"figs\",\"interior\",\"companhia\",\"saida\",\"table\",\"luiz\",\"\\u000f\",\"enxofre\",\"instituto\",\"etapa\",\"astm\",\"souza\",\"fontes\",\"obtidas\",\"importantes\",\"mecanica\",\"estagio\",\"corpo\",\"realizados\",\"especial\",\"combustivel\",\"geometria\",\"efeitos\",\"apesar\",\"apresentados\",\"extensao\",\"fratura\",\"experimental\",\"\\u00b1\",\"resolucao\",\"registro\",\"potiguar\",\"xisto\",\"limites\",\"areia\",\"obtido\",\"oliveira\",\"segunda\",\"geologico\",\"coque\",\"vida\",\"linear\",\"testemunhos\",\"descricao\",\"high\",\"obtida\",\"oi\",\"university\",\"operacionais\",\"natureza\",\"dimensoes\",\"quadro\",\"\\u0006\",\"folhelho\",\"calcarios\",\"valvula\",\"horas\",\"torno\",\"sa\",\"relativa\",\"associacao\",\"minerais\",\"metodologia\",\"mentos\",\"conclusoes\",\"pressoes\",\"coordenador\",\"servico\",\"esquema\",\"localizacao\",\"ensaio\",\"poros\",\"francisco\",\"api\",\"maioria\",\"dada\",\"pressure\",\"cp\",\"ph\",\"tendencia\",\"indica\",\"mestrado\",\"versus\",\"corresponde\",\"pes\",\"entanto\",\"apresentado\",\"existencia\",\"solucoes\",\"dessas\",\"intervalos\",\"destas\",\"eixo\",\"discordancia\",\"reator\",\"particulas\",\"two\",\"geologica\",\"tulsa\",\"sedimentary\",\"motor\",\"ciclo\",\"definicao\",\"utilizada\",\"anterior\",\"evento\",\"usado\",\"tanques\",\"existentes\",\"presentes\",\"normalmente\",\"\\u2212\",\"revestimento\",\"pol\",\"recebidos\",\"terra\",\"rede\",\"feito\",\"derivados\",\"dagua\",\"minimo\",\"artigo\",\"epoca\",\"tanque\",\"neto\",\"rift\",\"pequena\",\"fazer\",\"alves\",\"pessoal\",\"momento\",\"hoje\",\"operacional\",\"pos\",\"deposicional\",\"global\",\"interesse\",\"interna\",\"misturas\",\"referencias\",\"process\",\"dutos\",\"maria\",\"grupos\",\"aspecto\",\"paper\",\"using\",\"cuja\",\"fe\",\"argila\",\"chemical\",\"estruturais\",\"altura\",\"cl\",\"literatura\",\"wells\",\"cinco\",\"possibilidade\",\"variavel\",\"marco\",\"objetivos\",\"correntes\",\"mapas\",\"especies\",\"tensoes\",\"deslocamento\",\"based\",\"finos\",\"experimentais\",\"ci\",\"sequence\",\"experiencia\",\"andar\",\"cas\",\"\\u0001\",\"craqueamento\",\"nafta\",\"borda\",\"brazilian\",\"orgao\",\"systems\",\"bloco\",\"condicao\",\"regime\",\"relativamente\",\"alberto\",\"profundas\",\"conta\",\"escola\",\"carater\",\"angulo\",\"proximo\",\"catalisadores\",\"par\",\"bomba\",\"menores\",\"devera\",\"lateral\",\"distancia\",\"im\",\"one\",\"formado\",\"fo\",\"reservoir\",\"tucano\",\"nessa\",\"hidrogenio\",\"paises\",\"execucao\",\"mineral\",\"revisao\",\"df\",\"mostram\",\"salvador\",\"refinacao\",\"revista\",\"determinar\",\"bibliograficas\",\"indicam\",\"tra\",\"method\",\"tion\",\"identificacao\",\"forca\",\"alii\",\"torre\",\"geralmente\",\"consiste\",\"etanol\",\"taxas\",\"\\uf06f\",\"raios\",\"termo\",\"apoio\",\"south\",\"carvao\",\"erro\",\"corte\",\"pratica\",\"crescimento\",\"relacoes\",\"existe\",\"testemunho\",\"feicoes\",\"marinha\",\"observase\",\"risco\",\"remocao\",\"junto\",\"gerais\",\"diretamente\",\"development\",\"tao\",\"contem\",\"rocks\",\"devese\",\"cursos\",\"first\",\"blocos\",\"valvulas\",\"tecnologica\",\"\\u00bb\",\"af\",\"contendo\",\"riser\",\"stratigraphic\",\"ultima\",\"brasileiras\",\"psi\",\"carbonatos\",\"fluid\",\"considerado\",\"abertura\",\"ufrj\",\"dis\",\"industriais\",\"faz\",\"dei\",\"programas\",\"duto\",\"texto\",\"ia\",\"io\",\"protecao\",\"utilizando\",\"desenvolvido\",\"dez\",\"canais\",\"candeias\",\"membrana\",\"utilizadas\",\"cal\",\"broca\",\"realizada\",\"item\",\"completacao\",\"geologicos\",\"racao\",\"existem\",\"podera\",\"observado\",\"ml\",\"marinho\",\"historia\",\"fa\",\"realizadas\",\"tec\",\"amplitude\",\"sergipealagoas\",\"ajuste\",\"figo\",\"corpos\",\"altos\",\"technology\",\"formas\",\"associados\",\"parametro\",\"logo\",\"queda\",\"deposicionais\",\"comercial\",\"realizacao\",\"integracao\",\"inter\",\"agora\",\"expressao\",\"aplicada\",\"temse\",\"alcool\",\"determinado\",\"seis\",\"cretaceous\",\"realizado\",\"praticamente\",\"diagrama\",\"macao\",\"america\",\"drilling\",\"evolution\",\"mesmos\",\"expanded\",\"santa\",\"tese\",\"gerencia\",\"questao\",\"provavelmente\",\"emprego\",\"encontrados\",\"elemento\",\"barris\",\"medicao\",\"cidade\",\"milhoes\",\"cf\",\"instalacoes\",\"classificacao\",\"part\",\"congresso\",\"muitos\",\"altas\",\"contudo\",\"martins\",\"lamina\",\"marine\",\"science\",\"solo\",\"log\",\"papel\",\"amostragem\",\"ambos\",\"doutorado\",\"orgaos\",\"composto\",\"oxigenio\",\"observar\",\"mos\",\"solidos\",\"considerando\",\"usados\",\"formula\",\"fino\",\"cc\",\"ri\",\"apresentar\",\"continua\",\"fenomeno\",\"observacoes\",\"componente\",\"sociedade\",\"fracoes\",\"constantes\",\"ram\",\"ana\",\"lima\",\"termico\",\"afloramentos\",\"externa\",\"subsidencia\",\"feitas\",\"varia\",\"sismicas\",\"muitas\",\"contexto\",\"metais\",\"leito\",\"association\",\"conversao\",\"comum\",\"fl\",\"definida\",\"anteriormente\",\"levantamento\",\"reacoes\",\"forte\",\"expansao\",\"movimento\",\"vazoes\",\"proposta\",\"fluxos\",\"inicialmente\",\"tecnologico\",\"basica\",\"otimizacao\",\"possiveis\",\"ciclos\",\"posteriormente\",\"partes\",\"reservas\",\"considerados\",\"passa\",\"tam\",\"albiano\",\"correspondente\",\"dentre\",\"main\",\"evitar\",\"nome\",\"porto\",\"sudeste\",\"teores\",\"residuo\",\"primeiros\",\"resposta\",\"pequeno\",\"nitrogenio\",\"use\",\"car\",\"via\",\"lei\",\"petroleos\",\"vale\",\"parcial\",\"\\u2022\\u2022\",\"fica\",\"definido\",\"respeito\",\"molecular\",\"fina\",\"selecao\",\"locais\",\"determinada\",\"verificar\",\"rios\",\"amsterdam\",\"obtained\",\"disponiveis\",\"ultimo\",\"mesmas\",\"minas\",\"mb\",\"fernando\",\"leve\",\"lower\",\"sucesso\",\"geo\",\"mudanca\",\"etapas\",\"seguida\",\"petroquimica\",\"passo\",\"cinza\",\"criacao\",\"podemos\",\"diferencas\",\"estimativa\",\"exposicao\",\"previsao\",\"erosao\",\"calculos\",\"gradiente\",\"elevada\",\"aplicacoes\",\"perdas\",\"face\",\"pm\",\"dinamica\",\"cujo\",\"elevado\",\"avaliar\",\"visto\",\"ambientes\",\"basicos\",\"ciencias\",\"barra\",\"necessaria\",\"economica\",\"mundo\",\"anexo\",\"structural\",\"ostracodes\",\"international\",\"ultimos\",\"ausencia\",\"visando\",\"rendimento\",\"mello\",\"dominio\",\"potencia\",\"propria\",\"sim\",\"precisao\",\"superficies\",\"quartzo\",\"metal\",\"pequenas\",\"empresas\",\"argilas\",\"camara\",\"interface\",\"frente\",\"extracao\",\"implantacao\",\"treinamento\",\"residual\",\"especie\",\"uni\",\"especiais\",\"alegre\",\"sen\",\"depende\",\"cisalhamento\",\"\\u0010\",\"transicao\",\"atlantico\",\"phase\",\"fraturas\",\"aumenta\",\"disponivel\",\"elevacao\",\"cargas\",\"caracteristica\",\"dificil\",\"especifica\",\"espessuras\",\"publicacao\",\"work\",\"engineers\",\"\\u0000\",\"different\",\"series\",\"pedro\",\"medios\",\"artigos\",\"map\",\"considerada\",\"relacionados\",\"bras\",\"associada\",\"presidente\",\"tracao\",\"solda\",\"ilha\",\"esforco\",\"ponta\",\"du\",\"superiores\",\"complexo\",\"ferreira\",\"circulacao\",\"ocorrer\",\"configuracao\",\"historico\",\"mes\",\"baixos\",\"diferencial\",\"parece\",\"decada\",\"engenheiro\",\"almeida\",\"direta\",\"trecho\",\"coeficientes\",\"escolha\",\"passagem\",\"course\",\"representam\",\"preto\",\"pi\",\"proposto\",\"refinarias\",\"zero\",\"estratigrafico\",\"eo\",\"tubulacao\",\"apresentada\",\"region\",\"saturacao\",\"aquisicao\",\"sergi\",\"surface\",\"padroes\",\"poderia\",\"tacao\",\"fundamental\",\"equilibrio\",\"demanda\",\"upper\",\"tracos\",\"malha\",\"control\",\"terminal\",\"esforcos\",\"apresentadas\",\"ocorreu\",\"criterio\",\"ferro\",\"values\",\"consideracoes\",\"sr\",\"conteudo\",\"possuem\",\"lb\",\"$\",\"soldagem\",\"plataformas\",\"contorno\",\"sub\",\"resulta\",\"funcoes\",\"substituicao\",\"aromaticos\",\"studies\",\"gama\",\"equipe\",\"apre\",\"poroso\",\"oleoduto\",\"samples\",\"geologists\",\"group\",\"estagios\",\"due\",\"reservoirs\",\"baixas\",\"considerar\",\"volumes\",\"onda\",\"manter\",\"atuacao\",\"torres\",\"ceara\",\"tectonic\",\"estabilidade\",\"leopoldo\",\"existente\",\"case\",\"test\",\"livre\",\"orientacao\",\"interacao\",\"professor\",\"il\",\"economia\",\"aumentar\",\"proprio\",\"desenvolvidos\",\"teoria\",\"exploration\",\"inclusive\",\"end\",\"balanco\",\"acidos\",\"hs\",\"quimicos\",\"normais\",\"hipotese\",\"completa\",\"mudancas\",\"mostrando\",\"atmosferica\",\"associado\",\"particular\",\"n\\u00b0\",\"basal\",\"margin\",\"pacote\",\"us$\",\"duracao\",\"calcario\",\"rotacao\",\"present\",\"distribution\",\"sismicos\",\"composta\",\"genero\",\"ga\",\"porte\",\"responsavel\",\"aquecimento\",\"comunicacao\",\"modulo\",\"\\u000e\",\"\\u000e\\u0005\",\"rj\",\"permitem\",\"vacuo\",\"causa\",\"alternativa\",\"polimero\",\"especialmente\",\"usada\",\"falta\",\"subsuperficie\",\"constituem\",\"dades\",\"troca\",\"arcabouco\",\"usando\",\"ras\",\"vel\",\"spe\",\"mecanismo\",\"ondas\",\"gr\",\"pr\",\"associadas\",\"correlacoes\",\"parede\",\"incluindo\",\"applied\",\"adicao\",\"software\",\"constitui\",\"sedi\",\"ria\",\"detalhe\",\"coordenacao\",\"jr\",\"state\",\"london\",\"may\",\"limpeza\",\"migracao\",\"delta\",\"geoquimica\",\"preco\",\"fabricacao\",\"\\u0019\",\"bulletin\",\"discussao\",\"concentracoes\",\"tura\",\"quer\",\"perfurados\",\"fluvial\",\"navio\",\"produzido\",\"ir\",\"calha\",\"observada\",\"earth\",\"consequencia\",\"largura\",\"\\u00ab\",\"geofisica\",\"criterios\",\"contribuicao\",\"razoes\",\"claro\",\"computador\",\"anular\",\"catalitico\",\"secretariaexecutiva\",\"sediments\",\"experiencias\",\"atingir\",\"graficos\",\"ho\",\"permeacao\",\"unica\",\"tempos\",\"util\",\"associacoes\",\"dissolucao\",\"cru\",\"mostrado\",\"tr\",\"cons\",\"dano\",\"estratigraficas\",\"anteriores\",\"prazo\",\"sandstones\",\"membranas\",\"redes\",\"temperature\",\"finalmente\",\"ap\",\"oxidacao\",\"podendo\",\"minima\",\"similar\",\"desvio\",\"conglomerados\",\"hz\",\"fosseis\",\"compressao\",\"luis\",\"eoceno\",\"propriedade\",\"solubilidade\",\"oleodutos\",\"constituida\",\"ge\",\"soares\",\"ilhas\",\"marinhos\",\"melhores\",\"nw\",\"economico\",\"gomes\",\"poder\",\"reconhecimento\",\"suporte\",\"roberto\",\"querosene\",\"minutos\",\"motores\",\"history\",\"geologicas\",\"showing\",\"gasosa\",\"observacao\",\"conference\",\"tabelas\",\"necessarios\",\"montagem\",\"estacao\",\"talude\",\"fault\",\"jurassico\",\"produ\",\"trato\",\"pc\",\"precipitacao\",\"deverao\",\"seco\",\"utilizandose\",\"ferramenta\",\"exemplos\",\"equivalente\",\"secundaria\",\"procedimentos\",\"observados\",\"maranhao\",\"relatorios\",\"fazenda\",\"naturais\",\"sis\",\"miguez\",\"related\",\"deposits\",\"depositional\",\"externo\",\"atlantic\",\"foraminiferos\",\"semelhante\",\"consequentemente\",\"diminuicao\",\"institute\",\"low\",\"conceito\",\"programacao\",\"lu\",\"vantagens\",\"calcular\",\"meios\",\"raio\",\"conditions\",\"erros\",\"idades\",\"doce\",\"periodos\",\"\\b\",\"reduzir\",\"cr$\",\"geologos\",\"bonito\",\"conclusao\",\"dai\",\"fabrica\",\"methods\",\"profundidades\",\"organizacao\",\"crosta\",\"technical\",\"piloto\",\"computacional\",\"fluviais\",\"vai\",\"design\",\"representada\",\"ce\",\"three\",\"marcos\",\"leo\",\"permitir\",\"propano\",\"fragmentos\",\"pereira\",\"ip\",\"models\",\"baseado\",\"comuns\",\"reis\",\"frio\",\"rodrigues\",\"unico\",\"zone\",\"modificacoes\",\"tas\",\"assunto\",\"aluminio\",\"pequenos\",\"posterior\",\"apresentou\",\"pesado\",\"totalmente\",\"propagacao\",\"ft\",\"fcc\",\"lugar\",\"superficial\",\"geologo\",\"absorcao\",\"subbacia\",\"estratos\",\"deep\",\"cunha\",\"cimentacao\",\"\\u00b0f\",\"along\",\"grossa\",\"observadas\",\"sodio\",\"combustao\",\"simulation\",\"gem\",\"acompanhamento\",\"ambas\",\"suficiente\",\"adequada\",\"glp\",\"atuais\",\"preparacao\",\"ouro\",\"meses\",\"siltitos\",\"sulfato\",\"parafinas\",\"axial\",\"quantidades\",\"significativa\",\"basico\",\"cias\",\"classe\",\"rela\",\"normas\",\"calcio\",\"penetracao\",\"provavel\",\"junior\",\"nal\",\"tema\",\"forcas\",\"sinal\",\"stratigraphy\",\"ciencia\",\"posgraduacao\",\"years\",\"cenap\",\"acesso\",\"san\",\"porosity\",\"algum\",\"lacao\",\"cr\",\"ali\",\"transversal\",\"van\",\"unit\",\"vaso\",\"araujo\",\"visao\",\"descrito\",\"espectro\",\"defeitos\",\"acos\",\"caxias\",\"efetiva\",\"internacional\",\"liquidos\",\"barreiras\",\"planta\",\"solvente\",\"duque\",\"presented\",\"order\",\"faults\",\"facil\",\"produzida\",\"especifico\",\"correcao\",\"important\",\"alternativas\",\"ms\",\"reduc\",\"estudada\",\"national\",\"passou\",\"depositados\",\"empregados\",\"produtores\",\"possa\",\"participacao\",\"tornase\",\"navios\",\"produzir\",\"difusao\",\"planos\",\"finalidade\",\"celula\",\"bases\",\"dificuldades\",\"corrosion\",\"available\",\"critica\",\"utiliza\",\"filtracao\",\"situacoes\",\"resultante\",\"carbonate\",\"decisao\",\"portugal\",\"membros\",\"dar\",\"ora\",\"opera\",\"acumulacao\",\"ideia\",\"probabilidade\",\"afloramento\",\"mal\",\"busca\",\"trans\",\"\\uf079\",\"considerandose\",\"mica\",\"consideradas\",\"proxima\",\"rock\",\"conselho\",\"ataque\",\"polimeros\",\"deteccao\",\"permitindo\",\"structures\",\"preenchimento\",\"sugere\",\"possible\",\"estudados\",\"number\",\"tados\",\"calculado\",\"permiano\",\"macae\",\"enfase\",\"amonia\",\"primeiras\",\"mergulho\",\"capaz\",\"reserva\",\"elaboracao\",\"investimento\",\"colunas\",\"associated\",\"utilizar\",\"sete\",\"fisica\",\"almada\",\"indicando\",\"correspondentes\",\"eletrica\",\"drenagem\",\"perfurado\",\"continuidade\",\"apresentacao\",\"washington\",\"adequado\",\"cu\",\"descritos\",\"convencional\",\"horizontais\",\"semelhantes\",\"indices\",\"several\",\"rate\",\"tecnologias\",\"africa\",\"organic\",\"aplicado\",\"properties\",\"houston\",\"agentes\",\"placa\",\"percentagem\",\"developed\",\"mundial\",\"intensidade\",\"velocidades\",\"laboratorios\",\"cfd\",\"carta\",\"permitiu\",\"relacionadas\",\"realizar\",\"retirada\",\"descarga\",\"ampla\",\"estabelecer\",\"arco\",\"simulador\",\"liquida\",\"sergio\",\"movimentacao\",\"processes\",\"encontradas\",\"condutividade\",\"tarefa\",\"resfriamento\",\"project\",\"constituido\",\"ideal\",\"notar\",\"imagens\",\"ions\",\"detalhes\",\"representado\",\"equatorial\",\"irati\",\"funcionamento\",\"made\",\"diques\",\"complexos\",\"chemistry\",\"sos\",\"proximal\",\"ducao\",\"ui\",\"vidro\",\"moleculas\",\"ambiental\",\"depth\",\"ferramentas\",\"sequences\",\"distintas\",\"cam\",\"manual\",\"elevados\",\"arranjo\",\"dispersao\",\"torna\",\"pp\",\"trata\",\"combustiveis\",\"ruptura\",\"rapida\",\"confiabilidade\",\"virtude\",\"late\",\"graduacao\",\"ag\",\"iniciais\",\"realidade\",\"aptiano\",\"laminas\",\"impacto\",\"conceitos\",\"sintese\",\"regionais\",\"abordagem\",\"conhecida\",\"tectonicos\",\"havia\",\"porcoes\",\"reais\",\"pesados\",\"especificacao\",\"encontra\",\"elevadas\",\"ocorrencias\",\"lubrificantes\",\"principio\",\"apresentaram\",\"futuro\",\"anel\",\"verticais\",\"vo\",\"pl\",\"aberto\",\"proximos\",\"graus\",\"craton\",\"energy\",\"ei\",\"paleontologia\",\"ses\",\"vol\",\"separador\",\"pelotas\",\"profundos\",\"submarinos\",\"tro\",\"borracha\",\"ac\",\"franca\",\"program\",\"reta\",\"direcoes\",\"set\",\"acu\",\"usar\",\"lago\",\"unidos\",\"pico\",\"norma\",\"sais\",\"poucos\",\"anomalias\",\"iguais\",\"simulacoes\",\"rpba\",\"crescente\",\"early\",\"application\",\"sinopse\",\"oh\",\"continentais\",\"nota\",\"ambientais\",\"carvalho\",\"interessante\",\"pres\",\"placas\",\"ns\",\"texas\",\"cadeia\",\"calculados\",\"possibilidades\",\"concreto\",\"facilmente\",\"refino\",\"variando\",\"marlim\",\"prova\",\"molar\",\"pintura\",\"nanofosseis\",\"relativo\",\"preservacao\",\"carbonaticas\",\"continuo\",\"relacionada\",\"areias\",\"administracao\",\"armazenamento\",\"bo\",\"dt\",\"desenvolvida\",\"tectonico\",\"intensa\",\"altamente\",\"lusitanica\",\"analisados\",\"apresentase\",\"tar\",\"apresen\",\"alimentacao\",\"castro\",\"formada\",\"moura\",\"cacao\",\"oe\",\"barreirinhas\",\"bioestratigrafia\",\"gerados\",\"hi\",\"baseada\",\"necessarias\",\"ribeiro\",\"dexpro\",\"curto\",\"lagoa\",\"nenhum\",\"instrumentos\",\"ij\",\"gondwana\",\"inferiores\",\"convencionais\",\"correlation\",\"contrario\",\"canal\",\"atender\",\"inclui\",\"carbonatica\",\"identificar\",\"general\",\"liquid\",\"calculada\",\"certa\",\"cobre\",\"fez\",\"observed\",\"desenvolver\",\"formando\",\"age\",\"algoritmo\",\"gasoleo\",\"agente\",\"asfalto\",\"segmento\",\"eletricos\",\"alteracao\",\"structure\",\"luz\",\"cujos\",\"recentes\",\"apresentando\",\"feitos\",\"banco\",\"bar\",\"fun\",\"units\",\"calcita\",\"representacao\",\"sandstone\",\"ingressou\",\"estacoes\",\"mediante\",\"radial\",\"parada\",\"source\",\"dr\",\"necessidades\",\"bandas\",\"au\",\"usadas\",\"parameters\",\"experimentos\",\"aperfeicoamento\",\"polietileno\",\"pernambuco\",\"fornece\",\"definir\",\"top\",\"basicamente\",\"submarino\",\"vulcanicas\",\"est\",\"quimico\",\"heat\",\"atencao\",\"numeros\",\"ing\",\"rem\",\"ten\",\"mecanismos\",\"sections\",\"vieira\",\"sedimen\",\"empregado\",\"regular\",\"partida\",\"itarare\",\"bol\",\"soma\",\"coordenadas\",\"barbosa\",\"faixas\",\"poderao\",\"determinados\",\"nacionais\",\"atua\",\"arenosos\",\"editorial\",\"suspensao\",\"north\",\"e&p\",\"quadros\",\"modificado\",\"exterior\",\"desen\",\"hora\",\"produtividade\",\"special\",\"performance\",\"encontrase\",\"hydrocarbon\",\"leves\",\"retorno\",\"pf\",\"reparo\",\"basicas\",\"basement\",\"since\",\"parcialmente\",\"gra\",\"conexao\",\"locacao\",\"tor\",\"substancias\",\"titulo\",\"camamu\",\"ocor\",\"descritas\",\"quimicas\",\"materiaprima\",\"separation\",\"point\",\"provenientes\",\"eteno\",\"obtemse\",\"agradecimentos\",\"localmente\",\"fenomenos\",\"studied\",\"dobras\",\"intercalacoes\",\"aproveitamento\",\"adsorcao\",\"oo\",\"especificacoes\",\"salt\",\"consideracao\",\"qu\",\"preliminar\",\"sw\",\"nenhuma\",\"information\",\"milani\",\"trobras\",\"zacao\",\"alumina\",\"industrias\",\"verificase\",\"alguma\",\"fields\",\"tante\",\"branco\",\"anomalia\",\"prof\",\"frequencias\",\"thermal\",\"restricoes\",\"diminui\",\"numerica\",\"sismico\",\"significa\",\"possam\",\"comumente\",\"ih\",\"margas\",\"restrita\",\"mil\",\"conhecido\",\"mestre\",\"fernandes\",\"considera\",\"leques\",\"condensacao\",\"bombeio\",\"capa\",\"desenvolvidas\",\"ressaltar\",\"coleta\",\"aapg\",\"jorge\",\"grao\",\"velocity\",\"pipe\",\"carbon\",\"massas\",\"dizer\",\"requer\",\"completo\",\"estampa\",\"espe\",\"calibracao\",\"aparente\",\"cores\",\"caixa\",\"estudadas\",\"oito\",\"reser\",\"estadual\",\"picos\",\"todavia\",\"rasa\",\"formados\",\"noroeste\",\"brasilia\",\"extremamente\",\"recente\",\"encontramse\",\"desgaste\",\"alteracoes\",\"veis\",\"espacial\",\"xi\",\"precos\",\"araripe\",\"passando\",\"nestes\",\"relacionado\",\"essencialmente\",\"usa\",\"biblioteca\",\"rasas\",\"percentual\",\"turbiditos\",\"rt\",\"verificacao\",\"graben\",\"haver\",\"fisico\",\"diferente\",\"rpm\",\"furo\",\"analisar\",\"conhecimentos\",\"concepcao\",\"preciso\",\"sensores\",\"tarefas\",\"horizonte\",\"residuos\",\"analisadas\",\"grafica\",\"pt\",\"imagem\",\"estatica\",\"filme\",\"politica\",\"large\",\"der\",\"definidas\",\"certo\",\"baiano\",\"solimoes\",\"dem\",\"teto\",\"trincas\",\"ficou\",\"produzidos\",\"tado\",\"aditivos\",\"mioceno\",\"exploratorios\",\"geometry\",\"go\",\"tudo\",\"th\",\"talvez\",\"dissertacao\",\"fazendo\",\"leva\",\"documentacao\",\"\\u0153\",\"proporcao\",\"acumulacoes\",\"metano\",\"possivelmente\",\"gerado\",\"petroliferos\",\"descoberta\",\"ts\",\"propeno\",\"passos\",\"grosso\",\"volta\",\"ensino\",\"metade\",\"colapso\",\"proveniente\",\"relativos\",\"representar\",\"eficiente\",\"shows\",\"deltaica\",\"trabalha\",\"limitacoes\",\"nc\",\"finais\",\"bombas\",\"bibliografia\",\"nestas\",\"organico\",\"chama\",\"uniforme\",\"catarina\",\"caracterizada\",\"atmosfera\",\"ramos\",\"chapa\",\"seccao\",\"evaporitos\",\"referentes\",\"adotado\",\"ros\",\"traba\",\"conhecidos\",\"ct\",\"max\",\"terciario\",\"inclinacao\",\"medias\",\"nucleo\",\"gerador\",\"sedimentation\",\"verde\",\"quan\",\"queima\",\"cen\",\"press\",\"dom\",\"terrestre\",\"posicionamento\",\"medicoes\",\"adicional\",\"level\",\"canyon\",\"gera\",\"antiga\",\"sucessao\",\"location\",\"diabasio\",\"reduzida\",\"pri\",\"produtor\",\"email\",\"solventes\",\"formulacao\",\"oceano\",\"responsaveis\",\"evidencias\",\"volumetrica\",\"lidade\",\"center\",\"dezembro\",\"deltaicos\",\"dp\",\"scientific\",\"geofisicos\",\"troleo\",\"recovery\",\"marginais\",\"gestao\",\"permanente\",\"predominantemente\",\"paraiba\",\"proposed\",\"line\",\"levar\",\"simposio\",\"dificuldade\",\"richardson\",\"kgf\",\"view\",\"abstracts\",\"resultando\",\"aproximada\",\"desenvolvi\",\"siste\",\"rs\",\"instrumento\",\"regressao\",\"core\",\"feicao\",\"juntas\",\"cional\",\"lho\",\"st\",\"unicamp\",\"estratificacao\",\"bernardes\",\"cristais\",\"superintendente\",\"rosa\",\"qua\",\"rn\",\"modeling\",\"fechamento\",\"frequentemente\",\"problems\",\"eletrico\",\"notase\",\"evaluation\",\"aa\",\"juntamente\",\"ab\",\"equa\",\"solido\",\"complexidade\",\"poderiam\",\"estudar\",\"dependendo\",\"effect\",\"campaniano\",\"registros\",\"compoem\",\"provincia\",\"zones\",\"potential\",\"xo\",\"rea\",\"solution\",\"envolvidos\",\"leitura\",\"carmopolis\",\"fisicas\",\"sol\",\"tempera\",\"tests\",\"definidos\",\"sciences\",\"bra\",\"dinamico\",\"ix\",\"tl\",\"chapas\",\"indicado\",\"andrade\",\"avanco\",\"vii\",\"cs\",\"stress\",\"rapido\",\"modified\",\"sample\",\"nesw\",\"abrolhos\",\"profundo\",\"perspectivas\",\"range\",\"filtro\",\"correspondem\",\"saber\",\"relativas\",\"salinidade\",\"extremidade\",\"pinto\",\"gia\",\"mecanico\",\"magmatismo\",\"fraturamento\",\"previamente\",\"impor\",\"sidade\",\"paredes\",\"lavagem\",\"sinais\",\"quente\",\"ed\",\"distintos\",\"cn\",\"fins\",\"mostraram\",\"company\",\"melhoria\",\"ls\",\"preparo\",\"emersa\",\"physical\",\"investimentos\",\"shown\",\"localizada\",\"tomada\",\"sc\",\"circular\",\"internos\",\"direita\",\"variam\",\"aracaju\",\"absoluta\",\"acoes\",\"vantagem\",\"levantamentos\",\"marca\",\"cenario\",\"depex\",\"rior\",\"dor\",\"lobos\",\"pena\",\"toneladas\",\"zoneamento\",\"medidos\",\"exame\",\"tratase\",\"turbiditicos\",\"rjs\",\"refluxo\",\"xl\",\"penetrante\",\"catalitica\",\"goncalves\",\"carbonato\",\"litologia\",\"furos\",\"ambito\",\"atributos\",\"deu\",\"found\",\"profunda\",\"note\",\"aporte\",\"usandose\",\"gran\",\"nais\",\"interpretation\",\"ricardo\",\"pla\",\"rendimentos\",\"emulsao\",\"garantir\",\"type\",\"adjacentes\",\"vento\",\"bas\",\"laboratory\",\"filtrado\",\"ira\",\"deposition\",\"estabelecimento\",\"sas\",\"limitada\",\"even\",\"resul\",\"digital\",\"estudado\",\"sugerem\",\"compactacao\",\"auxilio\",\"cesso\",\"cruzada\",\"apendice\",\"metro\",\"ganho\",\"parnaiba\",\"scale\",\"determinadas\",\"tros\",\"utili\",\"jun\",\"divulgacao\",\"fusao\",\"obra\",\"danos\",\"edicao\",\"paleozoico\",\"carbonaticos\",\"investigacao\",\"situado\",\"buracica\",\"ope\",\"capital\",\"eletrodo\",\"inversao\",\"changes\",\"tende\",\"nd\",\"keywords\",\"mostrou\",\"hidraulico\",\"esquerda\",\"cromatografia\",\"coppe\",\"approach\",\"acumulada\",\"comerciais\",\"exp\",\"\\u00b6\",\"fornecer\",\"tectonics\",\"middle\",\"foz\",\"pouca\",\"temas\",\"contatos\",\"catodica\",\"show\",\"aproximacao\",\"formed\",\"distrito\",\"cial\",\"petrolifera\",\"celulas\",\"suprimento\",\"significado\",\"denominado\",\"geophysical\",\"intrusoes\",\"operar\",\"would\",\"eduardo\",\"marinhas\",\"estimar\",\"coimbra\",\"fracture\",\"critico\",\"exploratorio\",\"ad\",\"adotada\",\"within\",\"riscos\",\"industry\",\"terceira\",\"palavraschave\",\"standard\",\"comite\",\"numerical\",\"igualmente\",\"usp\",\"distal\",\"gerar\",\"ib\",\"arraste\",\"tubulacoes\",\"ocasiao\",\"matematica\",\"cientifica\",\"esperado\",\"nesses\",\"consequente\",\"potenciais\",\"internas\",\"shale\",\"vs\",\"cientifico\",\"junta\",\"requisitos\",\"paris\",\"ob\",\"excelente\",\"equi\",\"anual\",\"bruto\",\"margens\",\"recentemente\",\"descrita\",\"nu\",\"itaparica\",\"soerguimento\",\"increase\",\"elements\",\"http\",\"bolha\",\"pendencia\",\"cujas\",\"mexico\",\"department\",\"fortemente\",\"seletividade\",\"magnitude\",\"major\",\"compreende\",\"estrategia\",\"litofacies\",\"manifold\",\"pasta\",\"ocidental\",\"combinacao\",\"observa\",\"density\",\"located\",\"centros\",\"saude\",\"tipica\",\"denominada\",\"tre\",\"submarina\",\"rejeito\",\"paralelo\",\"knowledge\",\"eixos\",\"teixeira\",\"biozona\",\"obras\",\"dl\",\"bpp\",\"mapeamento\",\"belem\",\"soes\",\"condi\",\"propostas\",\"hidraulica\",\"precisa\",\"bacterias\",\"praticas\",\"micro\",\"caracteriza\",\"incerteza\",\"setores\",\"benzeno\",\"ion\",\"veiculos\",\"second\",\"encontrada\",\"symposium\",\"estratigraficos\",\"descontinuidades\",\"characteristics\",\"\\u00f8\",\"influence\",\"rica\",\"crustal\",\"deformation\",\"conjuntos\",\"amos\",\"efluentes\",\"alianca\",\"form\",\"produz\",\"flexural\",\"matematico\",\"encontram\",\"materials\",\"efluente\",\"evidencia\",\"freitas\",\"causas\",\"seixos\",\"diagenese\",\"gerenciamento\",\"fluids\",\"fp\",\"declinio\",\"resina\",\"ampliacao\",\"novamente\",\"torio\",\"hidro\",\"identificados\",\"organicos\",\"surge\",\"controlador\",\"maquina\",\"\\u001b\",\"nessas\",\"stage\",\"selecionados\",\"quebra\",\"moraes\",\"steel\",\"publicados\",\"oxido\",\"pig\",\"however\",\"plantas\",\"macico\",\"dc\",\"reduzido\",\"envolve\",\"cloreto\",\"lar\",\"fotos\",\"ln\",\"assistencia\",\"encontrado\",\"jazida\",\"deter\",\"proces\",\"equipment\",\"atrito\",\"comandos\",\"certos\",\"lacustres\",\"world\",\"great\",\"oxford\",\"domo\",\"posicoes\",\"claramente\",\"imediatamente\",\"melhorar\",\"pessoas\",\"neces\",\"profissionais\",\"jurassic\",\"antigo\",\"puro\",\"caracterizado\",\"tipico\",\"principios\",\"sonda\",\"brocas\",\"comparison\",\"behavior\",\"formam\",\"ilustracoes\",\"pelitos\",\"md\",\"trabalhou\",\"gravidade\",\"dimensionamento\",\"comissao\",\"okla\",\"events\",\"reflexao\",\"restricao\",\"lados\",\"conti\",\"determina\",\"forno\",\"compreensao\",\"survey\",\"thus\",\"especificos\",\"particularmente\",\"laterais\",\"flanco\",\"explotacao\",\"consideravel\",\"lote\",\"rpbc\",\"report\",\"movimentos\",\"continente\",\"riachuelo\",\"interval\",\"repre\",\"bons\",\"clay\",\"resinas\",\"maodeobra\",\"conhecidas\",\"apresentamse\",\"oceanica\",\"similares\",\"longitudinal\",\"diante\",\"sedimentologia\",\"injection\",\"citados\",\"operador\",\"pdf\",\"companhias\",\"auxiliar\",\"identificadas\",\"radiacao\",\"jatoba\",\"segmentos\",\"resistividade\",\"controlada\",\"entendimento\",\"exploratoria\",\"atinge\",\"cesar\",\"agitacao\",\"angular\",\"objeto\",\"nacao\",\"codigo\",\"versao\",\"poluicao\",\"lucro\",\"aisi\",\"costeira\",\"modos\",\"diz\",\"cio\",\"tica\",\"mn\",\"montante\",\"viii\",\"reynolds\",\"maritimo\",\"\\u001a\",\"disponibilidade\",\"transformacao\",\"southern\",\"rasos\",\"cot\",\"four\",\"sudoeste\",\"bi\",\"\\u00a7\",\"carregamento\",\"deposito\",\"logia\",\"tras\",\"pas\",\"dife\",\"techniques\",\"ingles\",\"filmes\",\"estocagem\",\"brasileiros\",\"terceiro\",\"good\",\"estimativas\",\"vermelho\",\"uti\",\"lancamento\",\"reatores\",\"santana\",\"comparados\",\"fauna\",\"result\",\"facilidade\",\"substrato\",\"oils\",\"espacamento\",\"campanha\",\"itens\",\"super\",\"gura\",\"particula\",\"ocorrido\",\"bu\",\"espessa\",\"proximas\",\"cd\",\"monte\",\"pioneiro\",\"tera\",\"efetuadas\",\"engenheiros\",\"boia\",\"ins\",\"defeito\",\"nh\",\"ativo\",\"envolvendo\",\"technique\",\"environmental\",\"dea\",\"sicao\",\"banda\",\"melo\",\"adicionais\",\"mares\",\"analisado\",\"fazem\",\"significativas\",\"deformacoes\",\"environment\",\"chamado\",\"resultou\",\"eq\",\"recomendacoes\",\"capilar\",\"er\",\"conexoes\",\"cabos\",\"boi\",\"cabe\",\"resources\",\"razoavel\",\"terrestres\",\"liga\",\"segue\",\"mateus\",\"kk\",\"azevedo\",\"resultantes\",\"complexa\",\"petrolifero\",\"bilhoes\",\"fuel\",\"formulas\",\"permeada\",\"pb\",\"clima\",\"barras\",\"www\",\"excecao\",\"completamente\",\"baia\",\"direto\",\"tamento\",\"chamada\",\"fisicos\",\"cado\",\"legenda\",\"sebastiao\",\"usuario\",\"emissao\",\"synopsis\",\"torque\",\"localizado\",\"refere\",\"fatos\",\"oportunidade\",\"zinco\",\"pratos\",\"bordas\",\"fortes\",\"function\",\"expressa\",\"review\",\"azul\",\"intermediaria\",\"\\u03bcm\",\"pulso\",\"igneas\",\"incremento\",\"situada\",\"machado\",\"atuando\",\"atm\",\"raso\",\"viabilidade\",\"convem\",\"define\",\"publicacoes\",\"soterramento\",\"permitiram\",\"significativo\",\"mem\",\"carbonetos\",\"livros\",\"disposicao\",\"nomenclatura\",\"jl\",\"gpm\",\"depin\",\"certas\",\"ligacao\",\"vulcanismo\",\"extincao\",\"levando\",\"concluir\",\"tt\",\"implica\",\"difere\",\"cone\",\"us\",\"datum\",\"cobertura\",\"tentativa\",\"dose\",\"faria\",\"moreira\",\"junho\",\"granulometria\",\"operation\",\"desenvol\",\"holotipo\",\"inoxidavel\"],\"x1\":{\"__ndarray__\":\"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\",\"dtype\":\"float32\",\"shape\":[3000]},\"x2\":{\"__ndarray__\":\"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\",\"dtype\":\"float32\",\"shape\":[3000]}}},\"id\":\"391d3164-3839-44e0-86df-f773ebe183b7\",\"type\":\"ColumnDataSource\"},{\"attributes\":{\"callback\":null},\"id\":\"8772cb2d-a0e3-4bee-bb56-934165321df7\",\"type\":\"DataRange1d\"},{\"attributes\":{\"plot\":null,\"text\":\"word2vec T-SNE for most common words\"},\"id\":\"e937cfa1-a3aa-456d-a639-d9eea782b5d0\",\"type\":\"Title\"},{\"attributes\":{},\"id\":\"70abdc87-c76a-4d70-ad90-e3571167982d\",\"type\":\"LinearScale\"},{\"attributes\":{\"data_source\":{\"id\":\"391d3164-3839-44e0-86df-f773ebe183b7\",\"type\":\"ColumnDataSource\"},\"glyph\":{\"id\":\"14f1b5b7-bb78-4253-af05-ffe659888504\",\"type\":\"Circle\"},\"hover_glyph\":null,\"muted_glyph\":null,\"nonselection_glyph\":{\"id\":\"6fa0a5ec-db22-48db-8a1d-f1e461bbd6c3\",\"type\":\"Circle\"},\"selection_glyph\":null,\"view\":{\"id\":\"b8ccce3a-a4c0-4682-8805-88619c42b040\",\"type\":\"CDSView\"}},\"id\":\"bf291aca-d6eb-4535-81f1-03ebc77aecad\",\"type\":\"GlyphRenderer\"},{\"attributes\":{\"fill_alpha\":{\"value\":0.1},\"fill_color\":{\"value\":\"#1f77b4\"},\"line_alpha\":{\"value\":0.1},\"line_color\":{\"value\":\"#1f77b4\"},\"size\":{\"units\":\"screen\",\"value\":8},\"x\":{\"field\":\"x1\"},\"y\":{\"field\":\"x2\"}},\"id\":\"6fa0a5ec-db22-48db-8a1d-f1e461bbd6c3\",\"type\":\"Circle\"},{\"attributes\":{\"formatter\":{\"id\":\"4560576a-34a4-4520-903f-1b55c197ba86\",\"type\":\"BasicTickFormatter\"},\"plot\":{\"id\":\"41cc8b2b-dde2-410f-ab3c-3669b115c394\",\"subtype\":\"Figure\",\"type\":\"Plot\"},\"ticker\":{\"id\":\"5ad0f39d-228f-4e7e-8e75-9b6f1bdcc4e1\",\"type\":\"BasicTicker\"}},\"id\":\"2503bd5c-97bc-417f-8b0b-15d52d477e49\",\"type\":\"LinearAxis\"},{\"attributes\":{},\"id\":\"4560576a-34a4-4520-903f-1b55c197ba86\",\"type\":\"BasicTickFormatter\"},{\"attributes\":{},\"id\":\"c5e60678-6938-40a2-91f5-5570a7904715\",\"type\":\"WheelZoomTool\"},{\"attributes\":{\"callback\":null},\"id\":\"df31670e-1c5e-4f96-8868-374a123ae784\",\"type\":\"DataRange1d\"},{\"attributes\":{},\"id\":\"d04fe92f-f604-4ed7-bfe4-69ef3780924e\",\"type\":\"ResetTool\"},{\"attributes\":{},\"id\":\"5ad0f39d-228f-4e7e-8e75-9b6f1bdcc4e1\",\"type\":\"BasicTicker\"},{\"attributes\":{},\"id\":\"545b2125-1290-4d6a-9adf-f4e006732ec4\",\"type\":\"PanTool\"},{\"attributes\":{},\"id\":\"5ca6e6d4-176c-458a-be8d-4fbe5c67ee09\",\"type\":\"SaveTool\"},{\"attributes\":{\"active_drag\":\"auto\",\"active_inspect\":\"auto\",\"active_scroll\":\"auto\",\"active_tap\":\"auto\",\"tools\":[{\"id\":\"545b2125-1290-4d6a-9adf-f4e006732ec4\",\"type\":\"PanTool\"},{\"id\":\"c5e60678-6938-40a2-91f5-5570a7904715\",\"type\":\"WheelZoomTool\"},{\"id\":\"d04fe92f-f604-4ed7-bfe4-69ef3780924e\",\"type\":\"ResetTool\"},{\"id\":\"5ca6e6d4-176c-458a-be8d-4fbe5c67ee09\",\"type\":\"SaveTool\"}]},\"id\":\"614a5ca4-d810-4890-90c2-56f793959ebd\",\"type\":\"Toolbar\"}],\"root_ids\":[\"41cc8b2b-dde2-410f-ab3c-3669b115c394\"]},\"title\":\"Bokeh Application\",\"version\":\"0.12.10\"}};\n",
       "    var render_items = [{\"docid\":\"2eb31cf6-b3e3-474b-9337-3a0bf457bd3d\",\"elementid\":\"4fcb9518-d006-4187-b7d7-adec3799eb42\",\"modelid\":\"41cc8b2b-dde2-410f-ab3c-3669b115c394\"}];\n",
       "\n",
       "    root.Bokeh.embed.embed_items(docs_json, render_items);\n",
       "  }\n",
       "\n",
       "  if (root.Bokeh !== undefined) {\n",
       "    embed_document(root);\n",
       "  } else {\n",
       "    var attempts = 0;\n",
       "    var timer = setInterval(function(root) {\n",
       "      if (root.Bokeh !== undefined) {\n",
       "        embed_document(root);\n",
       "        clearInterval(timer);\n",
       "      }\n",
       "      attempts++;\n",
       "      if (attempts > 100) {\n",
       "        console.log(\"Bokeh: ERROR: Unable to embed document because BokehJS library is missing\")\n",
       "        clearInterval(timer);\n",
       "      }\n",
       "    }, 10, root)\n",
       "  }\n",
       "})(window);"
      ],
      "application/vnd.bokehjs_exec.v0+json": ""
     },
     "metadata": {
      "application/vnd.bokehjs_exec.v0+json": {
       "id": "41cc8b2b-dde2-410f-ab3c-3669b115c394"
      }
     },
     "output_type": "display_data"
    }
   ],
   "source": [
    "p = figure(tools=\"pan,wheel_zoom,reset,save\",\n",
    "           toolbar_location=\"above\",\n",
    "           title=\"word2vec T-SNE for most common words\",\n",
    "           plot_width=900, \n",
    "           plot_height=900)\n",
    "\n",
    "source = ColumnDataSource(data=dict(x1=embed_tsne[:,0],\n",
    "                                    x2=embed_tsne[:,1],\n",
    "                                    names=vocabulario))\n",
    "\n",
    "p.scatter(x=\"x1\", y=\"x2\", size=8, source=source)\n",
    "\n",
    "labels = LabelSet(x=\"x1\", y=\"x2\", text=\"names\", y_offset=6,\n",
    "                  text_font_size=\"8pt\", text_color=\"#555555\",\n",
    "                  source=source, text_align='center')\n",
    "p.add_layout(labels)\n",
    "\n",
    "show(p)"
   ]
  },
  {
   "cell_type": "code",
   "execution_count": null,
   "metadata": {
    "collapsed": true
   },
   "outputs": [],
   "source": []
  }
 ],
 "metadata": {
  "kernelspec": {
   "display_name": "Python 3",
   "language": "python",
   "name": "python3"
  },
  "language_info": {
   "codemirror_mode": {
    "name": "ipython",
    "version": 3
   },
   "file_extension": ".py",
   "mimetype": "text/x-python",
   "name": "python",
   "nbconvert_exporter": "python",
   "pygments_lexer": "ipython3",
   "version": "3.6.3"
  }
 },
 "nbformat": 4,
 "nbformat_minor": 2
}
