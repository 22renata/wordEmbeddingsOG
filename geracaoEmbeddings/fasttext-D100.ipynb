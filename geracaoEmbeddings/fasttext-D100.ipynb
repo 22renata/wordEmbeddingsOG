{
 "cells": [
  {
   "cell_type": "code",
   "execution_count": 1,
   "metadata": {},
   "outputs": [
    {
     "name": "stderr",
     "output_type": "stream",
     "text": [
      "C:\\Users\\czl6\\AppData\\Local\\Continuum\\anaconda3\\lib\\site-packages\\gensim\\utils.py:865: UserWarning: detected Windows; aliasing chunkize to chunkize_serial\n",
      "  warnings.warn(\"detected Windows; aliasing chunkize to chunkize_serial\")\n"
     ]
    }
   ],
   "source": [
    "import fasttext\n",
    "import os\n",
    "from pathlib import Path\n",
    "from gensim.models.word2vec import PathLineSentences\n",
    "import datetime"
   ]
  },
  {
   "cell_type": "markdown",
   "metadata": {},
   "source": [
    "## Gerando modelo FastText, considerando vetor de embedding com 50 dimensões"
   ]
  },
  {
   "cell_type": "code",
   "execution_count": 2,
   "metadata": {},
   "outputs": [
    {
     "name": "stdout",
     "output_type": "stream",
     "text": [
      "Iniciando treinamento em FastText\n",
      "Tempo total decorrido:  0:03:12.013000\n",
      "<fasttext.model.WordVectorModel object at 0x00000000182B1320>\n"
     ]
    }
   ],
   "source": [
    "print('Iniciando treinamento em FastText')\n",
    "momentoInicial = datetime.datetime.now()\n",
    "\n",
    "#arquivoEntrada = os.path.join('..', 'corpus_unificado', \"corpus_unificado.txt\")\n",
    "#arquivoEntrada = os.path.join('..', '_corpus', \"Petrobras-BoletinsTecnicos-Final.txt\")\n",
    "arquivoEntrada = \"corpus.txt\"\n",
    "model = fasttext.skipgram(arquivoEntrada, 'modelos/fasttext-100', dim=100)\n",
    "\n",
    "momentoFinal = datetime.datetime.now()\n",
    "print(\"Tempo total decorrido: \", momentoFinal - momentoInicial)\n",
    "\n",
    "print(model)"
   ]
  },
  {
   "cell_type": "markdown",
   "metadata": {},
   "source": [
    "## Recuperando um modelo gravado\n",
    "Para as funcionalidades em Python, foi utilizado o wrapper *Gensim* (o modelo foi treinado com a api do fasttext)"
   ]
  },
  {
   "cell_type": "code",
   "execution_count": 3,
   "metadata": {},
   "outputs": [],
   "source": [
    "from gensim.models.wrappers import FastText\n",
    "fasttext = FastText.load_fasttext_format(\"modelos/fasttext-100\")"
   ]
  },
  {
   "cell_type": "code",
   "execution_count": 4,
   "metadata": {},
   "outputs": [
    {
     "name": "stdout",
     "output_type": "stream",
     "text": [
      "FastText: [('oampo', 0.7705942392349243), ('pampo', 0.6992131471633911), ('alvo', 0.6813772916793823), ('pocoreservatorio', 0.676353931427002), ('jubarte', 0.6540963649749756), ('biribapoco', 0.6532706022262573), ('espadarte', 0.6498264670372009), ('caioba', 0.6490423679351807), ('camorim', 0.6456599235534668), ('siririzinho', 0.6455831527709961)]\n"
     ]
    }
   ],
   "source": [
    "print(\"FastText:\", fasttext.most_similar(\"campo\"))"
   ]
  },
  {
   "cell_type": "code",
   "execution_count": 5,
   "metadata": {},
   "outputs": [
    {
     "name": "stdout",
     "output_type": "stream",
     "text": [
      "FastText: [('pcmarlim', 0.9010512828826904), ('albacora', 0.8385098576545715), ('marllm', 0.8260014057159424), ('bacora', 0.7853546142578125), ('garoupa', 0.7579705119132996), ('jubarte', 0.7564741373062134), ('marlini', 0.7545282244682312), ('marlize', 0.746731162071228), ('marimba', 0.7345959544181824), ('marl', 0.7328228950500488)]\n"
     ]
    }
   ],
   "source": [
    "print(\"FastText:\", fasttext.most_similar(\"marlim\"))"
   ]
  },
  {
   "cell_type": "code",
   "execution_count": 6,
   "metadata": {},
   "outputs": [
    {
     "name": "stdout",
     "output_type": "stream",
     "text": [
      "FastText: [('rochamatriz', 0.7831390500068665), ('oleorocha', 0.7787681818008423), ('rochafonte', 0.7376151084899902), ('ocha', 0.7241356372833252), ('laderocha', 0.7188540697097778), ('rochosa', 0.7126851677894592), ('roch', 0.7088947892189026), ('rochasre', 0.6747407913208008), ('rochas', 0.6744641065597534), ('rochareservatorio', 0.6720250844955444)]\n"
     ]
    }
   ],
   "source": [
    "print(\"FastText:\", fasttext.most_similar(\"rocha\"))"
   ]
  },
  {
   "cell_type": "code",
   "execution_count": 7,
   "metadata": {},
   "outputs": [
    {
     "name": "stdout",
     "output_type": "stream",
     "text": [
      "FastText: [('porosida', 0.9455100297927856), ('croporosidade', 0.9359903335571289), ('deporosidade', 0.935187578201294), ('permoporosidade', 0.923521876335144), ('macroporosidade', 0.904816746711731), ('porosidades', 0.899235725402832), ('rosidade', 0.8973575830459595), ('porosi', 0.8943686485290527), ('microporosidade', 0.8924039006233215), ('porosa', 0.7876506447792053)]\n"
     ]
    }
   ],
   "source": [
    "print(\"FastText:\", fasttext.most_similar(\"porosidade\"))"
   ]
  },
  {
   "cell_type": "code",
   "execution_count": 8,
   "metadata": {},
   "outputs": [
    {
     "name": "stdout",
     "output_type": "stream",
     "text": [
      "FastText: [('permeabilida', 0.971298098564148), ('impermeabilidade', 0.9711483716964722), ('meabilidade', 0.9575842618942261), ('permeabilidades', 0.9387856721878052), ('permeabili', 0.9261080026626587), ('penneabilidade', 0.9129568934440613), ('permeabi', 0.8788479566574097), ('meabilidades', 0.8631640672683716), ('permeancia', 0.8409357070922852), ('permeabillty', 0.8260838389396667)]\n"
     ]
    }
   ],
   "source": [
    "print(\"FastText:\", fasttext.most_similar(\"permeabilidade\"))"
   ]
  },
  {
   "cell_type": "code",
   "execution_count": 9,
   "metadata": {},
   "outputs": [
    {
     "name": "stdout",
     "output_type": "stream",
     "text": [
      "FastText: [('rochamatriz', 0.7831390500068665), ('oleorocha', 0.7787681818008423), ('rochafonte', 0.7376151084899902), ('ocha', 0.7241356372833252), ('laderocha', 0.7188540697097778), ('rochosa', 0.7126851677894592), ('roch', 0.7088947892189026), ('rochasre', 0.6747407913208008), ('rochas', 0.6744641065597534), ('rochareservatorio', 0.6720250844955444)]\n",
      "FastText: [('roch', 0.8968914747238159), ('roche', 0.8599796295166016), ('roc', 0.8044785857200623), ('rocha', 0.7697747945785522), ('rochasre', 0.765449047088623), ('rock', 0.7581512928009033), ('rochas', 0.7531691193580627), ('roches', 0.7214223146438599), ('rochacampos', 0.7111943364143372), ('metamor', 0.6987937688827515)]\n",
      "FastText: [('roch', 0.8641088604927063), ('roche', 0.8341537714004517), ('rochasre', 0.8024973273277283), ('rocha', 0.7897399663925171), ('rochas', 0.7765204906463623), ('rochasreser', 0.743596613407135), ('rochasreservatorio', 0.7317076921463013), ('rochatotal', 0.7226691246032715), ('roc', 0.7214999198913574), ('rochosa', 0.7053700685501099)]\n"
     ]
    }
   ],
   "source": [
    "print(\"FastText:\", fasttext.most_similar(\"rocha\"))\n",
    "print(\"FastText:\", fasttext.most_similar(\"rochd\"))\n",
    "print(\"FastText:\", fasttext.most_similar(\"rochá\"))"
   ]
  },
  {
   "cell_type": "code",
   "execution_count": 10,
   "metadata": {},
   "outputs": [
    {
     "name": "stdout",
     "output_type": "stream",
     "text": [
      "FastText: [('transientes', 0.8659940958023071), ('transient', 0.7031956911087036), ('monofasico', 0.6998838186264038), ('transito', 0.6818441152572632), ('trifasico', 0.6775226593017578), ('naoestacionario', 0.6750149726867676), ('termodinamico', 0.6660641431808472), ('translacao', 0.6545401811599731), ('estacionai', 0.6499340534210205), ('estacionario', 0.6493983864784241)]\n",
      "FastText: [('transiente', 0.8132923245429993), ('diente', 0.7450019121170044), ('transientes', 0.6996706128120422), ('iente', 0.693047285079956), ('corriente', 0.6797306537628174), ('suftciente', 0.6759018898010254), ('uxo', 0.6720213294029236), ('monofasico', 0.6681973934173584), ('naoestacionario', 0.6654567718505859), ('comportamiento', 0.6632047891616821)]\n",
      "FastText: [('transiente', 0.8819963932037354), ('transient', 0.8383519649505615), ('transientes', 0.8349756002426147), ('transit', 0.6532208919525146), ('termodinamico', 0.6464676856994629), ('newtonraphson', 0.6463876962661743), ('qfem', 0.6339850425720215), ('simulator', 0.6280269622802734), ('termodinamica', 0.6218429207801819), ('simula', 0.6207669377326965)]\n"
     ]
    }
   ],
   "source": [
    "print(\"FastText:\", fasttext.most_similar(\"transiente\"))\n",
    "print(\"FastText:\", fasttext.most_similar(\"trasiente\"))\n",
    "print(\"FastText:\", fasttext.most_similar(\"transientt\"))"
   ]
  },
  {
   "cell_type": "code",
   "execution_count": 11,
   "metadata": {},
   "outputs": [
    {
     "name": "stdout",
     "output_type": "stream",
     "text": [
      "FastText: [('roducao', 0.8734534978866577), ('produca', 0.8575465679168701), ('oducao', 0.8571399450302124), ('poducao', 0.8322707414627075), ('produao', 0.8285330533981323), ('produgao', 0.8209911584854126), ('produco', 0.8207317590713501), ('troducao', 0.7743117809295654), ('prodlcao', 0.7647579908370972), ('ducao', 0.7519650459289551)]\n"
     ]
    }
   ],
   "source": [
    "print(\"FastText:\", fasttext.most_similar(\"producao\"))"
   ]
  },
  {
   "cell_type": "code",
   "execution_count": 12,
   "metadata": {},
   "outputs": [
    {
     "name": "stdout",
     "output_type": "stream",
     "text": [
      "FastText: [('produao', 0.7570306062698364), ('produca', 0.7470100522041321), ('produza', 0.7463916540145874), ('produgao', 0.7372218370437622), ('produco', 0.7355736494064331), ('producao', 0.7328817248344421), ('produ', 0.7320106625556946), ('roducao', 0.7212032079696655), ('troducao', 0.7072972059249878), ('produti', 0.6901158094406128)]\n"
     ]
    }
   ],
   "source": [
    "print(\"FastText:\", fasttext.most_similar(\"Produção\"))"
   ]
  },
  {
   "cell_type": "code",
   "execution_count": 13,
   "metadata": {},
   "outputs": [
    {
     "name": "stdout",
     "output_type": "stream",
     "text": [
      "FastText: [('uleo', 0.8739609718322754), ('dleo', 0.8521618843078613), ('leo', 0.8092716932296753), ('roleo', 0.7844511270523071), ('petloleo', 0.7786996364593506), ('cleo', 0.7709418535232544), ('petoleo', 0.7522885799407959), ('petrleo', 0.7231347560882568), ('oleo', 0.7209504246711731), ('oeo', 0.6925321817398071)]\n"
     ]
    }
   ],
   "source": [
    "print(\"FastText:\", fasttext.most_similar(\"óleo\"))"
   ]
  },
  {
   "cell_type": "code",
   "execution_count": 14,
   "metadata": {},
   "outputs": [
    {
     "name": "stdout",
     "output_type": "stream",
     "text": [
      "FastText: [('biribapoco', 0.6868044137954712), ('oampo', 0.6780693531036377), ('pampo', 0.6532802581787109), ('biriba', 0.6495792865753174), ('pocoreservatorio', 0.6451780200004578), ('alvorada', 0.6403218507766724), ('merluza', 0.6400666832923889), ('badejo', 0.6370847821235657), ('bacora', 0.6350137591362), ('siririzinho', 0.6345832943916321)]\n"
     ]
    }
   ],
   "source": [
    "print(\"FastText:\", fasttext.most_similar(positive=[\"campo\", \"albacora\"], negative=[\"marlim\"]))"
   ]
  },
  {
   "cell_type": "code",
   "execution_count": 15,
   "metadata": {
    "collapsed": true
   },
   "outputs": [],
   "source": [
    "%matplotlib inline\n",
    "%config InlineBackend.figure_format = 'retina'\n",
    "\n",
    "\n",
    "import matplotlib.pyplot as plt\n",
    "from sklearn.manifold import TSNE\n",
    "import numpy as np"
   ]
  },
  {
   "cell_type": "code",
   "execution_count": 16,
   "metadata": {},
   "outputs": [
    {
     "name": "stdout",
     "output_type": "stream",
     "text": [
      "1000\n",
      "(1000, 100)\n"
     ]
    }
   ],
   "source": [
    "vocab_init = 0\n",
    "num_palavras = 1000\n",
    "\n",
    "vocabulario = fasttext.wv.index2word\n",
    "vocabulario = vocabulario[:num_palavras]\n",
    "print(len(vocabulario))\n",
    "\n",
    "vetores = list()\n",
    "for id in range(vocab_init, num_palavras):\n",
    "    vetores.append(fasttext.wv.word_vec(vocabulario[id]));\n",
    "\n",
    "matrix = np.vstack(vetores)    \n",
    "    \n",
    "print(matrix.shape)"
   ]
  },
  {
   "cell_type": "code",
   "execution_count": 17,
   "metadata": {},
   "outputs": [
    {
     "name": "stdout",
     "output_type": "stream",
     "text": [
      "Wall time: 42.8 s\n"
     ]
    }
   ],
   "source": [
    "%%time\n",
    "tsne = TSNE(n_components=2, random_state=0)\n",
    "embed_tsne = tsne.fit_transform(vetores)"
   ]
  },
  {
   "cell_type": "code",
   "execution_count": 18,
   "metadata": {},
   "outputs": [
    {
     "data": {
      "text/html": [
       "\n",
       "    <div class=\"bk-root\">\n",
       "        <a href=\"https://bokeh.pydata.org\" target=\"_blank\" class=\"bk-logo bk-logo-small bk-logo-notebook\"></a>\n",
       "        <span id=\"9037d25b-50eb-42c7-afe3-13f759115a33\">Loading BokehJS ...</span>\n",
       "    </div>"
      ]
     },
     "metadata": {},
     "output_type": "display_data"
    },
    {
     "data": {
      "application/javascript": [
       "\n",
       "(function(root) {\n",
       "  function now() {\n",
       "    return new Date();\n",
       "  }\n",
       "\n",
       "  var force = true;\n",
       "\n",
       "  if (typeof (root._bokeh_onload_callbacks) === \"undefined\" || force === true) {\n",
       "    root._bokeh_onload_callbacks = [];\n",
       "    root._bokeh_is_loading = undefined;\n",
       "  }\n",
       "\n",
       "  var JS_MIME_TYPE = 'application/javascript';\n",
       "  var HTML_MIME_TYPE = 'text/html';\n",
       "  var EXEC_MIME_TYPE = 'application/vnd.bokehjs_exec.v0+json';\n",
       "  var CLASS_NAME = 'output_bokeh rendered_html';\n",
       "\n",
       "  /**\n",
       "   * Render data to the DOM node\n",
       "   */\n",
       "  function render(props, node) {\n",
       "    var script = document.createElement(\"script\");\n",
       "    node.appendChild(script);\n",
       "  }\n",
       "\n",
       "  /**\n",
       "   * Handle when an output is cleared or removed\n",
       "   */\n",
       "  function handleClearOutput(event, handle) {\n",
       "    var cell = handle.cell;\n",
       "\n",
       "    var id = cell.output_area._bokeh_element_id;\n",
       "    var server_id = cell.output_area._bokeh_server_id;\n",
       "    // Clean up Bokeh references\n",
       "    if (id !== undefined) {\n",
       "      Bokeh.index[id].model.document.clear();\n",
       "      delete Bokeh.index[id];\n",
       "    }\n",
       "\n",
       "    if (server_id !== undefined) {\n",
       "      // Clean up Bokeh references\n",
       "      var cmd = \"from bokeh.io.state import curstate; print(curstate().uuid_to_server['\" + server_id + \"'].get_sessions()[0].document.roots[0]._id)\";\n",
       "      cell.notebook.kernel.execute(cmd, {\n",
       "        iopub: {\n",
       "          output: function(msg) {\n",
       "            var element_id = msg.content.text.trim();\n",
       "            Bokeh.index[element_id].model.document.clear();\n",
       "            delete Bokeh.index[element_id];\n",
       "          }\n",
       "        }\n",
       "      });\n",
       "      // Destroy server and session\n",
       "      var cmd = \"import bokeh.io.notebook as ion; ion.destroy_server('\" + server_id + \"')\";\n",
       "      cell.notebook.kernel.execute(cmd);\n",
       "    }\n",
       "  }\n",
       "\n",
       "  /**\n",
       "   * Handle when a new output is added\n",
       "   */\n",
       "  function handleAddOutput(event, handle) {\n",
       "    var output_area = handle.output_area;\n",
       "    var output = handle.output;\n",
       "\n",
       "    // limit handleAddOutput to display_data with EXEC_MIME_TYPE content only\n",
       "    if ((output.output_type != \"display_data\") || (!output.data.hasOwnProperty(EXEC_MIME_TYPE))) {\n",
       "      return\n",
       "    }\n",
       "\n",
       "    var toinsert = output_area.element.find(`.${CLASS_NAME.split(' ')[0]}`);\n",
       "\n",
       "    if (output.metadata[EXEC_MIME_TYPE][\"id\"] !== undefined) {\n",
       "      toinsert[0].firstChild.textContent = output.data[JS_MIME_TYPE];\n",
       "      // store reference to embed id on output_area\n",
       "      output_area._bokeh_element_id = output.metadata[EXEC_MIME_TYPE][\"id\"];\n",
       "    }\n",
       "    if (output.metadata[EXEC_MIME_TYPE][\"server_id\"] !== undefined) {\n",
       "      var bk_div = document.createElement(\"div\");\n",
       "      bk_div.innerHTML = output.data[HTML_MIME_TYPE];\n",
       "      var script_attrs = bk_div.children[0].attributes;\n",
       "      for (var i = 0; i < script_attrs.length; i++) {\n",
       "        toinsert[0].firstChild.setAttribute(script_attrs[i].name, script_attrs[i].value);\n",
       "      }\n",
       "      // store reference to server id on output_area\n",
       "      output_area._bokeh_server_id = output.metadata[EXEC_MIME_TYPE][\"server_id\"];\n",
       "    }\n",
       "  }\n",
       "\n",
       "  function register_renderer(events, OutputArea) {\n",
       "\n",
       "    function append_mime(data, metadata, element) {\n",
       "      // create a DOM node to render to\n",
       "      var toinsert = this.create_output_subarea(\n",
       "        metadata,\n",
       "        CLASS_NAME,\n",
       "        EXEC_MIME_TYPE\n",
       "      );\n",
       "      this.keyboard_manager.register_events(toinsert);\n",
       "      // Render to node\n",
       "      var props = {data: data, metadata: metadata[EXEC_MIME_TYPE]};\n",
       "      render(props, toinsert[0]);\n",
       "      element.append(toinsert);\n",
       "      return toinsert\n",
       "    }\n",
       "\n",
       "    /* Handle when an output is cleared or removed */\n",
       "    events.on('clear_output.CodeCell', handleClearOutput);\n",
       "    events.on('delete.Cell', handleClearOutput);\n",
       "\n",
       "    /* Handle when a new output is added */\n",
       "    events.on('output_added.OutputArea', handleAddOutput);\n",
       "\n",
       "    /**\n",
       "     * Register the mime type and append_mime function with output_area\n",
       "     */\n",
       "    OutputArea.prototype.register_mime_type(EXEC_MIME_TYPE, append_mime, {\n",
       "      /* Is output safe? */\n",
       "      safe: true,\n",
       "      /* Index of renderer in `output_area.display_order` */\n",
       "      index: 0\n",
       "    });\n",
       "  }\n",
       "\n",
       "  // register the mime type if in Jupyter Notebook environment and previously unregistered\n",
       "  if (root.Jupyter !== undefined) {\n",
       "    var events = require('base/js/events');\n",
       "    var OutputArea = require('notebook/js/outputarea').OutputArea;\n",
       "\n",
       "    if (OutputArea.prototype.mime_types().indexOf(EXEC_MIME_TYPE) == -1) {\n",
       "      register_renderer(events, OutputArea);\n",
       "    }\n",
       "  }\n",
       "\n",
       "  \n",
       "  if (typeof (root._bokeh_timeout) === \"undefined\" || force === true) {\n",
       "    root._bokeh_timeout = Date.now() + 5000;\n",
       "    root._bokeh_failed_load = false;\n",
       "  }\n",
       "\n",
       "  var NB_LOAD_WARNING = {'data': {'text/html':\n",
       "     \"<div style='background-color: #fdd'>\\n\"+\n",
       "     \"<p>\\n\"+\n",
       "     \"BokehJS does not appear to have successfully loaded. If loading BokehJS from CDN, this \\n\"+\n",
       "     \"may be due to a slow or bad network connection. Possible fixes:\\n\"+\n",
       "     \"</p>\\n\"+\n",
       "     \"<ul>\\n\"+\n",
       "     \"<li>re-rerun `output_notebook()` to attempt to load from CDN again, or</li>\\n\"+\n",
       "     \"<li>use INLINE resources instead, as so:</li>\\n\"+\n",
       "     \"</ul>\\n\"+\n",
       "     \"<code>\\n\"+\n",
       "     \"from bokeh.resources import INLINE\\n\"+\n",
       "     \"output_notebook(resources=INLINE)\\n\"+\n",
       "     \"</code>\\n\"+\n",
       "     \"</div>\"}};\n",
       "\n",
       "  function display_loaded() {\n",
       "    var el = document.getElementById(\"9037d25b-50eb-42c7-afe3-13f759115a33\");\n",
       "    if (el != null) {\n",
       "      el.textContent = \"BokehJS is loading...\";\n",
       "    }\n",
       "    if (root.Bokeh !== undefined) {\n",
       "      if (el != null) {\n",
       "        el.textContent = \"BokehJS \" + root.Bokeh.version + \" successfully loaded.\";\n",
       "      }\n",
       "    } else if (Date.now() < root._bokeh_timeout) {\n",
       "      setTimeout(display_loaded, 100)\n",
       "    }\n",
       "  }\n",
       "\n",
       "\n",
       "  function run_callbacks() {\n",
       "    try {\n",
       "      root._bokeh_onload_callbacks.forEach(function(callback) { callback() });\n",
       "    }\n",
       "    finally {\n",
       "      delete root._bokeh_onload_callbacks\n",
       "    }\n",
       "    console.info(\"Bokeh: all callbacks have finished\");\n",
       "  }\n",
       "\n",
       "  function load_libs(js_urls, callback) {\n",
       "    root._bokeh_onload_callbacks.push(callback);\n",
       "    if (root._bokeh_is_loading > 0) {\n",
       "      console.log(\"Bokeh: BokehJS is being loaded, scheduling callback at\", now());\n",
       "      return null;\n",
       "    }\n",
       "    if (js_urls == null || js_urls.length === 0) {\n",
       "      run_callbacks();\n",
       "      return null;\n",
       "    }\n",
       "    console.log(\"Bokeh: BokehJS not loaded, scheduling load and callback at\", now());\n",
       "    root._bokeh_is_loading = js_urls.length;\n",
       "    for (var i = 0; i < js_urls.length; i++) {\n",
       "      var url = js_urls[i];\n",
       "      var s = document.createElement('script');\n",
       "      s.src = url;\n",
       "      s.async = false;\n",
       "      s.onreadystatechange = s.onload = function() {\n",
       "        root._bokeh_is_loading--;\n",
       "        if (root._bokeh_is_loading === 0) {\n",
       "          console.log(\"Bokeh: all BokehJS libraries loaded\");\n",
       "          run_callbacks()\n",
       "        }\n",
       "      };\n",
       "      s.onerror = function() {\n",
       "        console.warn(\"failed to load library \" + url);\n",
       "      };\n",
       "      console.log(\"Bokeh: injecting script tag for BokehJS library: \", url);\n",
       "      document.getElementsByTagName(\"head\")[0].appendChild(s);\n",
       "    }\n",
       "  };var element = document.getElementById(\"9037d25b-50eb-42c7-afe3-13f759115a33\");\n",
       "  if (element == null) {\n",
       "    console.log(\"Bokeh: ERROR: autoload.js configured with elementid '9037d25b-50eb-42c7-afe3-13f759115a33' but no matching script tag was found. \")\n",
       "    return false;\n",
       "  }\n",
       "\n",
       "  var js_urls = [\"https://cdn.pydata.org/bokeh/release/bokeh-0.12.10.min.js\", \"https://cdn.pydata.org/bokeh/release/bokeh-widgets-0.12.10.min.js\", \"https://cdn.pydata.org/bokeh/release/bokeh-tables-0.12.10.min.js\", \"https://cdn.pydata.org/bokeh/release/bokeh-gl-0.12.10.min.js\"];\n",
       "\n",
       "  var inline_js = [\n",
       "    function(Bokeh) {\n",
       "      Bokeh.set_log_level(\"info\");\n",
       "    },\n",
       "    \n",
       "    function(Bokeh) {\n",
       "      \n",
       "    },\n",
       "    function(Bokeh) {\n",
       "      console.log(\"Bokeh: injecting CSS: https://cdn.pydata.org/bokeh/release/bokeh-0.12.10.min.css\");\n",
       "      Bokeh.embed.inject_css(\"https://cdn.pydata.org/bokeh/release/bokeh-0.12.10.min.css\");\n",
       "      console.log(\"Bokeh: injecting CSS: https://cdn.pydata.org/bokeh/release/bokeh-widgets-0.12.10.min.css\");\n",
       "      Bokeh.embed.inject_css(\"https://cdn.pydata.org/bokeh/release/bokeh-widgets-0.12.10.min.css\");\n",
       "      console.log(\"Bokeh: injecting CSS: https://cdn.pydata.org/bokeh/release/bokeh-tables-0.12.10.min.css\");\n",
       "      Bokeh.embed.inject_css(\"https://cdn.pydata.org/bokeh/release/bokeh-tables-0.12.10.min.css\");\n",
       "    }\n",
       "  ];\n",
       "\n",
       "  function run_inline_js() {\n",
       "    \n",
       "    if ((root.Bokeh !== undefined) || (force === true)) {\n",
       "      for (var i = 0; i < inline_js.length; i++) {\n",
       "        inline_js[i].call(root, root.Bokeh);\n",
       "      }if (force === true) {\n",
       "        display_loaded();\n",
       "      }} else if (Date.now() < root._bokeh_timeout) {\n",
       "      setTimeout(run_inline_js, 100);\n",
       "    } else if (!root._bokeh_failed_load) {\n",
       "      console.log(\"Bokeh: BokehJS failed to load within specified timeout.\");\n",
       "      root._bokeh_failed_load = true;\n",
       "    } else if (force !== true) {\n",
       "      var cell = $(document.getElementById(\"9037d25b-50eb-42c7-afe3-13f759115a33\")).parents('.cell').data().cell;\n",
       "      cell.output_area.append_execute_result(NB_LOAD_WARNING)\n",
       "    }\n",
       "\n",
       "  }\n",
       "\n",
       "  if (root._bokeh_is_loading === 0) {\n",
       "    console.log(\"Bokeh: BokehJS loaded, going straight to plotting\");\n",
       "    run_inline_js();\n",
       "  } else {\n",
       "    load_libs(js_urls, function() {\n",
       "      console.log(\"Bokeh: BokehJS plotting callback run at\", now());\n",
       "      run_inline_js();\n",
       "    });\n",
       "  }\n",
       "}(window));"
      ],
      "application/vnd.bokehjs_load.v0+json": "\n(function(root) {\n  function now() {\n    return new Date();\n  }\n\n  var force = true;\n\n  if (typeof (root._bokeh_onload_callbacks) === \"undefined\" || force === true) {\n    root._bokeh_onload_callbacks = [];\n    root._bokeh_is_loading = undefined;\n  }\n\n  \n\n  \n  if (typeof (root._bokeh_timeout) === \"undefined\" || force === true) {\n    root._bokeh_timeout = Date.now() + 5000;\n    root._bokeh_failed_load = false;\n  }\n\n  var NB_LOAD_WARNING = {'data': {'text/html':\n     \"<div style='background-color: #fdd'>\\n\"+\n     \"<p>\\n\"+\n     \"BokehJS does not appear to have successfully loaded. If loading BokehJS from CDN, this \\n\"+\n     \"may be due to a slow or bad network connection. Possible fixes:\\n\"+\n     \"</p>\\n\"+\n     \"<ul>\\n\"+\n     \"<li>re-rerun `output_notebook()` to attempt to load from CDN again, or</li>\\n\"+\n     \"<li>use INLINE resources instead, as so:</li>\\n\"+\n     \"</ul>\\n\"+\n     \"<code>\\n\"+\n     \"from bokeh.resources import INLINE\\n\"+\n     \"output_notebook(resources=INLINE)\\n\"+\n     \"</code>\\n\"+\n     \"</div>\"}};\n\n  function display_loaded() {\n    var el = document.getElementById(\"9037d25b-50eb-42c7-afe3-13f759115a33\");\n    if (el != null) {\n      el.textContent = \"BokehJS is loading...\";\n    }\n    if (root.Bokeh !== undefined) {\n      if (el != null) {\n        el.textContent = \"BokehJS \" + root.Bokeh.version + \" successfully loaded.\";\n      }\n    } else if (Date.now() < root._bokeh_timeout) {\n      setTimeout(display_loaded, 100)\n    }\n  }\n\n\n  function run_callbacks() {\n    try {\n      root._bokeh_onload_callbacks.forEach(function(callback) { callback() });\n    }\n    finally {\n      delete root._bokeh_onload_callbacks\n    }\n    console.info(\"Bokeh: all callbacks have finished\");\n  }\n\n  function load_libs(js_urls, callback) {\n    root._bokeh_onload_callbacks.push(callback);\n    if (root._bokeh_is_loading > 0) {\n      console.log(\"Bokeh: BokehJS is being loaded, scheduling callback at\", now());\n      return null;\n    }\n    if (js_urls == null || js_urls.length === 0) {\n      run_callbacks();\n      return null;\n    }\n    console.log(\"Bokeh: BokehJS not loaded, scheduling load and callback at\", now());\n    root._bokeh_is_loading = js_urls.length;\n    for (var i = 0; i < js_urls.length; i++) {\n      var url = js_urls[i];\n      var s = document.createElement('script');\n      s.src = url;\n      s.async = false;\n      s.onreadystatechange = s.onload = function() {\n        root._bokeh_is_loading--;\n        if (root._bokeh_is_loading === 0) {\n          console.log(\"Bokeh: all BokehJS libraries loaded\");\n          run_callbacks()\n        }\n      };\n      s.onerror = function() {\n        console.warn(\"failed to load library \" + url);\n      };\n      console.log(\"Bokeh: injecting script tag for BokehJS library: \", url);\n      document.getElementsByTagName(\"head\")[0].appendChild(s);\n    }\n  };var element = document.getElementById(\"9037d25b-50eb-42c7-afe3-13f759115a33\");\n  if (element == null) {\n    console.log(\"Bokeh: ERROR: autoload.js configured with elementid '9037d25b-50eb-42c7-afe3-13f759115a33' but no matching script tag was found. \")\n    return false;\n  }\n\n  var js_urls = [\"https://cdn.pydata.org/bokeh/release/bokeh-0.12.10.min.js\", \"https://cdn.pydata.org/bokeh/release/bokeh-widgets-0.12.10.min.js\", \"https://cdn.pydata.org/bokeh/release/bokeh-tables-0.12.10.min.js\", \"https://cdn.pydata.org/bokeh/release/bokeh-gl-0.12.10.min.js\"];\n\n  var inline_js = [\n    function(Bokeh) {\n      Bokeh.set_log_level(\"info\");\n    },\n    \n    function(Bokeh) {\n      \n    },\n    function(Bokeh) {\n      console.log(\"Bokeh: injecting CSS: https://cdn.pydata.org/bokeh/release/bokeh-0.12.10.min.css\");\n      Bokeh.embed.inject_css(\"https://cdn.pydata.org/bokeh/release/bokeh-0.12.10.min.css\");\n      console.log(\"Bokeh: injecting CSS: https://cdn.pydata.org/bokeh/release/bokeh-widgets-0.12.10.min.css\");\n      Bokeh.embed.inject_css(\"https://cdn.pydata.org/bokeh/release/bokeh-widgets-0.12.10.min.css\");\n      console.log(\"Bokeh: injecting CSS: https://cdn.pydata.org/bokeh/release/bokeh-tables-0.12.10.min.css\");\n      Bokeh.embed.inject_css(\"https://cdn.pydata.org/bokeh/release/bokeh-tables-0.12.10.min.css\");\n    }\n  ];\n\n  function run_inline_js() {\n    \n    if ((root.Bokeh !== undefined) || (force === true)) {\n      for (var i = 0; i < inline_js.length; i++) {\n        inline_js[i].call(root, root.Bokeh);\n      }if (force === true) {\n        display_loaded();\n      }} else if (Date.now() < root._bokeh_timeout) {\n      setTimeout(run_inline_js, 100);\n    } else if (!root._bokeh_failed_load) {\n      console.log(\"Bokeh: BokehJS failed to load within specified timeout.\");\n      root._bokeh_failed_load = true;\n    } else if (force !== true) {\n      var cell = $(document.getElementById(\"9037d25b-50eb-42c7-afe3-13f759115a33\")).parents('.cell').data().cell;\n      cell.output_area.append_execute_result(NB_LOAD_WARNING)\n    }\n\n  }\n\n  if (root._bokeh_is_loading === 0) {\n    console.log(\"Bokeh: BokehJS loaded, going straight to plotting\");\n    run_inline_js();\n  } else {\n    load_libs(js_urls, function() {\n      console.log(\"Bokeh: BokehJS plotting callback run at\", now());\n      run_inline_js();\n    });\n  }\n}(window));"
     },
     "metadata": {},
     "output_type": "display_data"
    }
   ],
   "source": [
    "from bokeh.models import ColumnDataSource, LabelSet\n",
    "from bokeh.plotting import figure, show, output_file\n",
    "from bokeh.io import output_notebook\n",
    "import bokeh\n",
    "output_notebook()\n"
   ]
  },
  {
   "cell_type": "code",
   "execution_count": 19,
   "metadata": {},
   "outputs": [
    {
     "data": {
      "text/html": [
       "\n",
       "<div class=\"bk-root\">\n",
       "    <div class=\"bk-plotdiv\" id=\"5592727a-0ba6-47ae-987b-7b1a01b000b2\"></div>\n",
       "</div>"
      ]
     },
     "metadata": {},
     "output_type": "display_data"
    },
    {
     "data": {
      "application/javascript": [
       "(function(root) {\n",
       "  function embed_document(root) {\n",
       "    var docs_json = {\"cad659bf-8d4b-42ce-8683-a1ec96fd53fa\":{\"roots\":{\"references\":[{\"attributes\":{},\"id\":\"c799a548-aa48-46a6-a102-f3403db42687\",\"type\":\"SaveTool\"},{\"attributes\":{},\"id\":\"4437686f-b9da-417b-86fa-a794b1eeb3e0\",\"type\":\"WheelZoomTool\"},{\"attributes\":{},\"id\":\"2219c9ad-1839-4580-ad65-64bda8a1deb3\",\"type\":\"BasicTickFormatter\"},{\"attributes\":{\"fill_alpha\":{\"value\":0.1},\"fill_color\":{\"value\":\"#1f77b4\"},\"line_alpha\":{\"value\":0.1},\"line_color\":{\"value\":\"#1f77b4\"},\"size\":{\"units\":\"screen\",\"value\":8},\"x\":{\"field\":\"x1\"},\"y\":{\"field\":\"x2\"}},\"id\":\"763badba-9c6e-4972-9f49-bab7fa77048e\",\"type\":\"Circle\"},{\"attributes\":{\"plot\":{\"id\":\"a6562a8a-d058-4d2c-b0e1-fc2764b9a182\",\"subtype\":\"Figure\",\"type\":\"Plot\"},\"ticker\":{\"id\":\"40d803c5-98c2-49eb-8c0f-418b1ec7c2ea\",\"type\":\"BasicTicker\"}},\"id\":\"677a9f5a-c926-49a8-ba1b-ff2b8f354ab7\",\"type\":\"Grid\"},{\"attributes\":{\"below\":[{\"id\":\"d11d7d7a-1395-4faf-9ec4-42bd9e18d403\",\"type\":\"LinearAxis\"}],\"left\":[{\"id\":\"7dc517ae-486f-4dd4-8dd5-dc1f6173ada6\",\"type\":\"LinearAxis\"}],\"plot_height\":900,\"plot_width\":900,\"renderers\":[{\"id\":\"d11d7d7a-1395-4faf-9ec4-42bd9e18d403\",\"type\":\"LinearAxis\"},{\"id\":\"677a9f5a-c926-49a8-ba1b-ff2b8f354ab7\",\"type\":\"Grid\"},{\"id\":\"7dc517ae-486f-4dd4-8dd5-dc1f6173ada6\",\"type\":\"LinearAxis\"},{\"id\":\"e727a292-8f78-4a6a-b024-fe8e70da6cc6\",\"type\":\"Grid\"},{\"id\":\"a8ec7cc3-34fc-44e3-9d92-9e2ed19998c2\",\"type\":\"GlyphRenderer\"},{\"id\":\"33cdf1ab-77c4-4f84-a610-225aeb26dbcc\",\"type\":\"LabelSet\"}],\"title\":{\"id\":\"37081932-0bb0-4beb-9a9e-fbeb9113d13e\",\"type\":\"Title\"},\"toolbar\":{\"id\":\"774c829e-0783-4b13-8615-aa2c5a668805\",\"type\":\"Toolbar\"},\"toolbar_location\":\"above\",\"x_range\":{\"id\":\"6d6f06f8-68dd-4d1b-9f88-acf64df772f0\",\"type\":\"DataRange1d\"},\"x_scale\":{\"id\":\"05759a56-6d79-4973-b97f-3215b1b2fbb3\",\"type\":\"LinearScale\"},\"y_range\":{\"id\":\"e9110759-bced-45dc-bad7-060de2654d49\",\"type\":\"DataRange1d\"},\"y_scale\":{\"id\":\"7b6de32b-d8cd-43e0-a8c9-767e42776eff\",\"type\":\"LinearScale\"}},\"id\":\"a6562a8a-d058-4d2c-b0e1-fc2764b9a182\",\"subtype\":\"Figure\",\"type\":\"Plot\"},{\"attributes\":{},\"id\":\"663d6e9f-783c-4183-a177-de9bbcf8bbd0\",\"type\":\"BasicTicker\"},{\"attributes\":{\"plot\":{\"id\":\"a6562a8a-d058-4d2c-b0e1-fc2764b9a182\",\"subtype\":\"Figure\",\"type\":\"Plot\"},\"source\":{\"id\":\"f3b6395e-78cd-49b7-ac02-97ee78882326\",\"type\":\"ColumnDataSource\"},\"text\":{\"field\":\"names\"},\"text_align\":\"center\",\"text_color\":{\"value\":\"#555555\"},\"text_font_size\":{\"value\":\"8pt\"},\"x\":{\"field\":\"x1\"},\"y\":{\"field\":\"x2\"},\"y_offset\":{\"value\":6}},\"id\":\"33cdf1ab-77c4-4f84-a610-225aeb26dbcc\",\"type\":\"LabelSet\"},{\"attributes\":{\"dimension\":1,\"plot\":{\"id\":\"a6562a8a-d058-4d2c-b0e1-fc2764b9a182\",\"subtype\":\"Figure\",\"type\":\"Plot\"},\"ticker\":{\"id\":\"663d6e9f-783c-4183-a177-de9bbcf8bbd0\",\"type\":\"BasicTicker\"}},\"id\":\"e727a292-8f78-4a6a-b024-fe8e70da6cc6\",\"type\":\"Grid\"},{\"attributes\":{\"fill_color\":{\"value\":\"#1f77b4\"},\"line_color\":{\"value\":\"#1f77b4\"},\"size\":{\"units\":\"screen\",\"value\":8},\"x\":{\"field\":\"x1\"},\"y\":{\"field\":\"x2\"}},\"id\":\"7fd3657f-890c-4fed-bcb0-17d47cd1a9dd\",\"type\":\"Circle\"},{\"attributes\":{\"callback\":null,\"column_names\":[\"x1\",\"x2\",\"names\"],\"data\":{\"names\":[\"</s>\",\"cid\",\"rio\",\"petrobras\",\"sao\",\"bacia\",\"janeiro\",\"nao\",\"ser\",\"formacao\",\"fig\",\"area\",\"petroleo\",\"producao\",\"figura\",\"agua\",\"gas\",\"oleo\",\"dados\",\"tambem\",\"ate\",\"sistema\",\"pode\",\"onde\",\"cao\",\"forma\",\"maior\",\"tempo\",\"parte\",\"grande\",\"pressao\",\"analise\",\"geologia\",\"bacias\",\"facies\",\"base\",\"campo\",\"pocos\",\"ja\",\"cada\",\"unidade\",\"brasil\",\"tipo\",\"superior\",\"processo\",\"valores\",\"campos\",\"sul\",\"trabalho\",\"bem\",\"caso\",\"zona\",\"temperatura\",\"co\",\"sendo\",\"secao\",\"basin\",\"resultados\",\"fase\",\"rochas\",\"dois\",\"partir\",\"condicoes\",\"atraves\",\"\\u00b7\",\"estudo\",\"total\",\"regiao\",\"inferior\",\"ainda\",\"sequencia\",\"desenvolvimento\",\"arenitos\",\"assim\",\"tabela\",\"metodo\",\"sedimentos\",\"duas\",\"ponto\",\"relacao\",\"modelo\",\"areas\",\"pro\",\"podem\",\"continental\",\"exploracao\",\"numero\",\"mar\",\"tres\",\"alem\",\"valor\",\"neste\",\"projeto\",\"mente\",\"plataforma\",\"jan\",\"outros\",\"topo\",\"paulo\",\"universidade\",\"apos\",\"mento\",\"unidades\",\"norte\",\"pesquisa\",\"segundo\",\"falhas\",\"sistemas\",\"cenpes\",\"deste\",\"figure\",\"pesquisas\",\"nivel\",\"estudos\",\"geral\",\"grupo\",\"operacao\",\"espessura\",\"meio\",\"ca\",\"idade\",\"parana\",\"ai\",\"santos\",\"desta\",\"distribuicao\",\"amostras\",\"longo\",\"apenas\",\"anos\",\"estao\",\"carga\",\"reservatorios\",\"intervalo\",\"funcao\",\"superficie\",\"ar\",\"fluxo\",\"li\",\"km\",\"processos\",\"equacao\",\"deve\",\"material\",\"media\",\"evolucao\",\"centro\",\"volume\",\"uso\",\"medio\",\"ocorrencia\",\"\\u00b0c\",\"brasileira\",\"alguns\",\"pe\",\"presenca\",\"alta\",\"alto\",\"possivel\",\"linha\",\"new\",\"direcao\",\"vez\",\"exemplo\",\"depositos\",\"po\",\"devido\",\"apresenta\",\"engenharia\",\"cm\",\"geology\",\"trabalhos\",\"principais\",\"outro\",\"ter\",\"folhelhos\",\"boletim\",\"corrosao\",\"tal\",\"final\",\"sob\",\"velocidade\",\"quanto\",\"maio\",\"jose\",\"outras\",\"solucao\",\"sido\",\"estrutura\",\"margem\",\"tais\",\"petroleum\",\"divisao\",\"limite\",\"acima\",\"peso\",\"densidade\",\"cerca\",\"menos\",\"diferentes\",\"porcao\",\"entao\",\"caracteristicas\",\"membro\",\"energia\",\"hidrocarbonetos\",\"sp\",\"sera\",\"mesma\",\"sedimentacao\",\"controle\",\"obtidos\",\"aumento\",\"tecnico\",\"jul\",\"profundidade\",\"aguas\",\"amostra\",\"ordem\",\"quais\",\"pois\",\"geociencias\",\"ocorre\",\"reconcavo\",\"oil\",\"data\",\"departamento\",\"metodos\",\"menor\",\"sequencias\",\"sergipe\",\"ambiente\",\"estruturas\",\"perfuracao\",\"programa\",\"vazao\",\"modo\",\"falha\",\"tecnica\",\"reservatorio\",\"tecnologia\",\"aplicacao\",\"mo\",\"industrial\",\"tos\",\"faixa\",\"refinaria\",\"camadas\",\"alagoas\",\"central\",\"formation\",\"dentro\",\"mm\",\"zonas\",\"setor\",\"baixo\",\"fluido\",\"fi\",\"ano\",\"des\",\"deposicao\",\"brasileiro\",\"bahia\",\"produtos\",\"efeito\",\"sedimentares\",\"sedimentar\",\"federal\",\"lado\",\"porosidade\",\"embasamento\",\"primeiro\",\"pouco\",\"abr\",\"principal\",\"rocha\",\"avaliacao\",\"fator\",\"mapa\",\"dade\",\"brazil\",\"principalmente\",\"regional\",\"algumas\",\"qualidade\",\"seguintes\",\"importante\",\"primeira\",\"estrutural\",\"calculo\",\"vista\",\"arenito\",\"mistura\",\"inicio\",\"pontos\",\"nacional\",\"estratigrafica\",\"coes\",\"teor\",\"costa\",\"fato\",\"melhor\",\"vapor\",\"utilizacao\",\"interpretacao\",\"aqui\",\"fundo\",\"presente\",\"metros\",\"nova\",\"periodo\",\"natural\",\"teste\",\"conjunto\",\"coluna\",\"tipos\",\"baixa\",\"todas\",\"portanto\",\"leste\",\"formacoes\",\"grandes\",\"tratamento\",\"diversos\",\"laboratorio\",\"correlacao\",\"apresentam\",\"determinacao\",\"ocorrem\",\"vertical\",\"silva\",\"nesta\",\"ra\",\"atividade\",\"pa\",\"porem\",\"elementos\",\"vezes\",\"cretaceo\",\"escala\",\"problema\",\"conforme\",\"tectonica\",\"maiores\",\"contato\",\"composicao\",\"variacao\",\"embora\",\"rifte\",\"fluidos\",\"autores\",\"parametros\",\"testes\",\"informacoes\",\"analises\",\"permeabilidade\",\"qualquer\",\"problemas\",\"cos\",\"custo\",\"potencial\",\"etc\",\"razao\",\"linhas\",\"mostra\",\"comportamento\",\"entretanto\",\"casos\",\"diametro\",\"origem\",\"produto\",\"influencia\",\"bastante\",\"atividades\",\"devem\",\"secoes\",\"santo\",\"taxa\",\"concentracao\",\"propriedades\",\"cabo\",\"curso\",\"injecao\",\"relatorio\",\"acordo\",\"serra\",\"equipamentos\",\"projetos\",\"si\",\"res\",\"gases\",\"dessa\",\"perfis\",\"curva\",\"objetivo\",\"ta\",\"toda\",\"oleos\",\"materiais\",\"varios\",\"di\",\"tendo\",\"geological\",\"sismica\",\"quantidade\",\"sempre\",\"enquanto\",\"well\",\"basins\",\"tecnicas\",\"pre\",\"aco\",\"manutencao\",\"tes\",\"quatro\",\"per\",\"modelos\",\"foto\",\"padrao\",\"atual\",\"bom\",\"perfil\",\"quimica\",\"recuperacao\",\"fatores\",\"fim\",\"estratigrafia\",\"introducao\",\"seismic\",\"abstract\",\"niveis\",\"carbono\",\"cor\",\"dia\",\"tubos\",\"inicial\",\"catalisador\",\"ro\",\"nov\",\"york\",\"serem\",\"capacidade\",\"materia\",\"antonio\",\"fonte\",\"local\",\"somente\",\"serie\",\"necessario\",\"cia\",\"posicao\",\"normal\",\"viscosidade\",\"tecnicos\",\"calor\",\"fm\",\"constante\",\"pais\",\"massa\",\"grau\",\"potiguar\",\"curvas\",\"reducao\",\"desses\",\"maximo\",\"originais\",\"amazonas\",\"filho\",\"geracao\",\"analysis\",\"destes\",\"serao\",\"nordeste\",\"industria\",\"maxima\",\"boa\",\"outra\",\"research\",\"oeste\",\"vem\",\"organica\",\"podese\",\"diversas\",\"figs\",\"corrente\",\"espirito\",\"ba\",\"lama\",\"ne\",\"deformacao\",\"quase\",\"geologico\",\"comprimento\",\"importancia\",\"eventos\",\"resistencia\",\"american\",\"testemunhos\",\"tensao\",\"inspecao\",\"autor\",\"graos\",\"variacoes\",\"calcarios\",\"va\",\"sedimentary\",\"ex\",\"fases\",\"gasolina\",\"recursos\",\"original\",\"section\",\"minerais\",\"desse\",\"rift\",\"carlos\",\"iv\",\"sal\",\"abaixo\",\"empresa\",\"tamanho\",\"medida\",\"liquido\",\"componentes\",\"permite\",\"discordancia\",\"equacoes\",\"temperaturas\",\"francisco\",\"deposicional\",\"frequencia\",\"diesel\",\"acao\",\"xisto\",\"novas\",\"ver\",\"petro\",\"folhelho\",\"feita\",\"representa\",\"atualmente\",\"simples\",\"planejamento\",\"aproximadamente\",\"camada\",\"acido\",\"transporte\",\"consumo\",\"associacao\",\"resultado\",\"oi\",\"informacao\",\"registro\",\"custos\",\"separacao\",\"resolucao\",\"coordenador\",\"demais\",\"vi\",\"kg\",\"borda\",\"conhecimento\",\"indice\",\"fontes\",\"varias\",\"espaco\",\"andar\",\"sequence\",\"geologica\",\"termica\",\"perda\",\"tubo\",\"novo\",\"tulsa\",\"interno\",\"joao\",\"society\",\"horizontal\",\"seguinte\",\"neto\",\"processamento\",\"estagio\",\"cimento\",\"caracterizacao\",\"aspectos\",\"situacao\",\"plano\",\"dias\",\"descricao\",\"south\",\"natureza\",\"terra\",\"utilizado\",\"corpo\",\"coeficiente\",\"variaveis\",\"geometria\",\"importantes\",\"matriz\",\"ppm\",\"mentos\",\"seguir\",\"maneira\",\"dimensoes\",\"estruturais\",\"feicoes\",\"system\",\"souza\",\"stratigraphic\",\"finos\",\"resumo\",\"alii\",\"termos\",\"university\",\"igual\",\"extensao\",\"mg\",\"relativa\",\"regioes\",\"intervalos\",\"luiz\",\"referencia\",\"possui\",\"mapas\",\"quadro\",\"rocks\",\"transferencia\",\"brazilian\",\"comparacao\",\"apesar\",\"localizacao\",\"sa\",\"flow\",\"time\",\"journal\",\"evento\",\"utilizados\",\"argila\",\"also\",\"corresponde\",\"instituto\",\"dado\",\"pes\",\"destas\",\"oliveira\",\"testemunho\",\"cas\",\"tendencia\",\"servicos\",\"lateral\",\"construcao\",\"necessidade\",\"af\",\"sergipealagoas\",\"deposicionais\",\"recebidos\",\"seguranca\",\"diferenca\",\"respectivamente\",\"epoca\",\"marco\",\"limites\",\"companhia\",\"ci\",\"marinha\",\"existencia\",\"novos\",\"brasileiras\",\"medidas\",\"especies\",\"fracao\",\"cretaceous\",\"maioria\",\"efeitos\",\"alves\",\"grafico\",\"tucano\",\"carbonatos\",\"membrana\",\"dagua\",\"orgao\",\"compostos\",\"high\",\"especial\",\"mineral\",\"pos\",\"bloco\",\"relativamente\",\"ciclo\",\"enxofre\",\"study\",\"servico\",\"obtidas\",\"canais\",\"sismicas\",\"destilacao\",\"field\",\"carater\",\"torno\",\"profundas\",\"cuja\",\"interior\",\"combustivel\",\"salvador\",\"subsidencia\",\"areia\",\"raios\",\"entrada\",\"dessas\",\"operacoes\",\"api\",\"nesse\",\"maria\",\"obtencao\",\"correntes\",\"figuras\",\"indica\",\"two\",\"conclusoes\",\"reacao\",\"corte\",\"model\",\"tanques\",\"anterior\",\"poros\",\"geologicos\",\"disso\",\"horas\",\"pequena\",\"hoje\",\"amplitude\",\"corpos\",\"obter\",\"evolution\",\"segunda\",\"entanto\",\"albiano\",\"cursos\",\"definicao\",\"eixo\",\"marinho\",\"figo\",\"carvao\",\"presentes\",\"blocos\",\"taxas\",\"instalacao\",\"minimo\",\"vida\",\"esquema\",\"marine\",\"refinacao\",\"offshore\",\"df\",\"historia\",\"congresso\",\"obtido\",\"santa\",\"normalmente\",\"water\",\"sociedade\",\"im\",\"mestrado\",\"escola\",\"afloramentos\",\"texto\",\"cinco\",\"artigo\",\"barra\",\"geralmente\",\"objetivos\",\"tra\",\"angulo\",\"obtida\",\"mostram\",\"association\",\"existentes\",\"relacoes\",\"indicam\",\"dada\",\"first\",\"provavelmente\",\"associados\",\"revisao\",\"america\",\"reator\",\"paises\",\"alberto\",\"cal\",\"par\",\"macao\",\"ostracodes\",\"procedimento\",\"conta\",\"fino\",\"atlantico\",\"interesse\",\"inter\",\"usado\",\"aspecto\",\"torre\",\"dis\",\"alcool\",\"devera\",\"fe\",\"altos\",\"interna\",\"tion\",\"porto\",\"\\u2022\\u2022\",\"junto\",\"lower\",\"pressoes\",\"equipamento\",\"based\",\"course\",\"integracao\",\"formado\",\"argilas\",\"\\u00b1\",\"cc\",\"formas\",\"modelagem\",\"contem\",\"map\",\"pessoal\",\"menores\",\"structural\",\"nessa\",\"fazer\",\"estratigrafico\",\"proximo\",\"lamina\",\"real\",\"mb\",\"ultima\",\"tese\",\"part\",\"ph\",\"literatura\",\"pol\",\"especie\",\"identificacao\",\"tensoes\",\"tectonic\",\"ciclos\",\"sudeste\",\"mercado\",\"grupos\",\"fluxos\",\"apresentados\",\"classificacao\",\"geo\",\"referencias\",\"cf\",\"momento\",\"quartzo\",\"tanque\",\"cidade\",\"apoio\",\"possibilidade\",\"global\",\"upper\",\"apresentado\",\"one\",\"altura\",\"geologists\",\"contexto\",\"gerais\",\"cp\",\"systems\",\"item\",\"consiste\",\"candeias\",\"fo\",\"margin\",\"tracos\",\"feito\",\"observacoes\",\"escoamento\",\"sismicos\",\"derivados\",\"crescimento\",\"levantamento\",\"log\",\"regime\",\"io\",\"protecao\",\"forte\",\"tao\",\"genero\",\"nome\",\"devese\",\"ram\",\"car\",\"hidrogenio\",\"ciencias\",\"ponta\",\"preto\",\"contudo\",\"min\",\"espessuras\",\"bibliograficas\",\"versus\",\"tecnologica\",\"ia\",\"fa\",\"papel\",\"diretamente\",\"etapa\",\"ambientes\",\"experiencia\",\"racao\",\"mos\",\"revista\",\"primeiros\",\"saida\",\"chemical\",\"pratica\",\"geoquimica\",\"altas\",\"arcabouco\",\"termo\",\"reservoir\",\"coque\",\"praticamente\",\"fernando\",\"ana\",\"eo\",\"ambos\",\"psi\",\"gama\",\"eficiencia\",\"basal\",\"podera\",\"martins\",\"cinza\",\"agora\",\"deslocamento\",\"ensaios\",\"fluvial\",\"realizados\",\"associacoes\",\"earth\",\"sandstones\",\"fina\",\"ilha\",\"anexo\",\"calha\",\"programas\",\"secretariaexecutiva\",\"ceara\",\"distancia\",\"exploration\",\"tec\",\"pacote\",\"misturas\",\"seis\",\"tam\",\"sedi\",\"orgaos\",\"ri\",\"engineering\",\"oxigenio\",\"expressao\",\"existe\",\"rios\",\"du\",\"mesmos\",\"sediments\",\"permeacao\",\"observado\",\"solda\",\"existem\",\"mello\",\"posteriormente\",\"logo\",\"bras\",\"observase\",\"used\",\"dominio\",\"varia\",\"development\",\"alegre\",\"migracao\",\"diagrama\",\"particulas\",\"solucoes\",\"lima\",\"correspondente\",\"utilizada\",\"barris\",\"br\",\"partes\",\"vale\",\"locais\",\"mudanca\",\"pedro\",\"eoceno\",\"amostragem\"],\"x1\":{\"__ndarray__\":\"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\",\"dtype\":\"float32\",\"shape\":[1000]},\"x2\":{\"__ndarray__\":\"AMorwQRlmsGp26TB2aqxweRfssFME0RA00KkwctEdr/hvybB8+6UwaRHV8Cjof/A3PzHwXpKvUHTDCs/ATYMQZONw8EzAf5AA2yZQZ6IFsAkFBNBroxMQakWIsHfBRNAkFz0QSxFvbzoFTtBx8GrwGNwZ8D7sETAPVRJQYeA1kEedKnB3HA0QJES6kAlWx9BXu55QFCDpMHI4jO+F2JfwIhYm0GEJ9nBw+IqQLu0okFXjZxBHJy5PylXtcCybiVAQ1kOP+q5I0CHmMs/oe7+QSxvO0GgKwTBUYVZQPMyjUGK+q3BOzuOQVRGDkKjejzAkHdVwXVTi0A0k2u/wKO2QOvvBcHnXjtA5kVDwZKLnkCLYKFBPsWUv2lmbUFUZfzBgV4fQuG47j6FJRi/0jScQfEAIUEVynPBSIeUwdHdBUHnLxHAn6AAwVG4z8GRbq7BkxM5QKN40sHx17dAqm8UwnplbMG3+ZLADcksQUB2mL9GCAHCnOafQOHij0CPQpXB7kk7wYEhpkGdG7nB+czvwWsVPcEfvETBwHybQXSRHUAXJv7BYGIav6kfu0H6uk5BKXD5wU40LMCf6uHB7O77wdoXh0FE2BlAO4rgQJrTA0Lh6LZB3fZzQU/Fw0C7CYHAECCUwbbQoD03aCbBRz6XwEZsrsAr5OtBud38QbYa90DK6jq/hw5uwdSJ3EBGny9BLkQSQs62cEH61AlB2AKowHChusEh8bpAs2cewUG1R0F/vJhBv+CqQcpxFMFyIs/BeW9aQYKMYcGMROzBXT9fwdvOyUEP0K1B0cwoQcbbBcHF7erBgNgawUaK0MFAMuhAtA/WQfCm7EGJd8LAkLeIwfDblMHEeV5BoIZEvnXD1z90+SdBDYodQLS/CkB7+lBBLnjjwb6CmkGw+sDBlueRP66fEsFI7pO/pzolwVNgI0LImxLCwLdyQY8uIsG/DT/Bsdu5wUJZDEEt/+4/kAIbwWp2J8IKC3vB3hfTQUPhD0BFA6lBsMRsQFqY6cBsJ6zBNU/hwZKezUFaLQpBRjSTQXkpFEGo0zNB/S7XQDAQTcGmY4VAVhCUP4SqeL9nt6XBsmtUwSfMdkHx9pNAu20AQA5Le8Axmg9BvxskwIoRkkHa+LdB3uoQwuvkkMHpEF9BLZDbwcK8/0GbYAxBo0oBwfDFhL5fVv7B+OwsQUAaM8C99a/BAFtfwWmu4MEGL5tByUk9QRNXbEF4PAvAPo7zweJiokEkQqTBHIkQwrjjYEGJXMA/HXC7QbqL2UFIIxJCGV/vwTQdwUGWUshAGELhwWclUsF4ChhBmkPcwcNggEEDMBPAPe4gweNEy8Gju7E+tr+SQdL8/kFdcOLBc2vsQfkq7UBPpbnA+oV4wYaQ4sD9FxFBbBjmwQ4Kxb47cZJAvwuGQJty4EAezfxAv2jrwRz9gr9lughC9dkEQVqMBMEvVHxAh/iOwciaBcHjhyrAPqrMQW8tlUDWdxFAd0yOQV4/p8GEfUzAMKrewCL1fMEWnpFBg+KzwLMvqMBXPeLAFXOkQed7rUGXBqDBFYkjQhINAUHMrj3BzjeTwbgA18EVxINBM/n6QSnppkEaybtA3HgUwGRdH8BHZ2FBZrfDQYWtwUFgsdS+qdyGQc9K7z4TklNBQPnUwKtAW8HwscPB8ViCQSwXHsHRk6NBudY2weOe1UEyNGvBDTBDP6P9xUCKTZbBootlwS9TpUFYfinBZfrHQMIUx0GBl1JBy9O1Qaj5MEFx6ExBMBo2wuH+k8AFRYHBks34QGFXGcEySSo+YLaNvk7+xEBe35BBLfwkwd6Yx0E1V+4+2jgOQdf4asG2GvDATvgQQTDeAEFRY36/853HwJTx50CYaEvBdrMxQH2ggkEYLe1B51TaQVxMCEIFpbG/6cLGQY7Rs0B7KoHAQL3UQUcG0cCcoGxB1MCIwYojTUHRIkJAjazcv1kzBb/U5odB4enMP9j3jUCCIKRA85BbQGTu+EBVsK/BVUiRQUJ2RsDkIgtCx7a2QdYvbb/I8UBAZ8YNwmFAykEkJQTC4g2JvbPjNMI0NtI/h2wAwtTzrsHEaH3B6GpwQSlXscCa9KvBnIsiwSW64MBah4vBIfJGwPiz00D7jc3BzwMiwdAfq8FzC05AW+DFwbKMqEG9cXdBuB0yP8dbk0DrStHB36OpwZRt2UFNzxDBRCyRQIr1K7/8ZEzBnMlywTMI1cFVrA7AkeY5QWUqM0EOTSDABpnjv6yXq8Gnd8pBik7GQdb3cUCbqYXAkt6BQbkXxT4vc9XBiHHywXgarUBIlHRBUgUJQJkYFkJN3ZxArXU1wXy+nEEQEnPB2tuJwYiMkcGuxbLB3sO7QUIj1cFkeSfCTBx3wVpXTcHhvtq/eXA3wYLJqcBKIR1BjW73QZBHCsED7BVBxDMQwmoHGEHz85fBUiUPQbshvMH6qSFB5SCZQZd6aMC0pSLBvJK1QQ0R/cDtSlxBx9+AwX1Xfj+sTT3CMtvdQRIt1sHmEvXA2haowaLChUAYYuHBlU9kQW1NC8Bx2aHA246nwTSd0EA3Eg/BZYzVwba97cCsHWnBeMRAwLG5MEBvNj3AFTlLv7O6DkEdSclAB9PCQS2/gkAN1JvBbmSCQXZAssAMn+5BpC1YQeaEocHzkhBCWaNCQVDF9jzEIkrB2jMQQpZU9UDmxCFCXkucwSTZuMHzLTPBtnIOQuX90EHYIBHCg7Z0wavs1sGuCx/CxEA2wHrtxcDQHCzCWfRTwMb0o0CKPgtBezT3wQJq/UFhYm1BLJhqQRxLD0HSF9XA+mt1QWcoq0GbjjlBooi4wQ80DkHjSB3BhPbVQUIF4EGuAMBBomKKwTMnFUJ097DBxgklQk6KpUFITRhBTxSmv4BWr0EJsALCuIEwQT8kgEFxYJdBI6NfwYaIwkE1OMtAeaeGQYntDsHjUO1ByCINQthIgcDPcbhB8uraQdX1IcLUoynB6J1hwOZTe0EE2/VAENeVwdWyXEHHAXfBEZFowW90r8BqZZlBMDW0wT4MpsHoExhBiJWLQZSCnkBEq3vA1SKfwbORBcLTp0HC9tKnwchjTkHetKnAEW00wvoRpkH1Zw1C/cLLQUfl1EEEm/Q/QlGHQO04OEFEQHzBjN3oQVnylMGkda0/cYoUwgSosUEuPnhAntruQJ955UCt2bVBk364wPJzMUDzwLNB7Z1KwSuQjMD4NYE+EGeAQUsCoEEHWp5B9a7owcuKOcKJTsfBblEdQlg6VT//mjLBYZ9bQG2V6sEufzxBbOAvQQnIukFLaOtAUm2rQHx/cEG6hS7CPGYcwF9WQkHzHRNA5yQFvmRrwMF6BlXBu8qjwcs9w0F5FUvACCGBQM3IdMHp3efB/WDBwabbmMFIle5B+tujQUEDLEKCBcfB0BsJQd3P88FfXYFBA/0EwoeQgMHcszLCu7kQQu7oi8FiawJAW0oWwlErSEF8bq1BvgqawMsfHMHmrzvAGzcTQQf3gsGE5YZBDBkVQYMor0A+T8O/MpCxwB9YzkFscvfBikDiwBZqBMJu8q3Al/wswdmF6MF7dYZBNSTiQIutNUFqUafBAbQZwXQ3gkDBDTLCgx8LQBBNVMAIsztBQfvwQdU+BULshgfCV8YOQT6m3MH20ArBuQgfwoVnV0Ad9urBoP+kQO4iC8LiWqVB663NwaJIFsIe/Y1BGBI6QZc7pkGq+TxBKBzFwf1aSb6knBxBRXLbwSiNz0DwtvbBDHXNQfcLGMA3xRtBUrkZQjwFtcFv7tDAUhx/wXCJvEGfDRdBc2vPv3vSOMISuOBBokQ0QGbD0z4LvVVBdqjFwXssjECzvZlBJ/VJQbzO28HdqAY+lSamPuWtCULmCprBv2aCwK8HssAcUjtBl/vvv7W1I8G4jZBA1v/hQXEIs8EDaNbAQEMUwELdi0HRsA7CqdXuQdDQWUEYWwPC/KD3vxTHykEz+wVBUPzqwRonC0IbU65BmeNRQTCNM8CVF5FBUpCcwdj93MFMKeDAdtAewQOAZMFOY+rBoZ+VQXClNb8OobxAME7Qwc6h98HoHiRCwGv6wQet5MHS5zhBjI8LvzGTd8Fg1C7BfvOOwcEyxkDJMeHArtqPwfUGa0F0ap1BMD1OQc5DrMHVJOvAnAgGQsSkVEGrhhdB9xG9wQ60X0ALNdHAYeL9QXXsn8E7i5tBU2S6wTMmLMIUQmDBoP8cwaaHk8FokPBA+uaaQbBNUMHmPCNCMlpbQAH5nsGDFP7BEm60QVtl7j9Ixk9B2dW1weA1yEFLzBnB5VSFwXjkWMG9cQXCv8jZwcU7uMHNpAbBi5ASwSW/rMEgHj9BM5/XPyx70sEbHcDBm1u9QYGbKEF/GSxCTVizwfK6rcB+nJnBVOSNv+emDkF8UObBGSAUwld5acG5vsDBTC+TwBAD9UF+94ZBLDsQQULxCULNOy/BxguGQZ6PrcBy+vzBuuu5war/rkFsjirBH02XQfWh2UBglNdB+cE+QcvCt8FJIgvC24iIQPWLt8FS3QNCReiTQF8mgEE+6NdBEUitwU9OG8CGRNTAoceZv6yHEEL27B8+2X86Qa4zDMLDcqPAVc8wwV6prMGRHG1B2P3AwQnkg0H69rfB1br6P2xN3MBp2OTA3a/nwQSuQMDK9uXA0Bvyv0dszsBi6p3Bi+atwZscqkHXpQtB983RQPDcqEFmx8DBWD7CQd9ynUFjLuHAR6pLwQkSSMFUQoNBi0VXQFfNiD9CWMlAVcoDQH8M6sDNSJTBOBYtwa06d0FEPP3B1UiYwU47xMHwDw3AnXLLwCwTd0ElihbAxC+XwHEO78EFvTTBCszGQYDFjMBUVV3Bq8ahQRjo8sHnpfXB8RjPQcNgXEEhTAJC5p4Rwah+0MDwEZnBQgaePrWgy0HGJHrBqKaPQX13QkAKpMvBZlewQZl8YkDYyyzCZ1M+wJE5k0Gx2ODA4+VLQbD7tMGP82JBvYcoQbg/H8GS7TTC+pkpQnxRi75GPM5AMn+DQeli6ECd4Z5B6/DPQI/Hj8FEB7rBfVAYQh1TOkHdy4+/MfIGQoyTEMKvbifCplLHv4ZkZkHc0bDBdpzaQVWkC0Je9gBBxIiCwTBSjsHF//bBRzoIwvBSCcF8c5zBOttwQQsFr0CnGqbAuZ0IwblnncEbgtPAvpi3wbcy8UEwwiVBLB+eQEUR6cAofAHCopCFP55aUEElFbXBGc0pQTyiz8GgU9TBYinwQJRgr8E/67nBOiXiQbuOvj93ogBCzcHVQWfvNsLSHARBtiipQdopGUK6A9LBhP2QwP1+9sDrHcrA1QVewN4PJcLn84JBOvsBQg==\",\"dtype\":\"float32\",\"shape\":[1000]}}},\"id\":\"f3b6395e-78cd-49b7-ac02-97ee78882326\",\"type\":\"ColumnDataSource\"},{\"attributes\":{},\"id\":\"4c982086-ff28-4d48-b58d-67df11617c7a\",\"type\":\"PanTool\"},{\"attributes\":{\"plot\":null,\"text\":\"fasttext T-SNE for most common words\"},\"id\":\"37081932-0bb0-4beb-9a9e-fbeb9113d13e\",\"type\":\"Title\"},{\"attributes\":{\"formatter\":{\"id\":\"7b6cd174-c1da-49eb-b0f9-fe27bca77126\",\"type\":\"BasicTickFormatter\"},\"plot\":{\"id\":\"a6562a8a-d058-4d2c-b0e1-fc2764b9a182\",\"subtype\":\"Figure\",\"type\":\"Plot\"},\"ticker\":{\"id\":\"663d6e9f-783c-4183-a177-de9bbcf8bbd0\",\"type\":\"BasicTicker\"}},\"id\":\"7dc517ae-486f-4dd4-8dd5-dc1f6173ada6\",\"type\":\"LinearAxis\"},{\"attributes\":{\"callback\":null},\"id\":\"6d6f06f8-68dd-4d1b-9f88-acf64df772f0\",\"type\":\"DataRange1d\"},{\"attributes\":{\"active_drag\":\"auto\",\"active_inspect\":\"auto\",\"active_scroll\":\"auto\",\"active_tap\":\"auto\",\"tools\":[{\"id\":\"4c982086-ff28-4d48-b58d-67df11617c7a\",\"type\":\"PanTool\"},{\"id\":\"4437686f-b9da-417b-86fa-a794b1eeb3e0\",\"type\":\"WheelZoomTool\"},{\"id\":\"4b84ff85-20fa-4fb6-a984-4917890780ad\",\"type\":\"ResetTool\"},{\"id\":\"c799a548-aa48-46a6-a102-f3403db42687\",\"type\":\"SaveTool\"}]},\"id\":\"774c829e-0783-4b13-8615-aa2c5a668805\",\"type\":\"Toolbar\"},{\"attributes\":{\"data_source\":{\"id\":\"f3b6395e-78cd-49b7-ac02-97ee78882326\",\"type\":\"ColumnDataSource\"},\"glyph\":{\"id\":\"7fd3657f-890c-4fed-bcb0-17d47cd1a9dd\",\"type\":\"Circle\"},\"hover_glyph\":null,\"muted_glyph\":null,\"nonselection_glyph\":{\"id\":\"763badba-9c6e-4972-9f49-bab7fa77048e\",\"type\":\"Circle\"},\"selection_glyph\":null,\"view\":{\"id\":\"51a9d915-fe1b-4b04-93d3-d8f237c8445c\",\"type\":\"CDSView\"}},\"id\":\"a8ec7cc3-34fc-44e3-9d92-9e2ed19998c2\",\"type\":\"GlyphRenderer\"},{\"attributes\":{},\"id\":\"40d803c5-98c2-49eb-8c0f-418b1ec7c2ea\",\"type\":\"BasicTicker\"},{\"attributes\":{\"source\":{\"id\":\"f3b6395e-78cd-49b7-ac02-97ee78882326\",\"type\":\"ColumnDataSource\"}},\"id\":\"51a9d915-fe1b-4b04-93d3-d8f237c8445c\",\"type\":\"CDSView\"},{\"attributes\":{},\"id\":\"05759a56-6d79-4973-b97f-3215b1b2fbb3\",\"type\":\"LinearScale\"},{\"attributes\":{\"callback\":null},\"id\":\"e9110759-bced-45dc-bad7-060de2654d49\",\"type\":\"DataRange1d\"},{\"attributes\":{},\"id\":\"7b6de32b-d8cd-43e0-a8c9-767e42776eff\",\"type\":\"LinearScale\"},{\"attributes\":{},\"id\":\"7b6cd174-c1da-49eb-b0f9-fe27bca77126\",\"type\":\"BasicTickFormatter\"},{\"attributes\":{},\"id\":\"4b84ff85-20fa-4fb6-a984-4917890780ad\",\"type\":\"ResetTool\"},{\"attributes\":{\"formatter\":{\"id\":\"2219c9ad-1839-4580-ad65-64bda8a1deb3\",\"type\":\"BasicTickFormatter\"},\"plot\":{\"id\":\"a6562a8a-d058-4d2c-b0e1-fc2764b9a182\",\"subtype\":\"Figure\",\"type\":\"Plot\"},\"ticker\":{\"id\":\"40d803c5-98c2-49eb-8c0f-418b1ec7c2ea\",\"type\":\"BasicTicker\"}},\"id\":\"d11d7d7a-1395-4faf-9ec4-42bd9e18d403\",\"type\":\"LinearAxis\"}],\"root_ids\":[\"a6562a8a-d058-4d2c-b0e1-fc2764b9a182\"]},\"title\":\"Bokeh Application\",\"version\":\"0.12.10\"}};\n",
       "    var render_items = [{\"docid\":\"cad659bf-8d4b-42ce-8683-a1ec96fd53fa\",\"elementid\":\"5592727a-0ba6-47ae-987b-7b1a01b000b2\",\"modelid\":\"a6562a8a-d058-4d2c-b0e1-fc2764b9a182\"}];\n",
       "\n",
       "    root.Bokeh.embed.embed_items(docs_json, render_items);\n",
       "  }\n",
       "\n",
       "  if (root.Bokeh !== undefined) {\n",
       "    embed_document(root);\n",
       "  } else {\n",
       "    var attempts = 0;\n",
       "    var timer = setInterval(function(root) {\n",
       "      if (root.Bokeh !== undefined) {\n",
       "        embed_document(root);\n",
       "        clearInterval(timer);\n",
       "      }\n",
       "      attempts++;\n",
       "      if (attempts > 100) {\n",
       "        console.log(\"Bokeh: ERROR: Unable to embed document because BokehJS library is missing\")\n",
       "        clearInterval(timer);\n",
       "      }\n",
       "    }, 10, root)\n",
       "  }\n",
       "})(window);"
      ],
      "application/vnd.bokehjs_exec.v0+json": ""
     },
     "metadata": {
      "application/vnd.bokehjs_exec.v0+json": {
       "id": "a6562a8a-d058-4d2c-b0e1-fc2764b9a182"
      }
     },
     "output_type": "display_data"
    }
   ],
   "source": [
    "p = figure(tools=\"pan,wheel_zoom,reset,save\",\n",
    "           toolbar_location=\"above\",\n",
    "           title=\"fasttext T-SNE for most common words\",\n",
    "           plot_width=900, \n",
    "           plot_height=900)\n",
    "\n",
    "source = ColumnDataSource(data=dict(x1=embed_tsne[:,0],\n",
    "                                    x2=embed_tsne[:,1],\n",
    "                                    names=vocabulario))\n",
    "\n",
    "p.scatter(x=\"x1\", y=\"x2\", size=8, source=source)\n",
    "\n",
    "labels = LabelSet(x=\"x1\", y=\"x2\", text=\"names\", y_offset=6,\n",
    "                  text_font_size=\"8pt\", text_color=\"#555555\",\n",
    "                  source=source, text_align='center')\n",
    "p.add_layout(labels)\n",
    "\n",
    "show(p)"
   ]
  },
  {
   "cell_type": "markdown",
   "metadata": {
    "collapsed": true
   },
   "source": [
    "## Conclusões do estudo com modelo FastText\n",
    "\n",
    "- Conforme anteriormente descrito no trabalho da USP (Hartman et al), o modelo fastText, por sua premissa de utilização de n-grams, apresenta melhores resultados quando considerados os aspectos sintáticos das palavras. Nota-se que operações de similaridade foram capazes de retornar resultados mesmo quando a palavra em questão não existe no vocabulário (reservatorio reservatório, reervatorio). Porém, parte em função da qualidade do corpus, parte em função da natureza do algoritmo, diversas outras palavras com formato de grafia próximo foram retornadas (porém sem relevância no aspecto semântico).\n",
    "- \"*On average, GloVe was the best model for both Portuguese variants. The model which best performed on syntactic analogies was FastText, followed by Wang2Vec. This makes sense since FastText is a morphological model, and Wang2Vec uses word order, which provides some minimal syntactic knowledge. In semantic analogies, the model which best performed was GloVe, followed by Wang2Vec. GloVe is known for modeling semantic information well. Wang2Vec potentially captures semantics because it uses word order.\"* (Hartman et al, 2016)\n",
    "- Recomenda-se, portanto, realizar testes com a geração de embeddings usando o GloVe (Stanford)\n",
    "- Observa-se no grafico (plotado com tSNE) a ocorrência de diversos termos pouco relevantes semanticamente. Ou seja, no caso onde o aspecto semântico seja mais relevante, o fastText pode não ser o algoritmo mais indicado."
   ]
  },
  {
   "cell_type": "code",
   "execution_count": null,
   "metadata": {
    "collapsed": true
   },
   "outputs": [],
   "source": []
  }
 ],
 "metadata": {
  "kernelspec": {
   "display_name": "Python 3",
   "language": "python",
   "name": "python3"
  },
  "language_info": {
   "codemirror_mode": {
    "name": "ipython",
    "version": 3
   },
   "file_extension": ".py",
   "mimetype": "text/x-python",
   "name": "python",
   "nbconvert_exporter": "python",
   "pygments_lexer": "ipython3",
   "version": "3.6.3"
  }
 },
 "nbformat": 4,
 "nbformat_minor": 2
}
